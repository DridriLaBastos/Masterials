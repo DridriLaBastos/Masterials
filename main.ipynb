{
 "metadata": {
  "language_info": {
   "codemirror_mode": {
    "name": "ipython",
    "version": 3
   },
   "file_extension": ".py",
   "mimetype": "text/x-python",
   "name": "python",
   "nbconvert_exporter": "python",
   "pygments_lexer": "ipython3",
   "version": "3.8.5-final"
  },
  "orig_nbformat": 2,
  "kernelspec": {
   "name": "python3",
   "display_name": "Python 3"
  }
 },
 "nbformat": 4,
 "nbformat_minor": 2,
 "cells": [
  {
   "cell_type": "code",
   "execution_count": 1,
   "metadata": {},
   "outputs": [],
   "source": [
    "import pandas as pd"
   ]
  },
  {
   "cell_type": "code",
   "execution_count": 45,
   "metadata": {},
   "outputs": [
    {
     "output_type": "error",
     "ename": "TypeError",
     "evalue": "read_csv() got an unexpected keyword argument 'parse_numeric'",
     "traceback": [
      "\u001b[0;31m---------------------------------------------------------------------------\u001b[0m",
      "\u001b[0;31mTypeError\u001b[0m                                 Traceback (most recent call last)",
      "\u001b[0;32m<ipython-input-45-52ca13763c0f>\u001b[0m in \u001b[0;36m<module>\u001b[0;34m\u001b[0m\n\u001b[1;32m      1\u001b[0m \u001b[0;31m#Getting data and parsing the dates\u001b[0m\u001b[0;34m\u001b[0m\u001b[0;34m\u001b[0m\u001b[0;34m\u001b[0m\u001b[0m\n\u001b[0;32m----> 2\u001b[0;31m \u001b[0mdf\u001b[0m \u001b[0;34m=\u001b[0m \u001b[0mpd\u001b[0m\u001b[0;34m.\u001b[0m\u001b[0mread_csv\u001b[0m\u001b[0;34m(\u001b[0m\u001b[0;34m'PatientsHTA.csv'\u001b[0m\u001b[0;34m,\u001b[0m\u001b[0mengine\u001b[0m\u001b[0;34m=\u001b[0m\u001b[0;34m'c'\u001b[0m\u001b[0;34m,\u001b[0m\u001b[0msep\u001b[0m\u001b[0;34m=\u001b[0m\u001b[0;34m';'\u001b[0m\u001b[0;34m,\u001b[0m\u001b[0mnrows\u001b[0m\u001b[0;34m=\u001b[0m\u001b[0;36m1000\u001b[0m\u001b[0;34m,\u001b[0m\u001b[0mskipinitialspace\u001b[0m\u001b[0;34m=\u001b[0m\u001b[0;32mTrue\u001b[0m\u001b[0;34m,\u001b[0m\u001b[0mparse_dates\u001b[0m\u001b[0;34m=\u001b[0m\u001b[0;34m[\u001b[0m\u001b[0;34m'contact_date'\u001b[0m\u001b[0;34m,\u001b[0m\u001b[0;34m'Glycemie_der_date'\u001b[0m\u001b[0;34m,\u001b[0m\u001b[0;34m'HbA1c_der_date'\u001b[0m\u001b[0;34m,\u001b[0m\u001b[0;34m'der_date_poids'\u001b[0m\u001b[0;34m,\u001b[0m\u001b[0;34m'der_date_taille'\u001b[0m\u001b[0;34m,\u001b[0m\u001b[0;34m'first_contact_date'\u001b[0m\u001b[0;34m]\u001b[0m\u001b[0;34m,\u001b[0m\u001b[0mparse_numeric\u001b[0m\u001b[0;34m=\u001b[0m\u001b[0;34m[\u001b[0m\u001b[0;34m[\u001b[0m\u001b[0;36m0\u001b[0m\u001b[0;34m]\u001b[0m\u001b[0;34m]\u001b[0m\u001b[0;34m)\u001b[0m\u001b[0;34m\u001b[0m\u001b[0;34m\u001b[0m\u001b[0m\n\u001b[0m\u001b[1;32m      3\u001b[0m \u001b[0;34m\u001b[0m\u001b[0m\n\u001b[1;32m      4\u001b[0m \u001b[0mnonNumCols\u001b[0m \u001b[0;34m=\u001b[0m \u001b[0mdf\u001b[0m\u001b[0;34m.\u001b[0m\u001b[0mcolumns\u001b[0m\u001b[0;34m[\u001b[0m\u001b[0mdf\u001b[0m\u001b[0;34m.\u001b[0m\u001b[0mdtypes\u001b[0m \u001b[0;34m==\u001b[0m \u001b[0mobject\u001b[0m\u001b[0;34m]\u001b[0m\u001b[0;34m\u001b[0m\u001b[0;34m\u001b[0m\u001b[0m\n\u001b[1;32m      5\u001b[0m \u001b[0mprint\u001b[0m\u001b[0;34m(\u001b[0m\u001b[0mnonNumCols\u001b[0m\u001b[0;34m.\u001b[0m\u001b[0mshape\u001b[0m\u001b[0;34m)\u001b[0m\u001b[0;34m\u001b[0m\u001b[0;34m\u001b[0m\u001b[0m\n",
      "\u001b[0;31mTypeError\u001b[0m: read_csv() got an unexpected keyword argument 'parse_numeric'"
     ]
    }
   ],
   "source": [
    "#Getting data and parsing the dates\n",
    "df = pd.read_csv('PatientsHTA.csv',engine='c',sep=';',nrows=1000,skipinitialspace=True,parse_dates=['contact_date','Glycemie_der_date','HbA1c_der_date','der_date_poids','der_date_taille','first_contact_date'])\n",
    "\n",
    "nonNumCols = df.columns[df.dtypes == object]\n",
    "print(nonNumCols.shape)\n",
    "df[nonNumCols].transform(pd.to_numeric,errors='coerce')\n",
    "nonNumCols = df.columns[df.\n",
    "dtypes == object]\n",
    "print(nonNumCols.shape)"
   ]
  },
  {
   "cell_type": "code",
   "execution_count": 41,
   "metadata": {},
   "outputs": [
    {
     "output_type": "execute_result",
     "data": {
      "text/plain": [
       "person_id                                    int64\n",
       "specialty_label                             object\n",
       "contact_date                        datetime64[ns]\n",
       "contact_id                                   int64\n",
       "cip                                         object\n",
       "molecule_label                              object\n",
       "short_name                                  object\n",
       "long_name                                   object\n",
       "Classe                                      object\n",
       "dosage_1                                    object\n",
       "dose_1                                       int64\n",
       "dose_2                                       int64\n",
       "product_atc_code                            object\n",
       "product_atc                                 object\n",
       "box                                        float64\n",
       "quantity                                    object\n",
       "frequency_label                             object\n",
       "duration                                   float64\n",
       "Traitement_Autres_A10_dep_201701            object\n",
       "Traitement_Insulines_dep_201701             object\n",
       "Pulse                                        int64\n",
       "Tension Diastolique                          int64\n",
       "Tension Systolique                           int64\n",
       "Glycemie_prescription                       object\n",
       "Glycemie_der_date                   datetime64[ns]\n",
       "Glycemie_der_mesure                         object\n",
       "HbA1c_prescription                          object\n",
       "HbA1c_der_date                      datetime64[ns]\n",
       "HbA1c_der_mesure                            object\n",
       "gender_code                                 object\n",
       "Age_presc                                  float64\n",
       "Age_now                                    float64\n",
       "year_of_birth                                int64\n",
       "Poids                                       object\n",
       "der_date_poids                      datetime64[ns]\n",
       "Taille                                      object\n",
       "der_date_taille                     datetime64[ns]\n",
       "first_contact_date                  datetime64[ns]\n",
       "dtype: object"
      ]
     },
     "metadata": {},
     "execution_count": 41
    }
   ],
   "source": [
    "\n",
    "df.dtypes"
   ]
  },
  {
   "cell_type": "code",
   "execution_count": null,
   "metadata": {},
   "outputs": [],
   "source": []
  }
 ]
}