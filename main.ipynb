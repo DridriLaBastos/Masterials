{
 "metadata": {
  "language_info": {
   "codemirror_mode": {
    "name": "ipython",
    "version": 3
   },
   "file_extension": ".py",
   "mimetype": "text/x-python",
   "name": "python",
   "nbconvert_exporter": "python",
   "pygments_lexer": "ipython3",
   "version": "3.8.6-final"
  },
  "orig_nbformat": 2,
  "kernelspec": {
   "name": "python3",
   "display_name": "Python 3"
  }
 },
 "nbformat": 4,
 "nbformat_minor": 2,
 "cells": [
  {
   "cell_type": "code",
   "execution_count": 1,
   "metadata": {},
   "outputs": [],
   "source": [
    "import pandas as pd\n",
    "\n",
    "from matplotlib import pyplot as plt"
   ]
  },
  {
   "cell_type": "code",
   "execution_count": 2,
   "metadata": {},
   "outputs": [],
   "source": [
    "dateColumnNames = ['contact_date','Glycemie_der_date','HbA1c_der_date','der_date_poids','der_date_taille','first_contact_date']"
   ]
  },
  {
   "cell_type": "code",
   "execution_count": 3,
   "metadata": {},
   "outputs": [],
   "source": [
    "dfView = pd.read_csv('PatientsHTA.zip',nrows=1)\n",
    "df = pd.read_csv('PatientsHTA.zip',engine='c',parse_dates=dateColumnNames)"
   ]
  },
  {
   "source": [
    "# Recherche de colonnes à enlever"
   ],
   "cell_type": "markdown",
   "metadata": {}
  },
  {
   "cell_type": "code",
   "execution_count": 4,
   "metadata": {},
   "outputs": [],
   "source": [
    "dropColumnNames = ['person_id','contact_id']"
   ]
  },
  {
   "source": [
    "## Recherche dans les noms de médicament"
   ],
   "cell_type": "markdown",
   "metadata": {}
  },
  {
   "cell_type": "code",
   "execution_count": 5,
   "metadata": {},
   "outputs": [
    {
     "output_type": "execute_result",
     "data": {
      "text/plain": [
       "                                             short_name  long_name  Classe  \\\n",
       "molecule_label                                                               \n",
       "Acébutolol                                           59         59      59   \n",
       "Aliskiren                                           131        131     131   \n",
       "Aliskiren + Hydrochlorothiazide                     302        302     302   \n",
       "Amlodipine                                         1018       1018    1018   \n",
       "Aténolol                                           8724       8724    8724   \n",
       "Aténolol + Chlortalidone                             10         10      10   \n",
       "Bisoprolol                                         9487       9487    9487   \n",
       "Bosentan                                              3          3       3   \n",
       "Bénazépril                                            1          1       1   \n",
       "Candésartan cilexetil                              1848       1848    1848   \n",
       "Candésartan cilexetil + Hydrochlorothiazide           1          1       1   \n",
       "Ciclétanine                                        1101       1101    1101   \n",
       "Clonidine                                             4          4       4   \n",
       "Diltiazem                                           183        183     183   \n",
       "Enalapril                                            99         99      99   \n",
       "Enalapril + Hydrochlorothiazide                      17         17      17   \n",
       "Eplérénone                                           33         33      33   \n",
       "Fosinopril                                            2          2       2   \n",
       "Furosémide                                         1426       1426    1426   \n",
       "Irbésartan                                         1027       1027    1027   \n",
       "Irbésartan + Hydrochlorothiazide                    926        926     926   \n",
       "Lisinopril                                           80         80      80   \n",
       "Losartan                                            359        359     359   \n",
       "Losartan + Hydrochlorothiazide                      774        774     774   \n",
       "Nimodipine                                            1          1       1   \n",
       "Nitrendipine                                          3          3       3   \n",
       "Nébivolol                                           601        601     601   \n",
       "Propranolol                                           7          7       7   \n",
       "Périndopril                                        2029       2029    2029   \n",
       "Périndopril + Indapamide                           1249       1249    1249   \n",
       "Quinapril                                            26         26      26   \n",
       "Ramipril                                            359        359     359   \n",
       "Rilménidine                                        5700       5700    5700   \n",
       "Spironolactone                                      290        290     290   \n",
       "Spironolactone + Altizide                           111        111     111   \n",
       "Spironolactone + Furosémide                          14         14      14   \n",
       "Telmisartan                                         192        192     192   \n",
       "Telmisartan + Amlodipine                           6598       6598    6598   \n",
       "Valsartan                                          3610       3610    3610   \n",
       "Valsartan + Hydrochlorothiazide                    2226       2226    2226   \n",
       "\n",
       "                                             product_atc_code  product_atc  \n",
       "molecule_label                                                              \n",
       "Acébutolol                                                 59           59  \n",
       "Aliskiren                                                 131          131  \n",
       "Aliskiren + Hydrochlorothiazide                           302          302  \n",
       "Amlodipine                                               1018         1018  \n",
       "Aténolol                                                 8724         8724  \n",
       "Aténolol + Chlortalidone                                   10           10  \n",
       "Bisoprolol                                               9487         9487  \n",
       "Bosentan                                                    3            3  \n",
       "Bénazépril                                                  1            1  \n",
       "Candésartan cilexetil                                    1848         1848  \n",
       "Candésartan cilexetil + Hydrochlorothiazide                 1            1  \n",
       "Ciclétanine                                              1101         1101  \n",
       "Clonidine                                                   4            4  \n",
       "Diltiazem                                                 183          183  \n",
       "Enalapril                                                  99           99  \n",
       "Enalapril + Hydrochlorothiazide                            17           17  \n",
       "Eplérénone                                                 33           33  \n",
       "Fosinopril                                                  2            2  \n",
       "Furosémide                                               1426         1426  \n",
       "Irbésartan                                               1027         1027  \n",
       "Irbésartan + Hydrochlorothiazide                          926          926  \n",
       "Lisinopril                                                 80           80  \n",
       "Losartan                                                  359          359  \n",
       "Losartan + Hydrochlorothiazide                            774          774  \n",
       "Nimodipine                                                  1            1  \n",
       "Nitrendipine                                                3            3  \n",
       "Nébivolol                                                 601          601  \n",
       "Propranolol                                                 7            7  \n",
       "Périndopril                                              2029         2029  \n",
       "Périndopril + Indapamide                                 1249         1249  \n",
       "Quinapril                                                  26           26  \n",
       "Ramipril                                                  359          359  \n",
       "Rilménidine                                              5700         5700  \n",
       "Spironolactone                                            290          290  \n",
       "Spironolactone + Altizide                                 111          111  \n",
       "Spironolactone + Furosémide                                14           14  \n",
       "Telmisartan                                               192          192  \n",
       "Telmisartan + Amlodipine                                 6598         6598  \n",
       "Valsartan                                                3610         3610  \n",
       "Valsartan + Hydrochlorothiazide                          2226         2226  "
      ],
      "text/html": "<div>\n<style scoped>\n    .dataframe tbody tr th:only-of-type {\n        vertical-align: middle;\n    }\n\n    .dataframe tbody tr th {\n        vertical-align: top;\n    }\n\n    .dataframe thead th {\n        text-align: right;\n    }\n</style>\n<table border=\"1\" class=\"dataframe\">\n  <thead>\n    <tr style=\"text-align: right;\">\n      <th></th>\n      <th>short_name</th>\n      <th>long_name</th>\n      <th>Classe</th>\n      <th>product_atc_code</th>\n      <th>product_atc</th>\n    </tr>\n    <tr>\n      <th>molecule_label</th>\n      <th></th>\n      <th></th>\n      <th></th>\n      <th></th>\n      <th></th>\n    </tr>\n  </thead>\n  <tbody>\n    <tr>\n      <th>Acébutolol</th>\n      <td>59</td>\n      <td>59</td>\n      <td>59</td>\n      <td>59</td>\n      <td>59</td>\n    </tr>\n    <tr>\n      <th>Aliskiren</th>\n      <td>131</td>\n      <td>131</td>\n      <td>131</td>\n      <td>131</td>\n      <td>131</td>\n    </tr>\n    <tr>\n      <th>Aliskiren + Hydrochlorothiazide</th>\n      <td>302</td>\n      <td>302</td>\n      <td>302</td>\n      <td>302</td>\n      <td>302</td>\n    </tr>\n    <tr>\n      <th>Amlodipine</th>\n      <td>1018</td>\n      <td>1018</td>\n      <td>1018</td>\n      <td>1018</td>\n      <td>1018</td>\n    </tr>\n    <tr>\n      <th>Aténolol</th>\n      <td>8724</td>\n      <td>8724</td>\n      <td>8724</td>\n      <td>8724</td>\n      <td>8724</td>\n    </tr>\n    <tr>\n      <th>Aténolol + Chlortalidone</th>\n      <td>10</td>\n      <td>10</td>\n      <td>10</td>\n      <td>10</td>\n      <td>10</td>\n    </tr>\n    <tr>\n      <th>Bisoprolol</th>\n      <td>9487</td>\n      <td>9487</td>\n      <td>9487</td>\n      <td>9487</td>\n      <td>9487</td>\n    </tr>\n    <tr>\n      <th>Bosentan</th>\n      <td>3</td>\n      <td>3</td>\n      <td>3</td>\n      <td>3</td>\n      <td>3</td>\n    </tr>\n    <tr>\n      <th>Bénazépril</th>\n      <td>1</td>\n      <td>1</td>\n      <td>1</td>\n      <td>1</td>\n      <td>1</td>\n    </tr>\n    <tr>\n      <th>Candésartan cilexetil</th>\n      <td>1848</td>\n      <td>1848</td>\n      <td>1848</td>\n      <td>1848</td>\n      <td>1848</td>\n    </tr>\n    <tr>\n      <th>Candésartan cilexetil + Hydrochlorothiazide</th>\n      <td>1</td>\n      <td>1</td>\n      <td>1</td>\n      <td>1</td>\n      <td>1</td>\n    </tr>\n    <tr>\n      <th>Ciclétanine</th>\n      <td>1101</td>\n      <td>1101</td>\n      <td>1101</td>\n      <td>1101</td>\n      <td>1101</td>\n    </tr>\n    <tr>\n      <th>Clonidine</th>\n      <td>4</td>\n      <td>4</td>\n      <td>4</td>\n      <td>4</td>\n      <td>4</td>\n    </tr>\n    <tr>\n      <th>Diltiazem</th>\n      <td>183</td>\n      <td>183</td>\n      <td>183</td>\n      <td>183</td>\n      <td>183</td>\n    </tr>\n    <tr>\n      <th>Enalapril</th>\n      <td>99</td>\n      <td>99</td>\n      <td>99</td>\n      <td>99</td>\n      <td>99</td>\n    </tr>\n    <tr>\n      <th>Enalapril + Hydrochlorothiazide</th>\n      <td>17</td>\n      <td>17</td>\n      <td>17</td>\n      <td>17</td>\n      <td>17</td>\n    </tr>\n    <tr>\n      <th>Eplérénone</th>\n      <td>33</td>\n      <td>33</td>\n      <td>33</td>\n      <td>33</td>\n      <td>33</td>\n    </tr>\n    <tr>\n      <th>Fosinopril</th>\n      <td>2</td>\n      <td>2</td>\n      <td>2</td>\n      <td>2</td>\n      <td>2</td>\n    </tr>\n    <tr>\n      <th>Furosémide</th>\n      <td>1426</td>\n      <td>1426</td>\n      <td>1426</td>\n      <td>1426</td>\n      <td>1426</td>\n    </tr>\n    <tr>\n      <th>Irbésartan</th>\n      <td>1027</td>\n      <td>1027</td>\n      <td>1027</td>\n      <td>1027</td>\n      <td>1027</td>\n    </tr>\n    <tr>\n      <th>Irbésartan + Hydrochlorothiazide</th>\n      <td>926</td>\n      <td>926</td>\n      <td>926</td>\n      <td>926</td>\n      <td>926</td>\n    </tr>\n    <tr>\n      <th>Lisinopril</th>\n      <td>80</td>\n      <td>80</td>\n      <td>80</td>\n      <td>80</td>\n      <td>80</td>\n    </tr>\n    <tr>\n      <th>Losartan</th>\n      <td>359</td>\n      <td>359</td>\n      <td>359</td>\n      <td>359</td>\n      <td>359</td>\n    </tr>\n    <tr>\n      <th>Losartan + Hydrochlorothiazide</th>\n      <td>774</td>\n      <td>774</td>\n      <td>774</td>\n      <td>774</td>\n      <td>774</td>\n    </tr>\n    <tr>\n      <th>Nimodipine</th>\n      <td>1</td>\n      <td>1</td>\n      <td>1</td>\n      <td>1</td>\n      <td>1</td>\n    </tr>\n    <tr>\n      <th>Nitrendipine</th>\n      <td>3</td>\n      <td>3</td>\n      <td>3</td>\n      <td>3</td>\n      <td>3</td>\n    </tr>\n    <tr>\n      <th>Nébivolol</th>\n      <td>601</td>\n      <td>601</td>\n      <td>601</td>\n      <td>601</td>\n      <td>601</td>\n    </tr>\n    <tr>\n      <th>Propranolol</th>\n      <td>7</td>\n      <td>7</td>\n      <td>7</td>\n      <td>7</td>\n      <td>7</td>\n    </tr>\n    <tr>\n      <th>Périndopril</th>\n      <td>2029</td>\n      <td>2029</td>\n      <td>2029</td>\n      <td>2029</td>\n      <td>2029</td>\n    </tr>\n    <tr>\n      <th>Périndopril + Indapamide</th>\n      <td>1249</td>\n      <td>1249</td>\n      <td>1249</td>\n      <td>1249</td>\n      <td>1249</td>\n    </tr>\n    <tr>\n      <th>Quinapril</th>\n      <td>26</td>\n      <td>26</td>\n      <td>26</td>\n      <td>26</td>\n      <td>26</td>\n    </tr>\n    <tr>\n      <th>Ramipril</th>\n      <td>359</td>\n      <td>359</td>\n      <td>359</td>\n      <td>359</td>\n      <td>359</td>\n    </tr>\n    <tr>\n      <th>Rilménidine</th>\n      <td>5700</td>\n      <td>5700</td>\n      <td>5700</td>\n      <td>5700</td>\n      <td>5700</td>\n    </tr>\n    <tr>\n      <th>Spironolactone</th>\n      <td>290</td>\n      <td>290</td>\n      <td>290</td>\n      <td>290</td>\n      <td>290</td>\n    </tr>\n    <tr>\n      <th>Spironolactone + Altizide</th>\n      <td>111</td>\n      <td>111</td>\n      <td>111</td>\n      <td>111</td>\n      <td>111</td>\n    </tr>\n    <tr>\n      <th>Spironolactone + Furosémide</th>\n      <td>14</td>\n      <td>14</td>\n      <td>14</td>\n      <td>14</td>\n      <td>14</td>\n    </tr>\n    <tr>\n      <th>Telmisartan</th>\n      <td>192</td>\n      <td>192</td>\n      <td>192</td>\n      <td>192</td>\n      <td>192</td>\n    </tr>\n    <tr>\n      <th>Telmisartan + Amlodipine</th>\n      <td>6598</td>\n      <td>6598</td>\n      <td>6598</td>\n      <td>6598</td>\n      <td>6598</td>\n    </tr>\n    <tr>\n      <th>Valsartan</th>\n      <td>3610</td>\n      <td>3610</td>\n      <td>3610</td>\n      <td>3610</td>\n      <td>3610</td>\n    </tr>\n    <tr>\n      <th>Valsartan + Hydrochlorothiazide</th>\n      <td>2226</td>\n      <td>2226</td>\n      <td>2226</td>\n      <td>2226</td>\n      <td>2226</td>\n    </tr>\n  </tbody>\n</table>\n</div>"
     },
     "metadata": {},
     "execution_count": 5
    }
   ],
   "source": [
    "dfGroupedByMoleculeLabel = df.groupby('molecule_label')[['short_name','long_name','Classe','product_atc_code','product_atc']].count()\n",
    "dfGroupedByMoleculeLabel\n"
   ]
  },
  {
   "source": [
    "Nous pouvons garder une seule des différentes données précédantes, nous choisirons donc ```product_atc_code```."
   ],
   "cell_type": "markdown",
   "metadata": {}
  },
  {
   "cell_type": "code",
   "execution_count": 27,
   "metadata": {},
   "outputs": [],
   "source": [
    "dropColumnNames.append(['molecule_label','short_name','long_name','Classe','product_atc'])"
   ]
  },
  {
   "source": [
    "De plus, il y a beaucoup de valeur possible, donc pour mieux nous rendre compte de la répartition, nous affichons la répartition de chaque valeurs"
   ],
   "cell_type": "markdown",
   "metadata": {}
  },
  {
   "cell_type": "code",
   "execution_count": 21,
   "metadata": {},
   "outputs": [
    {
     "output_type": "execute_result",
     "data": {
      "text/plain": [
       "C07AB07     9487\n",
       "C07AB03     8724\n",
       "C09DB04     6598\n",
       "C02AC06     5700\n",
       "C09CA03     3610\n",
       "C09DA03     2226\n",
       "C09AA04     2029\n",
       "C09CA06     1848\n",
       "C03CA01     1426\n",
       "C09BA04     1249\n",
       "C03BX03     1101\n",
       "C09CA04     1027\n",
       "C08CA01     1018\n",
       "C09DA04      926\n",
       "C09DA01      774\n",
       "C07AB12      601\n",
       "C09CA01      359\n",
       "C09AA05      359\n",
       "C09XA52      302\n",
       "C03DA01      290\n",
       "C09CA07      192\n",
       "C08DB01      183\n",
       "C09XA02      131\n",
       "C03EA04      111\n",
       "C09AA02       99\n",
       "C09AA03       80\n",
       "C07AB04       59\n",
       "C03DA04       33\n",
       "C09AA06       26\n",
       "C09BA02       17\n",
       "C03EB01       14\n",
       "C07DB01       10\n",
       "C07AA05        7\n",
       "C02AC01        4\n",
       "C08CA08        3\n",
       "C02KX01        3\n",
       "C09AA09        2\n",
       "C09AA07        1\n",
       "C09DA06        1\n",
       "C08CA06        1\n",
       "Name: product_atc_code, dtype: int64"
      ]
     },
     "metadata": {},
     "execution_count": 21
    }
   ],
   "source": [
    "df.product_atc_code.value_counts()"
   ]
  },
  {
   "source": [
    "Nous enlevons toutes les lignes qui ont une valeur qui apparaît moins de 500 fois"
   ],
   "cell_type": "markdown",
   "metadata": {}
  },
  {
   "cell_type": "code",
   "execution_count": 43,
   "metadata": {},
   "outputs": [
    {
     "output_type": "execute_result",
     "data": {
      "text/plain": [
       "person_id                              15\n",
       "specialty_label                        15\n",
       "contact_date                           15\n",
       "contact_id                             15\n",
       "cip                                    15\n",
       "molecule_label                         17\n",
       "short_name                             15\n",
       "long_name                              15\n",
       "Classe                                 15\n",
       "dosage_1                               17\n",
       "dose_1                                 17\n",
       "dose_2                                 17\n",
       "product_atc_code                       17\n",
       "product_atc                            17\n",
       "box                                   391\n",
       "quantity                              228\n",
       "frequency_label                       219\n",
       "duration                             7066\n",
       "Traitement_Autres_A10_dep_201701    41759\n",
       "Traitement_Insulines_dep_201701     48188\n",
       "Pulse                                  15\n",
       "Tension Diastolique                    15\n",
       "Tension Systolique                     15\n",
       "Glycemie_prescription               49405\n",
       "Glycemie_der_date                   19910\n",
       "Glycemie_der_mesure                 19910\n",
       "HbA1c_prescription                  49282\n",
       "HbA1c_der_date                      33697\n",
       "HbA1c_der_mesure                    34328\n",
       "gender_code                            15\n",
       "Age_presc                              15\n",
       "Age_now                                15\n",
       "year_of_birth                          15\n",
       "Poids                               17954\n",
       "der_date_poids                      17909\n",
       "Taille                              26834\n",
       "der_date_taille                     26544\n",
       "first_contact_date                     15\n",
       "dtype: int64"
      ]
     },
     "metadata": {},
     "execution_count": 43
    }
   ],
   "source": [
    "df.isnull().sum()"
   ]
  },
  {
   "source": [
    "## Analyse du champ ```CIP```"
   ],
   "cell_type": "markdown",
   "metadata": {}
  },
  {
   "cell_type": "code",
   "execution_count": 9,
   "metadata": {},
   "outputs": [
    {
     "output_type": "execute_result",
     "data": {
      "text/plain": [
       "              person_id\n",
       "cip                    \n",
       "3.400940e+12        634\n",
       "3.400950e+12      46270\n",
       "3.400960e+12       3729"
      ],
      "text/html": "<div>\n<style scoped>\n    .dataframe tbody tr th:only-of-type {\n        vertical-align: middle;\n    }\n\n    .dataframe tbody tr th {\n        vertical-align: top;\n    }\n\n    .dataframe thead th {\n        text-align: right;\n    }\n</style>\n<table border=\"1\" class=\"dataframe\">\n  <thead>\n    <tr style=\"text-align: right;\">\n      <th></th>\n      <th>person_id</th>\n    </tr>\n    <tr>\n      <th>cip</th>\n      <th></th>\n    </tr>\n  </thead>\n  <tbody>\n    <tr>\n      <th>3.400940e+12</th>\n      <td>634</td>\n    </tr>\n    <tr>\n      <th>3.400950e+12</th>\n      <td>46270</td>\n    </tr>\n    <tr>\n      <th>3.400960e+12</th>\n      <td>3729</td>\n    </tr>\n  </tbody>\n</table>\n</div>"
     },
     "metadata": {},
     "execution_count": 9
    }
   ],
   "source": [
    "dfGroupByCIP = df.groupby('cip')[['person_id']].count()\n",
    "dfGroupByCIP"
   ]
  },
  {
   "source": [
    "Il y a plusieurs valeurs de CIP. Cependant les deux autres valeurs sont assez petites comparées à la plus grande. A voir si ça ne vaut pas le coup de n'en garder qu'une seule"
   ],
   "cell_type": "markdown",
   "metadata": {}
  },
  {
   "source": [
    "## Analyse du champ ```frequency_label```"
   ],
   "cell_type": "markdown",
   "metadata": {}
  },
  {
   "cell_type": "code",
   "execution_count": 10,
   "metadata": {},
   "outputs": [
    {
     "output_type": "execute_result",
     "data": {
      "text/plain": [
       "                 person_id\n",
       "frequency_label           \n",
       "Jour                 50417\n",
       "Mois                     1\n",
       "Semaine                 11"
      ],
      "text/html": "<div>\n<style scoped>\n    .dataframe tbody tr th:only-of-type {\n        vertical-align: middle;\n    }\n\n    .dataframe tbody tr th {\n        vertical-align: top;\n    }\n\n    .dataframe thead th {\n        text-align: right;\n    }\n</style>\n<table border=\"1\" class=\"dataframe\">\n  <thead>\n    <tr style=\"text-align: right;\">\n      <th></th>\n      <th>person_id</th>\n    </tr>\n    <tr>\n      <th>frequency_label</th>\n      <th></th>\n    </tr>\n  </thead>\n  <tbody>\n    <tr>\n      <th>Jour</th>\n      <td>50417</td>\n    </tr>\n    <tr>\n      <th>Mois</th>\n      <td>1</td>\n    </tr>\n    <tr>\n      <th>Semaine</th>\n      <td>11</td>\n    </tr>\n  </tbody>\n</table>\n</div>"
     },
     "metadata": {},
     "execution_count": 10
    }
   ],
   "source": [
    "dfGroupByFrequencyLabel = df.groupby('frequency_label')[['person_id']].count()\n",
    "dfGroupByFrequencyLabel"
   ]
  },
  {
   "source": [
    "Les valeurs pour ```Mois``` et ```Semaine``` sont très faible comparées à la valeur pour ```Jour```, nous supprimerons donc les lignes contenant l'une de ces deux valeurs"
   ],
   "cell_type": "markdown",
   "metadata": {}
  },
  {
   "cell_type": "code",
   "execution_count": 20,
   "metadata": {},
   "outputs": [],
   "source": [
    "df = df[df.frequency_label == 'Jour']"
   ]
  },
  {
   "source": [
    "## Analyse du champ ```specialty_label```"
   ],
   "cell_type": "markdown",
   "metadata": {}
  },
  {
   "cell_type": "code",
   "execution_count": 21,
   "metadata": {},
   "outputs": [
    {
     "output_type": "execute_result",
     "data": {
      "text/plain": [
       "                     person_id\n",
       "specialty_label               \n",
       "Cardiologues                 3\n",
       "Médecin généraliste          9"
      ],
      "text/html": "<div>\n<style scoped>\n    .dataframe tbody tr th:only-of-type {\n        vertical-align: middle;\n    }\n\n    .dataframe tbody tr th {\n        vertical-align: top;\n    }\n\n    .dataframe thead th {\n        text-align: right;\n    }\n</style>\n<table border=\"1\" class=\"dataframe\">\n  <thead>\n    <tr style=\"text-align: right;\">\n      <th></th>\n      <th>person_id</th>\n    </tr>\n    <tr>\n      <th>specialty_label</th>\n      <th></th>\n    </tr>\n  </thead>\n  <tbody>\n    <tr>\n      <th>Cardiologues</th>\n      <td>3</td>\n    </tr>\n    <tr>\n      <th>Médecin généraliste</th>\n      <td>9</td>\n    </tr>\n  </tbody>\n</table>\n</div>"
     },
     "metadata": {},
     "execution_count": 21
    }
   ],
   "source": [
    "dfMedecinSpecialityCount = df.groupby(df.specialty_label)[['person_id']].count()\n",
    "dfMedecinSpecialityCount"
   ]
  },
  {
   "source": [
    "Nous voyons qu'il y a des valeurs très faible qui ne feront qu'ajouter du bruit, nous supprimerons donc les lignes autres que ```Médecin généraliste```. En effet même le nombre de cardiologue est petit face au nombre de médecins généralistes. De plus en ne sélectionnant que les lignes avec ```Médecin généraliste``` cette colonne ne nous apporte plus d'information et nous pouvons donc la supprimer, ce qui permet de réduire le nombre de paramètres que les réseaux devra apprendre ce qui facilitera l'apprentissage"
   ],
   "cell_type": "markdown",
   "metadata": {}
  },
  {
   "cell_type": "code",
   "execution_count": null,
   "metadata": {},
   "outputs": [],
   "source": [
    "dropColumnNames.append('person_id')"
   ]
  }
 ]
}