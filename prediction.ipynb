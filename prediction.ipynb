{
 "metadata": {
  "language_info": {
   "codemirror_mode": {
    "name": "ipython",
    "version": 3
   },
   "file_extension": ".py",
   "mimetype": "text/x-python",
   "name": "python",
   "nbconvert_exporter": "python",
   "pygments_lexer": "ipython3",
   "version": "3.8.5-final"
  },
  "orig_nbformat": 2,
  "kernelspec": {
   "name": "python3",
   "display_name": "Python 3",
   "language": "python"
  }
 },
 "nbformat": 4,
 "nbformat_minor": 2,
 "cells": [
  {
   "cell_type": "code",
   "execution_count": 71,
   "metadata": {},
   "outputs": [],
   "source": [
    "import pandas as pd\n",
    "import numpy as np\n",
    "\n",
    "from matplotlib import pyplot as plt\n",
    "\n",
    "from sklearn.preprocessing import LabelEncoder\n",
    "\n",
    "from keras import layers\n",
    "from keras import models\n",
    "from keras import losses\n",
    "from keras.utils import to_categorical"
   ]
  },
  {
   "cell_type": "code",
   "execution_count": 72,
   "metadata": {},
   "outputs": [],
   "source": [
    "dateColumnNames = [\n",
    "    'contact_date',\n",
    "    'Glycemie_der_date',\n",
    "    'HbA1c_der_date',\n",
    "    'der_date_poids',\n",
    "    'der_date_taille',\n",
    "    'first_contact_date'\n",
    "]\n",
    "\n",
    "dfView = pd.read_csv('PatientsHTA.zip',nrows=1)\n",
    "df = pd.read_csv('PatientsHTA.zip',engine='c',parse_dates=dateColumnNames)"
   ]
  },
  {
   "source": [
    "# Suppression des lignes trop peu nombreuses\n",
    "\n",
    "Nous souhaitons faire un apprentissage en utilisant la dimension temporelle comme filtre pour le CNN. Pour ça il faut donc que nous ayons plusieurs entrées. Avant de commencer à traîter les données, nous supprimons toutes les personnes qui n'ont pas rendu visite assez souvent à leur médecin. Ainsi, par le biais de ```person_id```, nous avons choisi arbitrairement que pour être utile à l'apprentissage, il faut au moins 3 visites par patients, soient toutes les lignes dont le ```person_id```est contenu plus de 3 fois dans tout le jeu de données."
   ],
   "cell_type": "markdown",
   "metadata": {}
  },
  {
   "cell_type": "code",
   "execution_count": 73,
   "metadata": {},
   "outputs": [],
   "source": [
    "VISIT_NUMBER = 4\n",
    "valueCounts = df.person_id.value_counts()\n",
    "dfEnought = df[df.person_id.isin(valueCounts[valueCounts.values >= VISIT_NUMBER].index)]"
   ]
  },
  {
   "source": [
    "# Suppression des colonnes innutiles\n",
    "\n",
    "## Suppression de la colonne ```age_now```\n",
    "\n",
    "Nous pouvons supprimer la colonne ```age_now``` car les données qu'elle contient sont identiques à celles de la colonne ```year_of_birth```.\n",
    "\n"
   ],
   "cell_type": "markdown",
   "metadata": {}
  },
  {
   "source": [
    "dfWithoutAgeNow = dfEnought.drop('Age_now', axis='columns')"
   ],
   "cell_type": "code",
   "metadata": {},
   "execution_count": 74,
   "outputs": []
  },
  {
   "source": [
    "## Suppression de la colonne ```contact_id```\n",
    "\n",
    "En effet, la colonne ```contact_id``` ne représente aucun intérêt pour l'apprentissage car elle ne contient aucun information à même d'influer sur la prédiction."
   ],
   "cell_type": "markdown",
   "metadata": {}
  },
  {
   "cell_type": "code",
   "execution_count": 75,
   "metadata": {},
   "outputs": [],
   "source": [
    "dfWithoutContactID = dfWithoutAgeNow.drop('contact_id',axis='columns')"
   ]
  },
  {
   "source": [
    "## Suppression des noms de médicaments"
   ],
   "cell_type": "markdown",
   "metadata": {}
  },
  {
   "cell_type": "code",
   "execution_count": 76,
   "metadata": {},
   "outputs": [
    {
     "output_type": "execute_result",
     "data": {
      "text/plain": [
       "                  molecule_label  short_name  long_name  Classe  product_atc\n",
       "product_atc_code                                                            \n",
       "C02AC06                     4288        4288       4288    4288         4288\n",
       "C03BX03                      932         932        932     932          932\n",
       "C03CA01                      877         877        877     877          877\n",
       "C03DA01                      187         187        187     187          187\n",
       "C03DA04                       27          27         27      27           27\n",
       "C03EA04                       75          75         75      75           75\n",
       "C03EB01                       14          14         14      14           14\n",
       "C07AA05                        2           2          2       2            2\n",
       "C07AB03                     6466        6466       6466    6466         6466\n",
       "C07AB04                       39          39         39      39           39\n",
       "C07AB07                     6765        6765       6765    6765         6765\n",
       "C07AB12                      509         509        509     509          509\n",
       "C07DB01                       10          10         10      10           10\n",
       "C08CA01                      679         679        679     679          679\n",
       "C08DB01                      108         108        108     108          108\n",
       "C09AA02                       50          50         50      50           50\n",
       "C09AA03                       47          47         47      47           47\n",
       "C09AA04                     1183        1183       1183    1183         1183\n",
       "C09AA05                      232         232        232     232          232\n",
       "C09AA06                       20          20         20      20           20\n",
       "C09BA02                       11          11         11      11           11\n",
       "C09BA04                      920         920        920     920          920\n",
       "C09CA01                      277         277        277     277          277\n",
       "C09CA03                     2702        2702       2702    2702         2702\n",
       "C09CA04                      618         618        618     618          618\n",
       "C09CA06                     1291        1291       1291    1291         1291\n",
       "C09CA07                      109         109        109     109          109\n",
       "C09DA01                      542         542        542     542          542\n",
       "C09DA03                     1834        1834       1834    1834         1834\n",
       "C09DA04                      581         581        581     581          581\n",
       "C09DB04                     5212        5212       5212    5212         5212\n",
       "C09XA02                       63          63         63      63           63\n",
       "C09XA52                      206         206        206     206          206"
      ],
      "text/html": "<div>\n<style scoped>\n    .dataframe tbody tr th:only-of-type {\n        vertical-align: middle;\n    }\n\n    .dataframe tbody tr th {\n        vertical-align: top;\n    }\n\n    .dataframe thead th {\n        text-align: right;\n    }\n</style>\n<table border=\"1\" class=\"dataframe\">\n  <thead>\n    <tr style=\"text-align: right;\">\n      <th></th>\n      <th>molecule_label</th>\n      <th>short_name</th>\n      <th>long_name</th>\n      <th>Classe</th>\n      <th>product_atc</th>\n    </tr>\n    <tr>\n      <th>product_atc_code</th>\n      <th></th>\n      <th></th>\n      <th></th>\n      <th></th>\n      <th></th>\n    </tr>\n  </thead>\n  <tbody>\n    <tr>\n      <th>C02AC06</th>\n      <td>4288</td>\n      <td>4288</td>\n      <td>4288</td>\n      <td>4288</td>\n      <td>4288</td>\n    </tr>\n    <tr>\n      <th>C03BX03</th>\n      <td>932</td>\n      <td>932</td>\n      <td>932</td>\n      <td>932</td>\n      <td>932</td>\n    </tr>\n    <tr>\n      <th>C03CA01</th>\n      <td>877</td>\n      <td>877</td>\n      <td>877</td>\n      <td>877</td>\n      <td>877</td>\n    </tr>\n    <tr>\n      <th>C03DA01</th>\n      <td>187</td>\n      <td>187</td>\n      <td>187</td>\n      <td>187</td>\n      <td>187</td>\n    </tr>\n    <tr>\n      <th>C03DA04</th>\n      <td>27</td>\n      <td>27</td>\n      <td>27</td>\n      <td>27</td>\n      <td>27</td>\n    </tr>\n    <tr>\n      <th>C03EA04</th>\n      <td>75</td>\n      <td>75</td>\n      <td>75</td>\n      <td>75</td>\n      <td>75</td>\n    </tr>\n    <tr>\n      <th>C03EB01</th>\n      <td>14</td>\n      <td>14</td>\n      <td>14</td>\n      <td>14</td>\n      <td>14</td>\n    </tr>\n    <tr>\n      <th>C07AA05</th>\n      <td>2</td>\n      <td>2</td>\n      <td>2</td>\n      <td>2</td>\n      <td>2</td>\n    </tr>\n    <tr>\n      <th>C07AB03</th>\n      <td>6466</td>\n      <td>6466</td>\n      <td>6466</td>\n      <td>6466</td>\n      <td>6466</td>\n    </tr>\n    <tr>\n      <th>C07AB04</th>\n      <td>39</td>\n      <td>39</td>\n      <td>39</td>\n      <td>39</td>\n      <td>39</td>\n    </tr>\n    <tr>\n      <th>C07AB07</th>\n      <td>6765</td>\n      <td>6765</td>\n      <td>6765</td>\n      <td>6765</td>\n      <td>6765</td>\n    </tr>\n    <tr>\n      <th>C07AB12</th>\n      <td>509</td>\n      <td>509</td>\n      <td>509</td>\n      <td>509</td>\n      <td>509</td>\n    </tr>\n    <tr>\n      <th>C07DB01</th>\n      <td>10</td>\n      <td>10</td>\n      <td>10</td>\n      <td>10</td>\n      <td>10</td>\n    </tr>\n    <tr>\n      <th>C08CA01</th>\n      <td>679</td>\n      <td>679</td>\n      <td>679</td>\n      <td>679</td>\n      <td>679</td>\n    </tr>\n    <tr>\n      <th>C08DB01</th>\n      <td>108</td>\n      <td>108</td>\n      <td>108</td>\n      <td>108</td>\n      <td>108</td>\n    </tr>\n    <tr>\n      <th>C09AA02</th>\n      <td>50</td>\n      <td>50</td>\n      <td>50</td>\n      <td>50</td>\n      <td>50</td>\n    </tr>\n    <tr>\n      <th>C09AA03</th>\n      <td>47</td>\n      <td>47</td>\n      <td>47</td>\n      <td>47</td>\n      <td>47</td>\n    </tr>\n    <tr>\n      <th>C09AA04</th>\n      <td>1183</td>\n      <td>1183</td>\n      <td>1183</td>\n      <td>1183</td>\n      <td>1183</td>\n    </tr>\n    <tr>\n      <th>C09AA05</th>\n      <td>232</td>\n      <td>232</td>\n      <td>232</td>\n      <td>232</td>\n      <td>232</td>\n    </tr>\n    <tr>\n      <th>C09AA06</th>\n      <td>20</td>\n      <td>20</td>\n      <td>20</td>\n      <td>20</td>\n      <td>20</td>\n    </tr>\n    <tr>\n      <th>C09BA02</th>\n      <td>11</td>\n      <td>11</td>\n      <td>11</td>\n      <td>11</td>\n      <td>11</td>\n    </tr>\n    <tr>\n      <th>C09BA04</th>\n      <td>920</td>\n      <td>920</td>\n      <td>920</td>\n      <td>920</td>\n      <td>920</td>\n    </tr>\n    <tr>\n      <th>C09CA01</th>\n      <td>277</td>\n      <td>277</td>\n      <td>277</td>\n      <td>277</td>\n      <td>277</td>\n    </tr>\n    <tr>\n      <th>C09CA03</th>\n      <td>2702</td>\n      <td>2702</td>\n      <td>2702</td>\n      <td>2702</td>\n      <td>2702</td>\n    </tr>\n    <tr>\n      <th>C09CA04</th>\n      <td>618</td>\n      <td>618</td>\n      <td>618</td>\n      <td>618</td>\n      <td>618</td>\n    </tr>\n    <tr>\n      <th>C09CA06</th>\n      <td>1291</td>\n      <td>1291</td>\n      <td>1291</td>\n      <td>1291</td>\n      <td>1291</td>\n    </tr>\n    <tr>\n      <th>C09CA07</th>\n      <td>109</td>\n      <td>109</td>\n      <td>109</td>\n      <td>109</td>\n      <td>109</td>\n    </tr>\n    <tr>\n      <th>C09DA01</th>\n      <td>542</td>\n      <td>542</td>\n      <td>542</td>\n      <td>542</td>\n      <td>542</td>\n    </tr>\n    <tr>\n      <th>C09DA03</th>\n      <td>1834</td>\n      <td>1834</td>\n      <td>1834</td>\n      <td>1834</td>\n      <td>1834</td>\n    </tr>\n    <tr>\n      <th>C09DA04</th>\n      <td>581</td>\n      <td>581</td>\n      <td>581</td>\n      <td>581</td>\n      <td>581</td>\n    </tr>\n    <tr>\n      <th>C09DB04</th>\n      <td>5212</td>\n      <td>5212</td>\n      <td>5212</td>\n      <td>5212</td>\n      <td>5212</td>\n    </tr>\n    <tr>\n      <th>C09XA02</th>\n      <td>63</td>\n      <td>63</td>\n      <td>63</td>\n      <td>63</td>\n      <td>63</td>\n    </tr>\n    <tr>\n      <th>C09XA52</th>\n      <td>206</td>\n      <td>206</td>\n      <td>206</td>\n      <td>206</td>\n      <td>206</td>\n    </tr>\n  </tbody>\n</table>\n</div>"
     },
     "metadata": {},
     "execution_count": 76
    }
   ],
   "source": [
    "dfGroupedByMoleculeLabel = dfWithoutContactID.groupby('product_atc_code')[['molecule_label','short_name','long_name','Classe','product_atc']].count()\n",
    "dfGroupedByMoleculeLabel"
   ]
  },
  {
   "source": [
    "Nous voyons qu'il existe différentes colonnes dont le but est de désigner le médicament prescrit lors de la visite, or nous n'avons besoin que d'une seule colonne garder cette information. De ce fait, nous avons choisi de garder ```product_atc_code```."
   ],
   "cell_type": "markdown",
   "metadata": {}
  },
  {
   "cell_type": "code",
   "execution_count": 77,
   "metadata": {},
   "outputs": [
    {
     "output_type": "execute_result",
     "data": {
      "text/plain": [
       "        person_id      specialty_label contact_date           cip  dosage_1  \\\n",
       "1        263659.0  Médecin généraliste   2014-09-24  3.400960e+12      20.0   \n",
       "2        263659.0  Médecin généraliste   2014-09-12  3.400960e+12      20.0   \n",
       "3        263659.0  Médecin généraliste   2015-03-26  3.400960e+12      20.0   \n",
       "4        263659.0  Médecin généraliste   2015-06-05  3.400960e+12      20.0   \n",
       "6      25182917.0  Médecin généraliste   2013-03-27  3.400960e+12     300.0   \n",
       "...           ...                  ...          ...           ...       ...   \n",
       "50625  26636453.0  Médecin généraliste   2016-11-16  3.400940e+12     500.0   \n",
       "50627  18889430.0  Médecin généraliste   2013-02-01  3.400940e+12     500.0   \n",
       "50629   2222336.0  Médecin généraliste   2013-07-01  3.400940e+12     500.0   \n",
       "50631  11363518.0  Médecin généraliste   2013-01-24  3.400940e+12     500.0   \n",
       "50632  18889430.0  Médecin généraliste   2013-01-24  3.400940e+12     500.0   \n",
       "\n",
       "        dose_1  dose_2 product_atc_code  box  quantity  ... HbA1c_der_date  \\\n",
       "1        240.0    24.0         C03CA01   1.0      4.00  ...            NaT   \n",
       "2        240.0    24.0         C03CA01   1.0      4.00  ...            NaT   \n",
       "3        240.0    24.0         C03CA01   1.0      4.00  ...            NaT   \n",
       "4        240.0    24.0         C03CA01   1.0      4.00  ...            NaT   \n",
       "6      16800.0    56.0         C09XA02   2.0      1.00  ...            NaT   \n",
       "...        ...     ...              ...  ...       ...  ...            ...   \n",
       "50625  15000.0    30.0         C03CA01   1.0      0.75  ...     2017-10-03   \n",
       "50627  15000.0    30.0         C03CA01   1.0      0.50  ...     2017-05-15   \n",
       "50629  15000.0    30.0         C03CA01   2.0      0.25  ...            NaT   \n",
       "50631  15000.0    30.0         C03CA01   1.0      0.25  ...            NaT   \n",
       "50632  15000.0    30.0         C03CA01   1.0      0.50  ...     2017-05-15   \n",
       "\n",
       "       HbA1c_der_mesure gender_code Age_presc  year_of_birth  Poids  \\\n",
       "1                   NaN           M      96.0         1918.0    NaN   \n",
       "2                   NaN           M      96.0         1918.0    NaN   \n",
       "3                   NaN           M      97.0         1918.0    NaN   \n",
       "4                   NaN           M      97.0         1918.0    NaN   \n",
       "6                   NaN           M      63.0         1950.0    NaN   \n",
       "...                 ...         ...       ...            ...    ...   \n",
       "50625              5.60           M      79.0         1937.0   83.9   \n",
       "50627              8.01           M      85.0         1928.0    NaN   \n",
       "50629               NaN           F      78.0         1935.0    NaN   \n",
       "50631               NaN           M      80.0         1933.0    NaN   \n",
       "50632              8.01           M      85.0         1928.0    NaN   \n",
       "\n",
       "       der_date_poids  Taille der_date_taille  first_contact_date  \n",
       "1                 NaT     NaN             NaT          1998-04-02  \n",
       "2                 NaT     NaN             NaT          1998-04-02  \n",
       "3                 NaT     NaN             NaT          1998-04-02  \n",
       "4                 NaT     NaN             NaT          1998-04-02  \n",
       "6                 NaT     NaN             NaT          2011-04-04  \n",
       "...               ...     ...             ...                 ...  \n",
       "50625      2018-02-21     NaN             NaT          2012-02-14  \n",
       "50627             NaT     NaN             NaT          2007-12-02  \n",
       "50629             NaT     NaN             NaT          2006-02-23  \n",
       "50631             NaT     NaN             NaT          1998-01-27  \n",
       "50632             NaT     NaN             NaT          2007-12-02  \n",
       "\n",
       "[36876 rows x 31 columns]"
      ],
      "text/html": "<div>\n<style scoped>\n    .dataframe tbody tr th:only-of-type {\n        vertical-align: middle;\n    }\n\n    .dataframe tbody tr th {\n        vertical-align: top;\n    }\n\n    .dataframe thead th {\n        text-align: right;\n    }\n</style>\n<table border=\"1\" class=\"dataframe\">\n  <thead>\n    <tr style=\"text-align: right;\">\n      <th></th>\n      <th>person_id</th>\n      <th>specialty_label</th>\n      <th>contact_date</th>\n      <th>cip</th>\n      <th>dosage_1</th>\n      <th>dose_1</th>\n      <th>dose_2</th>\n      <th>product_atc_code</th>\n      <th>box</th>\n      <th>quantity</th>\n      <th>...</th>\n      <th>HbA1c_der_date</th>\n      <th>HbA1c_der_mesure</th>\n      <th>gender_code</th>\n      <th>Age_presc</th>\n      <th>year_of_birth</th>\n      <th>Poids</th>\n      <th>der_date_poids</th>\n      <th>Taille</th>\n      <th>der_date_taille</th>\n      <th>first_contact_date</th>\n    </tr>\n  </thead>\n  <tbody>\n    <tr>\n      <th>1</th>\n      <td>263659.0</td>\n      <td>Médecin généraliste</td>\n      <td>2014-09-24</td>\n      <td>3.400960e+12</td>\n      <td>20.0</td>\n      <td>240.0</td>\n      <td>24.0</td>\n      <td>C03CA01</td>\n      <td>1.0</td>\n      <td>4.00</td>\n      <td>...</td>\n      <td>NaT</td>\n      <td>NaN</td>\n      <td>M</td>\n      <td>96.0</td>\n      <td>1918.0</td>\n      <td>NaN</td>\n      <td>NaT</td>\n      <td>NaN</td>\n      <td>NaT</td>\n      <td>1998-04-02</td>\n    </tr>\n    <tr>\n      <th>2</th>\n      <td>263659.0</td>\n      <td>Médecin généraliste</td>\n      <td>2014-09-12</td>\n      <td>3.400960e+12</td>\n      <td>20.0</td>\n      <td>240.0</td>\n      <td>24.0</td>\n      <td>C03CA01</td>\n      <td>1.0</td>\n      <td>4.00</td>\n      <td>...</td>\n      <td>NaT</td>\n      <td>NaN</td>\n      <td>M</td>\n      <td>96.0</td>\n      <td>1918.0</td>\n      <td>NaN</td>\n      <td>NaT</td>\n      <td>NaN</td>\n      <td>NaT</td>\n      <td>1998-04-02</td>\n    </tr>\n    <tr>\n      <th>3</th>\n      <td>263659.0</td>\n      <td>Médecin généraliste</td>\n      <td>2015-03-26</td>\n      <td>3.400960e+12</td>\n      <td>20.0</td>\n      <td>240.0</td>\n      <td>24.0</td>\n      <td>C03CA01</td>\n      <td>1.0</td>\n      <td>4.00</td>\n      <td>...</td>\n      <td>NaT</td>\n      <td>NaN</td>\n      <td>M</td>\n      <td>97.0</td>\n      <td>1918.0</td>\n      <td>NaN</td>\n      <td>NaT</td>\n      <td>NaN</td>\n      <td>NaT</td>\n      <td>1998-04-02</td>\n    </tr>\n    <tr>\n      <th>4</th>\n      <td>263659.0</td>\n      <td>Médecin généraliste</td>\n      <td>2015-06-05</td>\n      <td>3.400960e+12</td>\n      <td>20.0</td>\n      <td>240.0</td>\n      <td>24.0</td>\n      <td>C03CA01</td>\n      <td>1.0</td>\n      <td>4.00</td>\n      <td>...</td>\n      <td>NaT</td>\n      <td>NaN</td>\n      <td>M</td>\n      <td>97.0</td>\n      <td>1918.0</td>\n      <td>NaN</td>\n      <td>NaT</td>\n      <td>NaN</td>\n      <td>NaT</td>\n      <td>1998-04-02</td>\n    </tr>\n    <tr>\n      <th>6</th>\n      <td>25182917.0</td>\n      <td>Médecin généraliste</td>\n      <td>2013-03-27</td>\n      <td>3.400960e+12</td>\n      <td>300.0</td>\n      <td>16800.0</td>\n      <td>56.0</td>\n      <td>C09XA02</td>\n      <td>2.0</td>\n      <td>1.00</td>\n      <td>...</td>\n      <td>NaT</td>\n      <td>NaN</td>\n      <td>M</td>\n      <td>63.0</td>\n      <td>1950.0</td>\n      <td>NaN</td>\n      <td>NaT</td>\n      <td>NaN</td>\n      <td>NaT</td>\n      <td>2011-04-04</td>\n    </tr>\n    <tr>\n      <th>...</th>\n      <td>...</td>\n      <td>...</td>\n      <td>...</td>\n      <td>...</td>\n      <td>...</td>\n      <td>...</td>\n      <td>...</td>\n      <td>...</td>\n      <td>...</td>\n      <td>...</td>\n      <td>...</td>\n      <td>...</td>\n      <td>...</td>\n      <td>...</td>\n      <td>...</td>\n      <td>...</td>\n      <td>...</td>\n      <td>...</td>\n      <td>...</td>\n      <td>...</td>\n      <td>...</td>\n    </tr>\n    <tr>\n      <th>50625</th>\n      <td>26636453.0</td>\n      <td>Médecin généraliste</td>\n      <td>2016-11-16</td>\n      <td>3.400940e+12</td>\n      <td>500.0</td>\n      <td>15000.0</td>\n      <td>30.0</td>\n      <td>C03CA01</td>\n      <td>1.0</td>\n      <td>0.75</td>\n      <td>...</td>\n      <td>2017-10-03</td>\n      <td>5.60</td>\n      <td>M</td>\n      <td>79.0</td>\n      <td>1937.0</td>\n      <td>83.9</td>\n      <td>2018-02-21</td>\n      <td>NaN</td>\n      <td>NaT</td>\n      <td>2012-02-14</td>\n    </tr>\n    <tr>\n      <th>50627</th>\n      <td>18889430.0</td>\n      <td>Médecin généraliste</td>\n      <td>2013-02-01</td>\n      <td>3.400940e+12</td>\n      <td>500.0</td>\n      <td>15000.0</td>\n      <td>30.0</td>\n      <td>C03CA01</td>\n      <td>1.0</td>\n      <td>0.50</td>\n      <td>...</td>\n      <td>2017-05-15</td>\n      <td>8.01</td>\n      <td>M</td>\n      <td>85.0</td>\n      <td>1928.0</td>\n      <td>NaN</td>\n      <td>NaT</td>\n      <td>NaN</td>\n      <td>NaT</td>\n      <td>2007-12-02</td>\n    </tr>\n    <tr>\n      <th>50629</th>\n      <td>2222336.0</td>\n      <td>Médecin généraliste</td>\n      <td>2013-07-01</td>\n      <td>3.400940e+12</td>\n      <td>500.0</td>\n      <td>15000.0</td>\n      <td>30.0</td>\n      <td>C03CA01</td>\n      <td>2.0</td>\n      <td>0.25</td>\n      <td>...</td>\n      <td>NaT</td>\n      <td>NaN</td>\n      <td>F</td>\n      <td>78.0</td>\n      <td>1935.0</td>\n      <td>NaN</td>\n      <td>NaT</td>\n      <td>NaN</td>\n      <td>NaT</td>\n      <td>2006-02-23</td>\n    </tr>\n    <tr>\n      <th>50631</th>\n      <td>11363518.0</td>\n      <td>Médecin généraliste</td>\n      <td>2013-01-24</td>\n      <td>3.400940e+12</td>\n      <td>500.0</td>\n      <td>15000.0</td>\n      <td>30.0</td>\n      <td>C03CA01</td>\n      <td>1.0</td>\n      <td>0.25</td>\n      <td>...</td>\n      <td>NaT</td>\n      <td>NaN</td>\n      <td>M</td>\n      <td>80.0</td>\n      <td>1933.0</td>\n      <td>NaN</td>\n      <td>NaT</td>\n      <td>NaN</td>\n      <td>NaT</td>\n      <td>1998-01-27</td>\n    </tr>\n    <tr>\n      <th>50632</th>\n      <td>18889430.0</td>\n      <td>Médecin généraliste</td>\n      <td>2013-01-24</td>\n      <td>3.400940e+12</td>\n      <td>500.0</td>\n      <td>15000.0</td>\n      <td>30.0</td>\n      <td>C03CA01</td>\n      <td>1.0</td>\n      <td>0.50</td>\n      <td>...</td>\n      <td>2017-05-15</td>\n      <td>8.01</td>\n      <td>M</td>\n      <td>85.0</td>\n      <td>1928.0</td>\n      <td>NaN</td>\n      <td>NaT</td>\n      <td>NaN</td>\n      <td>NaT</td>\n      <td>2007-12-02</td>\n    </tr>\n  </tbody>\n</table>\n<p>36876 rows × 31 columns</p>\n</div>"
     },
     "metadata": {},
     "execution_count": 77
    }
   ],
   "source": [
    "dropColumnNames = dfGroupedByMoleculeLabel.columns.to_list()\n",
    "dfWithATCCode = dfWithoutContactID.drop(dropColumnNames, axis='columns')\n",
    "dfWithATCCode"
   ]
  },
  {
   "source": [
    "## Suppression des colonnes ```'*der*'```\n",
    "\n",
    "Les colonnes ```'*der*'``` contiennent la dernière donnée. Cette donnée peut être récupérée grâce à la date de la visite et aux valeurs mesurées. Par exemple, il n'est pas nécessaire d'avoir une colonne ```der_date``` ou ```der_mesure```. Les données de ces deux types de colonnes peuvent être récupérées grâce à la ligne qui correspond à la dernière date de la mesure, que nous pouvons trouver grâce à la colonne ```contact_date```."
   ],
   "cell_type": "markdown",
   "metadata": {}
  },
  {
   "cell_type": "code",
   "execution_count": 78,
   "metadata": {},
   "outputs": [],
   "source": [
    "derColumnNames = []\n",
    "\n",
    "for c in dfWithATCCode.columns:\n",
    "    if ('der_date' in c) or ('der_mesure' in c):\n",
    "        derColumnNames.append(c)\n",
    "\n",
    "dfWithoutDer = dfWithATCCode.drop(derColumnNames,axis='columns')"
   ]
  },
  {
   "source": [
    "## Suppression des colonnes ```Taille``` et ```Poids```"
   ],
   "cell_type": "markdown",
   "metadata": {}
  },
  {
   "cell_type": "code",
   "execution_count": 79,
   "metadata": {},
   "outputs": [
    {
     "output_type": "stream",
     "name": "stdout",
     "text": [
      "Taille: 18150/36876 valeurs nulles (=49.22%)\nPoids: 11389/36876 valeurs nulles (=30.88%)\n"
     ]
    }
   ],
   "source": [
    "print(f\"Taille: {dfWithoutDer.Taille.isnull().sum()}/{len(dfWithoutDer.Taille)} valeurs nulles (={dfWithoutDer.Taille.isnull().sum()/len(dfWithoutDer.Taille)*100:.2f}%)\")\n",
    "\n",
    "print(f\"Poids: {dfWithoutDer.Poids.isnull().sum()}/{len(dfWithoutDer.Poids)} valeurs nulles (={dfWithoutDer.Poids.isnull().sum()/len(dfWithoutDer.Poids)*100:.2f}%)\".format())"
   ]
  },
  {
   "source": [
    "Nous voyons qu'il y a beaucoup trop de valeur nulles. Ces deux colonnes semblent donc difficilement exploitable. Nous pouvons cependant vérifier si pour les patients toutes les valeurs sont à nulles ou s'il n'existe que quelques entrées à nulle par patient mais qu'il y en a beaucoup. Dans ce cas nous pourrions enlever les lignes contenant des valeurs nulles, ou trouver un moyen d'attribuer une valeur à la place de Nan"
   ],
   "cell_type": "markdown",
   "metadata": {}
  },
  {
   "cell_type": "code",
   "execution_count": 80,
   "metadata": {},
   "outputs": [],
   "source": [
    "dfPersonIdIndex = dfWithoutDer.set_index('person_id',drop=True).sort_index()\n",
    "dfTPGroupBy = dfPersonIdIndex.groupby('person_id')"
   ]
  },
  {
   "cell_type": "code",
   "execution_count": 81,
   "metadata": {
    "tags": []
   },
   "outputs": [
    {
     "output_type": "stream",
     "name": "stdout",
     "text": [
      "Taille: 0 / 2219 utilisables\n",
      "Poids: 0 / 1498 utilisables\n"
     ]
    }
   ],
   "source": [
    "maybeUseful = 0\n",
    "valeurNulle = 0\n",
    "for i,_ in dfTPGroupBy:\n",
    "    if dfPersonIdIndex.loc[i].Taille.isnull().sum() > 0:\n",
    "        valeurNulle += 1\n",
    "        if dfPersonIdIndex.loc[i].Taille.isnull().sum() < len(dfPersonIdIndex.loc[i].Taille):\n",
    "            maybeUseful += 1\n",
    "\n",
    "print(f\"Taille: {maybeUseful} / {valeurNulle} utilisables\")\n",
    "\n",
    "maybeUseful = 0\n",
    "valeurNulle = 0\n",
    "c = 0\n",
    "for i,_ in dfTPGroupBy:\n",
    "    if dfPersonIdIndex.loc[i].Poids.isnull().sum() > 0:\n",
    "        valeurNulle += 1\n",
    "        if dfPersonIdIndex.loc[i].Poids.isnull().sum() < len(dfPersonIdIndex.loc[i].Poids):\n",
    "            maybeUseful += 1\n",
    "\n",
    "print(f\"Poids: {maybeUseful} / {valeurNulle} utilisables\")"
   ]
  },
  {
   "source": [
    "tailleNan = 0\n",
    "poidsNan = 0\n",
    "oneOfBoth = 0\n",
    "bothNan = 0\n",
    "totalEntries = 0\n",
    "for i,_ in dfTPGroupBy:\n",
    "    totalEntries += 1\n",
    "    hasTailleNan = False\n",
    "    hasPoidsNan = False\n",
    "    if dfPersonIdIndex.loc[i].Taille.isnull().sum() != 0:\n",
    "        tailleNan += 1\n",
    "        hasTailleNan = True\n",
    "    if dfPersonIdIndex.loc[i].Poids.isnull().sum() != 0:\n",
    "        poidsNan += 1\n",
    "        hasPoidsNan = True\n",
    "    if hasTailleNan or hasPoidsNan:\n",
    "        oneOfBoth += 1\n",
    "    if hasTailleNan and hasPoidsNan:\n",
    "        bothNan += 1\n",
    "print(\" --- Statistique par Utilisateur --- \")\n",
    "print(f\"{tailleNan} / {totalEntries} ({tailleNan/totalEntries*100:.2f}%) des utilisateurs ont une valeur nulle pour la taille\")\n",
    "print(f\"{poidsNan} / {totalEntries} ({poidsNan/totalEntries*100:.2f}%) des utilisateurs ont une valeur nulle pour le poids\")\n",
    "print(f\"{oneOfBoth} / {totalEntries} ({oneOfBoth/totalEntries*100:.2f}%) des utilisateurs ont une valeur nulle pour la taille ou le poids\")\n",
    "print(f\"{bothNan} / {totalEntries} ({bothNan/totalEntries*100:.2f}%) des utilisateurs ont les deux valeurs nulle pour la taille ou le poids\")\n",
    "\n"
   ],
   "cell_type": "code",
   "metadata": {
    "tags": []
   },
   "execution_count": 82,
   "outputs": [
    {
     "output_type": "stream",
     "name": "stdout",
     "text": [
      " --- Statistique par Utilisateur --- \n2219 / 4227 (52.50%) des utilisateurs ont une valeur nulle pour la taille\n1498 / 4227 (35.44%) des utilisateurs ont une valeur nulle pour le poids\n2220 / 4227 (52.52%) des utilisateurs ont une valeur nulle pour la taille ou le poids\n1497 / 4227 (35.42%) des utilisateurs ont les deux valeurs nulle pour la taille ou le poids\n"
     ]
    }
   ]
  },
  {
   "source": [
    "Nous concluons de l'analyse de ces données que soit toutes les valeurs de poids et de tailles sont entrées, soit aucunes. Cela rend ces informations innexploitables et nous supprimons donc les colonnes"
   ],
   "cell_type": "markdown",
   "metadata": {}
  },
  {
   "cell_type": "code",
   "execution_count": 84,
   "metadata": {},
   "outputs": [],
   "source": [
    "dfWithoutPT = dfWithoutDer.drop(['Taille', 'Poids'],axis='columns')"
   ]
  },
  {
   "source": [
    "## Suppressions diverses"
   ],
   "cell_type": "markdown",
   "metadata": {}
  },
  {
   "source": [
    "Enfin, certaines colonnes n'apportent pas d'informations nécessaires pour la prédiction, nous choisissons de toutes les supprimer ici"
   ],
   "cell_type": "markdown",
   "metadata": {}
  },
  {
   "cell_type": "code",
   "execution_count": 85,
   "metadata": {},
   "outputs": [
    {
     "output_type": "execute_result",
     "data": {
      "text/plain": [
       "person_id                               0\n",
       "specialty_label                         0\n",
       "contact_date                            0\n",
       "cip                                     0\n",
       "dosage_1                                0\n",
       "dose_1                                  0\n",
       "dose_2                                  0\n",
       "product_atc_code                        0\n",
       "box                                   253\n",
       "quantity                              153\n",
       "frequency_label                       147\n",
       "duration                             5100\n",
       "Traitement_Autres_A10_dep_201701    29649\n",
       "Traitement_Insulines_dep_201701     34850\n",
       "Pulse                                   0\n",
       "Tension Diastolique                     0\n",
       "Tension Systolique                      0\n",
       "Glycemie_prescription               35937\n",
       "HbA1c_prescription                  35766\n",
       "gender_code                             0\n",
       "Age_presc                               0\n",
       "year_of_birth                           0\n",
       "first_contact_date                      0\n",
       "dtype: int64"
      ]
     },
     "metadata": {},
     "execution_count": 85
    }
   ],
   "source": [
    "dfWithoutPT.isnull().sum()"
   ]
  },
  {
   "source": [
    "Les colonnes restantes avec des valeurs ```Nan``` ne nous intéresse pas, nous pouvons les supprimer"
   ],
   "cell_type": "markdown",
   "metadata": {}
  },
  {
   "cell_type": "code",
   "execution_count": 86,
   "metadata": {},
   "outputs": [],
   "source": [
    "nullAmount = dfWithoutPT.isnull().sum()\n",
    "\n",
    "columnNameToDrop = nullAmount[nullAmount.values > 0].index\n",
    "dfFinal = dfWithoutPT.drop(columnNameToDrop,axis='columns').drop(['cip','dosage_1','dose_1','dose_2'],axis='columns')"
   ]
  },
  {
   "source": [
    "# Traîtement des données"
   ],
   "cell_type": "markdown",
   "metadata": {}
  },
  {
   "source": [
    "## Conversion des données"
   ],
   "cell_type": "markdown",
   "metadata": {}
  },
  {
   "source": [
    "### Ajout du temps entre chaque visite (ce que l'on veut prédire)"
   ],
   "cell_type": "markdown",
   "metadata": {}
  },
  {
   "source": [
    "Nous créons d'abord la colonne ```wait_time``` pour qu'elle ait le type de donnée ```deltatime```. nous itèrerons plus tard sur chaque valeur de cette colonne pour lui enlever la valeur précédante pour chaque utilisateur, et ainsi avoir l'intervalle de temps entre chaque visite"
   ],
   "cell_type": "markdown",
   "metadata": {}
  },
  {
   "cell_type": "code",
   "execution_count": 87,
   "metadata": {
    "tags": []
   },
   "outputs": [],
   "source": [
    "wait_time = dfFinal.contact_date - dfFinal.first_contact_date\n",
    "\n",
    "dfWithTime = dfFinal.drop('first_contact_date',axis='columns')\n",
    "dfWithTime['wait_time'] = wait_time"
   ]
  },
  {
   "cell_type": "code",
   "execution_count": 88,
   "metadata": {},
   "outputs": [
    {
     "output_type": "execute_result",
     "data": {
      "text/plain": [
       "        person_id      specialty_label contact_date product_atc_code  Pulse  \\\n",
       "1        263659.0  Médecin généraliste   2014-09-24         C03CA01    70.0   \n",
       "2        263659.0  Médecin généraliste   2014-09-12         C03CA01    70.0   \n",
       "3        263659.0  Médecin généraliste   2015-03-26         C03CA01    60.0   \n",
       "4        263659.0  Médecin généraliste   2015-06-05         C03CA01    60.0   \n",
       "6      25182917.0  Médecin généraliste   2013-03-27         C09XA02    64.0   \n",
       "...           ...                  ...          ...              ...    ...   \n",
       "50625  26636453.0  Médecin généraliste   2016-11-16         C03CA01    60.0   \n",
       "50627  18889430.0  Médecin généraliste   2013-02-01         C03CA01    60.0   \n",
       "50629   2222336.0  Médecin généraliste   2013-07-01         C03CA01    72.0   \n",
       "50631  11363518.0  Médecin généraliste   2013-01-24         C03CA01    72.0   \n",
       "50632  18889430.0  Médecin généraliste   2013-01-24         C03CA01    72.0   \n",
       "\n",
       "       Tension Diastolique  Tension Systolique gender_code  Age_presc  \\\n",
       "1                    110.0                60.0           M       96.0   \n",
       "2                    118.0                70.0           M       96.0   \n",
       "3                    120.0                70.0           M       97.0   \n",
       "4                    120.0                70.0           M       97.0   \n",
       "6                    145.0                85.0           M       63.0   \n",
       "...                    ...                 ...         ...        ...   \n",
       "50625                120.0                60.0           M       79.0   \n",
       "50627                120.0                70.0           M       85.0   \n",
       "50629                130.0                70.0           F       78.0   \n",
       "50631                139.0                70.0           M       80.0   \n",
       "50632                120.0                70.0           M       85.0   \n",
       "\n",
       "       year_of_birth wait_time  \n",
       "1             1918.0 6019 days  \n",
       "2             1918.0 6007 days  \n",
       "3             1918.0 6202 days  \n",
       "4             1918.0 6273 days  \n",
       "6             1950.0  723 days  \n",
       "...              ...       ...  \n",
       "50625         1937.0 1737 days  \n",
       "50627         1928.0 1888 days  \n",
       "50629         1935.0 2685 days  \n",
       "50631         1933.0 5476 days  \n",
       "50632         1928.0 1880 days  \n",
       "\n",
       "[36876 rows x 11 columns]"
      ],
      "text/html": "<div>\n<style scoped>\n    .dataframe tbody tr th:only-of-type {\n        vertical-align: middle;\n    }\n\n    .dataframe tbody tr th {\n        vertical-align: top;\n    }\n\n    .dataframe thead th {\n        text-align: right;\n    }\n</style>\n<table border=\"1\" class=\"dataframe\">\n  <thead>\n    <tr style=\"text-align: right;\">\n      <th></th>\n      <th>person_id</th>\n      <th>specialty_label</th>\n      <th>contact_date</th>\n      <th>product_atc_code</th>\n      <th>Pulse</th>\n      <th>Tension Diastolique</th>\n      <th>Tension Systolique</th>\n      <th>gender_code</th>\n      <th>Age_presc</th>\n      <th>year_of_birth</th>\n      <th>wait_time</th>\n    </tr>\n  </thead>\n  <tbody>\n    <tr>\n      <th>1</th>\n      <td>263659.0</td>\n      <td>Médecin généraliste</td>\n      <td>2014-09-24</td>\n      <td>C03CA01</td>\n      <td>70.0</td>\n      <td>110.0</td>\n      <td>60.0</td>\n      <td>M</td>\n      <td>96.0</td>\n      <td>1918.0</td>\n      <td>6019 days</td>\n    </tr>\n    <tr>\n      <th>2</th>\n      <td>263659.0</td>\n      <td>Médecin généraliste</td>\n      <td>2014-09-12</td>\n      <td>C03CA01</td>\n      <td>70.0</td>\n      <td>118.0</td>\n      <td>70.0</td>\n      <td>M</td>\n      <td>96.0</td>\n      <td>1918.0</td>\n      <td>6007 days</td>\n    </tr>\n    <tr>\n      <th>3</th>\n      <td>263659.0</td>\n      <td>Médecin généraliste</td>\n      <td>2015-03-26</td>\n      <td>C03CA01</td>\n      <td>60.0</td>\n      <td>120.0</td>\n      <td>70.0</td>\n      <td>M</td>\n      <td>97.0</td>\n      <td>1918.0</td>\n      <td>6202 days</td>\n    </tr>\n    <tr>\n      <th>4</th>\n      <td>263659.0</td>\n      <td>Médecin généraliste</td>\n      <td>2015-06-05</td>\n      <td>C03CA01</td>\n      <td>60.0</td>\n      <td>120.0</td>\n      <td>70.0</td>\n      <td>M</td>\n      <td>97.0</td>\n      <td>1918.0</td>\n      <td>6273 days</td>\n    </tr>\n    <tr>\n      <th>6</th>\n      <td>25182917.0</td>\n      <td>Médecin généraliste</td>\n      <td>2013-03-27</td>\n      <td>C09XA02</td>\n      <td>64.0</td>\n      <td>145.0</td>\n      <td>85.0</td>\n      <td>M</td>\n      <td>63.0</td>\n      <td>1950.0</td>\n      <td>723 days</td>\n    </tr>\n    <tr>\n      <th>...</th>\n      <td>...</td>\n      <td>...</td>\n      <td>...</td>\n      <td>...</td>\n      <td>...</td>\n      <td>...</td>\n      <td>...</td>\n      <td>...</td>\n      <td>...</td>\n      <td>...</td>\n      <td>...</td>\n    </tr>\n    <tr>\n      <th>50625</th>\n      <td>26636453.0</td>\n      <td>Médecin généraliste</td>\n      <td>2016-11-16</td>\n      <td>C03CA01</td>\n      <td>60.0</td>\n      <td>120.0</td>\n      <td>60.0</td>\n      <td>M</td>\n      <td>79.0</td>\n      <td>1937.0</td>\n      <td>1737 days</td>\n    </tr>\n    <tr>\n      <th>50627</th>\n      <td>18889430.0</td>\n      <td>Médecin généraliste</td>\n      <td>2013-02-01</td>\n      <td>C03CA01</td>\n      <td>60.0</td>\n      <td>120.0</td>\n      <td>70.0</td>\n      <td>M</td>\n      <td>85.0</td>\n      <td>1928.0</td>\n      <td>1888 days</td>\n    </tr>\n    <tr>\n      <th>50629</th>\n      <td>2222336.0</td>\n      <td>Médecin généraliste</td>\n      <td>2013-07-01</td>\n      <td>C03CA01</td>\n      <td>72.0</td>\n      <td>130.0</td>\n      <td>70.0</td>\n      <td>F</td>\n      <td>78.0</td>\n      <td>1935.0</td>\n      <td>2685 days</td>\n    </tr>\n    <tr>\n      <th>50631</th>\n      <td>11363518.0</td>\n      <td>Médecin généraliste</td>\n      <td>2013-01-24</td>\n      <td>C03CA01</td>\n      <td>72.0</td>\n      <td>139.0</td>\n      <td>70.0</td>\n      <td>M</td>\n      <td>80.0</td>\n      <td>1933.0</td>\n      <td>5476 days</td>\n    </tr>\n    <tr>\n      <th>50632</th>\n      <td>18889430.0</td>\n      <td>Médecin généraliste</td>\n      <td>2013-01-24</td>\n      <td>C03CA01</td>\n      <td>72.0</td>\n      <td>120.0</td>\n      <td>70.0</td>\n      <td>M</td>\n      <td>85.0</td>\n      <td>1928.0</td>\n      <td>1880 days</td>\n    </tr>\n  </tbody>\n</table>\n<p>36876 rows × 11 columns</p>\n</div>"
     },
     "metadata": {},
     "execution_count": 88
    }
   ],
   "source": [
    "dfWithTime"
   ]
  },
  {
   "source": [
    "### Encodage des valeurs non numériques"
   ],
   "cell_type": "markdown",
   "metadata": {}
  },
  {
   "cell_type": "code",
   "execution_count": 89,
   "metadata": {},
   "outputs": [],
   "source": [
    "specialtyEncoder = LabelEncoder()\n",
    "ATCCodeEncoder = LabelEncoder()\n",
    "#frequencyLabelEncoder = LabelEncoder()\n",
    "#traitementAutresLabelEncoder = LabelEncoder()\n",
    "#traitementInsulineLabelEncoder = LabelEncoder()\n",
    "genderEncoder = LabelEncoder()\n",
    "\n",
    "dfWithTime.specialty_label = specialtyEncoder.fit_transform(dfWithTime.specialty_label)\n",
    "dfWithTime.product_atc_code = ATCCodeEncoder.fit_transform(dfWithTime.product_atc_code)\n",
    "#dfWithTime.frequency_label = frequencyLabelEncoder.fit_transform(dfWithTime.frequency_label.astype(str))\n",
    "#dfWithTime.Traitement_Autres_A10_dep_201701 = traitementAutresLabelEncoder.fit_transform#(dfWithTime.Traitement_Autres_A10_dep_201701.astype(str))\n",
    "#dfWithTime.Traitement_Insulines_dep_201701 = traitementInsulineLabelEncoder.fit_transform#(dfWithTime.Traitement_Insulines_dep_201701.astype(str))\n",
    "dfWithTime.gender_code = genderEncoder.fit_transform(dfWithTime.gender_code)\n"
   ]
  },
  {
   "source": [
    "### Conversion en ```TimeSeries```"
   ],
   "cell_type": "markdown",
   "metadata": {}
  },
  {
   "source": [
    "Nous définissons simplement le nouvel index comme la colonne donnant l'intervalle de temps entre chaque visite."
   ],
   "cell_type": "markdown",
   "metadata": {}
  },
  {
   "cell_type": "code",
   "execution_count": 90,
   "metadata": {},
   "outputs": [
    {
     "output_type": "execute_result",
     "data": {
      "text/plain": [
       "                         specialty_label  product_atc_code  Pulse  \\\n",
       "person_id  contact_date                                             \n",
       "291.0      2016-10-28                  2                10   72.0   \n",
       "           2016-11-04                  2                10   68.0   \n",
       "           2016-11-21                  2                10   84.0   \n",
       "           2017-01-16                  2                10   84.0   \n",
       "           2017-11-20                  2                10   92.0   \n",
       "...                                  ...               ...    ...   \n",
       "34823672.0 2017-04-15                  2                 8   68.0   \n",
       "           2017-06-26                  2                 8   74.0   \n",
       "           2017-08-30                  2                 8   80.0   \n",
       "           2017-09-11                  2                 8   74.0   \n",
       "           2018-08-02                  2                 8   78.0   \n",
       "\n",
       "                         Tension Diastolique  Tension Systolique  gender_code  \\\n",
       "person_id  contact_date                                                         \n",
       "291.0      2016-10-28                  130.0                60.0            1   \n",
       "           2016-11-04                  142.0                65.0            1   \n",
       "           2016-11-21                  140.0                75.0            1   \n",
       "           2017-01-16                  125.0                70.0            1   \n",
       "           2017-11-20                  115.0                60.0            1   \n",
       "...                                      ...                 ...          ...   \n",
       "34823672.0 2017-04-15                  140.0                60.0            0   \n",
       "           2017-06-26                  130.0                70.0            0   \n",
       "           2017-08-30                  130.0                70.0            0   \n",
       "           2017-09-11                  140.0                80.0            0   \n",
       "           2018-08-02                  130.0                70.0            0   \n",
       "\n",
       "                         Age_presc  year_of_birth wait_time  \n",
       "person_id  contact_date                                      \n",
       "291.0      2016-10-28         86.0         1930.0 6603 days  \n",
       "           2016-11-04         86.0         1930.0 6610 days  \n",
       "           2016-11-21         86.0         1930.0 6627 days  \n",
       "           2017-01-16         87.0         1930.0 6683 days  \n",
       "           2017-11-20         87.0         1930.0 6991 days  \n",
       "...                            ...            ...       ...  \n",
       "34823672.0 2017-04-15         73.0         1944.0    0 days  \n",
       "           2017-06-26         73.0         1944.0   72 days  \n",
       "           2017-08-30         73.0         1944.0  137 days  \n",
       "           2017-09-11         73.0         1944.0  149 days  \n",
       "           2018-08-02         74.0         1944.0  474 days  \n",
       "\n",
       "[36876 rows x 9 columns]"
      ],
      "text/html": "<div>\n<style scoped>\n    .dataframe tbody tr th:only-of-type {\n        vertical-align: middle;\n    }\n\n    .dataframe tbody tr th {\n        vertical-align: top;\n    }\n\n    .dataframe thead th {\n        text-align: right;\n    }\n</style>\n<table border=\"1\" class=\"dataframe\">\n  <thead>\n    <tr style=\"text-align: right;\">\n      <th></th>\n      <th></th>\n      <th>specialty_label</th>\n      <th>product_atc_code</th>\n      <th>Pulse</th>\n      <th>Tension Diastolique</th>\n      <th>Tension Systolique</th>\n      <th>gender_code</th>\n      <th>Age_presc</th>\n      <th>year_of_birth</th>\n      <th>wait_time</th>\n    </tr>\n    <tr>\n      <th>person_id</th>\n      <th>contact_date</th>\n      <th></th>\n      <th></th>\n      <th></th>\n      <th></th>\n      <th></th>\n      <th></th>\n      <th></th>\n      <th></th>\n      <th></th>\n    </tr>\n  </thead>\n  <tbody>\n    <tr>\n      <th rowspan=\"5\" valign=\"top\">291.0</th>\n      <th>2016-10-28</th>\n      <td>2</td>\n      <td>10</td>\n      <td>72.0</td>\n      <td>130.0</td>\n      <td>60.0</td>\n      <td>1</td>\n      <td>86.0</td>\n      <td>1930.0</td>\n      <td>6603 days</td>\n    </tr>\n    <tr>\n      <th>2016-11-04</th>\n      <td>2</td>\n      <td>10</td>\n      <td>68.0</td>\n      <td>142.0</td>\n      <td>65.0</td>\n      <td>1</td>\n      <td>86.0</td>\n      <td>1930.0</td>\n      <td>6610 days</td>\n    </tr>\n    <tr>\n      <th>2016-11-21</th>\n      <td>2</td>\n      <td>10</td>\n      <td>84.0</td>\n      <td>140.0</td>\n      <td>75.0</td>\n      <td>1</td>\n      <td>86.0</td>\n      <td>1930.0</td>\n      <td>6627 days</td>\n    </tr>\n    <tr>\n      <th>2017-01-16</th>\n      <td>2</td>\n      <td>10</td>\n      <td>84.0</td>\n      <td>125.0</td>\n      <td>70.0</td>\n      <td>1</td>\n      <td>87.0</td>\n      <td>1930.0</td>\n      <td>6683 days</td>\n    </tr>\n    <tr>\n      <th>2017-11-20</th>\n      <td>2</td>\n      <td>10</td>\n      <td>92.0</td>\n      <td>115.0</td>\n      <td>60.0</td>\n      <td>1</td>\n      <td>87.0</td>\n      <td>1930.0</td>\n      <td>6991 days</td>\n    </tr>\n    <tr>\n      <th>...</th>\n      <th>...</th>\n      <td>...</td>\n      <td>...</td>\n      <td>...</td>\n      <td>...</td>\n      <td>...</td>\n      <td>...</td>\n      <td>...</td>\n      <td>...</td>\n      <td>...</td>\n    </tr>\n    <tr>\n      <th rowspan=\"5\" valign=\"top\">34823672.0</th>\n      <th>2017-04-15</th>\n      <td>2</td>\n      <td>8</td>\n      <td>68.0</td>\n      <td>140.0</td>\n      <td>60.0</td>\n      <td>0</td>\n      <td>73.0</td>\n      <td>1944.0</td>\n      <td>0 days</td>\n    </tr>\n    <tr>\n      <th>2017-06-26</th>\n      <td>2</td>\n      <td>8</td>\n      <td>74.0</td>\n      <td>130.0</td>\n      <td>70.0</td>\n      <td>0</td>\n      <td>73.0</td>\n      <td>1944.0</td>\n      <td>72 days</td>\n    </tr>\n    <tr>\n      <th>2017-08-30</th>\n      <td>2</td>\n      <td>8</td>\n      <td>80.0</td>\n      <td>130.0</td>\n      <td>70.0</td>\n      <td>0</td>\n      <td>73.0</td>\n      <td>1944.0</td>\n      <td>137 days</td>\n    </tr>\n    <tr>\n      <th>2017-09-11</th>\n      <td>2</td>\n      <td>8</td>\n      <td>74.0</td>\n      <td>140.0</td>\n      <td>80.0</td>\n      <td>0</td>\n      <td>73.0</td>\n      <td>1944.0</td>\n      <td>149 days</td>\n    </tr>\n    <tr>\n      <th>2018-08-02</th>\n      <td>2</td>\n      <td>8</td>\n      <td>78.0</td>\n      <td>130.0</td>\n      <td>70.0</td>\n      <td>0</td>\n      <td>74.0</td>\n      <td>1944.0</td>\n      <td>474 days</td>\n    </tr>\n  </tbody>\n</table>\n<p>36876 rows × 9 columns</p>\n</div>"
     },
     "metadata": {},
     "execution_count": 90
    }
   ],
   "source": [
    "ts = dfWithTime.set_index(['person_id','contact_date']).sort_index()\n",
    "ts"
   ]
  },
  {
   "source": [
    "### Attribution des bonnes valeurs de ```time_wait```"
   ],
   "cell_type": "markdown",
   "metadata": {}
  },
  {
   "cell_type": "code",
   "execution_count": 91,
   "metadata": {
    "tags": []
   },
   "outputs": [],
   "source": [
    "tsWithTime = ts\n",
    "for i,_ in ts.groupby('person_id'):\n",
    "    for j in range(len(ts.loc[i].wait_time)-1,0,-1):\n",
    "        tsWithTime.loc[i].wait_time[j] = ts.loc[i].wait_time[j] - ts.loc[i].wait_time[j-1]\n",
    "    tsWithTime.loc[i].wait_time[0] = pd.Timedelta(0)"
   ]
  },
  {
   "cell_type": "code",
   "execution_count": 92,
   "metadata": {},
   "outputs": [
    {
     "output_type": "execute_result",
     "data": {
      "text/plain": [
       "person_id   contact_date\n",
       "291.0       2016-10-28       0 days\n",
       "            2016-11-04       7 days\n",
       "            2016-11-21      17 days\n",
       "            2017-01-16      56 days\n",
       "            2017-11-20     308 days\n",
       "                             ...   \n",
       "34823672.0  2017-04-15       0 days\n",
       "            2017-06-26      72 days\n",
       "            2017-08-30      65 days\n",
       "            2017-09-11      12 days\n",
       "            2018-08-02     325 days\n",
       "Name: wait_time, Length: 36876, dtype: timedelta64[ns]"
      ]
     },
     "metadata": {},
     "execution_count": 92
    }
   ],
   "source": [
    "tsWithTime.wait_time"
   ]
  },
  {
   "source": [
    "### Transformation de ```wait_time``` en valeur numérique"
   ],
   "cell_type": "markdown",
   "metadata": {}
  },
  {
   "cell_type": "code",
   "execution_count": 93,
   "metadata": {},
   "outputs": [],
   "source": [
    "tsWithTime.wait_time = tsWithTime.wait_time.dt.days"
   ]
  },
  {
   "cell_type": "code",
   "execution_count": 94,
   "metadata": {},
   "outputs": [
    {
     "output_type": "execute_result",
     "data": {
      "text/plain": [
       "person_id   contact_date\n",
       "291.0       2016-10-28        0\n",
       "            2016-11-04        7\n",
       "            2016-11-21       17\n",
       "            2017-01-16       56\n",
       "            2017-11-20      308\n",
       "                           ... \n",
       "34823672.0  2017-04-15        0\n",
       "            2017-06-26       72\n",
       "            2017-08-30       65\n",
       "            2017-09-11       12\n",
       "            2018-08-02      325\n",
       "Name: wait_time, Length: 36876, dtype: int64"
      ]
     },
     "metadata": {},
     "execution_count": 94
    }
   ],
   "source": [
    "tsWithTime.wait_time"
   ]
  },
  {
   "source": [
    "## Traîtement des valeurs ```Nan```"
   ],
   "cell_type": "markdown",
   "metadata": {}
  },
  {
   "source": [
    "```VOIR S'IL Y A ENCORE DES NAN ET LES TRAÎTER```"
   ],
   "cell_type": "markdown",
   "metadata": {}
  },
  {
   "source": [
    "# Prédiction"
   ],
   "cell_type": "markdown",
   "metadata": {}
  },
  {
   "source": [
    "## Création des données d'entraînement/test"
   ],
   "cell_type": "markdown",
   "metadata": {}
  },
  {
   "cell_type": "code",
   "execution_count": null,
   "metadata": {},
   "outputs": [],
   "source": []
  },
  {
   "cell_type": "code",
   "execution_count": 164,
   "metadata": {},
   "outputs": [
    {
     "output_type": "execute_result",
     "data": {
      "text/plain": [
       "6"
      ]
     },
     "metadata": {},
     "execution_count": 164
    }
   ],
   "source": [
    "len(tsWithTime.loc[291.0].product_atc_code)"
   ]
  },
  {
   "cell_type": "code",
   "execution_count": 177,
   "metadata": {
    "tags": []
   },
   "outputs": [],
   "source": [
    "# Il y a peut être moyen de s'en sortir ici et de récupérer plus de donnée en regroupant chaque ensemble de point par série de 4 séries temporelles\n",
    "yColumNames = ['product_atc_code','wait_time']\n",
    "\n",
    "xList,atcList,waitTimeList = [],[],[]\n",
    "for i,_ in ts.groupby('person_id'):\n",
    "    # Mme ZERHAOUI a dit qu'il fallait transposer, je transpose\n",
    "    # Pour l'instant je retourne au model évident : une série temporel qui contient 4 éléments de n_features données, on verra après pour la trasposition\n",
    "    # xList.append(xDf.loc[i][:sliceNumber].to_numpy().astype('float32').transpose())\n",
    "    currentSeries = tsWithTime.loc[i]\n",
    "    for j in range(0,len(currentSeries)-VISIT_NUMBER,1):\n",
    "        xList.append(currentSeries[j:j+VISIT_NUMBER-1].to_numpy().astype('float32'))\n",
    "        atcList.append(tsWithTime.loc[i].product_atc_code[j+VISIT_NUMBER-1].astype('float32'))\n",
    "        waitTimeList.append(tsWithTime.loc[i].wait_time[j+VISIT_NUMBER-1].astype('float32'))\n",
    "        c += 1\n",
    "\n",
    "xData = np.array(xList).reshape((len(xList),xList[0].shape[0],xList[0].shape[1]))\n",
    "atcData = np.array(atcList)\n",
    "waitTimeData = np.array(waitTimeList)"
   ]
  },
  {
   "cell_type": "code",
   "execution_count": 179,
   "metadata": {},
   "outputs": [
    {
     "output_type": "stream",
     "name": "stdout",
     "text": [
      "(19968, 3, 9), (19968,),   (19968,)\n"
     ]
    }
   ],
   "source": [
    "print(f\"{xData.shape}, {atcData.shape},   {waitTimeData.shape}\")"
   ]
  },
  {
   "cell_type": "code",
   "execution_count": 182,
   "metadata": {},
   "outputs": [],
   "source": [
    "# On crée un jeu d'entraînement et de test :\n",
    "#  - l'entraînement se fait sur 80% du jeu de donnée total\n",
    "#  - le test se fait donc sur 20%\n",
    "\n",
    "trainUse = int(xData.shape[0] * 80 / 100)\n",
    "testUse = xData.shape[0] - trainUse\n",
    "\n",
    "xTrain, xTest, atcTrain, atcTest, waitTimeTrain, timeWaitTest = xData[:trainUse],xData[-testUse:],atcData[:trainUse],atcData[-testUse:],waitTimeData[:trainUse],waitTimeData[-testUse:]"
   ]
  },
  {
   "source": [
    "## Création du modèle"
   ],
   "cell_type": "markdown",
   "metadata": {}
  },
  {
   "cell_type": "code",
   "execution_count": 183,
   "metadata": {},
   "outputs": [
    {
     "output_type": "stream",
     "name": "stdout",
     "text": [
      "(15974, 3, 9), (15974,), (15974,)\n"
     ]
    }
   ],
   "source": [
    "print(f\"{xTrain.shape}, {atcTrain.shape}, {waitTimeTrain.shape}\")"
   ]
  },
  {
   "cell_type": "code",
   "execution_count": 200,
   "metadata": {},
   "outputs": [],
   "source": [
    "# Alors c'est totalement au hasard, j'ai essayé de suivre ce qu'il y avait dans la partie 'keras exemple' du lien que farida nous a donné :\n",
    "# cf : https://towardsdatascience.com/how-to-use-convolutional-neural-networks-for-time-series-classification-56b1b0a07a57\n",
    "model = models.Sequential()\n",
    "kernelNumber = 64\n",
    "model.add(layers.Conv1D(kernelNumber,2,activation='relu',input_shape=(VISIT_NUMBER-1,xTrain.shape[2])))\n",
    "model.add(layers.MaxPool1D(2))\n",
    "model.add(layers.Flatten())\n",
    "model.add(layers.Dense(43))\n",
    "model.add(layers.Dense(atcData.max()+1,activation='sigmoid'))"
   ]
  },
  {
   "cell_type": "code",
   "execution_count": 201,
   "metadata": {},
   "outputs": [
    {
     "output_type": "stream",
     "name": "stdout",
     "text": [
      "Model: \"sequential_14\"\n_________________________________________________________________\nLayer (type)                 Output Shape              Param #   \n=================================================================\nconv1d_14 (Conv1D)           (None, 2, 64)             1216      \n_________________________________________________________________\nmax_pooling1d_12 (MaxPooling (None, 1, 64)             0         \n_________________________________________________________________\nflatten_8 (Flatten)          (None, 64)                0         \n_________________________________________________________________\ndense_12 (Dense)             (None, 43)                2795      \n_________________________________________________________________\ndense_13 (Dense)             (None, 33)                1452      \n=================================================================\nTotal params: 5,463\nTrainable params: 5,463\nNon-trainable params: 0\n_________________________________________________________________\n"
     ]
    }
   ],
   "source": [
    "model.summary()"
   ]
  },
  {
   "cell_type": "code",
   "execution_count": 197,
   "metadata": {},
   "outputs": [],
   "source": [
    "# model.compile(optimizer='adam',loss='sparse_categorical_crossentropy',metrics=['accuracy'])\n",
    "model.compile(optimizer='adam',loss='sparse_categorical_crossentropy',metrics=['sparse_categorical_accuracy'])"
   ]
  },
  {
   "cell_type": "code",
   "execution_count": 198,
   "metadata": {},
   "outputs": [
    {
     "output_type": "stream",
     "name": "stdout",
     "text": [
      "Epoch 1/100\n",
      "500/500 [==============================] - 1s 1ms/step - loss: 6.8768 - sparse_categorical_accuracy: 0.1173 - val_loss: 5.5931 - val_sparse_categorical_accuracy: 0.1079\n",
      "Epoch 2/100\n",
      "500/500 [==============================] - 1s 1ms/step - loss: 6.8800 - sparse_categorical_accuracy: 0.1174 - val_loss: 5.5931 - val_sparse_categorical_accuracy: 0.1079\n",
      "Epoch 3/100\n",
      "500/500 [==============================] - 1s 1ms/step - loss: 6.8800 - sparse_categorical_accuracy: 0.1174 - val_loss: 5.5931 - val_sparse_categorical_accuracy: 0.1079\n",
      "Epoch 4/100\n",
      "500/500 [==============================] - 1s 1ms/step - loss: 6.8800 - sparse_categorical_accuracy: 0.1174 - val_loss: 5.5931 - val_sparse_categorical_accuracy: 0.1079\n",
      "Epoch 5/100\n",
      "500/500 [==============================] - 1s 1ms/step - loss: 6.8800 - sparse_categorical_accuracy: 0.1174 - val_loss: 5.5931 - val_sparse_categorical_accuracy: 0.1079\n",
      "Epoch 6/100\n",
      "500/500 [==============================] - 1s 1ms/step - loss: 6.8800 - sparse_categorical_accuracy: 0.1174 - val_loss: 5.5931 - val_sparse_categorical_accuracy: 0.1079\n",
      "Epoch 7/100\n",
      "500/500 [==============================] - 1s 1ms/step - loss: 6.8800 - sparse_categorical_accuracy: 0.1174 - val_loss: 5.5931 - val_sparse_categorical_accuracy: 0.1079\n",
      "Epoch 8/100\n",
      "500/500 [==============================] - 1s 1ms/step - loss: 6.8800 - sparse_categorical_accuracy: 0.1174 - val_loss: 5.5931 - val_sparse_categorical_accuracy: 0.1079\n",
      "Epoch 9/100\n",
      "500/500 [==============================] - 1s 1ms/step - loss: 6.8800 - sparse_categorical_accuracy: 0.1174 - val_loss: 5.5931 - val_sparse_categorical_accuracy: 0.1079\n",
      "Epoch 10/100\n",
      "500/500 [==============================] - 1s 1ms/step - loss: 6.8800 - sparse_categorical_accuracy: 0.1174 - val_loss: 5.5931 - val_sparse_categorical_accuracy: 0.1079\n",
      "Epoch 11/100\n",
      "500/500 [==============================] - 1s 1ms/step - loss: 6.8800 - sparse_categorical_accuracy: 0.1174 - val_loss: 5.5931 - val_sparse_categorical_accuracy: 0.1079\n",
      "Epoch 12/100\n",
      "500/500 [==============================] - 1s 1ms/step - loss: 6.8800 - sparse_categorical_accuracy: 0.1174 - val_loss: 5.5931 - val_sparse_categorical_accuracy: 0.1079\n",
      "Epoch 13/100\n",
      "500/500 [==============================] - 1s 1ms/step - loss: 6.8800 - sparse_categorical_accuracy: 0.1174 - val_loss: 5.5931 - val_sparse_categorical_accuracy: 0.1079\n",
      "Epoch 14/100\n",
      "500/500 [==============================] - 1s 1ms/step - loss: 6.8800 - sparse_categorical_accuracy: 0.1174 - val_loss: 5.5931 - val_sparse_categorical_accuracy: 0.1079\n",
      "Epoch 15/100\n",
      "500/500 [==============================] - 1s 1ms/step - loss: 6.8800 - sparse_categorical_accuracy: 0.1174 - val_loss: 5.5931 - val_sparse_categorical_accuracy: 0.1079\n",
      "Epoch 16/100\n",
      "500/500 [==============================] - 1s 1ms/step - loss: 6.8800 - sparse_categorical_accuracy: 0.1174 - val_loss: 5.5931 - val_sparse_categorical_accuracy: 0.1079\n",
      "Epoch 17/100\n",
      "500/500 [==============================] - 1s 1ms/step - loss: 6.8800 - sparse_categorical_accuracy: 0.1174 - val_loss: 5.5931 - val_sparse_categorical_accuracy: 0.1079\n",
      "Epoch 18/100\n",
      "500/500 [==============================] - 1s 1ms/step - loss: 6.8800 - sparse_categorical_accuracy: 0.1174 - val_loss: 5.5931 - val_sparse_categorical_accuracy: 0.1079\n",
      "Epoch 19/100\n",
      "500/500 [==============================] - 1s 1ms/step - loss: 6.8800 - sparse_categorical_accuracy: 0.1174 - val_loss: 5.5931 - val_sparse_categorical_accuracy: 0.1079\n",
      "Epoch 20/100\n",
      "500/500 [==============================] - 1s 1ms/step - loss: 6.8800 - sparse_categorical_accuracy: 0.1174 - val_loss: 5.5931 - val_sparse_categorical_accuracy: 0.1079\n",
      "Epoch 21/100\n",
      "500/500 [==============================] - 1s 1ms/step - loss: 6.8800 - sparse_categorical_accuracy: 0.1174 - val_loss: 5.5931 - val_sparse_categorical_accuracy: 0.1079\n",
      "Epoch 22/100\n",
      "500/500 [==============================] - 1s 1ms/step - loss: 6.8800 - sparse_categorical_accuracy: 0.1174 - val_loss: 5.5931 - val_sparse_categorical_accuracy: 0.1079\n",
      "Epoch 23/100\n",
      "500/500 [==============================] - 1s 1ms/step - loss: 6.8800 - sparse_categorical_accuracy: 0.1174 - val_loss: 5.5931 - val_sparse_categorical_accuracy: 0.1079\n",
      "Epoch 24/100\n",
      "500/500 [==============================] - 1s 1ms/step - loss: 6.8800 - sparse_categorical_accuracy: 0.1174 - val_loss: 5.5931 - val_sparse_categorical_accuracy: 0.1079\n",
      "Epoch 25/100\n",
      "500/500 [==============================] - 1s 1ms/step - loss: 6.8800 - sparse_categorical_accuracy: 0.1174 - val_loss: 5.5931 - val_sparse_categorical_accuracy: 0.1079\n",
      "Epoch 26/100\n",
      "500/500 [==============================] - 1s 1ms/step - loss: 6.8800 - sparse_categorical_accuracy: 0.1174 - val_loss: 5.5931 - val_sparse_categorical_accuracy: 0.1079\n",
      "Epoch 27/100\n",
      "500/500 [==============================] - 1s 1ms/step - loss: 6.8800 - sparse_categorical_accuracy: 0.1174 - val_loss: 5.5931 - val_sparse_categorical_accuracy: 0.1079\n",
      "Epoch 28/100\n",
      "500/500 [==============================] - 1s 1ms/step - loss: 6.8800 - sparse_categorical_accuracy: 0.1174 - val_loss: 5.5931 - val_sparse_categorical_accuracy: 0.1079\n",
      "Epoch 29/100\n",
      "500/500 [==============================] - 1s 1ms/step - loss: 6.8800 - sparse_categorical_accuracy: 0.1174 - val_loss: 5.5931 - val_sparse_categorical_accuracy: 0.1079\n",
      "Epoch 30/100\n",
      "500/500 [==============================] - 1s 1ms/step - loss: 6.8800 - sparse_categorical_accuracy: 0.1174 - val_loss: 5.5931 - val_sparse_categorical_accuracy: 0.1079\n",
      "Epoch 31/100\n",
      "500/500 [==============================] - 1s 1ms/step - loss: 6.8800 - sparse_categorical_accuracy: 0.1174 - val_loss: 5.5931 - val_sparse_categorical_accuracy: 0.1079\n",
      "Epoch 32/100\n",
      "500/500 [==============================] - 1s 1ms/step - loss: 6.8800 - sparse_categorical_accuracy: 0.1174 - val_loss: 5.5931 - val_sparse_categorical_accuracy: 0.1079\n",
      "Epoch 33/100\n",
      "500/500 [==============================] - 1s 1ms/step - loss: 6.8800 - sparse_categorical_accuracy: 0.1174 - val_loss: 5.5931 - val_sparse_categorical_accuracy: 0.1079\n",
      "Epoch 34/100\n",
      "500/500 [==============================] - 1s 1ms/step - loss: 6.8800 - sparse_categorical_accuracy: 0.1174 - val_loss: 5.5931 - val_sparse_categorical_accuracy: 0.1079\n",
      "Epoch 35/100\n",
      "500/500 [==============================] - 1s 1ms/step - loss: 6.8800 - sparse_categorical_accuracy: 0.1174 - val_loss: 5.5931 - val_sparse_categorical_accuracy: 0.1079\n",
      "Epoch 36/100\n",
      "500/500 [==============================] - 1s 1ms/step - loss: 6.8800 - sparse_categorical_accuracy: 0.1174 - val_loss: 5.5931 - val_sparse_categorical_accuracy: 0.1079\n",
      "Epoch 37/100\n",
      "500/500 [==============================] - 1s 1ms/step - loss: 6.8800 - sparse_categorical_accuracy: 0.1174 - val_loss: 5.5931 - val_sparse_categorical_accuracy: 0.1079\n",
      "Epoch 38/100\n",
      "500/500 [==============================] - 1s 1ms/step - loss: 6.8800 - sparse_categorical_accuracy: 0.1174 - val_loss: 5.5931 - val_sparse_categorical_accuracy: 0.1079\n",
      "Epoch 39/100\n",
      "500/500 [==============================] - 1s 1ms/step - loss: 6.8800 - sparse_categorical_accuracy: 0.1174 - val_loss: 5.5931 - val_sparse_categorical_accuracy: 0.1079\n",
      "Epoch 40/100\n",
      "500/500 [==============================] - 1s 1ms/step - loss: 6.8800 - sparse_categorical_accuracy: 0.1174 - val_loss: 5.5931 - val_sparse_categorical_accuracy: 0.1079\n",
      "Epoch 41/100\n",
      "500/500 [==============================] - 1s 1ms/step - loss: 6.8800 - sparse_categorical_accuracy: 0.1174 - val_loss: 5.5931 - val_sparse_categorical_accuracy: 0.1079\n",
      "Epoch 42/100\n",
      "500/500 [==============================] - 1s 1ms/step - loss: 6.8800 - sparse_categorical_accuracy: 0.1174 - val_loss: 5.5931 - val_sparse_categorical_accuracy: 0.1079\n",
      "Epoch 43/100\n",
      "500/500 [==============================] - 1s 1ms/step - loss: 6.8800 - sparse_categorical_accuracy: 0.1174 - val_loss: 5.5931 - val_sparse_categorical_accuracy: 0.1079\n",
      "Epoch 44/100\n",
      "500/500 [==============================] - 1s 1ms/step - loss: 6.8800 - sparse_categorical_accuracy: 0.1174 - val_loss: 5.5931 - val_sparse_categorical_accuracy: 0.1079\n",
      "Epoch 45/100\n",
      "500/500 [==============================] - 1s 1ms/step - loss: 6.8800 - sparse_categorical_accuracy: 0.1174 - val_loss: 5.5931 - val_sparse_categorical_accuracy: 0.1079\n",
      "Epoch 46/100\n",
      "500/500 [==============================] - 1s 1ms/step - loss: 6.8800 - sparse_categorical_accuracy: 0.1174 - val_loss: 5.5931 - val_sparse_categorical_accuracy: 0.1079\n",
      "Epoch 47/100\n",
      "500/500 [==============================] - 1s 1ms/step - loss: 6.8800 - sparse_categorical_accuracy: 0.1174 - val_loss: 5.5931 - val_sparse_categorical_accuracy: 0.1079\n",
      "Epoch 48/100\n",
      "500/500 [==============================] - 1s 1ms/step - loss: 6.8800 - sparse_categorical_accuracy: 0.1174 - val_loss: 5.5931 - val_sparse_categorical_accuracy: 0.1079\n",
      "Epoch 49/100\n",
      "500/500 [==============================] - 0s 884us/step - loss: 6.8800 - sparse_categorical_accuracy: 0.1174 - val_loss: 5.5931 - val_sparse_categorical_accuracy: 0.1079\n",
      "Epoch 50/100\n",
      "500/500 [==============================] - 1s 1ms/step - loss: 6.8800 - sparse_categorical_accuracy: 0.1174 - val_loss: 5.5931 - val_sparse_categorical_accuracy: 0.1079\n",
      "Epoch 51/100\n",
      "500/500 [==============================] - 1s 1ms/step - loss: 6.8800 - sparse_categorical_accuracy: 0.1174 - val_loss: 5.5931 - val_sparse_categorical_accuracy: 0.1079\n",
      "Epoch 52/100\n",
      "500/500 [==============================] - 1s 1ms/step - loss: 6.8800 - sparse_categorical_accuracy: 0.1174 - val_loss: 5.5931 - val_sparse_categorical_accuracy: 0.1079\n",
      "Epoch 53/100\n",
      "500/500 [==============================] - 0s 923us/step - loss: 6.8800 - sparse_categorical_accuracy: 0.1174 - val_loss: 5.5931 - val_sparse_categorical_accuracy: 0.1079\n",
      "Epoch 54/100\n",
      "500/500 [==============================] - 0s 904us/step - loss: 6.8800 - sparse_categorical_accuracy: 0.1174 - val_loss: 5.5931 - val_sparse_categorical_accuracy: 0.1079\n",
      "Epoch 55/100\n",
      "500/500 [==============================] - 0s 976us/step - loss: 6.8800 - sparse_categorical_accuracy: 0.1174 - val_loss: 5.5931 - val_sparse_categorical_accuracy: 0.1079\n",
      "Epoch 56/100\n",
      "500/500 [==============================] - 1s 1ms/step - loss: 6.8800 - sparse_categorical_accuracy: 0.1174 - val_loss: 5.5931 - val_sparse_categorical_accuracy: 0.1079\n",
      "Epoch 57/100\n",
      "500/500 [==============================] - 1s 1ms/step - loss: 6.8800 - sparse_categorical_accuracy: 0.1174 - val_loss: 5.5931 - val_sparse_categorical_accuracy: 0.1079\n",
      "Epoch 58/100\n",
      "500/500 [==============================] - 1s 1ms/step - loss: 6.8800 - sparse_categorical_accuracy: 0.1174 - val_loss: 5.5931 - val_sparse_categorical_accuracy: 0.1079\n",
      "Epoch 59/100\n",
      "500/500 [==============================] - 1s 1ms/step - loss: 6.8800 - sparse_categorical_accuracy: 0.1174 - val_loss: 5.5931 - val_sparse_categorical_accuracy: 0.1079\n",
      "Epoch 60/100\n",
      "500/500 [==============================] - 1s 1ms/step - loss: 6.8800 - sparse_categorical_accuracy: 0.1174 - val_loss: 5.5931 - val_sparse_categorical_accuracy: 0.1079\n",
      "Epoch 61/100\n",
      "500/500 [==============================] - 1s 1ms/step - loss: 6.8800 - sparse_categorical_accuracy: 0.1174 - val_loss: 5.5931 - val_sparse_categorical_accuracy: 0.1079\n",
      "Epoch 62/100\n",
      "500/500 [==============================] - 0s 941us/step - loss: 6.8800 - sparse_categorical_accuracy: 0.1174 - val_loss: 5.5931 - val_sparse_categorical_accuracy: 0.1079\n",
      "Epoch 63/100\n",
      "500/500 [==============================] - 1s 1ms/step - loss: 6.8800 - sparse_categorical_accuracy: 0.1174 - val_loss: 5.5931 - val_sparse_categorical_accuracy: 0.1079\n",
      "Epoch 64/100\n",
      "500/500 [==============================] - 1s 1ms/step - loss: 6.8800 - sparse_categorical_accuracy: 0.1174 - val_loss: 5.5931 - val_sparse_categorical_accuracy: 0.1079\n",
      "Epoch 65/100\n",
      "500/500 [==============================] - 0s 964us/step - loss: 6.8800 - sparse_categorical_accuracy: 0.1174 - val_loss: 5.5931 - val_sparse_categorical_accuracy: 0.1079\n",
      "Epoch 66/100\n",
      "500/500 [==============================] - 0s 911us/step - loss: 6.8800 - sparse_categorical_accuracy: 0.1174 - val_loss: 5.5931 - val_sparse_categorical_accuracy: 0.1079\n",
      "Epoch 67/100\n",
      "500/500 [==============================] - 1s 1ms/step - loss: 6.8800 - sparse_categorical_accuracy: 0.1174 - val_loss: 5.5931 - val_sparse_categorical_accuracy: 0.1079\n",
      "Epoch 68/100\n",
      "500/500 [==============================] - 1s 1ms/step - loss: 6.8800 - sparse_categorical_accuracy: 0.1174 - val_loss: 5.5931 - val_sparse_categorical_accuracy: 0.1079\n",
      "Epoch 69/100\n",
      "500/500 [==============================] - 1s 1ms/step - loss: 6.8800 - sparse_categorical_accuracy: 0.1174 - val_loss: 5.5931 - val_sparse_categorical_accuracy: 0.1079\n",
      "Epoch 70/100\n",
      "500/500 [==============================] - 1s 1ms/step - loss: 6.8800 - sparse_categorical_accuracy: 0.1174 - val_loss: 5.5931 - val_sparse_categorical_accuracy: 0.1079\n",
      "Epoch 71/100\n",
      "500/500 [==============================] - 1s 1ms/step - loss: 6.8800 - sparse_categorical_accuracy: 0.1174 - val_loss: 5.5931 - val_sparse_categorical_accuracy: 0.1079\n",
      "Epoch 72/100\n",
      "500/500 [==============================] - 0s 952us/step - loss: 6.8800 - sparse_categorical_accuracy: 0.1174 - val_loss: 5.5931 - val_sparse_categorical_accuracy: 0.1079\n",
      "Epoch 73/100\n",
      "500/500 [==============================] - 1s 1ms/step - loss: 6.8800 - sparse_categorical_accuracy: 0.1174 - val_loss: 5.5931 - val_sparse_categorical_accuracy: 0.1079\n",
      "Epoch 74/100\n",
      "500/500 [==============================] - 1s 1ms/step - loss: 6.8800 - sparse_categorical_accuracy: 0.1174 - val_loss: 5.5931 - val_sparse_categorical_accuracy: 0.1079\n",
      "Epoch 75/100\n",
      "500/500 [==============================] - 1s 1ms/step - loss: 6.8800 - sparse_categorical_accuracy: 0.1174 - val_loss: 5.5931 - val_sparse_categorical_accuracy: 0.1079\n",
      "Epoch 76/100\n",
      "500/500 [==============================] - 1s 1ms/step - loss: 6.8800 - sparse_categorical_accuracy: 0.1174 - val_loss: 5.5931 - val_sparse_categorical_accuracy: 0.1079\n",
      "Epoch 77/100\n",
      "500/500 [==============================] - 1s 1ms/step - loss: 6.8800 - sparse_categorical_accuracy: 0.1174 - val_loss: 5.5931 - val_sparse_categorical_accuracy: 0.1079\n",
      "Epoch 78/100\n",
      "500/500 [==============================] - 1s 1ms/step - loss: 6.8800 - sparse_categorical_accuracy: 0.1174 - val_loss: 5.5931 - val_sparse_categorical_accuracy: 0.1079\n",
      "Epoch 79/100\n",
      "500/500 [==============================] - 1s 1ms/step - loss: 6.8800 - sparse_categorical_accuracy: 0.1174 - val_loss: 5.5931 - val_sparse_categorical_accuracy: 0.1079\n",
      "Epoch 80/100\n",
      "500/500 [==============================] - 1s 1ms/step - loss: 6.8800 - sparse_categorical_accuracy: 0.1174 - val_loss: 5.5931 - val_sparse_categorical_accuracy: 0.1079\n",
      "Epoch 81/100\n",
      "500/500 [==============================] - 1s 1ms/step - loss: 6.8800 - sparse_categorical_accuracy: 0.1174 - val_loss: 5.5931 - val_sparse_categorical_accuracy: 0.1079\n",
      "Epoch 82/100\n",
      "500/500 [==============================] - 1s 1ms/step - loss: 6.8800 - sparse_categorical_accuracy: 0.1174 - val_loss: 5.5931 - val_sparse_categorical_accuracy: 0.1079\n",
      "Epoch 83/100\n",
      "500/500 [==============================] - 1s 1ms/step - loss: 6.8800 - sparse_categorical_accuracy: 0.1174 - val_loss: 5.5931 - val_sparse_categorical_accuracy: 0.1079\n",
      "Epoch 84/100\n",
      "500/500 [==============================] - 1s 1ms/step - loss: 6.8800 - sparse_categorical_accuracy: 0.1174 - val_loss: 5.5931 - val_sparse_categorical_accuracy: 0.1079\n",
      "Epoch 85/100\n",
      "500/500 [==============================] - 1s 1ms/step - loss: 6.8800 - sparse_categorical_accuracy: 0.1174 - val_loss: 5.5931 - val_sparse_categorical_accuracy: 0.1079\n",
      "Epoch 86/100\n",
      "500/500 [==============================] - 1s 1ms/step - loss: 6.8800 - sparse_categorical_accuracy: 0.1174 - val_loss: 5.5931 - val_sparse_categorical_accuracy: 0.1079\n",
      "Epoch 87/100\n",
      "500/500 [==============================] - 1s 1ms/step - loss: 6.8800 - sparse_categorical_accuracy: 0.1174 - val_loss: 5.5931 - val_sparse_categorical_accuracy: 0.1079\n",
      "Epoch 88/100\n",
      "500/500 [==============================] - 1s 1ms/step - loss: 6.8800 - sparse_categorical_accuracy: 0.1174 - val_loss: 5.5931 - val_sparse_categorical_accuracy: 0.1079\n",
      "Epoch 89/100\n",
      "500/500 [==============================] - 1s 1ms/step - loss: 6.8800 - sparse_categorical_accuracy: 0.1174 - val_loss: 5.5931 - val_sparse_categorical_accuracy: 0.1079\n",
      "Epoch 90/100\n",
      "500/500 [==============================] - 1s 1ms/step - loss: 6.8800 - sparse_categorical_accuracy: 0.1174 - val_loss: 5.5931 - val_sparse_categorical_accuracy: 0.1079\n",
      "Epoch 91/100\n",
      "500/500 [==============================] - 1s 1ms/step - loss: 6.8800 - sparse_categorical_accuracy: 0.1174 - val_loss: 5.5931 - val_sparse_categorical_accuracy: 0.1079\n",
      "Epoch 92/100\n",
      "500/500 [==============================] - 1s 1ms/step - loss: 6.8800 - sparse_categorical_accuracy: 0.1174 - val_loss: 5.5931 - val_sparse_categorical_accuracy: 0.1079\n",
      "Epoch 93/100\n",
      "500/500 [==============================] - 1s 1ms/step - loss: 6.8800 - sparse_categorical_accuracy: 0.1174 - val_loss: 5.5931 - val_sparse_categorical_accuracy: 0.1079\n",
      "Epoch 94/100\n",
      "500/500 [==============================] - 1s 1ms/step - loss: 6.8800 - sparse_categorical_accuracy: 0.1174 - val_loss: 5.5931 - val_sparse_categorical_accuracy: 0.1079\n",
      "Epoch 95/100\n",
      "500/500 [==============================] - 1s 1ms/step - loss: 6.8800 - sparse_categorical_accuracy: 0.1174 - val_loss: 5.5931 - val_sparse_categorical_accuracy: 0.1079\n",
      "Epoch 96/100\n",
      "500/500 [==============================] - 1s 1ms/step - loss: 6.8800 - sparse_categorical_accuracy: 0.1174 - val_loss: 5.5931 - val_sparse_categorical_accuracy: 0.1079\n",
      "Epoch 97/100\n",
      "500/500 [==============================] - 1s 2ms/step - loss: 6.8800 - sparse_categorical_accuracy: 0.1174 - val_loss: 5.5931 - val_sparse_categorical_accuracy: 0.1079\n",
      "Epoch 98/100\n",
      "500/500 [==============================] - 1s 1ms/step - loss: 6.8800 - sparse_categorical_accuracy: 0.1174 - val_loss: 5.5931 - val_sparse_categorical_accuracy: 0.1079\n",
      "Epoch 99/100\n",
      "500/500 [==============================] - 1s 1ms/step - loss: 6.8800 - sparse_categorical_accuracy: 0.1174 - val_loss: 5.5931 - val_sparse_categorical_accuracy: 0.1079\n",
      "Epoch 100/100\n",
      "500/500 [==============================] - 1s 1ms/step - loss: 6.8800 - sparse_categorical_accuracy: 0.1174 - val_loss: 5.5931 - val_sparse_categorical_accuracy: 0.1079\n"
     ]
    },
    {
     "output_type": "execute_result",
     "data": {
      "text/plain": [
       "<tensorflow.python.keras.callbacks.History at 0x7f18b2da1310>"
      ]
     },
     "metadata": {},
     "execution_count": 198
    }
   ],
   "source": [
    "# pour utiliser sparse cross entropy apparement il faut des valeurs entre 0 et 1 pourtant sur ce lien il l'utilise pour prédire les données mniste entre 0 et 9 'https://www.machinecurve.com/index.php/2019/10/06/how-to-use-sparse-categorical-crossentropy-in-keras/'\n",
    "model.fit(xTrain,atcTrain,epochs=100, validation_data=(xTest,atcTest))"
   ]
  },
  {
   "cell_type": "code",
   "execution_count": 188,
   "metadata": {},
   "outputs": [],
   "source": [
    "prediction = model.predict(xTest)\n",
    "argmaxs = prediction.argmax(axis=1)"
   ]
  },
  {
   "cell_type": "code",
   "execution_count": 189,
   "metadata": {},
   "outputs": [
    {
     "output_type": "stream",
     "name": "stdout",
     "text": [
      "0   0\n"
     ]
    }
   ],
   "source": [
    "print(f\"{argmaxs.max()}   {argmaxs.min()}\")"
   ]
  },
  {
   "cell_type": "code",
   "execution_count": 190,
   "metadata": {},
   "outputs": [
    {
     "output_type": "execute_result",
     "data": {
      "text/plain": [
       "array(['C02AC06 ', 'C02AC06 ', 'C02AC06 ', 'C02AC06 ', 'C02AC06 '],\n",
       "      dtype=object)"
      ]
     },
     "metadata": {},
     "execution_count": 190
    }
   ],
   "source": [
    "ATCCodeEncoder.inverse_transform(argmaxs[:5])"
   ]
  },
  {
   "cell_type": "code",
   "execution_count": 143,
   "metadata": {},
   "outputs": [
    {
     "output_type": "execute_result",
     "data": {
      "text/plain": [
       "array(['C03CA01 ', 'C02AC06 ', 'C09DB04 ', 'C07AB07 ', 'C03DA01 '],\n",
       "      dtype=object)"
      ]
     },
     "metadata": {},
     "execution_count": 143
    }
   ],
   "source": [
    "ATCCodeEncoder.inverse_transform(atcTest[:5].astype(int))"
   ]
  },
  {
   "cell_type": "code",
   "execution_count": null,
   "metadata": {},
   "outputs": [],
   "source": []
  }
 ]
}