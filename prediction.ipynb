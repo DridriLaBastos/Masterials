{
  "nbformat": 4,
  "nbformat_minor": 0,
  "metadata": {
    "language_info": {
      "codemirror_mode": {
        "name": "ipython",
        "version": 3
      },
      "file_extension": ".py",
      "mimetype": "text/x-python",
      "name": "python",
      "nbconvert_exporter": "python",
      "pygments_lexer": "ipython3",
      "version": "3.8.7-final"
    },
    "orig_nbformat": 2,
    "kernelspec": {
      "name": "python3",
      "display_name": "Python 3",
      "language": "python"
    },
    "colab": {
      "name": "prediction.ipynb",
      "provenance": []
    },
    "accelerator": "GPU"
  },
  "cells": [
    {
      "cell_type": "markdown",
      "metadata": {
        "id": "efaZ2tsGBt0c"
      },
      "source": [
        "# Predictions"
      ]
    },
    {
      "cell_type": "markdown",
      "metadata": {
        "id": "hUXYuA1KBt0u"
      },
      "source": [
        "## Imports"
      ]
    },
    {
      "cell_type": "code",
      "metadata": {
        "id": "tkh0VDKiBt0x"
      },
      "source": [
        "import pandas as pd\n",
        "import numpy as np\n",
        "\n",
        "from tensorflow.data import Dataset\n",
        "\n",
        "from sklearn.preprocessing import LabelEncoder\n",
        "from sklearn.preprocessing import OrdinalEncoder\n",
        "\n",
        "from matplotlib import pyplot as plt\n",
        "\n",
        "from keras import layers\n",
        "from keras import models\n",
        "from keras import losses\n",
        "from keras.utils import to_categorical\n",
        "from keras.preprocessing import timeseries_dataset_from_array"
      ],
      "execution_count": 1,
      "outputs": []
    },
    {
      "cell_type": "markdown",
      "metadata": {
        "id": "rh5BJWiTBt0z"
      },
      "source": [
        "## Test whether Notebook is running on Google Colab"
      ]
    },
    {
      "cell_type": "code",
      "metadata": {
        "id": "L1jsBk4HBt00"
      },
      "source": [
        "csvPath = ''\n",
        "if 'google.colab' in str(get_ipython()):\n",
        "  csvPath = 'https://github.com/DridriLaBastos/Masterials/raw/main/PatientsHTA.zip'\n",
        "else:\n",
        "  csvPath = 'PatientsHTA.zip'"
      ],
      "execution_count": 2,
      "outputs": []
    },
    {
      "cell_type": "code",
      "metadata": {
        "id": "R_PZ5gvfBt00"
      },
      "source": [
        "dateColumnNames = [\n",
        "    'contact_date',\n",
        "    'Glycemie_der_date',\n",
        "    'HbA1c_der_date',\n",
        "    'der_date_poids',\n",
        "    'der_date_taille',\n",
        "    'first_contact_date'\n",
        "]\n",
        "\n",
        "df = pd.read_csv(csvPath,engine='c',parse_dates=dateColumnNames)"
      ],
      "execution_count": 3,
      "outputs": []
    },
    {
      "cell_type": "markdown",
      "metadata": {
        "id": "u1H_O4iABt02"
      },
      "source": [
        "# Suppression des lignes trop peu nombreuses\n",
        "\n",
        "Nous souhaitons faire un apprentissage en utilisant la dimension temporelle comme filtre pour le CNN. Pour ça il faut donc que nous ayons plusieurs entrées. Avant de commencer à traîter les données, nous supprimons toutes les personnes qui n'ont pas rendu visite assez souvent à leur médecin. Ainsi, par le biais de ```person_id```, nous avons choisi arbitrairement que pour être utile à l'apprentissage, il faut au moins 3 visites par patients, soient toutes les lignes dont le ```person_id```est contenu plus de 3 fois dans tout le jeu de données."
      ]
    },
    {
      "cell_type": "code",
      "metadata": {
        "id": "OvG-6qVABt04"
      },
      "source": [
        "VISIT_NUMBER = 4\n",
        "valueCounts = df.person_id.value_counts()\n",
        "dfEnought = df[df.person_id.isin(valueCounts[valueCounts.values >= VISIT_NUMBER].index)]"
      ],
      "execution_count": 4,
      "outputs": []
    },
    {
      "cell_type": "markdown",
      "metadata": {
        "id": "t6-dtaEZBt05"
      },
      "source": [
        "# Suppression des colonnes innutiles"
      ]
    },
    {
      "cell_type": "markdown",
      "metadata": {
        "id": "gXurQoWcBt05"
      },
      "source": [
        "## Suppression de la colonne ```age_now```"
      ]
    },
    {
      "cell_type": "markdown",
      "metadata": {
        "id": "PMQLvlvwBt1C"
      },
      "source": [
        "Nous pouvons supprimer la colonne ```age_now``` car les données qu'elle contient sont identiques à celles de la colonne ```year_of_birth```."
      ]
    },
    {
      "cell_type": "code",
      "metadata": {
        "id": "vQ_ecbTgBt1F"
      },
      "source": [
        "dfWithoutAgeNow = dfEnought.drop('Age_now', axis='columns')"
      ],
      "execution_count": 5,
      "outputs": []
    },
    {
      "cell_type": "markdown",
      "metadata": {
        "id": "EVZw6fu5Bt1G"
      },
      "source": [
        "## Suppression de la colonne ```contact_id```\n",
        "\n",
        "En effet, la colonne ```contact_id``` ne représente aucun intérêt pour l'apprentissage car elle ne contient aucun information à même d'influer sur la prédiction."
      ]
    },
    {
      "cell_type": "code",
      "metadata": {
        "id": "bIhnr6Q8Bt1I"
      },
      "source": [
        "dfWithoutContactID = dfWithoutAgeNow.drop('contact_id',axis='columns')"
      ],
      "execution_count": 6,
      "outputs": []
    },
    {
      "cell_type": "markdown",
      "metadata": {
        "id": "oWGOZTSLBt1K"
      },
      "source": [
        "## Suppression des noms de médicaments"
      ]
    },
    {
      "cell_type": "code",
      "metadata": {
        "colab": {
          "base_uri": "https://localhost:8080/",
          "height": 1000
        },
        "id": "bloGqpJsBt1L",
        "outputId": "4b41948b-0163-483e-bcb2-524c08b8ee8a"
      },
      "source": [
        "dfGroupedByMoleculeLabel = dfWithoutContactID.groupby('product_atc_code')[['molecule_label','short_name','long_name','Classe','product_atc']].count()\n",
        "dfGroupedByMoleculeLabel"
      ],
      "execution_count": 7,
      "outputs": [
        {
          "output_type": "execute_result",
          "data": {
            "text/html": [
              "<div>\n",
              "<style scoped>\n",
              "    .dataframe tbody tr th:only-of-type {\n",
              "        vertical-align: middle;\n",
              "    }\n",
              "\n",
              "    .dataframe tbody tr th {\n",
              "        vertical-align: top;\n",
              "    }\n",
              "\n",
              "    .dataframe thead th {\n",
              "        text-align: right;\n",
              "    }\n",
              "</style>\n",
              "<table border=\"1\" class=\"dataframe\">\n",
              "  <thead>\n",
              "    <tr style=\"text-align: right;\">\n",
              "      <th></th>\n",
              "      <th>molecule_label</th>\n",
              "      <th>short_name</th>\n",
              "      <th>long_name</th>\n",
              "      <th>Classe</th>\n",
              "      <th>product_atc</th>\n",
              "    </tr>\n",
              "    <tr>\n",
              "      <th>product_atc_code</th>\n",
              "      <th></th>\n",
              "      <th></th>\n",
              "      <th></th>\n",
              "      <th></th>\n",
              "      <th></th>\n",
              "    </tr>\n",
              "  </thead>\n",
              "  <tbody>\n",
              "    <tr>\n",
              "      <th>C02AC06</th>\n",
              "      <td>4288</td>\n",
              "      <td>4288</td>\n",
              "      <td>4288</td>\n",
              "      <td>4288</td>\n",
              "      <td>4288</td>\n",
              "    </tr>\n",
              "    <tr>\n",
              "      <th>C03BX03</th>\n",
              "      <td>932</td>\n",
              "      <td>932</td>\n",
              "      <td>932</td>\n",
              "      <td>932</td>\n",
              "      <td>932</td>\n",
              "    </tr>\n",
              "    <tr>\n",
              "      <th>C03CA01</th>\n",
              "      <td>877</td>\n",
              "      <td>877</td>\n",
              "      <td>877</td>\n",
              "      <td>877</td>\n",
              "      <td>877</td>\n",
              "    </tr>\n",
              "    <tr>\n",
              "      <th>C03DA01</th>\n",
              "      <td>187</td>\n",
              "      <td>187</td>\n",
              "      <td>187</td>\n",
              "      <td>187</td>\n",
              "      <td>187</td>\n",
              "    </tr>\n",
              "    <tr>\n",
              "      <th>C03DA04</th>\n",
              "      <td>27</td>\n",
              "      <td>27</td>\n",
              "      <td>27</td>\n",
              "      <td>27</td>\n",
              "      <td>27</td>\n",
              "    </tr>\n",
              "    <tr>\n",
              "      <th>C03EA04</th>\n",
              "      <td>75</td>\n",
              "      <td>75</td>\n",
              "      <td>75</td>\n",
              "      <td>75</td>\n",
              "      <td>75</td>\n",
              "    </tr>\n",
              "    <tr>\n",
              "      <th>C03EB01</th>\n",
              "      <td>14</td>\n",
              "      <td>14</td>\n",
              "      <td>14</td>\n",
              "      <td>14</td>\n",
              "      <td>14</td>\n",
              "    </tr>\n",
              "    <tr>\n",
              "      <th>C07AA05</th>\n",
              "      <td>2</td>\n",
              "      <td>2</td>\n",
              "      <td>2</td>\n",
              "      <td>2</td>\n",
              "      <td>2</td>\n",
              "    </tr>\n",
              "    <tr>\n",
              "      <th>C07AB03</th>\n",
              "      <td>6466</td>\n",
              "      <td>6466</td>\n",
              "      <td>6466</td>\n",
              "      <td>6466</td>\n",
              "      <td>6466</td>\n",
              "    </tr>\n",
              "    <tr>\n",
              "      <th>C07AB04</th>\n",
              "      <td>39</td>\n",
              "      <td>39</td>\n",
              "      <td>39</td>\n",
              "      <td>39</td>\n",
              "      <td>39</td>\n",
              "    </tr>\n",
              "    <tr>\n",
              "      <th>C07AB07</th>\n",
              "      <td>6765</td>\n",
              "      <td>6765</td>\n",
              "      <td>6765</td>\n",
              "      <td>6765</td>\n",
              "      <td>6765</td>\n",
              "    </tr>\n",
              "    <tr>\n",
              "      <th>C07AB12</th>\n",
              "      <td>509</td>\n",
              "      <td>509</td>\n",
              "      <td>509</td>\n",
              "      <td>509</td>\n",
              "      <td>509</td>\n",
              "    </tr>\n",
              "    <tr>\n",
              "      <th>C07DB01</th>\n",
              "      <td>10</td>\n",
              "      <td>10</td>\n",
              "      <td>10</td>\n",
              "      <td>10</td>\n",
              "      <td>10</td>\n",
              "    </tr>\n",
              "    <tr>\n",
              "      <th>C08CA01</th>\n",
              "      <td>679</td>\n",
              "      <td>679</td>\n",
              "      <td>679</td>\n",
              "      <td>679</td>\n",
              "      <td>679</td>\n",
              "    </tr>\n",
              "    <tr>\n",
              "      <th>C08DB01</th>\n",
              "      <td>108</td>\n",
              "      <td>108</td>\n",
              "      <td>108</td>\n",
              "      <td>108</td>\n",
              "      <td>108</td>\n",
              "    </tr>\n",
              "    <tr>\n",
              "      <th>C09AA02</th>\n",
              "      <td>50</td>\n",
              "      <td>50</td>\n",
              "      <td>50</td>\n",
              "      <td>50</td>\n",
              "      <td>50</td>\n",
              "    </tr>\n",
              "    <tr>\n",
              "      <th>C09AA03</th>\n",
              "      <td>47</td>\n",
              "      <td>47</td>\n",
              "      <td>47</td>\n",
              "      <td>47</td>\n",
              "      <td>47</td>\n",
              "    </tr>\n",
              "    <tr>\n",
              "      <th>C09AA04</th>\n",
              "      <td>1183</td>\n",
              "      <td>1183</td>\n",
              "      <td>1183</td>\n",
              "      <td>1183</td>\n",
              "      <td>1183</td>\n",
              "    </tr>\n",
              "    <tr>\n",
              "      <th>C09AA05</th>\n",
              "      <td>232</td>\n",
              "      <td>232</td>\n",
              "      <td>232</td>\n",
              "      <td>232</td>\n",
              "      <td>232</td>\n",
              "    </tr>\n",
              "    <tr>\n",
              "      <th>C09AA06</th>\n",
              "      <td>20</td>\n",
              "      <td>20</td>\n",
              "      <td>20</td>\n",
              "      <td>20</td>\n",
              "      <td>20</td>\n",
              "    </tr>\n",
              "    <tr>\n",
              "      <th>C09BA02</th>\n",
              "      <td>11</td>\n",
              "      <td>11</td>\n",
              "      <td>11</td>\n",
              "      <td>11</td>\n",
              "      <td>11</td>\n",
              "    </tr>\n",
              "    <tr>\n",
              "      <th>C09BA04</th>\n",
              "      <td>920</td>\n",
              "      <td>920</td>\n",
              "      <td>920</td>\n",
              "      <td>920</td>\n",
              "      <td>920</td>\n",
              "    </tr>\n",
              "    <tr>\n",
              "      <th>C09CA01</th>\n",
              "      <td>277</td>\n",
              "      <td>277</td>\n",
              "      <td>277</td>\n",
              "      <td>277</td>\n",
              "      <td>277</td>\n",
              "    </tr>\n",
              "    <tr>\n",
              "      <th>C09CA03</th>\n",
              "      <td>2702</td>\n",
              "      <td>2702</td>\n",
              "      <td>2702</td>\n",
              "      <td>2702</td>\n",
              "      <td>2702</td>\n",
              "    </tr>\n",
              "    <tr>\n",
              "      <th>C09CA04</th>\n",
              "      <td>618</td>\n",
              "      <td>618</td>\n",
              "      <td>618</td>\n",
              "      <td>618</td>\n",
              "      <td>618</td>\n",
              "    </tr>\n",
              "    <tr>\n",
              "      <th>C09CA06</th>\n",
              "      <td>1291</td>\n",
              "      <td>1291</td>\n",
              "      <td>1291</td>\n",
              "      <td>1291</td>\n",
              "      <td>1291</td>\n",
              "    </tr>\n",
              "    <tr>\n",
              "      <th>C09CA07</th>\n",
              "      <td>109</td>\n",
              "      <td>109</td>\n",
              "      <td>109</td>\n",
              "      <td>109</td>\n",
              "      <td>109</td>\n",
              "    </tr>\n",
              "    <tr>\n",
              "      <th>C09DA01</th>\n",
              "      <td>542</td>\n",
              "      <td>542</td>\n",
              "      <td>542</td>\n",
              "      <td>542</td>\n",
              "      <td>542</td>\n",
              "    </tr>\n",
              "    <tr>\n",
              "      <th>C09DA03</th>\n",
              "      <td>1834</td>\n",
              "      <td>1834</td>\n",
              "      <td>1834</td>\n",
              "      <td>1834</td>\n",
              "      <td>1834</td>\n",
              "    </tr>\n",
              "    <tr>\n",
              "      <th>C09DA04</th>\n",
              "      <td>581</td>\n",
              "      <td>581</td>\n",
              "      <td>581</td>\n",
              "      <td>581</td>\n",
              "      <td>581</td>\n",
              "    </tr>\n",
              "    <tr>\n",
              "      <th>C09DB04</th>\n",
              "      <td>5212</td>\n",
              "      <td>5212</td>\n",
              "      <td>5212</td>\n",
              "      <td>5212</td>\n",
              "      <td>5212</td>\n",
              "    </tr>\n",
              "    <tr>\n",
              "      <th>C09XA02</th>\n",
              "      <td>63</td>\n",
              "      <td>63</td>\n",
              "      <td>63</td>\n",
              "      <td>63</td>\n",
              "      <td>63</td>\n",
              "    </tr>\n",
              "    <tr>\n",
              "      <th>C09XA52</th>\n",
              "      <td>206</td>\n",
              "      <td>206</td>\n",
              "      <td>206</td>\n",
              "      <td>206</td>\n",
              "      <td>206</td>\n",
              "    </tr>\n",
              "  </tbody>\n",
              "</table>\n",
              "</div>"
            ],
            "text/plain": [
              "                  molecule_label  short_name  long_name  Classe  product_atc\n",
              "product_atc_code                                                            \n",
              "C02AC06                     4288        4288       4288    4288         4288\n",
              "C03BX03                      932         932        932     932          932\n",
              "C03CA01                      877         877        877     877          877\n",
              "C03DA01                      187         187        187     187          187\n",
              "C03DA04                       27          27         27      27           27\n",
              "C03EA04                       75          75         75      75           75\n",
              "C03EB01                       14          14         14      14           14\n",
              "C07AA05                        2           2          2       2            2\n",
              "C07AB03                     6466        6466       6466    6466         6466\n",
              "C07AB04                       39          39         39      39           39\n",
              "C07AB07                     6765        6765       6765    6765         6765\n",
              "C07AB12                      509         509        509     509          509\n",
              "C07DB01                       10          10         10      10           10\n",
              "C08CA01                      679         679        679     679          679\n",
              "C08DB01                      108         108        108     108          108\n",
              "C09AA02                       50          50         50      50           50\n",
              "C09AA03                       47          47         47      47           47\n",
              "C09AA04                     1183        1183       1183    1183         1183\n",
              "C09AA05                      232         232        232     232          232\n",
              "C09AA06                       20          20         20      20           20\n",
              "C09BA02                       11          11         11      11           11\n",
              "C09BA04                      920         920        920     920          920\n",
              "C09CA01                      277         277        277     277          277\n",
              "C09CA03                     2702        2702       2702    2702         2702\n",
              "C09CA04                      618         618        618     618          618\n",
              "C09CA06                     1291        1291       1291    1291         1291\n",
              "C09CA07                      109         109        109     109          109\n",
              "C09DA01                      542         542        542     542          542\n",
              "C09DA03                     1834        1834       1834    1834         1834\n",
              "C09DA04                      581         581        581     581          581\n",
              "C09DB04                     5212        5212       5212    5212         5212\n",
              "C09XA02                       63          63         63      63           63\n",
              "C09XA52                      206         206        206     206          206"
            ]
          },
          "metadata": {
            "tags": []
          },
          "execution_count": 7
        }
      ]
    },
    {
      "cell_type": "markdown",
      "metadata": {
        "id": "CTvsCsr8Bt1R"
      },
      "source": [
        "Nous voyons qu'il existe différentes colonnes dont le but est de désigner le médicament prescrit lors de la visite, or nous n'avons besoin que d'une seule colonne garder cette information. De ce fait, nous avons choisi de garder ```product_atc_code```."
      ]
    },
    {
      "cell_type": "code",
      "metadata": {
        "colab": {
          "base_uri": "https://localhost:8080/",
          "height": 464
        },
        "id": "pFu6UZLDBt1T",
        "outputId": "ac36356c-8976-490e-d010-fbc06ccf1031"
      },
      "source": [
        "dropColumnNames = dfGroupedByMoleculeLabel.columns.to_list()\n",
        "dfWithATCCode = dfWithoutContactID.drop(dropColumnNames, axis='columns')\n",
        "dfWithATCCode"
      ],
      "execution_count": 8,
      "outputs": [
        {
          "output_type": "execute_result",
          "data": {
            "text/html": [
              "<div>\n",
              "<style scoped>\n",
              "    .dataframe tbody tr th:only-of-type {\n",
              "        vertical-align: middle;\n",
              "    }\n",
              "\n",
              "    .dataframe tbody tr th {\n",
              "        vertical-align: top;\n",
              "    }\n",
              "\n",
              "    .dataframe thead th {\n",
              "        text-align: right;\n",
              "    }\n",
              "</style>\n",
              "<table border=\"1\" class=\"dataframe\">\n",
              "  <thead>\n",
              "    <tr style=\"text-align: right;\">\n",
              "      <th></th>\n",
              "      <th>person_id</th>\n",
              "      <th>specialty_label</th>\n",
              "      <th>contact_date</th>\n",
              "      <th>cip</th>\n",
              "      <th>dosage_1</th>\n",
              "      <th>dose_1</th>\n",
              "      <th>dose_2</th>\n",
              "      <th>product_atc_code</th>\n",
              "      <th>box</th>\n",
              "      <th>quantity</th>\n",
              "      <th>frequency_label</th>\n",
              "      <th>duration</th>\n",
              "      <th>Traitement_Autres_A10_dep_201701</th>\n",
              "      <th>Traitement_Insulines_dep_201701</th>\n",
              "      <th>Pulse</th>\n",
              "      <th>Tension Diastolique</th>\n",
              "      <th>Tension Systolique</th>\n",
              "      <th>Glycemie_prescription</th>\n",
              "      <th>Glycemie_der_date</th>\n",
              "      <th>Glycemie_der_mesure</th>\n",
              "      <th>HbA1c_prescription</th>\n",
              "      <th>HbA1c_der_date</th>\n",
              "      <th>HbA1c_der_mesure</th>\n",
              "      <th>gender_code</th>\n",
              "      <th>Age_presc</th>\n",
              "      <th>year_of_birth</th>\n",
              "      <th>Poids</th>\n",
              "      <th>der_date_poids</th>\n",
              "      <th>Taille</th>\n",
              "      <th>der_date_taille</th>\n",
              "      <th>first_contact_date</th>\n",
              "    </tr>\n",
              "  </thead>\n",
              "  <tbody>\n",
              "    <tr>\n",
              "      <th>1</th>\n",
              "      <td>263659.0</td>\n",
              "      <td>Médecin généraliste</td>\n",
              "      <td>2014-09-24</td>\n",
              "      <td>3.400960e+12</td>\n",
              "      <td>20.0</td>\n",
              "      <td>240.0</td>\n",
              "      <td>24.0</td>\n",
              "      <td>C03CA01</td>\n",
              "      <td>1.0</td>\n",
              "      <td>4.00</td>\n",
              "      <td>Jour</td>\n",
              "      <td>NaN</td>\n",
              "      <td>NaN</td>\n",
              "      <td>NaN</td>\n",
              "      <td>70.0</td>\n",
              "      <td>110.0</td>\n",
              "      <td>60.0</td>\n",
              "      <td>NaN</td>\n",
              "      <td>2008-02-08</td>\n",
              "      <td>1.01</td>\n",
              "      <td>NaN</td>\n",
              "      <td>NaT</td>\n",
              "      <td>NaN</td>\n",
              "      <td>M</td>\n",
              "      <td>96.0</td>\n",
              "      <td>1918.0</td>\n",
              "      <td>NaN</td>\n",
              "      <td>NaT</td>\n",
              "      <td>NaN</td>\n",
              "      <td>NaT</td>\n",
              "      <td>1998-04-02</td>\n",
              "    </tr>\n",
              "    <tr>\n",
              "      <th>2</th>\n",
              "      <td>263659.0</td>\n",
              "      <td>Médecin généraliste</td>\n",
              "      <td>2014-09-12</td>\n",
              "      <td>3.400960e+12</td>\n",
              "      <td>20.0</td>\n",
              "      <td>240.0</td>\n",
              "      <td>24.0</td>\n",
              "      <td>C03CA01</td>\n",
              "      <td>1.0</td>\n",
              "      <td>4.00</td>\n",
              "      <td>Jour</td>\n",
              "      <td>NaN</td>\n",
              "      <td>NaN</td>\n",
              "      <td>NaN</td>\n",
              "      <td>70.0</td>\n",
              "      <td>118.0</td>\n",
              "      <td>70.0</td>\n",
              "      <td>NaN</td>\n",
              "      <td>2008-02-08</td>\n",
              "      <td>1.01</td>\n",
              "      <td>NaN</td>\n",
              "      <td>NaT</td>\n",
              "      <td>NaN</td>\n",
              "      <td>M</td>\n",
              "      <td>96.0</td>\n",
              "      <td>1918.0</td>\n",
              "      <td>NaN</td>\n",
              "      <td>NaT</td>\n",
              "      <td>NaN</td>\n",
              "      <td>NaT</td>\n",
              "      <td>1998-04-02</td>\n",
              "    </tr>\n",
              "    <tr>\n",
              "      <th>3</th>\n",
              "      <td>263659.0</td>\n",
              "      <td>Médecin généraliste</td>\n",
              "      <td>2015-03-26</td>\n",
              "      <td>3.400960e+12</td>\n",
              "      <td>20.0</td>\n",
              "      <td>240.0</td>\n",
              "      <td>24.0</td>\n",
              "      <td>C03CA01</td>\n",
              "      <td>1.0</td>\n",
              "      <td>4.00</td>\n",
              "      <td>Jour</td>\n",
              "      <td>NaN</td>\n",
              "      <td>NaN</td>\n",
              "      <td>NaN</td>\n",
              "      <td>60.0</td>\n",
              "      <td>120.0</td>\n",
              "      <td>70.0</td>\n",
              "      <td>NaN</td>\n",
              "      <td>2008-02-08</td>\n",
              "      <td>1.01</td>\n",
              "      <td>NaN</td>\n",
              "      <td>NaT</td>\n",
              "      <td>NaN</td>\n",
              "      <td>M</td>\n",
              "      <td>97.0</td>\n",
              "      <td>1918.0</td>\n",
              "      <td>NaN</td>\n",
              "      <td>NaT</td>\n",
              "      <td>NaN</td>\n",
              "      <td>NaT</td>\n",
              "      <td>1998-04-02</td>\n",
              "    </tr>\n",
              "    <tr>\n",
              "      <th>4</th>\n",
              "      <td>263659.0</td>\n",
              "      <td>Médecin généraliste</td>\n",
              "      <td>2015-06-05</td>\n",
              "      <td>3.400960e+12</td>\n",
              "      <td>20.0</td>\n",
              "      <td>240.0</td>\n",
              "      <td>24.0</td>\n",
              "      <td>C03CA01</td>\n",
              "      <td>1.0</td>\n",
              "      <td>4.00</td>\n",
              "      <td>Jour</td>\n",
              "      <td>NaN</td>\n",
              "      <td>NaN</td>\n",
              "      <td>NaN</td>\n",
              "      <td>60.0</td>\n",
              "      <td>120.0</td>\n",
              "      <td>70.0</td>\n",
              "      <td>NaN</td>\n",
              "      <td>2008-02-08</td>\n",
              "      <td>1.01</td>\n",
              "      <td>NaN</td>\n",
              "      <td>NaT</td>\n",
              "      <td>NaN</td>\n",
              "      <td>M</td>\n",
              "      <td>97.0</td>\n",
              "      <td>1918.0</td>\n",
              "      <td>NaN</td>\n",
              "      <td>NaT</td>\n",
              "      <td>NaN</td>\n",
              "      <td>NaT</td>\n",
              "      <td>1998-04-02</td>\n",
              "    </tr>\n",
              "    <tr>\n",
              "      <th>6</th>\n",
              "      <td>25182917.0</td>\n",
              "      <td>Médecin généraliste</td>\n",
              "      <td>2013-03-27</td>\n",
              "      <td>3.400960e+12</td>\n",
              "      <td>300.0</td>\n",
              "      <td>16800.0</td>\n",
              "      <td>56.0</td>\n",
              "      <td>C09XA02</td>\n",
              "      <td>2.0</td>\n",
              "      <td>1.00</td>\n",
              "      <td>Jour</td>\n",
              "      <td>84.0</td>\n",
              "      <td>NaN</td>\n",
              "      <td>NaN</td>\n",
              "      <td>64.0</td>\n",
              "      <td>145.0</td>\n",
              "      <td>85.0</td>\n",
              "      <td>NaN</td>\n",
              "      <td>NaT</td>\n",
              "      <td>NaN</td>\n",
              "      <td>NaN</td>\n",
              "      <td>NaT</td>\n",
              "      <td>NaN</td>\n",
              "      <td>M</td>\n",
              "      <td>63.0</td>\n",
              "      <td>1950.0</td>\n",
              "      <td>NaN</td>\n",
              "      <td>NaT</td>\n",
              "      <td>NaN</td>\n",
              "      <td>NaT</td>\n",
              "      <td>2011-04-04</td>\n",
              "    </tr>\n",
              "    <tr>\n",
              "      <th>...</th>\n",
              "      <td>...</td>\n",
              "      <td>...</td>\n",
              "      <td>...</td>\n",
              "      <td>...</td>\n",
              "      <td>...</td>\n",
              "      <td>...</td>\n",
              "      <td>...</td>\n",
              "      <td>...</td>\n",
              "      <td>...</td>\n",
              "      <td>...</td>\n",
              "      <td>...</td>\n",
              "      <td>...</td>\n",
              "      <td>...</td>\n",
              "      <td>...</td>\n",
              "      <td>...</td>\n",
              "      <td>...</td>\n",
              "      <td>...</td>\n",
              "      <td>...</td>\n",
              "      <td>...</td>\n",
              "      <td>...</td>\n",
              "      <td>...</td>\n",
              "      <td>...</td>\n",
              "      <td>...</td>\n",
              "      <td>...</td>\n",
              "      <td>...</td>\n",
              "      <td>...</td>\n",
              "      <td>...</td>\n",
              "      <td>...</td>\n",
              "      <td>...</td>\n",
              "      <td>...</td>\n",
              "      <td>...</td>\n",
              "    </tr>\n",
              "    <tr>\n",
              "      <th>50625</th>\n",
              "      <td>26636453.0</td>\n",
              "      <td>Médecin généraliste</td>\n",
              "      <td>2016-11-16</td>\n",
              "      <td>3.400940e+12</td>\n",
              "      <td>500.0</td>\n",
              "      <td>15000.0</td>\n",
              "      <td>30.0</td>\n",
              "      <td>C03CA01</td>\n",
              "      <td>1.0</td>\n",
              "      <td>0.75</td>\n",
              "      <td>Jour</td>\n",
              "      <td>28.0</td>\n",
              "      <td>OUI</td>\n",
              "      <td>NaN</td>\n",
              "      <td>60.0</td>\n",
              "      <td>120.0</td>\n",
              "      <td>60.0</td>\n",
              "      <td>NaN</td>\n",
              "      <td>2017-10-03</td>\n",
              "      <td>3.39</td>\n",
              "      <td>NaN</td>\n",
              "      <td>2017-10-03</td>\n",
              "      <td>5.60</td>\n",
              "      <td>M</td>\n",
              "      <td>79.0</td>\n",
              "      <td>1937.0</td>\n",
              "      <td>83.9</td>\n",
              "      <td>2018-02-21</td>\n",
              "      <td>NaN</td>\n",
              "      <td>NaT</td>\n",
              "      <td>2012-02-14</td>\n",
              "    </tr>\n",
              "    <tr>\n",
              "      <th>50627</th>\n",
              "      <td>18889430.0</td>\n",
              "      <td>Médecin généraliste</td>\n",
              "      <td>2013-02-01</td>\n",
              "      <td>3.400940e+12</td>\n",
              "      <td>500.0</td>\n",
              "      <td>15000.0</td>\n",
              "      <td>30.0</td>\n",
              "      <td>C03CA01</td>\n",
              "      <td>1.0</td>\n",
              "      <td>0.50</td>\n",
              "      <td>Jour</td>\n",
              "      <td>28.0</td>\n",
              "      <td>NaN</td>\n",
              "      <td>NaN</td>\n",
              "      <td>60.0</td>\n",
              "      <td>120.0</td>\n",
              "      <td>70.0</td>\n",
              "      <td>NaN</td>\n",
              "      <td>2016-02-03</td>\n",
              "      <td>6.27</td>\n",
              "      <td>NaN</td>\n",
              "      <td>2017-05-15</td>\n",
              "      <td>8.01</td>\n",
              "      <td>M</td>\n",
              "      <td>85.0</td>\n",
              "      <td>1928.0</td>\n",
              "      <td>NaN</td>\n",
              "      <td>NaT</td>\n",
              "      <td>NaN</td>\n",
              "      <td>NaT</td>\n",
              "      <td>2007-12-02</td>\n",
              "    </tr>\n",
              "    <tr>\n",
              "      <th>50629</th>\n",
              "      <td>2222336.0</td>\n",
              "      <td>Médecin généraliste</td>\n",
              "      <td>2013-07-01</td>\n",
              "      <td>3.400940e+12</td>\n",
              "      <td>500.0</td>\n",
              "      <td>15000.0</td>\n",
              "      <td>30.0</td>\n",
              "      <td>C03CA01</td>\n",
              "      <td>2.0</td>\n",
              "      <td>0.25</td>\n",
              "      <td>Jour</td>\n",
              "      <td>240.0</td>\n",
              "      <td>NaN</td>\n",
              "      <td>NaN</td>\n",
              "      <td>72.0</td>\n",
              "      <td>130.0</td>\n",
              "      <td>70.0</td>\n",
              "      <td>NaN</td>\n",
              "      <td>NaT</td>\n",
              "      <td>NaN</td>\n",
              "      <td>NaN</td>\n",
              "      <td>NaT</td>\n",
              "      <td>NaN</td>\n",
              "      <td>F</td>\n",
              "      <td>78.0</td>\n",
              "      <td>1935.0</td>\n",
              "      <td>NaN</td>\n",
              "      <td>NaT</td>\n",
              "      <td>NaN</td>\n",
              "      <td>NaT</td>\n",
              "      <td>2006-02-23</td>\n",
              "    </tr>\n",
              "    <tr>\n",
              "      <th>50631</th>\n",
              "      <td>11363518.0</td>\n",
              "      <td>Médecin généraliste</td>\n",
              "      <td>2013-01-24</td>\n",
              "      <td>3.400940e+12</td>\n",
              "      <td>500.0</td>\n",
              "      <td>15000.0</td>\n",
              "      <td>30.0</td>\n",
              "      <td>C03CA01</td>\n",
              "      <td>1.0</td>\n",
              "      <td>0.25</td>\n",
              "      <td>Jour</td>\n",
              "      <td>120.0</td>\n",
              "      <td>NaN</td>\n",
              "      <td>NaN</td>\n",
              "      <td>72.0</td>\n",
              "      <td>139.0</td>\n",
              "      <td>70.0</td>\n",
              "      <td>NaN</td>\n",
              "      <td>NaT</td>\n",
              "      <td>NaN</td>\n",
              "      <td>NaN</td>\n",
              "      <td>NaT</td>\n",
              "      <td>NaN</td>\n",
              "      <td>M</td>\n",
              "      <td>80.0</td>\n",
              "      <td>1933.0</td>\n",
              "      <td>NaN</td>\n",
              "      <td>NaT</td>\n",
              "      <td>NaN</td>\n",
              "      <td>NaT</td>\n",
              "      <td>1998-01-27</td>\n",
              "    </tr>\n",
              "    <tr>\n",
              "      <th>50632</th>\n",
              "      <td>18889430.0</td>\n",
              "      <td>Médecin généraliste</td>\n",
              "      <td>2013-01-24</td>\n",
              "      <td>3.400940e+12</td>\n",
              "      <td>500.0</td>\n",
              "      <td>15000.0</td>\n",
              "      <td>30.0</td>\n",
              "      <td>C03CA01</td>\n",
              "      <td>1.0</td>\n",
              "      <td>0.50</td>\n",
              "      <td>Jour</td>\n",
              "      <td>28.0</td>\n",
              "      <td>NaN</td>\n",
              "      <td>NaN</td>\n",
              "      <td>72.0</td>\n",
              "      <td>120.0</td>\n",
              "      <td>70.0</td>\n",
              "      <td>NaN</td>\n",
              "      <td>2016-02-03</td>\n",
              "      <td>6.27</td>\n",
              "      <td>NaN</td>\n",
              "      <td>2017-05-15</td>\n",
              "      <td>8.01</td>\n",
              "      <td>M</td>\n",
              "      <td>85.0</td>\n",
              "      <td>1928.0</td>\n",
              "      <td>NaN</td>\n",
              "      <td>NaT</td>\n",
              "      <td>NaN</td>\n",
              "      <td>NaT</td>\n",
              "      <td>2007-12-02</td>\n",
              "    </tr>\n",
              "  </tbody>\n",
              "</table>\n",
              "<p>36876 rows × 31 columns</p>\n",
              "</div>"
            ],
            "text/plain": [
              "        person_id      specialty_label  ... der_date_taille  first_contact_date\n",
              "1        263659.0  Médecin généraliste  ...             NaT          1998-04-02\n",
              "2        263659.0  Médecin généraliste  ...             NaT          1998-04-02\n",
              "3        263659.0  Médecin généraliste  ...             NaT          1998-04-02\n",
              "4        263659.0  Médecin généraliste  ...             NaT          1998-04-02\n",
              "6      25182917.0  Médecin généraliste  ...             NaT          2011-04-04\n",
              "...           ...                  ...  ...             ...                 ...\n",
              "50625  26636453.0  Médecin généraliste  ...             NaT          2012-02-14\n",
              "50627  18889430.0  Médecin généraliste  ...             NaT          2007-12-02\n",
              "50629   2222336.0  Médecin généraliste  ...             NaT          2006-02-23\n",
              "50631  11363518.0  Médecin généraliste  ...             NaT          1998-01-27\n",
              "50632  18889430.0  Médecin généraliste  ...             NaT          2007-12-02\n",
              "\n",
              "[36876 rows x 31 columns]"
            ]
          },
          "metadata": {
            "tags": []
          },
          "execution_count": 8
        }
      ]
    },
    {
      "cell_type": "markdown",
      "metadata": {
        "id": "_OunT7DyBt1U"
      },
      "source": [
        "## Suppression des colonnes ```'*der*'```\n",
        "\n",
        "Les colonnes ```'*der*'``` contiennent la dernière donnée. Cette donnée peut être récupérée grâce à la date de la visite et aux valeurs mesurées. Par exemple, il n'est pas nécessaire d'avoir une colonne ```der_date``` ou ```der_mesure```. Les données de ces deux types de colonnes peuvent être récupérées grâce à la ligne qui correspond à la dernière date de la mesure, que nous pouvons trouver grâce à la colonne ```contact_date```."
      ]
    },
    {
      "cell_type": "code",
      "metadata": {
        "id": "sOeBfkOXBt1Z"
      },
      "source": [
        "derColumnNames = []\n",
        "\n",
        "for c in dfWithATCCode.columns:\n",
        "    if ('der_date' in c) or ('der_mesure' in c):\n",
        "        derColumnNames.append(c)\n",
        "\n",
        "dfWithoutDer = dfWithATCCode.drop(derColumnNames,axis='columns')"
      ],
      "execution_count": 9,
      "outputs": []
    },
    {
      "cell_type": "markdown",
      "metadata": {
        "id": "UMkds8B1Bt1Z"
      },
      "source": [
        "## Suppression des colonnes ```Taille``` et ```Poids```"
      ]
    },
    {
      "cell_type": "code",
      "metadata": {
        "colab": {
          "base_uri": "https://localhost:8080/"
        },
        "id": "O5poB10WBt1b",
        "outputId": "cc27a00f-e30c-41b5-dca8-a2e896d38cb9"
      },
      "source": [
        "print(f\"Taille: {dfWithoutDer.Taille.isnull().sum()}/{len(dfWithoutDer.Taille)} valeurs nulles (={dfWithoutDer.Taille.isnull().sum()/len(dfWithoutDer.Taille)*100:.2f}%)\")\n",
        "\n",
        "print(f\"Poids: {dfWithoutDer.Poids.isnull().sum()}/{len(dfWithoutDer.Poids)} valeurs nulles (={dfWithoutDer.Poids.isnull().sum()/len(dfWithoutDer.Poids)*100:.2f}%)\".format())"
      ],
      "execution_count": 10,
      "outputs": [
        {
          "output_type": "stream",
          "text": [
            "Taille: 18150/36876 valeurs nulles (=49.22%)\n",
            "Poids: 11389/36876 valeurs nulles (=30.88%)\n"
          ],
          "name": "stdout"
        }
      ]
    },
    {
      "cell_type": "markdown",
      "metadata": {
        "id": "CQPIhvbZBt1e"
      },
      "source": [
        "Nous voyons qu'il y a beaucoup trop de valeur nulles. Ces deux colonnes semblent donc difficilement exploitable. Nous pouvons cependant vérifier si pour les patients toutes les valeurs sont à nulles ou s'il n'existe que quelques entrées à nulle par patient mais qu'il y en a beaucoup. Dans ce cas nous pourrions enlever les lignes contenant des valeurs nulles, ou trouver un moyen d'attribuer une valeur à la place de Nan"
      ]
    },
    {
      "cell_type": "code",
      "metadata": {
        "id": "i3Ubb3pwBt1e"
      },
      "source": [
        "dfPersonIdIndex = dfWithoutDer.set_index('person_id',drop=True).sort_index()\n",
        "dfTPGroupBy = dfPersonIdIndex.groupby('person_id')"
      ],
      "execution_count": 11,
      "outputs": []
    },
    {
      "cell_type": "code",
      "metadata": {
        "tags": [],
        "colab": {
          "base_uri": "https://localhost:8080/"
        },
        "id": "C0O4-WeQBt1i",
        "outputId": "31a85d52-a728-4968-85d1-64540279e641"
      },
      "source": [
        "maybeUseful = 0\n",
        "valeurNulle = 0\n",
        "for i,_ in dfTPGroupBy:\n",
        "    if dfPersonIdIndex.loc[i].Taille.isnull().sum() > 0:\n",
        "        valeurNulle += 1\n",
        "        if dfPersonIdIndex.loc[i].Taille.isnull().sum() < len(dfPersonIdIndex.loc[i].Taille):\n",
        "            maybeUseful += 1\n",
        "\n",
        "print(f\"Taille: {maybeUseful} / {valeurNulle} utilisables\")\n",
        "\n",
        "maybeUseful = 0\n",
        "valeurNulle = 0\n",
        "c = 0\n",
        "for i,_ in dfTPGroupBy:\n",
        "    if dfPersonIdIndex.loc[i].Poids.isnull().sum() > 0:\n",
        "        valeurNulle += 1\n",
        "        if dfPersonIdIndex.loc[i].Poids.isnull().sum() < len(dfPersonIdIndex.loc[i].Poids):\n",
        "            maybeUseful += 1\n",
        "\n",
        "print(f\"Poids: {maybeUseful} / {valeurNulle} utilisables\")"
      ],
      "execution_count": 12,
      "outputs": [
        {
          "output_type": "stream",
          "text": [
            "Taille: 0 / 2219 utilisables\n",
            "Poids: 0 / 1498 utilisables\n"
          ],
          "name": "stdout"
        }
      ]
    },
    {
      "cell_type": "code",
      "metadata": {
        "tags": [],
        "colab": {
          "base_uri": "https://localhost:8080/"
        },
        "id": "0U8N89ChBt1j",
        "outputId": "b6f1ffad-f052-4a40-af7e-ac4677dc88c3"
      },
      "source": [
        "tailleNan = 0\n",
        "poidsNan = 0\n",
        "oneOfBoth = 0\n",
        "bothNan = 0\n",
        "totalEntries = 0\n",
        "for i,_ in dfTPGroupBy:\n",
        "    totalEntries += 1\n",
        "    hasTailleNan = False\n",
        "    hasPoidsNan = False\n",
        "    if dfPersonIdIndex.loc[i].Taille.isnull().sum() != 0:\n",
        "        tailleNan += 1\n",
        "        hasTailleNan = True\n",
        "    if dfPersonIdIndex.loc[i].Poids.isnull().sum() != 0:\n",
        "        poidsNan += 1\n",
        "        hasPoidsNan = True\n",
        "    if hasTailleNan or hasPoidsNan:\n",
        "        oneOfBoth += 1\n",
        "    if hasTailleNan and hasPoidsNan:\n",
        "        bothNan += 1\n",
        "print(\" --- Statistique par Utilisateur --- \")\n",
        "print(f\"{tailleNan} / {totalEntries} ({tailleNan/totalEntries*100:.2f}%) des utilisateurs ont une valeur nulle pour la taille\")\n",
        "print(f\"{poidsNan} / {totalEntries} ({poidsNan/totalEntries*100:.2f}%) des utilisateurs ont une valeur nulle pour le poids\")\n",
        "print(f\"{oneOfBoth} / {totalEntries} ({oneOfBoth/totalEntries*100:.2f}%) des utilisateurs ont une valeur nulle pour la taille ou le poids\")\n",
        "print(f\"{bothNan} / {totalEntries} ({bothNan/totalEntries*100:.2f}%) des utilisateurs ont les deux valeurs nulle pour la taille ou le poids\")\n",
        "\n"
      ],
      "execution_count": 13,
      "outputs": [
        {
          "output_type": "stream",
          "text": [
            " --- Statistique par Utilisateur --- \n",
            "2219 / 4227 (52.50%) des utilisateurs ont une valeur nulle pour la taille\n",
            "1498 / 4227 (35.44%) des utilisateurs ont une valeur nulle pour le poids\n",
            "2220 / 4227 (52.52%) des utilisateurs ont une valeur nulle pour la taille ou le poids\n",
            "1497 / 4227 (35.42%) des utilisateurs ont les deux valeurs nulle pour la taille ou le poids\n"
          ],
          "name": "stdout"
        }
      ]
    },
    {
      "cell_type": "markdown",
      "metadata": {
        "id": "M5CF4sP4Bt1k"
      },
      "source": [
        "Nous concluons de l'analyse de ces données que soit toutes les valeurs de poids et de tailles sont entrées, soit aucunes. Cela rend ces informations innexploitables et nous supprimons donc les colonnes"
      ]
    },
    {
      "cell_type": "code",
      "metadata": {
        "id": "qBEk7h-fBt1k"
      },
      "source": [
        "dfWithoutPT = dfWithoutDer.drop(['Taille', 'Poids'],axis='columns')"
      ],
      "execution_count": 14,
      "outputs": []
    },
    {
      "cell_type": "markdown",
      "metadata": {
        "id": "TQsluJOxBt1l"
      },
      "source": [
        "## Suppressions diverses"
      ]
    },
    {
      "cell_type": "markdown",
      "metadata": {
        "id": "rMN5ip8jBt1r"
      },
      "source": [
        "Enfin, certaines colonnes n'apportent pas d'informations nécessaires pour la prédiction, nous choisissons de toutes les supprimer ici"
      ]
    },
    {
      "cell_type": "code",
      "metadata": {
        "colab": {
          "base_uri": "https://localhost:8080/"
        },
        "id": "wLPjLEKmBt1s",
        "outputId": "36aa2ef9-c17a-4a77-9281-5840d634a3a4"
      },
      "source": [
        "dfWithoutPT.isnull().sum()"
      ],
      "execution_count": 15,
      "outputs": [
        {
          "output_type": "execute_result",
          "data": {
            "text/plain": [
              "person_id                               0\n",
              "specialty_label                         0\n",
              "contact_date                            0\n",
              "cip                                     0\n",
              "dosage_1                                0\n",
              "dose_1                                  0\n",
              "dose_2                                  0\n",
              "product_atc_code                        0\n",
              "box                                   253\n",
              "quantity                              153\n",
              "frequency_label                       147\n",
              "duration                             5100\n",
              "Traitement_Autres_A10_dep_201701    29649\n",
              "Traitement_Insulines_dep_201701     34850\n",
              "Pulse                                   0\n",
              "Tension Diastolique                     0\n",
              "Tension Systolique                      0\n",
              "Glycemie_prescription               35937\n",
              "HbA1c_prescription                  35766\n",
              "gender_code                             0\n",
              "Age_presc                               0\n",
              "year_of_birth                           0\n",
              "first_contact_date                      0\n",
              "dtype: int64"
            ]
          },
          "metadata": {
            "tags": []
          },
          "execution_count": 15
        }
      ]
    },
    {
      "cell_type": "markdown",
      "metadata": {
        "id": "7o2HV0vqBt1t"
      },
      "source": [
        "Les colonnes restantes avec des valeurs ```Nan``` ne nous intéresse pas, nous pouvons les supprimer"
      ]
    },
    {
      "cell_type": "code",
      "metadata": {
        "id": "Goh72Y-PBt1v"
      },
      "source": [
        "nullAmount = dfWithoutPT.isnull().sum()\n",
        "\n",
        "columnNameToDrop = nullAmount[nullAmount.values > 0].index\n",
        "dfFinal = dfWithoutPT.drop(columnNameToDrop,axis='columns').drop(['cip','dosage_1','dose_1','dose_2','specialty_label','gender_code'],axis='columns')"
      ],
      "execution_count": 16,
      "outputs": []
    },
    {
      "cell_type": "markdown",
      "metadata": {
        "id": "hF4hIDAOBt1w"
      },
      "source": [
        "# Traîtement des données"
      ]
    },
    {
      "cell_type": "markdown",
      "metadata": {
        "id": "KYWq5P6RBt1w"
      },
      "source": [
        "## Conversion des données"
      ]
    },
    {
      "cell_type": "markdown",
      "metadata": {
        "id": "6EH8JMyWBt1x"
      },
      "source": [
        "### Ajout du temps entre chaque visite (ce que l'on veut prédire)"
      ]
    },
    {
      "cell_type": "markdown",
      "metadata": {
        "id": "RKXnZphKBt1z"
      },
      "source": [
        "Nous créons d'abord la colonne ```wait_time``` pour qu'elle ait le type de donnée ```deltatime```. nous itèrerons plus tard sur chaque valeur de cette colonne pour lui enlever la valeur précédante pour chaque utilisateur, et ainsi avoir l'intervalle de temps entre chaque visite"
      ]
    },
    {
      "cell_type": "code",
      "metadata": {
        "tags": [],
        "id": "ZfzpABVKBt11"
      },
      "source": [
        "wait_time = dfFinal.contact_date - dfFinal.first_contact_date\n",
        "dfWithTime = dfFinal.drop('first_contact_date',axis='columns')\n",
        "dfWithTime['wait_time'] = wait_time\n",
        "dfWithTime['contactDateYear'] = dfWithTime.contact_date.dt.year\n",
        "dfWithTime['contactDateMonth'] = dfWithTime.contact_date.dt.month\n",
        "dfWithTime['contactDateDayOfYear'] = dfWithTime.contact_date.dt.dayofyear"
      ],
      "execution_count": 17,
      "outputs": []
    },
    {
      "cell_type": "code",
      "metadata": {
        "colab": {
          "base_uri": "https://localhost:8080/",
          "height": 447
        },
        "id": "R3atHvmPBt13",
        "outputId": "0ad00041-877d-4f36-e6a4-e2df6cc2c7d0"
      },
      "source": [
        "dfWithTime"
      ],
      "execution_count": 18,
      "outputs": [
        {
          "output_type": "execute_result",
          "data": {
            "text/html": [
              "<div>\n",
              "<style scoped>\n",
              "    .dataframe tbody tr th:only-of-type {\n",
              "        vertical-align: middle;\n",
              "    }\n",
              "\n",
              "    .dataframe tbody tr th {\n",
              "        vertical-align: top;\n",
              "    }\n",
              "\n",
              "    .dataframe thead th {\n",
              "        text-align: right;\n",
              "    }\n",
              "</style>\n",
              "<table border=\"1\" class=\"dataframe\">\n",
              "  <thead>\n",
              "    <tr style=\"text-align: right;\">\n",
              "      <th></th>\n",
              "      <th>person_id</th>\n",
              "      <th>contact_date</th>\n",
              "      <th>product_atc_code</th>\n",
              "      <th>Pulse</th>\n",
              "      <th>Tension Diastolique</th>\n",
              "      <th>Tension Systolique</th>\n",
              "      <th>Age_presc</th>\n",
              "      <th>year_of_birth</th>\n",
              "      <th>wait_time</th>\n",
              "      <th>contactDateYear</th>\n",
              "      <th>contactDateMonth</th>\n",
              "      <th>contactDateDayOfYear</th>\n",
              "    </tr>\n",
              "  </thead>\n",
              "  <tbody>\n",
              "    <tr>\n",
              "      <th>1</th>\n",
              "      <td>263659.0</td>\n",
              "      <td>2014-09-24</td>\n",
              "      <td>C03CA01</td>\n",
              "      <td>70.0</td>\n",
              "      <td>110.0</td>\n",
              "      <td>60.0</td>\n",
              "      <td>96.0</td>\n",
              "      <td>1918.0</td>\n",
              "      <td>6019 days</td>\n",
              "      <td>2014</td>\n",
              "      <td>9</td>\n",
              "      <td>267</td>\n",
              "    </tr>\n",
              "    <tr>\n",
              "      <th>2</th>\n",
              "      <td>263659.0</td>\n",
              "      <td>2014-09-12</td>\n",
              "      <td>C03CA01</td>\n",
              "      <td>70.0</td>\n",
              "      <td>118.0</td>\n",
              "      <td>70.0</td>\n",
              "      <td>96.0</td>\n",
              "      <td>1918.0</td>\n",
              "      <td>6007 days</td>\n",
              "      <td>2014</td>\n",
              "      <td>9</td>\n",
              "      <td>255</td>\n",
              "    </tr>\n",
              "    <tr>\n",
              "      <th>3</th>\n",
              "      <td>263659.0</td>\n",
              "      <td>2015-03-26</td>\n",
              "      <td>C03CA01</td>\n",
              "      <td>60.0</td>\n",
              "      <td>120.0</td>\n",
              "      <td>70.0</td>\n",
              "      <td>97.0</td>\n",
              "      <td>1918.0</td>\n",
              "      <td>6202 days</td>\n",
              "      <td>2015</td>\n",
              "      <td>3</td>\n",
              "      <td>85</td>\n",
              "    </tr>\n",
              "    <tr>\n",
              "      <th>4</th>\n",
              "      <td>263659.0</td>\n",
              "      <td>2015-06-05</td>\n",
              "      <td>C03CA01</td>\n",
              "      <td>60.0</td>\n",
              "      <td>120.0</td>\n",
              "      <td>70.0</td>\n",
              "      <td>97.0</td>\n",
              "      <td>1918.0</td>\n",
              "      <td>6273 days</td>\n",
              "      <td>2015</td>\n",
              "      <td>6</td>\n",
              "      <td>156</td>\n",
              "    </tr>\n",
              "    <tr>\n",
              "      <th>6</th>\n",
              "      <td>25182917.0</td>\n",
              "      <td>2013-03-27</td>\n",
              "      <td>C09XA02</td>\n",
              "      <td>64.0</td>\n",
              "      <td>145.0</td>\n",
              "      <td>85.0</td>\n",
              "      <td>63.0</td>\n",
              "      <td>1950.0</td>\n",
              "      <td>723 days</td>\n",
              "      <td>2013</td>\n",
              "      <td>3</td>\n",
              "      <td>86</td>\n",
              "    </tr>\n",
              "    <tr>\n",
              "      <th>...</th>\n",
              "      <td>...</td>\n",
              "      <td>...</td>\n",
              "      <td>...</td>\n",
              "      <td>...</td>\n",
              "      <td>...</td>\n",
              "      <td>...</td>\n",
              "      <td>...</td>\n",
              "      <td>...</td>\n",
              "      <td>...</td>\n",
              "      <td>...</td>\n",
              "      <td>...</td>\n",
              "      <td>...</td>\n",
              "    </tr>\n",
              "    <tr>\n",
              "      <th>50625</th>\n",
              "      <td>26636453.0</td>\n",
              "      <td>2016-11-16</td>\n",
              "      <td>C03CA01</td>\n",
              "      <td>60.0</td>\n",
              "      <td>120.0</td>\n",
              "      <td>60.0</td>\n",
              "      <td>79.0</td>\n",
              "      <td>1937.0</td>\n",
              "      <td>1737 days</td>\n",
              "      <td>2016</td>\n",
              "      <td>11</td>\n",
              "      <td>321</td>\n",
              "    </tr>\n",
              "    <tr>\n",
              "      <th>50627</th>\n",
              "      <td>18889430.0</td>\n",
              "      <td>2013-02-01</td>\n",
              "      <td>C03CA01</td>\n",
              "      <td>60.0</td>\n",
              "      <td>120.0</td>\n",
              "      <td>70.0</td>\n",
              "      <td>85.0</td>\n",
              "      <td>1928.0</td>\n",
              "      <td>1888 days</td>\n",
              "      <td>2013</td>\n",
              "      <td>2</td>\n",
              "      <td>32</td>\n",
              "    </tr>\n",
              "    <tr>\n",
              "      <th>50629</th>\n",
              "      <td>2222336.0</td>\n",
              "      <td>2013-07-01</td>\n",
              "      <td>C03CA01</td>\n",
              "      <td>72.0</td>\n",
              "      <td>130.0</td>\n",
              "      <td>70.0</td>\n",
              "      <td>78.0</td>\n",
              "      <td>1935.0</td>\n",
              "      <td>2685 days</td>\n",
              "      <td>2013</td>\n",
              "      <td>7</td>\n",
              "      <td>182</td>\n",
              "    </tr>\n",
              "    <tr>\n",
              "      <th>50631</th>\n",
              "      <td>11363518.0</td>\n",
              "      <td>2013-01-24</td>\n",
              "      <td>C03CA01</td>\n",
              "      <td>72.0</td>\n",
              "      <td>139.0</td>\n",
              "      <td>70.0</td>\n",
              "      <td>80.0</td>\n",
              "      <td>1933.0</td>\n",
              "      <td>5476 days</td>\n",
              "      <td>2013</td>\n",
              "      <td>1</td>\n",
              "      <td>24</td>\n",
              "    </tr>\n",
              "    <tr>\n",
              "      <th>50632</th>\n",
              "      <td>18889430.0</td>\n",
              "      <td>2013-01-24</td>\n",
              "      <td>C03CA01</td>\n",
              "      <td>72.0</td>\n",
              "      <td>120.0</td>\n",
              "      <td>70.0</td>\n",
              "      <td>85.0</td>\n",
              "      <td>1928.0</td>\n",
              "      <td>1880 days</td>\n",
              "      <td>2013</td>\n",
              "      <td>1</td>\n",
              "      <td>24</td>\n",
              "    </tr>\n",
              "  </tbody>\n",
              "</table>\n",
              "<p>36876 rows × 12 columns</p>\n",
              "</div>"
            ],
            "text/plain": [
              "        person_id contact_date  ... contactDateMonth  contactDateDayOfYear\n",
              "1        263659.0   2014-09-24  ...                9                   267\n",
              "2        263659.0   2014-09-12  ...                9                   255\n",
              "3        263659.0   2015-03-26  ...                3                    85\n",
              "4        263659.0   2015-06-05  ...                6                   156\n",
              "6      25182917.0   2013-03-27  ...                3                    86\n",
              "...           ...          ...  ...              ...                   ...\n",
              "50625  26636453.0   2016-11-16  ...               11                   321\n",
              "50627  18889430.0   2013-02-01  ...                2                    32\n",
              "50629   2222336.0   2013-07-01  ...                7                   182\n",
              "50631  11363518.0   2013-01-24  ...                1                    24\n",
              "50632  18889430.0   2013-01-24  ...                1                    24\n",
              "\n",
              "[36876 rows x 12 columns]"
            ]
          },
          "metadata": {
            "tags": []
          },
          "execution_count": 18
        }
      ]
    },
    {
      "cell_type": "markdown",
      "metadata": {
        "id": "h3jL_58lBt14"
      },
      "source": [
        "### Encodage des valeurs non numériques"
      ]
    },
    {
      "cell_type": "code",
      "metadata": {
        "id": "y8hn_E4KBt15"
      },
      "source": [
        "#specialtyEncoder = LabelEncoder()\n",
        "ATCEncoder = LabelEncoder()\n",
        "#genderEncoder = LabelEncoder()\n",
        "#dfWithTime.specialty_label = specialtyEncoder.fit_transform(dfWithTime.specialty_label)\n",
        "dfWithTime.product_atc_code = ATCEncoder.fit_transform(dfWithTime.product_atc_code)\n",
        "#dfWithTime.gender_code = genderEncoder.fit_transform(dfWithTime.gender_code)\n"
      ],
      "execution_count": 19,
      "outputs": []
    },
    {
      "cell_type": "code",
      "metadata": {
        "colab": {
          "base_uri": "https://localhost:8080/",
          "height": 530
        },
        "id": "pFqWHYlKBt15",
        "outputId": "c0304830-0090-4eed-d22b-a9f768315d9d"
      },
      "source": [
        "dfWithTime.hist()"
      ],
      "execution_count": 20,
      "outputs": [
        {
          "output_type": "execute_result",
          "data": {
            "text/plain": [
              "array([[<matplotlib.axes._subplots.AxesSubplot object at 0x7f88c464de80>,\n",
              "        <matplotlib.axes._subplots.AxesSubplot object at 0x7f88c4562160>,\n",
              "        <matplotlib.axes._subplots.AxesSubplot object at 0x7f88c45f83c8>],\n",
              "       [<matplotlib.axes._subplots.AxesSubplot object at 0x7f88c45e8630>,\n",
              "        <matplotlib.axes._subplots.AxesSubplot object at 0x7f88c46b8898>,\n",
              "        <matplotlib.axes._subplots.AxesSubplot object at 0x7f88c44e9b00>],\n",
              "       [<matplotlib.axes._subplots.AxesSubplot object at 0x7f88c449bd68>,\n",
              "        <matplotlib.axes._subplots.AxesSubplot object at 0x7f88c44cbf98>,\n",
              "        <matplotlib.axes._subplots.AxesSubplot object at 0x7f88c4455048>],\n",
              "       [<matplotlib.axes._subplots.AxesSubplot object at 0x7f88c44364e0>,\n",
              "        <matplotlib.axes._subplots.AxesSubplot object at 0x7f88c43eb748>,\n",
              "        <matplotlib.axes._subplots.AxesSubplot object at 0x7f88c439c9b0>]],\n",
              "      dtype=object)"
            ]
          },
          "metadata": {
            "tags": []
          },
          "execution_count": 20
        },
        {
          "output_type": "display_data",
          "data": {
            "image/png": "[encoded data removed]",
            "text/plain": [
              "<Figure size 432x288 with 12 Axes>"
            ]
          },
          "metadata": {
            "tags": [],
            "needs_background": "light"
          }
        }
      ]
    },
    {
      "cell_type": "markdown",
      "metadata": {
        "id": "-vTDeultBt18"
      },
      "source": [
        "### Conversion en ```TimeSeries```"
      ]
    },
    {
      "cell_type": "markdown",
      "metadata": {
        "id": "NNSctfnIBt2M"
      },
      "source": [
        "Nous définissons simplement le nouvel index comme la colonne donnant l'intervalle de temps entre chaque visite."
      ]
    },
    {
      "cell_type": "code",
      "metadata": {
        "colab": {
          "base_uri": "https://localhost:8080/",
          "height": 479
        },
        "id": "l-sfO2RZBt2N",
        "outputId": "93371f6d-ee96-42a8-d372-81090937f6c3"
      },
      "source": [
        "ts = dfWithTime.set_index(['person_id','contact_date']).sort_index()\n",
        "ts"
      ],
      "execution_count": 21,
      "outputs": [
        {
          "output_type": "execute_result",
          "data": {
            "text/html": [
              "<div>\n",
              "<style scoped>\n",
              "    .dataframe tbody tr th:only-of-type {\n",
              "        vertical-align: middle;\n",
              "    }\n",
              "\n",
              "    .dataframe tbody tr th {\n",
              "        vertical-align: top;\n",
              "    }\n",
              "\n",
              "    .dataframe thead th {\n",
              "        text-align: right;\n",
              "    }\n",
              "</style>\n",
              "<table border=\"1\" class=\"dataframe\">\n",
              "  <thead>\n",
              "    <tr style=\"text-align: right;\">\n",
              "      <th></th>\n",
              "      <th></th>\n",
              "      <th>product_atc_code</th>\n",
              "      <th>Pulse</th>\n",
              "      <th>Tension Diastolique</th>\n",
              "      <th>Tension Systolique</th>\n",
              "      <th>Age_presc</th>\n",
              "      <th>year_of_birth</th>\n",
              "      <th>wait_time</th>\n",
              "      <th>contactDateYear</th>\n",
              "      <th>contactDateMonth</th>\n",
              "      <th>contactDateDayOfYear</th>\n",
              "    </tr>\n",
              "    <tr>\n",
              "      <th>person_id</th>\n",
              "      <th>contact_date</th>\n",
              "      <th></th>\n",
              "      <th></th>\n",
              "      <th></th>\n",
              "      <th></th>\n",
              "      <th></th>\n",
              "      <th></th>\n",
              "      <th></th>\n",
              "      <th></th>\n",
              "      <th></th>\n",
              "      <th></th>\n",
              "    </tr>\n",
              "  </thead>\n",
              "  <tbody>\n",
              "    <tr>\n",
              "      <th rowspan=\"5\" valign=\"top\">291.0</th>\n",
              "      <th>2016-10-28</th>\n",
              "      <td>10</td>\n",
              "      <td>72.0</td>\n",
              "      <td>130.0</td>\n",
              "      <td>60.0</td>\n",
              "      <td>86.0</td>\n",
              "      <td>1930.0</td>\n",
              "      <td>6603 days</td>\n",
              "      <td>2016</td>\n",
              "      <td>10</td>\n",
              "      <td>302</td>\n",
              "    </tr>\n",
              "    <tr>\n",
              "      <th>2016-11-04</th>\n",
              "      <td>10</td>\n",
              "      <td>68.0</td>\n",
              "      <td>142.0</td>\n",
              "      <td>65.0</td>\n",
              "      <td>86.0</td>\n",
              "      <td>1930.0</td>\n",
              "      <td>6610 days</td>\n",
              "      <td>2016</td>\n",
              "      <td>11</td>\n",
              "      <td>309</td>\n",
              "    </tr>\n",
              "    <tr>\n",
              "      <th>2016-11-21</th>\n",
              "      <td>10</td>\n",
              "      <td>84.0</td>\n",
              "      <td>140.0</td>\n",
              "      <td>75.0</td>\n",
              "      <td>86.0</td>\n",
              "      <td>1930.0</td>\n",
              "      <td>6627 days</td>\n",
              "      <td>2016</td>\n",
              "      <td>11</td>\n",
              "      <td>326</td>\n",
              "    </tr>\n",
              "    <tr>\n",
              "      <th>2017-01-16</th>\n",
              "      <td>10</td>\n",
              "      <td>84.0</td>\n",
              "      <td>125.0</td>\n",
              "      <td>70.0</td>\n",
              "      <td>87.0</td>\n",
              "      <td>1930.0</td>\n",
              "      <td>6683 days</td>\n",
              "      <td>2017</td>\n",
              "      <td>1</td>\n",
              "      <td>16</td>\n",
              "    </tr>\n",
              "    <tr>\n",
              "      <th>2017-11-20</th>\n",
              "      <td>10</td>\n",
              "      <td>92.0</td>\n",
              "      <td>115.0</td>\n",
              "      <td>60.0</td>\n",
              "      <td>87.0</td>\n",
              "      <td>1930.0</td>\n",
              "      <td>6991 days</td>\n",
              "      <td>2017</td>\n",
              "      <td>11</td>\n",
              "      <td>324</td>\n",
              "    </tr>\n",
              "    <tr>\n",
              "      <th>...</th>\n",
              "      <th>...</th>\n",
              "      <td>...</td>\n",
              "      <td>...</td>\n",
              "      <td>...</td>\n",
              "      <td>...</td>\n",
              "      <td>...</td>\n",
              "      <td>...</td>\n",
              "      <td>...</td>\n",
              "      <td>...</td>\n",
              "      <td>...</td>\n",
              "      <td>...</td>\n",
              "    </tr>\n",
              "    <tr>\n",
              "      <th rowspan=\"5\" valign=\"top\">34823672.0</th>\n",
              "      <th>2017-04-15</th>\n",
              "      <td>8</td>\n",
              "      <td>68.0</td>\n",
              "      <td>140.0</td>\n",
              "      <td>60.0</td>\n",
              "      <td>73.0</td>\n",
              "      <td>1944.0</td>\n",
              "      <td>0 days</td>\n",
              "      <td>2017</td>\n",
              "      <td>4</td>\n",
              "      <td>105</td>\n",
              "    </tr>\n",
              "    <tr>\n",
              "      <th>2017-06-26</th>\n",
              "      <td>8</td>\n",
              "      <td>74.0</td>\n",
              "      <td>130.0</td>\n",
              "      <td>70.0</td>\n",
              "      <td>73.0</td>\n",
              "      <td>1944.0</td>\n",
              "      <td>72 days</td>\n",
              "      <td>2017</td>\n",
              "      <td>6</td>\n",
              "      <td>177</td>\n",
              "    </tr>\n",
              "    <tr>\n",
              "      <th>2017-08-30</th>\n",
              "      <td>8</td>\n",
              "      <td>80.0</td>\n",
              "      <td>130.0</td>\n",
              "      <td>70.0</td>\n",
              "      <td>73.0</td>\n",
              "      <td>1944.0</td>\n",
              "      <td>137 days</td>\n",
              "      <td>2017</td>\n",
              "      <td>8</td>\n",
              "      <td>242</td>\n",
              "    </tr>\n",
              "    <tr>\n",
              "      <th>2017-09-11</th>\n",
              "      <td>8</td>\n",
              "      <td>74.0</td>\n",
              "      <td>140.0</td>\n",
              "      <td>80.0</td>\n",
              "      <td>73.0</td>\n",
              "      <td>1944.0</td>\n",
              "      <td>149 days</td>\n",
              "      <td>2017</td>\n",
              "      <td>9</td>\n",
              "      <td>254</td>\n",
              "    </tr>\n",
              "    <tr>\n",
              "      <th>2018-08-02</th>\n",
              "      <td>8</td>\n",
              "      <td>78.0</td>\n",
              "      <td>130.0</td>\n",
              "      <td>70.0</td>\n",
              "      <td>74.0</td>\n",
              "      <td>1944.0</td>\n",
              "      <td>474 days</td>\n",
              "      <td>2018</td>\n",
              "      <td>8</td>\n",
              "      <td>214</td>\n",
              "    </tr>\n",
              "  </tbody>\n",
              "</table>\n",
              "<p>36876 rows × 10 columns</p>\n",
              "</div>"
            ],
            "text/plain": [
              "                         product_atc_code  ...  contactDateDayOfYear\n",
              "person_id  contact_date                    ...                      \n",
              "291.0      2016-10-28                  10  ...                   302\n",
              "           2016-11-04                  10  ...                   309\n",
              "           2016-11-21                  10  ...                   326\n",
              "           2017-01-16                  10  ...                    16\n",
              "           2017-11-20                  10  ...                   324\n",
              "...                                   ...  ...                   ...\n",
              "34823672.0 2017-04-15                   8  ...                   105\n",
              "           2017-06-26                   8  ...                   177\n",
              "           2017-08-30                   8  ...                   242\n",
              "           2017-09-11                   8  ...                   254\n",
              "           2018-08-02                   8  ...                   214\n",
              "\n",
              "[36876 rows x 10 columns]"
            ]
          },
          "metadata": {
            "tags": []
          },
          "execution_count": 21
        }
      ]
    },
    {
      "cell_type": "markdown",
      "metadata": {
        "id": "3RwhcepIBt2P"
      },
      "source": [
        "### Attribution des bonnes valeurs de ```time_wait```"
      ]
    },
    {
      "cell_type": "code",
      "metadata": {
        "colab": {
          "base_uri": "https://localhost:8080/"
        },
        "id": "Pl_F60Q4Bt2Q",
        "outputId": "3cd096a6-e2dc-4d72-e99c-375e2f1e85e3"
      },
      "source": [
        "tsWithTime = ts.copy()\n",
        "for i,_ in ts.groupby('person_id'):\n",
        "    len_ = len(ts.loc[i])\n",
        "    tsWithTime.loc[i].wait_time[1:len_] = pd.Series(ts.loc[i].wait_time.to_numpy()[1:len_] - ts.loc[i].wait_time.to_numpy()[:len_-1])\n",
        "    tsWithTime.loc[i].wait_time[0] = pd.Timedelta(0)"
      ],
      "execution_count": 22,
      "outputs": [
        {
          "output_type": "stream",
          "text": [
            "/usr/local/lib/python3.6/dist-packages/pandas/core/series.py:1027: SettingWithCopyWarning: \n",
            "A value is trying to be set on a copy of a slice from a DataFrame\n",
            "\n",
            "See the caveats in the documentation: https://pandas.pydata.org/pandas-docs/stable/user_guide/indexing.html#returning-a-view-versus-a-copy\n",
            "  self._set_with(key, value)\n",
            "/usr/local/lib/python3.6/dist-packages/IPython/core/interactiveshell.py:2882: SettingWithCopyWarning: \n",
            "A value is trying to be set on a copy of a slice from a DataFrame\n",
            "\n",
            "See the caveats in the documentation: https://pandas.pydata.org/pandas-docs/stable/user_guide/indexing.html#returning-a-view-versus-a-copy\n",
            "  exec(code_obj, self.user_global_ns, self.user_ns)\n"
          ],
          "name": "stderr"
        }
      ]
    },
    {
      "cell_type": "code",
      "metadata": {
        "colab": {
          "base_uri": "https://localhost:8080/"
        },
        "id": "6Mm-y9aPBt2Q",
        "outputId": "2e240d4e-4174-450a-d803-252a1fa77088"
      },
      "source": [
        "tsWithTimeNumber = tsWithTime.copy()\n",
        "tsWithTimeNumber.wait_time = tsWithTime.wait_time.dt.days\n",
        "tsWithTimeNumber['wait_time_days'] = tsWithTime.wait_time.dt.days\n",
        "tsWithTimeNumber['wait_time_weeks'] = (tsWithTime.wait_time.dt.days / 7).astype(int)\n",
        "tsWithTimeNumber.wait_time.describe()"
      ],
      "execution_count": 23,
      "outputs": [
        {
          "output_type": "execute_result",
          "data": {
            "text/plain": [
              "count    36876.000000\n",
              "mean       104.590520\n",
              "std        122.973534\n",
              "min          0.000000\n",
              "25%         26.000000\n",
              "50%         76.000000\n",
              "75%        139.000000\n",
              "max       2825.000000\n",
              "Name: wait_time, dtype: float64"
            ]
          },
          "metadata": {
            "tags": []
          },
          "execution_count": 23
        }
      ]
    },
    {
      "cell_type": "code",
      "metadata": {
        "colab": {
          "base_uri": "https://localhost:8080/"
        },
        "id": "TI5n1JdkBt2R",
        "outputId": "0a38545e-10df-4775-f7c1-05b654d6e5e0"
      },
      "source": [
        "tsWithGoodTime = tsWithTimeNumber[tsWithTimeNumber.wait_time.values <= 300]\n",
        "tsWithGoodTime.wait_time.describe()"
      ],
      "execution_count": 24,
      "outputs": [
        {
          "output_type": "execute_result",
          "data": {
            "text/plain": [
              "count    34546.00000\n",
              "mean        81.39967\n",
              "std         73.03593\n",
              "min          0.00000\n",
              "25%         23.00000\n",
              "50%         67.00000\n",
              "75%        118.00000\n",
              "max        300.00000\n",
              "Name: wait_time, dtype: float64"
            ]
          },
          "metadata": {
            "tags": []
          },
          "execution_count": 24
        }
      ]
    },
    {
      "cell_type": "markdown",
      "metadata": {
        "id": "lVPV96Q4Bt2S"
      },
      "source": [
        "### Transformation de ```wait_time``` en valeur numérique"
      ]
    },
    {
      "cell_type": "code",
      "metadata": {
        "colab": {
          "base_uri": "https://localhost:8080/",
          "height": 567
        },
        "id": "oVBztqi1Bt2S",
        "outputId": "456eeae6-447b-4d03-a921-9fcb93958fc4"
      },
      "source": [
        "tsWithTimeMonth = tsWithGoodTime.copy()\n",
        "tsWithTimeMonth.wait_time = (tsWithGoodTime.wait_time / 30).astype(int)\n",
        "tsWithTimeMonth.wait_time[tsWithTimeMonth.wait_time >= 4] = 4\n",
        "tsWithTimeMonth"
      ],
      "execution_count": 25,
      "outputs": [
        {
          "output_type": "stream",
          "text": [
            "/usr/local/lib/python3.6/dist-packages/ipykernel_launcher.py:3: SettingWithCopyWarning: \n",
            "A value is trying to be set on a copy of a slice from a DataFrame\n",
            "\n",
            "See the caveats in the documentation: https://pandas.pydata.org/pandas-docs/stable/user_guide/indexing.html#returning-a-view-versus-a-copy\n",
            "  This is separate from the ipykernel package so we can avoid doing imports until\n"
          ],
          "name": "stderr"
        },
        {
          "output_type": "execute_result",
          "data": {
            "text/html": [
              "<div>\n",
              "<style scoped>\n",
              "    .dataframe tbody tr th:only-of-type {\n",
              "        vertical-align: middle;\n",
              "    }\n",
              "\n",
              "    .dataframe tbody tr th {\n",
              "        vertical-align: top;\n",
              "    }\n",
              "\n",
              "    .dataframe thead th {\n",
              "        text-align: right;\n",
              "    }\n",
              "</style>\n",
              "<table border=\"1\" class=\"dataframe\">\n",
              "  <thead>\n",
              "    <tr style=\"text-align: right;\">\n",
              "      <th></th>\n",
              "      <th></th>\n",
              "      <th>product_atc_code</th>\n",
              "      <th>Pulse</th>\n",
              "      <th>Tension Diastolique</th>\n",
              "      <th>Tension Systolique</th>\n",
              "      <th>Age_presc</th>\n",
              "      <th>year_of_birth</th>\n",
              "      <th>wait_time</th>\n",
              "      <th>contactDateYear</th>\n",
              "      <th>contactDateMonth</th>\n",
              "      <th>contactDateDayOfYear</th>\n",
              "      <th>wait_time_days</th>\n",
              "      <th>wait_time_weeks</th>\n",
              "    </tr>\n",
              "    <tr>\n",
              "      <th>person_id</th>\n",
              "      <th>contact_date</th>\n",
              "      <th></th>\n",
              "      <th></th>\n",
              "      <th></th>\n",
              "      <th></th>\n",
              "      <th></th>\n",
              "      <th></th>\n",
              "      <th></th>\n",
              "      <th></th>\n",
              "      <th></th>\n",
              "      <th></th>\n",
              "      <th></th>\n",
              "      <th></th>\n",
              "    </tr>\n",
              "  </thead>\n",
              "  <tbody>\n",
              "    <tr>\n",
              "      <th rowspan=\"5\" valign=\"top\">291.0</th>\n",
              "      <th>2016-10-28</th>\n",
              "      <td>10</td>\n",
              "      <td>72.0</td>\n",
              "      <td>130.0</td>\n",
              "      <td>60.0</td>\n",
              "      <td>86.0</td>\n",
              "      <td>1930.0</td>\n",
              "      <td>0</td>\n",
              "      <td>2016</td>\n",
              "      <td>10</td>\n",
              "      <td>302</td>\n",
              "      <td>0</td>\n",
              "      <td>0</td>\n",
              "    </tr>\n",
              "    <tr>\n",
              "      <th>2016-11-04</th>\n",
              "      <td>10</td>\n",
              "      <td>68.0</td>\n",
              "      <td>142.0</td>\n",
              "      <td>65.0</td>\n",
              "      <td>86.0</td>\n",
              "      <td>1930.0</td>\n",
              "      <td>0</td>\n",
              "      <td>2016</td>\n",
              "      <td>11</td>\n",
              "      <td>309</td>\n",
              "      <td>7</td>\n",
              "      <td>1</td>\n",
              "    </tr>\n",
              "    <tr>\n",
              "      <th>2016-11-21</th>\n",
              "      <td>10</td>\n",
              "      <td>84.0</td>\n",
              "      <td>140.0</td>\n",
              "      <td>75.0</td>\n",
              "      <td>86.0</td>\n",
              "      <td>1930.0</td>\n",
              "      <td>0</td>\n",
              "      <td>2016</td>\n",
              "      <td>11</td>\n",
              "      <td>326</td>\n",
              "      <td>17</td>\n",
              "      <td>2</td>\n",
              "    </tr>\n",
              "    <tr>\n",
              "      <th>2017-01-16</th>\n",
              "      <td>10</td>\n",
              "      <td>84.0</td>\n",
              "      <td>125.0</td>\n",
              "      <td>70.0</td>\n",
              "      <td>87.0</td>\n",
              "      <td>1930.0</td>\n",
              "      <td>1</td>\n",
              "      <td>2017</td>\n",
              "      <td>1</td>\n",
              "      <td>16</td>\n",
              "      <td>56</td>\n",
              "      <td>8</td>\n",
              "    </tr>\n",
              "    <tr>\n",
              "      <th>2018-01-19</th>\n",
              "      <td>10</td>\n",
              "      <td>84.0</td>\n",
              "      <td>130.0</td>\n",
              "      <td>70.0</td>\n",
              "      <td>88.0</td>\n",
              "      <td>1930.0</td>\n",
              "      <td>2</td>\n",
              "      <td>2018</td>\n",
              "      <td>1</td>\n",
              "      <td>19</td>\n",
              "      <td>60</td>\n",
              "      <td>8</td>\n",
              "    </tr>\n",
              "    <tr>\n",
              "      <th>...</th>\n",
              "      <th>...</th>\n",
              "      <td>...</td>\n",
              "      <td>...</td>\n",
              "      <td>...</td>\n",
              "      <td>...</td>\n",
              "      <td>...</td>\n",
              "      <td>...</td>\n",
              "      <td>...</td>\n",
              "      <td>...</td>\n",
              "      <td>...</td>\n",
              "      <td>...</td>\n",
              "      <td>...</td>\n",
              "      <td>...</td>\n",
              "    </tr>\n",
              "    <tr>\n",
              "      <th>34782602.0</th>\n",
              "      <th>2018-02-14</th>\n",
              "      <td>8</td>\n",
              "      <td>84.0</td>\n",
              "      <td>120.0</td>\n",
              "      <td>60.0</td>\n",
              "      <td>69.0</td>\n",
              "      <td>1949.0</td>\n",
              "      <td>2</td>\n",
              "      <td>2018</td>\n",
              "      <td>2</td>\n",
              "      <td>45</td>\n",
              "      <td>76</td>\n",
              "      <td>10</td>\n",
              "    </tr>\n",
              "    <tr>\n",
              "      <th rowspan=\"4\" valign=\"top\">34823672.0</th>\n",
              "      <th>2017-04-15</th>\n",
              "      <td>8</td>\n",
              "      <td>68.0</td>\n",
              "      <td>140.0</td>\n",
              "      <td>60.0</td>\n",
              "      <td>73.0</td>\n",
              "      <td>1944.0</td>\n",
              "      <td>0</td>\n",
              "      <td>2017</td>\n",
              "      <td>4</td>\n",
              "      <td>105</td>\n",
              "      <td>0</td>\n",
              "      <td>0</td>\n",
              "    </tr>\n",
              "    <tr>\n",
              "      <th>2017-06-26</th>\n",
              "      <td>8</td>\n",
              "      <td>74.0</td>\n",
              "      <td>130.0</td>\n",
              "      <td>70.0</td>\n",
              "      <td>73.0</td>\n",
              "      <td>1944.0</td>\n",
              "      <td>2</td>\n",
              "      <td>2017</td>\n",
              "      <td>6</td>\n",
              "      <td>177</td>\n",
              "      <td>72</td>\n",
              "      <td>10</td>\n",
              "    </tr>\n",
              "    <tr>\n",
              "      <th>2017-08-30</th>\n",
              "      <td>8</td>\n",
              "      <td>80.0</td>\n",
              "      <td>130.0</td>\n",
              "      <td>70.0</td>\n",
              "      <td>73.0</td>\n",
              "      <td>1944.0</td>\n",
              "      <td>2</td>\n",
              "      <td>2017</td>\n",
              "      <td>8</td>\n",
              "      <td>242</td>\n",
              "      <td>65</td>\n",
              "      <td>9</td>\n",
              "    </tr>\n",
              "    <tr>\n",
              "      <th>2017-09-11</th>\n",
              "      <td>8</td>\n",
              "      <td>74.0</td>\n",
              "      <td>140.0</td>\n",
              "      <td>80.0</td>\n",
              "      <td>73.0</td>\n",
              "      <td>1944.0</td>\n",
              "      <td>0</td>\n",
              "      <td>2017</td>\n",
              "      <td>9</td>\n",
              "      <td>254</td>\n",
              "      <td>12</td>\n",
              "      <td>1</td>\n",
              "    </tr>\n",
              "  </tbody>\n",
              "</table>\n",
              "<p>34546 rows × 12 columns</p>\n",
              "</div>"
            ],
            "text/plain": [
              "                         product_atc_code  ...  wait_time_weeks\n",
              "person_id  contact_date                    ...                 \n",
              "291.0      2016-10-28                  10  ...                0\n",
              "           2016-11-04                  10  ...                1\n",
              "           2016-11-21                  10  ...                2\n",
              "           2017-01-16                  10  ...                8\n",
              "           2018-01-19                  10  ...                8\n",
              "...                                   ...  ...              ...\n",
              "34782602.0 2018-02-14                   8  ...               10\n",
              "34823672.0 2017-04-15                   8  ...                0\n",
              "           2017-06-26                   8  ...               10\n",
              "           2017-08-30                   8  ...                9\n",
              "           2017-09-11                   8  ...                1\n",
              "\n",
              "[34546 rows x 12 columns]"
            ]
          },
          "metadata": {
            "tags": []
          },
          "execution_count": 25
        }
      ]
    },
    {
      "cell_type": "code",
      "metadata": {
        "colab": {
          "base_uri": "https://localhost:8080/"
        },
        "id": "wCRtoAoKBt2S",
        "outputId": "8be35d78-24fa-44ec-925d-c5291d51801c"
      },
      "source": [
        "tsResetIndex = tsWithTimeMonth.copy()\n",
        "tsResetIndex = tsResetIndex.reset_index()\n",
        "print( tsResetIndex )\n",
        "tsValueCounts = tsResetIndex.person_id.value_counts()\n",
        "tsIndexed = tsResetIndex[tsResetIndex.person_id.isin(tsValueCounts[tsValueCounts.values >= VISIT_NUMBER].index)]"
      ],
      "execution_count": 28,
      "outputs": [
        {
          "output_type": "stream",
          "text": [
            "        person_id contact_date  ...  wait_time_days  wait_time_weeks\n",
            "0           291.0   2016-10-28  ...               0                0\n",
            "1           291.0   2016-11-04  ...               7                1\n",
            "2           291.0   2016-11-21  ...              17                2\n",
            "3           291.0   2017-01-16  ...              56                8\n",
            "4           291.0   2018-01-19  ...              60                8\n",
            "...           ...          ...  ...             ...              ...\n",
            "34541  34782602.0   2018-02-14  ...              76               10\n",
            "34542  34823672.0   2017-04-15  ...               0                0\n",
            "34543  34823672.0   2017-06-26  ...              72               10\n",
            "34544  34823672.0   2017-08-30  ...              65                9\n",
            "34545  34823672.0   2017-09-11  ...              12                1\n",
            "\n",
            "[34546 rows x 14 columns]\n"
          ],
          "name": "stdout"
        }
      ]
    },
    {
      "cell_type": "code",
      "metadata": {
        "id": "tRvgwfR_Bt2T"
      },
      "source": [
        "atcCodeValues = tsWithTimeMonth.product_atc_code\n",
        "waitTimeValues = tsWithTimeMonth.wait_time\n",
        "\n",
        "tsFinal = pd.concat([tsWithTimeMonth,pd.get_dummies(atcCodeValues),pd.get_dummies(waitTimeValues)],axis='columns').drop(['product_atc_code','wait_time'],axis='columns')"
      ],
      "execution_count": 29,
      "outputs": []
    },
    {
      "cell_type": "markdown",
      "metadata": {
        "id": "IWKL9H2sBt2T"
      },
      "source": [
        "# Prédiction"
      ]
    },
    {
      "cell_type": "markdown",
      "metadata": {
        "id": "MQR1Tee5Bt2U"
      },
      "source": [
        "## Création des données d'entraînement/test"
      ]
    },
    {
      "cell_type": "code",
      "metadata": {
        "tags": [],
        "id": "sSISD_NrBt2W"
      },
      "source": [
        "#yColumnNames = ['product_atc_code', 'wait_time']\n",
        "\n",
        "#xList,yList = [],[]\n",
        "#for i,_ in tsWithTimeMonth.groupby('person_id'):\n",
        "    # Mme ZERHAOUI a dit qu'il fallait transposer, je transpose\n",
        "    # Pour l'instant je retourne au model évident : une série temporel qui contient 4 éléments de n_features données, on verra après pour la trasposition\n",
        "#    currentSeriesX = tsFinal.loc[i]\n",
        "#    currentSeriesY = tsWithTimeMonth.loc[i]\n",
        "#    for j in range(0,len(currentSeriesX)-VISIT_NUMBER+1):\n",
        "#        xList.append(currentSeriesX[j:j+VISIT_NUMBER-1].to_numpy().astype('float32'))\n",
        "        #xList.append(currentSeries.to_numpy().astype('float32'))\n",
        "#        yList.append(currentSeriesY[yColumnNames].values[j+VISIT_NUMBER-1].astype('float32'))\n",
        "        #yList.append(currentSeries[yColumnNames].astype('float32'))\n",
        "\n",
        "#xData = np.array(xList).reshape((len(xList),xList[0].shape[0],xList[0].shape[1]))\n",
        "#yData = np.array(yList).reshape((len(yList),len(yColumnNames)))"
      ],
      "execution_count": null,
      "outputs": []
    },
    {
      "cell_type": "code",
      "metadata": {
        "id": "o8z92Yl_Bt2W"
      },
      "source": [
        "yColumnNames = ['product_atc_code', 'wait_time']\n",
        "xList,yList = [],[]\n",
        "for i,_ in tsWithTimeMonth.groupby('person_id'):\n",
        "    if(len(tsFinal.loc[i]) >= 5):\n",
        "        xList.append(tsFinal.loc[i][:5][:-1].to_numpy().astype('float32'))\n",
        "        yList.append(tsWithTimeMonth[yColumnNames].loc[i][:5][-1:].to_numpy().astype('float32'))"
      ],
      "execution_count": null,
      "outputs": []
    },
    {
      "cell_type": "code",
      "metadata": {
        "id": "g6jmr4NbBt2W"
      },
      "source": [
        "xData = np.array(xList)\n",
        "yData = np.array(yList)\n",
        "\n",
        "xs = xData.shape\n",
        "ys = yData.shape\n",
        "\n",
        "xData = xData.reshape(xs[0],1,xs[1],xs[2])\n",
        "yData = yData.reshape(ys[0],ys[1],ys[2])"
      ],
      "execution_count": null,
      "outputs": []
    },
    {
      "cell_type": "code",
      "metadata": {
        "id": "cnz7WaiwBt2X"
      },
      "source": [
        "print(f\"{xData.shape} --- {yData.shape}\")"
      ],
      "execution_count": null,
      "outputs": []
    },
    {
      "cell_type": "code",
      "metadata": {
        "id": "qvADOzYqBt2c"
      },
      "source": [
        "l = len(xData) // 2\n",
        "xData1, yData1 = xData[:l], yData[:l]\n",
        "xData2, yData2 = xData[:-l], yData[:-l]"
      ],
      "execution_count": null,
      "outputs": []
    },
    {
      "cell_type": "code",
      "metadata": {
        "id": "51B0QmjyBt2c"
      },
      "source": [
        "trainUse1 = int(len(xData1) * 2 / 3)\n",
        "testUse1 = len(xData1) - trainUse1\n",
        "\n",
        "xTrain1, xTest1, yTrain1, yTest1 = xData1[:trainUse1],xData1[-testUse1:],yData1[:trainUse1],yData1[-testUse1:]\n",
        "\n",
        "print(f\"Train: {xTrain1.shape} --- Test: {xTest1.shape}\")"
      ],
      "execution_count": null,
      "outputs": []
    },
    {
      "cell_type": "code",
      "metadata": {
        "id": "ix469jhvBt2d"
      },
      "source": [
        "#Cellule pour faire des tests et comprendre la syntaxe que j'ai utilisée après\n",
        "L = [[1,2,3,4,5,6],[7,8,9],[10,11]]\n",
        "for l in L:\n",
        "    # -2: permet d'avoir les deux derniers\n",
        "    # :le-2 permet d'avoir toutes les entrées sauf les deux dernières\n",
        "    print(f\"{l[-2:]} | {l[:-2]}\")"
      ],
      "execution_count": null,
      "outputs": []
    },
    {
      "cell_type": "code",
      "metadata": {
        "id": "sIsM9mCiBt2g"
      },
      "source": [
        "print(xData2.shape, \"   \", yData2.shape)"
      ],
      "execution_count": null,
      "outputs": []
    },
    {
      "cell_type": "code",
      "metadata": {
        "id": "0Jp4B1gGBt2k"
      },
      "source": [
        "xTrain2, xTest2, yTrain2, yTest2 = xData2[:,:,:-2,:],xData2[:,:,-2:,:],yData2[:,:-2,:],yData2[:,-2:,:]"
      ],
      "execution_count": null,
      "outputs": []
    },
    {
      "cell_type": "code",
      "metadata": {
        "id": "SQtO0mk4Bt2s"
      },
      "source": [
        "yTrain2.shape"
      ],
      "execution_count": null,
      "outputs": []
    },
    {
      "cell_type": "code",
      "metadata": {
        "id": "wi-e-zDlBt2y"
      },
      "source": [
        "yTrain1.shape"
      ],
      "execution_count": null,
      "outputs": []
    },
    {
      "cell_type": "markdown",
      "metadata": {
        "id": "KEGSOnZbBt24"
      },
      "source": [
        "## Création du modèle"
      ]
    },
    {
      "cell_type": "code",
      "metadata": {
        "id": "Ocscm0g3Bt26"
      },
      "source": [
        "ATC_CODE = 0\n",
        "WAIT_TIME = 1\n",
        "toTrain = ATC_CODE"
      ],
      "execution_count": null,
      "outputs": []
    },
    {
      "cell_type": "code",
      "metadata": {
        "id": "k_YQ1aemBt29"
      },
      "source": [
        "model = models.Sequential()\n",
        "model.add(layers.Conv1D(filters=256,kernel_size=3, activation=None, input_shape=(VISIT_NUMBER-1,xTrain.shape[-1])))\n",
        "model.add(layers.LeakyReLU())\n",
        "model.add(layers.GaussianDropout(0.05))\n",
        "model.add(layers.Conv1D(filters=256,kernel_size=3, padding=\"same\", activation=None))\n",
        "model.add(layers.LeakyReLU())\n",
        "model.add(layers.GaussianDropout(0.05))\n",
        "model.add(layers.Conv1D(filters=128,kernel_size=3, padding=\"same\", activation=None))\n",
        "model.add(layers.LeakyReLU())\n",
        "model.add(layers.GaussianDropout(0.05))\n",
        "model.add(layers.GlobalMaxPooling1D())\n",
        "if toTrain == ATC_CODE:\n",
        "    model.add(layers.Dense(units=len(ATCEncoder.classes_),activation=None))\n",
        "    model.add(layers.LeakyReLU())\n",
        "    model.add(layers.LayerNormalization(axis=1))\n",
        "    model.add(layers.Dense(units=len(ATCEncoder.classes_),activation=None))\n",
        "    model.add(layers.LeakyReLU())\n",
        "    model.add(layers.LayerNormalization(axis=1))\n",
        "    model.add(layers.Dense(units=len(ATCEncoder.classes_),activation='softmax'))\n",
        "elif toTrain == WAIT_TIME:\n",
        "    model.add(layers.Dense(units=tsWithTimeMonth.wait_time.max()+1,activation=None))\n",
        "    model.add(layers.LeakyReLU())\n",
        "    model.add(layers.LayerNormalization(axis=1))\n",
        "    model.add(layers.Dense(units=tsWithTimeMonth.wait_time.max()+1,activation=None))\n",
        "    model.add(layers.LeakyReLU())\n",
        "    model.add(layers.LayerNormalization(axis=1))\n",
        "    model.add(layers.Dense(units=tsWithTimeMonth.wait_time.max()+1,activation='softmax'))"
      ],
      "execution_count": null,
      "outputs": []
    },
    {
      "cell_type": "code",
      "metadata": {
        "id": "4LCBSaWfBt2-"
      },
      "source": [
        "model.summary()"
      ],
      "execution_count": null,
      "outputs": []
    },
    {
      "cell_type": "code",
      "metadata": {
        "id": "qxslPST3Bt2-"
      },
      "source": [
        "model.compile(optimizer='adam',loss='sparse_categorical_crossentropy',metrics=['sparse_categorical_accuracy'])"
      ],
      "execution_count": null,
      "outputs": []
    },
    {
      "cell_type": "code",
      "metadata": {
        "id": "TR-MAv4VBt2_"
      },
      "source": [
        "history = model.fit(xTrain1,yTrain1[:,:,toTrain],epochs=100,validation_data=(xTest1,yTest1[:,:,toTrain]))\n",
        "#history = model.fit(xTrain2,yTrain2[:,:,toTrain],epochs=30,validation_data=(xTest2,yTest2[:,:,toTrain]))"
      ],
      "execution_count": null,
      "outputs": []
    },
    {
      "cell_type": "code",
      "metadata": {
        "id": "scZ6D7ahBt3A"
      },
      "source": [
        "loss_list = [s for s in history.history.keys() if 'loss' in s and 'val' not in s]\n",
        "val_loss_list = [s for s in history.history.keys() if 'loss' in s and 'val' in s]\n",
        "acc_list = [s for s in history.history.keys() if 'acc' in s and 'val' not in s]\n",
        "val_acc_list = [s for s in history.history.keys() if 'acc' in s and 'val' in s]\n",
        "\n",
        "## As loss always exists\n",
        "epochs = range(1,len(history.history[loss_list[0]]) + 1)\n",
        "\n",
        "fig, (p1,p2) = plt.subplots(1,2,figsize=(13,4))\n",
        "\n",
        "## Loss\n",
        "for l in loss_list:\n",
        "    p1.plot(epochs, history.history[l], 'b', label='Training loss')\n",
        "for l in val_loss_list:\n",
        "    p1.plot(epochs, history.history[l], 'g', label='Validation loss')\n",
        "\n",
        "p1.set(xlabel='Epochs',ylabel='Loss')\n",
        "\n",
        "## Accuracy\n",
        "for l in acc_list:\n",
        "    p2.plot(epochs, history.history[l], 'b', label='Training accuracy')\n",
        "for l in val_acc_list:    \n",
        "    p2.plot(epochs, history.history[l], 'g', label='Validation accuracy')\n",
        "\n",
        "p1.set(xlabel='Epochs',ylabel='Accuracy')\n",
        "plt.legend()\n",
        "plt.show()"
      ],
      "execution_count": null,
      "outputs": []
    },
    {
      "cell_type": "code",
      "metadata": {
        "id": "5-JwcemBBt3B"
      },
      "source": [
        "yTest = yTest1\n",
        "predictions = np.argmax(model.predict(xTest1),axis=1).reshape(yTest[:,:,toTrain].shape)\n",
        "print(f\"Précision '{yColumnNames[toTrain]}': {(predictions == yTest[:,:,toTrain]).sum()/len(yTest)*100:.2f}%\")"
      ],
      "execution_count": null,
      "outputs": []
    },
    {
      "cell_type": "code",
      "metadata": {
        "id": "w-J2c9KJBt3E"
      },
      "source": [
        "SLICE_START = 200\n",
        "SLICE_SIZE = 50\n",
        "SLICE_END = SLICE_START + SLICE_SIZE\n",
        "\n",
        "plt.plot(yTest[SLICE_START:SLICE_END,:,toTrain],label='expected')\n",
        "plt.plot(predictions[SLICE_START:SLICE_END,0],color='r',label='predicted')\n",
        "\n",
        "fig.legend()\n",
        "fig.show()"
      ],
      "execution_count": null,
      "outputs": []
    },
    {
      "cell_type": "code",
      "metadata": {
        "id": "1jMCOmdoBt3F"
      },
      "source": [
        ""
      ],
      "execution_count": null,
      "outputs": []
    }
  ]
}