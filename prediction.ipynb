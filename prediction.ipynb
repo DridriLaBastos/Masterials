{
 "metadata": {
  "language_info": {
   "codemirror_mode": {
    "name": "ipython",
    "version": 3
   },
   "file_extension": ".py",
   "mimetype": "text/x-python",
   "name": "python",
   "nbconvert_exporter": "python",
   "pygments_lexer": "ipython3",
   "version": "3.7.3-final"
  },
  "orig_nbformat": 2,
  "kernelspec": {
   "name": "python3",
   "display_name": "Python 3.7.3 64-bit",
   "metadata": {
    "interpreter": {
     "hash": "5edc29c2ed010d6458d71a83433b383a96a8cbd3efe8531bc90c4b8a5b8bcec9"
    }
   }
  }
 },
 "nbformat": 4,
 "nbformat_minor": 2,
 "cells": [
  {
   "cell_type": "code",
   "execution_count": 1,
   "metadata": {},
   "outputs": [],
   "source": [
    "import pandas as pd\n",
    "import numpy as np\n",
    "\n",
    "from tensorflow.data import Dataset\n",
    "\n",
    "from sklearn.preprocessing import LabelEncoder\n",
    "from sklearn.preprocessing import OrdinalEncoder\n",
    "\n",
    "from matplotlib import pyplot as plt\n",
    "\n",
    "from keras import layers\n",
    "from keras import models\n",
    "from keras import losses\n",
    "from keras.utils import to_categorical\n",
    "from keras.preprocessing import timeseries_dataset_from_array"
   ]
  },
  {
   "cell_type": "code",
   "execution_count": 2,
   "metadata": {},
   "outputs": [],
   "source": [
    "dateColumnNames = [\n",
    "    'contact_date',\n",
    "    'Glycemie_der_date',\n",
    "    'HbA1c_der_date',\n",
    "    'der_date_poids',\n",
    "    'der_date_taille',\n",
    "    'first_contact_date'\n",
    "]\n",
    "\n",
    "df = pd.read_csv('PatientsHTA.zip',engine='c',parse_dates=dateColumnNames)"
   ]
  },
  {
   "source": [
    "# Suppression des lignes trop peu nombreuses\n",
    "\n",
    "Nous souhaitons faire un apprentissage en utilisant la dimension temporelle comme filtre pour le CNN. Pour ça il faut donc que nous ayons plusieurs entrées. Avant de commencer à traîter les données, nous supprimons toutes les personnes qui n'ont pas rendu visite assez souvent à leur médecin. Ainsi, par le biais de ```person_id```, nous avons choisi arbitrairement que pour être utile à l'apprentissage, il faut au moins 3 visites par patients, soient toutes les lignes dont le ```person_id```est contenu plus de 3 fois dans tout le jeu de données."
   ],
   "cell_type": "markdown",
   "metadata": {}
  },
  {
   "cell_type": "code",
   "execution_count": 3,
   "metadata": {},
   "outputs": [],
   "source": [
    "VISIT_NUMBER = 4\n",
    "valueCounts = df.person_id.value_counts()\n",
    "dfEnought = df[df.person_id.isin(valueCounts[valueCounts.values >= VISIT_NUMBER].index)]"
   ]
  },
  {
   "source": [
    "# Suppression des colonnes innutiles"
   ],
   "cell_type": "markdown",
   "metadata": {}
  },
  {
   "source": [
    "## Suppression de la colonne ```age_now```"
   ],
   "cell_type": "markdown",
   "metadata": {}
  },
  {
   "source": [
    "Nous pouvons supprimer la colonne ```age_now``` car les données qu'elle contient sont identiques à celles de la colonne ```year_of_birth```."
   ],
   "cell_type": "markdown",
   "metadata": {}
  },
  {
   "source": [
    "dfWithoutAgeNow = dfEnought.drop('Age_now', axis='columns')"
   ],
   "cell_type": "code",
   "metadata": {},
   "execution_count": 4,
   "outputs": []
  },
  {
   "source": [
    "## Suppression de la colonne ```contact_id```\n",
    "\n",
    "En effet, la colonne ```contact_id``` ne représente aucun intérêt pour l'apprentissage car elle ne contient aucun information à même d'influer sur la prédiction."
   ],
   "cell_type": "markdown",
   "metadata": {}
  },
  {
   "cell_type": "code",
   "execution_count": 5,
   "metadata": {},
   "outputs": [],
   "source": [
    "dfWithoutContactID = dfWithoutAgeNow.drop('contact_id',axis='columns')"
   ]
  },
  {
   "source": [
    "## Suppression des noms de médicaments"
   ],
   "cell_type": "markdown",
   "metadata": {}
  },
  {
   "cell_type": "code",
   "execution_count": 6,
   "metadata": {},
   "outputs": [
    {
     "output_type": "execute_result",
     "data": {
      "text/plain": [
       "                  molecule_label  short_name  long_name  Classe  product_atc\n",
       "product_atc_code                                                            \n",
       "C02AC06                     4288        4288       4288    4288         4288\n",
       "C03BX03                      932         932        932     932          932\n",
       "C03CA01                      877         877        877     877          877\n",
       "C03DA01                      187         187        187     187          187\n",
       "C03DA04                       27          27         27      27           27\n",
       "C03EA04                       75          75         75      75           75\n",
       "C03EB01                       14          14         14      14           14\n",
       "C07AA05                        2           2          2       2            2\n",
       "C07AB03                     6466        6466       6466    6466         6466\n",
       "C07AB04                       39          39         39      39           39\n",
       "C07AB07                     6765        6765       6765    6765         6765\n",
       "C07AB12                      509         509        509     509          509\n",
       "C07DB01                       10          10         10      10           10\n",
       "C08CA01                      679         679        679     679          679\n",
       "C08DB01                      108         108        108     108          108\n",
       "C09AA02                       50          50         50      50           50\n",
       "C09AA03                       47          47         47      47           47\n",
       "C09AA04                     1183        1183       1183    1183         1183\n",
       "C09AA05                      232         232        232     232          232\n",
       "C09AA06                       20          20         20      20           20\n",
       "C09BA02                       11          11         11      11           11\n",
       "C09BA04                      920         920        920     920          920\n",
       "C09CA01                      277         277        277     277          277\n",
       "C09CA03                     2702        2702       2702    2702         2702\n",
       "C09CA04                      618         618        618     618          618\n",
       "C09CA06                     1291        1291       1291    1291         1291\n",
       "C09CA07                      109         109        109     109          109\n",
       "C09DA01                      542         542        542     542          542\n",
       "C09DA03                     1834        1834       1834    1834         1834\n",
       "C09DA04                      581         581        581     581          581\n",
       "C09DB04                     5212        5212       5212    5212         5212\n",
       "C09XA02                       63          63         63      63           63\n",
       "C09XA52                      206         206        206     206          206"
      ],
      "text/html": "<div>\n<style scoped>\n    .dataframe tbody tr th:only-of-type {\n        vertical-align: middle;\n    }\n\n    .dataframe tbody tr th {\n        vertical-align: top;\n    }\n\n    .dataframe thead th {\n        text-align: right;\n    }\n</style>\n<table border=\"1\" class=\"dataframe\">\n  <thead>\n    <tr style=\"text-align: right;\">\n      <th></th>\n      <th>molecule_label</th>\n      <th>short_name</th>\n      <th>long_name</th>\n      <th>Classe</th>\n      <th>product_atc</th>\n    </tr>\n    <tr>\n      <th>product_atc_code</th>\n      <th></th>\n      <th></th>\n      <th></th>\n      <th></th>\n      <th></th>\n    </tr>\n  </thead>\n  <tbody>\n    <tr>\n      <th>C02AC06</th>\n      <td>4288</td>\n      <td>4288</td>\n      <td>4288</td>\n      <td>4288</td>\n      <td>4288</td>\n    </tr>\n    <tr>\n      <th>C03BX03</th>\n      <td>932</td>\n      <td>932</td>\n      <td>932</td>\n      <td>932</td>\n      <td>932</td>\n    </tr>\n    <tr>\n      <th>C03CA01</th>\n      <td>877</td>\n      <td>877</td>\n      <td>877</td>\n      <td>877</td>\n      <td>877</td>\n    </tr>\n    <tr>\n      <th>C03DA01</th>\n      <td>187</td>\n      <td>187</td>\n      <td>187</td>\n      <td>187</td>\n      <td>187</td>\n    </tr>\n    <tr>\n      <th>C03DA04</th>\n      <td>27</td>\n      <td>27</td>\n      <td>27</td>\n      <td>27</td>\n      <td>27</td>\n    </tr>\n    <tr>\n      <th>C03EA04</th>\n      <td>75</td>\n      <td>75</td>\n      <td>75</td>\n      <td>75</td>\n      <td>75</td>\n    </tr>\n    <tr>\n      <th>C03EB01</th>\n      <td>14</td>\n      <td>14</td>\n      <td>14</td>\n      <td>14</td>\n      <td>14</td>\n    </tr>\n    <tr>\n      <th>C07AA05</th>\n      <td>2</td>\n      <td>2</td>\n      <td>2</td>\n      <td>2</td>\n      <td>2</td>\n    </tr>\n    <tr>\n      <th>C07AB03</th>\n      <td>6466</td>\n      <td>6466</td>\n      <td>6466</td>\n      <td>6466</td>\n      <td>6466</td>\n    </tr>\n    <tr>\n      <th>C07AB04</th>\n      <td>39</td>\n      <td>39</td>\n      <td>39</td>\n      <td>39</td>\n      <td>39</td>\n    </tr>\n    <tr>\n      <th>C07AB07</th>\n      <td>6765</td>\n      <td>6765</td>\n      <td>6765</td>\n      <td>6765</td>\n      <td>6765</td>\n    </tr>\n    <tr>\n      <th>C07AB12</th>\n      <td>509</td>\n      <td>509</td>\n      <td>509</td>\n      <td>509</td>\n      <td>509</td>\n    </tr>\n    <tr>\n      <th>C07DB01</th>\n      <td>10</td>\n      <td>10</td>\n      <td>10</td>\n      <td>10</td>\n      <td>10</td>\n    </tr>\n    <tr>\n      <th>C08CA01</th>\n      <td>679</td>\n      <td>679</td>\n      <td>679</td>\n      <td>679</td>\n      <td>679</td>\n    </tr>\n    <tr>\n      <th>C08DB01</th>\n      <td>108</td>\n      <td>108</td>\n      <td>108</td>\n      <td>108</td>\n      <td>108</td>\n    </tr>\n    <tr>\n      <th>C09AA02</th>\n      <td>50</td>\n      <td>50</td>\n      <td>50</td>\n      <td>50</td>\n      <td>50</td>\n    </tr>\n    <tr>\n      <th>C09AA03</th>\n      <td>47</td>\n      <td>47</td>\n      <td>47</td>\n      <td>47</td>\n      <td>47</td>\n    </tr>\n    <tr>\n      <th>C09AA04</th>\n      <td>1183</td>\n      <td>1183</td>\n      <td>1183</td>\n      <td>1183</td>\n      <td>1183</td>\n    </tr>\n    <tr>\n      <th>C09AA05</th>\n      <td>232</td>\n      <td>232</td>\n      <td>232</td>\n      <td>232</td>\n      <td>232</td>\n    </tr>\n    <tr>\n      <th>C09AA06</th>\n      <td>20</td>\n      <td>20</td>\n      <td>20</td>\n      <td>20</td>\n      <td>20</td>\n    </tr>\n    <tr>\n      <th>C09BA02</th>\n      <td>11</td>\n      <td>11</td>\n      <td>11</td>\n      <td>11</td>\n      <td>11</td>\n    </tr>\n    <tr>\n      <th>C09BA04</th>\n      <td>920</td>\n      <td>920</td>\n      <td>920</td>\n      <td>920</td>\n      <td>920</td>\n    </tr>\n    <tr>\n      <th>C09CA01</th>\n      <td>277</td>\n      <td>277</td>\n      <td>277</td>\n      <td>277</td>\n      <td>277</td>\n    </tr>\n    <tr>\n      <th>C09CA03</th>\n      <td>2702</td>\n      <td>2702</td>\n      <td>2702</td>\n      <td>2702</td>\n      <td>2702</td>\n    </tr>\n    <tr>\n      <th>C09CA04</th>\n      <td>618</td>\n      <td>618</td>\n      <td>618</td>\n      <td>618</td>\n      <td>618</td>\n    </tr>\n    <tr>\n      <th>C09CA06</th>\n      <td>1291</td>\n      <td>1291</td>\n      <td>1291</td>\n      <td>1291</td>\n      <td>1291</td>\n    </tr>\n    <tr>\n      <th>C09CA07</th>\n      <td>109</td>\n      <td>109</td>\n      <td>109</td>\n      <td>109</td>\n      <td>109</td>\n    </tr>\n    <tr>\n      <th>C09DA01</th>\n      <td>542</td>\n      <td>542</td>\n      <td>542</td>\n      <td>542</td>\n      <td>542</td>\n    </tr>\n    <tr>\n      <th>C09DA03</th>\n      <td>1834</td>\n      <td>1834</td>\n      <td>1834</td>\n      <td>1834</td>\n      <td>1834</td>\n    </tr>\n    <tr>\n      <th>C09DA04</th>\n      <td>581</td>\n      <td>581</td>\n      <td>581</td>\n      <td>581</td>\n      <td>581</td>\n    </tr>\n    <tr>\n      <th>C09DB04</th>\n      <td>5212</td>\n      <td>5212</td>\n      <td>5212</td>\n      <td>5212</td>\n      <td>5212</td>\n    </tr>\n    <tr>\n      <th>C09XA02</th>\n      <td>63</td>\n      <td>63</td>\n      <td>63</td>\n      <td>63</td>\n      <td>63</td>\n    </tr>\n    <tr>\n      <th>C09XA52</th>\n      <td>206</td>\n      <td>206</td>\n      <td>206</td>\n      <td>206</td>\n      <td>206</td>\n    </tr>\n  </tbody>\n</table>\n</div>"
     },
     "metadata": {},
     "execution_count": 6
    }
   ],
   "source": [
    "dfGroupedByMoleculeLabel = dfWithoutContactID.groupby('product_atc_code')[['molecule_label','short_name','long_name','Classe','product_atc']].count()\n",
    "dfGroupedByMoleculeLabel"
   ]
  },
  {
   "source": [
    "Nous voyons qu'il existe différentes colonnes dont le but est de désigner le médicament prescrit lors de la visite, or nous n'avons besoin que d'une seule colonne garder cette information. De ce fait, nous avons choisi de garder ```product_atc_code```."
   ],
   "cell_type": "markdown",
   "metadata": {}
  },
  {
   "cell_type": "code",
   "execution_count": 7,
   "metadata": {},
   "outputs": [
    {
     "output_type": "execute_result",
     "data": {
      "text/plain": [
       "        person_id      specialty_label contact_date           cip  dosage_1  \\\n",
       "1        263659.0  Médecin généraliste   2014-09-24  3.400960e+12      20.0   \n",
       "2        263659.0  Médecin généraliste   2014-09-12  3.400960e+12      20.0   \n",
       "3        263659.0  Médecin généraliste   2015-03-26  3.400960e+12      20.0   \n",
       "4        263659.0  Médecin généraliste   2015-06-05  3.400960e+12      20.0   \n",
       "6      25182917.0  Médecin généraliste   2013-03-27  3.400960e+12     300.0   \n",
       "...           ...                  ...          ...           ...       ...   \n",
       "50625  26636453.0  Médecin généraliste   2016-11-16  3.400940e+12     500.0   \n",
       "50627  18889430.0  Médecin généraliste   2013-02-01  3.400940e+12     500.0   \n",
       "50629   2222336.0  Médecin généraliste   2013-07-01  3.400940e+12     500.0   \n",
       "50631  11363518.0  Médecin généraliste   2013-01-24  3.400940e+12     500.0   \n",
       "50632  18889430.0  Médecin généraliste   2013-01-24  3.400940e+12     500.0   \n",
       "\n",
       "        dose_1  dose_2 product_atc_code  box  quantity  ... HbA1c_der_date  \\\n",
       "1        240.0    24.0         C03CA01   1.0      4.00  ...            NaT   \n",
       "2        240.0    24.0         C03CA01   1.0      4.00  ...            NaT   \n",
       "3        240.0    24.0         C03CA01   1.0      4.00  ...            NaT   \n",
       "4        240.0    24.0         C03CA01   1.0      4.00  ...            NaT   \n",
       "6      16800.0    56.0         C09XA02   2.0      1.00  ...            NaT   \n",
       "...        ...     ...              ...  ...       ...  ...            ...   \n",
       "50625  15000.0    30.0         C03CA01   1.0      0.75  ...     2017-10-03   \n",
       "50627  15000.0    30.0         C03CA01   1.0      0.50  ...     2017-05-15   \n",
       "50629  15000.0    30.0         C03CA01   2.0      0.25  ...            NaT   \n",
       "50631  15000.0    30.0         C03CA01   1.0      0.25  ...            NaT   \n",
       "50632  15000.0    30.0         C03CA01   1.0      0.50  ...     2017-05-15   \n",
       "\n",
       "       HbA1c_der_mesure gender_code Age_presc  year_of_birth  Poids  \\\n",
       "1                   NaN           M      96.0         1918.0    NaN   \n",
       "2                   NaN           M      96.0         1918.0    NaN   \n",
       "3                   NaN           M      97.0         1918.0    NaN   \n",
       "4                   NaN           M      97.0         1918.0    NaN   \n",
       "6                   NaN           M      63.0         1950.0    NaN   \n",
       "...                 ...         ...       ...            ...    ...   \n",
       "50625              5.60           M      79.0         1937.0   83.9   \n",
       "50627              8.01           M      85.0         1928.0    NaN   \n",
       "50629               NaN           F      78.0         1935.0    NaN   \n",
       "50631               NaN           M      80.0         1933.0    NaN   \n",
       "50632              8.01           M      85.0         1928.0    NaN   \n",
       "\n",
       "       der_date_poids  Taille der_date_taille  first_contact_date  \n",
       "1                 NaT     NaN             NaT          1998-04-02  \n",
       "2                 NaT     NaN             NaT          1998-04-02  \n",
       "3                 NaT     NaN             NaT          1998-04-02  \n",
       "4                 NaT     NaN             NaT          1998-04-02  \n",
       "6                 NaT     NaN             NaT          2011-04-04  \n",
       "...               ...     ...             ...                 ...  \n",
       "50625      2018-02-21     NaN             NaT          2012-02-14  \n",
       "50627             NaT     NaN             NaT          2007-12-02  \n",
       "50629             NaT     NaN             NaT          2006-02-23  \n",
       "50631             NaT     NaN             NaT          1998-01-27  \n",
       "50632             NaT     NaN             NaT          2007-12-02  \n",
       "\n",
       "[36876 rows x 31 columns]"
      ],
      "text/html": "<div>\n<style scoped>\n    .dataframe tbody tr th:only-of-type {\n        vertical-align: middle;\n    }\n\n    .dataframe tbody tr th {\n        vertical-align: top;\n    }\n\n    .dataframe thead th {\n        text-align: right;\n    }\n</style>\n<table border=\"1\" class=\"dataframe\">\n  <thead>\n    <tr style=\"text-align: right;\">\n      <th></th>\n      <th>person_id</th>\n      <th>specialty_label</th>\n      <th>contact_date</th>\n      <th>cip</th>\n      <th>dosage_1</th>\n      <th>dose_1</th>\n      <th>dose_2</th>\n      <th>product_atc_code</th>\n      <th>box</th>\n      <th>quantity</th>\n      <th>...</th>\n      <th>HbA1c_der_date</th>\n      <th>HbA1c_der_mesure</th>\n      <th>gender_code</th>\n      <th>Age_presc</th>\n      <th>year_of_birth</th>\n      <th>Poids</th>\n      <th>der_date_poids</th>\n      <th>Taille</th>\n      <th>der_date_taille</th>\n      <th>first_contact_date</th>\n    </tr>\n  </thead>\n  <tbody>\n    <tr>\n      <th>1</th>\n      <td>263659.0</td>\n      <td>Médecin généraliste</td>\n      <td>2014-09-24</td>\n      <td>3.400960e+12</td>\n      <td>20.0</td>\n      <td>240.0</td>\n      <td>24.0</td>\n      <td>C03CA01</td>\n      <td>1.0</td>\n      <td>4.00</td>\n      <td>...</td>\n      <td>NaT</td>\n      <td>NaN</td>\n      <td>M</td>\n      <td>96.0</td>\n      <td>1918.0</td>\n      <td>NaN</td>\n      <td>NaT</td>\n      <td>NaN</td>\n      <td>NaT</td>\n      <td>1998-04-02</td>\n    </tr>\n    <tr>\n      <th>2</th>\n      <td>263659.0</td>\n      <td>Médecin généraliste</td>\n      <td>2014-09-12</td>\n      <td>3.400960e+12</td>\n      <td>20.0</td>\n      <td>240.0</td>\n      <td>24.0</td>\n      <td>C03CA01</td>\n      <td>1.0</td>\n      <td>4.00</td>\n      <td>...</td>\n      <td>NaT</td>\n      <td>NaN</td>\n      <td>M</td>\n      <td>96.0</td>\n      <td>1918.0</td>\n      <td>NaN</td>\n      <td>NaT</td>\n      <td>NaN</td>\n      <td>NaT</td>\n      <td>1998-04-02</td>\n    </tr>\n    <tr>\n      <th>3</th>\n      <td>263659.0</td>\n      <td>Médecin généraliste</td>\n      <td>2015-03-26</td>\n      <td>3.400960e+12</td>\n      <td>20.0</td>\n      <td>240.0</td>\n      <td>24.0</td>\n      <td>C03CA01</td>\n      <td>1.0</td>\n      <td>4.00</td>\n      <td>...</td>\n      <td>NaT</td>\n      <td>NaN</td>\n      <td>M</td>\n      <td>97.0</td>\n      <td>1918.0</td>\n      <td>NaN</td>\n      <td>NaT</td>\n      <td>NaN</td>\n      <td>NaT</td>\n      <td>1998-04-02</td>\n    </tr>\n    <tr>\n      <th>4</th>\n      <td>263659.0</td>\n      <td>Médecin généraliste</td>\n      <td>2015-06-05</td>\n      <td>3.400960e+12</td>\n      <td>20.0</td>\n      <td>240.0</td>\n      <td>24.0</td>\n      <td>C03CA01</td>\n      <td>1.0</td>\n      <td>4.00</td>\n      <td>...</td>\n      <td>NaT</td>\n      <td>NaN</td>\n      <td>M</td>\n      <td>97.0</td>\n      <td>1918.0</td>\n      <td>NaN</td>\n      <td>NaT</td>\n      <td>NaN</td>\n      <td>NaT</td>\n      <td>1998-04-02</td>\n    </tr>\n    <tr>\n      <th>6</th>\n      <td>25182917.0</td>\n      <td>Médecin généraliste</td>\n      <td>2013-03-27</td>\n      <td>3.400960e+12</td>\n      <td>300.0</td>\n      <td>16800.0</td>\n      <td>56.0</td>\n      <td>C09XA02</td>\n      <td>2.0</td>\n      <td>1.00</td>\n      <td>...</td>\n      <td>NaT</td>\n      <td>NaN</td>\n      <td>M</td>\n      <td>63.0</td>\n      <td>1950.0</td>\n      <td>NaN</td>\n      <td>NaT</td>\n      <td>NaN</td>\n      <td>NaT</td>\n      <td>2011-04-04</td>\n    </tr>\n    <tr>\n      <th>...</th>\n      <td>...</td>\n      <td>...</td>\n      <td>...</td>\n      <td>...</td>\n      <td>...</td>\n      <td>...</td>\n      <td>...</td>\n      <td>...</td>\n      <td>...</td>\n      <td>...</td>\n      <td>...</td>\n      <td>...</td>\n      <td>...</td>\n      <td>...</td>\n      <td>...</td>\n      <td>...</td>\n      <td>...</td>\n      <td>...</td>\n      <td>...</td>\n      <td>...</td>\n      <td>...</td>\n    </tr>\n    <tr>\n      <th>50625</th>\n      <td>26636453.0</td>\n      <td>Médecin généraliste</td>\n      <td>2016-11-16</td>\n      <td>3.400940e+12</td>\n      <td>500.0</td>\n      <td>15000.0</td>\n      <td>30.0</td>\n      <td>C03CA01</td>\n      <td>1.0</td>\n      <td>0.75</td>\n      <td>...</td>\n      <td>2017-10-03</td>\n      <td>5.60</td>\n      <td>M</td>\n      <td>79.0</td>\n      <td>1937.0</td>\n      <td>83.9</td>\n      <td>2018-02-21</td>\n      <td>NaN</td>\n      <td>NaT</td>\n      <td>2012-02-14</td>\n    </tr>\n    <tr>\n      <th>50627</th>\n      <td>18889430.0</td>\n      <td>Médecin généraliste</td>\n      <td>2013-02-01</td>\n      <td>3.400940e+12</td>\n      <td>500.0</td>\n      <td>15000.0</td>\n      <td>30.0</td>\n      <td>C03CA01</td>\n      <td>1.0</td>\n      <td>0.50</td>\n      <td>...</td>\n      <td>2017-05-15</td>\n      <td>8.01</td>\n      <td>M</td>\n      <td>85.0</td>\n      <td>1928.0</td>\n      <td>NaN</td>\n      <td>NaT</td>\n      <td>NaN</td>\n      <td>NaT</td>\n      <td>2007-12-02</td>\n    </tr>\n    <tr>\n      <th>50629</th>\n      <td>2222336.0</td>\n      <td>Médecin généraliste</td>\n      <td>2013-07-01</td>\n      <td>3.400940e+12</td>\n      <td>500.0</td>\n      <td>15000.0</td>\n      <td>30.0</td>\n      <td>C03CA01</td>\n      <td>2.0</td>\n      <td>0.25</td>\n      <td>...</td>\n      <td>NaT</td>\n      <td>NaN</td>\n      <td>F</td>\n      <td>78.0</td>\n      <td>1935.0</td>\n      <td>NaN</td>\n      <td>NaT</td>\n      <td>NaN</td>\n      <td>NaT</td>\n      <td>2006-02-23</td>\n    </tr>\n    <tr>\n      <th>50631</th>\n      <td>11363518.0</td>\n      <td>Médecin généraliste</td>\n      <td>2013-01-24</td>\n      <td>3.400940e+12</td>\n      <td>500.0</td>\n      <td>15000.0</td>\n      <td>30.0</td>\n      <td>C03CA01</td>\n      <td>1.0</td>\n      <td>0.25</td>\n      <td>...</td>\n      <td>NaT</td>\n      <td>NaN</td>\n      <td>M</td>\n      <td>80.0</td>\n      <td>1933.0</td>\n      <td>NaN</td>\n      <td>NaT</td>\n      <td>NaN</td>\n      <td>NaT</td>\n      <td>1998-01-27</td>\n    </tr>\n    <tr>\n      <th>50632</th>\n      <td>18889430.0</td>\n      <td>Médecin généraliste</td>\n      <td>2013-01-24</td>\n      <td>3.400940e+12</td>\n      <td>500.0</td>\n      <td>15000.0</td>\n      <td>30.0</td>\n      <td>C03CA01</td>\n      <td>1.0</td>\n      <td>0.50</td>\n      <td>...</td>\n      <td>2017-05-15</td>\n      <td>8.01</td>\n      <td>M</td>\n      <td>85.0</td>\n      <td>1928.0</td>\n      <td>NaN</td>\n      <td>NaT</td>\n      <td>NaN</td>\n      <td>NaT</td>\n      <td>2007-12-02</td>\n    </tr>\n  </tbody>\n</table>\n<p>36876 rows × 31 columns</p>\n</div>"
     },
     "metadata": {},
     "execution_count": 7
    }
   ],
   "source": [
    "dropColumnNames = dfGroupedByMoleculeLabel.columns.to_list()\n",
    "dfWithATCCode = dfWithoutContactID.drop(dropColumnNames, axis='columns')\n",
    "dfWithATCCode"
   ]
  },
  {
   "source": [
    "## Suppression des colonnes ```'*der*'```\n",
    "\n",
    "Les colonnes ```'*der*'``` contiennent la dernière donnée. Cette donnée peut être récupérée grâce à la date de la visite et aux valeurs mesurées. Par exemple, il n'est pas nécessaire d'avoir une colonne ```der_date``` ou ```der_mesure```. Les données de ces deux types de colonnes peuvent être récupérées grâce à la ligne qui correspond à la dernière date de la mesure, que nous pouvons trouver grâce à la colonne ```contact_date```."
   ],
   "cell_type": "markdown",
   "metadata": {}
  },
  {
   "cell_type": "code",
   "execution_count": 8,
   "metadata": {},
   "outputs": [],
   "source": [
    "derColumnNames = []\n",
    "\n",
    "for c in dfWithATCCode.columns:\n",
    "    if ('der_date' in c) or ('der_mesure' in c):\n",
    "        derColumnNames.append(c)\n",
    "\n",
    "dfWithoutDer = dfWithATCCode.drop(derColumnNames,axis='columns')"
   ]
  },
  {
   "source": [
    "## Suppression des colonnes ```Taille``` et ```Poids```"
   ],
   "cell_type": "markdown",
   "metadata": {}
  },
  {
   "cell_type": "code",
   "execution_count": 9,
   "metadata": {},
   "outputs": [
    {
     "output_type": "stream",
     "name": "stdout",
     "text": [
      "Taille: 18150/36876 valeurs nulles (=49.22%)\nPoids: 11389/36876 valeurs nulles (=30.88%)\n"
     ]
    }
   ],
   "source": [
    "print(f\"Taille: {dfWithoutDer.Taille.isnull().sum()}/{len(dfWithoutDer.Taille)} valeurs nulles (={dfWithoutDer.Taille.isnull().sum()/len(dfWithoutDer.Taille)*100:.2f}%)\")\n",
    "\n",
    "print(f\"Poids: {dfWithoutDer.Poids.isnull().sum()}/{len(dfWithoutDer.Poids)} valeurs nulles (={dfWithoutDer.Poids.isnull().sum()/len(dfWithoutDer.Poids)*100:.2f}%)\".format())"
   ]
  },
  {
   "source": [
    "Nous voyons qu'il y a beaucoup trop de valeur nulles. Ces deux colonnes semblent donc difficilement exploitable. Nous pouvons cependant vérifier si pour les patients toutes les valeurs sont à nulles ou s'il n'existe que quelques entrées à nulle par patient mais qu'il y en a beaucoup. Dans ce cas nous pourrions enlever les lignes contenant des valeurs nulles, ou trouver un moyen d'attribuer une valeur à la place de Nan"
   ],
   "cell_type": "markdown",
   "metadata": {}
  },
  {
   "cell_type": "code",
   "execution_count": 10,
   "metadata": {},
   "outputs": [],
   "source": [
    "dfPersonIdIndex = dfWithoutDer.set_index('person_id',drop=True).sort_index()\n",
    "dfTPGroupBy = dfPersonIdIndex.groupby('person_id')"
   ]
  },
  {
   "cell_type": "code",
   "execution_count": 11,
   "metadata": {
    "tags": []
   },
   "outputs": [
    {
     "output_type": "stream",
     "name": "stdout",
     "text": [
      "Taille: 0 / 2219 utilisables\n",
      "Poids: 0 / 1498 utilisables\n"
     ]
    }
   ],
   "source": [
    "maybeUseful = 0\n",
    "valeurNulle = 0\n",
    "for i,_ in dfTPGroupBy:\n",
    "    if dfPersonIdIndex.loc[i].Taille.isnull().sum() > 0:\n",
    "        valeurNulle += 1\n",
    "        if dfPersonIdIndex.loc[i].Taille.isnull().sum() < len(dfPersonIdIndex.loc[i].Taille):\n",
    "            maybeUseful += 1\n",
    "\n",
    "print(f\"Taille: {maybeUseful} / {valeurNulle} utilisables\")\n",
    "\n",
    "maybeUseful = 0\n",
    "valeurNulle = 0\n",
    "c = 0\n",
    "for i,_ in dfTPGroupBy:\n",
    "    if dfPersonIdIndex.loc[i].Poids.isnull().sum() > 0:\n",
    "        valeurNulle += 1\n",
    "        if dfPersonIdIndex.loc[i].Poids.isnull().sum() < len(dfPersonIdIndex.loc[i].Poids):\n",
    "            maybeUseful += 1\n",
    "\n",
    "print(f\"Poids: {maybeUseful} / {valeurNulle} utilisables\")"
   ]
  },
  {
   "source": [
    "tailleNan = 0\n",
    "poidsNan = 0\n",
    "oneOfBoth = 0\n",
    "bothNan = 0\n",
    "totalEntries = 0\n",
    "for i,_ in dfTPGroupBy:\n",
    "    totalEntries += 1\n",
    "    hasTailleNan = False\n",
    "    hasPoidsNan = False\n",
    "    if dfPersonIdIndex.loc[i].Taille.isnull().sum() != 0:\n",
    "        tailleNan += 1\n",
    "        hasTailleNan = True\n",
    "    if dfPersonIdIndex.loc[i].Poids.isnull().sum() != 0:\n",
    "        poidsNan += 1\n",
    "        hasPoidsNan = True\n",
    "    if hasTailleNan or hasPoidsNan:\n",
    "        oneOfBoth += 1\n",
    "    if hasTailleNan and hasPoidsNan:\n",
    "        bothNan += 1\n",
    "print(\" --- Statistique par Utilisateur --- \")\n",
    "print(f\"{tailleNan} / {totalEntries} ({tailleNan/totalEntries*100:.2f}%) des utilisateurs ont une valeur nulle pour la taille\")\n",
    "print(f\"{poidsNan} / {totalEntries} ({poidsNan/totalEntries*100:.2f}%) des utilisateurs ont une valeur nulle pour le poids\")\n",
    "print(f\"{oneOfBoth} / {totalEntries} ({oneOfBoth/totalEntries*100:.2f}%) des utilisateurs ont une valeur nulle pour la taille ou le poids\")\n",
    "print(f\"{bothNan} / {totalEntries} ({bothNan/totalEntries*100:.2f}%) des utilisateurs ont les deux valeurs nulle pour la taille ou le poids\")\n",
    "\n"
   ],
   "cell_type": "code",
   "metadata": {
    "tags": []
   },
   "execution_count": 12,
   "outputs": [
    {
     "output_type": "stream",
     "name": "stdout",
     "text": [
      " --- Statistique par Utilisateur --- \n2219 / 4227 (52.50%) des utilisateurs ont une valeur nulle pour la taille\n1498 / 4227 (35.44%) des utilisateurs ont une valeur nulle pour le poids\n2220 / 4227 (52.52%) des utilisateurs ont une valeur nulle pour la taille ou le poids\n1497 / 4227 (35.42%) des utilisateurs ont les deux valeurs nulle pour la taille ou le poids\n"
     ]
    }
   ]
  },
  {
   "source": [
    "Nous concluons de l'analyse de ces données que soit toutes les valeurs de poids et de tailles sont entrées, soit aucunes. Cela rend ces informations innexploitables et nous supprimons donc les colonnes"
   ],
   "cell_type": "markdown",
   "metadata": {}
  },
  {
   "cell_type": "code",
   "execution_count": 13,
   "metadata": {},
   "outputs": [],
   "source": [
    "dfWithoutPT = dfWithoutDer.drop(['Taille', 'Poids'],axis='columns')"
   ]
  },
  {
   "source": [
    "## Suppressions diverses"
   ],
   "cell_type": "markdown",
   "metadata": {}
  },
  {
   "source": [
    "Enfin, certaines colonnes n'apportent pas d'informations nécessaires pour la prédiction, nous choisissons de toutes les supprimer ici"
   ],
   "cell_type": "markdown",
   "metadata": {}
  },
  {
   "cell_type": "code",
   "execution_count": 14,
   "metadata": {},
   "outputs": [
    {
     "output_type": "execute_result",
     "data": {
      "text/plain": [
       "person_id                               0\n",
       "specialty_label                         0\n",
       "contact_date                            0\n",
       "cip                                     0\n",
       "dosage_1                                0\n",
       "dose_1                                  0\n",
       "dose_2                                  0\n",
       "product_atc_code                        0\n",
       "box                                   253\n",
       "quantity                              153\n",
       "frequency_label                       147\n",
       "duration                             5100\n",
       "Traitement_Autres_A10_dep_201701    29649\n",
       "Traitement_Insulines_dep_201701     34850\n",
       "Pulse                                   0\n",
       "Tension Diastolique                     0\n",
       "Tension Systolique                      0\n",
       "Glycemie_prescription               35937\n",
       "HbA1c_prescription                  35766\n",
       "gender_code                             0\n",
       "Age_presc                               0\n",
       "year_of_birth                           0\n",
       "first_contact_date                      0\n",
       "dtype: int64"
      ]
     },
     "metadata": {},
     "execution_count": 14
    }
   ],
   "source": [
    "dfWithoutPT.isnull().sum()"
   ]
  },
  {
   "source": [
    "Les colonnes restantes avec des valeurs ```Nan``` ne nous intéresse pas, nous pouvons les supprimer"
   ],
   "cell_type": "markdown",
   "metadata": {}
  },
  {
   "cell_type": "code",
   "execution_count": 15,
   "metadata": {},
   "outputs": [],
   "source": [
    "nullAmount = dfWithoutPT.isnull().sum()\n",
    "\n",
    "columnNameToDrop = nullAmount[nullAmount.values > 0].index\n",
    "dfFinal = dfWithoutPT.drop(columnNameToDrop,axis='columns').drop(['cip','dosage_1','dose_1','dose_2','specialty_label','gender_code'],axis='columns')"
   ]
  },
  {
   "source": [
    "# Traîtement des données"
   ],
   "cell_type": "markdown",
   "metadata": {}
  },
  {
   "source": [
    "## Conversion des données"
   ],
   "cell_type": "markdown",
   "metadata": {}
  },
  {
   "source": [
    "### Ajout du temps entre chaque visite (ce que l'on veut prédire)"
   ],
   "cell_type": "markdown",
   "metadata": {}
  },
  {
   "source": [
    "Nous créons d'abord la colonne ```wait_time``` pour qu'elle ait le type de donnée ```deltatime```. nous itèrerons plus tard sur chaque valeur de cette colonne pour lui enlever la valeur précédante pour chaque utilisateur, et ainsi avoir l'intervalle de temps entre chaque visite"
   ],
   "cell_type": "markdown",
   "metadata": {}
  },
  {
   "cell_type": "code",
   "execution_count": 16,
   "metadata": {
    "tags": []
   },
   "outputs": [],
   "source": [
    "wait_time = dfFinal.contact_date - dfFinal.first_contact_date\n",
    "\n",
    "dfWithTime = dfFinal.drop('first_contact_date',axis='columns')\n",
    "dfWithTime['wait_time'] = wait_time"
   ]
  },
  {
   "cell_type": "code",
   "execution_count": 17,
   "metadata": {},
   "outputs": [
    {
     "output_type": "execute_result",
     "data": {
      "text/plain": [
       "        person_id contact_date product_atc_code  Pulse  Tension Diastolique  \\\n",
       "1        263659.0   2014-09-24         C03CA01    70.0                110.0   \n",
       "2        263659.0   2014-09-12         C03CA01    70.0                118.0   \n",
       "3        263659.0   2015-03-26         C03CA01    60.0                120.0   \n",
       "4        263659.0   2015-06-05         C03CA01    60.0                120.0   \n",
       "6      25182917.0   2013-03-27         C09XA02    64.0                145.0   \n",
       "...           ...          ...              ...    ...                  ...   \n",
       "50625  26636453.0   2016-11-16         C03CA01    60.0                120.0   \n",
       "50627  18889430.0   2013-02-01         C03CA01    60.0                120.0   \n",
       "50629   2222336.0   2013-07-01         C03CA01    72.0                130.0   \n",
       "50631  11363518.0   2013-01-24         C03CA01    72.0                139.0   \n",
       "50632  18889430.0   2013-01-24         C03CA01    72.0                120.0   \n",
       "\n",
       "       Tension Systolique  Age_presc  year_of_birth wait_time  \n",
       "1                    60.0       96.0         1918.0 6019 days  \n",
       "2                    70.0       96.0         1918.0 6007 days  \n",
       "3                    70.0       97.0         1918.0 6202 days  \n",
       "4                    70.0       97.0         1918.0 6273 days  \n",
       "6                    85.0       63.0         1950.0  723 days  \n",
       "...                   ...        ...            ...       ...  \n",
       "50625                60.0       79.0         1937.0 1737 days  \n",
       "50627                70.0       85.0         1928.0 1888 days  \n",
       "50629                70.0       78.0         1935.0 2685 days  \n",
       "50631                70.0       80.0         1933.0 5476 days  \n",
       "50632                70.0       85.0         1928.0 1880 days  \n",
       "\n",
       "[36876 rows x 9 columns]"
      ],
      "text/html": "<div>\n<style scoped>\n    .dataframe tbody tr th:only-of-type {\n        vertical-align: middle;\n    }\n\n    .dataframe tbody tr th {\n        vertical-align: top;\n    }\n\n    .dataframe thead th {\n        text-align: right;\n    }\n</style>\n<table border=\"1\" class=\"dataframe\">\n  <thead>\n    <tr style=\"text-align: right;\">\n      <th></th>\n      <th>person_id</th>\n      <th>contact_date</th>\n      <th>product_atc_code</th>\n      <th>Pulse</th>\n      <th>Tension Diastolique</th>\n      <th>Tension Systolique</th>\n      <th>Age_presc</th>\n      <th>year_of_birth</th>\n      <th>wait_time</th>\n    </tr>\n  </thead>\n  <tbody>\n    <tr>\n      <th>1</th>\n      <td>263659.0</td>\n      <td>2014-09-24</td>\n      <td>C03CA01</td>\n      <td>70.0</td>\n      <td>110.0</td>\n      <td>60.0</td>\n      <td>96.0</td>\n      <td>1918.0</td>\n      <td>6019 days</td>\n    </tr>\n    <tr>\n      <th>2</th>\n      <td>263659.0</td>\n      <td>2014-09-12</td>\n      <td>C03CA01</td>\n      <td>70.0</td>\n      <td>118.0</td>\n      <td>70.0</td>\n      <td>96.0</td>\n      <td>1918.0</td>\n      <td>6007 days</td>\n    </tr>\n    <tr>\n      <th>3</th>\n      <td>263659.0</td>\n      <td>2015-03-26</td>\n      <td>C03CA01</td>\n      <td>60.0</td>\n      <td>120.0</td>\n      <td>70.0</td>\n      <td>97.0</td>\n      <td>1918.0</td>\n      <td>6202 days</td>\n    </tr>\n    <tr>\n      <th>4</th>\n      <td>263659.0</td>\n      <td>2015-06-05</td>\n      <td>C03CA01</td>\n      <td>60.0</td>\n      <td>120.0</td>\n      <td>70.0</td>\n      <td>97.0</td>\n      <td>1918.0</td>\n      <td>6273 days</td>\n    </tr>\n    <tr>\n      <th>6</th>\n      <td>25182917.0</td>\n      <td>2013-03-27</td>\n      <td>C09XA02</td>\n      <td>64.0</td>\n      <td>145.0</td>\n      <td>85.0</td>\n      <td>63.0</td>\n      <td>1950.0</td>\n      <td>723 days</td>\n    </tr>\n    <tr>\n      <th>...</th>\n      <td>...</td>\n      <td>...</td>\n      <td>...</td>\n      <td>...</td>\n      <td>...</td>\n      <td>...</td>\n      <td>...</td>\n      <td>...</td>\n      <td>...</td>\n    </tr>\n    <tr>\n      <th>50625</th>\n      <td>26636453.0</td>\n      <td>2016-11-16</td>\n      <td>C03CA01</td>\n      <td>60.0</td>\n      <td>120.0</td>\n      <td>60.0</td>\n      <td>79.0</td>\n      <td>1937.0</td>\n      <td>1737 days</td>\n    </tr>\n    <tr>\n      <th>50627</th>\n      <td>18889430.0</td>\n      <td>2013-02-01</td>\n      <td>C03CA01</td>\n      <td>60.0</td>\n      <td>120.0</td>\n      <td>70.0</td>\n      <td>85.0</td>\n      <td>1928.0</td>\n      <td>1888 days</td>\n    </tr>\n    <tr>\n      <th>50629</th>\n      <td>2222336.0</td>\n      <td>2013-07-01</td>\n      <td>C03CA01</td>\n      <td>72.0</td>\n      <td>130.0</td>\n      <td>70.0</td>\n      <td>78.0</td>\n      <td>1935.0</td>\n      <td>2685 days</td>\n    </tr>\n    <tr>\n      <th>50631</th>\n      <td>11363518.0</td>\n      <td>2013-01-24</td>\n      <td>C03CA01</td>\n      <td>72.0</td>\n      <td>139.0</td>\n      <td>70.0</td>\n      <td>80.0</td>\n      <td>1933.0</td>\n      <td>5476 days</td>\n    </tr>\n    <tr>\n      <th>50632</th>\n      <td>18889430.0</td>\n      <td>2013-01-24</td>\n      <td>C03CA01</td>\n      <td>72.0</td>\n      <td>120.0</td>\n      <td>70.0</td>\n      <td>85.0</td>\n      <td>1928.0</td>\n      <td>1880 days</td>\n    </tr>\n  </tbody>\n</table>\n<p>36876 rows × 9 columns</p>\n</div>"
     },
     "metadata": {},
     "execution_count": 17
    }
   ],
   "source": [
    "dfWithTime"
   ]
  },
  {
   "source": [
    "### Encodage des valeurs non numériques"
   ],
   "cell_type": "markdown",
   "metadata": {}
  },
  {
   "cell_type": "code",
   "execution_count": 18,
   "metadata": {},
   "outputs": [],
   "source": [
    "#specialtyEncoder = LabelEncoder()\n",
    "ATCEncoder = LabelEncoder()\n",
    "#genderEncoder = LabelEncoder()\n",
    "#dfWithTime.specialty_label = specialtyEncoder.fit_transform(dfWithTime.specialty_label)\n",
    "dfWithTime.product_atc_code = ATCEncoder.fit_transform(dfWithTime.product_atc_code)\n",
    "#dfWithTime.gender_code = genderEncoder.fit_transform(dfWithTime.gender_code)\n"
   ]
  },
  {
   "cell_type": "code",
   "execution_count": 19,
   "metadata": {},
   "outputs": [
    {
     "output_type": "execute_result",
     "data": {
      "text/plain": [
       "array([[<matplotlib.axes._subplots.AxesSubplot object at 0x14badc860>,\n",
       "        <matplotlib.axes._subplots.AxesSubplot object at 0x14bb36d68>,\n",
       "        <matplotlib.axes._subplots.AxesSubplot object at 0x14ba98358>],\n",
       "       [<matplotlib.axes._subplots.AxesSubplot object at 0x14bbad908>,\n",
       "        <matplotlib.axes._subplots.AxesSubplot object at 0x14ba5ceb8>,\n",
       "        <matplotlib.axes._subplots.AxesSubplot object at 0x14bc544a8>],\n",
       "       [<matplotlib.axes._subplots.AxesSubplot object at 0x14bc82a58>,\n",
       "        <matplotlib.axes._subplots.AxesSubplot object at 0x14bcc0080>,\n",
       "        <matplotlib.axes._subplots.AxesSubplot object at 0x14bcc00b8>]],\n",
       "      dtype=object)"
      ]
     },
     "metadata": {},
     "execution_count": 19
    },
    {
     "output_type": "display_data",
     "data": {
      "text/plain": "<Figure size 432x288 with 9 Axes>",
      "image/svg+xml": "<?xml version=\"1.0\" encoding=\"utf-8\" standalone=\"no\"?>\n<!DOCTYPE svg PUBLIC \"-//W3C//DTD SVG 1.1//EN\"\n  \"http://www.w3.org/Graphics/SVG/1.1/DTD/svg11.dtd\">\n<!-- Created with matplotlib (https://matplotlib.org/) -->\n<svg height=\"263.63625pt\" version=\"1.1\" viewBox=\"0 0 395.524963 263.63625\" width=\"395.524963pt\" xmlns=\"http://www.w3.org/2000/svg\" xmlns:xlink=\"http://www.w3.org/1999/xlink\">\n <defs>\n  <style type=\"text/css\">\n*{stroke-linecap:butt;stroke-linejoin:round;}\n  </style>\n </defs>\n <g id=\"figure_1\">\n  <g id=\"patch_1\">\n   <path d=\"M 0 263.63625 \nL 395.524963 263.63625 \nL 395.524963 0 \nL 0 0 \nz\n\" style=\"fill:none;\"/>\n  </g>\n  <g id=\"axes_1\">\n   <g id=\"patch_2\">\n    <path d=\"M 46.0125 82.718125 \nL 139.0125 82.718125 \nL 139.0125 22.318125 \nL 46.0125 22.318125 \nz\n\" style=\"fill:#ffffff;\"/>\n   </g>\n   <g id=\"patch_3\">\n    <path clip-path=\"url(#pf48b7c8b72)\" d=\"M 50.239773 82.718125 \nL 58.694318 82.718125 \nL 58.694318 30.50195 \nL 50.239773 30.50195 \nz\n\" style=\"fill:#1f77b4;\"/>\n   </g>\n   <g id=\"patch_4\">\n    <path clip-path=\"url(#pf48b7c8b72)\" d=\"M 58.694318 82.718125 \nL 67.148864 82.718125 \nL 67.148864 35.711838 \nL 58.694318 35.711838 \nz\n\" style=\"fill:#1f77b4;\"/>\n   </g>\n   <g id=\"patch_5\">\n    <path clip-path=\"url(#pf48b7c8b72)\" d=\"M 67.148864 82.718125 \nL 75.603409 82.718125 \nL 75.603409 43.248092 \nL 67.148864 43.248092 \nz\n\" style=\"fill:#1f77b4;\"/>\n   </g>\n   <g id=\"patch_6\">\n    <path clip-path=\"url(#pf48b7c8b72)\" d=\"M 75.603409 82.718125 \nL 84.057955 82.718125 \nL 84.057955 25.194315 \nL 75.603409 25.194315 \nz\n\" style=\"fill:#1f77b4;\"/>\n   </g>\n   <g id=\"patch_7\">\n    <path clip-path=\"url(#pf48b7c8b72)\" d=\"M 84.057955 82.718125 \nL 92.5125 82.718125 \nL 92.5125 43.433811 \nL 84.057955 43.433811 \nz\n\" style=\"fill:#1f77b4;\"/>\n   </g>\n   <g id=\"patch_8\">\n    <path clip-path=\"url(#pf48b7c8b72)\" d=\"M 92.5125 82.718125 \nL 100.967045 82.718125 \nL 100.967045 71.203588 \nL 92.5125 71.203588 \nz\n\" style=\"fill:#1f77b4;\"/>\n   </g>\n   <g id=\"patch_9\">\n    <path clip-path=\"url(#pf48b7c8b72)\" d=\"M 100.967045 82.718125 \nL 109.421591 82.718125 \nL 109.421591 65.407222 \nL 100.967045 65.407222 \nz\n\" style=\"fill:#1f77b4;\"/>\n   </g>\n   <g id=\"patch_10\">\n    <path clip-path=\"url(#pf48b7c8b72)\" d=\"M 109.421591 82.718125 \nL 117.876136 82.718125 \nL 117.876136 30.531274 \nL 109.421591 30.531274 \nz\n\" style=\"fill:#1f77b4;\"/>\n   </g>\n   <g id=\"patch_11\">\n    <path clip-path=\"url(#pf48b7c8b72)\" d=\"M 117.876136 82.718125 \nL 126.330682 82.718125 \nL 126.330682 48.663248 \nL 117.876136 48.663248 \nz\n\" style=\"fill:#1f77b4;\"/>\n   </g>\n   <g id=\"patch_12\">\n    <path clip-path=\"url(#pf48b7c8b72)\" d=\"M 126.330682 82.718125 \nL 134.785227 82.718125 \nL 134.785227 72.835955 \nL 126.330682 72.835955 \nz\n\" style=\"fill:#1f77b4;\"/>\n   </g>\n   <g id=\"matplotlib.axis_1\">\n    <g id=\"xtick_1\">\n     <g id=\"line2d_1\">\n      <path clip-path=\"url(#pf48b7c8b72)\" d=\"M 50.239066 82.718125 \nL 50.239066 22.318125 \n\" style=\"fill:none;stroke:#b0b0b0;stroke-linecap:square;stroke-width:0.8;\"/>\n     </g>\n     <g id=\"line2d_2\">\n      <defs>\n       <path d=\"M 0 0 \nL 0 3.5 \n\" id=\"m766349c9b5\" style=\"stroke:#000000;stroke-width:0.8;\"/>\n      </defs>\n      <g>\n       <use style=\"stroke:#000000;stroke-width:0.8;\" x=\"50.239066\" xlink:href=\"#m766349c9b5\" y=\"82.718125\"/>\n      </g>\n     </g>\n     <g id=\"text_1\">\n      <!-- 0 -->\n      <defs>\n       <path d=\"M 31.78125 66.40625 \nQ 24.171875 66.40625 20.328125 58.90625 \nQ 16.5 51.421875 16.5 36.375 \nQ 16.5 21.390625 20.328125 13.890625 \nQ 24.171875 6.390625 31.78125 6.390625 \nQ 39.453125 6.390625 43.28125 13.890625 \nQ 47.125 21.390625 47.125 36.375 \nQ 47.125 51.421875 43.28125 58.90625 \nQ 39.453125 66.40625 31.78125 66.40625 \nz\nM 31.78125 74.21875 \nQ 44.046875 74.21875 50.515625 64.515625 \nQ 56.984375 54.828125 56.984375 36.375 \nQ 56.984375 17.96875 50.515625 8.265625 \nQ 44.046875 -1.421875 31.78125 -1.421875 \nQ 19.53125 -1.421875 13.0625 8.265625 \nQ 6.59375 17.96875 6.59375 36.375 \nQ 6.59375 54.828125 13.0625 64.515625 \nQ 19.53125 74.21875 31.78125 74.21875 \nz\n\" id=\"DejaVuSans-48\"/>\n      </defs>\n      <g transform=\"translate(47.057816 97.316563)scale(0.1 -0.1)\">\n       <use xlink:href=\"#DejaVuSans-48\"/>\n      </g>\n     </g>\n    </g>\n    <g id=\"xtick_2\">\n     <g id=\"line2d_3\">\n      <path clip-path=\"url(#pf48b7c8b72)\" d=\"M 98.795784 82.718125 \nL 98.795784 22.318125 \n\" style=\"fill:none;stroke:#b0b0b0;stroke-linecap:square;stroke-width:0.8;\"/>\n     </g>\n     <g id=\"line2d_4\">\n      <g>\n       <use style=\"stroke:#000000;stroke-width:0.8;\" x=\"98.795784\" xlink:href=\"#m766349c9b5\" y=\"82.718125\"/>\n      </g>\n     </g>\n     <g id=\"text_2\">\n      <!-- 2 -->\n      <defs>\n       <path d=\"M 19.1875 8.296875 \nL 53.609375 8.296875 \nL 53.609375 0 \nL 7.328125 0 \nL 7.328125 8.296875 \nQ 12.9375 14.109375 22.625 23.890625 \nQ 32.328125 33.6875 34.8125 36.53125 \nQ 39.546875 41.84375 41.421875 45.53125 \nQ 43.3125 49.21875 43.3125 52.78125 \nQ 43.3125 58.59375 39.234375 62.25 \nQ 35.15625 65.921875 28.609375 65.921875 \nQ 23.96875 65.921875 18.8125 64.3125 \nQ 13.671875 62.703125 7.8125 59.421875 \nL 7.8125 69.390625 \nQ 13.765625 71.78125 18.9375 73 \nQ 24.125 74.21875 28.421875 74.21875 \nQ 39.75 74.21875 46.484375 68.546875 \nQ 53.21875 62.890625 53.21875 53.421875 \nQ 53.21875 48.921875 51.53125 44.890625 \nQ 49.859375 40.875 45.40625 35.40625 \nQ 44.1875 33.984375 37.640625 27.21875 \nQ 31.109375 20.453125 19.1875 8.296875 \nz\n\" id=\"DejaVuSans-50\"/>\n      </defs>\n      <g transform=\"translate(95.614534 97.316563)scale(0.1 -0.1)\">\n       <use xlink:href=\"#DejaVuSans-50\"/>\n      </g>\n     </g>\n    </g>\n    <g id=\"text_3\">\n     <!-- 1e7 -->\n     <defs>\n      <path d=\"M 12.40625 8.296875 \nL 28.515625 8.296875 \nL 28.515625 63.921875 \nL 10.984375 60.40625 \nL 10.984375 69.390625 \nL 28.421875 72.90625 \nL 38.28125 72.90625 \nL 38.28125 8.296875 \nL 54.390625 8.296875 \nL 54.390625 0 \nL 12.40625 0 \nz\n\" id=\"DejaVuSans-49\"/>\n      <path d=\"M 56.203125 29.59375 \nL 56.203125 25.203125 \nL 14.890625 25.203125 \nQ 15.484375 15.921875 20.484375 11.0625 \nQ 25.484375 6.203125 34.421875 6.203125 \nQ 39.59375 6.203125 44.453125 7.46875 \nQ 49.3125 8.734375 54.109375 11.28125 \nL 54.109375 2.78125 \nQ 49.265625 0.734375 44.1875 -0.34375 \nQ 39.109375 -1.421875 33.890625 -1.421875 \nQ 20.796875 -1.421875 13.15625 6.1875 \nQ 5.515625 13.8125 5.515625 26.8125 \nQ 5.515625 40.234375 12.765625 48.109375 \nQ 20.015625 56 32.328125 56 \nQ 43.359375 56 49.78125 48.890625 \nQ 56.203125 41.796875 56.203125 29.59375 \nz\nM 47.21875 32.234375 \nQ 47.125 39.59375 43.09375 43.984375 \nQ 39.0625 48.390625 32.421875 48.390625 \nQ 24.90625 48.390625 20.390625 44.140625 \nQ 15.875 39.890625 15.1875 32.171875 \nz\n\" id=\"DejaVuSans-101\"/>\n      <path d=\"M 8.203125 72.90625 \nL 55.078125 72.90625 \nL 55.078125 68.703125 \nL 28.609375 0 \nL 18.3125 0 \nL 43.21875 64.59375 \nL 8.203125 64.59375 \nz\n\" id=\"DejaVuSans-55\"/>\n     </defs>\n     <g transform=\"translate(120.134375 109.994687)scale(0.1 -0.1)\">\n      <use xlink:href=\"#DejaVuSans-49\"/>\n      <use x=\"63.623047\" xlink:href=\"#DejaVuSans-101\"/>\n      <use x=\"125.146484\" xlink:href=\"#DejaVuSans-55\"/>\n     </g>\n    </g>\n   </g>\n   <g id=\"matplotlib.axis_2\">\n    <g id=\"ytick_1\">\n     <g id=\"line2d_5\">\n      <path clip-path=\"url(#pf48b7c8b72)\" d=\"M 46.0125 82.718125 \nL 139.0125 82.718125 \n\" style=\"fill:none;stroke:#b0b0b0;stroke-linecap:square;stroke-width:0.8;\"/>\n     </g>\n     <g id=\"line2d_6\">\n      <defs>\n       <path d=\"M 0 0 \nL -3.5 0 \n\" id=\"m78d7568f3e\" style=\"stroke:#000000;stroke-width:0.8;\"/>\n      </defs>\n      <g>\n       <use style=\"stroke:#000000;stroke-width:0.8;\" x=\"46.0125\" xlink:href=\"#m78d7568f3e\" y=\"82.718125\"/>\n      </g>\n     </g>\n     <g id=\"text_4\">\n      <!-- 0 -->\n      <g transform=\"translate(32.65 86.517344)scale(0.1 -0.1)\">\n       <use xlink:href=\"#DejaVuSans-48\"/>\n      </g>\n     </g>\n    </g>\n    <g id=\"ytick_2\">\n     <g id=\"line2d_7\">\n      <path clip-path=\"url(#pf48b7c8b72)\" d=\"M 46.0125 58.281502 \nL 139.0125 58.281502 \n\" style=\"fill:none;stroke:#b0b0b0;stroke-linecap:square;stroke-width:0.8;\"/>\n     </g>\n     <g id=\"line2d_8\">\n      <g>\n       <use style=\"stroke:#000000;stroke-width:0.8;\" x=\"46.0125\" xlink:href=\"#m78d7568f3e\" y=\"58.281502\"/>\n      </g>\n     </g>\n     <g id=\"text_5\">\n      <!-- 2500 -->\n      <defs>\n       <path d=\"M 10.796875 72.90625 \nL 49.515625 72.90625 \nL 49.515625 64.59375 \nL 19.828125 64.59375 \nL 19.828125 46.734375 \nQ 21.96875 47.46875 24.109375 47.828125 \nQ 26.265625 48.1875 28.421875 48.1875 \nQ 40.625 48.1875 47.75 41.5 \nQ 54.890625 34.8125 54.890625 23.390625 \nQ 54.890625 11.625 47.5625 5.09375 \nQ 40.234375 -1.421875 26.90625 -1.421875 \nQ 22.3125 -1.421875 17.546875 -0.640625 \nQ 12.796875 0.140625 7.71875 1.703125 \nL 7.71875 11.625 \nQ 12.109375 9.234375 16.796875 8.0625 \nQ 21.484375 6.890625 26.703125 6.890625 \nQ 35.15625 6.890625 40.078125 11.328125 \nQ 45.015625 15.765625 45.015625 23.390625 \nQ 45.015625 31 40.078125 35.4375 \nQ 35.15625 39.890625 26.703125 39.890625 \nQ 22.75 39.890625 18.8125 39.015625 \nQ 14.890625 38.140625 10.796875 36.28125 \nz\n\" id=\"DejaVuSans-53\"/>\n      </defs>\n      <g transform=\"translate(13.5625 62.080721)scale(0.1 -0.1)\">\n       <use xlink:href=\"#DejaVuSans-50\"/>\n       <use x=\"63.623047\" xlink:href=\"#DejaVuSans-53\"/>\n       <use x=\"127.246094\" xlink:href=\"#DejaVuSans-48\"/>\n       <use x=\"190.869141\" xlink:href=\"#DejaVuSans-48\"/>\n      </g>\n     </g>\n    </g>\n    <g id=\"ytick_3\">\n     <g id=\"line2d_9\">\n      <path clip-path=\"url(#pf48b7c8b72)\" d=\"M 46.0125 33.84488 \nL 139.0125 33.84488 \n\" style=\"fill:none;stroke:#b0b0b0;stroke-linecap:square;stroke-width:0.8;\"/>\n     </g>\n     <g id=\"line2d_10\">\n      <g>\n       <use style=\"stroke:#000000;stroke-width:0.8;\" x=\"46.0125\" xlink:href=\"#m78d7568f3e\" y=\"33.84488\"/>\n      </g>\n     </g>\n     <g id=\"text_6\">\n      <!-- 5000 -->\n      <g transform=\"translate(13.5625 37.644099)scale(0.1 -0.1)\">\n       <use xlink:href=\"#DejaVuSans-53\"/>\n       <use x=\"63.623047\" xlink:href=\"#DejaVuSans-48\"/>\n       <use x=\"127.246094\" xlink:href=\"#DejaVuSans-48\"/>\n       <use x=\"190.869141\" xlink:href=\"#DejaVuSans-48\"/>\n      </g>\n     </g>\n    </g>\n   </g>\n   <g id=\"patch_13\">\n    <path d=\"M 46.0125 82.718125 \nL 46.0125 22.318125 \n\" style=\"fill:none;stroke:#000000;stroke-linecap:square;stroke-linejoin:miter;stroke-width:0.8;\"/>\n   </g>\n   <g id=\"patch_14\">\n    <path d=\"M 139.0125 82.718125 \nL 139.0125 22.318125 \n\" style=\"fill:none;stroke:#000000;stroke-linecap:square;stroke-linejoin:miter;stroke-width:0.8;\"/>\n   </g>\n   <g id=\"patch_15\">\n    <path d=\"M 46.0125 82.718125 \nL 139.0125 82.718125 \n\" style=\"fill:none;stroke:#000000;stroke-linecap:square;stroke-linejoin:miter;stroke-width:0.8;\"/>\n   </g>\n   <g id=\"patch_16\">\n    <path d=\"M 46.0125 22.318125 \nL 139.0125 22.318125 \n\" style=\"fill:none;stroke:#000000;stroke-linecap:square;stroke-linejoin:miter;stroke-width:0.8;\"/>\n   </g>\n   <g id=\"text_7\">\n    <!-- person_id -->\n    <defs>\n     <path d=\"M 18.109375 8.203125 \nL 18.109375 -20.796875 \nL 9.078125 -20.796875 \nL 9.078125 54.6875 \nL 18.109375 54.6875 \nL 18.109375 46.390625 \nQ 20.953125 51.265625 25.265625 53.625 \nQ 29.59375 56 35.59375 56 \nQ 45.5625 56 51.78125 48.09375 \nQ 58.015625 40.1875 58.015625 27.296875 \nQ 58.015625 14.40625 51.78125 6.484375 \nQ 45.5625 -1.421875 35.59375 -1.421875 \nQ 29.59375 -1.421875 25.265625 0.953125 \nQ 20.953125 3.328125 18.109375 8.203125 \nz\nM 48.6875 27.296875 \nQ 48.6875 37.203125 44.609375 42.84375 \nQ 40.53125 48.484375 33.40625 48.484375 \nQ 26.265625 48.484375 22.1875 42.84375 \nQ 18.109375 37.203125 18.109375 27.296875 \nQ 18.109375 17.390625 22.1875 11.75 \nQ 26.265625 6.109375 33.40625 6.109375 \nQ 40.53125 6.109375 44.609375 11.75 \nQ 48.6875 17.390625 48.6875 27.296875 \nz\n\" id=\"DejaVuSans-112\"/>\n     <path d=\"M 41.109375 46.296875 \nQ 39.59375 47.171875 37.8125 47.578125 \nQ 36.03125 48 33.890625 48 \nQ 26.265625 48 22.1875 43.046875 \nQ 18.109375 38.09375 18.109375 28.8125 \nL 18.109375 0 \nL 9.078125 0 \nL 9.078125 54.6875 \nL 18.109375 54.6875 \nL 18.109375 46.1875 \nQ 20.953125 51.171875 25.484375 53.578125 \nQ 30.03125 56 36.53125 56 \nQ 37.453125 56 38.578125 55.875 \nQ 39.703125 55.765625 41.0625 55.515625 \nz\n\" id=\"DejaVuSans-114\"/>\n     <path d=\"M 44.28125 53.078125 \nL 44.28125 44.578125 \nQ 40.484375 46.53125 36.375 47.5 \nQ 32.28125 48.484375 27.875 48.484375 \nQ 21.1875 48.484375 17.84375 46.4375 \nQ 14.5 44.390625 14.5 40.28125 \nQ 14.5 37.15625 16.890625 35.375 \nQ 19.28125 33.59375 26.515625 31.984375 \nL 29.59375 31.296875 \nQ 39.15625 29.25 43.1875 25.515625 \nQ 47.21875 21.78125 47.21875 15.09375 \nQ 47.21875 7.46875 41.1875 3.015625 \nQ 35.15625 -1.421875 24.609375 -1.421875 \nQ 20.21875 -1.421875 15.453125 -0.5625 \nQ 10.6875 0.296875 5.421875 2 \nL 5.421875 11.28125 \nQ 10.40625 8.6875 15.234375 7.390625 \nQ 20.0625 6.109375 24.8125 6.109375 \nQ 31.15625 6.109375 34.5625 8.28125 \nQ 37.984375 10.453125 37.984375 14.40625 \nQ 37.984375 18.0625 35.515625 20.015625 \nQ 33.0625 21.96875 24.703125 23.78125 \nL 21.578125 24.515625 \nQ 13.234375 26.265625 9.515625 29.90625 \nQ 5.8125 33.546875 5.8125 39.890625 \nQ 5.8125 47.609375 11.28125 51.796875 \nQ 16.75 56 26.8125 56 \nQ 31.78125 56 36.171875 55.265625 \nQ 40.578125 54.546875 44.28125 53.078125 \nz\n\" id=\"DejaVuSans-115\"/>\n     <path d=\"M 30.609375 48.390625 \nQ 23.390625 48.390625 19.1875 42.75 \nQ 14.984375 37.109375 14.984375 27.296875 \nQ 14.984375 17.484375 19.15625 11.84375 \nQ 23.34375 6.203125 30.609375 6.203125 \nQ 37.796875 6.203125 41.984375 11.859375 \nQ 46.1875 17.53125 46.1875 27.296875 \nQ 46.1875 37.015625 41.984375 42.703125 \nQ 37.796875 48.390625 30.609375 48.390625 \nz\nM 30.609375 56 \nQ 42.328125 56 49.015625 48.375 \nQ 55.71875 40.765625 55.71875 27.296875 \nQ 55.71875 13.875 49.015625 6.21875 \nQ 42.328125 -1.421875 30.609375 -1.421875 \nQ 18.84375 -1.421875 12.171875 6.21875 \nQ 5.515625 13.875 5.515625 27.296875 \nQ 5.515625 40.765625 12.171875 48.375 \nQ 18.84375 56 30.609375 56 \nz\n\" id=\"DejaVuSans-111\"/>\n     <path d=\"M 54.890625 33.015625 \nL 54.890625 0 \nL 45.90625 0 \nL 45.90625 32.71875 \nQ 45.90625 40.484375 42.875 44.328125 \nQ 39.84375 48.1875 33.796875 48.1875 \nQ 26.515625 48.1875 22.3125 43.546875 \nQ 18.109375 38.921875 18.109375 30.90625 \nL 18.109375 0 \nL 9.078125 0 \nL 9.078125 54.6875 \nL 18.109375 54.6875 \nL 18.109375 46.1875 \nQ 21.34375 51.125 25.703125 53.5625 \nQ 30.078125 56 35.796875 56 \nQ 45.21875 56 50.046875 50.171875 \nQ 54.890625 44.34375 54.890625 33.015625 \nz\n\" id=\"DejaVuSans-110\"/>\n     <path d=\"M 50.984375 -16.609375 \nL 50.984375 -23.578125 \nL -0.984375 -23.578125 \nL -0.984375 -16.609375 \nz\n\" id=\"DejaVuSans-95\"/>\n     <path d=\"M 9.421875 54.6875 \nL 18.40625 54.6875 \nL 18.40625 0 \nL 9.421875 0 \nz\nM 9.421875 75.984375 \nL 18.40625 75.984375 \nL 18.40625 64.59375 \nL 9.421875 64.59375 \nz\n\" id=\"DejaVuSans-105\"/>\n     <path d=\"M 45.40625 46.390625 \nL 45.40625 75.984375 \nL 54.390625 75.984375 \nL 54.390625 0 \nL 45.40625 0 \nL 45.40625 8.203125 \nQ 42.578125 3.328125 38.25 0.953125 \nQ 33.9375 -1.421875 27.875 -1.421875 \nQ 17.96875 -1.421875 11.734375 6.484375 \nQ 5.515625 14.40625 5.515625 27.296875 \nQ 5.515625 40.1875 11.734375 48.09375 \nQ 17.96875 56 27.875 56 \nQ 33.9375 56 38.25 53.625 \nQ 42.578125 51.265625 45.40625 46.390625 \nz\nM 14.796875 27.296875 \nQ 14.796875 17.390625 18.875 11.75 \nQ 22.953125 6.109375 30.078125 6.109375 \nQ 37.203125 6.109375 41.296875 11.75 \nQ 45.40625 17.390625 45.40625 27.296875 \nQ 45.40625 37.203125 41.296875 42.84375 \nQ 37.203125 48.484375 30.078125 48.484375 \nQ 22.953125 48.484375 18.875 42.84375 \nQ 14.796875 37.203125 14.796875 27.296875 \nz\n\" id=\"DejaVuSans-100\"/>\n    </defs>\n    <g transform=\"translate(63.469687 16.318125)scale(0.12 -0.12)\">\n     <use xlink:href=\"#DejaVuSans-112\"/>\n     <use x=\"63.476562\" xlink:href=\"#DejaVuSans-101\"/>\n     <use x=\"125\" xlink:href=\"#DejaVuSans-114\"/>\n     <use x=\"166.113281\" xlink:href=\"#DejaVuSans-115\"/>\n     <use x=\"218.212891\" xlink:href=\"#DejaVuSans-111\"/>\n     <use x=\"279.394531\" xlink:href=\"#DejaVuSans-110\"/>\n     <use x=\"342.773438\" xlink:href=\"#DejaVuSans-95\"/>\n     <use x=\"392.773438\" xlink:href=\"#DejaVuSans-105\"/>\n     <use x=\"420.556641\" xlink:href=\"#DejaVuSans-100\"/>\n    </g>\n   </g>\n  </g>\n  <g id=\"axes_2\">\n   <g id=\"patch_17\">\n    <path d=\"M 166.9125 82.718125 \nL 259.9125 82.718125 \nL 259.9125 22.318125 \nL 166.9125 22.318125 \nz\n\" style=\"fill:#ffffff;\"/>\n   </g>\n   <g id=\"patch_18\">\n    <path clip-path=\"url(#p04510621c4)\" d=\"M 171.139773 82.718125 \nL 179.594318 82.718125 \nL 179.594318 33.091598 \nL 171.139773 33.091598 \nz\n\" style=\"fill:#1f77b4;\"/>\n   </g>\n   <g id=\"patch_19\">\n    <path clip-path=\"url(#p04510621c4)\" d=\"M 179.594318 82.718125 \nL 188.048864 82.718125 \nL 188.048864 81.80204 \nL 179.594318 81.80204 \nz\n\" style=\"fill:#1f77b4;\"/>\n   </g>\n   <g id=\"patch_20\">\n    <path clip-path=\"url(#p04510621c4)\" d=\"M 188.048864 82.718125 \nL 196.503409 82.718125 \nL 196.503409 31.330504 \nL 188.048864 31.330504 \nz\n\" style=\"fill:#1f77b4;\"/>\n   </g>\n   <g id=\"patch_21\">\n    <path clip-path=\"url(#p04510621c4)\" d=\"M 196.503409 82.718125 \nL 204.957955 82.718125 \nL 204.957955 25.194315 \nL 196.503409 25.194315 \nz\n\" style=\"fill:#1f77b4;\"/>\n   </g>\n   <g id=\"patch_22\">\n    <path clip-path=\"url(#p04510621c4)\" d=\"M 204.957955 82.718125 \nL 213.4125 82.718125 \nL 213.4125 76.108099 \nL 204.957955 76.108099 \nz\n\" style=\"fill:#1f77b4;\"/>\n   </g>\n   <g id=\"patch_23\">\n    <path clip-path=\"url(#p04510621c4)\" d=\"M 213.4125 82.718125 \nL 221.867045 82.718125 \nL 221.867045 71.014352 \nL 213.4125 71.014352 \nz\n\" style=\"fill:#1f77b4;\"/>\n   </g>\n   <g id=\"patch_24\">\n    <path clip-path=\"url(#p04510621c4)\" d=\"M 221.867045 82.718125 \nL 230.321591 82.718125 \nL 230.321591 73.178207 \nL 221.867045 73.178207 \nz\n\" style=\"fill:#1f77b4;\"/>\n   </g>\n   <g id=\"patch_25\">\n    <path clip-path=\"url(#p04510621c4)\" d=\"M 230.321591 82.718125 \nL 238.776136 82.718125 \nL 238.776136 46.303753 \nL 230.321591 46.303753 \nz\n\" style=\"fill:#1f77b4;\"/>\n   </g>\n   <g id=\"patch_26\">\n    <path clip-path=\"url(#p04510621c4)\" d=\"M 238.776136 82.718125 \nL 247.230682 82.718125 \nL 247.230682 63.093377 \nL 238.776136 63.093377 \nz\n\" style=\"fill:#1f77b4;\"/>\n   </g>\n   <g id=\"patch_27\">\n    <path clip-path=\"url(#p04510621c4)\" d=\"M 247.230682 82.718125 \nL 255.685227 82.718125 \nL 255.685227 34.844795 \nL 247.230682 34.844795 \nz\n\" style=\"fill:#1f77b4;\"/>\n   </g>\n   <g id=\"matplotlib.axis_3\">\n    <g id=\"xtick_3\">\n     <g id=\"line2d_11\">\n      <path clip-path=\"url(#p04510621c4)\" d=\"M 171.139773 82.718125 \nL 171.139773 22.318125 \n\" style=\"fill:none;stroke:#b0b0b0;stroke-linecap:square;stroke-width:0.8;\"/>\n     </g>\n     <g id=\"line2d_12\">\n      <g>\n       <use style=\"stroke:#000000;stroke-width:0.8;\" x=\"171.139773\" xlink:href=\"#m766349c9b5\" y=\"82.718125\"/>\n      </g>\n     </g>\n     <g id=\"text_8\">\n      <!-- 0 -->\n      <g transform=\"translate(167.958523 97.316563)scale(0.1 -0.1)\">\n       <use xlink:href=\"#DejaVuSans-48\"/>\n      </g>\n     </g>\n    </g>\n    <g id=\"xtick_4\">\n     <g id=\"line2d_13\">\n      <path clip-path=\"url(#p04510621c4)\" d=\"M 223.980682 82.718125 \nL 223.980682 22.318125 \n\" style=\"fill:none;stroke:#b0b0b0;stroke-linecap:square;stroke-width:0.8;\"/>\n     </g>\n     <g id=\"line2d_14\">\n      <g>\n       <use style=\"stroke:#000000;stroke-width:0.8;\" x=\"223.980682\" xlink:href=\"#m766349c9b5\" y=\"82.718125\"/>\n      </g>\n     </g>\n     <g id=\"text_9\">\n      <!-- 20 -->\n      <g transform=\"translate(217.618182 97.316563)scale(0.1 -0.1)\">\n       <use xlink:href=\"#DejaVuSans-50\"/>\n       <use x=\"63.623047\" xlink:href=\"#DejaVuSans-48\"/>\n      </g>\n     </g>\n    </g>\n   </g>\n   <g id=\"matplotlib.axis_4\">\n    <g id=\"ytick_4\">\n     <g id=\"line2d_15\">\n      <path clip-path=\"url(#p04510621c4)\" d=\"M 166.9125 82.718125 \nL 259.9125 82.718125 \n\" style=\"fill:none;stroke:#b0b0b0;stroke-linecap:square;stroke-width:0.8;\"/>\n     </g>\n     <g id=\"line2d_16\">\n      <g>\n       <use style=\"stroke:#000000;stroke-width:0.8;\" x=\"166.9125\" xlink:href=\"#m78d7568f3e\" y=\"82.718125\"/>\n      </g>\n     </g>\n     <g id=\"text_10\">\n      <!-- 0 -->\n      <g transform=\"translate(153.55 86.517344)scale(0.1 -0.1)\">\n       <use xlink:href=\"#DejaVuSans-48\"/>\n      </g>\n     </g>\n    </g>\n    <g id=\"ytick_5\">\n     <g id=\"line2d_17\">\n      <path clip-path=\"url(#p04510621c4)\" d=\"M 166.9125 43.23171 \nL 259.9125 43.23171 \n\" style=\"fill:none;stroke:#b0b0b0;stroke-linecap:square;stroke-width:0.8;\"/>\n     </g>\n     <g id=\"line2d_18\">\n      <g>\n       <use style=\"stroke:#000000;stroke-width:0.8;\" x=\"166.9125\" xlink:href=\"#m78d7568f3e\" y=\"43.23171\"/>\n      </g>\n     </g>\n     <g id=\"text_11\">\n      <!-- 5000 -->\n      <g transform=\"translate(134.4625 47.030929)scale(0.1 -0.1)\">\n       <use xlink:href=\"#DejaVuSans-53\"/>\n       <use x=\"63.623047\" xlink:href=\"#DejaVuSans-48\"/>\n       <use x=\"127.246094\" xlink:href=\"#DejaVuSans-48\"/>\n       <use x=\"190.869141\" xlink:href=\"#DejaVuSans-48\"/>\n      </g>\n     </g>\n    </g>\n   </g>\n   <g id=\"patch_28\">\n    <path d=\"M 166.9125 82.718125 \nL 166.9125 22.318125 \n\" style=\"fill:none;stroke:#000000;stroke-linecap:square;stroke-linejoin:miter;stroke-width:0.8;\"/>\n   </g>\n   <g id=\"patch_29\">\n    <path d=\"M 259.9125 82.718125 \nL 259.9125 22.318125 \n\" style=\"fill:none;stroke:#000000;stroke-linecap:square;stroke-linejoin:miter;stroke-width:0.8;\"/>\n   </g>\n   <g id=\"patch_30\">\n    <path d=\"M 166.9125 82.718125 \nL 259.9125 82.718125 \n\" style=\"fill:none;stroke:#000000;stroke-linecap:square;stroke-linejoin:miter;stroke-width:0.8;\"/>\n   </g>\n   <g id=\"patch_31\">\n    <path d=\"M 166.9125 22.318125 \nL 259.9125 22.318125 \n\" style=\"fill:none;stroke:#000000;stroke-linecap:square;stroke-linejoin:miter;stroke-width:0.8;\"/>\n   </g>\n   <g id=\"text_12\">\n    <!-- product_atc_code -->\n    <defs>\n     <path d=\"M 8.5 21.578125 \nL 8.5 54.6875 \nL 17.484375 54.6875 \nL 17.484375 21.921875 \nQ 17.484375 14.15625 20.5 10.265625 \nQ 23.53125 6.390625 29.59375 6.390625 \nQ 36.859375 6.390625 41.078125 11.03125 \nQ 45.3125 15.671875 45.3125 23.6875 \nL 45.3125 54.6875 \nL 54.296875 54.6875 \nL 54.296875 0 \nL 45.3125 0 \nL 45.3125 8.40625 \nQ 42.046875 3.421875 37.71875 1 \nQ 33.40625 -1.421875 27.6875 -1.421875 \nQ 18.265625 -1.421875 13.375 4.4375 \nQ 8.5 10.296875 8.5 21.578125 \nz\nM 31.109375 56 \nz\n\" id=\"DejaVuSans-117\"/>\n     <path d=\"M 48.78125 52.59375 \nL 48.78125 44.1875 \nQ 44.96875 46.296875 41.140625 47.34375 \nQ 37.3125 48.390625 33.40625 48.390625 \nQ 24.65625 48.390625 19.8125 42.84375 \nQ 14.984375 37.3125 14.984375 27.296875 \nQ 14.984375 17.28125 19.8125 11.734375 \nQ 24.65625 6.203125 33.40625 6.203125 \nQ 37.3125 6.203125 41.140625 7.25 \nQ 44.96875 8.296875 48.78125 10.40625 \nL 48.78125 2.09375 \nQ 45.015625 0.34375 40.984375 -0.53125 \nQ 36.96875 -1.421875 32.421875 -1.421875 \nQ 20.0625 -1.421875 12.78125 6.34375 \nQ 5.515625 14.109375 5.515625 27.296875 \nQ 5.515625 40.671875 12.859375 48.328125 \nQ 20.21875 56 33.015625 56 \nQ 37.15625 56 41.109375 55.140625 \nQ 45.0625 54.296875 48.78125 52.59375 \nz\n\" id=\"DejaVuSans-99\"/>\n     <path d=\"M 18.3125 70.21875 \nL 18.3125 54.6875 \nL 36.8125 54.6875 \nL 36.8125 47.703125 \nL 18.3125 47.703125 \nL 18.3125 18.015625 \nQ 18.3125 11.328125 20.140625 9.421875 \nQ 21.96875 7.515625 27.59375 7.515625 \nL 36.8125 7.515625 \nL 36.8125 0 \nL 27.59375 0 \nQ 17.1875 0 13.234375 3.875 \nQ 9.28125 7.765625 9.28125 18.015625 \nL 9.28125 47.703125 \nL 2.6875 47.703125 \nL 2.6875 54.6875 \nL 9.28125 54.6875 \nL 9.28125 70.21875 \nz\n\" id=\"DejaVuSans-116\"/>\n     <path d=\"M 34.28125 27.484375 \nQ 23.390625 27.484375 19.1875 25 \nQ 14.984375 22.515625 14.984375 16.5 \nQ 14.984375 11.71875 18.140625 8.90625 \nQ 21.296875 6.109375 26.703125 6.109375 \nQ 34.1875 6.109375 38.703125 11.40625 \nQ 43.21875 16.703125 43.21875 25.484375 \nL 43.21875 27.484375 \nz\nM 52.203125 31.203125 \nL 52.203125 0 \nL 43.21875 0 \nL 43.21875 8.296875 \nQ 40.140625 3.328125 35.546875 0.953125 \nQ 30.953125 -1.421875 24.3125 -1.421875 \nQ 15.921875 -1.421875 10.953125 3.296875 \nQ 6 8.015625 6 15.921875 \nQ 6 25.140625 12.171875 29.828125 \nQ 18.359375 34.515625 30.609375 34.515625 \nL 43.21875 34.515625 \nL 43.21875 35.40625 \nQ 43.21875 41.609375 39.140625 45 \nQ 35.0625 48.390625 27.6875 48.390625 \nQ 23 48.390625 18.546875 47.265625 \nQ 14.109375 46.140625 10.015625 43.890625 \nL 10.015625 52.203125 \nQ 14.9375 54.109375 19.578125 55.046875 \nQ 24.21875 56 28.609375 56 \nQ 40.484375 56 46.34375 49.84375 \nQ 52.203125 43.703125 52.203125 31.203125 \nz\n\" id=\"DejaVuSans-97\"/>\n    </defs>\n    <g transform=\"translate(160.405313 16.318125)scale(0.12 -0.12)\">\n     <use xlink:href=\"#DejaVuSans-112\"/>\n     <use x=\"63.476562\" xlink:href=\"#DejaVuSans-114\"/>\n     <use x=\"104.558594\" xlink:href=\"#DejaVuSans-111\"/>\n     <use x=\"165.740234\" xlink:href=\"#DejaVuSans-100\"/>\n     <use x=\"229.216797\" xlink:href=\"#DejaVuSans-117\"/>\n     <use x=\"292.595703\" xlink:href=\"#DejaVuSans-99\"/>\n     <use x=\"347.576172\" xlink:href=\"#DejaVuSans-116\"/>\n     <use x=\"386.785156\" xlink:href=\"#DejaVuSans-95\"/>\n     <use x=\"436.785156\" xlink:href=\"#DejaVuSans-97\"/>\n     <use x=\"498.064453\" xlink:href=\"#DejaVuSans-116\"/>\n     <use x=\"537.273438\" xlink:href=\"#DejaVuSans-99\"/>\n     <use x=\"592.253906\" xlink:href=\"#DejaVuSans-95\"/>\n     <use x=\"642.253906\" xlink:href=\"#DejaVuSans-99\"/>\n     <use x=\"697.234375\" xlink:href=\"#DejaVuSans-111\"/>\n     <use x=\"758.416016\" xlink:href=\"#DejaVuSans-100\"/>\n     <use x=\"821.892578\" xlink:href=\"#DejaVuSans-101\"/>\n    </g>\n   </g>\n  </g>\n  <g id=\"axes_3\">\n   <g id=\"patch_32\">\n    <path d=\"M 287.8125 82.718125 \nL 380.8125 82.718125 \nL 380.8125 22.318125 \nL 287.8125 22.318125 \nz\n\" style=\"fill:#ffffff;\"/>\n   </g>\n   <g id=\"patch_33\">\n    <path clip-path=\"url(#p873c9bd3ea)\" d=\"M 292.039773 82.718125 \nL 300.494318 82.718125 \nL 300.494318 81.477459 \nL 292.039773 81.477459 \nz\n\" style=\"fill:#1f77b4;\"/>\n   </g>\n   <g id=\"patch_34\">\n    <path clip-path=\"url(#p873c9bd3ea)\" d=\"M 300.494318 82.718125 \nL 308.948864 82.718125 \nL 308.948864 58.299934 \nL 300.494318 58.299934 \nz\n\" style=\"fill:#1f77b4;\"/>\n   </g>\n   <g id=\"patch_35\">\n    <path clip-path=\"url(#p873c9bd3ea)\" d=\"M 308.948864 82.718125 \nL 317.403409 82.718125 \nL 317.403409 25.194315 \nL 308.948864 25.194315 \nz\n\" style=\"fill:#1f77b4;\"/>\n   </g>\n   <g id=\"patch_36\">\n    <path clip-path=\"url(#p873c9bd3ea)\" d=\"M 317.403409 82.718125 \nL 325.857955 82.718125 \nL 325.857955 66.771833 \nL 317.403409 66.771833 \nz\n\" style=\"fill:#1f77b4;\"/>\n   </g>\n   <g id=\"patch_37\">\n    <path clip-path=\"url(#p873c9bd3ea)\" d=\"M 325.857955 82.718125 \nL 334.3125 82.718125 \nL 334.3125 80.455083 \nL 325.857955 80.455083 \nz\n\" style=\"fill:#1f77b4;\"/>\n   </g>\n   <g id=\"patch_38\">\n    <path clip-path=\"url(#p873c9bd3ea)\" d=\"M 334.3125 82.718125 \nL 342.767045 82.718125 \nL 342.767045 82.292596 \nL 334.3125 82.292596 \nz\n\" style=\"fill:#1f77b4;\"/>\n   </g>\n   <g id=\"patch_39\">\n    <path clip-path=\"url(#p873c9bd3ea)\" d=\"M 342.767045 82.718125 \nL 351.221591 82.718125 \nL 351.221591 82.662861 \nL 342.767045 82.662861 \nz\n\" style=\"fill:#1f77b4;\"/>\n   </g>\n   <g id=\"patch_40\">\n    <path clip-path=\"url(#p873c9bd3ea)\" d=\"M 351.221591 82.718125 \nL 359.676136 82.718125 \nL 359.676136 82.707072 \nL 351.221591 82.707072 \nz\n\" style=\"fill:#1f77b4;\"/>\n   </g>\n   <g id=\"patch_41\">\n    <path clip-path=\"url(#p873c9bd3ea)\" d=\"M 359.676136 82.718125 \nL 368.130682 82.718125 \nL 368.130682 82.715362 \nL 359.676136 82.715362 \nz\n\" style=\"fill:#1f77b4;\"/>\n   </g>\n   <g id=\"patch_42\">\n    <path clip-path=\"url(#p873c9bd3ea)\" d=\"M 368.130682 82.718125 \nL 376.585227 82.718125 \nL 376.585227 82.709835 \nL 368.130682 82.709835 \nz\n\" style=\"fill:#1f77b4;\"/>\n   </g>\n   <g id=\"matplotlib.axis_5\">\n    <g id=\"xtick_5\">\n     <g id=\"line2d_19\">\n      <path clip-path=\"url(#p873c9bd3ea)\" d=\"M 299.725723 82.718125 \nL 299.725723 22.318125 \n\" style=\"fill:none;stroke:#b0b0b0;stroke-linecap:square;stroke-width:0.8;\"/>\n     </g>\n     <g id=\"line2d_20\">\n      <g>\n       <use style=\"stroke:#000000;stroke-width:0.8;\" x=\"299.725723\" xlink:href=\"#m766349c9b5\" y=\"82.718125\"/>\n      </g>\n     </g>\n     <g id=\"text_13\">\n      <!-- 50 -->\n      <g transform=\"translate(293.363223 97.316563)scale(0.1 -0.1)\">\n       <use xlink:href=\"#DejaVuSans-53\"/>\n       <use x=\"63.623047\" xlink:href=\"#DejaVuSans-48\"/>\n      </g>\n     </g>\n    </g>\n    <g id=\"xtick_6\">\n     <g id=\"line2d_21\">\n      <path clip-path=\"url(#p873c9bd3ea)\" d=\"M 329.287071 82.718125 \nL 329.287071 22.318125 \n\" style=\"fill:none;stroke:#b0b0b0;stroke-linecap:square;stroke-width:0.8;\"/>\n     </g>\n     <g id=\"line2d_22\">\n      <g>\n       <use style=\"stroke:#000000;stroke-width:0.8;\" x=\"329.287071\" xlink:href=\"#m766349c9b5\" y=\"82.718125\"/>\n      </g>\n     </g>\n     <g id=\"text_14\">\n      <!-- 100 -->\n      <g transform=\"translate(319.743321 97.316563)scale(0.1 -0.1)\">\n       <use xlink:href=\"#DejaVuSans-49\"/>\n       <use x=\"63.623047\" xlink:href=\"#DejaVuSans-48\"/>\n       <use x=\"127.246094\" xlink:href=\"#DejaVuSans-48\"/>\n      </g>\n     </g>\n    </g>\n    <g id=\"xtick_7\">\n     <g id=\"line2d_23\">\n      <path clip-path=\"url(#p873c9bd3ea)\" d=\"M 358.848419 82.718125 \nL 358.848419 22.318125 \n\" style=\"fill:none;stroke:#b0b0b0;stroke-linecap:square;stroke-width:0.8;\"/>\n     </g>\n     <g id=\"line2d_24\">\n      <g>\n       <use style=\"stroke:#000000;stroke-width:0.8;\" x=\"358.848419\" xlink:href=\"#m766349c9b5\" y=\"82.718125\"/>\n      </g>\n     </g>\n     <g id=\"text_15\">\n      <!-- 150 -->\n      <g transform=\"translate(349.304669 97.316563)scale(0.1 -0.1)\">\n       <use xlink:href=\"#DejaVuSans-49\"/>\n       <use x=\"63.623047\" xlink:href=\"#DejaVuSans-53\"/>\n       <use x=\"127.246094\" xlink:href=\"#DejaVuSans-48\"/>\n      </g>\n     </g>\n    </g>\n   </g>\n   <g id=\"matplotlib.axis_6\">\n    <g id=\"ytick_6\">\n     <g id=\"line2d_25\">\n      <path clip-path=\"url(#p873c9bd3ea)\" d=\"M 287.8125 82.718125 \nL 380.8125 82.718125 \n\" style=\"fill:none;stroke:#b0b0b0;stroke-linecap:square;stroke-width:0.8;\"/>\n     </g>\n     <g id=\"line2d_26\">\n      <g>\n       <use style=\"stroke:#000000;stroke-width:0.8;\" x=\"287.8125\" xlink:href=\"#m78d7568f3e\" y=\"82.718125\"/>\n      </g>\n     </g>\n     <g id=\"text_16\">\n      <!-- 0 -->\n      <g transform=\"translate(274.45 86.517344)scale(0.1 -0.1)\">\n       <use xlink:href=\"#DejaVuSans-48\"/>\n      </g>\n     </g>\n    </g>\n    <g id=\"ytick_7\">\n     <g id=\"line2d_27\">\n      <path clip-path=\"url(#p873c9bd3ea)\" d=\"M 287.8125 55.086359 \nL 380.8125 55.086359 \n\" style=\"fill:none;stroke:#b0b0b0;stroke-linecap:square;stroke-width:0.8;\"/>\n     </g>\n     <g id=\"line2d_28\">\n      <g>\n       <use style=\"stroke:#000000;stroke-width:0.8;\" x=\"287.8125\" xlink:href=\"#m78d7568f3e\" y=\"55.086359\"/>\n      </g>\n     </g>\n     <g id=\"text_17\">\n      <!-- 10000 -->\n      <g transform=\"translate(249 58.885578)scale(0.1 -0.1)\">\n       <use xlink:href=\"#DejaVuSans-49\"/>\n       <use x=\"63.623047\" xlink:href=\"#DejaVuSans-48\"/>\n       <use x=\"127.246094\" xlink:href=\"#DejaVuSans-48\"/>\n       <use x=\"190.869141\" xlink:href=\"#DejaVuSans-48\"/>\n       <use x=\"254.492188\" xlink:href=\"#DejaVuSans-48\"/>\n      </g>\n     </g>\n    </g>\n    <g id=\"ytick_8\">\n     <g id=\"line2d_29\">\n      <path clip-path=\"url(#p873c9bd3ea)\" d=\"M 287.8125 27.454594 \nL 380.8125 27.454594 \n\" style=\"fill:none;stroke:#b0b0b0;stroke-linecap:square;stroke-width:0.8;\"/>\n     </g>\n     <g id=\"line2d_30\">\n      <g>\n       <use style=\"stroke:#000000;stroke-width:0.8;\" x=\"287.8125\" xlink:href=\"#m78d7568f3e\" y=\"27.454594\"/>\n      </g>\n     </g>\n     <g id=\"text_18\">\n      <!-- 20000 -->\n      <g transform=\"translate(249 31.253813)scale(0.1 -0.1)\">\n       <use xlink:href=\"#DejaVuSans-50\"/>\n       <use x=\"63.623047\" xlink:href=\"#DejaVuSans-48\"/>\n       <use x=\"127.246094\" xlink:href=\"#DejaVuSans-48\"/>\n       <use x=\"190.869141\" xlink:href=\"#DejaVuSans-48\"/>\n       <use x=\"254.492188\" xlink:href=\"#DejaVuSans-48\"/>\n      </g>\n     </g>\n    </g>\n   </g>\n   <g id=\"patch_43\">\n    <path d=\"M 287.8125 82.718125 \nL 287.8125 22.318125 \n\" style=\"fill:none;stroke:#000000;stroke-linecap:square;stroke-linejoin:miter;stroke-width:0.8;\"/>\n   </g>\n   <g id=\"patch_44\">\n    <path d=\"M 380.8125 82.718125 \nL 380.8125 22.318125 \n\" style=\"fill:none;stroke:#000000;stroke-linecap:square;stroke-linejoin:miter;stroke-width:0.8;\"/>\n   </g>\n   <g id=\"patch_45\">\n    <path d=\"M 287.8125 82.718125 \nL 380.8125 82.718125 \n\" style=\"fill:none;stroke:#000000;stroke-linecap:square;stroke-linejoin:miter;stroke-width:0.8;\"/>\n   </g>\n   <g id=\"patch_46\">\n    <path d=\"M 287.8125 22.318125 \nL 380.8125 22.318125 \n\" style=\"fill:none;stroke:#000000;stroke-linecap:square;stroke-linejoin:miter;stroke-width:0.8;\"/>\n   </g>\n   <g id=\"text_19\">\n    <!-- Pulse -->\n    <defs>\n     <path d=\"M 19.671875 64.796875 \nL 19.671875 37.40625 \nL 32.078125 37.40625 \nQ 38.96875 37.40625 42.71875 40.96875 \nQ 46.484375 44.53125 46.484375 51.125 \nQ 46.484375 57.671875 42.71875 61.234375 \nQ 38.96875 64.796875 32.078125 64.796875 \nz\nM 9.8125 72.90625 \nL 32.078125 72.90625 \nQ 44.34375 72.90625 50.609375 67.359375 \nQ 56.890625 61.8125 56.890625 51.125 \nQ 56.890625 40.328125 50.609375 34.8125 \nQ 44.34375 29.296875 32.078125 29.296875 \nL 19.671875 29.296875 \nL 19.671875 0 \nL 9.8125 0 \nz\n\" id=\"DejaVuSans-80\"/>\n     <path d=\"M 9.421875 75.984375 \nL 18.40625 75.984375 \nL 18.40625 0 \nL 9.421875 0 \nz\n\" id=\"DejaVuSans-108\"/>\n    </defs>\n    <g transform=\"translate(318.40875 16.318125)scale(0.12 -0.12)\">\n     <use xlink:href=\"#DejaVuSans-80\"/>\n     <use x=\"60.287109\" xlink:href=\"#DejaVuSans-117\"/>\n     <use x=\"123.666016\" xlink:href=\"#DejaVuSans-108\"/>\n     <use x=\"151.449219\" xlink:href=\"#DejaVuSans-115\"/>\n     <use x=\"203.548828\" xlink:href=\"#DejaVuSans-101\"/>\n    </g>\n   </g>\n  </g>\n  <g id=\"axes_4\">\n   <g id=\"patch_47\">\n    <path d=\"M 46.0125 161.238125 \nL 139.0125 161.238125 \nL 139.0125 100.838125 \nL 46.0125 100.838125 \nz\n\" style=\"fill:#ffffff;\"/>\n   </g>\n   <g id=\"patch_48\">\n    <path clip-path=\"url(#p758b8831b6)\" d=\"M 50.239773 161.238125 \nL 58.694318 161.238125 \nL 58.694318 161.23053 \nL 50.239773 161.23053 \nz\n\" style=\"fill:#1f77b4;\"/>\n   </g>\n   <g id=\"patch_49\">\n    <path clip-path=\"url(#p758b8831b6)\" d=\"M 58.694318 161.238125 \nL 67.148864 161.238125 \nL 67.148864 160.779899 \nL 58.694318 160.779899 \nz\n\" style=\"fill:#1f77b4;\"/>\n   </g>\n   <g id=\"patch_50\">\n    <path clip-path=\"url(#p758b8831b6)\" d=\"M 67.148864 161.238125 \nL 75.603409 161.238125 \nL 75.603409 146.635655 \nL 67.148864 146.635655 \nz\n\" style=\"fill:#1f77b4;\"/>\n   </g>\n   <g id=\"patch_51\">\n    <path clip-path=\"url(#p758b8831b6)\" d=\"M 75.603409 161.238125 \nL 84.057955 161.238125 \nL 84.057955 103.714315 \nL 75.603409 103.714315 \nz\n\" style=\"fill:#1f77b4;\"/>\n   </g>\n   <g id=\"patch_52\">\n    <path clip-path=\"url(#p758b8831b6)\" d=\"M 84.057955 161.238125 \nL 92.5125 161.238125 \nL 92.5125 144.782498 \nL 84.057955 144.782498 \nz\n\" style=\"fill:#1f77b4;\"/>\n   </g>\n   <g id=\"patch_53\">\n    <path clip-path=\"url(#p758b8831b6)\" d=\"M 92.5125 161.238125 \nL 100.967045 161.238125 \nL 100.967045 157.443204 \nL 92.5125 157.443204 \nz\n\" style=\"fill:#1f77b4;\"/>\n   </g>\n   <g id=\"patch_54\">\n    <path clip-path=\"url(#p758b8831b6)\" d=\"M 100.967045 161.238125 \nL 109.421591 161.238125 \nL 109.421591 160.828 \nL 100.967045 160.828 \nz\n\" style=\"fill:#1f77b4;\"/>\n   </g>\n   <g id=\"patch_55\">\n    <path clip-path=\"url(#p758b8831b6)\" d=\"M 109.421591 161.238125 \nL 117.876136 161.238125 \nL 117.876136 161.141923 \nL 109.421591 161.141923 \nz\n\" style=\"fill:#1f77b4;\"/>\n   </g>\n   <g id=\"patch_56\">\n    <path clip-path=\"url(#p758b8831b6)\" d=\"M 117.876136 161.238125 \nL 126.330682 161.238125 \nL 126.330682 161.233062 \nL 117.876136 161.233062 \nz\n\" style=\"fill:#1f77b4;\"/>\n   </g>\n   <g id=\"patch_57\">\n    <path clip-path=\"url(#p758b8831b6)\" d=\"M 126.330682 161.238125 \nL 134.785227 161.238125 \nL 134.785227 161.235593 \nL 126.330682 161.235593 \nz\n\" style=\"fill:#1f77b4;\"/>\n   </g>\n   <g id=\"matplotlib.axis_7\">\n    <g id=\"xtick_8\">\n     <g id=\"line2d_31\">\n      <path clip-path=\"url(#p758b8831b6)\" d=\"M 66.846916 161.238125 \nL 66.846916 100.838125 \n\" style=\"fill:none;stroke:#b0b0b0;stroke-linecap:square;stroke-width:0.8;\"/>\n     </g>\n     <g id=\"line2d_32\">\n      <g>\n       <use style=\"stroke:#000000;stroke-width:0.8;\" x=\"66.846916\" xlink:href=\"#m766349c9b5\" y=\"161.238125\"/>\n      </g>\n     </g>\n     <g id=\"text_20\">\n      <!-- 100 -->\n      <g transform=\"translate(57.303166 175.836563)scale(0.1 -0.1)\">\n       <use xlink:href=\"#DejaVuSans-49\"/>\n       <use x=\"63.623047\" xlink:href=\"#DejaVuSans-48\"/>\n       <use x=\"127.246094\" xlink:href=\"#DejaVuSans-48\"/>\n      </g>\n     </g>\n    </g>\n    <g id=\"xtick_9\">\n     <g id=\"line2d_33\">\n      <path clip-path=\"url(#p758b8831b6)\" d=\"M 104.590422 161.238125 \nL 104.590422 100.838125 \n\" style=\"fill:none;stroke:#b0b0b0;stroke-linecap:square;stroke-width:0.8;\"/>\n     </g>\n     <g id=\"line2d_34\">\n      <g>\n       <use style=\"stroke:#000000;stroke-width:0.8;\" x=\"104.590422\" xlink:href=\"#m766349c9b5\" y=\"161.238125\"/>\n      </g>\n     </g>\n     <g id=\"text_21\">\n      <!-- 200 -->\n      <g transform=\"translate(95.046672 175.836563)scale(0.1 -0.1)\">\n       <use xlink:href=\"#DejaVuSans-50\"/>\n       <use x=\"63.623047\" xlink:href=\"#DejaVuSans-48\"/>\n       <use x=\"127.246094\" xlink:href=\"#DejaVuSans-48\"/>\n      </g>\n     </g>\n    </g>\n   </g>\n   <g id=\"matplotlib.axis_8\">\n    <g id=\"ytick_9\">\n     <g id=\"line2d_35\">\n      <path clip-path=\"url(#p758b8831b6)\" d=\"M 46.0125 161.238125 \nL 139.0125 161.238125 \n\" style=\"fill:none;stroke:#b0b0b0;stroke-linecap:square;stroke-width:0.8;\"/>\n     </g>\n     <g id=\"line2d_36\">\n      <g>\n       <use style=\"stroke:#000000;stroke-width:0.8;\" x=\"46.0125\" xlink:href=\"#m78d7568f3e\" y=\"161.238125\"/>\n      </g>\n     </g>\n     <g id=\"text_22\">\n      <!-- 0 -->\n      <g transform=\"translate(32.65 165.037344)scale(0.1 -0.1)\">\n       <use xlink:href=\"#DejaVuSans-48\"/>\n      </g>\n     </g>\n    </g>\n    <g id=\"ytick_10\">\n     <g id=\"line2d_37\">\n      <path clip-path=\"url(#p758b8831b6)\" d=\"M 46.0125 135.921775 \nL 139.0125 135.921775 \n\" style=\"fill:none;stroke:#b0b0b0;stroke-linecap:square;stroke-width:0.8;\"/>\n     </g>\n     <g id=\"line2d_38\">\n      <g>\n       <use style=\"stroke:#000000;stroke-width:0.8;\" x=\"46.0125\" xlink:href=\"#m78d7568f3e\" y=\"135.921775\"/>\n      </g>\n     </g>\n     <g id=\"text_23\">\n      <!-- 10000 -->\n      <g transform=\"translate(7.2 139.720994)scale(0.1 -0.1)\">\n       <use xlink:href=\"#DejaVuSans-49\"/>\n       <use x=\"63.623047\" xlink:href=\"#DejaVuSans-48\"/>\n       <use x=\"127.246094\" xlink:href=\"#DejaVuSans-48\"/>\n       <use x=\"190.869141\" xlink:href=\"#DejaVuSans-48\"/>\n       <use x=\"254.492188\" xlink:href=\"#DejaVuSans-48\"/>\n      </g>\n     </g>\n    </g>\n    <g id=\"ytick_11\">\n     <g id=\"line2d_39\">\n      <path clip-path=\"url(#p758b8831b6)\" d=\"M 46.0125 110.605426 \nL 139.0125 110.605426 \n\" style=\"fill:none;stroke:#b0b0b0;stroke-linecap:square;stroke-width:0.8;\"/>\n     </g>\n     <g id=\"line2d_40\">\n      <g>\n       <use style=\"stroke:#000000;stroke-width:0.8;\" x=\"46.0125\" xlink:href=\"#m78d7568f3e\" y=\"110.605426\"/>\n      </g>\n     </g>\n     <g id=\"text_24\">\n      <!-- 20000 -->\n      <g transform=\"translate(7.2 114.404645)scale(0.1 -0.1)\">\n       <use xlink:href=\"#DejaVuSans-50\"/>\n       <use x=\"63.623047\" xlink:href=\"#DejaVuSans-48\"/>\n       <use x=\"127.246094\" xlink:href=\"#DejaVuSans-48\"/>\n       <use x=\"190.869141\" xlink:href=\"#DejaVuSans-48\"/>\n       <use x=\"254.492188\" xlink:href=\"#DejaVuSans-48\"/>\n      </g>\n     </g>\n    </g>\n   </g>\n   <g id=\"patch_58\">\n    <path d=\"M 46.0125 161.238125 \nL 46.0125 100.838125 \n\" style=\"fill:none;stroke:#000000;stroke-linecap:square;stroke-linejoin:miter;stroke-width:0.8;\"/>\n   </g>\n   <g id=\"patch_59\">\n    <path d=\"M 139.0125 161.238125 \nL 139.0125 100.838125 \n\" style=\"fill:none;stroke:#000000;stroke-linecap:square;stroke-linejoin:miter;stroke-width:0.8;\"/>\n   </g>\n   <g id=\"patch_60\">\n    <path d=\"M 46.0125 161.238125 \nL 139.0125 161.238125 \n\" style=\"fill:none;stroke:#000000;stroke-linecap:square;stroke-linejoin:miter;stroke-width:0.8;\"/>\n   </g>\n   <g id=\"patch_61\">\n    <path d=\"M 46.0125 100.838125 \nL 139.0125 100.838125 \n\" style=\"fill:none;stroke:#000000;stroke-linecap:square;stroke-linejoin:miter;stroke-width:0.8;\"/>\n   </g>\n   <g id=\"text_25\">\n    <!-- Tension Diastolique -->\n    <defs>\n     <path d=\"M -0.296875 72.90625 \nL 61.375 72.90625 \nL 61.375 64.59375 \nL 35.5 64.59375 \nL 35.5 0 \nL 25.59375 0 \nL 25.59375 64.59375 \nL -0.296875 64.59375 \nz\n\" id=\"DejaVuSans-84\"/>\n     <path id=\"DejaVuSans-32\"/>\n     <path d=\"M 19.671875 64.796875 \nL 19.671875 8.109375 \nL 31.59375 8.109375 \nQ 46.6875 8.109375 53.6875 14.9375 \nQ 60.6875 21.78125 60.6875 36.53125 \nQ 60.6875 51.171875 53.6875 57.984375 \nQ 46.6875 64.796875 31.59375 64.796875 \nz\nM 9.8125 72.90625 \nL 30.078125 72.90625 \nQ 51.265625 72.90625 61.171875 64.09375 \nQ 71.09375 55.28125 71.09375 36.53125 \nQ 71.09375 17.671875 61.125 8.828125 \nQ 51.171875 0 30.078125 0 \nL 9.8125 0 \nz\n\" id=\"DejaVuSans-68\"/>\n     <path d=\"M 14.796875 27.296875 \nQ 14.796875 17.390625 18.875 11.75 \nQ 22.953125 6.109375 30.078125 6.109375 \nQ 37.203125 6.109375 41.296875 11.75 \nQ 45.40625 17.390625 45.40625 27.296875 \nQ 45.40625 37.203125 41.296875 42.84375 \nQ 37.203125 48.484375 30.078125 48.484375 \nQ 22.953125 48.484375 18.875 42.84375 \nQ 14.796875 37.203125 14.796875 27.296875 \nz\nM 45.40625 8.203125 \nQ 42.578125 3.328125 38.25 0.953125 \nQ 33.9375 -1.421875 27.875 -1.421875 \nQ 17.96875 -1.421875 11.734375 6.484375 \nQ 5.515625 14.40625 5.515625 27.296875 \nQ 5.515625 40.1875 11.734375 48.09375 \nQ 17.96875 56 27.875 56 \nQ 33.9375 56 38.25 53.625 \nQ 42.578125 51.265625 45.40625 46.390625 \nL 45.40625 54.6875 \nL 54.390625 54.6875 \nL 54.390625 -20.796875 \nL 45.40625 -20.796875 \nz\n\" id=\"DejaVuSans-113\"/>\n    </defs>\n    <g transform=\"translate(33.44625 94.838125)scale(0.12 -0.12)\">\n     <use xlink:href=\"#DejaVuSans-84\"/>\n     <use x=\"60.818359\" xlink:href=\"#DejaVuSans-101\"/>\n     <use x=\"122.341797\" xlink:href=\"#DejaVuSans-110\"/>\n     <use x=\"185.720703\" xlink:href=\"#DejaVuSans-115\"/>\n     <use x=\"237.820312\" xlink:href=\"#DejaVuSans-105\"/>\n     <use x=\"265.603516\" xlink:href=\"#DejaVuSans-111\"/>\n     <use x=\"326.785156\" xlink:href=\"#DejaVuSans-110\"/>\n     <use x=\"390.164062\" xlink:href=\"#DejaVuSans-32\"/>\n     <use x=\"421.951172\" xlink:href=\"#DejaVuSans-68\"/>\n     <use x=\"498.953125\" xlink:href=\"#DejaVuSans-105\"/>\n     <use x=\"526.736328\" xlink:href=\"#DejaVuSans-97\"/>\n     <use x=\"588.015625\" xlink:href=\"#DejaVuSans-115\"/>\n     <use x=\"640.115234\" xlink:href=\"#DejaVuSans-116\"/>\n     <use x=\"679.324219\" xlink:href=\"#DejaVuSans-111\"/>\n     <use x=\"740.505859\" xlink:href=\"#DejaVuSans-108\"/>\n     <use x=\"768.289062\" xlink:href=\"#DejaVuSans-105\"/>\n     <use x=\"796.072266\" xlink:href=\"#DejaVuSans-113\"/>\n     <use x=\"859.548828\" xlink:href=\"#DejaVuSans-117\"/>\n     <use x=\"922.927734\" xlink:href=\"#DejaVuSans-101\"/>\n    </g>\n   </g>\n  </g>\n  <g id=\"axes_5\">\n   <g id=\"patch_62\">\n    <path d=\"M 166.9125 161.238125 \nL 259.9125 161.238125 \nL 259.9125 100.838125 \nL 166.9125 100.838125 \nz\n\" style=\"fill:#ffffff;\"/>\n   </g>\n   <g id=\"patch_63\">\n    <path clip-path=\"url(#p3c095cc07a)\" d=\"M 171.139773 161.238125 \nL 179.594318 161.238125 \nL 179.594318 160.780468 \nL 171.139773 160.780468 \nz\n\" style=\"fill:#1f77b4;\"/>\n   </g>\n   <g id=\"patch_64\">\n    <path clip-path=\"url(#p3c095cc07a)\" d=\"M 179.594318 161.238125 \nL 188.048864 161.238125 \nL 188.048864 153.277928 \nL 179.594318 153.277928 \nz\n\" style=\"fill:#1f77b4;\"/>\n   </g>\n   <g id=\"patch_65\">\n    <path clip-path=\"url(#p3c095cc07a)\" d=\"M 188.048864 161.238125 \nL 196.503409 161.238125 \nL 196.503409 103.714315 \nL 188.048864 103.714315 \nz\n\" style=\"fill:#1f77b4;\"/>\n   </g>\n   <g id=\"patch_66\">\n    <path clip-path=\"url(#p3c095cc07a)\" d=\"M 196.503409 161.238125 \nL 204.957955 161.238125 \nL 204.957955 149.495208 \nL 196.503409 149.495208 \nz\n\" style=\"fill:#1f77b4;\"/>\n   </g>\n   <g id=\"patch_67\">\n    <path clip-path=\"url(#p3c095cc07a)\" d=\"M 204.957955 161.238125 \nL 213.4125 161.238125 \nL 213.4125 159.123359 \nL 204.957955 159.123359 \nz\n\" style=\"fill:#1f77b4;\"/>\n   </g>\n   <g id=\"patch_68\">\n    <path clip-path=\"url(#p3c095cc07a)\" d=\"M 213.4125 161.238125 \nL 221.867045 161.238125 \nL 221.867045 161.066775 \nL 213.4125 161.066775 \nz\n\" style=\"fill:#1f77b4;\"/>\n   </g>\n   <g id=\"patch_69\">\n    <path clip-path=\"url(#p3c095cc07a)\" d=\"M 221.867045 161.238125 \nL 230.321591 161.238125 \nL 230.321591 161.22728 \nL 221.867045 161.22728 \nz\n\" style=\"fill:#1f77b4;\"/>\n   </g>\n   <g id=\"patch_70\">\n    <path clip-path=\"url(#p3c095cc07a)\" d=\"M 230.321591 161.238125 \nL 238.776136 161.238125 \nL 238.776136 161.238125 \nL 230.321591 161.238125 \nz\n\" style=\"fill:#1f77b4;\"/>\n   </g>\n   <g id=\"patch_71\">\n    <path clip-path=\"url(#p3c095cc07a)\" d=\"M 238.776136 161.238125 \nL 247.230682 161.238125 \nL 247.230682 161.238125 \nL 238.776136 161.238125 \nz\n\" style=\"fill:#1f77b4;\"/>\n   </g>\n   <g id=\"patch_72\">\n    <path clip-path=\"url(#p3c095cc07a)\" d=\"M 247.230682 161.238125 \nL 255.685227 161.238125 \nL 255.685227 161.235956 \nL 247.230682 161.235956 \nz\n\" style=\"fill:#1f77b4;\"/>\n   </g>\n   <g id=\"matplotlib.axis_9\">\n    <g id=\"xtick_10\">\n     <g id=\"line2d_41\">\n      <path clip-path=\"url(#p3c095cc07a)\" d=\"M 176.776136 161.238125 \nL 176.776136 100.838125 \n\" style=\"fill:none;stroke:#b0b0b0;stroke-linecap:square;stroke-width:0.8;\"/>\n     </g>\n     <g id=\"line2d_42\">\n      <g>\n       <use style=\"stroke:#000000;stroke-width:0.8;\" x=\"176.776136\" xlink:href=\"#m766349c9b5\" y=\"161.238125\"/>\n      </g>\n     </g>\n     <g id=\"text_26\">\n      <!-- 50 -->\n      <g transform=\"translate(170.413636 175.836563)scale(0.1 -0.1)\">\n       <use xlink:href=\"#DejaVuSans-53\"/>\n       <use x=\"63.623047\" xlink:href=\"#DejaVuSans-48\"/>\n      </g>\n     </g>\n    </g>\n    <g id=\"xtick_11\">\n     <g id=\"line2d_43\">\n      <path clip-path=\"url(#p3c095cc07a)\" d=\"M 204.957955 161.238125 \nL 204.957955 100.838125 \n\" style=\"fill:none;stroke:#b0b0b0;stroke-linecap:square;stroke-width:0.8;\"/>\n     </g>\n     <g id=\"line2d_44\">\n      <g>\n       <use style=\"stroke:#000000;stroke-width:0.8;\" x=\"204.957955\" xlink:href=\"#m766349c9b5\" y=\"161.238125\"/>\n      </g>\n     </g>\n     <g id=\"text_27\">\n      <!-- 100 -->\n      <g transform=\"translate(195.414205 175.836563)scale(0.1 -0.1)\">\n       <use xlink:href=\"#DejaVuSans-49\"/>\n       <use x=\"63.623047\" xlink:href=\"#DejaVuSans-48\"/>\n       <use x=\"127.246094\" xlink:href=\"#DejaVuSans-48\"/>\n      </g>\n     </g>\n    </g>\n    <g id=\"xtick_12\">\n     <g id=\"line2d_45\">\n      <path clip-path=\"url(#p3c095cc07a)\" d=\"M 233.139773 161.238125 \nL 233.139773 100.838125 \n\" style=\"fill:none;stroke:#b0b0b0;stroke-linecap:square;stroke-width:0.8;\"/>\n     </g>\n     <g id=\"line2d_46\">\n      <g>\n       <use style=\"stroke:#000000;stroke-width:0.8;\" x=\"233.139773\" xlink:href=\"#m766349c9b5\" y=\"161.238125\"/>\n      </g>\n     </g>\n     <g id=\"text_28\">\n      <!-- 150 -->\n      <g transform=\"translate(223.596023 175.836563)scale(0.1 -0.1)\">\n       <use xlink:href=\"#DejaVuSans-49\"/>\n       <use x=\"63.623047\" xlink:href=\"#DejaVuSans-53\"/>\n       <use x=\"127.246094\" xlink:href=\"#DejaVuSans-48\"/>\n      </g>\n     </g>\n    </g>\n   </g>\n   <g id=\"matplotlib.axis_10\">\n    <g id=\"ytick_12\">\n     <g id=\"line2d_47\">\n      <path clip-path=\"url(#p3c095cc07a)\" d=\"M 166.9125 161.238125 \nL 259.9125 161.238125 \n\" style=\"fill:none;stroke:#b0b0b0;stroke-linecap:square;stroke-width:0.8;\"/>\n     </g>\n     <g id=\"line2d_48\">\n      <g>\n       <use style=\"stroke:#000000;stroke-width:0.8;\" x=\"166.9125\" xlink:href=\"#m78d7568f3e\" y=\"161.238125\"/>\n      </g>\n     </g>\n     <g id=\"text_29\">\n      <!-- 0 -->\n      <g transform=\"translate(153.55 165.037344)scale(0.1 -0.1)\">\n       <use xlink:href=\"#DejaVuSans-48\"/>\n      </g>\n     </g>\n    </g>\n    <g id=\"ytick_13\">\n     <g id=\"line2d_49\">\n      <path clip-path=\"url(#p3c095cc07a)\" d=\"M 166.9125 139.548215 \nL 259.9125 139.548215 \n\" style=\"fill:none;stroke:#b0b0b0;stroke-linecap:square;stroke-width:0.8;\"/>\n     </g>\n     <g id=\"line2d_50\">\n      <g>\n       <use style=\"stroke:#000000;stroke-width:0.8;\" x=\"166.9125\" xlink:href=\"#m78d7568f3e\" y=\"139.548215\"/>\n      </g>\n     </g>\n     <g id=\"text_30\">\n      <!-- 10000 -->\n      <g transform=\"translate(128.1 143.347434)scale(0.1 -0.1)\">\n       <use xlink:href=\"#DejaVuSans-49\"/>\n       <use x=\"63.623047\" xlink:href=\"#DejaVuSans-48\"/>\n       <use x=\"127.246094\" xlink:href=\"#DejaVuSans-48\"/>\n       <use x=\"190.869141\" xlink:href=\"#DejaVuSans-48\"/>\n       <use x=\"254.492188\" xlink:href=\"#DejaVuSans-48\"/>\n      </g>\n     </g>\n    </g>\n    <g id=\"ytick_14\">\n     <g id=\"line2d_51\">\n      <path clip-path=\"url(#p3c095cc07a)\" d=\"M 166.9125 117.858306 \nL 259.9125 117.858306 \n\" style=\"fill:none;stroke:#b0b0b0;stroke-linecap:square;stroke-width:0.8;\"/>\n     </g>\n     <g id=\"line2d_52\">\n      <g>\n       <use style=\"stroke:#000000;stroke-width:0.8;\" x=\"166.9125\" xlink:href=\"#m78d7568f3e\" y=\"117.858306\"/>\n      </g>\n     </g>\n     <g id=\"text_31\">\n      <!-- 20000 -->\n      <g transform=\"translate(128.1 121.657524)scale(0.1 -0.1)\">\n       <use xlink:href=\"#DejaVuSans-50\"/>\n       <use x=\"63.623047\" xlink:href=\"#DejaVuSans-48\"/>\n       <use x=\"127.246094\" xlink:href=\"#DejaVuSans-48\"/>\n       <use x=\"190.869141\" xlink:href=\"#DejaVuSans-48\"/>\n       <use x=\"254.492188\" xlink:href=\"#DejaVuSans-48\"/>\n      </g>\n     </g>\n    </g>\n   </g>\n   <g id=\"patch_73\">\n    <path d=\"M 166.9125 161.238125 \nL 166.9125 100.838125 \n\" style=\"fill:none;stroke:#000000;stroke-linecap:square;stroke-linejoin:miter;stroke-width:0.8;\"/>\n   </g>\n   <g id=\"patch_74\">\n    <path d=\"M 259.9125 161.238125 \nL 259.9125 100.838125 \n\" style=\"fill:none;stroke:#000000;stroke-linecap:square;stroke-linejoin:miter;stroke-width:0.8;\"/>\n   </g>\n   <g id=\"patch_75\">\n    <path d=\"M 166.9125 161.238125 \nL 259.9125 161.238125 \n\" style=\"fill:none;stroke:#000000;stroke-linecap:square;stroke-linejoin:miter;stroke-width:0.8;\"/>\n   </g>\n   <g id=\"patch_76\">\n    <path d=\"M 166.9125 100.838125 \nL 259.9125 100.838125 \n\" style=\"fill:none;stroke:#000000;stroke-linecap:square;stroke-linejoin:miter;stroke-width:0.8;\"/>\n   </g>\n   <g id=\"text_32\">\n    <!-- Tension Systolique -->\n    <defs>\n     <path d=\"M 53.515625 70.515625 \nL 53.515625 60.890625 \nQ 47.90625 63.578125 42.921875 64.890625 \nQ 37.9375 66.21875 33.296875 66.21875 \nQ 25.25 66.21875 20.875 63.09375 \nQ 16.5 59.96875 16.5 54.203125 \nQ 16.5 49.359375 19.40625 46.890625 \nQ 22.3125 44.4375 30.421875 42.921875 \nL 36.375 41.703125 \nQ 47.40625 39.59375 52.65625 34.296875 \nQ 57.90625 29 57.90625 20.125 \nQ 57.90625 9.515625 50.796875 4.046875 \nQ 43.703125 -1.421875 29.984375 -1.421875 \nQ 24.8125 -1.421875 18.96875 -0.25 \nQ 13.140625 0.921875 6.890625 3.21875 \nL 6.890625 13.375 \nQ 12.890625 10.015625 18.65625 8.296875 \nQ 24.421875 6.59375 29.984375 6.59375 \nQ 38.421875 6.59375 43.015625 9.90625 \nQ 47.609375 13.234375 47.609375 19.390625 \nQ 47.609375 24.75 44.3125 27.78125 \nQ 41.015625 30.8125 33.5 32.328125 \nL 27.484375 33.5 \nQ 16.453125 35.6875 11.515625 40.375 \nQ 6.59375 45.0625 6.59375 53.421875 \nQ 6.59375 63.09375 13.40625 68.65625 \nQ 20.21875 74.21875 32.171875 74.21875 \nQ 37.3125 74.21875 42.625 73.28125 \nQ 47.953125 72.359375 53.515625 70.515625 \nz\n\" id=\"DejaVuSans-83\"/>\n     <path d=\"M 32.171875 -5.078125 \nQ 28.375 -14.84375 24.75 -17.8125 \nQ 21.140625 -20.796875 15.09375 -20.796875 \nL 7.90625 -20.796875 \nL 7.90625 -13.28125 \nL 13.1875 -13.28125 \nQ 16.890625 -13.28125 18.9375 -11.515625 \nQ 21 -9.765625 23.484375 -3.21875 \nL 25.09375 0.875 \nL 2.984375 54.6875 \nL 12.5 54.6875 \nL 29.59375 11.921875 \nL 46.6875 54.6875 \nL 56.203125 54.6875 \nz\n\" id=\"DejaVuSans-121\"/>\n    </defs>\n    <g transform=\"translate(156.949688 94.838125)scale(0.12 -0.12)\">\n     <use xlink:href=\"#DejaVuSans-84\"/>\n     <use x=\"60.818359\" xlink:href=\"#DejaVuSans-101\"/>\n     <use x=\"122.341797\" xlink:href=\"#DejaVuSans-110\"/>\n     <use x=\"185.720703\" xlink:href=\"#DejaVuSans-115\"/>\n     <use x=\"237.820312\" xlink:href=\"#DejaVuSans-105\"/>\n     <use x=\"265.603516\" xlink:href=\"#DejaVuSans-111\"/>\n     <use x=\"326.785156\" xlink:href=\"#DejaVuSans-110\"/>\n     <use x=\"390.164062\" xlink:href=\"#DejaVuSans-32\"/>\n     <use x=\"421.951172\" xlink:href=\"#DejaVuSans-83\"/>\n     <use x=\"485.427734\" xlink:href=\"#DejaVuSans-121\"/>\n     <use x=\"544.607422\" xlink:href=\"#DejaVuSans-115\"/>\n     <use x=\"596.707031\" xlink:href=\"#DejaVuSans-116\"/>\n     <use x=\"635.916016\" xlink:href=\"#DejaVuSans-111\"/>\n     <use x=\"697.097656\" xlink:href=\"#DejaVuSans-108\"/>\n     <use x=\"724.880859\" xlink:href=\"#DejaVuSans-105\"/>\n     <use x=\"752.664062\" xlink:href=\"#DejaVuSans-113\"/>\n     <use x=\"816.140625\" xlink:href=\"#DejaVuSans-117\"/>\n     <use x=\"879.519531\" xlink:href=\"#DejaVuSans-101\"/>\n    </g>\n   </g>\n  </g>\n  <g id=\"axes_6\">\n   <g id=\"patch_77\">\n    <path d=\"M 287.8125 161.238125 \nL 380.8125 161.238125 \nL 380.8125 100.838125 \nL 287.8125 100.838125 \nz\n\" style=\"fill:#ffffff;\"/>\n   </g>\n   <g id=\"patch_78\">\n    <path clip-path=\"url(#pfb8a75ef84)\" d=\"M 292.039773 161.238125 \nL 300.494318 161.238125 \nL 300.494318 161.076598 \nL 292.039773 161.076598 \nz\n\" style=\"fill:#1f77b4;\"/>\n   </g>\n   <g id=\"patch_79\">\n    <path clip-path=\"url(#pfb8a75ef84)\" d=\"M 300.494318 161.238125 \nL 308.948864 161.238125 \nL 308.948864 160.497793 \nL 300.494318 160.497793 \nz\n\" style=\"fill:#1f77b4;\"/>\n   </g>\n   <g id=\"patch_80\">\n    <path clip-path=\"url(#pfb8a75ef84)\" d=\"M 308.948864 161.238125 \nL 317.403409 161.238125 \nL 317.403409 156.890356 \nL 308.948864 156.890356 \nz\n\" style=\"fill:#1f77b4;\"/>\n   </g>\n   <g id=\"patch_81\">\n    <path clip-path=\"url(#pfb8a75ef84)\" d=\"M 317.403409 161.238125 \nL 325.857955 161.238125 \nL 325.857955 150.685026 \nL 317.403409 150.685026 \nz\n\" style=\"fill:#1f77b4;\"/>\n   </g>\n   <g id=\"patch_82\">\n    <path clip-path=\"url(#pfb8a75ef84)\" d=\"M 325.857955 161.238125 \nL 334.3125 161.238125 \nL 334.3125 127.485708 \nL 325.857955 127.485708 \nz\n\" style=\"fill:#1f77b4;\"/>\n   </g>\n   <g id=\"patch_83\">\n    <path clip-path=\"url(#pfb8a75ef84)\" d=\"M 334.3125 161.238125 \nL 342.767045 161.238125 \nL 342.767045 103.714315 \nL 334.3125 103.714315 \nz\n\" style=\"fill:#1f77b4;\"/>\n   </g>\n   <g id=\"patch_84\">\n    <path clip-path=\"url(#pfb8a75ef84)\" d=\"M 342.767045 161.238125 \nL 351.221591 161.238125 \nL 351.221591 109.986948 \nL 342.767045 109.986948 \nz\n\" style=\"fill:#1f77b4;\"/>\n   </g>\n   <g id=\"patch_85\">\n    <path clip-path=\"url(#pfb8a75ef84)\" d=\"M 351.221591 161.238125 \nL 359.676136 161.238125 \nL 359.676136 106.150681 \nL 351.221591 106.150681 \nz\n\" style=\"fill:#1f77b4;\"/>\n   </g>\n   <g id=\"patch_86\">\n    <path clip-path=\"url(#pfb8a75ef84)\" d=\"M 359.676136 161.238125 \nL 368.130682 161.238125 \nL 368.130682 130.117253 \nL 359.676136 130.117253 \nz\n\" style=\"fill:#1f77b4;\"/>\n   </g>\n   <g id=\"patch_87\">\n    <path clip-path=\"url(#pfb8a75ef84)\" d=\"M 368.130682 161.238125 \nL 376.585227 161.238125 \nL 376.585227 157.590306 \nL 368.130682 157.590306 \nz\n\" style=\"fill:#1f77b4;\"/>\n   </g>\n   <g id=\"matplotlib.axis_11\">\n    <g id=\"xtick_13\">\n     <g id=\"line2d_53\">\n      <path clip-path=\"url(#pfb8a75ef84)\" d=\"M 323.881567 161.238125 \nL 323.881567 100.838125 \n\" style=\"fill:none;stroke:#b0b0b0;stroke-linecap:square;stroke-width:0.8;\"/>\n     </g>\n     <g id=\"line2d_54\">\n      <g>\n       <use style=\"stroke:#000000;stroke-width:0.8;\" x=\"323.881567\" xlink:href=\"#m766349c9b5\" y=\"161.238125\"/>\n      </g>\n     </g>\n     <g id=\"text_33\">\n      <!-- 50 -->\n      <g transform=\"translate(317.519067 175.836563)scale(0.1 -0.1)\">\n       <use xlink:href=\"#DejaVuSans-53\"/>\n       <use x=\"63.623047\" xlink:href=\"#DejaVuSans-48\"/>\n      </g>\n     </g>\n    </g>\n    <g id=\"xtick_14\">\n     <g id=\"line2d_55\">\n      <path clip-path=\"url(#pfb8a75ef84)\" d=\"M 378.781213 161.238125 \nL 378.781213 100.838125 \n\" style=\"fill:none;stroke:#b0b0b0;stroke-linecap:square;stroke-width:0.8;\"/>\n     </g>\n     <g id=\"line2d_56\">\n      <g>\n       <use style=\"stroke:#000000;stroke-width:0.8;\" x=\"378.781213\" xlink:href=\"#m766349c9b5\" y=\"161.238125\"/>\n      </g>\n     </g>\n     <g id=\"text_34\">\n      <!-- 100 -->\n      <g transform=\"translate(369.237463 175.836563)scale(0.1 -0.1)\">\n       <use xlink:href=\"#DejaVuSans-49\"/>\n       <use x=\"63.623047\" xlink:href=\"#DejaVuSans-48\"/>\n       <use x=\"127.246094\" xlink:href=\"#DejaVuSans-48\"/>\n      </g>\n     </g>\n    </g>\n   </g>\n   <g id=\"matplotlib.axis_12\">\n    <g id=\"ytick_15\">\n     <g id=\"line2d_57\">\n      <path clip-path=\"url(#pfb8a75ef84)\" d=\"M 287.8125 161.238125 \nL 380.8125 161.238125 \n\" style=\"fill:none;stroke:#b0b0b0;stroke-linecap:square;stroke-width:0.8;\"/>\n     </g>\n     <g id=\"line2d_58\">\n      <g>\n       <use style=\"stroke:#000000;stroke-width:0.8;\" x=\"287.8125\" xlink:href=\"#m78d7568f3e\" y=\"161.238125\"/>\n      </g>\n     </g>\n     <g id=\"text_35\">\n      <!-- 0 -->\n      <g transform=\"translate(274.45 165.037344)scale(0.1 -0.1)\">\n       <use xlink:href=\"#DejaVuSans-48\"/>\n      </g>\n     </g>\n    </g>\n    <g id=\"ytick_16\">\n     <g id=\"line2d_59\">\n      <path clip-path=\"url(#pfb8a75ef84)\" d=\"M 287.8125 127.586663 \nL 380.8125 127.586663 \n\" style=\"fill:none;stroke:#b0b0b0;stroke-linecap:square;stroke-width:0.8;\"/>\n     </g>\n     <g id=\"line2d_60\">\n      <g>\n       <use style=\"stroke:#000000;stroke-width:0.8;\" x=\"287.8125\" xlink:href=\"#m78d7568f3e\" y=\"127.586663\"/>\n      </g>\n     </g>\n     <g id=\"text_36\">\n      <!-- 5000 -->\n      <g transform=\"translate(255.3625 131.385882)scale(0.1 -0.1)\">\n       <use xlink:href=\"#DejaVuSans-53\"/>\n       <use x=\"63.623047\" xlink:href=\"#DejaVuSans-48\"/>\n       <use x=\"127.246094\" xlink:href=\"#DejaVuSans-48\"/>\n       <use x=\"190.869141\" xlink:href=\"#DejaVuSans-48\"/>\n      </g>\n     </g>\n    </g>\n   </g>\n   <g id=\"patch_88\">\n    <path d=\"M 287.8125 161.238125 \nL 287.8125 100.838125 \n\" style=\"fill:none;stroke:#000000;stroke-linecap:square;stroke-linejoin:miter;stroke-width:0.8;\"/>\n   </g>\n   <g id=\"patch_89\">\n    <path d=\"M 380.8125 161.238125 \nL 380.8125 100.838125 \n\" style=\"fill:none;stroke:#000000;stroke-linecap:square;stroke-linejoin:miter;stroke-width:0.8;\"/>\n   </g>\n   <g id=\"patch_90\">\n    <path d=\"M 287.8125 161.238125 \nL 380.8125 161.238125 \n\" style=\"fill:none;stroke:#000000;stroke-linecap:square;stroke-linejoin:miter;stroke-width:0.8;\"/>\n   </g>\n   <g id=\"patch_91\">\n    <path d=\"M 287.8125 100.838125 \nL 380.8125 100.838125 \n\" style=\"fill:none;stroke:#000000;stroke-linecap:square;stroke-linejoin:miter;stroke-width:0.8;\"/>\n   </g>\n   <g id=\"text_37\">\n    <!-- Age_presc -->\n    <defs>\n     <path d=\"M 34.1875 63.1875 \nL 20.796875 26.90625 \nL 47.609375 26.90625 \nz\nM 28.609375 72.90625 \nL 39.796875 72.90625 \nL 67.578125 0 \nL 57.328125 0 \nL 50.6875 18.703125 \nL 17.828125 18.703125 \nL 11.1875 0 \nL 0.78125 0 \nz\n\" id=\"DejaVuSans-65\"/>\n     <path d=\"M 45.40625 27.984375 \nQ 45.40625 37.75 41.375 43.109375 \nQ 37.359375 48.484375 30.078125 48.484375 \nQ 22.859375 48.484375 18.828125 43.109375 \nQ 14.796875 37.75 14.796875 27.984375 \nQ 14.796875 18.265625 18.828125 12.890625 \nQ 22.859375 7.515625 30.078125 7.515625 \nQ 37.359375 7.515625 41.375 12.890625 \nQ 45.40625 18.265625 45.40625 27.984375 \nz\nM 54.390625 6.78125 \nQ 54.390625 -7.171875 48.1875 -13.984375 \nQ 42 -20.796875 29.203125 -20.796875 \nQ 24.46875 -20.796875 20.265625 -20.09375 \nQ 16.0625 -19.390625 12.109375 -17.921875 \nL 12.109375 -9.1875 \nQ 16.0625 -11.328125 19.921875 -12.34375 \nQ 23.78125 -13.375 27.78125 -13.375 \nQ 36.625 -13.375 41.015625 -8.765625 \nQ 45.40625 -4.15625 45.40625 5.171875 \nL 45.40625 9.625 \nQ 42.625 4.78125 38.28125 2.390625 \nQ 33.9375 0 27.875 0 \nQ 17.828125 0 11.671875 7.65625 \nQ 5.515625 15.328125 5.515625 27.984375 \nQ 5.515625 40.671875 11.671875 48.328125 \nQ 17.828125 56 27.875 56 \nQ 33.9375 56 38.28125 53.609375 \nQ 42.625 51.21875 45.40625 46.390625 \nL 45.40625 54.6875 \nL 54.390625 54.6875 \nz\n\" id=\"DejaVuSans-103\"/>\n    </defs>\n    <g transform=\"translate(303.316875 94.838125)scale(0.12 -0.12)\">\n     <use xlink:href=\"#DejaVuSans-65\"/>\n     <use x=\"68.408203\" xlink:href=\"#DejaVuSans-103\"/>\n     <use x=\"131.884766\" xlink:href=\"#DejaVuSans-101\"/>\n     <use x=\"193.408203\" xlink:href=\"#DejaVuSans-95\"/>\n     <use x=\"243.408203\" xlink:href=\"#DejaVuSans-112\"/>\n     <use x=\"306.884766\" xlink:href=\"#DejaVuSans-114\"/>\n     <use x=\"347.966797\" xlink:href=\"#DejaVuSans-101\"/>\n     <use x=\"409.490234\" xlink:href=\"#DejaVuSans-115\"/>\n     <use x=\"461.589844\" xlink:href=\"#DejaVuSans-99\"/>\n    </g>\n   </g>\n  </g>\n  <g id=\"axes_7\">\n   <g id=\"patch_92\">\n    <path d=\"M 46.0125 239.758125 \nL 139.0125 239.758125 \nL 139.0125 179.358125 \nL 46.0125 179.358125 \nz\n\" style=\"fill:#ffffff;\"/>\n   </g>\n   <g id=\"patch_93\">\n    <path clip-path=\"url(#pb6d5919e25)\" d=\"M 50.239773 239.758125 \nL 58.694318 239.758125 \nL 58.694318 234.323403 \nL 50.239773 234.323403 \nz\n\" style=\"fill:#1f77b4;\"/>\n   </g>\n   <g id=\"patch_94\">\n    <path clip-path=\"url(#pb6d5919e25)\" d=\"M 58.694318 239.758125 \nL 67.148864 239.758125 \nL 67.148864 211.32769 \nL 58.694318 211.32769 \nz\n\" style=\"fill:#1f77b4;\"/>\n   </g>\n   <g id=\"patch_95\">\n    <path clip-path=\"url(#pb6d5919e25)\" d=\"M 67.148864 239.758125 \nL 75.603409 239.758125 \nL 75.603409 182.234315 \nL 67.148864 182.234315 \nz\n\" style=\"fill:#1f77b4;\"/>\n   </g>\n   <g id=\"patch_96\">\n    <path clip-path=\"url(#pb6d5919e25)\" d=\"M 75.603409 239.758125 \nL 84.057955 239.758125 \nL 84.057955 190.320796 \nL 75.603409 190.320796 \nz\n\" style=\"fill:#1f77b4;\"/>\n   </g>\n   <g id=\"patch_97\">\n    <path clip-path=\"url(#pb6d5919e25)\" d=\"M 84.057955 239.758125 \nL 92.5125 239.758125 \nL 92.5125 185.445428 \nL 84.057955 185.445428 \nz\n\" style=\"fill:#1f77b4;\"/>\n   </g>\n   <g id=\"patch_98\">\n    <path clip-path=\"url(#pb6d5919e25)\" d=\"M 92.5125 239.758125 \nL 100.967045 239.758125 \nL 100.967045 200.23036 \nL 92.5125 200.23036 \nz\n\" style=\"fill:#1f77b4;\"/>\n   </g>\n   <g id=\"patch_99\">\n    <path clip-path=\"url(#pb6d5919e25)\" d=\"M 100.967045 239.758125 \nL 109.421591 239.758125 \nL 109.421591 226.699599 \nL 100.967045 226.699599 \nz\n\" style=\"fill:#1f77b4;\"/>\n   </g>\n   <g id=\"patch_100\">\n    <path clip-path=\"url(#pb6d5919e25)\" d=\"M 109.421591 239.758125 \nL 117.876136 239.758125 \nL 117.876136 233.957405 \nL 109.421591 233.957405 \nz\n\" style=\"fill:#1f77b4;\"/>\n   </g>\n   <g id=\"patch_101\">\n    <path clip-path=\"url(#pb6d5919e25)\" d=\"M 117.876136 239.758125 \nL 126.330682 239.758125 \nL 126.330682 238.881111 \nL 117.876136 238.881111 \nz\n\" style=\"fill:#1f77b4;\"/>\n   </g>\n   <g id=\"patch_102\">\n    <path clip-path=\"url(#pb6d5919e25)\" d=\"M 126.330682 239.758125 \nL 134.785227 239.758125 \nL 134.785227 239.509523 \nL 126.330682 239.509523 \nz\n\" style=\"fill:#1f77b4;\"/>\n   </g>\n   <g id=\"matplotlib.axis_13\">\n    <g id=\"xtick_15\">\n     <g id=\"line2d_61\">\n      <path clip-path=\"url(#pb6d5919e25)\" d=\"M 59.379822 239.758125 \nL 59.379822 179.358125 \n\" style=\"fill:none;stroke:#b0b0b0;stroke-linecap:square;stroke-width:0.8;\"/>\n     </g>\n     <g id=\"line2d_62\">\n      <g>\n       <use style=\"stroke:#000000;stroke-width:0.8;\" x=\"59.379822\" xlink:href=\"#m766349c9b5\" y=\"239.758125\"/>\n      </g>\n     </g>\n     <g id=\"text_38\">\n      <!-- 1925 -->\n      <defs>\n       <path d=\"M 10.984375 1.515625 \nL 10.984375 10.5 \nQ 14.703125 8.734375 18.5 7.8125 \nQ 22.3125 6.890625 25.984375 6.890625 \nQ 35.75 6.890625 40.890625 13.453125 \nQ 46.046875 20.015625 46.78125 33.40625 \nQ 43.953125 29.203125 39.59375 26.953125 \nQ 35.25 24.703125 29.984375 24.703125 \nQ 19.046875 24.703125 12.671875 31.3125 \nQ 6.296875 37.9375 6.296875 49.421875 \nQ 6.296875 60.640625 12.9375 67.421875 \nQ 19.578125 74.21875 30.609375 74.21875 \nQ 43.265625 74.21875 49.921875 64.515625 \nQ 56.59375 54.828125 56.59375 36.375 \nQ 56.59375 19.140625 48.40625 8.859375 \nQ 40.234375 -1.421875 26.421875 -1.421875 \nQ 22.703125 -1.421875 18.890625 -0.6875 \nQ 15.09375 0.046875 10.984375 1.515625 \nz\nM 30.609375 32.421875 \nQ 37.25 32.421875 41.125 36.953125 \nQ 45.015625 41.5 45.015625 49.421875 \nQ 45.015625 57.28125 41.125 61.84375 \nQ 37.25 66.40625 30.609375 66.40625 \nQ 23.96875 66.40625 20.09375 61.84375 \nQ 16.21875 57.28125 16.21875 49.421875 \nQ 16.21875 41.5 20.09375 36.953125 \nQ 23.96875 32.421875 30.609375 32.421875 \nz\n\" id=\"DejaVuSans-57\"/>\n      </defs>\n      <g transform=\"translate(46.654822 254.356563)scale(0.1 -0.1)\">\n       <use xlink:href=\"#DejaVuSans-49\"/>\n       <use x=\"63.623047\" xlink:href=\"#DejaVuSans-57\"/>\n       <use x=\"127.246094\" xlink:href=\"#DejaVuSans-50\"/>\n       <use x=\"190.869141\" xlink:href=\"#DejaVuSans-53\"/>\n      </g>\n     </g>\n    </g>\n    <g id=\"xtick_16\">\n     <g id=\"line2d_63\">\n      <path clip-path=\"url(#pb6d5919e25)\" d=\"M 87.942475 239.758125 \nL 87.942475 179.358125 \n\" style=\"fill:none;stroke:#b0b0b0;stroke-linecap:square;stroke-width:0.8;\"/>\n     </g>\n     <g id=\"line2d_64\">\n      <g>\n       <use style=\"stroke:#000000;stroke-width:0.8;\" x=\"87.942475\" xlink:href=\"#m766349c9b5\" y=\"239.758125\"/>\n      </g>\n     </g>\n     <g id=\"text_39\">\n      <!-- 1950 -->\n      <g transform=\"translate(75.217475 254.356563)scale(0.1 -0.1)\">\n       <use xlink:href=\"#DejaVuSans-49\"/>\n       <use x=\"63.623047\" xlink:href=\"#DejaVuSans-57\"/>\n       <use x=\"127.246094\" xlink:href=\"#DejaVuSans-53\"/>\n       <use x=\"190.869141\" xlink:href=\"#DejaVuSans-48\"/>\n      </g>\n     </g>\n    </g>\n    <g id=\"xtick_17\">\n     <g id=\"line2d_65\">\n      <path clip-path=\"url(#pb6d5919e25)\" d=\"M 116.505129 239.758125 \nL 116.505129 179.358125 \n\" style=\"fill:none;stroke:#b0b0b0;stroke-linecap:square;stroke-width:0.8;\"/>\n     </g>\n     <g id=\"line2d_66\">\n      <g>\n       <use style=\"stroke:#000000;stroke-width:0.8;\" x=\"116.505129\" xlink:href=\"#m766349c9b5\" y=\"239.758125\"/>\n      </g>\n     </g>\n     <g id=\"text_40\">\n      <!-- 1975 -->\n      <g transform=\"translate(103.780129 254.356563)scale(0.1 -0.1)\">\n       <use xlink:href=\"#DejaVuSans-49\"/>\n       <use x=\"63.623047\" xlink:href=\"#DejaVuSans-57\"/>\n       <use x=\"127.246094\" xlink:href=\"#DejaVuSans-55\"/>\n       <use x=\"190.869141\" xlink:href=\"#DejaVuSans-53\"/>\n      </g>\n     </g>\n    </g>\n   </g>\n   <g id=\"matplotlib.axis_14\">\n    <g id=\"ytick_17\">\n     <g id=\"line2d_67\">\n      <path clip-path=\"url(#pb6d5919e25)\" d=\"M 46.0125 239.758125 \nL 139.0125 239.758125 \n\" style=\"fill:none;stroke:#b0b0b0;stroke-linecap:square;stroke-width:0.8;\"/>\n     </g>\n     <g id=\"line2d_68\">\n      <g>\n       <use style=\"stroke:#000000;stroke-width:0.8;\" x=\"46.0125\" xlink:href=\"#m78d7568f3e\" y=\"239.758125\"/>\n      </g>\n     </g>\n     <g id=\"text_41\">\n      <!-- 0 -->\n      <g transform=\"translate(32.65 243.557344)scale(0.1 -0.1)\">\n       <use xlink:href=\"#DejaVuSans-48\"/>\n      </g>\n     </g>\n    </g>\n    <g id=\"ytick_18\">\n     <g id=\"line2d_69\">\n      <path clip-path=\"url(#pb6d5919e25)\" d=\"M 46.0125 205.230028 \nL 139.0125 205.230028 \n\" style=\"fill:none;stroke:#b0b0b0;stroke-linecap:square;stroke-width:0.8;\"/>\n     </g>\n     <g id=\"line2d_70\">\n      <g>\n       <use style=\"stroke:#000000;stroke-width:0.8;\" x=\"46.0125\" xlink:href=\"#m78d7568f3e\" y=\"205.230028\"/>\n      </g>\n     </g>\n     <g id=\"text_42\">\n      <!-- 5000 -->\n      <g transform=\"translate(13.5625 209.029247)scale(0.1 -0.1)\">\n       <use xlink:href=\"#DejaVuSans-53\"/>\n       <use x=\"63.623047\" xlink:href=\"#DejaVuSans-48\"/>\n       <use x=\"127.246094\" xlink:href=\"#DejaVuSans-48\"/>\n       <use x=\"190.869141\" xlink:href=\"#DejaVuSans-48\"/>\n      </g>\n     </g>\n    </g>\n   </g>\n   <g id=\"patch_103\">\n    <path d=\"M 46.0125 239.758125 \nL 46.0125 179.358125 \n\" style=\"fill:none;stroke:#000000;stroke-linecap:square;stroke-linejoin:miter;stroke-width:0.8;\"/>\n   </g>\n   <g id=\"patch_104\">\n    <path d=\"M 139.0125 239.758125 \nL 139.0125 179.358125 \n\" style=\"fill:none;stroke:#000000;stroke-linecap:square;stroke-linejoin:miter;stroke-width:0.8;\"/>\n   </g>\n   <g id=\"patch_105\">\n    <path d=\"M 46.0125 239.758125 \nL 139.0125 239.758125 \n\" style=\"fill:none;stroke:#000000;stroke-linecap:square;stroke-linejoin:miter;stroke-width:0.8;\"/>\n   </g>\n   <g id=\"patch_106\">\n    <path d=\"M 46.0125 179.358125 \nL 139.0125 179.358125 \n\" style=\"fill:none;stroke:#000000;stroke-linecap:square;stroke-linejoin:miter;stroke-width:0.8;\"/>\n   </g>\n   <g id=\"text_43\">\n    <!-- year_of_birth -->\n    <defs>\n     <path d=\"M 37.109375 75.984375 \nL 37.109375 68.5 \nL 28.515625 68.5 \nQ 23.6875 68.5 21.796875 66.546875 \nQ 19.921875 64.59375 19.921875 59.515625 \nL 19.921875 54.6875 \nL 34.71875 54.6875 \nL 34.71875 47.703125 \nL 19.921875 47.703125 \nL 19.921875 0 \nL 10.890625 0 \nL 10.890625 47.703125 \nL 2.296875 47.703125 \nL 2.296875 54.6875 \nL 10.890625 54.6875 \nL 10.890625 58.5 \nQ 10.890625 67.625 15.140625 71.796875 \nQ 19.390625 75.984375 28.609375 75.984375 \nz\n\" id=\"DejaVuSans-102\"/>\n     <path d=\"M 48.6875 27.296875 \nQ 48.6875 37.203125 44.609375 42.84375 \nQ 40.53125 48.484375 33.40625 48.484375 \nQ 26.265625 48.484375 22.1875 42.84375 \nQ 18.109375 37.203125 18.109375 27.296875 \nQ 18.109375 17.390625 22.1875 11.75 \nQ 26.265625 6.109375 33.40625 6.109375 \nQ 40.53125 6.109375 44.609375 11.75 \nQ 48.6875 17.390625 48.6875 27.296875 \nz\nM 18.109375 46.390625 \nQ 20.953125 51.265625 25.265625 53.625 \nQ 29.59375 56 35.59375 56 \nQ 45.5625 56 51.78125 48.09375 \nQ 58.015625 40.1875 58.015625 27.296875 \nQ 58.015625 14.40625 51.78125 6.484375 \nQ 45.5625 -1.421875 35.59375 -1.421875 \nQ 29.59375 -1.421875 25.265625 0.953125 \nQ 20.953125 3.328125 18.109375 8.203125 \nL 18.109375 0 \nL 9.078125 0 \nL 9.078125 75.984375 \nL 18.109375 75.984375 \nz\n\" id=\"DejaVuSans-98\"/>\n     <path d=\"M 54.890625 33.015625 \nL 54.890625 0 \nL 45.90625 0 \nL 45.90625 32.71875 \nQ 45.90625 40.484375 42.875 44.328125 \nQ 39.84375 48.1875 33.796875 48.1875 \nQ 26.515625 48.1875 22.3125 43.546875 \nQ 18.109375 38.921875 18.109375 30.90625 \nL 18.109375 0 \nL 9.078125 0 \nL 9.078125 75.984375 \nL 18.109375 75.984375 \nL 18.109375 46.1875 \nQ 21.34375 51.125 25.703125 53.5625 \nQ 30.078125 56 35.796875 56 \nQ 45.21875 56 50.046875 50.171875 \nQ 54.890625 44.34375 54.890625 33.015625 \nz\n\" id=\"DejaVuSans-104\"/>\n    </defs>\n    <g transform=\"translate(53.245312 173.358125)scale(0.12 -0.12)\">\n     <use xlink:href=\"#DejaVuSans-121\"/>\n     <use x=\"59.179688\" xlink:href=\"#DejaVuSans-101\"/>\n     <use x=\"120.703125\" xlink:href=\"#DejaVuSans-97\"/>\n     <use x=\"181.982422\" xlink:href=\"#DejaVuSans-114\"/>\n     <use x=\"223.095703\" xlink:href=\"#DejaVuSans-95\"/>\n     <use x=\"273.095703\" xlink:href=\"#DejaVuSans-111\"/>\n     <use x=\"334.277344\" xlink:href=\"#DejaVuSans-102\"/>\n     <use x=\"369.482422\" xlink:href=\"#DejaVuSans-95\"/>\n     <use x=\"419.482422\" xlink:href=\"#DejaVuSans-98\"/>\n     <use x=\"482.958984\" xlink:href=\"#DejaVuSans-105\"/>\n     <use x=\"510.742188\" xlink:href=\"#DejaVuSans-114\"/>\n     <use x=\"551.855469\" xlink:href=\"#DejaVuSans-116\"/>\n     <use x=\"591.064453\" xlink:href=\"#DejaVuSans-104\"/>\n    </g>\n   </g>\n  </g>\n </g>\n <defs>\n  <clipPath id=\"pf48b7c8b72\">\n   <rect height=\"60.4\" width=\"93\" x=\"46.0125\" y=\"22.318125\"/>\n  </clipPath>\n  <clipPath id=\"p04510621c4\">\n   <rect height=\"60.4\" width=\"93\" x=\"166.9125\" y=\"22.318125\"/>\n  </clipPath>\n  <clipPath id=\"p873c9bd3ea\">\n   <rect height=\"60.4\" width=\"93\" x=\"287.8125\" y=\"22.318125\"/>\n  </clipPath>\n  <clipPath id=\"p758b8831b6\">\n   <rect height=\"60.4\" width=\"93\" x=\"46.0125\" y=\"100.838125\"/>\n  </clipPath>\n  <clipPath id=\"p3c095cc07a\">\n   <rect height=\"60.4\" width=\"93\" x=\"166.9125\" y=\"100.838125\"/>\n  </clipPath>\n  <clipPath id=\"pfb8a75ef84\">\n   <rect height=\"60.4\" width=\"93\" x=\"287.8125\" y=\"100.838125\"/>\n  </clipPath>\n  <clipPath id=\"pb6d5919e25\">\n   <rect height=\"60.4\" width=\"93\" x=\"46.0125\" y=\"179.358125\"/>\n  </clipPath>\n </defs>\n</svg>\n",
      "image/png": "[encoded data removed]"
     },
     "metadata": {
      "needs_background": "light"
     }
    }
   ],
   "source": [
    "dfWithTime.hist()"
   ]
  },
  {
   "source": [
    "### Conversion en ```TimeSeries```"
   ],
   "cell_type": "markdown",
   "metadata": {}
  },
  {
   "source": [
    "Nous définissons simplement le nouvel index comme la colonne donnant l'intervalle de temps entre chaque visite."
   ],
   "cell_type": "markdown",
   "metadata": {}
  },
  {
   "cell_type": "code",
   "execution_count": 20,
   "metadata": {},
   "outputs": [
    {
     "output_type": "execute_result",
     "data": {
      "text/plain": [
       "                         product_atc_code  Pulse  Tension Diastolique  \\\n",
       "person_id  contact_date                                                 \n",
       "291.0      2016-10-28                  10   72.0                130.0   \n",
       "           2016-11-04                  10   68.0                142.0   \n",
       "           2016-11-21                  10   84.0                140.0   \n",
       "           2017-01-16                  10   84.0                125.0   \n",
       "           2017-11-20                  10   92.0                115.0   \n",
       "...                                   ...    ...                  ...   \n",
       "34823672.0 2017-04-15                   8   68.0                140.0   \n",
       "           2017-06-26                   8   74.0                130.0   \n",
       "           2017-08-30                   8   80.0                130.0   \n",
       "           2017-09-11                   8   74.0                140.0   \n",
       "           2018-08-02                   8   78.0                130.0   \n",
       "\n",
       "                         Tension Systolique  Age_presc  year_of_birth  \\\n",
       "person_id  contact_date                                                 \n",
       "291.0      2016-10-28                  60.0       86.0         1930.0   \n",
       "           2016-11-04                  65.0       86.0         1930.0   \n",
       "           2016-11-21                  75.0       86.0         1930.0   \n",
       "           2017-01-16                  70.0       87.0         1930.0   \n",
       "           2017-11-20                  60.0       87.0         1930.0   \n",
       "...                                     ...        ...            ...   \n",
       "34823672.0 2017-04-15                  60.0       73.0         1944.0   \n",
       "           2017-06-26                  70.0       73.0         1944.0   \n",
       "           2017-08-30                  70.0       73.0         1944.0   \n",
       "           2017-09-11                  80.0       73.0         1944.0   \n",
       "           2018-08-02                  70.0       74.0         1944.0   \n",
       "\n",
       "                        wait_time  \n",
       "person_id  contact_date            \n",
       "291.0      2016-10-28   6603 days  \n",
       "           2016-11-04   6610 days  \n",
       "           2016-11-21   6627 days  \n",
       "           2017-01-16   6683 days  \n",
       "           2017-11-20   6991 days  \n",
       "...                           ...  \n",
       "34823672.0 2017-04-15      0 days  \n",
       "           2017-06-26     72 days  \n",
       "           2017-08-30    137 days  \n",
       "           2017-09-11    149 days  \n",
       "           2018-08-02    474 days  \n",
       "\n",
       "[36876 rows x 7 columns]"
      ],
      "text/html": "<div>\n<style scoped>\n    .dataframe tbody tr th:only-of-type {\n        vertical-align: middle;\n    }\n\n    .dataframe tbody tr th {\n        vertical-align: top;\n    }\n\n    .dataframe thead th {\n        text-align: right;\n    }\n</style>\n<table border=\"1\" class=\"dataframe\">\n  <thead>\n    <tr style=\"text-align: right;\">\n      <th></th>\n      <th></th>\n      <th>product_atc_code</th>\n      <th>Pulse</th>\n      <th>Tension Diastolique</th>\n      <th>Tension Systolique</th>\n      <th>Age_presc</th>\n      <th>year_of_birth</th>\n      <th>wait_time</th>\n    </tr>\n    <tr>\n      <th>person_id</th>\n      <th>contact_date</th>\n      <th></th>\n      <th></th>\n      <th></th>\n      <th></th>\n      <th></th>\n      <th></th>\n      <th></th>\n    </tr>\n  </thead>\n  <tbody>\n    <tr>\n      <th rowspan=\"5\" valign=\"top\">291.0</th>\n      <th>2016-10-28</th>\n      <td>10</td>\n      <td>72.0</td>\n      <td>130.0</td>\n      <td>60.0</td>\n      <td>86.0</td>\n      <td>1930.0</td>\n      <td>6603 days</td>\n    </tr>\n    <tr>\n      <th>2016-11-04</th>\n      <td>10</td>\n      <td>68.0</td>\n      <td>142.0</td>\n      <td>65.0</td>\n      <td>86.0</td>\n      <td>1930.0</td>\n      <td>6610 days</td>\n    </tr>\n    <tr>\n      <th>2016-11-21</th>\n      <td>10</td>\n      <td>84.0</td>\n      <td>140.0</td>\n      <td>75.0</td>\n      <td>86.0</td>\n      <td>1930.0</td>\n      <td>6627 days</td>\n    </tr>\n    <tr>\n      <th>2017-01-16</th>\n      <td>10</td>\n      <td>84.0</td>\n      <td>125.0</td>\n      <td>70.0</td>\n      <td>87.0</td>\n      <td>1930.0</td>\n      <td>6683 days</td>\n    </tr>\n    <tr>\n      <th>2017-11-20</th>\n      <td>10</td>\n      <td>92.0</td>\n      <td>115.0</td>\n      <td>60.0</td>\n      <td>87.0</td>\n      <td>1930.0</td>\n      <td>6991 days</td>\n    </tr>\n    <tr>\n      <th>...</th>\n      <th>...</th>\n      <td>...</td>\n      <td>...</td>\n      <td>...</td>\n      <td>...</td>\n      <td>...</td>\n      <td>...</td>\n      <td>...</td>\n    </tr>\n    <tr>\n      <th rowspan=\"5\" valign=\"top\">34823672.0</th>\n      <th>2017-04-15</th>\n      <td>8</td>\n      <td>68.0</td>\n      <td>140.0</td>\n      <td>60.0</td>\n      <td>73.0</td>\n      <td>1944.0</td>\n      <td>0 days</td>\n    </tr>\n    <tr>\n      <th>2017-06-26</th>\n      <td>8</td>\n      <td>74.0</td>\n      <td>130.0</td>\n      <td>70.0</td>\n      <td>73.0</td>\n      <td>1944.0</td>\n      <td>72 days</td>\n    </tr>\n    <tr>\n      <th>2017-08-30</th>\n      <td>8</td>\n      <td>80.0</td>\n      <td>130.0</td>\n      <td>70.0</td>\n      <td>73.0</td>\n      <td>1944.0</td>\n      <td>137 days</td>\n    </tr>\n    <tr>\n      <th>2017-09-11</th>\n      <td>8</td>\n      <td>74.0</td>\n      <td>140.0</td>\n      <td>80.0</td>\n      <td>73.0</td>\n      <td>1944.0</td>\n      <td>149 days</td>\n    </tr>\n    <tr>\n      <th>2018-08-02</th>\n      <td>8</td>\n      <td>78.0</td>\n      <td>130.0</td>\n      <td>70.0</td>\n      <td>74.0</td>\n      <td>1944.0</td>\n      <td>474 days</td>\n    </tr>\n  </tbody>\n</table>\n<p>36876 rows × 7 columns</p>\n</div>"
     },
     "metadata": {},
     "execution_count": 20
    }
   ],
   "source": [
    "ts = dfWithTime.set_index(['person_id','contact_date']).sort_index()\n",
    "ts"
   ]
  },
  {
   "source": [
    "### Attribution des bonnes valeurs de ```time_wait```"
   ],
   "cell_type": "markdown",
   "metadata": {}
  },
  {
   "cell_type": "code",
   "execution_count": 21,
   "metadata": {},
   "outputs": [],
   "source": [
    "tsWithTime = ts\n",
    "for i,_ in ts.groupby('person_id'):\n",
    "    len_ = len(ts.loc[i])\n",
    "    tsWithTime.loc[i].wait_time[1:len_] = pd.Series(ts.loc[i].wait_time.to_numpy()[1:len_] - ts.loc[i].wait_time.to_numpy()[:len_-1])\n",
    "    tsWithTime.loc[i].wait_time[0] = pd.Timedelta(0)"
   ]
  },
  {
   "cell_type": "code",
   "execution_count": 22,
   "metadata": {},
   "outputs": [
    {
     "output_type": "execute_result",
     "data": {
      "text/plain": [
       "count    36876.000000\n",
       "mean       104.590520\n",
       "std        122.973534\n",
       "min          0.000000\n",
       "25%         26.000000\n",
       "50%         76.000000\n",
       "75%        139.000000\n",
       "max       2825.000000\n",
       "Name: wait_time, dtype: float64"
      ]
     },
     "metadata": {},
     "execution_count": 22
    }
   ],
   "source": [
    "tsWithTimeNumber = tsWithTime\n",
    "tsWithTimeNumber.wait_time = tsWithTime.wait_time.dt.days\n",
    "tsWithTimeNumber.wait_time.describe()"
   ]
  },
  {
   "cell_type": "code",
   "execution_count": 44,
   "metadata": {},
   "outputs": [
    {
     "output_type": "execute_result",
     "data": {
      "text/plain": [
       "count    34546.00000\n",
       "mean        81.39967\n",
       "std         73.03593\n",
       "min          0.00000\n",
       "25%         23.00000\n",
       "50%         67.00000\n",
       "75%        118.00000\n",
       "max        300.00000\n",
       "Name: wait_time, dtype: float64"
      ]
     },
     "metadata": {},
     "execution_count": 44
    }
   ],
   "source": [
    "tsWithGoodTime = tsWithTimeNumber[tsWithTimeNumber.wait_time.values <= 300]\n",
    "tsWithGoodTime.wait_time.describe()"
   ]
  },
  {
   "source": [
    "### Transformation de ```wait_time``` en valeur numérique"
   ],
   "cell_type": "markdown",
   "metadata": {}
  },
  {
   "cell_type": "code",
   "execution_count": 45,
   "metadata": {},
   "outputs": [],
   "source": [
    "tsWithTimeMonth = tsWithGoodTime\n",
    "tsWithTimeMonth.wait_time = (tsWithGoodTime.wait_time / 30).astype(int)\n",
    "tsWithTimeMonth.wait_time[tsWithTimeMonth.wait_time >= 4] = 4"
   ]
  },
  {
   "cell_type": "code",
   "execution_count": 54,
   "metadata": {},
   "outputs": [],
   "source": [
    "atcCodeValues = tsWithTimeMonth.product_atc_code\n",
    "waitTimeValues = tsWithTimeMonth.wait_time\n",
    "\n",
    "tsFinal = pd.concat([tsWithTimeMonth,pd.get_dummies(atcCodeValues),pd.get_dummies(waitTimeValues)],axis='columns').drop(['product_atc_code','wait_time'],axis='columns')"
   ]
  },
  {
   "source": [
    "# Prédiction"
   ],
   "cell_type": "markdown",
   "metadata": {}
  },
  {
   "source": [
    "## Création des données d'entraînement/test"
   ],
   "cell_type": "markdown",
   "metadata": {}
  },
  {
   "cell_type": "code",
   "execution_count": 55,
   "metadata": {
    "tags": []
   },
   "outputs": [],
   "source": [
    "#yColumnNames = ['product_atc_code', 'wait_time']\n",
    "\n",
    "#xList,yList = [],[]\n",
    "#for i,_ in tsWithTimeMonth.groupby('person_id'):\n",
    "    # Mme ZERHAOUI a dit qu'il fallait transposer, je transpose\n",
    "    # Pour l'instant je retourne au model évident : une série temporel qui contient 4 éléments de n_features données, on verra après pour la trasposition\n",
    "#    currentSeriesX = tsFinal.loc[i]\n",
    "#    currentSeriesY = tsWithTimeMonth.loc[i]\n",
    "#    for j in range(0,len(currentSeriesX)-VISIT_NUMBER+1):\n",
    "#        xList.append(currentSeriesX[j:j+VISIT_NUMBER-1].to_numpy().astype('float32'))\n",
    "        #xList.append(currentSeries.to_numpy().astype('float32'))\n",
    "#        yList.append(currentSeriesY[yColumnNames].values[j+VISIT_NUMBER-1].astype('float32'))\n",
    "        #yList.append(currentSeries[yColumnNames].astype('float32'))\n",
    "\n",
    "#xData = np.array(xList).reshape((len(xList),xList[0].shape[0],xList[0].shape[1]))\n",
    "#yData = np.array(yList).reshape((len(yList),len(yColumnNames)))"
   ]
  },
  {
   "cell_type": "code",
   "execution_count": 56,
   "metadata": {},
   "outputs": [],
   "source": [
    "yColumnNames = ['product_atc_code', 'wait_time']\n",
    "xList,yList = [],[]\n",
    "for i,_ in tsWithTimeMonth.groupby('person_id'):\n",
    "    if(len(tsFinal.loc[i]) >= 5):\n",
    "        xList.append(tsFinal.loc[i][:5][:-1].to_numpy().astype('float32'))\n",
    "        yList.append(tsWithTimeMonth[yColumnNames].loc[i][:5][-1:].to_numpy().astype('float32'))"
   ]
  },
  {
   "cell_type": "code",
   "execution_count": 57,
   "metadata": {},
   "outputs": [],
   "source": [
    "xData = np.array(xList)\n",
    "yData = np.array(yList)\n",
    "\n",
    "xs = xData.shape\n",
    "ys = yData.shape\n",
    "\n",
    "xData = xData.reshape(xs[0],1,xs[1],xs[2])\n",
    "yData = yData.reshape(ys[0],ys[1],ys[2])"
   ]
  },
  {
   "cell_type": "code",
   "execution_count": 58,
   "metadata": {},
   "outputs": [
    {
     "output_type": "stream",
     "name": "stdout",
     "text": [
      "(3001, 1, 4, 43) --- (3001, 1, 2)\n"
     ]
    }
   ],
   "source": [
    "print(f\"{xData.shape} --- {yData.shape}\")"
   ]
  },
  {
   "cell_type": "code",
   "execution_count": 59,
   "metadata": {},
   "outputs": [],
   "source": [
    "l = len(xData) // 2\n",
    "xData1, yData1 = xData[:l], yData[:l]\n",
    "xData2, yData2 = xData[:-l], yData[:-l]"
   ]
  },
  {
   "cell_type": "code",
   "execution_count": 60,
   "metadata": {},
   "outputs": [
    {
     "output_type": "stream",
     "name": "stdout",
     "text": [
      "Train: (1000, 1, 4, 43) --- Test: (500, 1, 4, 43)\n"
     ]
    }
   ],
   "source": [
    "trainUse1 = int(len(xData1) * 2 / 3)\n",
    "testUse1 = len(xData1) - trainUse1\n",
    "\n",
    "xTrain1, xTest1, yTrain1, yTest1 = xData1[:trainUse1],xData1[-testUse1:],yData1[:trainUse1],yData1[-testUse1:]\n",
    "\n",
    "print(f\"Train: {xTrain1.shape} --- Test: {xTest1.shape}\")"
   ]
  },
  {
   "cell_type": "code",
   "execution_count": 61,
   "metadata": {},
   "outputs": [
    {
     "output_type": "stream",
     "name": "stdout",
     "text": [
      "[5, 6] | [1, 2, 3, 4]\n[8, 9] | [7]\n[10, 11] | []\n"
     ]
    }
   ],
   "source": [
    "#Cellule pour faire des tests et comprendre la syntaxe que j'ai utilisée après\n",
    "L = [[1,2,3,4,5,6],[7,8,9],[10,11]]\n",
    "for l in L:\n",
    "    # -2: permet d'avoir les deux derniers\n",
    "    # :le-2 permet d'avoir toutes les entrées sauf les deux dernières\n",
    "    print(f\"{l[-2:]} | {l[:-2]}\")"
   ]
  },
  {
   "cell_type": "code",
   "execution_count": 62,
   "metadata": {},
   "outputs": [
    {
     "output_type": "stream",
     "name": "stdout",
     "text": [
      "(1501, 1, 4, 43)     (1501, 1, 2)\n"
     ]
    }
   ],
   "source": [
    "print(xData2.shape, \"   \", yData2.shape)"
   ]
  },
  {
   "cell_type": "code",
   "execution_count": 63,
   "metadata": {},
   "outputs": [],
   "source": [
    "xTrain2, xTest2, yTrain2, yTest2 = xData2[:,:,:-2,:],xData2[:,:,-2:,:],yData2[:,:-2,:],yData2[:,-2:,:]"
   ]
  },
  {
   "cell_type": "code",
   "execution_count": 64,
   "metadata": {},
   "outputs": [
    {
     "output_type": "execute_result",
     "data": {
      "text/plain": [
       "(1501, 0, 2)"
      ]
     },
     "metadata": {},
     "execution_count": 64
    }
   ],
   "source": [
    "yTrain2.shape"
   ]
  },
  {
   "cell_type": "code",
   "execution_count": 65,
   "metadata": {},
   "outputs": [
    {
     "output_type": "execute_result",
     "data": {
      "text/plain": [
       "(1000, 1, 2)"
      ]
     },
     "metadata": {},
     "execution_count": 65
    }
   ],
   "source": [
    "yTrain1.shape"
   ]
  },
  {
   "source": [
    "## Création du modèle"
   ],
   "cell_type": "markdown",
   "metadata": {}
  },
  {
   "cell_type": "code",
   "execution_count": 98,
   "metadata": {},
   "outputs": [],
   "source": [
    "ATC_CODE = 0\n",
    "WAIT_TIME = 1\n",
    "toTrain = ATC_CODE"
   ]
  },
  {
   "cell_type": "code",
   "execution_count": 106,
   "metadata": {},
   "outputs": [],
   "source": [
    "model = models.Sequential()\n",
    "model.add(layers.Conv1D(filters=30,kernel_size=2,activation='relu',input_shape=xData.shape[-3:]))\n",
    "model.add(layers.Flatten())\n",
    "model.add(layers.Dense(units=32,activation='relu'))\n",
    "if toTrain == ATC_CODE:\n",
    "    model.add(layers.Dense(units=len(ATCEncoder.classes_),activation='softmax'))\n",
    "elif toTrain == WAIT_TIME:\n",
    "    model.add(layers.Dense(units=tsWithTimeMonth.wait_time.max()+1,activation='softmax'))"
   ]
  },
  {
   "cell_type": "code",
   "execution_count": 107,
   "metadata": {},
   "outputs": [
    {
     "output_type": "stream",
     "name": "stdout",
     "text": [
      "Model: \"sequential_7\"\n_________________________________________________________________\nLayer (type)                 Output Shape              Param #   \n=================================================================\nconv1d_14 (Conv1D)           (None, 1, 3, 30)          2610      \n_________________________________________________________________\nflatten_7 (Flatten)          (None, 90)                0         \n_________________________________________________________________\ndense_14 (Dense)             (None, 32)                2912      \n_________________________________________________________________\ndense_15 (Dense)             (None, 33)                1089      \n=================================================================\nTotal params: 6,611\nTrainable params: 6,611\nNon-trainable params: 0\n_________________________________________________________________\n"
     ]
    }
   ],
   "source": [
    "model.summary()"
   ]
  },
  {
   "cell_type": "code",
   "execution_count": 101,
   "metadata": {},
   "outputs": [],
   "source": [
    "model.compile(optimizer='adam',loss='sparse_categorical_crossentropy',metrics=['sparse_categorical_accuracy'])"
   ]
  },
  {
   "cell_type": "code",
   "execution_count": 102,
   "metadata": {},
   "outputs": [
    {
     "output_type": "stream",
     "name": "stdout",
     "text": [
      "Epoch 1/100\n",
      "32/32 [==============================] - 3s 48ms/step - loss: 145.2930 - sparse_categorical_accuracy: 0.0360 - val_loss: 7.0550 - val_sparse_categorical_accuracy: 0.0020\n",
      "Epoch 2/100\n",
      "32/32 [==============================] - 0s 11ms/step - loss: 4.2065 - sparse_categorical_accuracy: 0.0902 - val_loss: 3.4576 - val_sparse_categorical_accuracy: 0.2260\n",
      "Epoch 3/100\n",
      "32/32 [==============================] - 0s 15ms/step - loss: 3.4506 - sparse_categorical_accuracy: 0.1848 - val_loss: 3.4299 - val_sparse_categorical_accuracy: 0.2260\n",
      "Epoch 4/100\n",
      "32/32 [==============================] - 0s 13ms/step - loss: 3.4243 - sparse_categorical_accuracy: 0.2155 - val_loss: 3.4032 - val_sparse_categorical_accuracy: 0.2260\n",
      "Epoch 5/100\n",
      "32/32 [==============================] - 0s 10ms/step - loss: 3.3946 - sparse_categorical_accuracy: 0.1920 - val_loss: 3.3770 - val_sparse_categorical_accuracy: 0.2260\n",
      "Epoch 6/100\n",
      "32/32 [==============================] - 0s 12ms/step - loss: 3.3691 - sparse_categorical_accuracy: 0.1966 - val_loss: 3.3517 - val_sparse_categorical_accuracy: 0.2260\n",
      "Epoch 7/100\n",
      "32/32 [==============================] - 0s 13ms/step - loss: 3.3432 - sparse_categorical_accuracy: 0.2044 - val_loss: 3.3269 - val_sparse_categorical_accuracy: 0.2260\n",
      "Epoch 8/100\n",
      "32/32 [==============================] - 0s 12ms/step - loss: 3.3228 - sparse_categorical_accuracy: 0.1870 - val_loss: 3.3025 - val_sparse_categorical_accuracy: 0.2260\n",
      "Epoch 9/100\n",
      "32/32 [==============================] - 0s 10ms/step - loss: 3.2955 - sparse_categorical_accuracy: 0.2069 - val_loss: 3.2786 - val_sparse_categorical_accuracy: 0.2260\n",
      "Epoch 10/100\n",
      "32/32 [==============================] - 0s 11ms/step - loss: 3.2674 - sparse_categorical_accuracy: 0.2096 - val_loss: 3.2552 - val_sparse_categorical_accuracy: 0.2260\n",
      "Epoch 11/100\n",
      "32/32 [==============================] - 0s 13ms/step - loss: 3.2484 - sparse_categorical_accuracy: 0.1713 - val_loss: 3.2323 - val_sparse_categorical_accuracy: 0.2260\n",
      "Epoch 12/100\n",
      "32/32 [==============================] - 0s 9ms/step - loss: 3.2228 - sparse_categorical_accuracy: 0.1920 - val_loss: 3.2098 - val_sparse_categorical_accuracy: 0.2260\n",
      "Epoch 13/100\n",
      "32/32 [==============================] - 0s 14ms/step - loss: 3.2021 - sparse_categorical_accuracy: 0.1910 - val_loss: 3.1880 - val_sparse_categorical_accuracy: 0.2260\n",
      "Epoch 14/100\n",
      "32/32 [==============================] - 0s 11ms/step - loss: 3.1858 - sparse_categorical_accuracy: 0.1836 - val_loss: 3.1666 - val_sparse_categorical_accuracy: 0.2260\n",
      "Epoch 15/100\n",
      "32/32 [==============================] - 0s 12ms/step - loss: 3.1754 - sparse_categorical_accuracy: 0.1773 - val_loss: 3.1461 - val_sparse_categorical_accuracy: 0.2260\n",
      "Epoch 16/100\n",
      "32/32 [==============================] - 0s 15ms/step - loss: 3.1366 - sparse_categorical_accuracy: 0.2056 - val_loss: 3.1253 - val_sparse_categorical_accuracy: 0.2260\n",
      "Epoch 17/100\n",
      "32/32 [==============================] - 0s 11ms/step - loss: 3.1112 - sparse_categorical_accuracy: 0.2065 - val_loss: 3.1052 - val_sparse_categorical_accuracy: 0.2260\n",
      "Epoch 18/100\n",
      "32/32 [==============================] - 0s 14ms/step - loss: 3.0943 - sparse_categorical_accuracy: 0.1789 - val_loss: 3.0858 - val_sparse_categorical_accuracy: 0.2260\n",
      "Epoch 19/100\n",
      "32/32 [==============================] - 0s 11ms/step - loss: 3.0739 - sparse_categorical_accuracy: 0.1990 - val_loss: 3.0670 - val_sparse_categorical_accuracy: 0.2260\n",
      "Epoch 20/100\n",
      "32/32 [==============================] - 0s 13ms/step - loss: 3.0556 - sparse_categorical_accuracy: 0.1909 - val_loss: 3.0490 - val_sparse_categorical_accuracy: 0.2260\n",
      "Epoch 21/100\n",
      "32/32 [==============================] - 0s 10ms/step - loss: 3.0277 - sparse_categorical_accuracy: 0.2194 - val_loss: 3.0311 - val_sparse_categorical_accuracy: 0.2260\n",
      "Epoch 22/100\n",
      "32/32 [==============================] - 0s 15ms/step - loss: 3.0183 - sparse_categorical_accuracy: 0.2102 - val_loss: 3.0144 - val_sparse_categorical_accuracy: 0.2260\n",
      "Epoch 23/100\n",
      "32/32 [==============================] - 0s 14ms/step - loss: 2.9951 - sparse_categorical_accuracy: 0.1875 - val_loss: 2.9975 - val_sparse_categorical_accuracy: 0.2260\n",
      "Epoch 24/100\n",
      "32/32 [==============================] - 1s 18ms/step - loss: 2.9889 - sparse_categorical_accuracy: 0.1820 - val_loss: 2.9809 - val_sparse_categorical_accuracy: 0.2260\n",
      "Epoch 25/100\n",
      "32/32 [==============================] - 1s 44ms/step - loss: 2.9643 - sparse_categorical_accuracy: 0.2056 - val_loss: 2.9650 - val_sparse_categorical_accuracy: 0.2260\n",
      "Epoch 26/100\n",
      "32/32 [==============================] - 1s 17ms/step - loss: 2.9584 - sparse_categorical_accuracy: 0.1885 - val_loss: 2.9500 - val_sparse_categorical_accuracy: 0.2260\n",
      "Epoch 27/100\n",
      "32/32 [==============================] - 0s 11ms/step - loss: 2.9143 - sparse_categorical_accuracy: 0.2102 - val_loss: 2.9348 - val_sparse_categorical_accuracy: 0.2260\n",
      "Epoch 28/100\n",
      "32/32 [==============================] - 0s 11ms/step - loss: 2.9356 - sparse_categorical_accuracy: 0.2085 - val_loss: 2.9209 - val_sparse_categorical_accuracy: 0.2260\n",
      "Epoch 29/100\n",
      "32/32 [==============================] - 0s 11ms/step - loss: 2.9189 - sparse_categorical_accuracy: 0.2120 - val_loss: 2.9069 - val_sparse_categorical_accuracy: 0.2260\n",
      "Epoch 30/100\n",
      "32/32 [==============================] - 0s 11ms/step - loss: 2.8772 - sparse_categorical_accuracy: 0.2337 - val_loss: 2.8931 - val_sparse_categorical_accuracy: 0.2260\n",
      "Epoch 31/100\n",
      "32/32 [==============================] - 0s 10ms/step - loss: 2.8779 - sparse_categorical_accuracy: 0.2051 - val_loss: 2.8803 - val_sparse_categorical_accuracy: 0.2260\n",
      "Epoch 32/100\n",
      "32/32 [==============================] - 0s 14ms/step - loss: 2.8915 - sparse_categorical_accuracy: 0.2048 - val_loss: 2.8679 - val_sparse_categorical_accuracy: 0.2260\n",
      "Epoch 33/100\n",
      "32/32 [==============================] - 0s 14ms/step - loss: 2.8611 - sparse_categorical_accuracy: 0.1842 - val_loss: 2.8556 - val_sparse_categorical_accuracy: 0.2260\n",
      "Epoch 34/100\n",
      "32/32 [==============================] - 0s 10ms/step - loss: 2.8436 - sparse_categorical_accuracy: 0.1777 - val_loss: 2.8439 - val_sparse_categorical_accuracy: 0.2260\n",
      "Epoch 35/100\n",
      "32/32 [==============================] - 0s 11ms/step - loss: 2.8447 - sparse_categorical_accuracy: 0.1997 - val_loss: 2.8323 - val_sparse_categorical_accuracy: 0.2260\n",
      "Epoch 36/100\n",
      "32/32 [==============================] - 0s 13ms/step - loss: 2.8151 - sparse_categorical_accuracy: 0.2079 - val_loss: 2.8212 - val_sparse_categorical_accuracy: 0.2260\n",
      "Epoch 37/100\n",
      "32/32 [==============================] - 0s 6ms/step - loss: 2.8046 - sparse_categorical_accuracy: 0.1830 - val_loss: 2.8107 - val_sparse_categorical_accuracy: 0.2260\n",
      "Epoch 38/100\n",
      "32/32 [==============================] - 0s 8ms/step - loss: 2.8430 - sparse_categorical_accuracy: 0.1690 - val_loss: 2.8006 - val_sparse_categorical_accuracy: 0.2260\n",
      "Epoch 39/100\n",
      "32/32 [==============================] - 0s 6ms/step - loss: 2.7804 - sparse_categorical_accuracy: 0.1997 - val_loss: 2.7906 - val_sparse_categorical_accuracy: 0.2260\n",
      "Epoch 40/100\n",
      "32/32 [==============================] - 0s 6ms/step - loss: 2.7675 - sparse_categorical_accuracy: 0.2063 - val_loss: 2.7813 - val_sparse_categorical_accuracy: 0.2260\n",
      "Epoch 41/100\n",
      "32/32 [==============================] - 0s 7ms/step - loss: 2.7788 - sparse_categorical_accuracy: 0.1900 - val_loss: 2.7725 - val_sparse_categorical_accuracy: 0.2260\n",
      "Epoch 42/100\n",
      "32/32 [==============================] - 0s 13ms/step - loss: 2.7597 - sparse_categorical_accuracy: 0.1925 - val_loss: 2.7636 - val_sparse_categorical_accuracy: 0.2260\n",
      "Epoch 43/100\n",
      "32/32 [==============================] - 0s 8ms/step - loss: 2.7571 - sparse_categorical_accuracy: 0.2149 - val_loss: 2.7548 - val_sparse_categorical_accuracy: 0.2260\n",
      "Epoch 44/100\n",
      "32/32 [==============================] - 0s 6ms/step - loss: 2.7451 - sparse_categorical_accuracy: 0.1983 - val_loss: 2.7469 - val_sparse_categorical_accuracy: 0.2260\n",
      "Epoch 45/100\n",
      "32/32 [==============================] - 0s 15ms/step - loss: 2.7254 - sparse_categorical_accuracy: 0.2052 - val_loss: 2.7391 - val_sparse_categorical_accuracy: 0.2260\n",
      "Epoch 46/100\n",
      "32/32 [==============================] - 0s 8ms/step - loss: 2.7047 - sparse_categorical_accuracy: 0.2003 - val_loss: 2.7316 - val_sparse_categorical_accuracy: 0.2260\n",
      "Epoch 47/100\n",
      "32/32 [==============================] - 0s 8ms/step - loss: 2.6921 - sparse_categorical_accuracy: 0.2375 - val_loss: 2.7240 - val_sparse_categorical_accuracy: 0.2260\n",
      "Epoch 48/100\n",
      "32/32 [==============================] - 0s 12ms/step - loss: 2.7190 - sparse_categorical_accuracy: 0.1886 - val_loss: 2.7173 - val_sparse_categorical_accuracy: 0.2260\n",
      "Epoch 49/100\n",
      "32/32 [==============================] - 0s 12ms/step - loss: 2.6895 - sparse_categorical_accuracy: 0.2122 - val_loss: 2.7104 - val_sparse_categorical_accuracy: 0.2260\n",
      "Epoch 50/100\n",
      "32/32 [==============================] - 0s 9ms/step - loss: 2.6990 - sparse_categorical_accuracy: 0.2120 - val_loss: 2.7041 - val_sparse_categorical_accuracy: 0.2260\n",
      "Epoch 51/100\n",
      "32/32 [==============================] - 0s 12ms/step - loss: 2.6610 - sparse_categorical_accuracy: 0.2036 - val_loss: 2.6978 - val_sparse_categorical_accuracy: 0.2260\n",
      "Epoch 52/100\n",
      "32/32 [==============================] - 0s 11ms/step - loss: 2.6953 - sparse_categorical_accuracy: 0.2019 - val_loss: 2.6919 - val_sparse_categorical_accuracy: 0.2260\n",
      "Epoch 53/100\n",
      "32/32 [==============================] - 0s 12ms/step - loss: 2.6591 - sparse_categorical_accuracy: 0.1987 - val_loss: 2.6861 - val_sparse_categorical_accuracy: 0.2260\n",
      "Epoch 54/100\n",
      "32/32 [==============================] - 0s 9ms/step - loss: 2.7062 - sparse_categorical_accuracy: 0.2007 - val_loss: 2.6809 - val_sparse_categorical_accuracy: 0.2260\n",
      "Epoch 55/100\n",
      "32/32 [==============================] - 0s 12ms/step - loss: 2.6638 - sparse_categorical_accuracy: 0.1906 - val_loss: 2.6755 - val_sparse_categorical_accuracy: 0.2260\n",
      "Epoch 56/100\n",
      "32/32 [==============================] - 0s 8ms/step - loss: 2.6542 - sparse_categorical_accuracy: 0.1907 - val_loss: 2.6703 - val_sparse_categorical_accuracy: 0.2260\n",
      "Epoch 57/100\n",
      "32/32 [==============================] - 0s 9ms/step - loss: 2.6394 - sparse_categorical_accuracy: 0.1927 - val_loss: 2.6654 - val_sparse_categorical_accuracy: 0.2260\n",
      "Epoch 58/100\n",
      "32/32 [==============================] - 0s 9ms/step - loss: 2.6353 - sparse_categorical_accuracy: 0.2108 - val_loss: 2.6603 - val_sparse_categorical_accuracy: 0.2260\n",
      "Epoch 59/100\n",
      "32/32 [==============================] - 0s 9ms/step - loss: 2.6819 - sparse_categorical_accuracy: 0.1871 - val_loss: 2.6560 - val_sparse_categorical_accuracy: 0.2260\n",
      "Epoch 60/100\n",
      "32/32 [==============================] - 0s 12ms/step - loss: 2.6493 - sparse_categorical_accuracy: 0.1925 - val_loss: 2.6517 - val_sparse_categorical_accuracy: 0.2260\n",
      "Epoch 61/100\n",
      "32/32 [==============================] - 0s 9ms/step - loss: 2.6366 - sparse_categorical_accuracy: 0.2086 - val_loss: 2.6473 - val_sparse_categorical_accuracy: 0.2260\n",
      "Epoch 62/100\n",
      "32/32 [==============================] - 0s 12ms/step - loss: 2.6273 - sparse_categorical_accuracy: 0.1953 - val_loss: 2.6432 - val_sparse_categorical_accuracy: 0.2260\n",
      "Epoch 63/100\n",
      "32/32 [==============================] - 0s 9ms/step - loss: 2.6252 - sparse_categorical_accuracy: 0.2062 - val_loss: 2.6397 - val_sparse_categorical_accuracy: 0.2260\n",
      "Epoch 64/100\n",
      "32/32 [==============================] - 0s 12ms/step - loss: 2.5916 - sparse_categorical_accuracy: 0.2134 - val_loss: 2.6358 - val_sparse_categorical_accuracy: 0.2260\n",
      "Epoch 65/100\n",
      "32/32 [==============================] - 1s 16ms/step - loss: 2.6258 - sparse_categorical_accuracy: 0.1968 - val_loss: 2.6324 - val_sparse_categorical_accuracy: 0.2260\n",
      "Epoch 66/100\n",
      "32/32 [==============================] - 0s 8ms/step - loss: 2.6516 - sparse_categorical_accuracy: 0.1818 - val_loss: 2.6292 - val_sparse_categorical_accuracy: 0.2260\n",
      "Epoch 67/100\n",
      "32/32 [==============================] - 0s 8ms/step - loss: 2.6162 - sparse_categorical_accuracy: 0.2024 - val_loss: 2.6255 - val_sparse_categorical_accuracy: 0.2260\n",
      "Epoch 68/100\n",
      "32/32 [==============================] - 0s 11ms/step - loss: 2.6188 - sparse_categorical_accuracy: 0.1996 - val_loss: 2.6227 - val_sparse_categorical_accuracy: 0.2260\n",
      "Epoch 69/100\n",
      "32/32 [==============================] - 0s 9ms/step - loss: 2.6310 - sparse_categorical_accuracy: 0.1926 - val_loss: 2.6200 - val_sparse_categorical_accuracy: 0.2260\n",
      "Epoch 70/100\n",
      "32/32 [==============================] - 0s 10ms/step - loss: 2.6635 - sparse_categorical_accuracy: 0.1838 - val_loss: 2.6170 - val_sparse_categorical_accuracy: 0.2260\n",
      "Epoch 71/100\n",
      "32/32 [==============================] - 0s 9ms/step - loss: 2.6407 - sparse_categorical_accuracy: 0.1870 - val_loss: 2.6142 - val_sparse_categorical_accuracy: 0.2260\n",
      "Epoch 72/100\n",
      "32/32 [==============================] - 0s 8ms/step - loss: 2.6247 - sparse_categorical_accuracy: 0.1729 - val_loss: 2.6116 - val_sparse_categorical_accuracy: 0.2260\n",
      "Epoch 73/100\n",
      "32/32 [==============================] - 0s 11ms/step - loss: 2.6118 - sparse_categorical_accuracy: 0.1983 - val_loss: 2.6089 - val_sparse_categorical_accuracy: 0.2260\n",
      "Epoch 74/100\n",
      "32/32 [==============================] - 0s 9ms/step - loss: 2.5772 - sparse_categorical_accuracy: 0.2101 - val_loss: 2.6061 - val_sparse_categorical_accuracy: 0.2260\n",
      "Epoch 75/100\n",
      "32/32 [==============================] - 0s 9ms/step - loss: 2.5875 - sparse_categorical_accuracy: 0.1998 - val_loss: 2.6038 - val_sparse_categorical_accuracy: 0.2260\n",
      "Epoch 76/100\n",
      "32/32 [==============================] - 0s 11ms/step - loss: 2.5699 - sparse_categorical_accuracy: 0.2044 - val_loss: 2.6015 - val_sparse_categorical_accuracy: 0.2260\n",
      "Epoch 77/100\n",
      "32/32 [==============================] - 0s 10ms/step - loss: 2.5576 - sparse_categorical_accuracy: 0.2028 - val_loss: 2.5993 - val_sparse_categorical_accuracy: 0.2260\n",
      "Epoch 78/100\n",
      "32/32 [==============================] - 0s 9ms/step - loss: 2.5874 - sparse_categorical_accuracy: 0.2045 - val_loss: 2.5968 - val_sparse_categorical_accuracy: 0.2260\n",
      "Epoch 79/100\n",
      "32/32 [==============================] - 0s 8ms/step - loss: 2.6014 - sparse_categorical_accuracy: 0.2211 - val_loss: 2.5949 - val_sparse_categorical_accuracy: 0.2260\n",
      "Epoch 80/100\n",
      "32/32 [==============================] - 0s 7ms/step - loss: 2.6173 - sparse_categorical_accuracy: 0.1847 - val_loss: 2.5932 - val_sparse_categorical_accuracy: 0.2260\n",
      "Epoch 81/100\n",
      "32/32 [==============================] - 0s 8ms/step - loss: 2.5502 - sparse_categorical_accuracy: 0.1757 - val_loss: 2.5911 - val_sparse_categorical_accuracy: 0.2260\n",
      "Epoch 82/100\n",
      "32/32 [==============================] - 0s 9ms/step - loss: 2.6002 - sparse_categorical_accuracy: 0.1763 - val_loss: 2.5895 - val_sparse_categorical_accuracy: 0.2260\n",
      "Epoch 83/100\n",
      "32/32 [==============================] - 0s 11ms/step - loss: 2.5982 - sparse_categorical_accuracy: 0.1909 - val_loss: 2.5878 - val_sparse_categorical_accuracy: 0.2260\n",
      "Epoch 84/100\n",
      "32/32 [==============================] - 0s 7ms/step - loss: 2.5966 - sparse_categorical_accuracy: 0.2020 - val_loss: 2.5863 - val_sparse_categorical_accuracy: 0.2260\n",
      "Epoch 85/100\n",
      "32/32 [==============================] - 0s 9ms/step - loss: 2.5991 - sparse_categorical_accuracy: 0.1973 - val_loss: 2.5847 - val_sparse_categorical_accuracy: 0.2260\n",
      "Epoch 86/100\n",
      "32/32 [==============================] - 0s 9ms/step - loss: 2.5986 - sparse_categorical_accuracy: 0.1873 - val_loss: 2.5830 - val_sparse_categorical_accuracy: 0.2260\n",
      "Epoch 87/100\n",
      "32/32 [==============================] - 0s 10ms/step - loss: 2.5628 - sparse_categorical_accuracy: 0.1903 - val_loss: 2.5817 - val_sparse_categorical_accuracy: 0.2260\n",
      "Epoch 88/100\n",
      "32/32 [==============================] - 0s 10ms/step - loss: 2.5676 - sparse_categorical_accuracy: 0.2005 - val_loss: 2.5802 - val_sparse_categorical_accuracy: 0.2260\n",
      "Epoch 89/100\n",
      "32/32 [==============================] - 0s 8ms/step - loss: 2.5719 - sparse_categorical_accuracy: 0.2067 - val_loss: 2.5789 - val_sparse_categorical_accuracy: 0.2260\n",
      "Epoch 90/100\n",
      "32/32 [==============================] - 0s 11ms/step - loss: 2.5625 - sparse_categorical_accuracy: 0.2140 - val_loss: 2.5774 - val_sparse_categorical_accuracy: 0.2260\n",
      "Epoch 91/100\n",
      "32/32 [==============================] - 0s 8ms/step - loss: 2.5863 - sparse_categorical_accuracy: 0.1874 - val_loss: 2.5765 - val_sparse_categorical_accuracy: 0.2260\n",
      "Epoch 92/100\n",
      "32/32 [==============================] - 0s 8ms/step - loss: 2.5817 - sparse_categorical_accuracy: 0.1824 - val_loss: 2.5754 - val_sparse_categorical_accuracy: 0.2260\n",
      "Epoch 93/100\n",
      "32/32 [==============================] - 0s 8ms/step - loss: 2.5547 - sparse_categorical_accuracy: 0.2301 - val_loss: 2.5738 - val_sparse_categorical_accuracy: 0.2260\n",
      "Epoch 94/100\n",
      "32/32 [==============================] - 0s 9ms/step - loss: 2.5481 - sparse_categorical_accuracy: 0.2118 - val_loss: 2.5729 - val_sparse_categorical_accuracy: 0.2260\n",
      "Epoch 95/100\n",
      "32/32 [==============================] - 0s 8ms/step - loss: 2.5853 - sparse_categorical_accuracy: 0.1912 - val_loss: 2.5719 - val_sparse_categorical_accuracy: 0.2260\n",
      "Epoch 96/100\n",
      "32/32 [==============================] - 0s 8ms/step - loss: 2.5655 - sparse_categorical_accuracy: 0.1930 - val_loss: 2.5705 - val_sparse_categorical_accuracy: 0.2260\n",
      "Epoch 97/100\n",
      "32/32 [==============================] - 0s 8ms/step - loss: 2.5666 - sparse_categorical_accuracy: 0.2040 - val_loss: 2.5693 - val_sparse_categorical_accuracy: 0.2260\n",
      "Epoch 98/100\n",
      "32/32 [==============================] - 0s 7ms/step - loss: 2.5548 - sparse_categorical_accuracy: 0.2007 - val_loss: 2.5684 - val_sparse_categorical_accuracy: 0.2260\n",
      "Epoch 99/100\n",
      "32/32 [==============================] - 0s 8ms/step - loss: 2.5857 - sparse_categorical_accuracy: 0.1882 - val_loss: 2.5674 - val_sparse_categorical_accuracy: 0.2260\n",
      "Epoch 100/100\n",
      "32/32 [==============================] - 0s 9ms/step - loss: 2.5924 - sparse_categorical_accuracy: 0.1992 - val_loss: 2.5663 - val_sparse_categorical_accuracy: 0.2260\n"
     ]
    }
   ],
   "source": [
    "history = model.fit(xTrain1,yTrain1[:,:,toTrain],epochs=100,validation_data=(xTest1,yTest1[:,:,toTrain]))\n",
    "#history = model.fit(xTrain2,yTrain2[:,:,toTrain],epochs=30,validation_data=(xTest2,yTest2[:,:,toTrain]))"
   ]
  },
  {
   "cell_type": "code",
   "execution_count": 103,
   "metadata": {},
   "outputs": [
    {
     "output_type": "display_data",
     "data": {
      "text/plain": "<Figure size 936x288 with 2 Axes>",
      "image/svg+xml": "<?xml version=\"1.0\" encoding=\"utf-8\" standalone=\"no\"?>\n<!DOCTYPE svg PUBLIC \"-//W3C//DTD SVG 1.1//EN\"\n  \"http://www.w3.org/Graphics/SVG/1.1/DTD/svg11.dtd\">\n<!-- Created with matplotlib (https://matplotlib.org/) -->\n<svg height=\"262.19625pt\" version=\"1.1\" viewBox=\"0 0 773.203125 262.19625\" width=\"773.203125pt\" xmlns=\"http://www.w3.org/2000/svg\" xmlns:xlink=\"http://www.w3.org/1999/xlink\">\n <defs>\n  <style type=\"text/css\">\n*{stroke-linecap:butt;stroke-linejoin:round;}\n  </style>\n </defs>\n <g id=\"figure_1\">\n  <g id=\"patch_1\">\n   <path d=\"M 0 262.19625 \nL 773.203125 262.19625 \nL 773.203125 0 \nL 0 0 \nz\n\" style=\"fill:none;\"/>\n  </g>\n  <g id=\"axes_1\">\n   <g id=\"patch_2\">\n    <path d=\"M 40.603125 224.64 \nL 370.330398 224.64 \nL 370.330398 7.2 \nL 40.603125 7.2 \nz\n\" style=\"fill:#ffffff;\"/>\n   </g>\n   <g id=\"matplotlib.axis_1\">\n    <g id=\"xtick_1\">\n     <g id=\"line2d_1\">\n      <defs>\n       <path d=\"M 0 0 \nL 0 3.5 \n\" id=\"ma698573148\" style=\"stroke:#000000;stroke-width:0.8;\"/>\n      </defs>\n      <g>\n       <use style=\"stroke:#000000;stroke-width:0.8;\" x=\"52.56293\" xlink:href=\"#ma698573148\" y=\"224.64\"/>\n      </g>\n     </g>\n     <g id=\"text_1\">\n      <!-- 0 -->\n      <defs>\n       <path d=\"M 31.78125 66.40625 \nQ 24.171875 66.40625 20.328125 58.90625 \nQ 16.5 51.421875 16.5 36.375 \nQ 16.5 21.390625 20.328125 13.890625 \nQ 24.171875 6.390625 31.78125 6.390625 \nQ 39.453125 6.390625 43.28125 13.890625 \nQ 47.125 21.390625 47.125 36.375 \nQ 47.125 51.421875 43.28125 58.90625 \nQ 39.453125 66.40625 31.78125 66.40625 \nz\nM 31.78125 74.21875 \nQ 44.046875 74.21875 50.515625 64.515625 \nQ 56.984375 54.828125 56.984375 36.375 \nQ 56.984375 17.96875 50.515625 8.265625 \nQ 44.046875 -1.421875 31.78125 -1.421875 \nQ 19.53125 -1.421875 13.0625 8.265625 \nQ 6.59375 17.96875 6.59375 36.375 \nQ 6.59375 54.828125 13.0625 64.515625 \nQ 19.53125 74.21875 31.78125 74.21875 \nz\n\" id=\"DejaVuSans-48\"/>\n      </defs>\n      <g transform=\"translate(49.38168 239.238437)scale(0.1 -0.1)\">\n       <use xlink:href=\"#DejaVuSans-48\"/>\n      </g>\n     </g>\n    </g>\n    <g id=\"xtick_2\">\n     <g id=\"line2d_2\">\n      <g>\n       <use style=\"stroke:#000000;stroke-width:0.8;\" x=\"113.118903\" xlink:href=\"#ma698573148\" y=\"224.64\"/>\n      </g>\n     </g>\n     <g id=\"text_2\">\n      <!-- 20 -->\n      <defs>\n       <path d=\"M 19.1875 8.296875 \nL 53.609375 8.296875 \nL 53.609375 0 \nL 7.328125 0 \nL 7.328125 8.296875 \nQ 12.9375 14.109375 22.625 23.890625 \nQ 32.328125 33.6875 34.8125 36.53125 \nQ 39.546875 41.84375 41.421875 45.53125 \nQ 43.3125 49.21875 43.3125 52.78125 \nQ 43.3125 58.59375 39.234375 62.25 \nQ 35.15625 65.921875 28.609375 65.921875 \nQ 23.96875 65.921875 18.8125 64.3125 \nQ 13.671875 62.703125 7.8125 59.421875 \nL 7.8125 69.390625 \nQ 13.765625 71.78125 18.9375 73 \nQ 24.125 74.21875 28.421875 74.21875 \nQ 39.75 74.21875 46.484375 68.546875 \nQ 53.21875 62.890625 53.21875 53.421875 \nQ 53.21875 48.921875 51.53125 44.890625 \nQ 49.859375 40.875 45.40625 35.40625 \nQ 44.1875 33.984375 37.640625 27.21875 \nQ 31.109375 20.453125 19.1875 8.296875 \nz\n\" id=\"DejaVuSans-50\"/>\n      </defs>\n      <g transform=\"translate(106.756403 239.238437)scale(0.1 -0.1)\">\n       <use xlink:href=\"#DejaVuSans-50\"/>\n       <use x=\"63.623047\" xlink:href=\"#DejaVuSans-48\"/>\n      </g>\n     </g>\n    </g>\n    <g id=\"xtick_3\">\n     <g id=\"line2d_3\">\n      <g>\n       <use style=\"stroke:#000000;stroke-width:0.8;\" x=\"173.674876\" xlink:href=\"#ma698573148\" y=\"224.64\"/>\n      </g>\n     </g>\n     <g id=\"text_3\">\n      <!-- 40 -->\n      <defs>\n       <path d=\"M 37.796875 64.3125 \nL 12.890625 25.390625 \nL 37.796875 25.390625 \nz\nM 35.203125 72.90625 \nL 47.609375 72.90625 \nL 47.609375 25.390625 \nL 58.015625 25.390625 \nL 58.015625 17.1875 \nL 47.609375 17.1875 \nL 47.609375 0 \nL 37.796875 0 \nL 37.796875 17.1875 \nL 4.890625 17.1875 \nL 4.890625 26.703125 \nz\n\" id=\"DejaVuSans-52\"/>\n      </defs>\n      <g transform=\"translate(167.312376 239.238437)scale(0.1 -0.1)\">\n       <use xlink:href=\"#DejaVuSans-52\"/>\n       <use x=\"63.623047\" xlink:href=\"#DejaVuSans-48\"/>\n      </g>\n     </g>\n    </g>\n    <g id=\"xtick_4\">\n     <g id=\"line2d_4\">\n      <g>\n       <use style=\"stroke:#000000;stroke-width:0.8;\" x=\"234.230849\" xlink:href=\"#ma698573148\" y=\"224.64\"/>\n      </g>\n     </g>\n     <g id=\"text_4\">\n      <!-- 60 -->\n      <defs>\n       <path d=\"M 33.015625 40.375 \nQ 26.375 40.375 22.484375 35.828125 \nQ 18.609375 31.296875 18.609375 23.390625 \nQ 18.609375 15.53125 22.484375 10.953125 \nQ 26.375 6.390625 33.015625 6.390625 \nQ 39.65625 6.390625 43.53125 10.953125 \nQ 47.40625 15.53125 47.40625 23.390625 \nQ 47.40625 31.296875 43.53125 35.828125 \nQ 39.65625 40.375 33.015625 40.375 \nz\nM 52.59375 71.296875 \nL 52.59375 62.3125 \nQ 48.875 64.0625 45.09375 64.984375 \nQ 41.3125 65.921875 37.59375 65.921875 \nQ 27.828125 65.921875 22.671875 59.328125 \nQ 17.53125 52.734375 16.796875 39.40625 \nQ 19.671875 43.65625 24.015625 45.921875 \nQ 28.375 48.1875 33.59375 48.1875 \nQ 44.578125 48.1875 50.953125 41.515625 \nQ 57.328125 34.859375 57.328125 23.390625 \nQ 57.328125 12.15625 50.6875 5.359375 \nQ 44.046875 -1.421875 33.015625 -1.421875 \nQ 20.359375 -1.421875 13.671875 8.265625 \nQ 6.984375 17.96875 6.984375 36.375 \nQ 6.984375 53.65625 15.1875 63.9375 \nQ 23.390625 74.21875 37.203125 74.21875 \nQ 40.921875 74.21875 44.703125 73.484375 \nQ 48.484375 72.75 52.59375 71.296875 \nz\n\" id=\"DejaVuSans-54\"/>\n      </defs>\n      <g transform=\"translate(227.868349 239.238437)scale(0.1 -0.1)\">\n       <use xlink:href=\"#DejaVuSans-54\"/>\n       <use x=\"63.623047\" xlink:href=\"#DejaVuSans-48\"/>\n      </g>\n     </g>\n    </g>\n    <g id=\"xtick_5\">\n     <g id=\"line2d_5\">\n      <g>\n       <use style=\"stroke:#000000;stroke-width:0.8;\" x=\"294.786821\" xlink:href=\"#ma698573148\" y=\"224.64\"/>\n      </g>\n     </g>\n     <g id=\"text_5\">\n      <!-- 80 -->\n      <defs>\n       <path d=\"M 31.78125 34.625 \nQ 24.75 34.625 20.71875 30.859375 \nQ 16.703125 27.09375 16.703125 20.515625 \nQ 16.703125 13.921875 20.71875 10.15625 \nQ 24.75 6.390625 31.78125 6.390625 \nQ 38.8125 6.390625 42.859375 10.171875 \nQ 46.921875 13.96875 46.921875 20.515625 \nQ 46.921875 27.09375 42.890625 30.859375 \nQ 38.875 34.625 31.78125 34.625 \nz\nM 21.921875 38.8125 \nQ 15.578125 40.375 12.03125 44.71875 \nQ 8.5 49.078125 8.5 55.328125 \nQ 8.5 64.0625 14.71875 69.140625 \nQ 20.953125 74.21875 31.78125 74.21875 \nQ 42.671875 74.21875 48.875 69.140625 \nQ 55.078125 64.0625 55.078125 55.328125 \nQ 55.078125 49.078125 51.53125 44.71875 \nQ 48 40.375 41.703125 38.8125 \nQ 48.828125 37.15625 52.796875 32.3125 \nQ 56.78125 27.484375 56.78125 20.515625 \nQ 56.78125 9.90625 50.3125 4.234375 \nQ 43.84375 -1.421875 31.78125 -1.421875 \nQ 19.734375 -1.421875 13.25 4.234375 \nQ 6.78125 9.90625 6.78125 20.515625 \nQ 6.78125 27.484375 10.78125 32.3125 \nQ 14.796875 37.15625 21.921875 38.8125 \nz\nM 18.3125 54.390625 \nQ 18.3125 48.734375 21.84375 45.5625 \nQ 25.390625 42.390625 31.78125 42.390625 \nQ 38.140625 42.390625 41.71875 45.5625 \nQ 45.3125 48.734375 45.3125 54.390625 \nQ 45.3125 60.0625 41.71875 63.234375 \nQ 38.140625 66.40625 31.78125 66.40625 \nQ 25.390625 66.40625 21.84375 63.234375 \nQ 18.3125 60.0625 18.3125 54.390625 \nz\n\" id=\"DejaVuSans-56\"/>\n      </defs>\n      <g transform=\"translate(288.424321 239.238437)scale(0.1 -0.1)\">\n       <use xlink:href=\"#DejaVuSans-56\"/>\n       <use x=\"63.623047\" xlink:href=\"#DejaVuSans-48\"/>\n      </g>\n     </g>\n    </g>\n    <g id=\"xtick_6\">\n     <g id=\"line2d_6\">\n      <g>\n       <use style=\"stroke:#000000;stroke-width:0.8;\" x=\"355.342794\" xlink:href=\"#ma698573148\" y=\"224.64\"/>\n      </g>\n     </g>\n     <g id=\"text_6\">\n      <!-- 100 -->\n      <defs>\n       <path d=\"M 12.40625 8.296875 \nL 28.515625 8.296875 \nL 28.515625 63.921875 \nL 10.984375 60.40625 \nL 10.984375 69.390625 \nL 28.421875 72.90625 \nL 38.28125 72.90625 \nL 38.28125 8.296875 \nL 54.390625 8.296875 \nL 54.390625 0 \nL 12.40625 0 \nz\n\" id=\"DejaVuSans-49\"/>\n      </defs>\n      <g transform=\"translate(345.799044 239.238437)scale(0.1 -0.1)\">\n       <use xlink:href=\"#DejaVuSans-49\"/>\n       <use x=\"63.623047\" xlink:href=\"#DejaVuSans-48\"/>\n       <use x=\"127.246094\" xlink:href=\"#DejaVuSans-48\"/>\n      </g>\n     </g>\n    </g>\n    <g id=\"text_7\">\n     <!-- Epochs -->\n     <defs>\n      <path d=\"M 9.8125 72.90625 \nL 55.90625 72.90625 \nL 55.90625 64.59375 \nL 19.671875 64.59375 \nL 19.671875 43.015625 \nL 54.390625 43.015625 \nL 54.390625 34.71875 \nL 19.671875 34.71875 \nL 19.671875 8.296875 \nL 56.78125 8.296875 \nL 56.78125 0 \nL 9.8125 0 \nz\n\" id=\"DejaVuSans-69\"/>\n      <path d=\"M 18.109375 8.203125 \nL 18.109375 -20.796875 \nL 9.078125 -20.796875 \nL 9.078125 54.6875 \nL 18.109375 54.6875 \nL 18.109375 46.390625 \nQ 20.953125 51.265625 25.265625 53.625 \nQ 29.59375 56 35.59375 56 \nQ 45.5625 56 51.78125 48.09375 \nQ 58.015625 40.1875 58.015625 27.296875 \nQ 58.015625 14.40625 51.78125 6.484375 \nQ 45.5625 -1.421875 35.59375 -1.421875 \nQ 29.59375 -1.421875 25.265625 0.953125 \nQ 20.953125 3.328125 18.109375 8.203125 \nz\nM 48.6875 27.296875 \nQ 48.6875 37.203125 44.609375 42.84375 \nQ 40.53125 48.484375 33.40625 48.484375 \nQ 26.265625 48.484375 22.1875 42.84375 \nQ 18.109375 37.203125 18.109375 27.296875 \nQ 18.109375 17.390625 22.1875 11.75 \nQ 26.265625 6.109375 33.40625 6.109375 \nQ 40.53125 6.109375 44.609375 11.75 \nQ 48.6875 17.390625 48.6875 27.296875 \nz\n\" id=\"DejaVuSans-112\"/>\n      <path d=\"M 30.609375 48.390625 \nQ 23.390625 48.390625 19.1875 42.75 \nQ 14.984375 37.109375 14.984375 27.296875 \nQ 14.984375 17.484375 19.15625 11.84375 \nQ 23.34375 6.203125 30.609375 6.203125 \nQ 37.796875 6.203125 41.984375 11.859375 \nQ 46.1875 17.53125 46.1875 27.296875 \nQ 46.1875 37.015625 41.984375 42.703125 \nQ 37.796875 48.390625 30.609375 48.390625 \nz\nM 30.609375 56 \nQ 42.328125 56 49.015625 48.375 \nQ 55.71875 40.765625 55.71875 27.296875 \nQ 55.71875 13.875 49.015625 6.21875 \nQ 42.328125 -1.421875 30.609375 -1.421875 \nQ 18.84375 -1.421875 12.171875 6.21875 \nQ 5.515625 13.875 5.515625 27.296875 \nQ 5.515625 40.765625 12.171875 48.375 \nQ 18.84375 56 30.609375 56 \nz\n\" id=\"DejaVuSans-111\"/>\n      <path d=\"M 48.78125 52.59375 \nL 48.78125 44.1875 \nQ 44.96875 46.296875 41.140625 47.34375 \nQ 37.3125 48.390625 33.40625 48.390625 \nQ 24.65625 48.390625 19.8125 42.84375 \nQ 14.984375 37.3125 14.984375 27.296875 \nQ 14.984375 17.28125 19.8125 11.734375 \nQ 24.65625 6.203125 33.40625 6.203125 \nQ 37.3125 6.203125 41.140625 7.25 \nQ 44.96875 8.296875 48.78125 10.40625 \nL 48.78125 2.09375 \nQ 45.015625 0.34375 40.984375 -0.53125 \nQ 36.96875 -1.421875 32.421875 -1.421875 \nQ 20.0625 -1.421875 12.78125 6.34375 \nQ 5.515625 14.109375 5.515625 27.296875 \nQ 5.515625 40.671875 12.859375 48.328125 \nQ 20.21875 56 33.015625 56 \nQ 37.15625 56 41.109375 55.140625 \nQ 45.0625 54.296875 48.78125 52.59375 \nz\n\" id=\"DejaVuSans-99\"/>\n      <path d=\"M 54.890625 33.015625 \nL 54.890625 0 \nL 45.90625 0 \nL 45.90625 32.71875 \nQ 45.90625 40.484375 42.875 44.328125 \nQ 39.84375 48.1875 33.796875 48.1875 \nQ 26.515625 48.1875 22.3125 43.546875 \nQ 18.109375 38.921875 18.109375 30.90625 \nL 18.109375 0 \nL 9.078125 0 \nL 9.078125 75.984375 \nL 18.109375 75.984375 \nL 18.109375 46.1875 \nQ 21.34375 51.125 25.703125 53.5625 \nQ 30.078125 56 35.796875 56 \nQ 45.21875 56 50.046875 50.171875 \nQ 54.890625 44.34375 54.890625 33.015625 \nz\n\" id=\"DejaVuSans-104\"/>\n      <path d=\"M 44.28125 53.078125 \nL 44.28125 44.578125 \nQ 40.484375 46.53125 36.375 47.5 \nQ 32.28125 48.484375 27.875 48.484375 \nQ 21.1875 48.484375 17.84375 46.4375 \nQ 14.5 44.390625 14.5 40.28125 \nQ 14.5 37.15625 16.890625 35.375 \nQ 19.28125 33.59375 26.515625 31.984375 \nL 29.59375 31.296875 \nQ 39.15625 29.25 43.1875 25.515625 \nQ 47.21875 21.78125 47.21875 15.09375 \nQ 47.21875 7.46875 41.1875 3.015625 \nQ 35.15625 -1.421875 24.609375 -1.421875 \nQ 20.21875 -1.421875 15.453125 -0.5625 \nQ 10.6875 0.296875 5.421875 2 \nL 5.421875 11.28125 \nQ 10.40625 8.6875 15.234375 7.390625 \nQ 20.0625 6.109375 24.8125 6.109375 \nQ 31.15625 6.109375 34.5625 8.28125 \nQ 37.984375 10.453125 37.984375 14.40625 \nQ 37.984375 18.0625 35.515625 20.015625 \nQ 33.0625 21.96875 24.703125 23.78125 \nL 21.578125 24.515625 \nQ 13.234375 26.265625 9.515625 29.90625 \nQ 5.8125 33.546875 5.8125 39.890625 \nQ 5.8125 47.609375 11.28125 51.796875 \nQ 16.75 56 26.8125 56 \nQ 31.78125 56 36.171875 55.265625 \nQ 40.578125 54.546875 44.28125 53.078125 \nz\n\" id=\"DejaVuSans-115\"/>\n     </defs>\n     <g transform=\"translate(187.551136 252.916562)scale(0.1 -0.1)\">\n      <use xlink:href=\"#DejaVuSans-69\"/>\n      <use x=\"63.183594\" xlink:href=\"#DejaVuSans-112\"/>\n      <use x=\"126.660156\" xlink:href=\"#DejaVuSans-111\"/>\n      <use x=\"187.841797\" xlink:href=\"#DejaVuSans-99\"/>\n      <use x=\"242.822266\" xlink:href=\"#DejaVuSans-104\"/>\n      <use x=\"306.201172\" xlink:href=\"#DejaVuSans-115\"/>\n     </g>\n    </g>\n   </g>\n   <g id=\"matplotlib.axis_2\">\n    <g id=\"ytick_1\">\n     <g id=\"line2d_7\">\n      <defs>\n       <path d=\"M 0 0 \nL -3.5 0 \n\" id=\"m2e3e1e666b\" style=\"stroke:#000000;stroke-width:0.8;\"/>\n      </defs>\n      <g>\n       <use style=\"stroke:#000000;stroke-width:0.8;\" x=\"40.603125\" xlink:href=\"#m2e3e1e666b\" y=\"222.005315\"/>\n      </g>\n     </g>\n     <g id=\"text_8\">\n      <!-- 0 -->\n      <g transform=\"translate(27.240625 225.804534)scale(0.1 -0.1)\">\n       <use xlink:href=\"#DejaVuSans-48\"/>\n      </g>\n     </g>\n    </g>\n    <g id=\"ytick_2\">\n     <g id=\"line2d_8\">\n      <g>\n       <use style=\"stroke:#000000;stroke-width:0.8;\" x=\"40.603125\" xlink:href=\"#m2e3e1e666b\" y=\"193.639227\"/>\n      </g>\n     </g>\n     <g id=\"text_9\">\n      <!-- 10 -->\n      <g transform=\"translate(20.878125 197.438445)scale(0.1 -0.1)\">\n       <use xlink:href=\"#DejaVuSans-49\"/>\n       <use x=\"63.623047\" xlink:href=\"#DejaVuSans-48\"/>\n      </g>\n     </g>\n    </g>\n    <g id=\"ytick_3\">\n     <g id=\"line2d_9\">\n      <g>\n       <use style=\"stroke:#000000;stroke-width:0.8;\" x=\"40.603125\" xlink:href=\"#m2e3e1e666b\" y=\"165.273139\"/>\n      </g>\n     </g>\n     <g id=\"text_10\">\n      <!-- 20 -->\n      <g transform=\"translate(20.878125 169.072357)scale(0.1 -0.1)\">\n       <use xlink:href=\"#DejaVuSans-50\"/>\n       <use x=\"63.623047\" xlink:href=\"#DejaVuSans-48\"/>\n      </g>\n     </g>\n    </g>\n    <g id=\"ytick_4\">\n     <g id=\"line2d_10\">\n      <g>\n       <use style=\"stroke:#000000;stroke-width:0.8;\" x=\"40.603125\" xlink:href=\"#m2e3e1e666b\" y=\"136.907051\"/>\n      </g>\n     </g>\n     <g id=\"text_11\">\n      <!-- 30 -->\n      <defs>\n       <path d=\"M 40.578125 39.3125 \nQ 47.65625 37.796875 51.625 33 \nQ 55.609375 28.21875 55.609375 21.1875 \nQ 55.609375 10.40625 48.1875 4.484375 \nQ 40.765625 -1.421875 27.09375 -1.421875 \nQ 22.515625 -1.421875 17.65625 -0.515625 \nQ 12.796875 0.390625 7.625 2.203125 \nL 7.625 11.71875 \nQ 11.71875 9.328125 16.59375 8.109375 \nQ 21.484375 6.890625 26.8125 6.890625 \nQ 36.078125 6.890625 40.9375 10.546875 \nQ 45.796875 14.203125 45.796875 21.1875 \nQ 45.796875 27.640625 41.28125 31.265625 \nQ 36.765625 34.90625 28.71875 34.90625 \nL 20.21875 34.90625 \nL 20.21875 43.015625 \nL 29.109375 43.015625 \nQ 36.375 43.015625 40.234375 45.921875 \nQ 44.09375 48.828125 44.09375 54.296875 \nQ 44.09375 59.90625 40.109375 62.90625 \nQ 36.140625 65.921875 28.71875 65.921875 \nQ 24.65625 65.921875 20.015625 65.03125 \nQ 15.375 64.15625 9.8125 62.3125 \nL 9.8125 71.09375 \nQ 15.4375 72.65625 20.34375 73.4375 \nQ 25.25 74.21875 29.59375 74.21875 \nQ 40.828125 74.21875 47.359375 69.109375 \nQ 53.90625 64.015625 53.90625 55.328125 \nQ 53.90625 49.265625 50.4375 45.09375 \nQ 46.96875 40.921875 40.578125 39.3125 \nz\n\" id=\"DejaVuSans-51\"/>\n      </defs>\n      <g transform=\"translate(20.878125 140.706269)scale(0.1 -0.1)\">\n       <use xlink:href=\"#DejaVuSans-51\"/>\n       <use x=\"63.623047\" xlink:href=\"#DejaVuSans-48\"/>\n      </g>\n     </g>\n    </g>\n    <g id=\"ytick_5\">\n     <g id=\"line2d_11\">\n      <g>\n       <use style=\"stroke:#000000;stroke-width:0.8;\" x=\"40.603125\" xlink:href=\"#m2e3e1e666b\" y=\"108.540962\"/>\n      </g>\n     </g>\n     <g id=\"text_12\">\n      <!-- 40 -->\n      <g transform=\"translate(20.878125 112.340181)scale(0.1 -0.1)\">\n       <use xlink:href=\"#DejaVuSans-52\"/>\n       <use x=\"63.623047\" xlink:href=\"#DejaVuSans-48\"/>\n      </g>\n     </g>\n    </g>\n    <g id=\"ytick_6\">\n     <g id=\"line2d_12\">\n      <g>\n       <use style=\"stroke:#000000;stroke-width:0.8;\" x=\"40.603125\" xlink:href=\"#m2e3e1e666b\" y=\"80.174874\"/>\n      </g>\n     </g>\n     <g id=\"text_13\">\n      <!-- 50 -->\n      <defs>\n       <path d=\"M 10.796875 72.90625 \nL 49.515625 72.90625 \nL 49.515625 64.59375 \nL 19.828125 64.59375 \nL 19.828125 46.734375 \nQ 21.96875 47.46875 24.109375 47.828125 \nQ 26.265625 48.1875 28.421875 48.1875 \nQ 40.625 48.1875 47.75 41.5 \nQ 54.890625 34.8125 54.890625 23.390625 \nQ 54.890625 11.625 47.5625 5.09375 \nQ 40.234375 -1.421875 26.90625 -1.421875 \nQ 22.3125 -1.421875 17.546875 -0.640625 \nQ 12.796875 0.140625 7.71875 1.703125 \nL 7.71875 11.625 \nQ 12.109375 9.234375 16.796875 8.0625 \nQ 21.484375 6.890625 26.703125 6.890625 \nQ 35.15625 6.890625 40.078125 11.328125 \nQ 45.015625 15.765625 45.015625 23.390625 \nQ 45.015625 31 40.078125 35.4375 \nQ 35.15625 39.890625 26.703125 39.890625 \nQ 22.75 39.890625 18.8125 39.015625 \nQ 14.890625 38.140625 10.796875 36.28125 \nz\n\" id=\"DejaVuSans-53\"/>\n      </defs>\n      <g transform=\"translate(20.878125 83.974093)scale(0.1 -0.1)\">\n       <use xlink:href=\"#DejaVuSans-53\"/>\n       <use x=\"63.623047\" xlink:href=\"#DejaVuSans-48\"/>\n      </g>\n     </g>\n    </g>\n    <g id=\"ytick_7\">\n     <g id=\"line2d_13\">\n      <g>\n       <use style=\"stroke:#000000;stroke-width:0.8;\" x=\"40.603125\" xlink:href=\"#m2e3e1e666b\" y=\"51.808786\"/>\n      </g>\n     </g>\n     <g id=\"text_14\">\n      <!-- 60 -->\n      <g transform=\"translate(20.878125 55.608005)scale(0.1 -0.1)\">\n       <use xlink:href=\"#DejaVuSans-54\"/>\n       <use x=\"63.623047\" xlink:href=\"#DejaVuSans-48\"/>\n      </g>\n     </g>\n    </g>\n    <g id=\"ytick_8\">\n     <g id=\"line2d_14\">\n      <g>\n       <use style=\"stroke:#000000;stroke-width:0.8;\" x=\"40.603125\" xlink:href=\"#m2e3e1e666b\" y=\"23.442698\"/>\n      </g>\n     </g>\n     <g id=\"text_15\">\n      <!-- 70 -->\n      <defs>\n       <path d=\"M 8.203125 72.90625 \nL 55.078125 72.90625 \nL 55.078125 68.703125 \nL 28.609375 0 \nL 18.3125 0 \nL 43.21875 64.59375 \nL 8.203125 64.59375 \nz\n\" id=\"DejaVuSans-55\"/>\n      </defs>\n      <g transform=\"translate(20.878125 27.241917)scale(0.1 -0.1)\">\n       <use xlink:href=\"#DejaVuSans-55\"/>\n       <use x=\"63.623047\" xlink:href=\"#DejaVuSans-48\"/>\n      </g>\n     </g>\n    </g>\n    <g id=\"text_16\">\n     <!-- Accuracy -->\n     <defs>\n      <path d=\"M 34.1875 63.1875 \nL 20.796875 26.90625 \nL 47.609375 26.90625 \nz\nM 28.609375 72.90625 \nL 39.796875 72.90625 \nL 67.578125 0 \nL 57.328125 0 \nL 50.6875 18.703125 \nL 17.828125 18.703125 \nL 11.1875 0 \nL 0.78125 0 \nz\n\" id=\"DejaVuSans-65\"/>\n      <path d=\"M 8.5 21.578125 \nL 8.5 54.6875 \nL 17.484375 54.6875 \nL 17.484375 21.921875 \nQ 17.484375 14.15625 20.5 10.265625 \nQ 23.53125 6.390625 29.59375 6.390625 \nQ 36.859375 6.390625 41.078125 11.03125 \nQ 45.3125 15.671875 45.3125 23.6875 \nL 45.3125 54.6875 \nL 54.296875 54.6875 \nL 54.296875 0 \nL 45.3125 0 \nL 45.3125 8.40625 \nQ 42.046875 3.421875 37.71875 1 \nQ 33.40625 -1.421875 27.6875 -1.421875 \nQ 18.265625 -1.421875 13.375 4.4375 \nQ 8.5 10.296875 8.5 21.578125 \nz\nM 31.109375 56 \nz\n\" id=\"DejaVuSans-117\"/>\n      <path d=\"M 41.109375 46.296875 \nQ 39.59375 47.171875 37.8125 47.578125 \nQ 36.03125 48 33.890625 48 \nQ 26.265625 48 22.1875 43.046875 \nQ 18.109375 38.09375 18.109375 28.8125 \nL 18.109375 0 \nL 9.078125 0 \nL 9.078125 54.6875 \nL 18.109375 54.6875 \nL 18.109375 46.1875 \nQ 20.953125 51.171875 25.484375 53.578125 \nQ 30.03125 56 36.53125 56 \nQ 37.453125 56 38.578125 55.875 \nQ 39.703125 55.765625 41.0625 55.515625 \nz\n\" id=\"DejaVuSans-114\"/>\n      <path d=\"M 34.28125 27.484375 \nQ 23.390625 27.484375 19.1875 25 \nQ 14.984375 22.515625 14.984375 16.5 \nQ 14.984375 11.71875 18.140625 8.90625 \nQ 21.296875 6.109375 26.703125 6.109375 \nQ 34.1875 6.109375 38.703125 11.40625 \nQ 43.21875 16.703125 43.21875 25.484375 \nL 43.21875 27.484375 \nz\nM 52.203125 31.203125 \nL 52.203125 0 \nL 43.21875 0 \nL 43.21875 8.296875 \nQ 40.140625 3.328125 35.546875 0.953125 \nQ 30.953125 -1.421875 24.3125 -1.421875 \nQ 15.921875 -1.421875 10.953125 3.296875 \nQ 6 8.015625 6 15.921875 \nQ 6 25.140625 12.171875 29.828125 \nQ 18.359375 34.515625 30.609375 34.515625 \nL 43.21875 34.515625 \nL 43.21875 35.40625 \nQ 43.21875 41.609375 39.140625 45 \nQ 35.0625 48.390625 27.6875 48.390625 \nQ 23 48.390625 18.546875 47.265625 \nQ 14.109375 46.140625 10.015625 43.890625 \nL 10.015625 52.203125 \nQ 14.9375 54.109375 19.578125 55.046875 \nQ 24.21875 56 28.609375 56 \nQ 40.484375 56 46.34375 49.84375 \nQ 52.203125 43.703125 52.203125 31.203125 \nz\n\" id=\"DejaVuSans-97\"/>\n      <path d=\"M 32.171875 -5.078125 \nQ 28.375 -14.84375 24.75 -17.8125 \nQ 21.140625 -20.796875 15.09375 -20.796875 \nL 7.90625 -20.796875 \nL 7.90625 -13.28125 \nL 13.1875 -13.28125 \nQ 16.890625 -13.28125 18.9375 -11.515625 \nQ 21 -9.765625 23.484375 -3.21875 \nL 25.09375 0.875 \nL 2.984375 54.6875 \nL 12.5 54.6875 \nL 29.59375 11.921875 \nL 46.6875 54.6875 \nL 56.203125 54.6875 \nz\n\" id=\"DejaVuSans-121\"/>\n     </defs>\n     <g transform=\"translate(14.798438 138.834844)rotate(-90)scale(0.1 -0.1)\">\n      <use xlink:href=\"#DejaVuSans-65\"/>\n      <use x=\"68.392578\" xlink:href=\"#DejaVuSans-99\"/>\n      <use x=\"123.373047\" xlink:href=\"#DejaVuSans-99\"/>\n      <use x=\"178.353516\" xlink:href=\"#DejaVuSans-117\"/>\n      <use x=\"241.732422\" xlink:href=\"#DejaVuSans-114\"/>\n      <use x=\"282.845703\" xlink:href=\"#DejaVuSans-97\"/>\n      <use x=\"344.125\" xlink:href=\"#DejaVuSans-99\"/>\n      <use x=\"399.105469\" xlink:href=\"#DejaVuSans-121\"/>\n     </g>\n    </g>\n   </g>\n   <g id=\"line2d_15\">\n    <path clip-path=\"url(#p65a64d0668)\" d=\"M 55.590728 17.083636 \nL 58.618527 211.434006 \nL 61.646326 212.232753 \nL 64.674124 212.311101 \nL 67.701923 212.386683 \nL 70.729722 212.460142 \nL 73.75752 212.531985 \nL 76.785319 212.603195 \nL 79.813117 212.672303 \nL 82.840916 212.739786 \nL 85.868715 212.806098 \nL 88.896513 212.871439 \nL 91.924312 212.934988 \nL 94.952111 212.997155 \nL 97.979909 213.057478 \nL 101.007708 213.116578 \nL 104.035507 213.174592 \nL 107.063305 213.230929 \nL 110.091104 213.285994 \nL 113.118903 213.339047 \nL 116.146701 213.390173 \nL 119.1745 213.440271 \nL 122.202299 213.488824 \nL 125.230097 213.536869 \nL 128.257896 213.582793 \nL 131.285694 213.627522 \nL 134.313493 213.670539 \nL 137.341292 213.71297 \nL 140.36909 213.75365 \nL 143.396889 213.79287 \nL 146.424688 213.831311 \nL 149.452486 213.868152 \nL 152.480285 213.90364 \nL 155.508084 213.937824 \nL 158.535882 213.971674 \nL 161.563681 214.003735 \nL 164.59148 214.03468 \nL 167.619278 214.064918 \nL 170.647077 214.09331 \nL 173.674876 214.120802 \nL 176.702674 214.147451 \nL 179.730473 214.172986 \nL 182.758272 214.197986 \nL 185.78607 214.222342 \nL 188.813869 214.245093 \nL 191.841667 214.267113 \nL 194.869466 214.288104 \nL 197.897265 214.309218 \nL 200.925063 214.328488 \nL 203.952862 214.347673 \nL 206.980661 214.365881 \nL 210.008459 214.383449 \nL 213.036258 214.400042 \nL 216.064057 214.416377 \nL 219.091855 214.431566 \nL 222.119654 214.446684 \nL 225.147453 214.461203 \nL 228.175251 214.475159 \nL 231.20305 214.488747 \nL 234.230849 214.501257 \nL 237.258647 214.513671 \nL 240.286446 214.525436 \nL 243.314244 214.536774 \nL 246.342043 214.547649 \nL 249.369842 214.558157 \nL 252.39764 214.568437 \nL 255.425439 214.578086 \nL 258.453238 214.587335 \nL 261.481036 214.596127 \nL 264.508835 214.604865 \nL 267.536634 214.613135 \nL 270.564432 214.620826 \nL 273.592231 214.628303 \nL 276.62003 214.635922 \nL 279.647828 214.643027 \nL 282.675627 214.64978 \nL 285.703426 214.656258 \nL 288.731224 214.66264 \nL 291.759023 214.668756 \nL 294.786821 214.67451 \nL 297.81462 214.679878 \nL 300.842419 214.68561 \nL 303.870217 214.690979 \nL 306.898016 214.695879 \nL 309.925815 214.700577 \nL 312.953613 214.705191 \nL 315.981412 214.709597 \nL 319.009211 214.714113 \nL 322.037009 214.71832 \nL 325.064808 214.722323 \nL 328.092607 214.726244 \nL 331.120405 214.730027 \nL 334.148204 214.733556 \nL 337.176003 214.737276 \nL 340.203801 214.740729 \nL 343.2316 214.744135 \nL 346.259398 214.747418 \nL 349.287197 214.750607 \nL 352.314996 214.753551 \nL 355.342794 214.756364 \n\" style=\"fill:none;stroke:#0000ff;stroke-linecap:square;stroke-width:1.5;\"/>\n   </g>\n   <g id=\"line2d_16\">\n    <path clip-path=\"url(#p65a64d0668)\" d=\"M 55.590728 201.993063 \nL 58.618527 212.197453 \nL 61.646326 212.275935 \nL 64.674124 212.351658 \nL 67.701923 212.42615 \nL 70.729722 212.497915 \nL 73.75752 212.568141 \nL 76.785319 212.637499 \nL 79.813117 212.705085 \nL 82.840916 212.771644 \nL 85.868715 212.836477 \nL 88.896513 212.900473 \nL 91.924312 212.962193 \nL 94.952111 213.022943 \nL 97.979909 213.081201 \nL 101.007708 213.140035 \nL 104.035507 213.196953 \nL 107.063305 213.252021 \nL 110.091104 213.305465 \nL 113.118903 213.35642 \nL 116.146701 213.407229 \nL 119.1745 213.454645 \nL 122.202299 213.502566 \nL 125.230097 213.549574 \nL 128.257896 213.594656 \nL 131.285694 213.637294 \nL 134.313493 213.680318 \nL 137.341292 213.71997 \nL 140.36909 213.759651 \nL 143.396889 213.798642 \nL 146.424688 213.835061 \nL 149.452486 213.870127 \nL 152.480285 213.90517 \nL 155.508084 213.938195 \nL 158.535882 213.971115 \nL 161.563681 214.002674 \nL 164.59148 214.03248 \nL 167.619278 214.061017 \nL 170.647077 214.089568 \nL 173.674876 214.115857 \nL 176.702674 214.140953 \nL 179.730473 214.16595 \nL 182.758272 214.19106 \nL 185.78607 214.213373 \nL 188.813869 214.235651 \nL 191.841667 214.256963 \nL 194.869466 214.278474 \nL 197.897265 214.297475 \nL 200.925063 214.316892 \nL 203.952862 214.334731 \nL 206.980661 214.352752 \nL 210.008459 214.369413 \nL 213.036258 214.385874 \nL 216.064057 214.400755 \nL 219.091855 214.415876 \nL 222.119654 214.430689 \nL 225.147453 214.444562 \nL 228.175251 214.45904 \nL 231.20305 214.471338 \nL 234.230849 214.483502 \nL 237.258647 214.495895 \nL 240.286446 214.507486 \nL 243.314244 214.517559 \nL 246.342043 214.528512 \nL 249.369842 214.538103 \nL 252.39764 214.547311 \nL 255.425439 214.55767 \nL 258.453238 214.565729 \nL 261.481036 214.573443 \nL 264.508835 214.581929 \nL 267.536634 214.589777 \nL 270.564432 214.597246 \nL 273.592231 214.604874 \nL 276.62003 214.612781 \nL 279.647828 214.61931 \nL 282.675627 214.625818 \nL 285.703426 214.632187 \nL 288.731224 214.639114 \nL 291.759023 214.644675 \nL 294.786821 214.649489 \nL 297.81462 214.655293 \nL 300.842419 214.659875 \nL 303.870217 214.664839 \nL 306.898016 214.668947 \nL 309.925815 214.673401 \nL 312.953613 214.678239 \nL 315.981412 214.682126 \nL 319.009211 214.686231 \nL 322.037009 214.690008 \nL 325.064808 214.6941 \nL 328.092607 214.696828 \nL 331.120405 214.700045 \nL 334.148204 214.704385 \nL 337.176003 214.706942 \nL 340.203801 214.709731 \nL 343.2316 214.713848 \nL 346.259398 214.71722 \nL 349.287197 214.719885 \nL 352.314996 214.722567 \nL 355.342794 214.725859 \n\" style=\"fill:none;stroke:#008000;stroke-linecap:square;stroke-width:1.5;\"/>\n   </g>\n   <g id=\"patch_3\">\n    <path d=\"M 40.603125 224.64 \nL 40.603125 7.2 \n\" style=\"fill:none;stroke:#000000;stroke-linecap:square;stroke-linejoin:miter;stroke-width:0.8;\"/>\n   </g>\n   <g id=\"patch_4\">\n    <path d=\"M 370.330398 224.64 \nL 370.330398 7.2 \n\" style=\"fill:none;stroke:#000000;stroke-linecap:square;stroke-linejoin:miter;stroke-width:0.8;\"/>\n   </g>\n   <g id=\"patch_5\">\n    <path d=\"M 40.603125 224.64 \nL 370.330398 224.64 \n\" style=\"fill:none;stroke:#000000;stroke-linecap:square;stroke-linejoin:miter;stroke-width:0.8;\"/>\n   </g>\n   <g id=\"patch_6\">\n    <path d=\"M 40.603125 7.2 \nL 370.330398 7.2 \n\" style=\"fill:none;stroke:#000000;stroke-linecap:square;stroke-linejoin:miter;stroke-width:0.8;\"/>\n   </g>\n  </g>\n  <g id=\"axes_2\">\n   <g id=\"patch_7\">\n    <path d=\"M 436.275852 224.64 \nL 766.003125 224.64 \nL 766.003125 7.2 \nL 436.275852 7.2 \nz\n\" style=\"fill:#ffffff;\"/>\n   </g>\n   <g id=\"matplotlib.axis_3\">\n    <g id=\"xtick_7\">\n     <g id=\"line2d_17\">\n      <g>\n       <use style=\"stroke:#000000;stroke-width:0.8;\" x=\"448.235657\" xlink:href=\"#ma698573148\" y=\"224.64\"/>\n      </g>\n     </g>\n     <g id=\"text_17\">\n      <!-- 0 -->\n      <g transform=\"translate(445.054407 239.238437)scale(0.1 -0.1)\">\n       <use xlink:href=\"#DejaVuSans-48\"/>\n      </g>\n     </g>\n    </g>\n    <g id=\"xtick_8\">\n     <g id=\"line2d_18\">\n      <g>\n       <use style=\"stroke:#000000;stroke-width:0.8;\" x=\"508.79163\" xlink:href=\"#ma698573148\" y=\"224.64\"/>\n      </g>\n     </g>\n     <g id=\"text_18\">\n      <!-- 20 -->\n      <g transform=\"translate(502.42913 239.238437)scale(0.1 -0.1)\">\n       <use xlink:href=\"#DejaVuSans-50\"/>\n       <use x=\"63.623047\" xlink:href=\"#DejaVuSans-48\"/>\n      </g>\n     </g>\n    </g>\n    <g id=\"xtick_9\">\n     <g id=\"line2d_19\">\n      <g>\n       <use style=\"stroke:#000000;stroke-width:0.8;\" x=\"569.347603\" xlink:href=\"#ma698573148\" y=\"224.64\"/>\n      </g>\n     </g>\n     <g id=\"text_19\">\n      <!-- 40 -->\n      <g transform=\"translate(562.985103 239.238437)scale(0.1 -0.1)\">\n       <use xlink:href=\"#DejaVuSans-52\"/>\n       <use x=\"63.623047\" xlink:href=\"#DejaVuSans-48\"/>\n      </g>\n     </g>\n    </g>\n    <g id=\"xtick_10\">\n     <g id=\"line2d_20\">\n      <g>\n       <use style=\"stroke:#000000;stroke-width:0.8;\" x=\"629.903576\" xlink:href=\"#ma698573148\" y=\"224.64\"/>\n      </g>\n     </g>\n     <g id=\"text_20\">\n      <!-- 60 -->\n      <g transform=\"translate(623.541076 239.238437)scale(0.1 -0.1)\">\n       <use xlink:href=\"#DejaVuSans-54\"/>\n       <use x=\"63.623047\" xlink:href=\"#DejaVuSans-48\"/>\n      </g>\n     </g>\n    </g>\n    <g id=\"xtick_11\">\n     <g id=\"line2d_21\">\n      <g>\n       <use style=\"stroke:#000000;stroke-width:0.8;\" x=\"690.459549\" xlink:href=\"#ma698573148\" y=\"224.64\"/>\n      </g>\n     </g>\n     <g id=\"text_21\">\n      <!-- 80 -->\n      <g transform=\"translate(684.097049 239.238437)scale(0.1 -0.1)\">\n       <use xlink:href=\"#DejaVuSans-56\"/>\n       <use x=\"63.623047\" xlink:href=\"#DejaVuSans-48\"/>\n      </g>\n     </g>\n    </g>\n    <g id=\"xtick_12\">\n     <g id=\"line2d_22\">\n      <g>\n       <use style=\"stroke:#000000;stroke-width:0.8;\" x=\"751.015522\" xlink:href=\"#ma698573148\" y=\"224.64\"/>\n      </g>\n     </g>\n     <g id=\"text_22\">\n      <!-- 100 -->\n      <g transform=\"translate(741.471772 239.238437)scale(0.1 -0.1)\">\n       <use xlink:href=\"#DejaVuSans-49\"/>\n       <use x=\"63.623047\" xlink:href=\"#DejaVuSans-48\"/>\n       <use x=\"127.246094\" xlink:href=\"#DejaVuSans-48\"/>\n      </g>\n     </g>\n    </g>\n   </g>\n   <g id=\"matplotlib.axis_4\">\n    <g id=\"ytick_9\">\n     <g id=\"line2d_23\">\n      <g>\n       <use style=\"stroke:#000000;stroke-width:0.8;\" x=\"436.275852\" xlink:href=\"#m2e3e1e666b\" y=\"216.521299\"/>\n      </g>\n     </g>\n     <g id=\"text_23\">\n      <!-- 0.00 -->\n      <defs>\n       <path d=\"M 10.6875 12.40625 \nL 21 12.40625 \nL 21 0 \nL 10.6875 0 \nz\n\" id=\"DejaVuSans-46\"/>\n      </defs>\n      <g transform=\"translate(407.010227 220.320518)scale(0.1 -0.1)\">\n       <use xlink:href=\"#DejaVuSans-48\"/>\n       <use x=\"63.623047\" xlink:href=\"#DejaVuSans-46\"/>\n       <use x=\"95.410156\" xlink:href=\"#DejaVuSans-48\"/>\n       <use x=\"159.033203\" xlink:href=\"#DejaVuSans-48\"/>\n      </g>\n     </g>\n    </g>\n    <g id=\"ytick_10\">\n     <g id=\"line2d_24\">\n      <g>\n       <use style=\"stroke:#000000;stroke-width:0.8;\" x=\"436.275852\" xlink:href=\"#m2e3e1e666b\" y=\"172.397921\"/>\n      </g>\n     </g>\n     <g id=\"text_24\">\n      <!-- 0.05 -->\n      <g transform=\"translate(407.010227 176.19714)scale(0.1 -0.1)\">\n       <use xlink:href=\"#DejaVuSans-48\"/>\n       <use x=\"63.623047\" xlink:href=\"#DejaVuSans-46\"/>\n       <use x=\"95.410156\" xlink:href=\"#DejaVuSans-48\"/>\n       <use x=\"159.033203\" xlink:href=\"#DejaVuSans-53\"/>\n      </g>\n     </g>\n    </g>\n    <g id=\"ytick_11\">\n     <g id=\"line2d_25\">\n      <g>\n       <use style=\"stroke:#000000;stroke-width:0.8;\" x=\"436.275852\" xlink:href=\"#m2e3e1e666b\" y=\"128.274544\"/>\n      </g>\n     </g>\n     <g id=\"text_25\">\n      <!-- 0.10 -->\n      <g transform=\"translate(407.010227 132.073763)scale(0.1 -0.1)\">\n       <use xlink:href=\"#DejaVuSans-48\"/>\n       <use x=\"63.623047\" xlink:href=\"#DejaVuSans-46\"/>\n       <use x=\"95.410156\" xlink:href=\"#DejaVuSans-49\"/>\n       <use x=\"159.033203\" xlink:href=\"#DejaVuSans-48\"/>\n      </g>\n     </g>\n    </g>\n    <g id=\"ytick_12\">\n     <g id=\"line2d_26\">\n      <g>\n       <use style=\"stroke:#000000;stroke-width:0.8;\" x=\"436.275852\" xlink:href=\"#m2e3e1e666b\" y=\"84.151167\"/>\n      </g>\n     </g>\n     <g id=\"text_26\">\n      <!-- 0.15 -->\n      <g transform=\"translate(407.010227 87.950385)scale(0.1 -0.1)\">\n       <use xlink:href=\"#DejaVuSans-48\"/>\n       <use x=\"63.623047\" xlink:href=\"#DejaVuSans-46\"/>\n       <use x=\"95.410156\" xlink:href=\"#DejaVuSans-49\"/>\n       <use x=\"159.033203\" xlink:href=\"#DejaVuSans-53\"/>\n      </g>\n     </g>\n    </g>\n    <g id=\"ytick_13\">\n     <g id=\"line2d_27\">\n      <g>\n       <use style=\"stroke:#000000;stroke-width:0.8;\" x=\"436.275852\" xlink:href=\"#m2e3e1e666b\" y=\"40.027789\"/>\n      </g>\n     </g>\n     <g id=\"text_27\">\n      <!-- 0.20 -->\n      <g transform=\"translate(407.010227 43.827008)scale(0.1 -0.1)\">\n       <use xlink:href=\"#DejaVuSans-48\"/>\n       <use x=\"63.623047\" xlink:href=\"#DejaVuSans-46\"/>\n       <use x=\"95.410156\" xlink:href=\"#DejaVuSans-50\"/>\n       <use x=\"159.033203\" xlink:href=\"#DejaVuSans-48\"/>\n      </g>\n     </g>\n    </g>\n   </g>\n   <g id=\"line2d_28\">\n    <path clip-path=\"url(#p53cec56930)\" d=\"M 451.263456 190.929741 \nL 454.291254 85.9161 \nL 457.319053 40.910256 \nL 460.346852 40.910256 \nL 463.37465 40.910256 \nL 466.402449 40.910256 \nL 469.430247 40.910256 \nL 472.458046 40.910256 \nL 475.485845 40.910256 \nL 478.513643 40.910256 \nL 481.541442 40.910256 \nL 484.569241 40.910256 \nL 487.597039 40.910256 \nL 490.624838 40.910256 \nL 493.652637 40.910256 \nL 496.680435 40.910256 \nL 499.708234 40.910256 \nL 502.736033 40.910256 \nL 505.763831 40.910256 \nL 508.79163 40.910256 \nL 511.819429 40.910256 \nL 514.847227 40.910256 \nL 517.875026 40.910256 \nL 520.902824 40.910256 \nL 523.930623 40.910256 \nL 526.958422 40.910256 \nL 529.98622 40.910256 \nL 533.014019 40.910256 \nL 536.041818 40.910256 \nL 539.069616 40.910256 \nL 542.097415 40.910256 \nL 545.125214 40.910256 \nL 548.153012 40.910256 \nL 551.180811 40.910256 \nL 554.20861 40.910256 \nL 557.236408 40.910256 \nL 560.264207 40.910256 \nL 563.292006 40.910256 \nL 566.319804 40.910256 \nL 569.347603 40.910256 \nL 572.375401 40.910256 \nL 575.4032 40.910256 \nL 578.430999 40.910256 \nL 581.458797 40.910256 \nL 584.486596 40.910256 \nL 587.514395 40.910256 \nL 590.542193 40.910256 \nL 593.569992 40.910256 \nL 596.597791 40.910256 \nL 599.625589 40.910256 \nL 602.653388 40.910256 \nL 605.681187 40.910256 \nL 608.708985 40.910256 \nL 611.736784 40.910256 \nL 614.764583 40.910256 \nL 617.792381 40.910256 \nL 620.82018 40.910256 \nL 623.847978 40.910256 \nL 626.875777 40.910256 \nL 629.903576 40.910256 \nL 632.931374 40.910256 \nL 635.959173 40.910256 \nL 638.986972 40.910256 \nL 642.01477 40.910256 \nL 645.042569 40.910256 \nL 648.070368 40.910256 \nL 651.098166 40.910256 \nL 654.125965 40.910256 \nL 657.153764 40.910256 \nL 660.181562 40.910256 \nL 663.209361 40.910256 \nL 666.23716 40.910256 \nL 669.264958 40.910256 \nL 672.292757 40.910256 \nL 675.320556 40.910256 \nL 678.348354 40.910256 \nL 681.376153 40.910256 \nL 684.403951 40.910256 \nL 687.43175 40.910256 \nL 690.459549 40.910256 \nL 693.487347 40.910256 \nL 696.515146 40.910256 \nL 699.542945 40.910256 \nL 702.570743 40.910256 \nL 705.598542 40.910256 \nL 708.626341 40.910256 \nL 711.654139 40.910256 \nL 714.681938 40.910256 \nL 717.709737 40.910256 \nL 720.737535 40.910256 \nL 723.765334 40.910256 \nL 726.793133 40.910256 \nL 729.820931 40.910256 \nL 732.84873 40.910256 \nL 735.876528 40.910256 \nL 738.904327 40.910256 \nL 741.932126 40.910256 \nL 744.959924 40.910256 \nL 747.987723 40.910256 \nL 751.015522 40.910256 \n\" style=\"fill:none;stroke:#0000ff;stroke-linecap:square;stroke-width:1.5;\"/>\n   </g>\n   <g id=\"line2d_29\">\n    <path clip-path=\"url(#p53cec56930)\" d=\"M 451.263456 214.756364 \nL 454.291254 17.083636 \nL 457.319053 17.083636 \nL 460.346852 17.083636 \nL 463.37465 17.083636 \nL 466.402449 17.083636 \nL 469.430247 17.083636 \nL 472.458046 17.083636 \nL 475.485845 17.083636 \nL 478.513643 17.083636 \nL 481.541442 17.083636 \nL 484.569241 17.083636 \nL 487.597039 17.083636 \nL 490.624838 17.083636 \nL 493.652637 17.083636 \nL 496.680435 17.083636 \nL 499.708234 17.083636 \nL 502.736033 17.083636 \nL 505.763831 17.083636 \nL 508.79163 17.083636 \nL 511.819429 17.083636 \nL 514.847227 17.083636 \nL 517.875026 17.083636 \nL 520.902824 17.083636 \nL 523.930623 17.083636 \nL 526.958422 17.083636 \nL 529.98622 17.083636 \nL 533.014019 17.083636 \nL 536.041818 17.083636 \nL 539.069616 17.083636 \nL 542.097415 17.083636 \nL 545.125214 17.083636 \nL 548.153012 17.083636 \nL 551.180811 17.083636 \nL 554.20861 17.083636 \nL 557.236408 17.083636 \nL 560.264207 17.083636 \nL 563.292006 17.083636 \nL 566.319804 17.083636 \nL 569.347603 17.083636 \nL 572.375401 17.083636 \nL 575.4032 17.083636 \nL 578.430999 17.083636 \nL 581.458797 17.083636 \nL 584.486596 17.083636 \nL 587.514395 17.083636 \nL 590.542193 17.083636 \nL 593.569992 17.083636 \nL 596.597791 17.083636 \nL 599.625589 17.083636 \nL 602.653388 17.083636 \nL 605.681187 17.083636 \nL 608.708985 17.083636 \nL 611.736784 17.083636 \nL 614.764583 17.083636 \nL 617.792381 17.083636 \nL 620.82018 17.083636 \nL 623.847978 17.083636 \nL 626.875777 17.083636 \nL 629.903576 17.083636 \nL 632.931374 17.083636 \nL 635.959173 17.083636 \nL 638.986972 17.083636 \nL 642.01477 17.083636 \nL 645.042569 17.083636 \nL 648.070368 17.083636 \nL 651.098166 17.083636 \nL 654.125965 17.083636 \nL 657.153764 17.083636 \nL 660.181562 17.083636 \nL 663.209361 17.083636 \nL 666.23716 17.083636 \nL 669.264958 17.083636 \nL 672.292757 17.083636 \nL 675.320556 17.083636 \nL 678.348354 17.083636 \nL 681.376153 17.083636 \nL 684.403951 17.083636 \nL 687.43175 17.083636 \nL 690.459549 17.083636 \nL 693.487347 17.083636 \nL 696.515146 17.083636 \nL 699.542945 17.083636 \nL 702.570743 17.083636 \nL 705.598542 17.083636 \nL 708.626341 17.083636 \nL 711.654139 17.083636 \nL 714.681938 17.083636 \nL 717.709737 17.083636 \nL 720.737535 17.083636 \nL 723.765334 17.083636 \nL 726.793133 17.083636 \nL 729.820931 17.083636 \nL 732.84873 17.083636 \nL 735.876528 17.083636 \nL 738.904327 17.083636 \nL 741.932126 17.083636 \nL 744.959924 17.083636 \nL 747.987723 17.083636 \nL 751.015522 17.083636 \n\" style=\"fill:none;stroke:#008000;stroke-linecap:square;stroke-width:1.5;\"/>\n   </g>\n   <g id=\"patch_8\">\n    <path d=\"M 436.275852 224.64 \nL 436.275852 7.2 \n\" style=\"fill:none;stroke:#000000;stroke-linecap:square;stroke-linejoin:miter;stroke-width:0.8;\"/>\n   </g>\n   <g id=\"patch_9\">\n    <path d=\"M 766.003125 224.64 \nL 766.003125 7.2 \n\" style=\"fill:none;stroke:#000000;stroke-linecap:square;stroke-linejoin:miter;stroke-width:0.8;\"/>\n   </g>\n   <g id=\"patch_10\">\n    <path d=\"M 436.275852 224.64 \nL 766.003125 224.64 \n\" style=\"fill:none;stroke:#000000;stroke-linecap:square;stroke-linejoin:miter;stroke-width:0.8;\"/>\n   </g>\n   <g id=\"patch_11\">\n    <path d=\"M 436.275852 7.2 \nL 766.003125 7.2 \n\" style=\"fill:none;stroke:#000000;stroke-linecap:square;stroke-linejoin:miter;stroke-width:0.8;\"/>\n   </g>\n   <g id=\"legend_1\">\n    <g id=\"patch_12\">\n     <path d=\"M 628.560937 219.64 \nL 759.003125 219.64 \nQ 761.003125 219.64 761.003125 217.64 \nL 761.003125 189.28375 \nQ 761.003125 187.28375 759.003125 187.28375 \nL 628.560937 187.28375 \nQ 626.560937 187.28375 626.560937 189.28375 \nL 626.560937 217.64 \nQ 626.560937 219.64 628.560937 219.64 \nz\n\" style=\"fill:#ffffff;opacity:0.8;stroke:#cccccc;stroke-linejoin:miter;\"/>\n    </g>\n    <g id=\"line2d_30\">\n     <path d=\"M 630.560937 195.382187 \nL 650.560937 195.382187 \n\" style=\"fill:none;stroke:#0000ff;stroke-linecap:square;stroke-width:1.5;\"/>\n    </g>\n    <g id=\"line2d_31\"/>\n    <g id=\"text_28\">\n     <!-- Training accuracy -->\n     <defs>\n      <path d=\"M -0.296875 72.90625 \nL 61.375 72.90625 \nL 61.375 64.59375 \nL 35.5 64.59375 \nL 35.5 0 \nL 25.59375 0 \nL 25.59375 64.59375 \nL -0.296875 64.59375 \nz\n\" id=\"DejaVuSans-84\"/>\n      <path d=\"M 9.421875 54.6875 \nL 18.40625 54.6875 \nL 18.40625 0 \nL 9.421875 0 \nz\nM 9.421875 75.984375 \nL 18.40625 75.984375 \nL 18.40625 64.59375 \nL 9.421875 64.59375 \nz\n\" id=\"DejaVuSans-105\"/>\n      <path d=\"M 54.890625 33.015625 \nL 54.890625 0 \nL 45.90625 0 \nL 45.90625 32.71875 \nQ 45.90625 40.484375 42.875 44.328125 \nQ 39.84375 48.1875 33.796875 48.1875 \nQ 26.515625 48.1875 22.3125 43.546875 \nQ 18.109375 38.921875 18.109375 30.90625 \nL 18.109375 0 \nL 9.078125 0 \nL 9.078125 54.6875 \nL 18.109375 54.6875 \nL 18.109375 46.1875 \nQ 21.34375 51.125 25.703125 53.5625 \nQ 30.078125 56 35.796875 56 \nQ 45.21875 56 50.046875 50.171875 \nQ 54.890625 44.34375 54.890625 33.015625 \nz\n\" id=\"DejaVuSans-110\"/>\n      <path d=\"M 45.40625 27.984375 \nQ 45.40625 37.75 41.375 43.109375 \nQ 37.359375 48.484375 30.078125 48.484375 \nQ 22.859375 48.484375 18.828125 43.109375 \nQ 14.796875 37.75 14.796875 27.984375 \nQ 14.796875 18.265625 18.828125 12.890625 \nQ 22.859375 7.515625 30.078125 7.515625 \nQ 37.359375 7.515625 41.375 12.890625 \nQ 45.40625 18.265625 45.40625 27.984375 \nz\nM 54.390625 6.78125 \nQ 54.390625 -7.171875 48.1875 -13.984375 \nQ 42 -20.796875 29.203125 -20.796875 \nQ 24.46875 -20.796875 20.265625 -20.09375 \nQ 16.0625 -19.390625 12.109375 -17.921875 \nL 12.109375 -9.1875 \nQ 16.0625 -11.328125 19.921875 -12.34375 \nQ 23.78125 -13.375 27.78125 -13.375 \nQ 36.625 -13.375 41.015625 -8.765625 \nQ 45.40625 -4.15625 45.40625 5.171875 \nL 45.40625 9.625 \nQ 42.625 4.78125 38.28125 2.390625 \nQ 33.9375 0 27.875 0 \nQ 17.828125 0 11.671875 7.65625 \nQ 5.515625 15.328125 5.515625 27.984375 \nQ 5.515625 40.671875 11.671875 48.328125 \nQ 17.828125 56 27.875 56 \nQ 33.9375 56 38.28125 53.609375 \nQ 42.625 51.21875 45.40625 46.390625 \nL 45.40625 54.6875 \nL 54.390625 54.6875 \nz\n\" id=\"DejaVuSans-103\"/>\n      <path id=\"DejaVuSans-32\"/>\n     </defs>\n     <g transform=\"translate(658.560937 198.882187)scale(0.1 -0.1)\">\n      <use xlink:href=\"#DejaVuSans-84\"/>\n      <use x=\"60.865234\" xlink:href=\"#DejaVuSans-114\"/>\n      <use x=\"101.978516\" xlink:href=\"#DejaVuSans-97\"/>\n      <use x=\"163.257812\" xlink:href=\"#DejaVuSans-105\"/>\n      <use x=\"191.041016\" xlink:href=\"#DejaVuSans-110\"/>\n      <use x=\"254.419922\" xlink:href=\"#DejaVuSans-105\"/>\n      <use x=\"282.203125\" xlink:href=\"#DejaVuSans-110\"/>\n      <use x=\"345.582031\" xlink:href=\"#DejaVuSans-103\"/>\n      <use x=\"409.058594\" xlink:href=\"#DejaVuSans-32\"/>\n      <use x=\"440.845703\" xlink:href=\"#DejaVuSans-97\"/>\n      <use x=\"502.125\" xlink:href=\"#DejaVuSans-99\"/>\n      <use x=\"557.105469\" xlink:href=\"#DejaVuSans-99\"/>\n      <use x=\"612.085938\" xlink:href=\"#DejaVuSans-117\"/>\n      <use x=\"675.464844\" xlink:href=\"#DejaVuSans-114\"/>\n      <use x=\"716.578125\" xlink:href=\"#DejaVuSans-97\"/>\n      <use x=\"777.857422\" xlink:href=\"#DejaVuSans-99\"/>\n      <use x=\"832.837891\" xlink:href=\"#DejaVuSans-121\"/>\n     </g>\n    </g>\n    <g id=\"line2d_32\">\n     <path d=\"M 630.560937 210.060312 \nL 650.560937 210.060312 \n\" style=\"fill:none;stroke:#008000;stroke-linecap:square;stroke-width:1.5;\"/>\n    </g>\n    <g id=\"line2d_33\"/>\n    <g id=\"text_29\">\n     <!-- Validation accuracy -->\n     <defs>\n      <path d=\"M 28.609375 0 \nL 0.78125 72.90625 \nL 11.078125 72.90625 \nL 34.1875 11.53125 \nL 57.328125 72.90625 \nL 67.578125 72.90625 \nL 39.796875 0 \nz\n\" id=\"DejaVuSans-86\"/>\n      <path d=\"M 9.421875 75.984375 \nL 18.40625 75.984375 \nL 18.40625 0 \nL 9.421875 0 \nz\n\" id=\"DejaVuSans-108\"/>\n      <path d=\"M 45.40625 46.390625 \nL 45.40625 75.984375 \nL 54.390625 75.984375 \nL 54.390625 0 \nL 45.40625 0 \nL 45.40625 8.203125 \nQ 42.578125 3.328125 38.25 0.953125 \nQ 33.9375 -1.421875 27.875 -1.421875 \nQ 17.96875 -1.421875 11.734375 6.484375 \nQ 5.515625 14.40625 5.515625 27.296875 \nQ 5.515625 40.1875 11.734375 48.09375 \nQ 17.96875 56 27.875 56 \nQ 33.9375 56 38.25 53.625 \nQ 42.578125 51.265625 45.40625 46.390625 \nz\nM 14.796875 27.296875 \nQ 14.796875 17.390625 18.875 11.75 \nQ 22.953125 6.109375 30.078125 6.109375 \nQ 37.203125 6.109375 41.296875 11.75 \nQ 45.40625 17.390625 45.40625 27.296875 \nQ 45.40625 37.203125 41.296875 42.84375 \nQ 37.203125 48.484375 30.078125 48.484375 \nQ 22.953125 48.484375 18.875 42.84375 \nQ 14.796875 37.203125 14.796875 27.296875 \nz\n\" id=\"DejaVuSans-100\"/>\n      <path d=\"M 18.3125 70.21875 \nL 18.3125 54.6875 \nL 36.8125 54.6875 \nL 36.8125 47.703125 \nL 18.3125 47.703125 \nL 18.3125 18.015625 \nQ 18.3125 11.328125 20.140625 9.421875 \nQ 21.96875 7.515625 27.59375 7.515625 \nL 36.8125 7.515625 \nL 36.8125 0 \nL 27.59375 0 \nQ 17.1875 0 13.234375 3.875 \nQ 9.28125 7.765625 9.28125 18.015625 \nL 9.28125 47.703125 \nL 2.6875 47.703125 \nL 2.6875 54.6875 \nL 9.28125 54.6875 \nL 9.28125 70.21875 \nz\n\" id=\"DejaVuSans-116\"/>\n     </defs>\n     <g transform=\"translate(658.560937 213.560312)scale(0.1 -0.1)\">\n      <use xlink:href=\"#DejaVuSans-86\"/>\n      <use x=\"68.298828\" xlink:href=\"#DejaVuSans-97\"/>\n      <use x=\"129.578125\" xlink:href=\"#DejaVuSans-108\"/>\n      <use x=\"157.361328\" xlink:href=\"#DejaVuSans-105\"/>\n      <use x=\"185.144531\" xlink:href=\"#DejaVuSans-100\"/>\n      <use x=\"248.621094\" xlink:href=\"#DejaVuSans-97\"/>\n      <use x=\"309.900391\" xlink:href=\"#DejaVuSans-116\"/>\n      <use x=\"349.109375\" xlink:href=\"#DejaVuSans-105\"/>\n      <use x=\"376.892578\" xlink:href=\"#DejaVuSans-111\"/>\n      <use x=\"438.074219\" xlink:href=\"#DejaVuSans-110\"/>\n      <use x=\"501.453125\" xlink:href=\"#DejaVuSans-32\"/>\n      <use x=\"533.240234\" xlink:href=\"#DejaVuSans-97\"/>\n      <use x=\"594.519531\" xlink:href=\"#DejaVuSans-99\"/>\n      <use x=\"649.5\" xlink:href=\"#DejaVuSans-99\"/>\n      <use x=\"704.480469\" xlink:href=\"#DejaVuSans-117\"/>\n      <use x=\"767.859375\" xlink:href=\"#DejaVuSans-114\"/>\n      <use x=\"808.972656\" xlink:href=\"#DejaVuSans-97\"/>\n      <use x=\"870.251953\" xlink:href=\"#DejaVuSans-99\"/>\n      <use x=\"925.232422\" xlink:href=\"#DejaVuSans-121\"/>\n     </g>\n    </g>\n   </g>\n  </g>\n </g>\n <defs>\n  <clipPath id=\"p65a64d0668\">\n   <rect height=\"217.44\" width=\"329.727273\" x=\"40.603125\" y=\"7.2\"/>\n  </clipPath>\n  <clipPath id=\"p53cec56930\">\n   <rect height=\"217.44\" width=\"329.727273\" x=\"436.275852\" y=\"7.2\"/>\n  </clipPath>\n </defs>\n</svg>\n",
      "image/png": "[encoded data removed]"
     },
     "metadata": {
      "needs_background": "light"
     }
    }
   ],
   "source": [
    "loss_list = [s for s in history.history.keys() if 'loss' in s and 'val' not in s]\n",
    "val_loss_list = [s for s in history.history.keys() if 'loss' in s and 'val' in s]\n",
    "acc_list = [s for s in history.history.keys() if 'acc' in s and 'val' not in s]\n",
    "val_acc_list = [s for s in history.history.keys() if 'acc' in s and 'val' in s]\n",
    "\n",
    "## As loss always exists\n",
    "epochs = range(1,len(history.history[loss_list[0]]) + 1)\n",
    "\n",
    "fig, (p1,p2) = plt.subplots(1,2,figsize=(13,4))\n",
    "\n",
    "## Loss\n",
    "for l in loss_list:\n",
    "    p1.plot(epochs, history.history[l], 'b', label='Training loss')\n",
    "for l in val_loss_list:\n",
    "    p1.plot(epochs, history.history[l], 'g', label='Validation loss')\n",
    "\n",
    "p1.set(xlabel='Epochs',ylabel='Loss')\n",
    "\n",
    "## Accuracy\n",
    "for l in acc_list:\n",
    "    p2.plot(epochs, history.history[l], 'b', label='Training accuracy')\n",
    "for l in val_acc_list:    \n",
    "    p2.plot(epochs, history.history[l], 'g', label='Validation accuracy')\n",
    "\n",
    "p1.set(xlabel='Epochs',ylabel='Accuracy')\n",
    "plt.legend()\n",
    "plt.show()"
   ]
  },
  {
   "cell_type": "code",
   "execution_count": 104,
   "metadata": {},
   "outputs": [
    {
     "output_type": "stream",
     "name": "stdout",
     "text": [
      "Précision 'product_atc_code': 22.60%\n"
     ]
    }
   ],
   "source": [
    "yTest = yTest1\n",
    "predictions = np.argmax(model.predict(xTest1),axis=1).reshape(yTest[:,:,toTrain].shape)\n",
    "print(f\"Précision '{yColumnNames[toTrain]}': {(predictions == yTest[:,:,toTrain]).sum()/len(yTest)*100:.2f}%\")"
   ]
  },
  {
   "cell_type": "code",
   "execution_count": 105,
   "metadata": {},
   "outputs": [
    {
     "output_type": "display_data",
     "data": {
      "text/plain": "<Figure size 432x288 with 1 Axes>",
      "image/svg+xml": "<?xml version=\"1.0\" encoding=\"utf-8\" standalone=\"no\"?>\n<!DOCTYPE svg PUBLIC \"-//W3C//DTD SVG 1.1//EN\"\n  \"http://www.w3.org/Graphics/SVG/1.1/DTD/svg11.dtd\">\n<!-- Created with matplotlib (https://matplotlib.org/) -->\n<svg height=\"248.518125pt\" version=\"1.1\" viewBox=\"0 0 368.925 248.518125\" width=\"368.925pt\" xmlns=\"http://www.w3.org/2000/svg\" xmlns:xlink=\"http://www.w3.org/1999/xlink\">\n <defs>\n  <style type=\"text/css\">\n*{stroke-linecap:butt;stroke-linejoin:round;}\n  </style>\n </defs>\n <g id=\"figure_1\">\n  <g id=\"patch_1\">\n   <path d=\"M -0 248.518125 \nL 368.925 248.518125 \nL 368.925 0 \nL -0 0 \nz\n\" style=\"fill:none;\"/>\n  </g>\n  <g id=\"axes_1\">\n   <g id=\"patch_2\">\n    <path d=\"M 26.925 224.64 \nL 361.725 224.64 \nL 361.725 7.2 \nL 26.925 7.2 \nz\n\" style=\"fill:#ffffff;\"/>\n   </g>\n   <g id=\"matplotlib.axis_1\">\n    <g id=\"xtick_1\">\n     <g id=\"line2d_1\">\n      <defs>\n       <path d=\"M 0 0 \nL 0 3.5 \n\" id=\"m5fa0b1695e\" style=\"stroke:#000000;stroke-width:0.8;\"/>\n      </defs>\n      <g>\n       <use style=\"stroke:#000000;stroke-width:0.8;\" x=\"42.143182\" xlink:href=\"#m5fa0b1695e\" y=\"224.64\"/>\n      </g>\n     </g>\n     <g id=\"text_1\">\n      <!-- 0 -->\n      <defs>\n       <path d=\"M 31.78125 66.40625 \nQ 24.171875 66.40625 20.328125 58.90625 \nQ 16.5 51.421875 16.5 36.375 \nQ 16.5 21.390625 20.328125 13.890625 \nQ 24.171875 6.390625 31.78125 6.390625 \nQ 39.453125 6.390625 43.28125 13.890625 \nQ 47.125 21.390625 47.125 36.375 \nQ 47.125 51.421875 43.28125 58.90625 \nQ 39.453125 66.40625 31.78125 66.40625 \nz\nM 31.78125 74.21875 \nQ 44.046875 74.21875 50.515625 64.515625 \nQ 56.984375 54.828125 56.984375 36.375 \nQ 56.984375 17.96875 50.515625 8.265625 \nQ 44.046875 -1.421875 31.78125 -1.421875 \nQ 19.53125 -1.421875 13.0625 8.265625 \nQ 6.59375 17.96875 6.59375 36.375 \nQ 6.59375 54.828125 13.0625 64.515625 \nQ 19.53125 74.21875 31.78125 74.21875 \nz\n\" id=\"DejaVuSans-48\"/>\n      </defs>\n      <g transform=\"translate(38.961932 239.238437)scale(0.1 -0.1)\">\n       <use xlink:href=\"#DejaVuSans-48\"/>\n      </g>\n     </g>\n    </g>\n    <g id=\"xtick_2\">\n     <g id=\"line2d_2\">\n      <g>\n       <use style=\"stroke:#000000;stroke-width:0.8;\" x=\"104.25821\" xlink:href=\"#m5fa0b1695e\" y=\"224.64\"/>\n      </g>\n     </g>\n     <g id=\"text_2\">\n      <!-- 10 -->\n      <defs>\n       <path d=\"M 12.40625 8.296875 \nL 28.515625 8.296875 \nL 28.515625 63.921875 \nL 10.984375 60.40625 \nL 10.984375 69.390625 \nL 28.421875 72.90625 \nL 38.28125 72.90625 \nL 38.28125 8.296875 \nL 54.390625 8.296875 \nL 54.390625 0 \nL 12.40625 0 \nz\n\" id=\"DejaVuSans-49\"/>\n      </defs>\n      <g transform=\"translate(97.89571 239.238437)scale(0.1 -0.1)\">\n       <use xlink:href=\"#DejaVuSans-49\"/>\n       <use x=\"63.623047\" xlink:href=\"#DejaVuSans-48\"/>\n      </g>\n     </g>\n    </g>\n    <g id=\"xtick_3\">\n     <g id=\"line2d_3\">\n      <g>\n       <use style=\"stroke:#000000;stroke-width:0.8;\" x=\"166.373237\" xlink:href=\"#m5fa0b1695e\" y=\"224.64\"/>\n      </g>\n     </g>\n     <g id=\"text_3\">\n      <!-- 20 -->\n      <defs>\n       <path d=\"M 19.1875 8.296875 \nL 53.609375 8.296875 \nL 53.609375 0 \nL 7.328125 0 \nL 7.328125 8.296875 \nQ 12.9375 14.109375 22.625 23.890625 \nQ 32.328125 33.6875 34.8125 36.53125 \nQ 39.546875 41.84375 41.421875 45.53125 \nQ 43.3125 49.21875 43.3125 52.78125 \nQ 43.3125 58.59375 39.234375 62.25 \nQ 35.15625 65.921875 28.609375 65.921875 \nQ 23.96875 65.921875 18.8125 64.3125 \nQ 13.671875 62.703125 7.8125 59.421875 \nL 7.8125 69.390625 \nQ 13.765625 71.78125 18.9375 73 \nQ 24.125 74.21875 28.421875 74.21875 \nQ 39.75 74.21875 46.484375 68.546875 \nQ 53.21875 62.890625 53.21875 53.421875 \nQ 53.21875 48.921875 51.53125 44.890625 \nQ 49.859375 40.875 45.40625 35.40625 \nQ 44.1875 33.984375 37.640625 27.21875 \nQ 31.109375 20.453125 19.1875 8.296875 \nz\n\" id=\"DejaVuSans-50\"/>\n      </defs>\n      <g transform=\"translate(160.010737 239.238437)scale(0.1 -0.1)\">\n       <use xlink:href=\"#DejaVuSans-50\"/>\n       <use x=\"63.623047\" xlink:href=\"#DejaVuSans-48\"/>\n      </g>\n     </g>\n    </g>\n    <g id=\"xtick_4\">\n     <g id=\"line2d_4\">\n      <g>\n       <use style=\"stroke:#000000;stroke-width:0.8;\" x=\"228.488265\" xlink:href=\"#m5fa0b1695e\" y=\"224.64\"/>\n      </g>\n     </g>\n     <g id=\"text_4\">\n      <!-- 30 -->\n      <defs>\n       <path d=\"M 40.578125 39.3125 \nQ 47.65625 37.796875 51.625 33 \nQ 55.609375 28.21875 55.609375 21.1875 \nQ 55.609375 10.40625 48.1875 4.484375 \nQ 40.765625 -1.421875 27.09375 -1.421875 \nQ 22.515625 -1.421875 17.65625 -0.515625 \nQ 12.796875 0.390625 7.625 2.203125 \nL 7.625 11.71875 \nQ 11.71875 9.328125 16.59375 8.109375 \nQ 21.484375 6.890625 26.8125 6.890625 \nQ 36.078125 6.890625 40.9375 10.546875 \nQ 45.796875 14.203125 45.796875 21.1875 \nQ 45.796875 27.640625 41.28125 31.265625 \nQ 36.765625 34.90625 28.71875 34.90625 \nL 20.21875 34.90625 \nL 20.21875 43.015625 \nL 29.109375 43.015625 \nQ 36.375 43.015625 40.234375 45.921875 \nQ 44.09375 48.828125 44.09375 54.296875 \nQ 44.09375 59.90625 40.109375 62.90625 \nQ 36.140625 65.921875 28.71875 65.921875 \nQ 24.65625 65.921875 20.015625 65.03125 \nQ 15.375 64.15625 9.8125 62.3125 \nL 9.8125 71.09375 \nQ 15.4375 72.65625 20.34375 73.4375 \nQ 25.25 74.21875 29.59375 74.21875 \nQ 40.828125 74.21875 47.359375 69.109375 \nQ 53.90625 64.015625 53.90625 55.328125 \nQ 53.90625 49.265625 50.4375 45.09375 \nQ 46.96875 40.921875 40.578125 39.3125 \nz\n\" id=\"DejaVuSans-51\"/>\n      </defs>\n      <g transform=\"translate(222.125765 239.238437)scale(0.1 -0.1)\">\n       <use xlink:href=\"#DejaVuSans-51\"/>\n       <use x=\"63.623047\" xlink:href=\"#DejaVuSans-48\"/>\n      </g>\n     </g>\n    </g>\n    <g id=\"xtick_5\">\n     <g id=\"line2d_5\">\n      <g>\n       <use style=\"stroke:#000000;stroke-width:0.8;\" x=\"290.603293\" xlink:href=\"#m5fa0b1695e\" y=\"224.64\"/>\n      </g>\n     </g>\n     <g id=\"text_5\">\n      <!-- 40 -->\n      <defs>\n       <path d=\"M 37.796875 64.3125 \nL 12.890625 25.390625 \nL 37.796875 25.390625 \nz\nM 35.203125 72.90625 \nL 47.609375 72.90625 \nL 47.609375 25.390625 \nL 58.015625 25.390625 \nL 58.015625 17.1875 \nL 47.609375 17.1875 \nL 47.609375 0 \nL 37.796875 0 \nL 37.796875 17.1875 \nL 4.890625 17.1875 \nL 4.890625 26.703125 \nz\n\" id=\"DejaVuSans-52\"/>\n      </defs>\n      <g transform=\"translate(284.240793 239.238437)scale(0.1 -0.1)\">\n       <use xlink:href=\"#DejaVuSans-52\"/>\n       <use x=\"63.623047\" xlink:href=\"#DejaVuSans-48\"/>\n      </g>\n     </g>\n    </g>\n    <g id=\"xtick_6\">\n     <g id=\"line2d_6\">\n      <g>\n       <use style=\"stroke:#000000;stroke-width:0.8;\" x=\"352.718321\" xlink:href=\"#m5fa0b1695e\" y=\"224.64\"/>\n      </g>\n     </g>\n     <g id=\"text_6\">\n      <!-- 50 -->\n      <defs>\n       <path d=\"M 10.796875 72.90625 \nL 49.515625 72.90625 \nL 49.515625 64.59375 \nL 19.828125 64.59375 \nL 19.828125 46.734375 \nQ 21.96875 47.46875 24.109375 47.828125 \nQ 26.265625 48.1875 28.421875 48.1875 \nQ 40.625 48.1875 47.75 41.5 \nQ 54.890625 34.8125 54.890625 23.390625 \nQ 54.890625 11.625 47.5625 5.09375 \nQ 40.234375 -1.421875 26.90625 -1.421875 \nQ 22.3125 -1.421875 17.546875 -0.640625 \nQ 12.796875 0.140625 7.71875 1.703125 \nL 7.71875 11.625 \nQ 12.109375 9.234375 16.796875 8.0625 \nQ 21.484375 6.890625 26.703125 6.890625 \nQ 35.15625 6.890625 40.078125 11.328125 \nQ 45.015625 15.765625 45.015625 23.390625 \nQ 45.015625 31 40.078125 35.4375 \nQ 35.15625 39.890625 26.703125 39.890625 \nQ 22.75 39.890625 18.8125 39.015625 \nQ 14.890625 38.140625 10.796875 36.28125 \nz\n\" id=\"DejaVuSans-53\"/>\n      </defs>\n      <g transform=\"translate(346.355821 239.238437)scale(0.1 -0.1)\">\n       <use xlink:href=\"#DejaVuSans-53\"/>\n       <use x=\"63.623047\" xlink:href=\"#DejaVuSans-48\"/>\n      </g>\n     </g>\n    </g>\n   </g>\n   <g id=\"matplotlib.axis_2\">\n    <g id=\"ytick_1\">\n     <g id=\"line2d_7\">\n      <defs>\n       <path d=\"M 0 0 \nL -3.5 0 \n\" id=\"me47915e07a\" style=\"stroke:#000000;stroke-width:0.8;\"/>\n      </defs>\n      <g>\n       <use style=\"stroke:#000000;stroke-width:0.8;\" x=\"26.925\" xlink:href=\"#me47915e07a\" y=\"214.756364\"/>\n      </g>\n     </g>\n     <g id=\"text_7\">\n      <!-- 0 -->\n      <g transform=\"translate(13.5625 218.555582)scale(0.1 -0.1)\">\n       <use xlink:href=\"#DejaVuSans-48\"/>\n      </g>\n     </g>\n    </g>\n    <g id=\"ytick_2\">\n     <g id=\"line2d_8\">\n      <g>\n       <use style=\"stroke:#000000;stroke-width:0.8;\" x=\"26.925\" xlink:href=\"#me47915e07a\" y=\"183.87\"/>\n      </g>\n     </g>\n     <g id=\"text_8\">\n      <!-- 5 -->\n      <g transform=\"translate(13.5625 187.669219)scale(0.1 -0.1)\">\n       <use xlink:href=\"#DejaVuSans-53\"/>\n      </g>\n     </g>\n    </g>\n    <g id=\"ytick_3\">\n     <g id=\"line2d_9\">\n      <g>\n       <use style=\"stroke:#000000;stroke-width:0.8;\" x=\"26.925\" xlink:href=\"#me47915e07a\" y=\"152.983636\"/>\n      </g>\n     </g>\n     <g id=\"text_9\">\n      <!-- 10 -->\n      <g transform=\"translate(7.2 156.782855)scale(0.1 -0.1)\">\n       <use xlink:href=\"#DejaVuSans-49\"/>\n       <use x=\"63.623047\" xlink:href=\"#DejaVuSans-48\"/>\n      </g>\n     </g>\n    </g>\n    <g id=\"ytick_4\">\n     <g id=\"line2d_10\">\n      <g>\n       <use style=\"stroke:#000000;stroke-width:0.8;\" x=\"26.925\" xlink:href=\"#me47915e07a\" y=\"122.097273\"/>\n      </g>\n     </g>\n     <g id=\"text_10\">\n      <!-- 15 -->\n      <g transform=\"translate(7.2 125.896491)scale(0.1 -0.1)\">\n       <use xlink:href=\"#DejaVuSans-49\"/>\n       <use x=\"63.623047\" xlink:href=\"#DejaVuSans-53\"/>\n      </g>\n     </g>\n    </g>\n    <g id=\"ytick_5\">\n     <g id=\"line2d_11\">\n      <g>\n       <use style=\"stroke:#000000;stroke-width:0.8;\" x=\"26.925\" xlink:href=\"#me47915e07a\" y=\"91.210909\"/>\n      </g>\n     </g>\n     <g id=\"text_11\">\n      <!-- 20 -->\n      <g transform=\"translate(7.2 95.010128)scale(0.1 -0.1)\">\n       <use xlink:href=\"#DejaVuSans-50\"/>\n       <use x=\"63.623047\" xlink:href=\"#DejaVuSans-48\"/>\n      </g>\n     </g>\n    </g>\n    <g id=\"ytick_6\">\n     <g id=\"line2d_12\">\n      <g>\n       <use style=\"stroke:#000000;stroke-width:0.8;\" x=\"26.925\" xlink:href=\"#me47915e07a\" y=\"60.324545\"/>\n      </g>\n     </g>\n     <g id=\"text_12\">\n      <!-- 25 -->\n      <g transform=\"translate(7.2 64.123764)scale(0.1 -0.1)\">\n       <use xlink:href=\"#DejaVuSans-50\"/>\n       <use x=\"63.623047\" xlink:href=\"#DejaVuSans-53\"/>\n      </g>\n     </g>\n    </g>\n    <g id=\"ytick_7\">\n     <g id=\"line2d_13\">\n      <g>\n       <use style=\"stroke:#000000;stroke-width:0.8;\" x=\"26.925\" xlink:href=\"#me47915e07a\" y=\"29.438182\"/>\n      </g>\n     </g>\n     <g id=\"text_13\">\n      <!-- 30 -->\n      <g transform=\"translate(7.2 33.237401)scale(0.1 -0.1)\">\n       <use xlink:href=\"#DejaVuSans-51\"/>\n       <use x=\"63.623047\" xlink:href=\"#DejaVuSans-48\"/>\n      </g>\n     </g>\n    </g>\n   </g>\n   <g id=\"line2d_14\">\n    <path clip-path=\"url(#p343e0db8f5)\" d=\"M 42.143182 214.756364 \nL 48.354685 134.451818 \nL 54.566187 29.438182 \nL 60.77769 146.806364 \nL 66.989193 72.679091 \nL 73.200696 152.983636 \nL 79.412199 35.615455 \nL 85.623701 165.338182 \nL 91.835204 152.983636 \nL 98.046707 29.438182 \nL 104.25821 17.083636 \nL 110.469712 29.438182 \nL 116.681215 41.792727 \nL 122.892718 103.565455 \nL 129.104221 165.338182 \nL 135.315724 109.742727 \nL 141.527226 214.756364 \nL 147.738729 214.756364 \nL 153.950232 72.679091 \nL 160.161735 214.756364 \nL 166.373237 202.401818 \nL 172.58474 29.438182 \nL 178.796243 152.983636 \nL 185.007746 214.756364 \nL 191.219249 41.792727 \nL 197.430751 60.324545 \nL 203.642254 214.756364 \nL 209.853757 208.579091 \nL 216.06526 152.983636 \nL 222.276763 183.87 \nL 228.488265 41.792727 \nL 234.699768 165.338182 \nL 240.911271 72.679091 \nL 247.122774 152.983636 \nL 253.334276 165.338182 \nL 259.545779 165.338182 \nL 265.757282 214.756364 \nL 271.968785 214.756364 \nL 278.180288 202.401818 \nL 284.39179 152.983636 \nL 290.603293 214.756364 \nL 296.814796 23.260909 \nL 303.026299 214.756364 \nL 309.237801 214.756364 \nL 315.449304 109.742727 \nL 321.660807 214.756364 \nL 327.87231 214.756364 \nL 334.083813 214.756364 \nL 340.295315 214.756364 \nL 346.506818 214.756364 \n\" style=\"fill:none;stroke:#1f77b4;stroke-linecap:square;stroke-width:1.5;\"/>\n   </g>\n   <g id=\"line2d_15\">\n    <path clip-path=\"url(#p343e0db8f5)\" d=\"M 42.143182 152.983636 \nL 48.354685 152.983636 \nL 54.566187 152.983636 \nL 60.77769 152.983636 \nL 66.989193 152.983636 \nL 73.200696 152.983636 \nL 79.412199 152.983636 \nL 85.623701 152.983636 \nL 91.835204 152.983636 \nL 98.046707 152.983636 \nL 104.25821 152.983636 \nL 110.469712 152.983636 \nL 116.681215 152.983636 \nL 122.892718 152.983636 \nL 129.104221 152.983636 \nL 135.315724 152.983636 \nL 141.527226 152.983636 \nL 147.738729 152.983636 \nL 153.950232 152.983636 \nL 160.161735 152.983636 \nL 166.373237 152.983636 \nL 172.58474 152.983636 \nL 178.796243 152.983636 \nL 185.007746 152.983636 \nL 191.219249 152.983636 \nL 197.430751 152.983636 \nL 203.642254 152.983636 \nL 209.853757 152.983636 \nL 216.06526 152.983636 \nL 222.276763 152.983636 \nL 228.488265 152.983636 \nL 234.699768 152.983636 \nL 240.911271 152.983636 \nL 247.122774 152.983636 \nL 253.334276 152.983636 \nL 259.545779 152.983636 \nL 265.757282 152.983636 \nL 271.968785 152.983636 \nL 278.180288 152.983636 \nL 284.39179 152.983636 \nL 290.603293 152.983636 \nL 296.814796 152.983636 \nL 303.026299 152.983636 \nL 309.237801 152.983636 \nL 315.449304 152.983636 \nL 321.660807 152.983636 \nL 327.87231 152.983636 \nL 334.083813 152.983636 \nL 340.295315 152.983636 \nL 346.506818 152.983636 \n\" style=\"fill:none;stroke:#ff0000;stroke-linecap:square;stroke-width:1.5;\"/>\n   </g>\n   <g id=\"patch_3\">\n    <path d=\"M 26.925 224.64 \nL 26.925 7.2 \n\" style=\"fill:none;stroke:#000000;stroke-linecap:square;stroke-linejoin:miter;stroke-width:0.8;\"/>\n   </g>\n   <g id=\"patch_4\">\n    <path d=\"M 361.725 224.64 \nL 361.725 7.2 \n\" style=\"fill:none;stroke:#000000;stroke-linecap:square;stroke-linejoin:miter;stroke-width:0.8;\"/>\n   </g>\n   <g id=\"patch_5\">\n    <path d=\"M 26.925 224.64 \nL 361.725 224.64 \n\" style=\"fill:none;stroke:#000000;stroke-linecap:square;stroke-linejoin:miter;stroke-width:0.8;\"/>\n   </g>\n   <g id=\"patch_6\">\n    <path d=\"M 26.925 7.2 \nL 361.725 7.2 \n\" style=\"fill:none;stroke:#000000;stroke-linecap:square;stroke-linejoin:miter;stroke-width:0.8;\"/>\n   </g>\n  </g>\n </g>\n <defs>\n  <clipPath id=\"p343e0db8f5\">\n   <rect height=\"217.44\" width=\"334.8\" x=\"26.925\" y=\"7.2\"/>\n  </clipPath>\n </defs>\n</svg>\n",
      "image/png": "[encoded data removed]"
     },
     "metadata": {
      "needs_background": "light"
     }
    }
   ],
   "source": [
    "SLICE_START = 200\n",
    "SLICE_SIZE = 50\n",
    "SLICE_END = SLICE_START + SLICE_SIZE\n",
    "\n",
    "plt.plot(yTest[SLICE_START:SLICE_END,:,toTrain],label='expected')\n",
    "plt.plot(predictions[SLICE_START:SLICE_END,0],color='r',label='predicted')\n",
    "\n",
    "fig.legend()\n",
    "fig.show()"
   ]
  },
  {
   "cell_type": "code",
   "execution_count": null,
   "metadata": {},
   "outputs": [],
   "source": []
  }
 ]
}