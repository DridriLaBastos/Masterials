{
  "nbformat": 4,
  "nbformat_minor": 0,
  "metadata": {
    "language_info": {
      "codemirror_mode": {
        "name": "ipython",
        "version": 3
      },
      "file_extension": ".py",
      "mimetype": "text/x-python",
      "name": "python",
      "nbconvert_exporter": "python",
      "pygments_lexer": "ipython3",
      "version": "3.7.3-final"
    },
    "orig_nbformat": 2,
    "kernelspec": {
      "name": "python3",
      "display_name": "Python 3",
      "language": "python"
    },
    "colab": {
      "name": "prediction.ipynb",
      "provenance": []
    },
    "accelerator": "GPU"
  },
  "cells": [
    {
      "cell_type": "markdown",
      "metadata": {
        "id": "efaZ2tsGBt0c"
      },
      "source": [
        "# Predictions"
      ]
    },
    {
      "cell_type": "markdown",
      "metadata": {
        "id": "hUXYuA1KBt0u"
      },
      "source": [
        "## Imports"
      ]
    },
    {
      "cell_type": "code",
      "metadata": {
        "id": "tkh0VDKiBt0x"
      },
      "source": [
        "import pandas as pd\n",
        "import numpy as np\n",
        "\n",
        "from tensorflow.data import Dataset\n",
        "\n",
        "from sklearn.preprocessing import LabelEncoder\n",
        "from sklearn.preprocessing import OrdinalEncoder\n",
        "\n",
        "from matplotlib import pyplot as plt\n",
        "\n",
        "from keras import Input\n",
        "from keras import Model\n",
        "from keras import layers\n",
        "from keras import models\n",
        "from keras import losses\n",
        "from keras.utils import to_categorical\n",
        "from keras.preprocessing import timeseries_dataset_from_array"
      ],
      "execution_count": 116,
      "outputs": []
    },
    {
      "cell_type": "markdown",
      "metadata": {
        "id": "rh5BJWiTBt0z"
      },
      "source": [
        "## Test whether Notebook is running on Google Colab"
      ]
    },
    {
      "cell_type": "code",
      "metadata": {
        "id": "L1jsBk4HBt00"
      },
      "source": [
        "csvPath = ''\n",
        "if 'google.colab' in str(get_ipython()):\n",
        "  csvPath = 'https://github.com/DridriLaBastos/Masterials/raw/main/PatientsHTA.zip'\n",
        "else:\n",
        "  csvPath = 'PatientsHTA.zip'"
      ],
      "execution_count": 2,
      "outputs": []
    },
    {
      "cell_type": "code",
      "metadata": {
        "id": "R_PZ5gvfBt00"
      },
      "source": [
        "dateColumnNames = [\n",
        "    'contact_date',\n",
        "    'Glycemie_der_date',\n",
        "    'HbA1c_der_date',\n",
        "    'der_date_poids',\n",
        "    'der_date_taille',\n",
        "    'first_contact_date'\n",
        "]\n",
        "\n",
        "df = pd.read_csv(csvPath,engine='c',parse_dates=dateColumnNames)"
      ],
      "execution_count": 3,
      "outputs": []
    },
    {
      "cell_type": "markdown",
      "metadata": {
        "id": "u1H_O4iABt02"
      },
      "source": [
        "# Suppression des lignes trop peu nombreuses\n",
        "\n",
        "Nous souhaitons faire un apprentissage en utilisant la dimension temporelle comme filtre pour le CNN. Pour ça il faut donc que nous ayons plusieurs entrées. Avant de commencer à traîter les données, nous supprimons toutes les personnes qui n'ont pas rendu visite assez souvent à leur médecin. Ainsi, par le biais de ```person_id```, nous avons choisi arbitrairement que pour être utile à l'apprentissage, il faut au moins 3 visites par patients, soient toutes les lignes dont le ```person_id```est contenu plus de 3 fois dans tout le jeu de données."
      ]
    },
    {
      "cell_type": "code",
      "metadata": {
        "id": "OvG-6qVABt04"
      },
      "source": [
        "VISIT_NUMBER = 4\n",
        "valueCounts = df.person_id.value_counts()\n",
        "dfEnought = df[df.person_id.isin(valueCounts[valueCounts.values >= VISIT_NUMBER].index)]"
      ],
      "execution_count": 4,
      "outputs": []
    },
    {
      "cell_type": "markdown",
      "metadata": {
        "id": "t6-dtaEZBt05"
      },
      "source": [
        "# Suppression des colonnes innutiles"
      ]
    },
    {
      "cell_type": "markdown",
      "metadata": {
        "id": "gXurQoWcBt05"
      },
      "source": [
        "## Suppression de la colonne ```age_now```"
      ]
    },
    {
      "cell_type": "markdown",
      "metadata": {
        "id": "PMQLvlvwBt1C"
      },
      "source": [
        "Nous pouvons supprimer la colonne ```age_now``` car les données qu'elle contient sont identiques à celles de la colonne ```year_of_birth```."
      ]
    },
    {
      "cell_type": "code",
      "metadata": {
        "id": "vQ_ecbTgBt1F"
      },
      "source": [
        "dfWithoutAgeNow = dfEnought.drop('Age_now', axis='columns')"
      ],
      "execution_count": 5,
      "outputs": []
    },
    {
      "cell_type": "markdown",
      "metadata": {
        "id": "EVZw6fu5Bt1G"
      },
      "source": [
        "## Suppression de la colonne ```contact_id```\n",
        "\n",
        "En effet, la colonne ```contact_id``` ne représente aucun intérêt pour l'apprentissage car elle ne contient aucun information à même d'influer sur la prédiction."
      ]
    },
    {
      "cell_type": "code",
      "metadata": {
        "id": "bIhnr6Q8Bt1I"
      },
      "source": [
        "dfWithoutContactID = dfWithoutAgeNow.drop('contact_id',axis='columns')"
      ],
      "execution_count": 6,
      "outputs": []
    },
    {
      "cell_type": "markdown",
      "metadata": {
        "id": "oWGOZTSLBt1K"
      },
      "source": [
        "## Suppression des noms de médicaments"
      ]
    },
    {
      "cell_type": "code",
      "metadata": {
        "colab": {
          "base_uri": "https://localhost:8080/",
          "height": 1000
        },
        "id": "bloGqpJsBt1L",
        "outputId": "4b41948b-0163-483e-bcb2-524c08b8ee8a"
      },
      "source": [
        "dfGroupedByMoleculeLabel = dfWithoutContactID.groupby('product_atc_code')[['molecule_label','short_name','long_name','Classe','product_atc']].count()\n",
        "dfGroupedByMoleculeLabel"
      ],
      "execution_count": 7,
      "outputs": [
        {
          "output_type": "execute_result",
          "data": {
            "text/plain": [
              "                  molecule_label  short_name  long_name  Classe  product_atc\n",
              "product_atc_code                                                            \n",
              "C02AC06                     4288        4288       4288    4288         4288\n",
              "C03BX03                      932         932        932     932          932\n",
              "C03CA01                      877         877        877     877          877\n",
              "C03DA01                      187         187        187     187          187\n",
              "C03DA04                       27          27         27      27           27\n",
              "C03EA04                       75          75         75      75           75\n",
              "C03EB01                       14          14         14      14           14\n",
              "C07AA05                        2           2          2       2            2\n",
              "C07AB03                     6466        6466       6466    6466         6466\n",
              "C07AB04                       39          39         39      39           39\n",
              "C07AB07                     6765        6765       6765    6765         6765\n",
              "C07AB12                      509         509        509     509          509\n",
              "C07DB01                       10          10         10      10           10\n",
              "C08CA01                      679         679        679     679          679\n",
              "C08DB01                      108         108        108     108          108\n",
              "C09AA02                       50          50         50      50           50\n",
              "C09AA03                       47          47         47      47           47\n",
              "C09AA04                     1183        1183       1183    1183         1183\n",
              "C09AA05                      232         232        232     232          232\n",
              "C09AA06                       20          20         20      20           20\n",
              "C09BA02                       11          11         11      11           11\n",
              "C09BA04                      920         920        920     920          920\n",
              "C09CA01                      277         277        277     277          277\n",
              "C09CA03                     2702        2702       2702    2702         2702\n",
              "C09CA04                      618         618        618     618          618\n",
              "C09CA06                     1291        1291       1291    1291         1291\n",
              "C09CA07                      109         109        109     109          109\n",
              "C09DA01                      542         542        542     542          542\n",
              "C09DA03                     1834        1834       1834    1834         1834\n",
              "C09DA04                      581         581        581     581          581\n",
              "C09DB04                     5212        5212       5212    5212         5212\n",
              "C09XA02                       63          63         63      63           63\n",
              "C09XA52                      206         206        206     206          206"
            ],
            "text/html": "<div>\n<style scoped>\n    .dataframe tbody tr th:only-of-type {\n        vertical-align: middle;\n    }\n\n    .dataframe tbody tr th {\n        vertical-align: top;\n    }\n\n    .dataframe thead th {\n        text-align: right;\n    }\n</style>\n<table border=\"1\" class=\"dataframe\">\n  <thead>\n    <tr style=\"text-align: right;\">\n      <th></th>\n      <th>molecule_label</th>\n      <th>short_name</th>\n      <th>long_name</th>\n      <th>Classe</th>\n      <th>product_atc</th>\n    </tr>\n    <tr>\n      <th>product_atc_code</th>\n      <th></th>\n      <th></th>\n      <th></th>\n      <th></th>\n      <th></th>\n    </tr>\n  </thead>\n  <tbody>\n    <tr>\n      <th>C02AC06</th>\n      <td>4288</td>\n      <td>4288</td>\n      <td>4288</td>\n      <td>4288</td>\n      <td>4288</td>\n    </tr>\n    <tr>\n      <th>C03BX03</th>\n      <td>932</td>\n      <td>932</td>\n      <td>932</td>\n      <td>932</td>\n      <td>932</td>\n    </tr>\n    <tr>\n      <th>C03CA01</th>\n      <td>877</td>\n      <td>877</td>\n      <td>877</td>\n      <td>877</td>\n      <td>877</td>\n    </tr>\n    <tr>\n      <th>C03DA01</th>\n      <td>187</td>\n      <td>187</td>\n      <td>187</td>\n      <td>187</td>\n      <td>187</td>\n    </tr>\n    <tr>\n      <th>C03DA04</th>\n      <td>27</td>\n      <td>27</td>\n      <td>27</td>\n      <td>27</td>\n      <td>27</td>\n    </tr>\n    <tr>\n      <th>C03EA04</th>\n      <td>75</td>\n      <td>75</td>\n      <td>75</td>\n      <td>75</td>\n      <td>75</td>\n    </tr>\n    <tr>\n      <th>C03EB01</th>\n      <td>14</td>\n      <td>14</td>\n      <td>14</td>\n      <td>14</td>\n      <td>14</td>\n    </tr>\n    <tr>\n      <th>C07AA05</th>\n      <td>2</td>\n      <td>2</td>\n      <td>2</td>\n      <td>2</td>\n      <td>2</td>\n    </tr>\n    <tr>\n      <th>C07AB03</th>\n      <td>6466</td>\n      <td>6466</td>\n      <td>6466</td>\n      <td>6466</td>\n      <td>6466</td>\n    </tr>\n    <tr>\n      <th>C07AB04</th>\n      <td>39</td>\n      <td>39</td>\n      <td>39</td>\n      <td>39</td>\n      <td>39</td>\n    </tr>\n    <tr>\n      <th>C07AB07</th>\n      <td>6765</td>\n      <td>6765</td>\n      <td>6765</td>\n      <td>6765</td>\n      <td>6765</td>\n    </tr>\n    <tr>\n      <th>C07AB12</th>\n      <td>509</td>\n      <td>509</td>\n      <td>509</td>\n      <td>509</td>\n      <td>509</td>\n    </tr>\n    <tr>\n      <th>C07DB01</th>\n      <td>10</td>\n      <td>10</td>\n      <td>10</td>\n      <td>10</td>\n      <td>10</td>\n    </tr>\n    <tr>\n      <th>C08CA01</th>\n      <td>679</td>\n      <td>679</td>\n      <td>679</td>\n      <td>679</td>\n      <td>679</td>\n    </tr>\n    <tr>\n      <th>C08DB01</th>\n      <td>108</td>\n      <td>108</td>\n      <td>108</td>\n      <td>108</td>\n      <td>108</td>\n    </tr>\n    <tr>\n      <th>C09AA02</th>\n      <td>50</td>\n      <td>50</td>\n      <td>50</td>\n      <td>50</td>\n      <td>50</td>\n    </tr>\n    <tr>\n      <th>C09AA03</th>\n      <td>47</td>\n      <td>47</td>\n      <td>47</td>\n      <td>47</td>\n      <td>47</td>\n    </tr>\n    <tr>\n      <th>C09AA04</th>\n      <td>1183</td>\n      <td>1183</td>\n      <td>1183</td>\n      <td>1183</td>\n      <td>1183</td>\n    </tr>\n    <tr>\n      <th>C09AA05</th>\n      <td>232</td>\n      <td>232</td>\n      <td>232</td>\n      <td>232</td>\n      <td>232</td>\n    </tr>\n    <tr>\n      <th>C09AA06</th>\n      <td>20</td>\n      <td>20</td>\n      <td>20</td>\n      <td>20</td>\n      <td>20</td>\n    </tr>\n    <tr>\n      <th>C09BA02</th>\n      <td>11</td>\n      <td>11</td>\n      <td>11</td>\n      <td>11</td>\n      <td>11</td>\n    </tr>\n    <tr>\n      <th>C09BA04</th>\n      <td>920</td>\n      <td>920</td>\n      <td>920</td>\n      <td>920</td>\n      <td>920</td>\n    </tr>\n    <tr>\n      <th>C09CA01</th>\n      <td>277</td>\n      <td>277</td>\n      <td>277</td>\n      <td>277</td>\n      <td>277</td>\n    </tr>\n    <tr>\n      <th>C09CA03</th>\n      <td>2702</td>\n      <td>2702</td>\n      <td>2702</td>\n      <td>2702</td>\n      <td>2702</td>\n    </tr>\n    <tr>\n      <th>C09CA04</th>\n      <td>618</td>\n      <td>618</td>\n      <td>618</td>\n      <td>618</td>\n      <td>618</td>\n    </tr>\n    <tr>\n      <th>C09CA06</th>\n      <td>1291</td>\n      <td>1291</td>\n      <td>1291</td>\n      <td>1291</td>\n      <td>1291</td>\n    </tr>\n    <tr>\n      <th>C09CA07</th>\n      <td>109</td>\n      <td>109</td>\n      <td>109</td>\n      <td>109</td>\n      <td>109</td>\n    </tr>\n    <tr>\n      <th>C09DA01</th>\n      <td>542</td>\n      <td>542</td>\n      <td>542</td>\n      <td>542</td>\n      <td>542</td>\n    </tr>\n    <tr>\n      <th>C09DA03</th>\n      <td>1834</td>\n      <td>1834</td>\n      <td>1834</td>\n      <td>1834</td>\n      <td>1834</td>\n    </tr>\n    <tr>\n      <th>C09DA04</th>\n      <td>581</td>\n      <td>581</td>\n      <td>581</td>\n      <td>581</td>\n      <td>581</td>\n    </tr>\n    <tr>\n      <th>C09DB04</th>\n      <td>5212</td>\n      <td>5212</td>\n      <td>5212</td>\n      <td>5212</td>\n      <td>5212</td>\n    </tr>\n    <tr>\n      <th>C09XA02</th>\n      <td>63</td>\n      <td>63</td>\n      <td>63</td>\n      <td>63</td>\n      <td>63</td>\n    </tr>\n    <tr>\n      <th>C09XA52</th>\n      <td>206</td>\n      <td>206</td>\n      <td>206</td>\n      <td>206</td>\n      <td>206</td>\n    </tr>\n  </tbody>\n</table>\n</div>"
          },
          "metadata": {},
          "execution_count": 7
        }
      ]
    },
    {
      "cell_type": "markdown",
      "metadata": {
        "id": "CTvsCsr8Bt1R"
      },
      "source": [
        "Nous voyons qu'il existe différentes colonnes dont le but est de désigner le médicament prescrit lors de la visite, or nous n'avons besoin que d'une seule colonne garder cette information. De ce fait, nous avons choisi de garder ```product_atc_code```."
      ]
    },
    {
      "cell_type": "code",
      "metadata": {
        "colab": {
          "base_uri": "https://localhost:8080/",
          "height": 464
        },
        "id": "pFu6UZLDBt1T",
        "outputId": "ac36356c-8976-490e-d010-fbc06ccf1031"
      },
      "source": [
        "dropColumnNames = dfGroupedByMoleculeLabel.columns.to_list()\n",
        "dfWithATCCode = dfWithoutContactID.drop(dropColumnNames, axis='columns')\n",
        "dfWithATCCode"
      ],
      "execution_count": 8,
      "outputs": [
        {
          "output_type": "execute_result",
          "data": {
            "text/plain": [
              "        person_id      specialty_label contact_date           cip  dosage_1  \\\n",
              "1        263659.0  Médecin généraliste   2014-09-24  3.400960e+12      20.0   \n",
              "2        263659.0  Médecin généraliste   2014-09-12  3.400960e+12      20.0   \n",
              "3        263659.0  Médecin généraliste   2015-03-26  3.400960e+12      20.0   \n",
              "4        263659.0  Médecin généraliste   2015-06-05  3.400960e+12      20.0   \n",
              "6      25182917.0  Médecin généraliste   2013-03-27  3.400960e+12     300.0   \n",
              "...           ...                  ...          ...           ...       ...   \n",
              "50625  26636453.0  Médecin généraliste   2016-11-16  3.400940e+12     500.0   \n",
              "50627  18889430.0  Médecin généraliste   2013-02-01  3.400940e+12     500.0   \n",
              "50629   2222336.0  Médecin généraliste   2013-07-01  3.400940e+12     500.0   \n",
              "50631  11363518.0  Médecin généraliste   2013-01-24  3.400940e+12     500.0   \n",
              "50632  18889430.0  Médecin généraliste   2013-01-24  3.400940e+12     500.0   \n",
              "\n",
              "        dose_1  dose_2 product_atc_code  box  quantity  ... HbA1c_der_date  \\\n",
              "1        240.0    24.0         C03CA01   1.0      4.00  ...            NaT   \n",
              "2        240.0    24.0         C03CA01   1.0      4.00  ...            NaT   \n",
              "3        240.0    24.0         C03CA01   1.0      4.00  ...            NaT   \n",
              "4        240.0    24.0         C03CA01   1.0      4.00  ...            NaT   \n",
              "6      16800.0    56.0         C09XA02   2.0      1.00  ...            NaT   \n",
              "...        ...     ...              ...  ...       ...  ...            ...   \n",
              "50625  15000.0    30.0         C03CA01   1.0      0.75  ...     2017-10-03   \n",
              "50627  15000.0    30.0         C03CA01   1.0      0.50  ...     2017-05-15   \n",
              "50629  15000.0    30.0         C03CA01   2.0      0.25  ...            NaT   \n",
              "50631  15000.0    30.0         C03CA01   1.0      0.25  ...            NaT   \n",
              "50632  15000.0    30.0         C03CA01   1.0      0.50  ...     2017-05-15   \n",
              "\n",
              "       HbA1c_der_mesure gender_code Age_presc  year_of_birth  Poids  \\\n",
              "1                   NaN           M      96.0         1918.0    NaN   \n",
              "2                   NaN           M      96.0         1918.0    NaN   \n",
              "3                   NaN           M      97.0         1918.0    NaN   \n",
              "4                   NaN           M      97.0         1918.0    NaN   \n",
              "6                   NaN           M      63.0         1950.0    NaN   \n",
              "...                 ...         ...       ...            ...    ...   \n",
              "50625              5.60           M      79.0         1937.0   83.9   \n",
              "50627              8.01           M      85.0         1928.0    NaN   \n",
              "50629               NaN           F      78.0         1935.0    NaN   \n",
              "50631               NaN           M      80.0         1933.0    NaN   \n",
              "50632              8.01           M      85.0         1928.0    NaN   \n",
              "\n",
              "       der_date_poids  Taille der_date_taille  first_contact_date  \n",
              "1                 NaT     NaN             NaT          1998-04-02  \n",
              "2                 NaT     NaN             NaT          1998-04-02  \n",
              "3                 NaT     NaN             NaT          1998-04-02  \n",
              "4                 NaT     NaN             NaT          1998-04-02  \n",
              "6                 NaT     NaN             NaT          2011-04-04  \n",
              "...               ...     ...             ...                 ...  \n",
              "50625      2018-02-21     NaN             NaT          2012-02-14  \n",
              "50627             NaT     NaN             NaT          2007-12-02  \n",
              "50629             NaT     NaN             NaT          2006-02-23  \n",
              "50631             NaT     NaN             NaT          1998-01-27  \n",
              "50632             NaT     NaN             NaT          2007-12-02  \n",
              "\n",
              "[36876 rows x 31 columns]"
            ],
            "text/html": "<div>\n<style scoped>\n    .dataframe tbody tr th:only-of-type {\n        vertical-align: middle;\n    }\n\n    .dataframe tbody tr th {\n        vertical-align: top;\n    }\n\n    .dataframe thead th {\n        text-align: right;\n    }\n</style>\n<table border=\"1\" class=\"dataframe\">\n  <thead>\n    <tr style=\"text-align: right;\">\n      <th></th>\n      <th>person_id</th>\n      <th>specialty_label</th>\n      <th>contact_date</th>\n      <th>cip</th>\n      <th>dosage_1</th>\n      <th>dose_1</th>\n      <th>dose_2</th>\n      <th>product_atc_code</th>\n      <th>box</th>\n      <th>quantity</th>\n      <th>...</th>\n      <th>HbA1c_der_date</th>\n      <th>HbA1c_der_mesure</th>\n      <th>gender_code</th>\n      <th>Age_presc</th>\n      <th>year_of_birth</th>\n      <th>Poids</th>\n      <th>der_date_poids</th>\n      <th>Taille</th>\n      <th>der_date_taille</th>\n      <th>first_contact_date</th>\n    </tr>\n  </thead>\n  <tbody>\n    <tr>\n      <th>1</th>\n      <td>263659.0</td>\n      <td>Médecin généraliste</td>\n      <td>2014-09-24</td>\n      <td>3.400960e+12</td>\n      <td>20.0</td>\n      <td>240.0</td>\n      <td>24.0</td>\n      <td>C03CA01</td>\n      <td>1.0</td>\n      <td>4.00</td>\n      <td>...</td>\n      <td>NaT</td>\n      <td>NaN</td>\n      <td>M</td>\n      <td>96.0</td>\n      <td>1918.0</td>\n      <td>NaN</td>\n      <td>NaT</td>\n      <td>NaN</td>\n      <td>NaT</td>\n      <td>1998-04-02</td>\n    </tr>\n    <tr>\n      <th>2</th>\n      <td>263659.0</td>\n      <td>Médecin généraliste</td>\n      <td>2014-09-12</td>\n      <td>3.400960e+12</td>\n      <td>20.0</td>\n      <td>240.0</td>\n      <td>24.0</td>\n      <td>C03CA01</td>\n      <td>1.0</td>\n      <td>4.00</td>\n      <td>...</td>\n      <td>NaT</td>\n      <td>NaN</td>\n      <td>M</td>\n      <td>96.0</td>\n      <td>1918.0</td>\n      <td>NaN</td>\n      <td>NaT</td>\n      <td>NaN</td>\n      <td>NaT</td>\n      <td>1998-04-02</td>\n    </tr>\n    <tr>\n      <th>3</th>\n      <td>263659.0</td>\n      <td>Médecin généraliste</td>\n      <td>2015-03-26</td>\n      <td>3.400960e+12</td>\n      <td>20.0</td>\n      <td>240.0</td>\n      <td>24.0</td>\n      <td>C03CA01</td>\n      <td>1.0</td>\n      <td>4.00</td>\n      <td>...</td>\n      <td>NaT</td>\n      <td>NaN</td>\n      <td>M</td>\n      <td>97.0</td>\n      <td>1918.0</td>\n      <td>NaN</td>\n      <td>NaT</td>\n      <td>NaN</td>\n      <td>NaT</td>\n      <td>1998-04-02</td>\n    </tr>\n    <tr>\n      <th>4</th>\n      <td>263659.0</td>\n      <td>Médecin généraliste</td>\n      <td>2015-06-05</td>\n      <td>3.400960e+12</td>\n      <td>20.0</td>\n      <td>240.0</td>\n      <td>24.0</td>\n      <td>C03CA01</td>\n      <td>1.0</td>\n      <td>4.00</td>\n      <td>...</td>\n      <td>NaT</td>\n      <td>NaN</td>\n      <td>M</td>\n      <td>97.0</td>\n      <td>1918.0</td>\n      <td>NaN</td>\n      <td>NaT</td>\n      <td>NaN</td>\n      <td>NaT</td>\n      <td>1998-04-02</td>\n    </tr>\n    <tr>\n      <th>6</th>\n      <td>25182917.0</td>\n      <td>Médecin généraliste</td>\n      <td>2013-03-27</td>\n      <td>3.400960e+12</td>\n      <td>300.0</td>\n      <td>16800.0</td>\n      <td>56.0</td>\n      <td>C09XA02</td>\n      <td>2.0</td>\n      <td>1.00</td>\n      <td>...</td>\n      <td>NaT</td>\n      <td>NaN</td>\n      <td>M</td>\n      <td>63.0</td>\n      <td>1950.0</td>\n      <td>NaN</td>\n      <td>NaT</td>\n      <td>NaN</td>\n      <td>NaT</td>\n      <td>2011-04-04</td>\n    </tr>\n    <tr>\n      <th>...</th>\n      <td>...</td>\n      <td>...</td>\n      <td>...</td>\n      <td>...</td>\n      <td>...</td>\n      <td>...</td>\n      <td>...</td>\n      <td>...</td>\n      <td>...</td>\n      <td>...</td>\n      <td>...</td>\n      <td>...</td>\n      <td>...</td>\n      <td>...</td>\n      <td>...</td>\n      <td>...</td>\n      <td>...</td>\n      <td>...</td>\n      <td>...</td>\n      <td>...</td>\n      <td>...</td>\n    </tr>\n    <tr>\n      <th>50625</th>\n      <td>26636453.0</td>\n      <td>Médecin généraliste</td>\n      <td>2016-11-16</td>\n      <td>3.400940e+12</td>\n      <td>500.0</td>\n      <td>15000.0</td>\n      <td>30.0</td>\n      <td>C03CA01</td>\n      <td>1.0</td>\n      <td>0.75</td>\n      <td>...</td>\n      <td>2017-10-03</td>\n      <td>5.60</td>\n      <td>M</td>\n      <td>79.0</td>\n      <td>1937.0</td>\n      <td>83.9</td>\n      <td>2018-02-21</td>\n      <td>NaN</td>\n      <td>NaT</td>\n      <td>2012-02-14</td>\n    </tr>\n    <tr>\n      <th>50627</th>\n      <td>18889430.0</td>\n      <td>Médecin généraliste</td>\n      <td>2013-02-01</td>\n      <td>3.400940e+12</td>\n      <td>500.0</td>\n      <td>15000.0</td>\n      <td>30.0</td>\n      <td>C03CA01</td>\n      <td>1.0</td>\n      <td>0.50</td>\n      <td>...</td>\n      <td>2017-05-15</td>\n      <td>8.01</td>\n      <td>M</td>\n      <td>85.0</td>\n      <td>1928.0</td>\n      <td>NaN</td>\n      <td>NaT</td>\n      <td>NaN</td>\n      <td>NaT</td>\n      <td>2007-12-02</td>\n    </tr>\n    <tr>\n      <th>50629</th>\n      <td>2222336.0</td>\n      <td>Médecin généraliste</td>\n      <td>2013-07-01</td>\n      <td>3.400940e+12</td>\n      <td>500.0</td>\n      <td>15000.0</td>\n      <td>30.0</td>\n      <td>C03CA01</td>\n      <td>2.0</td>\n      <td>0.25</td>\n      <td>...</td>\n      <td>NaT</td>\n      <td>NaN</td>\n      <td>F</td>\n      <td>78.0</td>\n      <td>1935.0</td>\n      <td>NaN</td>\n      <td>NaT</td>\n      <td>NaN</td>\n      <td>NaT</td>\n      <td>2006-02-23</td>\n    </tr>\n    <tr>\n      <th>50631</th>\n      <td>11363518.0</td>\n      <td>Médecin généraliste</td>\n      <td>2013-01-24</td>\n      <td>3.400940e+12</td>\n      <td>500.0</td>\n      <td>15000.0</td>\n      <td>30.0</td>\n      <td>C03CA01</td>\n      <td>1.0</td>\n      <td>0.25</td>\n      <td>...</td>\n      <td>NaT</td>\n      <td>NaN</td>\n      <td>M</td>\n      <td>80.0</td>\n      <td>1933.0</td>\n      <td>NaN</td>\n      <td>NaT</td>\n      <td>NaN</td>\n      <td>NaT</td>\n      <td>1998-01-27</td>\n    </tr>\n    <tr>\n      <th>50632</th>\n      <td>18889430.0</td>\n      <td>Médecin généraliste</td>\n      <td>2013-01-24</td>\n      <td>3.400940e+12</td>\n      <td>500.0</td>\n      <td>15000.0</td>\n      <td>30.0</td>\n      <td>C03CA01</td>\n      <td>1.0</td>\n      <td>0.50</td>\n      <td>...</td>\n      <td>2017-05-15</td>\n      <td>8.01</td>\n      <td>M</td>\n      <td>85.0</td>\n      <td>1928.0</td>\n      <td>NaN</td>\n      <td>NaT</td>\n      <td>NaN</td>\n      <td>NaT</td>\n      <td>2007-12-02</td>\n    </tr>\n  </tbody>\n</table>\n<p>36876 rows × 31 columns</p>\n</div>"
          },
          "metadata": {},
          "execution_count": 8
        }
      ]
    },
    {
      "cell_type": "markdown",
      "metadata": {
        "id": "_OunT7DyBt1U"
      },
      "source": [
        "## Suppression des colonnes ```'*der*'```\n",
        "\n",
        "Les colonnes ```'*der*'``` contiennent la dernière donnée. Cette donnée peut être récupérée grâce à la date de la visite et aux valeurs mesurées. Par exemple, il n'est pas nécessaire d'avoir une colonne ```der_date``` ou ```der_mesure```. Les données de ces deux types de colonnes peuvent être récupérées grâce à la ligne qui correspond à la dernière date de la mesure, que nous pouvons trouver grâce à la colonne ```contact_date```."
      ]
    },
    {
      "cell_type": "code",
      "metadata": {
        "id": "sOeBfkOXBt1Z"
      },
      "source": [
        "derColumnNames = []\n",
        "\n",
        "for c in dfWithATCCode.columns:\n",
        "    if ('der_date' in c) or ('der_mesure' in c):\n",
        "        derColumnNames.append(c)\n",
        "\n",
        "dfWithoutDer = dfWithATCCode.drop(derColumnNames,axis='columns')"
      ],
      "execution_count": 9,
      "outputs": []
    },
    {
      "cell_type": "markdown",
      "metadata": {
        "id": "UMkds8B1Bt1Z"
      },
      "source": [
        "## Suppression des colonnes ```Taille``` et ```Poids```"
      ]
    },
    {
      "cell_type": "code",
      "metadata": {
        "colab": {
          "base_uri": "https://localhost:8080/"
        },
        "id": "O5poB10WBt1b",
        "outputId": "cc27a00f-e30c-41b5-dca8-a2e896d38cb9"
      },
      "source": [
        "print(f\"Taille: {dfWithoutDer.Taille.isnull().sum()}/{len(dfWithoutDer.Taille)} valeurs nulles (={dfWithoutDer.Taille.isnull().sum()/len(dfWithoutDer.Taille)*100:.2f}%)\")\n",
        "\n",
        "print(f\"Poids: {dfWithoutDer.Poids.isnull().sum()}/{len(dfWithoutDer.Poids)} valeurs nulles (={dfWithoutDer.Poids.isnull().sum()/len(dfWithoutDer.Poids)*100:.2f}%)\".format())"
      ],
      "execution_count": 10,
      "outputs": [
        {
          "output_type": "stream",
          "name": "stdout",
          "text": [
            "Taille: 18150/36876 valeurs nulles (=49.22%)\nPoids: 11389/36876 valeurs nulles (=30.88%)\n"
          ]
        }
      ]
    },
    {
      "cell_type": "markdown",
      "metadata": {
        "id": "CQPIhvbZBt1e"
      },
      "source": [
        "Nous voyons qu'il y a beaucoup trop de valeur nulles. Ces deux colonnes semblent donc difficilement exploitable. Nous pouvons cependant vérifier si pour les patients toutes les valeurs sont à nulles ou s'il n'existe que quelques entrées à nulle par patient mais qu'il y en a beaucoup. Dans ce cas nous pourrions enlever les lignes contenant des valeurs nulles, ou trouver un moyen d'attribuer une valeur à la place de Nan"
      ]
    },
    {
      "cell_type": "code",
      "metadata": {
        "id": "i3Ubb3pwBt1e"
      },
      "source": [
        "dfPersonIdIndex = dfWithoutDer.set_index('person_id',drop=True).sort_index()\n",
        "dfTPGroupBy = dfPersonIdIndex.groupby('person_id')"
      ],
      "execution_count": 11,
      "outputs": []
    },
    {
      "cell_type": "code",
      "metadata": {
        "tags": [],
        "colab": {
          "base_uri": "https://localhost:8080/"
        },
        "id": "C0O4-WeQBt1i",
        "outputId": "31a85d52-a728-4968-85d1-64540279e641"
      },
      "source": [
        "maybeUseful = 0\n",
        "valeurNulle = 0\n",
        "for i,_ in dfTPGroupBy:\n",
        "    if dfPersonIdIndex.loc[i].Taille.isnull().sum() > 0:\n",
        "        valeurNulle += 1\n",
        "        if dfPersonIdIndex.loc[i].Taille.isnull().sum() < len(dfPersonIdIndex.loc[i].Taille):\n",
        "            maybeUseful += 1\n",
        "\n",
        "print(f\"Taille: {maybeUseful} / {valeurNulle} utilisables\")\n",
        "\n",
        "maybeUseful = 0\n",
        "valeurNulle = 0\n",
        "c = 0\n",
        "for i,_ in dfTPGroupBy:\n",
        "    if dfPersonIdIndex.loc[i].Poids.isnull().sum() > 0:\n",
        "        valeurNulle += 1\n",
        "        if dfPersonIdIndex.loc[i].Poids.isnull().sum() < len(dfPersonIdIndex.loc[i].Poids):\n",
        "            maybeUseful += 1\n",
        "\n",
        "print(f\"Poids: {maybeUseful} / {valeurNulle} utilisables\")"
      ],
      "execution_count": 12,
      "outputs": [
        {
          "output_type": "stream",
          "name": "stdout",
          "text": [
            "Taille: 0 / 2219 utilisables\n",
            "Poids: 0 / 1498 utilisables\n"
          ]
        }
      ]
    },
    {
      "cell_type": "code",
      "metadata": {
        "tags": [],
        "colab": {
          "base_uri": "https://localhost:8080/"
        },
        "id": "0U8N89ChBt1j",
        "outputId": "b6f1ffad-f052-4a40-af7e-ac4677dc88c3"
      },
      "source": [
        "tailleNan = 0\n",
        "poidsNan = 0\n",
        "oneOfBoth = 0\n",
        "bothNan = 0\n",
        "totalEntries = 0\n",
        "for i,_ in dfTPGroupBy:\n",
        "    totalEntries += 1\n",
        "    hasTailleNan = False\n",
        "    hasPoidsNan = False\n",
        "    if dfPersonIdIndex.loc[i].Taille.isnull().sum() != 0:\n",
        "        tailleNan += 1\n",
        "        hasTailleNan = True\n",
        "    if dfPersonIdIndex.loc[i].Poids.isnull().sum() != 0:\n",
        "        poidsNan += 1\n",
        "        hasPoidsNan = True\n",
        "    if hasTailleNan or hasPoidsNan:\n",
        "        oneOfBoth += 1\n",
        "    if hasTailleNan and hasPoidsNan:\n",
        "        bothNan += 1\n",
        "print(\" --- Statistique par Utilisateur --- \")\n",
        "print(f\"{tailleNan} / {totalEntries} ({tailleNan/totalEntries*100:.2f}%) des utilisateurs ont une valeur nulle pour la taille\")\n",
        "print(f\"{poidsNan} / {totalEntries} ({poidsNan/totalEntries*100:.2f}%) des utilisateurs ont une valeur nulle pour le poids\")\n",
        "print(f\"{oneOfBoth} / {totalEntries} ({oneOfBoth/totalEntries*100:.2f}%) des utilisateurs ont une valeur nulle pour la taille ou le poids\")\n",
        "print(f\"{bothNan} / {totalEntries} ({bothNan/totalEntries*100:.2f}%) des utilisateurs ont les deux valeurs nulle pour la taille ou le poids\")\n",
        "\n"
      ],
      "execution_count": 13,
      "outputs": [
        {
          "output_type": "stream",
          "name": "stdout",
          "text": [
            " --- Statistique par Utilisateur --- \n2219 / 4227 (52.50%) des utilisateurs ont une valeur nulle pour la taille\n1498 / 4227 (35.44%) des utilisateurs ont une valeur nulle pour le poids\n2220 / 4227 (52.52%) des utilisateurs ont une valeur nulle pour la taille ou le poids\n1497 / 4227 (35.42%) des utilisateurs ont les deux valeurs nulle pour la taille ou le poids\n"
          ]
        }
      ]
    },
    {
      "cell_type": "markdown",
      "metadata": {
        "id": "M5CF4sP4Bt1k"
      },
      "source": [
        "Nous concluons de l'analyse de ces données que soit toutes les valeurs de poids et de tailles sont entrées, soit aucunes. Cela rend ces informations innexploitables et nous supprimons donc les colonnes"
      ]
    },
    {
      "cell_type": "code",
      "metadata": {
        "id": "qBEk7h-fBt1k"
      },
      "source": [
        "dfWithoutPT = dfWithoutDer.drop(['Taille', 'Poids'],axis='columns')"
      ],
      "execution_count": 14,
      "outputs": []
    },
    {
      "cell_type": "markdown",
      "metadata": {
        "id": "TQsluJOxBt1l"
      },
      "source": [
        "## Suppressions diverses"
      ]
    },
    {
      "cell_type": "markdown",
      "metadata": {
        "id": "rMN5ip8jBt1r"
      },
      "source": [
        "Enfin, certaines colonnes n'apportent pas d'informations nécessaires pour la prédiction, nous choisissons de toutes les supprimer ici"
      ]
    },
    {
      "cell_type": "code",
      "metadata": {
        "colab": {
          "base_uri": "https://localhost:8080/"
        },
        "id": "wLPjLEKmBt1s",
        "outputId": "36aa2ef9-c17a-4a77-9281-5840d634a3a4"
      },
      "source": [
        "dfWithoutPT.isnull().sum()"
      ],
      "execution_count": 15,
      "outputs": [
        {
          "output_type": "execute_result",
          "data": {
            "text/plain": [
              "person_id                               0\n",
              "specialty_label                         0\n",
              "contact_date                            0\n",
              "cip                                     0\n",
              "dosage_1                                0\n",
              "dose_1                                  0\n",
              "dose_2                                  0\n",
              "product_atc_code                        0\n",
              "box                                   253\n",
              "quantity                              153\n",
              "frequency_label                       147\n",
              "duration                             5100\n",
              "Traitement_Autres_A10_dep_201701    29649\n",
              "Traitement_Insulines_dep_201701     34850\n",
              "Pulse                                   0\n",
              "Tension Diastolique                     0\n",
              "Tension Systolique                      0\n",
              "Glycemie_prescription               35937\n",
              "HbA1c_prescription                  35766\n",
              "gender_code                             0\n",
              "Age_presc                               0\n",
              "year_of_birth                           0\n",
              "first_contact_date                      0\n",
              "dtype: int64"
            ]
          },
          "metadata": {},
          "execution_count": 15
        }
      ]
    },
    {
      "cell_type": "markdown",
      "metadata": {
        "id": "7o2HV0vqBt1t"
      },
      "source": [
        "Les colonnes restantes avec des valeurs ```Nan``` ne nous intéresse pas, nous pouvons les supprimer"
      ]
    },
    {
      "cell_type": "code",
      "metadata": {
        "id": "Goh72Y-PBt1v"
      },
      "source": [
        "nullAmount = dfWithoutPT.isnull().sum()\n",
        "\n",
        "columnNameToDrop = nullAmount[nullAmount.values > 0].index\n",
        "dfFinal = dfWithoutPT.drop(columnNameToDrop,axis='columns').drop(['cip','dosage_1','dose_1','dose_2','specialty_label','gender_code'],axis='columns')"
      ],
      "execution_count": 16,
      "outputs": []
    },
    {
      "cell_type": "markdown",
      "metadata": {
        "id": "hF4hIDAOBt1w"
      },
      "source": [
        "# Traîtement des données"
      ]
    },
    {
      "cell_type": "markdown",
      "metadata": {
        "id": "KYWq5P6RBt1w"
      },
      "source": [
        "## Conversion des données"
      ]
    },
    {
      "cell_type": "markdown",
      "metadata": {
        "id": "6EH8JMyWBt1x"
      },
      "source": [
        "### Ajout du temps entre chaque visite (ce que l'on veut prédire)"
      ]
    },
    {
      "cell_type": "markdown",
      "metadata": {
        "id": "RKXnZphKBt1z"
      },
      "source": [
        "Nous créons d'abord la colonne ```wait_time``` pour qu'elle ait le type de donnée ```deltatime```. nous itèrerons plus tard sur chaque valeur de cette colonne pour lui enlever la valeur précédante pour chaque utilisateur, et ainsi avoir l'intervalle de temps entre chaque visite"
      ]
    },
    {
      "cell_type": "code",
      "metadata": {
        "tags": [],
        "id": "ZfzpABVKBt11"
      },
      "source": [
        "wait_time = dfFinal.contact_date - dfFinal.first_contact_date\n",
        "dfWithTime = dfFinal.drop('first_contact_date',axis='columns')\n",
        "dfWithTime['wait_time'] = wait_time\n",
        "dfWithTime['contactDateYear'] = dfWithTime.contact_date.dt.year\n",
        "dfWithTime['contactDateMonth'] = dfWithTime.contact_date.dt.month\n",
        "dfWithTime['contactDateDayOfYear'] = dfWithTime.contact_date.dt.dayofyear"
      ],
      "execution_count": 17,
      "outputs": []
    },
    {
      "cell_type": "code",
      "metadata": {
        "colab": {
          "base_uri": "https://localhost:8080/",
          "height": 447
        },
        "id": "R3atHvmPBt13",
        "outputId": "0ad00041-877d-4f36-e6a4-e2df6cc2c7d0"
      },
      "source": [
        "dfWithTime"
      ],
      "execution_count": 18,
      "outputs": [
        {
          "output_type": "execute_result",
          "data": {
            "text/plain": [
              "        person_id contact_date product_atc_code  Pulse  Tension Diastolique  \\\n",
              "1        263659.0   2014-09-24         C03CA01    70.0                110.0   \n",
              "2        263659.0   2014-09-12         C03CA01    70.0                118.0   \n",
              "3        263659.0   2015-03-26         C03CA01    60.0                120.0   \n",
              "4        263659.0   2015-06-05         C03CA01    60.0                120.0   \n",
              "6      25182917.0   2013-03-27         C09XA02    64.0                145.0   \n",
              "...           ...          ...              ...    ...                  ...   \n",
              "50625  26636453.0   2016-11-16         C03CA01    60.0                120.0   \n",
              "50627  18889430.0   2013-02-01         C03CA01    60.0                120.0   \n",
              "50629   2222336.0   2013-07-01         C03CA01    72.0                130.0   \n",
              "50631  11363518.0   2013-01-24         C03CA01    72.0                139.0   \n",
              "50632  18889430.0   2013-01-24         C03CA01    72.0                120.0   \n",
              "\n",
              "       Tension Systolique  Age_presc  year_of_birth wait_time  \\\n",
              "1                    60.0       96.0         1918.0 6019 days   \n",
              "2                    70.0       96.0         1918.0 6007 days   \n",
              "3                    70.0       97.0         1918.0 6202 days   \n",
              "4                    70.0       97.0         1918.0 6273 days   \n",
              "6                    85.0       63.0         1950.0  723 days   \n",
              "...                   ...        ...            ...       ...   \n",
              "50625                60.0       79.0         1937.0 1737 days   \n",
              "50627                70.0       85.0         1928.0 1888 days   \n",
              "50629                70.0       78.0         1935.0 2685 days   \n",
              "50631                70.0       80.0         1933.0 5476 days   \n",
              "50632                70.0       85.0         1928.0 1880 days   \n",
              "\n",
              "       contactDateYear  contactDateMonth  contactDateDayOfYear  \n",
              "1                 2014                 9                   267  \n",
              "2                 2014                 9                   255  \n",
              "3                 2015                 3                    85  \n",
              "4                 2015                 6                   156  \n",
              "6                 2013                 3                    86  \n",
              "...                ...               ...                   ...  \n",
              "50625             2016                11                   321  \n",
              "50627             2013                 2                    32  \n",
              "50629             2013                 7                   182  \n",
              "50631             2013                 1                    24  \n",
              "50632             2013                 1                    24  \n",
              "\n",
              "[36876 rows x 12 columns]"
            ],
            "text/html": "<div>\n<style scoped>\n    .dataframe tbody tr th:only-of-type {\n        vertical-align: middle;\n    }\n\n    .dataframe tbody tr th {\n        vertical-align: top;\n    }\n\n    .dataframe thead th {\n        text-align: right;\n    }\n</style>\n<table border=\"1\" class=\"dataframe\">\n  <thead>\n    <tr style=\"text-align: right;\">\n      <th></th>\n      <th>person_id</th>\n      <th>contact_date</th>\n      <th>product_atc_code</th>\n      <th>Pulse</th>\n      <th>Tension Diastolique</th>\n      <th>Tension Systolique</th>\n      <th>Age_presc</th>\n      <th>year_of_birth</th>\n      <th>wait_time</th>\n      <th>contactDateYear</th>\n      <th>contactDateMonth</th>\n      <th>contactDateDayOfYear</th>\n    </tr>\n  </thead>\n  <tbody>\n    <tr>\n      <th>1</th>\n      <td>263659.0</td>\n      <td>2014-09-24</td>\n      <td>C03CA01</td>\n      <td>70.0</td>\n      <td>110.0</td>\n      <td>60.0</td>\n      <td>96.0</td>\n      <td>1918.0</td>\n      <td>6019 days</td>\n      <td>2014</td>\n      <td>9</td>\n      <td>267</td>\n    </tr>\n    <tr>\n      <th>2</th>\n      <td>263659.0</td>\n      <td>2014-09-12</td>\n      <td>C03CA01</td>\n      <td>70.0</td>\n      <td>118.0</td>\n      <td>70.0</td>\n      <td>96.0</td>\n      <td>1918.0</td>\n      <td>6007 days</td>\n      <td>2014</td>\n      <td>9</td>\n      <td>255</td>\n    </tr>\n    <tr>\n      <th>3</th>\n      <td>263659.0</td>\n      <td>2015-03-26</td>\n      <td>C03CA01</td>\n      <td>60.0</td>\n      <td>120.0</td>\n      <td>70.0</td>\n      <td>97.0</td>\n      <td>1918.0</td>\n      <td>6202 days</td>\n      <td>2015</td>\n      <td>3</td>\n      <td>85</td>\n    </tr>\n    <tr>\n      <th>4</th>\n      <td>263659.0</td>\n      <td>2015-06-05</td>\n      <td>C03CA01</td>\n      <td>60.0</td>\n      <td>120.0</td>\n      <td>70.0</td>\n      <td>97.0</td>\n      <td>1918.0</td>\n      <td>6273 days</td>\n      <td>2015</td>\n      <td>6</td>\n      <td>156</td>\n    </tr>\n    <tr>\n      <th>6</th>\n      <td>25182917.0</td>\n      <td>2013-03-27</td>\n      <td>C09XA02</td>\n      <td>64.0</td>\n      <td>145.0</td>\n      <td>85.0</td>\n      <td>63.0</td>\n      <td>1950.0</td>\n      <td>723 days</td>\n      <td>2013</td>\n      <td>3</td>\n      <td>86</td>\n    </tr>\n    <tr>\n      <th>...</th>\n      <td>...</td>\n      <td>...</td>\n      <td>...</td>\n      <td>...</td>\n      <td>...</td>\n      <td>...</td>\n      <td>...</td>\n      <td>...</td>\n      <td>...</td>\n      <td>...</td>\n      <td>...</td>\n      <td>...</td>\n    </tr>\n    <tr>\n      <th>50625</th>\n      <td>26636453.0</td>\n      <td>2016-11-16</td>\n      <td>C03CA01</td>\n      <td>60.0</td>\n      <td>120.0</td>\n      <td>60.0</td>\n      <td>79.0</td>\n      <td>1937.0</td>\n      <td>1737 days</td>\n      <td>2016</td>\n      <td>11</td>\n      <td>321</td>\n    </tr>\n    <tr>\n      <th>50627</th>\n      <td>18889430.0</td>\n      <td>2013-02-01</td>\n      <td>C03CA01</td>\n      <td>60.0</td>\n      <td>120.0</td>\n      <td>70.0</td>\n      <td>85.0</td>\n      <td>1928.0</td>\n      <td>1888 days</td>\n      <td>2013</td>\n      <td>2</td>\n      <td>32</td>\n    </tr>\n    <tr>\n      <th>50629</th>\n      <td>2222336.0</td>\n      <td>2013-07-01</td>\n      <td>C03CA01</td>\n      <td>72.0</td>\n      <td>130.0</td>\n      <td>70.0</td>\n      <td>78.0</td>\n      <td>1935.0</td>\n      <td>2685 days</td>\n      <td>2013</td>\n      <td>7</td>\n      <td>182</td>\n    </tr>\n    <tr>\n      <th>50631</th>\n      <td>11363518.0</td>\n      <td>2013-01-24</td>\n      <td>C03CA01</td>\n      <td>72.0</td>\n      <td>139.0</td>\n      <td>70.0</td>\n      <td>80.0</td>\n      <td>1933.0</td>\n      <td>5476 days</td>\n      <td>2013</td>\n      <td>1</td>\n      <td>24</td>\n    </tr>\n    <tr>\n      <th>50632</th>\n      <td>18889430.0</td>\n      <td>2013-01-24</td>\n      <td>C03CA01</td>\n      <td>72.0</td>\n      <td>120.0</td>\n      <td>70.0</td>\n      <td>85.0</td>\n      <td>1928.0</td>\n      <td>1880 days</td>\n      <td>2013</td>\n      <td>1</td>\n      <td>24</td>\n    </tr>\n  </tbody>\n</table>\n<p>36876 rows × 12 columns</p>\n</div>"
          },
          "metadata": {},
          "execution_count": 18
        }
      ]
    },
    {
      "cell_type": "markdown",
      "metadata": {
        "id": "h3jL_58lBt14"
      },
      "source": [
        "### Encodage des valeurs non numériques"
      ]
    },
    {
      "cell_type": "code",
      "metadata": {
        "id": "y8hn_E4KBt15"
      },
      "source": [
        "#specialtyEncoder = LabelEncoder()\n",
        "ATCEncoder = LabelEncoder()\n",
        "#genderEncoder = LabelEncoder()\n",
        "#dfWithTime.specialty_label = specialtyEncoder.fit_transform(dfWithTime.specialty_label)\n",
        "dfWithTime.product_atc_code = ATCEncoder.fit_transform(dfWithTime.product_atc_code)\n",
        "#dfWithTime.gender_code = genderEncoder.fit_transform(dfWithTime.gender_code)\n"
      ],
      "execution_count": 19,
      "outputs": []
    },
    {
      "cell_type": "code",
      "metadata": {
        "colab": {
          "base_uri": "https://localhost:8080/",
          "height": 530
        },
        "id": "pFqWHYlKBt15",
        "outputId": "c0304830-0090-4eed-d22b-a9f768315d9d"
      },
      "source": [
        "dfWithTime.hist()"
      ],
      "execution_count": 20,
      "outputs": [
        {
          "output_type": "execute_result",
          "data": {
            "text/plain": [
              "array([[<AxesSubplot:title={'center':'person_id'}>,\n",
              "        <AxesSubplot:title={'center':'product_atc_code'}>,\n",
              "        <AxesSubplot:title={'center':'Pulse'}>],\n",
              "       [<AxesSubplot:title={'center':'Tension Diastolique'}>,\n",
              "        <AxesSubplot:title={'center':'Tension Systolique'}>,\n",
              "        <AxesSubplot:title={'center':'Age_presc'}>],\n",
              "       [<AxesSubplot:title={'center':'year_of_birth'}>,\n",
              "        <AxesSubplot:title={'center':'contactDateYear'}>,\n",
              "        <AxesSubplot:title={'center':'contactDateMonth'}>],\n",
              "       [<AxesSubplot:title={'center':'contactDateDayOfYear'}>,\n",
              "        <AxesSubplot:>, <AxesSubplot:>]], dtype=object)"
            ]
          },
          "metadata": {},
          "execution_count": 20
        },
        {
          "output_type": "display_data",
          "data": {
            "text/plain": "<Figure size 432x288 with 12 Axes>",
            "image/svg+xml": "<?xml version=\"1.0\" encoding=\"utf-8\" standalone=\"no\"?>\n<!DOCTYPE svg PUBLIC \"-//W3C//DTD SVG 1.1//EN\"\n  \"http://www.w3.org/Graphics/SVG/1.1/DTD/svg11.dtd\">\n<!-- Created with matplotlib (https://matplotlib.org/) -->\n<svg height=\"263.63625pt\" version=\"1.1\" viewBox=\"0 0 397.111875 263.63625\" width=\"397.111875pt\" xmlns=\"http://www.w3.org/2000/svg\" xmlns:xlink=\"http://www.w3.org/1999/xlink\">\n <metadata>\n  <rdf:RDF xmlns:cc=\"http://creativecommons.org/ns#\" xmlns:dc=\"http://purl.org/dc/elements/1.1/\" xmlns:rdf=\"http://www.w3.org/1999/02/22-rdf-syntax-ns#\">\n   <cc:Work>\n    <dc:type rdf:resource=\"http://purl.org/dc/dcmitype/StillImage\"/>\n    <dc:date>2021-01-19T15:48:46.247602</dc:date>\n    <dc:format>image/svg+xml</dc:format>\n    <dc:creator>\n     <cc:Agent>\n      <dc:title>Matplotlib v3.3.3, https://matplotlib.org/</dc:title>\n     </cc:Agent>\n    </dc:creator>\n   </cc:Work>\n  </rdf:RDF>\n </metadata>\n <defs>\n  <style type=\"text/css\">*{stroke-linecap:butt;stroke-linejoin:round;}</style>\n </defs>\n <g id=\"figure_1\">\n  <g id=\"patch_1\">\n   <path d=\"M 0 263.63625 \nL 397.111875 263.63625 \nL 397.111875 0 \nL 0 0 \nz\n\" style=\"fill:none;\"/>\n  </g>\n  <g id=\"axes_1\">\n   <g id=\"patch_2\">\n    <path d=\"M 46.0125 66.693635 \nL 139.0125 66.693635 \nL 139.0125 22.318125 \nL 46.0125 22.318125 \nz\n\" style=\"fill:#ffffff;\"/>\n   </g>\n   <g id=\"patch_3\">\n    <path clip-path=\"url(#p9b9bb84e3c)\" d=\"M 50.239773 66.693635 \nL 58.694318 66.693635 \nL 58.694318 28.330731 \nL 50.239773 28.330731 \nz\n\" style=\"fill:#1f77b4;\"/>\n   </g>\n   <g id=\"patch_4\">\n    <path clip-path=\"url(#p9b9bb84e3c)\" d=\"M 58.694318 66.693635 \nL 67.148864 66.693635 \nL 67.148864 32.158404 \nL 58.694318 32.158404 \nz\n\" style=\"fill:#1f77b4;\"/>\n   </g>\n   <g id=\"patch_5\">\n    <path clip-path=\"url(#p9b9bb84e3c)\" d=\"M 67.148864 66.693635 \nL 75.603409 66.693635 \nL 75.603409 37.695244 \nL 67.148864 37.695244 \nz\n\" style=\"fill:#1f77b4;\"/>\n   </g>\n   <g id=\"patch_6\">\n    <path clip-path=\"url(#p9b9bb84e3c)\" d=\"M 75.603409 66.693635 \nL 84.057955 66.693635 \nL 84.057955 24.431245 \nL 75.603409 24.431245 \nz\n\" style=\"fill:#1f77b4;\"/>\n   </g>\n   <g id=\"patch_7\">\n    <path clip-path=\"url(#p9b9bb84e3c)\" d=\"M 84.057955 66.693635 \nL 92.5125 66.693635 \nL 92.5125 37.83169 \nL 84.057955 37.83169 \nz\n\" style=\"fill:#1f77b4;\"/>\n   </g>\n   <g id=\"patch_8\">\n    <path clip-path=\"url(#p9b9bb84e3c)\" d=\"M 92.5125 66.693635 \nL 100.967045 66.693635 \nL 100.967045 58.233976 \nL 92.5125 58.233976 \nz\n\" style=\"fill:#1f77b4;\"/>\n   </g>\n   <g id=\"patch_9\">\n    <path clip-path=\"url(#p9b9bb84e3c)\" d=\"M 100.967045 66.693635 \nL 109.421591 66.693635 \nL 109.421591 53.97542 \nL 100.967045 53.97542 \nz\n\" style=\"fill:#1f77b4;\"/>\n   </g>\n   <g id=\"patch_10\">\n    <path clip-path=\"url(#p9b9bb84e3c)\" d=\"M 109.421591 66.693635 \nL 117.876136 66.693635 \nL 117.876136 28.352275 \nL 109.421591 28.352275 \nz\n\" style=\"fill:#1f77b4;\"/>\n   </g>\n   <g id=\"patch_11\">\n    <path clip-path=\"url(#p9b9bb84e3c)\" d=\"M 117.876136 66.693635 \nL 126.330682 66.693635 \nL 126.330682 41.673725 \nL 117.876136 41.673725 \nz\n\" style=\"fill:#1f77b4;\"/>\n   </g>\n   <g id=\"patch_12\">\n    <path clip-path=\"url(#p9b9bb84e3c)\" d=\"M 126.330682 66.693635 \nL 134.785227 66.693635 \nL 134.785227 59.433265 \nL 126.330682 59.433265 \nz\n\" style=\"fill:#1f77b4;\"/>\n   </g>\n   <g id=\"matplotlib.axis_1\">\n    <g id=\"xtick_1\">\n     <g id=\"line2d_1\">\n      <path clip-path=\"url(#p9b9bb84e3c)\" d=\"M 50.239066 66.693635 \nL 50.239066 22.318125 \n\" style=\"fill:none;stroke:#b0b0b0;stroke-linecap:square;stroke-width:0.8;\"/>\n     </g>\n     <g id=\"line2d_2\">\n      <defs>\n       <path d=\"M 0 0 \nL 0 3.5 \n\" id=\"mc4f07633f7\" style=\"stroke:#000000;stroke-width:0.8;\"/>\n      </defs>\n      <g>\n       <use style=\"stroke:#000000;stroke-width:0.8;\" x=\"50.239066\" xlink:href=\"#mc4f07633f7\" y=\"66.693635\"/>\n      </g>\n     </g>\n     <g id=\"text_1\">\n      <!-- 0 -->\n      <g transform=\"translate(47.057816 81.292073)scale(0.1 -0.1)\">\n       <defs>\n        <path d=\"M 31.78125 66.40625 \nQ 24.171875 66.40625 20.328125 58.90625 \nQ 16.5 51.421875 16.5 36.375 \nQ 16.5 21.390625 20.328125 13.890625 \nQ 24.171875 6.390625 31.78125 6.390625 \nQ 39.453125 6.390625 43.28125 13.890625 \nQ 47.125 21.390625 47.125 36.375 \nQ 47.125 51.421875 43.28125 58.90625 \nQ 39.453125 66.40625 31.78125 66.40625 \nz\nM 31.78125 74.21875 \nQ 44.046875 74.21875 50.515625 64.515625 \nQ 56.984375 54.828125 56.984375 36.375 \nQ 56.984375 17.96875 50.515625 8.265625 \nQ 44.046875 -1.421875 31.78125 -1.421875 \nQ 19.53125 -1.421875 13.0625 8.265625 \nQ 6.59375 17.96875 6.59375 36.375 \nQ 6.59375 54.828125 13.0625 64.515625 \nQ 19.53125 74.21875 31.78125 74.21875 \nz\n\" id=\"DejaVuSans-48\"/>\n       </defs>\n       <use xlink:href=\"#DejaVuSans-48\"/>\n      </g>\n     </g>\n    </g>\n    <g id=\"xtick_2\">\n     <g id=\"line2d_3\">\n      <path clip-path=\"url(#p9b9bb84e3c)\" d=\"M 98.795784 66.693635 \nL 98.795784 22.318125 \n\" style=\"fill:none;stroke:#b0b0b0;stroke-linecap:square;stroke-width:0.8;\"/>\n     </g>\n     <g id=\"line2d_4\">\n      <g>\n       <use style=\"stroke:#000000;stroke-width:0.8;\" x=\"98.795784\" xlink:href=\"#mc4f07633f7\" y=\"66.693635\"/>\n      </g>\n     </g>\n     <g id=\"text_2\">\n      <!-- 2 -->\n      <g transform=\"translate(95.614534 81.292073)scale(0.1 -0.1)\">\n       <defs>\n        <path d=\"M 19.1875 8.296875 \nL 53.609375 8.296875 \nL 53.609375 0 \nL 7.328125 0 \nL 7.328125 8.296875 \nQ 12.9375 14.109375 22.625 23.890625 \nQ 32.328125 33.6875 34.8125 36.53125 \nQ 39.546875 41.84375 41.421875 45.53125 \nQ 43.3125 49.21875 43.3125 52.78125 \nQ 43.3125 58.59375 39.234375 62.25 \nQ 35.15625 65.921875 28.609375 65.921875 \nQ 23.96875 65.921875 18.8125 64.3125 \nQ 13.671875 62.703125 7.8125 59.421875 \nL 7.8125 69.390625 \nQ 13.765625 71.78125 18.9375 73 \nQ 24.125 74.21875 28.421875 74.21875 \nQ 39.75 74.21875 46.484375 68.546875 \nQ 53.21875 62.890625 53.21875 53.421875 \nQ 53.21875 48.921875 51.53125 44.890625 \nQ 49.859375 40.875 45.40625 35.40625 \nQ 44.1875 33.984375 37.640625 27.21875 \nQ 31.109375 20.453125 19.1875 8.296875 \nz\n\" id=\"DejaVuSans-50\"/>\n       </defs>\n       <use xlink:href=\"#DejaVuSans-50\"/>\n      </g>\n     </g>\n    </g>\n    <g id=\"text_3\">\n     <!-- 1e7 -->\n     <g transform=\"translate(120.134375 93.970198)scale(0.1 -0.1)\">\n      <defs>\n       <path d=\"M 12.40625 8.296875 \nL 28.515625 8.296875 \nL 28.515625 63.921875 \nL 10.984375 60.40625 \nL 10.984375 69.390625 \nL 28.421875 72.90625 \nL 38.28125 72.90625 \nL 38.28125 8.296875 \nL 54.390625 8.296875 \nL 54.390625 0 \nL 12.40625 0 \nz\n\" id=\"DejaVuSans-49\"/>\n       <path d=\"M 56.203125 29.59375 \nL 56.203125 25.203125 \nL 14.890625 25.203125 \nQ 15.484375 15.921875 20.484375 11.0625 \nQ 25.484375 6.203125 34.421875 6.203125 \nQ 39.59375 6.203125 44.453125 7.46875 \nQ 49.3125 8.734375 54.109375 11.28125 \nL 54.109375 2.78125 \nQ 49.265625 0.734375 44.1875 -0.34375 \nQ 39.109375 -1.421875 33.890625 -1.421875 \nQ 20.796875 -1.421875 13.15625 6.1875 \nQ 5.515625 13.8125 5.515625 26.8125 \nQ 5.515625 40.234375 12.765625 48.109375 \nQ 20.015625 56 32.328125 56 \nQ 43.359375 56 49.78125 48.890625 \nQ 56.203125 41.796875 56.203125 29.59375 \nz\nM 47.21875 32.234375 \nQ 47.125 39.59375 43.09375 43.984375 \nQ 39.0625 48.390625 32.421875 48.390625 \nQ 24.90625 48.390625 20.390625 44.140625 \nQ 15.875 39.890625 15.1875 32.171875 \nz\n\" id=\"DejaVuSans-101\"/>\n       <path d=\"M 8.203125 72.90625 \nL 55.078125 72.90625 \nL 55.078125 68.703125 \nL 28.609375 0 \nL 18.3125 0 \nL 43.21875 64.59375 \nL 8.203125 64.59375 \nz\n\" id=\"DejaVuSans-55\"/>\n      </defs>\n      <use xlink:href=\"#DejaVuSans-49\"/>\n      <use x=\"63.623047\" xlink:href=\"#DejaVuSans-101\"/>\n      <use x=\"125.146484\" xlink:href=\"#DejaVuSans-55\"/>\n     </g>\n    </g>\n   </g>\n   <g id=\"matplotlib.axis_2\">\n    <g id=\"ytick_1\">\n     <g id=\"line2d_5\">\n      <path clip-path=\"url(#p9b9bb84e3c)\" d=\"M 46.0125 66.693635 \nL 139.0125 66.693635 \n\" style=\"fill:none;stroke:#b0b0b0;stroke-linecap:square;stroke-width:0.8;\"/>\n     </g>\n     <g id=\"line2d_6\">\n      <defs>\n       <path d=\"M 0 0 \nL -3.5 0 \n\" id=\"ma702a4010b\" style=\"stroke:#000000;stroke-width:0.8;\"/>\n      </defs>\n      <g>\n       <use style=\"stroke:#000000;stroke-width:0.8;\" x=\"46.0125\" xlink:href=\"#ma702a4010b\" y=\"66.693635\"/>\n      </g>\n     </g>\n     <g id=\"text_4\">\n      <!-- 0 -->\n      <g transform=\"translate(32.65 70.492854)scale(0.1 -0.1)\">\n       <use xlink:href=\"#DejaVuSans-48\"/>\n      </g>\n     </g>\n    </g>\n    <g id=\"ytick_2\">\n     <g id=\"line2d_7\">\n      <path clip-path=\"url(#p9b9bb84e3c)\" d=\"M 46.0125 30.786761 \nL 139.0125 30.786761 \n\" style=\"fill:none;stroke:#b0b0b0;stroke-linecap:square;stroke-width:0.8;\"/>\n     </g>\n     <g id=\"line2d_8\">\n      <g>\n       <use style=\"stroke:#000000;stroke-width:0.8;\" x=\"46.0125\" xlink:href=\"#ma702a4010b\" y=\"30.786761\"/>\n      </g>\n     </g>\n     <g id=\"text_5\">\n      <!-- 5000 -->\n      <g transform=\"translate(13.5625 34.58598)scale(0.1 -0.1)\">\n       <defs>\n        <path d=\"M 10.796875 72.90625 \nL 49.515625 72.90625 \nL 49.515625 64.59375 \nL 19.828125 64.59375 \nL 19.828125 46.734375 \nQ 21.96875 47.46875 24.109375 47.828125 \nQ 26.265625 48.1875 28.421875 48.1875 \nQ 40.625 48.1875 47.75 41.5 \nQ 54.890625 34.8125 54.890625 23.390625 \nQ 54.890625 11.625 47.5625 5.09375 \nQ 40.234375 -1.421875 26.90625 -1.421875 \nQ 22.3125 -1.421875 17.546875 -0.640625 \nQ 12.796875 0.140625 7.71875 1.703125 \nL 7.71875 11.625 \nQ 12.109375 9.234375 16.796875 8.0625 \nQ 21.484375 6.890625 26.703125 6.890625 \nQ 35.15625 6.890625 40.078125 11.328125 \nQ 45.015625 15.765625 45.015625 23.390625 \nQ 45.015625 31 40.078125 35.4375 \nQ 35.15625 39.890625 26.703125 39.890625 \nQ 22.75 39.890625 18.8125 39.015625 \nQ 14.890625 38.140625 10.796875 36.28125 \nz\n\" id=\"DejaVuSans-53\"/>\n       </defs>\n       <use xlink:href=\"#DejaVuSans-53\"/>\n       <use x=\"63.623047\" xlink:href=\"#DejaVuSans-48\"/>\n       <use x=\"127.246094\" xlink:href=\"#DejaVuSans-48\"/>\n       <use x=\"190.869141\" xlink:href=\"#DejaVuSans-48\"/>\n      </g>\n     </g>\n    </g>\n   </g>\n   <g id=\"patch_13\">\n    <path d=\"M 46.0125 66.693635 \nL 46.0125 22.318125 \n\" style=\"fill:none;stroke:#000000;stroke-linecap:square;stroke-linejoin:miter;stroke-width:0.8;\"/>\n   </g>\n   <g id=\"patch_14\">\n    <path d=\"M 139.0125 66.693635 \nL 139.0125 22.318125 \n\" style=\"fill:none;stroke:#000000;stroke-linecap:square;stroke-linejoin:miter;stroke-width:0.8;\"/>\n   </g>\n   <g id=\"patch_15\">\n    <path d=\"M 46.0125 66.693635 \nL 139.0125 66.693635 \n\" style=\"fill:none;stroke:#000000;stroke-linecap:square;stroke-linejoin:miter;stroke-width:0.8;\"/>\n   </g>\n   <g id=\"patch_16\">\n    <path d=\"M 46.0125 22.318125 \nL 139.0125 22.318125 \n\" style=\"fill:none;stroke:#000000;stroke-linecap:square;stroke-linejoin:miter;stroke-width:0.8;\"/>\n   </g>\n   <g id=\"text_6\">\n    <!-- person_id -->\n    <g transform=\"translate(63.469687 16.318125)scale(0.12 -0.12)\">\n     <defs>\n      <path d=\"M 18.109375 8.203125 \nL 18.109375 -20.796875 \nL 9.078125 -20.796875 \nL 9.078125 54.6875 \nL 18.109375 54.6875 \nL 18.109375 46.390625 \nQ 20.953125 51.265625 25.265625 53.625 \nQ 29.59375 56 35.59375 56 \nQ 45.5625 56 51.78125 48.09375 \nQ 58.015625 40.1875 58.015625 27.296875 \nQ 58.015625 14.40625 51.78125 6.484375 \nQ 45.5625 -1.421875 35.59375 -1.421875 \nQ 29.59375 -1.421875 25.265625 0.953125 \nQ 20.953125 3.328125 18.109375 8.203125 \nz\nM 48.6875 27.296875 \nQ 48.6875 37.203125 44.609375 42.84375 \nQ 40.53125 48.484375 33.40625 48.484375 \nQ 26.265625 48.484375 22.1875 42.84375 \nQ 18.109375 37.203125 18.109375 27.296875 \nQ 18.109375 17.390625 22.1875 11.75 \nQ 26.265625 6.109375 33.40625 6.109375 \nQ 40.53125 6.109375 44.609375 11.75 \nQ 48.6875 17.390625 48.6875 27.296875 \nz\n\" id=\"DejaVuSans-112\"/>\n      <path d=\"M 41.109375 46.296875 \nQ 39.59375 47.171875 37.8125 47.578125 \nQ 36.03125 48 33.890625 48 \nQ 26.265625 48 22.1875 43.046875 \nQ 18.109375 38.09375 18.109375 28.8125 \nL 18.109375 0 \nL 9.078125 0 \nL 9.078125 54.6875 \nL 18.109375 54.6875 \nL 18.109375 46.1875 \nQ 20.953125 51.171875 25.484375 53.578125 \nQ 30.03125 56 36.53125 56 \nQ 37.453125 56 38.578125 55.875 \nQ 39.703125 55.765625 41.0625 55.515625 \nz\n\" id=\"DejaVuSans-114\"/>\n      <path d=\"M 44.28125 53.078125 \nL 44.28125 44.578125 \nQ 40.484375 46.53125 36.375 47.5 \nQ 32.28125 48.484375 27.875 48.484375 \nQ 21.1875 48.484375 17.84375 46.4375 \nQ 14.5 44.390625 14.5 40.28125 \nQ 14.5 37.15625 16.890625 35.375 \nQ 19.28125 33.59375 26.515625 31.984375 \nL 29.59375 31.296875 \nQ 39.15625 29.25 43.1875 25.515625 \nQ 47.21875 21.78125 47.21875 15.09375 \nQ 47.21875 7.46875 41.1875 3.015625 \nQ 35.15625 -1.421875 24.609375 -1.421875 \nQ 20.21875 -1.421875 15.453125 -0.5625 \nQ 10.6875 0.296875 5.421875 2 \nL 5.421875 11.28125 \nQ 10.40625 8.6875 15.234375 7.390625 \nQ 20.0625 6.109375 24.8125 6.109375 \nQ 31.15625 6.109375 34.5625 8.28125 \nQ 37.984375 10.453125 37.984375 14.40625 \nQ 37.984375 18.0625 35.515625 20.015625 \nQ 33.0625 21.96875 24.703125 23.78125 \nL 21.578125 24.515625 \nQ 13.234375 26.265625 9.515625 29.90625 \nQ 5.8125 33.546875 5.8125 39.890625 \nQ 5.8125 47.609375 11.28125 51.796875 \nQ 16.75 56 26.8125 56 \nQ 31.78125 56 36.171875 55.265625 \nQ 40.578125 54.546875 44.28125 53.078125 \nz\n\" id=\"DejaVuSans-115\"/>\n      <path d=\"M 30.609375 48.390625 \nQ 23.390625 48.390625 19.1875 42.75 \nQ 14.984375 37.109375 14.984375 27.296875 \nQ 14.984375 17.484375 19.15625 11.84375 \nQ 23.34375 6.203125 30.609375 6.203125 \nQ 37.796875 6.203125 41.984375 11.859375 \nQ 46.1875 17.53125 46.1875 27.296875 \nQ 46.1875 37.015625 41.984375 42.703125 \nQ 37.796875 48.390625 30.609375 48.390625 \nz\nM 30.609375 56 \nQ 42.328125 56 49.015625 48.375 \nQ 55.71875 40.765625 55.71875 27.296875 \nQ 55.71875 13.875 49.015625 6.21875 \nQ 42.328125 -1.421875 30.609375 -1.421875 \nQ 18.84375 -1.421875 12.171875 6.21875 \nQ 5.515625 13.875 5.515625 27.296875 \nQ 5.515625 40.765625 12.171875 48.375 \nQ 18.84375 56 30.609375 56 \nz\n\" id=\"DejaVuSans-111\"/>\n      <path d=\"M 54.890625 33.015625 \nL 54.890625 0 \nL 45.90625 0 \nL 45.90625 32.71875 \nQ 45.90625 40.484375 42.875 44.328125 \nQ 39.84375 48.1875 33.796875 48.1875 \nQ 26.515625 48.1875 22.3125 43.546875 \nQ 18.109375 38.921875 18.109375 30.90625 \nL 18.109375 0 \nL 9.078125 0 \nL 9.078125 54.6875 \nL 18.109375 54.6875 \nL 18.109375 46.1875 \nQ 21.34375 51.125 25.703125 53.5625 \nQ 30.078125 56 35.796875 56 \nQ 45.21875 56 50.046875 50.171875 \nQ 54.890625 44.34375 54.890625 33.015625 \nz\n\" id=\"DejaVuSans-110\"/>\n      <path d=\"M 50.984375 -16.609375 \nL 50.984375 -23.578125 \nL -0.984375 -23.578125 \nL -0.984375 -16.609375 \nz\n\" id=\"DejaVuSans-95\"/>\n      <path d=\"M 9.421875 54.6875 \nL 18.40625 54.6875 \nL 18.40625 0 \nL 9.421875 0 \nz\nM 9.421875 75.984375 \nL 18.40625 75.984375 \nL 18.40625 64.59375 \nL 9.421875 64.59375 \nz\n\" id=\"DejaVuSans-105\"/>\n      <path d=\"M 45.40625 46.390625 \nL 45.40625 75.984375 \nL 54.390625 75.984375 \nL 54.390625 0 \nL 45.40625 0 \nL 45.40625 8.203125 \nQ 42.578125 3.328125 38.25 0.953125 \nQ 33.9375 -1.421875 27.875 -1.421875 \nQ 17.96875 -1.421875 11.734375 6.484375 \nQ 5.515625 14.40625 5.515625 27.296875 \nQ 5.515625 40.1875 11.734375 48.09375 \nQ 17.96875 56 27.875 56 \nQ 33.9375 56 38.25 53.625 \nQ 42.578125 51.265625 45.40625 46.390625 \nz\nM 14.796875 27.296875 \nQ 14.796875 17.390625 18.875 11.75 \nQ 22.953125 6.109375 30.078125 6.109375 \nQ 37.203125 6.109375 41.296875 11.75 \nQ 45.40625 17.390625 45.40625 27.296875 \nQ 45.40625 37.203125 41.296875 42.84375 \nQ 37.203125 48.484375 30.078125 48.484375 \nQ 22.953125 48.484375 18.875 42.84375 \nQ 14.796875 37.203125 14.796875 27.296875 \nz\n\" id=\"DejaVuSans-100\"/>\n     </defs>\n     <use xlink:href=\"#DejaVuSans-112\"/>\n     <use x=\"63.476562\" xlink:href=\"#DejaVuSans-101\"/>\n     <use x=\"125\" xlink:href=\"#DejaVuSans-114\"/>\n     <use x=\"166.113281\" xlink:href=\"#DejaVuSans-115\"/>\n     <use x=\"218.212891\" xlink:href=\"#DejaVuSans-111\"/>\n     <use x=\"279.394531\" xlink:href=\"#DejaVuSans-110\"/>\n     <use x=\"342.773438\" xlink:href=\"#DejaVuSans-95\"/>\n     <use x=\"392.773438\" xlink:href=\"#DejaVuSans-105\"/>\n     <use x=\"420.556641\" xlink:href=\"#DejaVuSans-100\"/>\n    </g>\n   </g>\n  </g>\n  <g id=\"axes_2\">\n   <g id=\"patch_17\">\n    <path d=\"M 166.9125 66.693635 \nL 259.9125 66.693635 \nL 259.9125 22.318125 \nL 166.9125 22.318125 \nz\n\" style=\"fill:#ffffff;\"/>\n   </g>\n   <g id=\"patch_18\">\n    <path clip-path=\"url(#pacdc8b67ad)\" d=\"M 171.139773 66.693635 \nL 179.594318 66.693635 \nL 179.594318 30.23333 \nL 171.139773 30.23333 \nz\n\" style=\"fill:#1f77b4;\"/>\n   </g>\n   <g id=\"patch_19\">\n    <path clip-path=\"url(#pacdc8b67ad)\" d=\"M 179.594318 66.693635 \nL 188.048864 66.693635 \nL 188.048864 66.020593 \nL 179.594318 66.020593 \nz\n\" style=\"fill:#1f77b4;\"/>\n   </g>\n   <g id=\"patch_20\">\n    <path clip-path=\"url(#pacdc8b67ad)\" d=\"M 188.048864 66.693635 \nL 196.503409 66.693635 \nL 196.503409 28.939465 \nL 188.048864 28.939465 \nz\n\" style=\"fill:#1f77b4;\"/>\n   </g>\n   <g id=\"patch_21\">\n    <path clip-path=\"url(#pacdc8b67ad)\" d=\"M 196.503409 66.693635 \nL 204.957955 66.693635 \nL 204.957955 24.431245 \nL 196.503409 24.431245 \nz\n\" style=\"fill:#1f77b4;\"/>\n   </g>\n   <g id=\"patch_22\">\n    <path clip-path=\"url(#pacdc8b67ad)\" d=\"M 204.957955 66.693635 \nL 213.4125 66.693635 \nL 213.4125 61.83729 \nL 204.957955 61.83729 \nz\n\" style=\"fill:#1f77b4;\"/>\n   </g>\n   <g id=\"patch_23\">\n    <path clip-path=\"url(#pacdc8b67ad)\" d=\"M 213.4125 66.693635 \nL 221.867045 66.693635 \nL 221.867045 58.094945 \nL 213.4125 58.094945 \nz\n\" style=\"fill:#1f77b4;\"/>\n   </g>\n   <g id=\"patch_24\">\n    <path clip-path=\"url(#pacdc8b67ad)\" d=\"M 221.867045 66.693635 \nL 230.321591 66.693635 \nL 230.321591 59.684716 \nL 221.867045 59.684716 \nz\n\" style=\"fill:#1f77b4;\"/>\n   </g>\n   <g id=\"patch_25\">\n    <path clip-path=\"url(#pacdc8b67ad)\" d=\"M 230.321591 66.693635 \nL 238.776136 66.693635 \nL 238.776136 39.940219 \nL 230.321591 39.940219 \nz\n\" style=\"fill:#1f77b4;\"/>\n   </g>\n   <g id=\"patch_26\">\n    <path clip-path=\"url(#pacdc8b67ad)\" d=\"M 238.776136 66.693635 \nL 247.230682 66.693635 \nL 247.230682 52.275453 \nL 238.776136 52.275453 \nz\n\" style=\"fill:#1f77b4;\"/>\n   </g>\n   <g id=\"patch_27\">\n    <path clip-path=\"url(#pacdc8b67ad)\" d=\"M 247.230682 66.693635 \nL 255.685227 66.693635 \nL 255.685227 31.521393 \nL 247.230682 31.521393 \nz\n\" style=\"fill:#1f77b4;\"/>\n   </g>\n   <g id=\"matplotlib.axis_3\">\n    <g id=\"xtick_3\">\n     <g id=\"line2d_9\">\n      <path clip-path=\"url(#pacdc8b67ad)\" d=\"M 171.139773 66.693635 \nL 171.139773 22.318125 \n\" style=\"fill:none;stroke:#b0b0b0;stroke-linecap:square;stroke-width:0.8;\"/>\n     </g>\n     <g id=\"line2d_10\">\n      <g>\n       <use style=\"stroke:#000000;stroke-width:0.8;\" x=\"171.139773\" xlink:href=\"#mc4f07633f7\" y=\"66.693635\"/>\n      </g>\n     </g>\n     <g id=\"text_7\">\n      <!-- 0 -->\n      <g transform=\"translate(167.958523 81.292073)scale(0.1 -0.1)\">\n       <use xlink:href=\"#DejaVuSans-48\"/>\n      </g>\n     </g>\n    </g>\n    <g id=\"xtick_4\">\n     <g id=\"line2d_11\">\n      <path clip-path=\"url(#pacdc8b67ad)\" d=\"M 223.980682 66.693635 \nL 223.980682 22.318125 \n\" style=\"fill:none;stroke:#b0b0b0;stroke-linecap:square;stroke-width:0.8;\"/>\n     </g>\n     <g id=\"line2d_12\">\n      <g>\n       <use style=\"stroke:#000000;stroke-width:0.8;\" x=\"223.980682\" xlink:href=\"#mc4f07633f7\" y=\"66.693635\"/>\n      </g>\n     </g>\n     <g id=\"text_8\">\n      <!-- 20 -->\n      <g transform=\"translate(217.618182 81.292073)scale(0.1 -0.1)\">\n       <use xlink:href=\"#DejaVuSans-50\"/>\n       <use x=\"63.623047\" xlink:href=\"#DejaVuSans-48\"/>\n      </g>\n     </g>\n    </g>\n   </g>\n   <g id=\"matplotlib.axis_4\">\n    <g id=\"ytick_3\">\n     <g id=\"line2d_13\">\n      <path clip-path=\"url(#pacdc8b67ad)\" d=\"M 166.9125 66.693635 \nL 259.9125 66.693635 \n\" style=\"fill:none;stroke:#b0b0b0;stroke-linecap:square;stroke-width:0.8;\"/>\n     </g>\n     <g id=\"line2d_14\">\n      <g>\n       <use style=\"stroke:#000000;stroke-width:0.8;\" x=\"166.9125\" xlink:href=\"#ma702a4010b\" y=\"66.693635\"/>\n      </g>\n     </g>\n     <g id=\"text_9\">\n      <!-- 0 -->\n      <g transform=\"translate(153.55 70.492854)scale(0.1 -0.1)\">\n       <use xlink:href=\"#DejaVuSans-48\"/>\n      </g>\n     </g>\n    </g>\n    <g id=\"ytick_4\">\n     <g id=\"line2d_15\">\n      <path clip-path=\"url(#pacdc8b67ad)\" d=\"M 166.9125 37.683208 \nL 259.9125 37.683208 \n\" style=\"fill:none;stroke:#b0b0b0;stroke-linecap:square;stroke-width:0.8;\"/>\n     </g>\n     <g id=\"line2d_16\">\n      <g>\n       <use style=\"stroke:#000000;stroke-width:0.8;\" x=\"166.9125\" xlink:href=\"#ma702a4010b\" y=\"37.683208\"/>\n      </g>\n     </g>\n     <g id=\"text_10\">\n      <!-- 5000 -->\n      <g transform=\"translate(134.4625 41.482427)scale(0.1 -0.1)\">\n       <use xlink:href=\"#DejaVuSans-53\"/>\n       <use x=\"63.623047\" xlink:href=\"#DejaVuSans-48\"/>\n       <use x=\"127.246094\" xlink:href=\"#DejaVuSans-48\"/>\n       <use x=\"190.869141\" xlink:href=\"#DejaVuSans-48\"/>\n      </g>\n     </g>\n    </g>\n   </g>\n   <g id=\"patch_28\">\n    <path d=\"M 166.9125 66.693635 \nL 166.9125 22.318125 \n\" style=\"fill:none;stroke:#000000;stroke-linecap:square;stroke-linejoin:miter;stroke-width:0.8;\"/>\n   </g>\n   <g id=\"patch_29\">\n    <path d=\"M 259.9125 66.693635 \nL 259.9125 22.318125 \n\" style=\"fill:none;stroke:#000000;stroke-linecap:square;stroke-linejoin:miter;stroke-width:0.8;\"/>\n   </g>\n   <g id=\"patch_30\">\n    <path d=\"M 166.9125 66.693635 \nL 259.9125 66.693635 \n\" style=\"fill:none;stroke:#000000;stroke-linecap:square;stroke-linejoin:miter;stroke-width:0.8;\"/>\n   </g>\n   <g id=\"patch_31\">\n    <path d=\"M 166.9125 22.318125 \nL 259.9125 22.318125 \n\" style=\"fill:none;stroke:#000000;stroke-linecap:square;stroke-linejoin:miter;stroke-width:0.8;\"/>\n   </g>\n   <g id=\"text_11\">\n    <!-- product_atc_code -->\n    <g transform=\"translate(160.538438 16.318125)scale(0.12 -0.12)\">\n     <defs>\n      <path d=\"M 8.5 21.578125 \nL 8.5 54.6875 \nL 17.484375 54.6875 \nL 17.484375 21.921875 \nQ 17.484375 14.15625 20.5 10.265625 \nQ 23.53125 6.390625 29.59375 6.390625 \nQ 36.859375 6.390625 41.078125 11.03125 \nQ 45.3125 15.671875 45.3125 23.6875 \nL 45.3125 54.6875 \nL 54.296875 54.6875 \nL 54.296875 0 \nL 45.3125 0 \nL 45.3125 8.40625 \nQ 42.046875 3.421875 37.71875 1 \nQ 33.40625 -1.421875 27.6875 -1.421875 \nQ 18.265625 -1.421875 13.375 4.4375 \nQ 8.5 10.296875 8.5 21.578125 \nz\nM 31.109375 56 \nz\n\" id=\"DejaVuSans-117\"/>\n      <path d=\"M 48.78125 52.59375 \nL 48.78125 44.1875 \nQ 44.96875 46.296875 41.140625 47.34375 \nQ 37.3125 48.390625 33.40625 48.390625 \nQ 24.65625 48.390625 19.8125 42.84375 \nQ 14.984375 37.3125 14.984375 27.296875 \nQ 14.984375 17.28125 19.8125 11.734375 \nQ 24.65625 6.203125 33.40625 6.203125 \nQ 37.3125 6.203125 41.140625 7.25 \nQ 44.96875 8.296875 48.78125 10.40625 \nL 48.78125 2.09375 \nQ 45.015625 0.34375 40.984375 -0.53125 \nQ 36.96875 -1.421875 32.421875 -1.421875 \nQ 20.0625 -1.421875 12.78125 6.34375 \nQ 5.515625 14.109375 5.515625 27.296875 \nQ 5.515625 40.671875 12.859375 48.328125 \nQ 20.21875 56 33.015625 56 \nQ 37.15625 56 41.109375 55.140625 \nQ 45.0625 54.296875 48.78125 52.59375 \nz\n\" id=\"DejaVuSans-99\"/>\n      <path d=\"M 18.3125 70.21875 \nL 18.3125 54.6875 \nL 36.8125 54.6875 \nL 36.8125 47.703125 \nL 18.3125 47.703125 \nL 18.3125 18.015625 \nQ 18.3125 11.328125 20.140625 9.421875 \nQ 21.96875 7.515625 27.59375 7.515625 \nL 36.8125 7.515625 \nL 36.8125 0 \nL 27.59375 0 \nQ 17.1875 0 13.234375 3.875 \nQ 9.28125 7.765625 9.28125 18.015625 \nL 9.28125 47.703125 \nL 2.6875 47.703125 \nL 2.6875 54.6875 \nL 9.28125 54.6875 \nL 9.28125 70.21875 \nz\n\" id=\"DejaVuSans-116\"/>\n      <path d=\"M 34.28125 27.484375 \nQ 23.390625 27.484375 19.1875 25 \nQ 14.984375 22.515625 14.984375 16.5 \nQ 14.984375 11.71875 18.140625 8.90625 \nQ 21.296875 6.109375 26.703125 6.109375 \nQ 34.1875 6.109375 38.703125 11.40625 \nQ 43.21875 16.703125 43.21875 25.484375 \nL 43.21875 27.484375 \nz\nM 52.203125 31.203125 \nL 52.203125 0 \nL 43.21875 0 \nL 43.21875 8.296875 \nQ 40.140625 3.328125 35.546875 0.953125 \nQ 30.953125 -1.421875 24.3125 -1.421875 \nQ 15.921875 -1.421875 10.953125 3.296875 \nQ 6 8.015625 6 15.921875 \nQ 6 25.140625 12.171875 29.828125 \nQ 18.359375 34.515625 30.609375 34.515625 \nL 43.21875 34.515625 \nL 43.21875 35.40625 \nQ 43.21875 41.609375 39.140625 45 \nQ 35.0625 48.390625 27.6875 48.390625 \nQ 23 48.390625 18.546875 47.265625 \nQ 14.109375 46.140625 10.015625 43.890625 \nL 10.015625 52.203125 \nQ 14.9375 54.109375 19.578125 55.046875 \nQ 24.21875 56 28.609375 56 \nQ 40.484375 56 46.34375 49.84375 \nQ 52.203125 43.703125 52.203125 31.203125 \nz\n\" id=\"DejaVuSans-97\"/>\n     </defs>\n     <use xlink:href=\"#DejaVuSans-112\"/>\n     <use x=\"63.476562\" xlink:href=\"#DejaVuSans-114\"/>\n     <use x=\"102.339844\" xlink:href=\"#DejaVuSans-111\"/>\n     <use x=\"163.521484\" xlink:href=\"#DejaVuSans-100\"/>\n     <use x=\"226.998047\" xlink:href=\"#DejaVuSans-117\"/>\n     <use x=\"290.376953\" xlink:href=\"#DejaVuSans-99\"/>\n     <use x=\"345.357422\" xlink:href=\"#DejaVuSans-116\"/>\n     <use x=\"384.566406\" xlink:href=\"#DejaVuSans-95\"/>\n     <use x=\"434.566406\" xlink:href=\"#DejaVuSans-97\"/>\n     <use x=\"495.845703\" xlink:href=\"#DejaVuSans-116\"/>\n     <use x=\"535.054688\" xlink:href=\"#DejaVuSans-99\"/>\n     <use x=\"590.035156\" xlink:href=\"#DejaVuSans-95\"/>\n     <use x=\"640.035156\" xlink:href=\"#DejaVuSans-99\"/>\n     <use x=\"695.015625\" xlink:href=\"#DejaVuSans-111\"/>\n     <use x=\"756.197266\" xlink:href=\"#DejaVuSans-100\"/>\n     <use x=\"819.673828\" xlink:href=\"#DejaVuSans-101\"/>\n    </g>\n   </g>\n  </g>\n  <g id=\"axes_3\">\n   <g id=\"patch_32\">\n    <path d=\"M 287.8125 66.693635 \nL 380.8125 66.693635 \nL 380.8125 22.318125 \nL 287.8125 22.318125 \nz\n\" style=\"fill:#ffffff;\"/>\n   </g>\n   <g id=\"patch_33\">\n    <path clip-path=\"url(#pd7077a8b53)\" d=\"M 292.039773 66.693635 \nL 300.494318 66.693635 \nL 300.494318 65.782125 \nL 292.039773 65.782125 \nz\n\" style=\"fill:#1f77b4;\"/>\n   </g>\n   <g id=\"patch_34\">\n    <path clip-path=\"url(#pd7077a8b53)\" d=\"M 300.494318 66.693635 \nL 308.948864 66.693635 \nL 308.948864 48.75374 \nL 300.494318 48.75374 \nz\n\" style=\"fill:#1f77b4;\"/>\n   </g>\n   <g id=\"patch_35\">\n    <path clip-path=\"url(#pd7077a8b53)\" d=\"M 308.948864 66.693635 \nL 317.403409 66.693635 \nL 317.403409 24.431245 \nL 308.948864 24.431245 \nz\n\" style=\"fill:#1f77b4;\"/>\n   </g>\n   <g id=\"patch_36\">\n    <path clip-path=\"url(#pd7077a8b53)\" d=\"M 317.403409 66.693635 \nL 325.857955 66.693635 \nL 325.857955 54.977992 \nL 317.403409 54.977992 \nz\n\" style=\"fill:#1f77b4;\"/>\n   </g>\n   <g id=\"patch_37\">\n    <path clip-path=\"url(#pd7077a8b53)\" d=\"M 325.857955 66.693635 \nL 334.3125 66.693635 \nL 334.3125 65.030992 \nL 325.857955 65.030992 \nz\n\" style=\"fill:#1f77b4;\"/>\n   </g>\n   <g id=\"patch_38\">\n    <path clip-path=\"url(#pd7077a8b53)\" d=\"M 334.3125 66.693635 \nL 342.767045 66.693635 \nL 342.767045 66.381002 \nL 334.3125 66.381002 \nz\n\" style=\"fill:#1f77b4;\"/>\n   </g>\n   <g id=\"patch_39\">\n    <path clip-path=\"url(#pd7077a8b53)\" d=\"M 342.767045 66.693635 \nL 351.221591 66.693635 \nL 351.221591 66.653033 \nL 342.767045 66.653033 \nz\n\" style=\"fill:#1f77b4;\"/>\n   </g>\n   <g id=\"patch_40\">\n    <path clip-path=\"url(#pd7077a8b53)\" d=\"M 351.221591 66.693635 \nL 359.676136 66.693635 \nL 359.676136 66.685515 \nL 351.221591 66.685515 \nz\n\" style=\"fill:#1f77b4;\"/>\n   </g>\n   <g id=\"patch_41\">\n    <path clip-path=\"url(#pd7077a8b53)\" d=\"M 359.676136 66.693635 \nL 368.130682 66.693635 \nL 368.130682 66.691605 \nL 359.676136 66.691605 \nz\n\" style=\"fill:#1f77b4;\"/>\n   </g>\n   <g id=\"patch_42\">\n    <path clip-path=\"url(#pd7077a8b53)\" d=\"M 368.130682 66.693635 \nL 376.585227 66.693635 \nL 376.585227 66.687545 \nL 368.130682 66.687545 \nz\n\" style=\"fill:#1f77b4;\"/>\n   </g>\n   <g id=\"matplotlib.axis_5\">\n    <g id=\"xtick_5\">\n     <g id=\"line2d_17\">\n      <path clip-path=\"url(#pd7077a8b53)\" d=\"M 299.725723 66.693635 \nL 299.725723 22.318125 \n\" style=\"fill:none;stroke:#b0b0b0;stroke-linecap:square;stroke-width:0.8;\"/>\n     </g>\n     <g id=\"line2d_18\">\n      <g>\n       <use style=\"stroke:#000000;stroke-width:0.8;\" x=\"299.725723\" xlink:href=\"#mc4f07633f7\" y=\"66.693635\"/>\n      </g>\n     </g>\n     <g id=\"text_12\">\n      <!-- 50 -->\n      <g transform=\"translate(293.363223 81.292073)scale(0.1 -0.1)\">\n       <use xlink:href=\"#DejaVuSans-53\"/>\n       <use x=\"63.623047\" xlink:href=\"#DejaVuSans-48\"/>\n      </g>\n     </g>\n    </g>\n    <g id=\"xtick_6\">\n     <g id=\"line2d_19\">\n      <path clip-path=\"url(#pd7077a8b53)\" d=\"M 329.287071 66.693635 \nL 329.287071 22.318125 \n\" style=\"fill:none;stroke:#b0b0b0;stroke-linecap:square;stroke-width:0.8;\"/>\n     </g>\n     <g id=\"line2d_20\">\n      <g>\n       <use style=\"stroke:#000000;stroke-width:0.8;\" x=\"329.287071\" xlink:href=\"#mc4f07633f7\" y=\"66.693635\"/>\n      </g>\n     </g>\n     <g id=\"text_13\">\n      <!-- 100 -->\n      <g transform=\"translate(319.743321 81.292073)scale(0.1 -0.1)\">\n       <use xlink:href=\"#DejaVuSans-49\"/>\n       <use x=\"63.623047\" xlink:href=\"#DejaVuSans-48\"/>\n       <use x=\"127.246094\" xlink:href=\"#DejaVuSans-48\"/>\n      </g>\n     </g>\n    </g>\n    <g id=\"xtick_7\">\n     <g id=\"line2d_21\">\n      <path clip-path=\"url(#pd7077a8b53)\" d=\"M 358.848419 66.693635 \nL 358.848419 22.318125 \n\" style=\"fill:none;stroke:#b0b0b0;stroke-linecap:square;stroke-width:0.8;\"/>\n     </g>\n     <g id=\"line2d_22\">\n      <g>\n       <use style=\"stroke:#000000;stroke-width:0.8;\" x=\"358.848419\" xlink:href=\"#mc4f07633f7\" y=\"66.693635\"/>\n      </g>\n     </g>\n     <g id=\"text_14\">\n      <!-- 150 -->\n      <g transform=\"translate(349.304669 81.292073)scale(0.1 -0.1)\">\n       <use xlink:href=\"#DejaVuSans-49\"/>\n       <use x=\"63.623047\" xlink:href=\"#DejaVuSans-53\"/>\n       <use x=\"127.246094\" xlink:href=\"#DejaVuSans-48\"/>\n      </g>\n     </g>\n    </g>\n   </g>\n   <g id=\"matplotlib.axis_6\">\n    <g id=\"ytick_5\">\n     <g id=\"line2d_23\">\n      <path clip-path=\"url(#pd7077a8b53)\" d=\"M 287.8125 66.693635 \nL 380.8125 66.693635 \n\" style=\"fill:none;stroke:#b0b0b0;stroke-linecap:square;stroke-width:0.8;\"/>\n     </g>\n     <g id=\"line2d_24\">\n      <g>\n       <use style=\"stroke:#000000;stroke-width:0.8;\" x=\"287.8125\" xlink:href=\"#ma702a4010b\" y=\"66.693635\"/>\n      </g>\n     </g>\n     <g id=\"text_15\">\n      <!-- 0 -->\n      <g transform=\"translate(274.45 70.492854)scale(0.1 -0.1)\">\n       <use xlink:href=\"#DejaVuSans-48\"/>\n      </g>\n     </g>\n    </g>\n    <g id=\"ytick_6\">\n     <g id=\"line2d_25\">\n      <path clip-path=\"url(#pd7077a8b53)\" d=\"M 287.8125 26.091857 \nL 380.8125 26.091857 \n\" style=\"fill:none;stroke:#b0b0b0;stroke-linecap:square;stroke-width:0.8;\"/>\n     </g>\n     <g id=\"line2d_26\">\n      <g>\n       <use style=\"stroke:#000000;stroke-width:0.8;\" x=\"287.8125\" xlink:href=\"#ma702a4010b\" y=\"26.091857\"/>\n      </g>\n     </g>\n     <g id=\"text_16\">\n      <!-- 20000 -->\n      <g transform=\"translate(249 29.891076)scale(0.1 -0.1)\">\n       <use xlink:href=\"#DejaVuSans-50\"/>\n       <use x=\"63.623047\" xlink:href=\"#DejaVuSans-48\"/>\n       <use x=\"127.246094\" xlink:href=\"#DejaVuSans-48\"/>\n       <use x=\"190.869141\" xlink:href=\"#DejaVuSans-48\"/>\n       <use x=\"254.492188\" xlink:href=\"#DejaVuSans-48\"/>\n      </g>\n     </g>\n    </g>\n   </g>\n   <g id=\"patch_43\">\n    <path d=\"M 287.8125 66.693635 \nL 287.8125 22.318125 \n\" style=\"fill:none;stroke:#000000;stroke-linecap:square;stroke-linejoin:miter;stroke-width:0.8;\"/>\n   </g>\n   <g id=\"patch_44\">\n    <path d=\"M 380.8125 66.693635 \nL 380.8125 22.318125 \n\" style=\"fill:none;stroke:#000000;stroke-linecap:square;stroke-linejoin:miter;stroke-width:0.8;\"/>\n   </g>\n   <g id=\"patch_45\">\n    <path d=\"M 287.8125 66.693635 \nL 380.8125 66.693635 \n\" style=\"fill:none;stroke:#000000;stroke-linecap:square;stroke-linejoin:miter;stroke-width:0.8;\"/>\n   </g>\n   <g id=\"patch_46\">\n    <path d=\"M 287.8125 22.318125 \nL 380.8125 22.318125 \n\" style=\"fill:none;stroke:#000000;stroke-linecap:square;stroke-linejoin:miter;stroke-width:0.8;\"/>\n   </g>\n   <g id=\"text_17\">\n    <!-- Pulse -->\n    <g transform=\"translate(318.512812 16.318125)scale(0.12 -0.12)\">\n     <defs>\n      <path d=\"M 19.671875 64.796875 \nL 19.671875 37.40625 \nL 32.078125 37.40625 \nQ 38.96875 37.40625 42.71875 40.96875 \nQ 46.484375 44.53125 46.484375 51.125 \nQ 46.484375 57.671875 42.71875 61.234375 \nQ 38.96875 64.796875 32.078125 64.796875 \nz\nM 9.8125 72.90625 \nL 32.078125 72.90625 \nQ 44.34375 72.90625 50.609375 67.359375 \nQ 56.890625 61.8125 56.890625 51.125 \nQ 56.890625 40.328125 50.609375 34.8125 \nQ 44.34375 29.296875 32.078125 29.296875 \nL 19.671875 29.296875 \nL 19.671875 0 \nL 9.8125 0 \nz\n\" id=\"DejaVuSans-80\"/>\n      <path d=\"M 9.421875 75.984375 \nL 18.40625 75.984375 \nL 18.40625 0 \nL 9.421875 0 \nz\n\" id=\"DejaVuSans-108\"/>\n     </defs>\n     <use xlink:href=\"#DejaVuSans-80\"/>\n     <use x=\"58.552734\" xlink:href=\"#DejaVuSans-117\"/>\n     <use x=\"121.931641\" xlink:href=\"#DejaVuSans-108\"/>\n     <use x=\"149.714844\" xlink:href=\"#DejaVuSans-115\"/>\n     <use x=\"201.814453\" xlink:href=\"#DejaVuSans-101\"/>\n    </g>\n   </g>\n  </g>\n  <g id=\"axes_4\">\n   <g id=\"patch_47\">\n    <path d=\"M 46.0125 124.381798 \nL 139.0125 124.381798 \nL 139.0125 80.006288 \nL 46.0125 80.006288 \nz\n\" style=\"fill:#ffffff;\"/>\n   </g>\n   <g id=\"patch_48\">\n    <path clip-path=\"url(#pf4fd9b267b)\" d=\"M 50.239773 124.381798 \nL 58.694318 124.381798 \nL 58.694318 124.376219 \nL 50.239773 124.376219 \nz\n\" style=\"fill:#1f77b4;\"/>\n   </g>\n   <g id=\"patch_49\">\n    <path clip-path=\"url(#pf4fd9b267b)\" d=\"M 58.694318 124.381798 \nL 67.148864 124.381798 \nL 67.148864 124.045143 \nL 58.694318 124.045143 \nz\n\" style=\"fill:#1f77b4;\"/>\n   </g>\n   <g id=\"patch_50\">\n    <path clip-path=\"url(#pf4fd9b267b)\" d=\"M 67.148864 124.381798 \nL 75.603409 124.381798 \nL 75.603409 113.653453 \nL 67.148864 113.653453 \nz\n\" style=\"fill:#1f77b4;\"/>\n   </g>\n   <g id=\"patch_51\">\n    <path clip-path=\"url(#pf4fd9b267b)\" d=\"M 75.603409 124.381798 \nL 84.057955 124.381798 \nL 84.057955 82.119408 \nL 75.603409 82.119408 \nz\n\" style=\"fill:#1f77b4;\"/>\n   </g>\n   <g id=\"patch_52\">\n    <path clip-path=\"url(#pf4fd9b267b)\" d=\"M 84.057955 124.381798 \nL 92.5125 124.381798 \nL 92.5125 112.29195 \nL 84.057955 112.29195 \nz\n\" style=\"fill:#1f77b4;\"/>\n   </g>\n   <g id=\"patch_53\">\n    <path clip-path=\"url(#pf4fd9b267b)\" d=\"M 92.5125 124.381798 \nL 100.967045 124.381798 \nL 100.967045 121.593693 \nL 92.5125 121.593693 \nz\n\" style=\"fill:#1f77b4;\"/>\n   </g>\n   <g id=\"patch_54\">\n    <path clip-path=\"url(#pf4fd9b267b)\" d=\"M 100.967045 124.381798 \nL 109.421591 124.381798 \nL 109.421591 124.080482 \nL 100.967045 124.080482 \nz\n\" style=\"fill:#1f77b4;\"/>\n   </g>\n   <g id=\"patch_55\">\n    <path clip-path=\"url(#pf4fd9b267b)\" d=\"M 109.421591 124.381798 \nL 117.876136 124.381798 \nL 117.876136 124.311119 \nL 109.421591 124.311119 \nz\n\" style=\"fill:#1f77b4;\"/>\n   </g>\n   <g id=\"patch_56\">\n    <path clip-path=\"url(#pf4fd9b267b)\" d=\"M 117.876136 124.381798 \nL 126.330682 124.381798 \nL 126.330682 124.378079 \nL 117.876136 124.378079 \nz\n\" style=\"fill:#1f77b4;\"/>\n   </g>\n   <g id=\"patch_57\">\n    <path clip-path=\"url(#pf4fd9b267b)\" d=\"M 126.330682 124.381798 \nL 134.785227 124.381798 \nL 134.785227 124.379938 \nL 126.330682 124.379938 \nz\n\" style=\"fill:#1f77b4;\"/>\n   </g>\n   <g id=\"matplotlib.axis_7\">\n    <g id=\"xtick_8\">\n     <g id=\"line2d_27\">\n      <path clip-path=\"url(#pf4fd9b267b)\" d=\"M 66.846916 124.381798 \nL 66.846916 80.006288 \n\" style=\"fill:none;stroke:#b0b0b0;stroke-linecap:square;stroke-width:0.8;\"/>\n     </g>\n     <g id=\"line2d_28\">\n      <g>\n       <use style=\"stroke:#000000;stroke-width:0.8;\" x=\"66.846916\" xlink:href=\"#mc4f07633f7\" y=\"124.381798\"/>\n      </g>\n     </g>\n     <g id=\"text_18\">\n      <!-- 100 -->\n      <g transform=\"translate(57.303166 138.980236)scale(0.1 -0.1)\">\n       <use xlink:href=\"#DejaVuSans-49\"/>\n       <use x=\"63.623047\" xlink:href=\"#DejaVuSans-48\"/>\n       <use x=\"127.246094\" xlink:href=\"#DejaVuSans-48\"/>\n      </g>\n     </g>\n    </g>\n    <g id=\"xtick_9\">\n     <g id=\"line2d_29\">\n      <path clip-path=\"url(#pf4fd9b267b)\" d=\"M 104.590422 124.381798 \nL 104.590422 80.006288 \n\" style=\"fill:none;stroke:#b0b0b0;stroke-linecap:square;stroke-width:0.8;\"/>\n     </g>\n     <g id=\"line2d_30\">\n      <g>\n       <use style=\"stroke:#000000;stroke-width:0.8;\" x=\"104.590422\" xlink:href=\"#mc4f07633f7\" y=\"124.381798\"/>\n      </g>\n     </g>\n     <g id=\"text_19\">\n      <!-- 200 -->\n      <g transform=\"translate(95.046672 138.980236)scale(0.1 -0.1)\">\n       <use xlink:href=\"#DejaVuSans-50\"/>\n       <use x=\"63.623047\" xlink:href=\"#DejaVuSans-48\"/>\n       <use x=\"127.246094\" xlink:href=\"#DejaVuSans-48\"/>\n      </g>\n     </g>\n    </g>\n   </g>\n   <g id=\"matplotlib.axis_8\">\n    <g id=\"ytick_7\">\n     <g id=\"line2d_31\">\n      <path clip-path=\"url(#pf4fd9b267b)\" d=\"M 46.0125 124.381798 \nL 139.0125 124.381798 \n\" style=\"fill:none;stroke:#b0b0b0;stroke-linecap:square;stroke-width:0.8;\"/>\n     </g>\n     <g id=\"line2d_32\">\n      <g>\n       <use style=\"stroke:#000000;stroke-width:0.8;\" x=\"46.0125\" xlink:href=\"#ma702a4010b\" y=\"124.381798\"/>\n      </g>\n     </g>\n     <g id=\"text_20\">\n      <!-- 0 -->\n      <g transform=\"translate(32.65 128.181017)scale(0.1 -0.1)\">\n       <use xlink:href=\"#DejaVuSans-48\"/>\n      </g>\n     </g>\n    </g>\n    <g id=\"ytick_8\">\n     <g id=\"line2d_33\">\n      <path clip-path=\"url(#pf4fd9b267b)\" d=\"M 46.0125 87.182264 \nL 139.0125 87.182264 \n\" style=\"fill:none;stroke:#b0b0b0;stroke-linecap:square;stroke-width:0.8;\"/>\n     </g>\n     <g id=\"line2d_34\">\n      <g>\n       <use style=\"stroke:#000000;stroke-width:0.8;\" x=\"46.0125\" xlink:href=\"#ma702a4010b\" y=\"87.182264\"/>\n      </g>\n     </g>\n     <g id=\"text_21\">\n      <!-- 20000 -->\n      <g transform=\"translate(7.2 90.981483)scale(0.1 -0.1)\">\n       <use xlink:href=\"#DejaVuSans-50\"/>\n       <use x=\"63.623047\" xlink:href=\"#DejaVuSans-48\"/>\n       <use x=\"127.246094\" xlink:href=\"#DejaVuSans-48\"/>\n       <use x=\"190.869141\" xlink:href=\"#DejaVuSans-48\"/>\n       <use x=\"254.492188\" xlink:href=\"#DejaVuSans-48\"/>\n      </g>\n     </g>\n    </g>\n   </g>\n   <g id=\"patch_58\">\n    <path d=\"M 46.0125 124.381798 \nL 46.0125 80.006288 \n\" style=\"fill:none;stroke:#000000;stroke-linecap:square;stroke-linejoin:miter;stroke-width:0.8;\"/>\n   </g>\n   <g id=\"patch_59\">\n    <path d=\"M 139.0125 124.381798 \nL 139.0125 80.006288 \n\" style=\"fill:none;stroke:#000000;stroke-linecap:square;stroke-linejoin:miter;stroke-width:0.8;\"/>\n   </g>\n   <g id=\"patch_60\">\n    <path d=\"M 46.0125 124.381798 \nL 139.0125 124.381798 \n\" style=\"fill:none;stroke:#000000;stroke-linecap:square;stroke-linejoin:miter;stroke-width:0.8;\"/>\n   </g>\n   <g id=\"patch_61\">\n    <path d=\"M 46.0125 80.006288 \nL 139.0125 80.006288 \n\" style=\"fill:none;stroke:#000000;stroke-linecap:square;stroke-linejoin:miter;stroke-width:0.8;\"/>\n   </g>\n   <g id=\"text_22\">\n    <!-- Tension Diastolique -->\n    <g transform=\"translate(34.450312 74.006288)scale(0.12 -0.12)\">\n     <defs>\n      <path d=\"M -0.296875 72.90625 \nL 61.375 72.90625 \nL 61.375 64.59375 \nL 35.5 64.59375 \nL 35.5 0 \nL 25.59375 0 \nL 25.59375 64.59375 \nL -0.296875 64.59375 \nz\n\" id=\"DejaVuSans-84\"/>\n      <path id=\"DejaVuSans-32\"/>\n      <path d=\"M 19.671875 64.796875 \nL 19.671875 8.109375 \nL 31.59375 8.109375 \nQ 46.6875 8.109375 53.6875 14.9375 \nQ 60.6875 21.78125 60.6875 36.53125 \nQ 60.6875 51.171875 53.6875 57.984375 \nQ 46.6875 64.796875 31.59375 64.796875 \nz\nM 9.8125 72.90625 \nL 30.078125 72.90625 \nQ 51.265625 72.90625 61.171875 64.09375 \nQ 71.09375 55.28125 71.09375 36.53125 \nQ 71.09375 17.671875 61.125 8.828125 \nQ 51.171875 0 30.078125 0 \nL 9.8125 0 \nz\n\" id=\"DejaVuSans-68\"/>\n      <path d=\"M 14.796875 27.296875 \nQ 14.796875 17.390625 18.875 11.75 \nQ 22.953125 6.109375 30.078125 6.109375 \nQ 37.203125 6.109375 41.296875 11.75 \nQ 45.40625 17.390625 45.40625 27.296875 \nQ 45.40625 37.203125 41.296875 42.84375 \nQ 37.203125 48.484375 30.078125 48.484375 \nQ 22.953125 48.484375 18.875 42.84375 \nQ 14.796875 37.203125 14.796875 27.296875 \nz\nM 45.40625 8.203125 \nQ 42.578125 3.328125 38.25 0.953125 \nQ 33.9375 -1.421875 27.875 -1.421875 \nQ 17.96875 -1.421875 11.734375 6.484375 \nQ 5.515625 14.40625 5.515625 27.296875 \nQ 5.515625 40.1875 11.734375 48.09375 \nQ 17.96875 56 27.875 56 \nQ 33.9375 56 38.25 53.625 \nQ 42.578125 51.265625 45.40625 46.390625 \nL 45.40625 54.6875 \nL 54.390625 54.6875 \nL 54.390625 -20.796875 \nL 45.40625 -20.796875 \nz\n\" id=\"DejaVuSans-113\"/>\n     </defs>\n     <use xlink:href=\"#DejaVuSans-84\"/>\n     <use x=\"44.083984\" xlink:href=\"#DejaVuSans-101\"/>\n     <use x=\"105.607422\" xlink:href=\"#DejaVuSans-110\"/>\n     <use x=\"168.986328\" xlink:href=\"#DejaVuSans-115\"/>\n     <use x=\"221.085938\" xlink:href=\"#DejaVuSans-105\"/>\n     <use x=\"248.869141\" xlink:href=\"#DejaVuSans-111\"/>\n     <use x=\"310.050781\" xlink:href=\"#DejaVuSans-110\"/>\n     <use x=\"373.429688\" xlink:href=\"#DejaVuSans-32\"/>\n     <use x=\"405.216797\" xlink:href=\"#DejaVuSans-68\"/>\n     <use x=\"482.21875\" xlink:href=\"#DejaVuSans-105\"/>\n     <use x=\"510.001953\" xlink:href=\"#DejaVuSans-97\"/>\n     <use x=\"571.28125\" xlink:href=\"#DejaVuSans-115\"/>\n     <use x=\"623.380859\" xlink:href=\"#DejaVuSans-116\"/>\n     <use x=\"662.589844\" xlink:href=\"#DejaVuSans-111\"/>\n     <use x=\"723.771484\" xlink:href=\"#DejaVuSans-108\"/>\n     <use x=\"751.554688\" xlink:href=\"#DejaVuSans-105\"/>\n     <use x=\"779.337891\" xlink:href=\"#DejaVuSans-113\"/>\n     <use x=\"842.814453\" xlink:href=\"#DejaVuSans-117\"/>\n     <use x=\"906.193359\" xlink:href=\"#DejaVuSans-101\"/>\n    </g>\n   </g>\n  </g>\n  <g id=\"axes_5\">\n   <g id=\"patch_62\">\n    <path d=\"M 166.9125 124.381798 \nL 259.9125 124.381798 \nL 259.9125 80.006288 \nL 166.9125 80.006288 \nz\n\" style=\"fill:#ffffff;\"/>\n   </g>\n   <g id=\"patch_63\">\n    <path clip-path=\"url(#pf01a87bf3e)\" d=\"M 171.139773 124.381798 \nL 179.594318 124.381798 \nL 179.594318 124.045561 \nL 171.139773 124.045561 \nz\n\" style=\"fill:#1f77b4;\"/>\n   </g>\n   <g id=\"patch_64\">\n    <path clip-path=\"url(#pf01a87bf3e)\" d=\"M 179.594318 124.381798 \nL 188.048864 124.381798 \nL 188.048864 118.533491 \nL 179.594318 118.533491 \nz\n\" style=\"fill:#1f77b4;\"/>\n   </g>\n   <g id=\"patch_65\">\n    <path clip-path=\"url(#pf01a87bf3e)\" d=\"M 188.048864 124.381798 \nL 196.503409 124.381798 \nL 196.503409 82.119408 \nL 188.048864 82.119408 \nz\n\" style=\"fill:#1f77b4;\"/>\n   </g>\n   <g id=\"patch_66\">\n    <path clip-path=\"url(#pf01a87bf3e)\" d=\"M 196.503409 124.381798 \nL 204.957955 124.381798 \nL 204.957955 115.754349 \nL 196.503409 115.754349 \nz\n\" style=\"fill:#1f77b4;\"/>\n   </g>\n   <g id=\"patch_67\">\n    <path clip-path=\"url(#pf01a87bf3e)\" d=\"M 204.957955 124.381798 \nL 213.4125 124.381798 \nL 213.4125 122.828093 \nL 204.957955 122.828093 \nz\n\" style=\"fill:#1f77b4;\"/>\n   </g>\n   <g id=\"patch_68\">\n    <path clip-path=\"url(#pf01a87bf3e)\" d=\"M 213.4125 124.381798 \nL 221.867045 124.381798 \nL 221.867045 124.255908 \nL 213.4125 124.255908 \nz\n\" style=\"fill:#1f77b4;\"/>\n   </g>\n   <g id=\"patch_69\">\n    <path clip-path=\"url(#pf01a87bf3e)\" d=\"M 221.867045 124.381798 \nL 230.321591 124.381798 \nL 230.321591 124.373831 \nL 221.867045 124.373831 \nz\n\" style=\"fill:#1f77b4;\"/>\n   </g>\n   <g id=\"patch_70\">\n    <path clip-path=\"url(#pf01a87bf3e)\" d=\"M 230.321591 124.381798 \nL 238.776136 124.381798 \nL 238.776136 124.381798 \nL 230.321591 124.381798 \nz\n\" style=\"fill:#1f77b4;\"/>\n   </g>\n   <g id=\"patch_71\">\n    <path clip-path=\"url(#pf01a87bf3e)\" d=\"M 238.776136 124.381798 \nL 247.230682 124.381798 \nL 247.230682 124.381798 \nL 238.776136 124.381798 \nz\n\" style=\"fill:#1f77b4;\"/>\n   </g>\n   <g id=\"patch_72\">\n    <path clip-path=\"url(#pf01a87bf3e)\" d=\"M 247.230682 124.381798 \nL 255.685227 124.381798 \nL 255.685227 124.380205 \nL 247.230682 124.380205 \nz\n\" style=\"fill:#1f77b4;\"/>\n   </g>\n   <g id=\"matplotlib.axis_9\">\n    <g id=\"xtick_10\">\n     <g id=\"line2d_35\">\n      <path clip-path=\"url(#pf01a87bf3e)\" d=\"M 176.776136 124.381798 \nL 176.776136 80.006288 \n\" style=\"fill:none;stroke:#b0b0b0;stroke-linecap:square;stroke-width:0.8;\"/>\n     </g>\n     <g id=\"line2d_36\">\n      <g>\n       <use style=\"stroke:#000000;stroke-width:0.8;\" x=\"176.776136\" xlink:href=\"#mc4f07633f7\" y=\"124.381798\"/>\n      </g>\n     </g>\n     <g id=\"text_23\">\n      <!-- 50 -->\n      <g transform=\"translate(170.413636 138.980236)scale(0.1 -0.1)\">\n       <use xlink:href=\"#DejaVuSans-53\"/>\n       <use x=\"63.623047\" xlink:href=\"#DejaVuSans-48\"/>\n      </g>\n     </g>\n    </g>\n    <g id=\"xtick_11\">\n     <g id=\"line2d_37\">\n      <path clip-path=\"url(#pf01a87bf3e)\" d=\"M 204.957955 124.381798 \nL 204.957955 80.006288 \n\" style=\"fill:none;stroke:#b0b0b0;stroke-linecap:square;stroke-width:0.8;\"/>\n     </g>\n     <g id=\"line2d_38\">\n      <g>\n       <use style=\"stroke:#000000;stroke-width:0.8;\" x=\"204.957955\" xlink:href=\"#mc4f07633f7\" y=\"124.381798\"/>\n      </g>\n     </g>\n     <g id=\"text_24\">\n      <!-- 100 -->\n      <g transform=\"translate(195.414205 138.980236)scale(0.1 -0.1)\">\n       <use xlink:href=\"#DejaVuSans-49\"/>\n       <use x=\"63.623047\" xlink:href=\"#DejaVuSans-48\"/>\n       <use x=\"127.246094\" xlink:href=\"#DejaVuSans-48\"/>\n      </g>\n     </g>\n    </g>\n    <g id=\"xtick_12\">\n     <g id=\"line2d_39\">\n      <path clip-path=\"url(#pf01a87bf3e)\" d=\"M 233.139773 124.381798 \nL 233.139773 80.006288 \n\" style=\"fill:none;stroke:#b0b0b0;stroke-linecap:square;stroke-width:0.8;\"/>\n     </g>\n     <g id=\"line2d_40\">\n      <g>\n       <use style=\"stroke:#000000;stroke-width:0.8;\" x=\"233.139773\" xlink:href=\"#mc4f07633f7\" y=\"124.381798\"/>\n      </g>\n     </g>\n     <g id=\"text_25\">\n      <!-- 150 -->\n      <g transform=\"translate(223.596023 138.980236)scale(0.1 -0.1)\">\n       <use xlink:href=\"#DejaVuSans-49\"/>\n       <use x=\"63.623047\" xlink:href=\"#DejaVuSans-53\"/>\n       <use x=\"127.246094\" xlink:href=\"#DejaVuSans-48\"/>\n      </g>\n     </g>\n    </g>\n   </g>\n   <g id=\"matplotlib.axis_10\">\n    <g id=\"ytick_9\">\n     <g id=\"line2d_41\">\n      <path clip-path=\"url(#pf01a87bf3e)\" d=\"M 166.9125 124.381798 \nL 259.9125 124.381798 \n\" style=\"fill:none;stroke:#b0b0b0;stroke-linecap:square;stroke-width:0.8;\"/>\n     </g>\n     <g id=\"line2d_42\">\n      <g>\n       <use style=\"stroke:#000000;stroke-width:0.8;\" x=\"166.9125\" xlink:href=\"#ma702a4010b\" y=\"124.381798\"/>\n      </g>\n     </g>\n     <g id=\"text_26\">\n      <!-- 0 -->\n      <g transform=\"translate(153.55 128.181017)scale(0.1 -0.1)\">\n       <use xlink:href=\"#DejaVuSans-48\"/>\n      </g>\n     </g>\n    </g>\n    <g id=\"ytick_10\">\n     <g id=\"line2d_43\">\n      <path clip-path=\"url(#pf01a87bf3e)\" d=\"M 166.9125 92.510911 \nL 259.9125 92.510911 \n\" style=\"fill:none;stroke:#b0b0b0;stroke-linecap:square;stroke-width:0.8;\"/>\n     </g>\n     <g id=\"line2d_44\">\n      <g>\n       <use style=\"stroke:#000000;stroke-width:0.8;\" x=\"166.9125\" xlink:href=\"#ma702a4010b\" y=\"92.510911\"/>\n      </g>\n     </g>\n     <g id=\"text_27\">\n      <!-- 20000 -->\n      <g transform=\"translate(128.1 96.310129)scale(0.1 -0.1)\">\n       <use xlink:href=\"#DejaVuSans-50\"/>\n       <use x=\"63.623047\" xlink:href=\"#DejaVuSans-48\"/>\n       <use x=\"127.246094\" xlink:href=\"#DejaVuSans-48\"/>\n       <use x=\"190.869141\" xlink:href=\"#DejaVuSans-48\"/>\n       <use x=\"254.492188\" xlink:href=\"#DejaVuSans-48\"/>\n      </g>\n     </g>\n    </g>\n   </g>\n   <g id=\"patch_73\">\n    <path d=\"M 166.9125 124.381798 \nL 166.9125 80.006288 \n\" style=\"fill:none;stroke:#000000;stroke-linecap:square;stroke-linejoin:miter;stroke-width:0.8;\"/>\n   </g>\n   <g id=\"patch_74\">\n    <path d=\"M 259.9125 124.381798 \nL 259.9125 80.006288 \n\" style=\"fill:none;stroke:#000000;stroke-linecap:square;stroke-linejoin:miter;stroke-width:0.8;\"/>\n   </g>\n   <g id=\"patch_75\">\n    <path d=\"M 166.9125 124.381798 \nL 259.9125 124.381798 \n\" style=\"fill:none;stroke:#000000;stroke-linecap:square;stroke-linejoin:miter;stroke-width:0.8;\"/>\n   </g>\n   <g id=\"patch_76\">\n    <path d=\"M 166.9125 80.006288 \nL 259.9125 80.006288 \n\" style=\"fill:none;stroke:#000000;stroke-linecap:square;stroke-linejoin:miter;stroke-width:0.8;\"/>\n   </g>\n   <g id=\"text_28\">\n    <!-- Tension Systolique -->\n    <g transform=\"translate(157.95375 74.006288)scale(0.12 -0.12)\">\n     <defs>\n      <path d=\"M 53.515625 70.515625 \nL 53.515625 60.890625 \nQ 47.90625 63.578125 42.921875 64.890625 \nQ 37.9375 66.21875 33.296875 66.21875 \nQ 25.25 66.21875 20.875 63.09375 \nQ 16.5 59.96875 16.5 54.203125 \nQ 16.5 49.359375 19.40625 46.890625 \nQ 22.3125 44.4375 30.421875 42.921875 \nL 36.375 41.703125 \nQ 47.40625 39.59375 52.65625 34.296875 \nQ 57.90625 29 57.90625 20.125 \nQ 57.90625 9.515625 50.796875 4.046875 \nQ 43.703125 -1.421875 29.984375 -1.421875 \nQ 24.8125 -1.421875 18.96875 -0.25 \nQ 13.140625 0.921875 6.890625 3.21875 \nL 6.890625 13.375 \nQ 12.890625 10.015625 18.65625 8.296875 \nQ 24.421875 6.59375 29.984375 6.59375 \nQ 38.421875 6.59375 43.015625 9.90625 \nQ 47.609375 13.234375 47.609375 19.390625 \nQ 47.609375 24.75 44.3125 27.78125 \nQ 41.015625 30.8125 33.5 32.328125 \nL 27.484375 33.5 \nQ 16.453125 35.6875 11.515625 40.375 \nQ 6.59375 45.0625 6.59375 53.421875 \nQ 6.59375 63.09375 13.40625 68.65625 \nQ 20.21875 74.21875 32.171875 74.21875 \nQ 37.3125 74.21875 42.625 73.28125 \nQ 47.953125 72.359375 53.515625 70.515625 \nz\n\" id=\"DejaVuSans-83\"/>\n      <path d=\"M 32.171875 -5.078125 \nQ 28.375 -14.84375 24.75 -17.8125 \nQ 21.140625 -20.796875 15.09375 -20.796875 \nL 7.90625 -20.796875 \nL 7.90625 -13.28125 \nL 13.1875 -13.28125 \nQ 16.890625 -13.28125 18.9375 -11.515625 \nQ 21 -9.765625 23.484375 -3.21875 \nL 25.09375 0.875 \nL 2.984375 54.6875 \nL 12.5 54.6875 \nL 29.59375 11.921875 \nL 46.6875 54.6875 \nL 56.203125 54.6875 \nz\n\" id=\"DejaVuSans-121\"/>\n     </defs>\n     <use xlink:href=\"#DejaVuSans-84\"/>\n     <use x=\"44.083984\" xlink:href=\"#DejaVuSans-101\"/>\n     <use x=\"105.607422\" xlink:href=\"#DejaVuSans-110\"/>\n     <use x=\"168.986328\" xlink:href=\"#DejaVuSans-115\"/>\n     <use x=\"221.085938\" xlink:href=\"#DejaVuSans-105\"/>\n     <use x=\"248.869141\" xlink:href=\"#DejaVuSans-111\"/>\n     <use x=\"310.050781\" xlink:href=\"#DejaVuSans-110\"/>\n     <use x=\"373.429688\" xlink:href=\"#DejaVuSans-32\"/>\n     <use x=\"405.216797\" xlink:href=\"#DejaVuSans-83\"/>\n     <use x=\"468.693359\" xlink:href=\"#DejaVuSans-121\"/>\n     <use x=\"527.873047\" xlink:href=\"#DejaVuSans-115\"/>\n     <use x=\"579.972656\" xlink:href=\"#DejaVuSans-116\"/>\n     <use x=\"619.181641\" xlink:href=\"#DejaVuSans-111\"/>\n     <use x=\"680.363281\" xlink:href=\"#DejaVuSans-108\"/>\n     <use x=\"708.146484\" xlink:href=\"#DejaVuSans-105\"/>\n     <use x=\"735.929688\" xlink:href=\"#DejaVuSans-113\"/>\n     <use x=\"799.40625\" xlink:href=\"#DejaVuSans-117\"/>\n     <use x=\"862.785156\" xlink:href=\"#DejaVuSans-101\"/>\n    </g>\n   </g>\n  </g>\n  <g id=\"axes_6\">\n   <g id=\"patch_77\">\n    <path d=\"M 287.8125 124.381798 \nL 380.8125 124.381798 \nL 380.8125 80.006288 \nL 287.8125 80.006288 \nz\n\" style=\"fill:#ffffff;\"/>\n   </g>\n   <g id=\"patch_78\">\n    <path clip-path=\"url(#p55dbf67b34)\" d=\"M 292.039773 124.381798 \nL 300.494318 124.381798 \nL 300.494318 124.263126 \nL 292.039773 124.263126 \nz\n\" style=\"fill:#1f77b4;\"/>\n   </g>\n   <g id=\"patch_79\">\n    <path clip-path=\"url(#p55dbf67b34)\" d=\"M 300.494318 124.381798 \nL 308.948864 124.381798 \nL 308.948864 123.837881 \nL 300.494318 123.837881 \nz\n\" style=\"fill:#1f77b4;\"/>\n   </g>\n   <g id=\"patch_80\">\n    <path clip-path=\"url(#p55dbf67b34)\" d=\"M 308.948864 124.381798 \nL 317.403409 124.381798 \nL 317.403409 121.187519 \nL 308.948864 121.187519 \nz\n\" style=\"fill:#1f77b4;\"/>\n   </g>\n   <g id=\"patch_81\">\n    <path clip-path=\"url(#p55dbf67b34)\" d=\"M 317.403409 124.381798 \nL 325.857955 124.381798 \nL 325.857955 116.628502 \nL 317.403409 116.628502 \nz\n\" style=\"fill:#1f77b4;\"/>\n   </g>\n   <g id=\"patch_82\">\n    <path clip-path=\"url(#p55dbf67b34)\" d=\"M 325.857955 124.381798 \nL 334.3125 124.381798 \nL 334.3125 99.584105 \nL 325.857955 99.584105 \nz\n\" style=\"fill:#1f77b4;\"/>\n   </g>\n   <g id=\"patch_83\">\n    <path clip-path=\"url(#p55dbf67b34)\" d=\"M 334.3125 124.381798 \nL 342.767045 124.381798 \nL 342.767045 82.119408 \nL 334.3125 82.119408 \nz\n\" style=\"fill:#1f77b4;\"/>\n   </g>\n   <g id=\"patch_84\">\n    <path clip-path=\"url(#p55dbf67b34)\" d=\"M 342.767045 124.381798 \nL 351.221591 124.381798 \nL 351.221591 86.727873 \nL 342.767045 86.727873 \nz\n\" style=\"fill:#1f77b4;\"/>\n   </g>\n   <g id=\"patch_85\">\n    <path clip-path=\"url(#p55dbf67b34)\" d=\"M 351.221591 124.381798 \nL 359.676136 124.381798 \nL 359.676136 83.909391 \nL 351.221591 83.909391 \nz\n\" style=\"fill:#1f77b4;\"/>\n   </g>\n   <g id=\"patch_86\">\n    <path clip-path=\"url(#p55dbf67b34)\" d=\"M 359.676136 124.381798 \nL 368.130682 124.381798 \nL 368.130682 101.517484 \nL 359.676136 101.517484 \nz\n\" style=\"fill:#1f77b4;\"/>\n   </g>\n   <g id=\"patch_87\">\n    <path clip-path=\"url(#p55dbf67b34)\" d=\"M 368.130682 124.381798 \nL 376.585227 124.381798 \nL 376.585227 121.701769 \nL 368.130682 121.701769 \nz\n\" style=\"fill:#1f77b4;\"/>\n   </g>\n   <g id=\"matplotlib.axis_11\">\n    <g id=\"xtick_13\">\n     <g id=\"line2d_45\">\n      <path clip-path=\"url(#p55dbf67b34)\" d=\"M 323.881567 124.381798 \nL 323.881567 80.006288 \n\" style=\"fill:none;stroke:#b0b0b0;stroke-linecap:square;stroke-width:0.8;\"/>\n     </g>\n     <g id=\"line2d_46\">\n      <g>\n       <use style=\"stroke:#000000;stroke-width:0.8;\" x=\"323.881567\" xlink:href=\"#mc4f07633f7\" y=\"124.381798\"/>\n      </g>\n     </g>\n     <g id=\"text_29\">\n      <!-- 50 -->\n      <g transform=\"translate(317.519067 138.980236)scale(0.1 -0.1)\">\n       <use xlink:href=\"#DejaVuSans-53\"/>\n       <use x=\"63.623047\" xlink:href=\"#DejaVuSans-48\"/>\n      </g>\n     </g>\n    </g>\n    <g id=\"xtick_14\">\n     <g id=\"line2d_47\">\n      <path clip-path=\"url(#p55dbf67b34)\" d=\"M 378.781213 124.381798 \nL 378.781213 80.006288 \n\" style=\"fill:none;stroke:#b0b0b0;stroke-linecap:square;stroke-width:0.8;\"/>\n     </g>\n     <g id=\"line2d_48\">\n      <g>\n       <use style=\"stroke:#000000;stroke-width:0.8;\" x=\"378.781213\" xlink:href=\"#mc4f07633f7\" y=\"124.381798\"/>\n      </g>\n     </g>\n     <g id=\"text_30\">\n      <!-- 100 -->\n      <g transform=\"translate(369.237463 138.980236)scale(0.1 -0.1)\">\n       <use xlink:href=\"#DejaVuSans-49\"/>\n       <use x=\"63.623047\" xlink:href=\"#DejaVuSans-48\"/>\n       <use x=\"127.246094\" xlink:href=\"#DejaVuSans-48\"/>\n      </g>\n     </g>\n    </g>\n   </g>\n   <g id=\"matplotlib.axis_12\">\n    <g id=\"ytick_11\">\n     <g id=\"line2d_49\">\n      <path clip-path=\"url(#p55dbf67b34)\" d=\"M 287.8125 124.381798 \nL 380.8125 124.381798 \n\" style=\"fill:none;stroke:#b0b0b0;stroke-linecap:square;stroke-width:0.8;\"/>\n     </g>\n     <g id=\"line2d_50\">\n      <g>\n       <use style=\"stroke:#000000;stroke-width:0.8;\" x=\"287.8125\" xlink:href=\"#ma702a4010b\" y=\"124.381798\"/>\n      </g>\n     </g>\n     <g id=\"text_31\">\n      <!-- 0 -->\n      <g transform=\"translate(274.45 128.181017)scale(0.1 -0.1)\">\n       <use xlink:href=\"#DejaVuSans-48\"/>\n      </g>\n     </g>\n    </g>\n    <g id=\"ytick_12\">\n     <g id=\"line2d_51\">\n      <path clip-path=\"url(#p55dbf67b34)\" d=\"M 287.8125 99.658275 \nL 380.8125 99.658275 \n\" style=\"fill:none;stroke:#b0b0b0;stroke-linecap:square;stroke-width:0.8;\"/>\n     </g>\n     <g id=\"line2d_52\">\n      <g>\n       <use style=\"stroke:#000000;stroke-width:0.8;\" x=\"287.8125\" xlink:href=\"#ma702a4010b\" y=\"99.658275\"/>\n      </g>\n     </g>\n     <g id=\"text_32\">\n      <!-- 5000 -->\n      <g transform=\"translate(255.3625 103.457494)scale(0.1 -0.1)\">\n       <use xlink:href=\"#DejaVuSans-53\"/>\n       <use x=\"63.623047\" xlink:href=\"#DejaVuSans-48\"/>\n       <use x=\"127.246094\" xlink:href=\"#DejaVuSans-48\"/>\n       <use x=\"190.869141\" xlink:href=\"#DejaVuSans-48\"/>\n      </g>\n     </g>\n    </g>\n   </g>\n   <g id=\"patch_88\">\n    <path d=\"M 287.8125 124.381798 \nL 287.8125 80.006288 \n\" style=\"fill:none;stroke:#000000;stroke-linecap:square;stroke-linejoin:miter;stroke-width:0.8;\"/>\n   </g>\n   <g id=\"patch_89\">\n    <path d=\"M 380.8125 124.381798 \nL 380.8125 80.006288 \n\" style=\"fill:none;stroke:#000000;stroke-linecap:square;stroke-linejoin:miter;stroke-width:0.8;\"/>\n   </g>\n   <g id=\"patch_90\">\n    <path d=\"M 287.8125 124.381798 \nL 380.8125 124.381798 \n\" style=\"fill:none;stroke:#000000;stroke-linecap:square;stroke-linejoin:miter;stroke-width:0.8;\"/>\n   </g>\n   <g id=\"patch_91\">\n    <path d=\"M 287.8125 80.006288 \nL 380.8125 80.006288 \n\" style=\"fill:none;stroke:#000000;stroke-linecap:square;stroke-linejoin:miter;stroke-width:0.8;\"/>\n   </g>\n   <g id=\"text_33\">\n    <!-- Age_presc -->\n    <g transform=\"translate(303.45 74.006288)scale(0.12 -0.12)\">\n     <defs>\n      <path d=\"M 34.1875 63.1875 \nL 20.796875 26.90625 \nL 47.609375 26.90625 \nz\nM 28.609375 72.90625 \nL 39.796875 72.90625 \nL 67.578125 0 \nL 57.328125 0 \nL 50.6875 18.703125 \nL 17.828125 18.703125 \nL 11.1875 0 \nL 0.78125 0 \nz\n\" id=\"DejaVuSans-65\"/>\n      <path d=\"M 45.40625 27.984375 \nQ 45.40625 37.75 41.375 43.109375 \nQ 37.359375 48.484375 30.078125 48.484375 \nQ 22.859375 48.484375 18.828125 43.109375 \nQ 14.796875 37.75 14.796875 27.984375 \nQ 14.796875 18.265625 18.828125 12.890625 \nQ 22.859375 7.515625 30.078125 7.515625 \nQ 37.359375 7.515625 41.375 12.890625 \nQ 45.40625 18.265625 45.40625 27.984375 \nz\nM 54.390625 6.78125 \nQ 54.390625 -7.171875 48.1875 -13.984375 \nQ 42 -20.796875 29.203125 -20.796875 \nQ 24.46875 -20.796875 20.265625 -20.09375 \nQ 16.0625 -19.390625 12.109375 -17.921875 \nL 12.109375 -9.1875 \nQ 16.0625 -11.328125 19.921875 -12.34375 \nQ 23.78125 -13.375 27.78125 -13.375 \nQ 36.625 -13.375 41.015625 -8.765625 \nQ 45.40625 -4.15625 45.40625 5.171875 \nL 45.40625 9.625 \nQ 42.625 4.78125 38.28125 2.390625 \nQ 33.9375 0 27.875 0 \nQ 17.828125 0 11.671875 7.65625 \nQ 5.515625 15.328125 5.515625 27.984375 \nQ 5.515625 40.671875 11.671875 48.328125 \nQ 17.828125 56 27.875 56 \nQ 33.9375 56 38.28125 53.609375 \nQ 42.625 51.21875 45.40625 46.390625 \nL 45.40625 54.6875 \nL 54.390625 54.6875 \nz\n\" id=\"DejaVuSans-103\"/>\n     </defs>\n     <use xlink:href=\"#DejaVuSans-65\"/>\n     <use x=\"68.408203\" xlink:href=\"#DejaVuSans-103\"/>\n     <use x=\"131.884766\" xlink:href=\"#DejaVuSans-101\"/>\n     <use x=\"193.408203\" xlink:href=\"#DejaVuSans-95\"/>\n     <use x=\"243.408203\" xlink:href=\"#DejaVuSans-112\"/>\n     <use x=\"306.884766\" xlink:href=\"#DejaVuSans-114\"/>\n     <use x=\"345.748047\" xlink:href=\"#DejaVuSans-101\"/>\n     <use x=\"407.271484\" xlink:href=\"#DejaVuSans-115\"/>\n     <use x=\"459.371094\" xlink:href=\"#DejaVuSans-99\"/>\n    </g>\n   </g>\n  </g>\n  <g id=\"axes_7\">\n   <g id=\"patch_92\">\n    <path d=\"M 46.0125 182.069962 \nL 139.0125 182.069962 \nL 139.0125 137.694452 \nL 46.0125 137.694452 \nz\n\" style=\"fill:#ffffff;\"/>\n   </g>\n   <g id=\"patch_93\">\n    <path clip-path=\"url(#p65b6712da1)\" d=\"M 50.239773 182.069962 \nL 58.694318 182.069962 \nL 58.694318 178.077104 \nL 50.239773 178.077104 \nz\n\" style=\"fill:#1f77b4;\"/>\n   </g>\n   <g id=\"patch_94\">\n    <path clip-path=\"url(#p65b6712da1)\" d=\"M 58.694318 182.069962 \nL 67.148864 182.069962 \nL 67.148864 161.182295 \nL 58.694318 161.182295 \nz\n\" style=\"fill:#1f77b4;\"/>\n   </g>\n   <g id=\"patch_95\">\n    <path clip-path=\"url(#p65b6712da1)\" d=\"M 67.148864 182.069962 \nL 75.603409 182.069962 \nL 75.603409 139.807571 \nL 67.148864 139.807571 \nz\n\" style=\"fill:#1f77b4;\"/>\n   </g>\n   <g id=\"patch_96\">\n    <path clip-path=\"url(#p65b6712da1)\" d=\"M 75.603409 182.069962 \nL 84.057955 182.069962 \nL 84.057955 145.748659 \nL 75.603409 145.748659 \nz\n\" style=\"fill:#1f77b4;\"/>\n   </g>\n   <g id=\"patch_97\">\n    <path clip-path=\"url(#p65b6712da1)\" d=\"M 84.057955 182.069962 \nL 92.5125 182.069962 \nL 92.5125 142.166756 \nL 84.057955 142.166756 \nz\n\" style=\"fill:#1f77b4;\"/>\n   </g>\n   <g id=\"patch_98\">\n    <path clip-path=\"url(#p65b6712da1)\" d=\"M 92.5125 182.069962 \nL 100.967045 182.069962 \nL 100.967045 153.029155 \nL 92.5125 153.029155 \nz\n\" style=\"fill:#1f77b4;\"/>\n   </g>\n   <g id=\"patch_99\">\n    <path clip-path=\"url(#p65b6712da1)\" d=\"M 100.967045 182.069962 \nL 109.421591 182.069962 \nL 109.421591 172.475942 \nL 100.967045 172.475942 \nz\n\" style=\"fill:#1f77b4;\"/>\n   </g>\n   <g id=\"patch_100\">\n    <path clip-path=\"url(#p65b6712da1)\" d=\"M 109.421591 182.069962 \nL 117.876136 182.069962 \nL 117.876136 177.808208 \nL 109.421591 177.808208 \nz\n\" style=\"fill:#1f77b4;\"/>\n   </g>\n   <g id=\"patch_101\">\n    <path clip-path=\"url(#p65b6712da1)\" d=\"M 117.876136 182.069962 \nL 126.330682 182.069962 \nL 126.330682 181.425625 \nL 117.876136 181.425625 \nz\n\" style=\"fill:#1f77b4;\"/>\n   </g>\n   <g id=\"patch_102\">\n    <path clip-path=\"url(#p65b6712da1)\" d=\"M 126.330682 182.069962 \nL 134.785227 182.069962 \nL 134.785227 181.887315 \nL 126.330682 181.887315 \nz\n\" style=\"fill:#1f77b4;\"/>\n   </g>\n   <g id=\"matplotlib.axis_13\">\n    <g id=\"xtick_15\">\n     <g id=\"line2d_53\">\n      <path clip-path=\"url(#p65b6712da1)\" d=\"M 59.379822 182.069962 \nL 59.379822 137.694452 \n\" style=\"fill:none;stroke:#b0b0b0;stroke-linecap:square;stroke-width:0.8;\"/>\n     </g>\n     <g id=\"line2d_54\">\n      <g>\n       <use style=\"stroke:#000000;stroke-width:0.8;\" x=\"59.379822\" xlink:href=\"#mc4f07633f7\" y=\"182.069962\"/>\n      </g>\n     </g>\n     <g id=\"text_34\">\n      <!-- 1925 -->\n      <g transform=\"translate(46.654822 196.668399)scale(0.1 -0.1)\">\n       <defs>\n        <path d=\"M 10.984375 1.515625 \nL 10.984375 10.5 \nQ 14.703125 8.734375 18.5 7.8125 \nQ 22.3125 6.890625 25.984375 6.890625 \nQ 35.75 6.890625 40.890625 13.453125 \nQ 46.046875 20.015625 46.78125 33.40625 \nQ 43.953125 29.203125 39.59375 26.953125 \nQ 35.25 24.703125 29.984375 24.703125 \nQ 19.046875 24.703125 12.671875 31.3125 \nQ 6.296875 37.9375 6.296875 49.421875 \nQ 6.296875 60.640625 12.9375 67.421875 \nQ 19.578125 74.21875 30.609375 74.21875 \nQ 43.265625 74.21875 49.921875 64.515625 \nQ 56.59375 54.828125 56.59375 36.375 \nQ 56.59375 19.140625 48.40625 8.859375 \nQ 40.234375 -1.421875 26.421875 -1.421875 \nQ 22.703125 -1.421875 18.890625 -0.6875 \nQ 15.09375 0.046875 10.984375 1.515625 \nz\nM 30.609375 32.421875 \nQ 37.25 32.421875 41.125 36.953125 \nQ 45.015625 41.5 45.015625 49.421875 \nQ 45.015625 57.28125 41.125 61.84375 \nQ 37.25 66.40625 30.609375 66.40625 \nQ 23.96875 66.40625 20.09375 61.84375 \nQ 16.21875 57.28125 16.21875 49.421875 \nQ 16.21875 41.5 20.09375 36.953125 \nQ 23.96875 32.421875 30.609375 32.421875 \nz\n\" id=\"DejaVuSans-57\"/>\n       </defs>\n       <use xlink:href=\"#DejaVuSans-49\"/>\n       <use x=\"63.623047\" xlink:href=\"#DejaVuSans-57\"/>\n       <use x=\"127.246094\" xlink:href=\"#DejaVuSans-50\"/>\n       <use x=\"190.869141\" xlink:href=\"#DejaVuSans-53\"/>\n      </g>\n     </g>\n    </g>\n    <g id=\"xtick_16\">\n     <g id=\"line2d_55\">\n      <path clip-path=\"url(#p65b6712da1)\" d=\"M 87.942475 182.069962 \nL 87.942475 137.694452 \n\" style=\"fill:none;stroke:#b0b0b0;stroke-linecap:square;stroke-width:0.8;\"/>\n     </g>\n     <g id=\"line2d_56\">\n      <g>\n       <use style=\"stroke:#000000;stroke-width:0.8;\" x=\"87.942475\" xlink:href=\"#mc4f07633f7\" y=\"182.069962\"/>\n      </g>\n     </g>\n     <g id=\"text_35\">\n      <!-- 1950 -->\n      <g transform=\"translate(75.217475 196.668399)scale(0.1 -0.1)\">\n       <use xlink:href=\"#DejaVuSans-49\"/>\n       <use x=\"63.623047\" xlink:href=\"#DejaVuSans-57\"/>\n       <use x=\"127.246094\" xlink:href=\"#DejaVuSans-53\"/>\n       <use x=\"190.869141\" xlink:href=\"#DejaVuSans-48\"/>\n      </g>\n     </g>\n    </g>\n    <g id=\"xtick_17\">\n     <g id=\"line2d_57\">\n      <path clip-path=\"url(#p65b6712da1)\" d=\"M 116.505129 182.069962 \nL 116.505129 137.694452 \n\" style=\"fill:none;stroke:#b0b0b0;stroke-linecap:square;stroke-width:0.8;\"/>\n     </g>\n     <g id=\"line2d_58\">\n      <g>\n       <use style=\"stroke:#000000;stroke-width:0.8;\" x=\"116.505129\" xlink:href=\"#mc4f07633f7\" y=\"182.069962\"/>\n      </g>\n     </g>\n     <g id=\"text_36\">\n      <!-- 1975 -->\n      <g transform=\"translate(103.780129 196.668399)scale(0.1 -0.1)\">\n       <use xlink:href=\"#DejaVuSans-49\"/>\n       <use x=\"63.623047\" xlink:href=\"#DejaVuSans-57\"/>\n       <use x=\"127.246094\" xlink:href=\"#DejaVuSans-55\"/>\n       <use x=\"190.869141\" xlink:href=\"#DejaVuSans-53\"/>\n      </g>\n     </g>\n    </g>\n   </g>\n   <g id=\"matplotlib.axis_14\">\n    <g id=\"ytick_13\">\n     <g id=\"line2d_59\">\n      <path clip-path=\"url(#p65b6712da1)\" d=\"M 46.0125 182.069962 \nL 139.0125 182.069962 \n\" style=\"fill:none;stroke:#b0b0b0;stroke-linecap:square;stroke-width:0.8;\"/>\n     </g>\n     <g id=\"line2d_60\">\n      <g>\n       <use style=\"stroke:#000000;stroke-width:0.8;\" x=\"46.0125\" xlink:href=\"#ma702a4010b\" y=\"182.069962\"/>\n      </g>\n     </g>\n     <g id=\"text_37\">\n      <!-- 0 -->\n      <g transform=\"translate(32.65 185.86918)scale(0.1 -0.1)\">\n       <use xlink:href=\"#DejaVuSans-48\"/>\n      </g>\n     </g>\n    </g>\n    <g id=\"ytick_14\">\n     <g id=\"line2d_61\">\n      <path clip-path=\"url(#p65b6712da1)\" d=\"M 46.0125 156.70238 \nL 139.0125 156.70238 \n\" style=\"fill:none;stroke:#b0b0b0;stroke-linecap:square;stroke-width:0.8;\"/>\n     </g>\n     <g id=\"line2d_62\">\n      <g>\n       <use style=\"stroke:#000000;stroke-width:0.8;\" x=\"46.0125\" xlink:href=\"#ma702a4010b\" y=\"156.70238\"/>\n      </g>\n     </g>\n     <g id=\"text_38\">\n      <!-- 5000 -->\n      <g transform=\"translate(13.5625 160.501599)scale(0.1 -0.1)\">\n       <use xlink:href=\"#DejaVuSans-53\"/>\n       <use x=\"63.623047\" xlink:href=\"#DejaVuSans-48\"/>\n       <use x=\"127.246094\" xlink:href=\"#DejaVuSans-48\"/>\n       <use x=\"190.869141\" xlink:href=\"#DejaVuSans-48\"/>\n      </g>\n     </g>\n    </g>\n   </g>\n   <g id=\"patch_103\">\n    <path d=\"M 46.0125 182.069962 \nL 46.0125 137.694452 \n\" style=\"fill:none;stroke:#000000;stroke-linecap:square;stroke-linejoin:miter;stroke-width:0.8;\"/>\n   </g>\n   <g id=\"patch_104\">\n    <path d=\"M 139.0125 182.069962 \nL 139.0125 137.694452 \n\" style=\"fill:none;stroke:#000000;stroke-linecap:square;stroke-linejoin:miter;stroke-width:0.8;\"/>\n   </g>\n   <g id=\"patch_105\">\n    <path d=\"M 46.0125 182.069962 \nL 139.0125 182.069962 \n\" style=\"fill:none;stroke:#000000;stroke-linecap:square;stroke-linejoin:miter;stroke-width:0.8;\"/>\n   </g>\n   <g id=\"patch_106\">\n    <path d=\"M 46.0125 137.694452 \nL 139.0125 137.694452 \n\" style=\"fill:none;stroke:#000000;stroke-linecap:square;stroke-linejoin:miter;stroke-width:0.8;\"/>\n   </g>\n   <g id=\"text_39\">\n    <!-- year_of_birth -->\n    <g transform=\"translate(53.245312 131.694452)scale(0.12 -0.12)\">\n     <defs>\n      <path d=\"M 37.109375 75.984375 \nL 37.109375 68.5 \nL 28.515625 68.5 \nQ 23.6875 68.5 21.796875 66.546875 \nQ 19.921875 64.59375 19.921875 59.515625 \nL 19.921875 54.6875 \nL 34.71875 54.6875 \nL 34.71875 47.703125 \nL 19.921875 47.703125 \nL 19.921875 0 \nL 10.890625 0 \nL 10.890625 47.703125 \nL 2.296875 47.703125 \nL 2.296875 54.6875 \nL 10.890625 54.6875 \nL 10.890625 58.5 \nQ 10.890625 67.625 15.140625 71.796875 \nQ 19.390625 75.984375 28.609375 75.984375 \nz\n\" id=\"DejaVuSans-102\"/>\n      <path d=\"M 48.6875 27.296875 \nQ 48.6875 37.203125 44.609375 42.84375 \nQ 40.53125 48.484375 33.40625 48.484375 \nQ 26.265625 48.484375 22.1875 42.84375 \nQ 18.109375 37.203125 18.109375 27.296875 \nQ 18.109375 17.390625 22.1875 11.75 \nQ 26.265625 6.109375 33.40625 6.109375 \nQ 40.53125 6.109375 44.609375 11.75 \nQ 48.6875 17.390625 48.6875 27.296875 \nz\nM 18.109375 46.390625 \nQ 20.953125 51.265625 25.265625 53.625 \nQ 29.59375 56 35.59375 56 \nQ 45.5625 56 51.78125 48.09375 \nQ 58.015625 40.1875 58.015625 27.296875 \nQ 58.015625 14.40625 51.78125 6.484375 \nQ 45.5625 -1.421875 35.59375 -1.421875 \nQ 29.59375 -1.421875 25.265625 0.953125 \nQ 20.953125 3.328125 18.109375 8.203125 \nL 18.109375 0 \nL 9.078125 0 \nL 9.078125 75.984375 \nL 18.109375 75.984375 \nz\n\" id=\"DejaVuSans-98\"/>\n      <path d=\"M 54.890625 33.015625 \nL 54.890625 0 \nL 45.90625 0 \nL 45.90625 32.71875 \nQ 45.90625 40.484375 42.875 44.328125 \nQ 39.84375 48.1875 33.796875 48.1875 \nQ 26.515625 48.1875 22.3125 43.546875 \nQ 18.109375 38.921875 18.109375 30.90625 \nL 18.109375 0 \nL 9.078125 0 \nL 9.078125 75.984375 \nL 18.109375 75.984375 \nL 18.109375 46.1875 \nQ 21.34375 51.125 25.703125 53.5625 \nQ 30.078125 56 35.796875 56 \nQ 45.21875 56 50.046875 50.171875 \nQ 54.890625 44.34375 54.890625 33.015625 \nz\n\" id=\"DejaVuSans-104\"/>\n     </defs>\n     <use xlink:href=\"#DejaVuSans-121\"/>\n     <use x=\"59.179688\" xlink:href=\"#DejaVuSans-101\"/>\n     <use x=\"120.703125\" xlink:href=\"#DejaVuSans-97\"/>\n     <use x=\"181.982422\" xlink:href=\"#DejaVuSans-114\"/>\n     <use x=\"223.095703\" xlink:href=\"#DejaVuSans-95\"/>\n     <use x=\"273.095703\" xlink:href=\"#DejaVuSans-111\"/>\n     <use x=\"334.277344\" xlink:href=\"#DejaVuSans-102\"/>\n     <use x=\"369.482422\" xlink:href=\"#DejaVuSans-95\"/>\n     <use x=\"419.482422\" xlink:href=\"#DejaVuSans-98\"/>\n     <use x=\"482.958984\" xlink:href=\"#DejaVuSans-105\"/>\n     <use x=\"510.742188\" xlink:href=\"#DejaVuSans-114\"/>\n     <use x=\"551.855469\" xlink:href=\"#DejaVuSans-116\"/>\n     <use x=\"591.064453\" xlink:href=\"#DejaVuSans-104\"/>\n    </g>\n   </g>\n  </g>\n  <g id=\"axes_8\">\n   <g id=\"patch_107\">\n    <path d=\"M 166.9125 182.069962 \nL 259.9125 182.069962 \nL 259.9125 137.694452 \nL 166.9125 137.694452 \nz\n\" style=\"fill:#ffffff;\"/>\n   </g>\n   <g id=\"patch_108\">\n    <path clip-path=\"url(#p3357459125)\" d=\"M 171.139773 182.069962 \nL 179.594318 182.069962 \nL 179.594318 182.058361 \nL 171.139773 182.058361 \nz\n\" style=\"fill:#1f77b4;\"/>\n   </g>\n   <g id=\"patch_109\">\n    <path clip-path=\"url(#p3357459125)\" d=\"M 179.594318 182.069962 \nL 188.048864 182.069962 \nL 188.048864 182.04386 \nL 179.594318 182.04386 \nz\n\" style=\"fill:#1f77b4;\"/>\n   </g>\n   <g id=\"patch_110\">\n    <path clip-path=\"url(#p3357459125)\" d=\"M 188.048864 182.069962 \nL 196.503409 182.069962 \nL 196.503409 181.924949 \nL 188.048864 181.924949 \nz\n\" style=\"fill:#1f77b4;\"/>\n   </g>\n   <g id=\"patch_111\">\n    <path clip-path=\"url(#p3357459125)\" d=\"M 196.503409 182.069962 \nL 204.957955 182.069962 \nL 204.957955 181.890146 \nL 196.503409 181.890146 \nz\n\" style=\"fill:#1f77b4;\"/>\n   </g>\n   <g id=\"patch_112\">\n    <path clip-path=\"url(#p3357459125)\" d=\"M 204.957955 182.069962 \nL 213.4125 182.069962 \nL 213.4125 181.93075 \nL 204.957955 181.93075 \nz\n\" style=\"fill:#1f77b4;\"/>\n   </g>\n   <g id=\"patch_113\">\n    <path clip-path=\"url(#p3357459125)\" d=\"M 213.4125 182.069962 \nL 221.867045 182.069962 \nL 221.867045 181.895947 \nL 213.4125 181.895947 \nz\n\" style=\"fill:#1f77b4;\"/>\n   </g>\n   <g id=\"patch_114\">\n    <path clip-path=\"url(#p3357459125)\" d=\"M 221.867045 182.069962 \nL 230.321591 182.069962 \nL 230.321591 166.797264 \nL 221.867045 166.797264 \nz\n\" style=\"fill:#1f77b4;\"/>\n   </g>\n   <g id=\"patch_115\">\n    <path clip-path=\"url(#p3357459125)\" d=\"M 230.321591 182.069962 \nL 238.776136 182.069962 \nL 238.776136 139.807571 \nL 230.321591 139.807571 \nz\n\" style=\"fill:#1f77b4;\"/>\n   </g>\n   <g id=\"patch_116\">\n    <path clip-path=\"url(#p3357459125)\" d=\"M 238.776136 182.069962 \nL 247.230682 182.069962 \nL 247.230682 148.566315 \nL 238.776136 148.566315 \nz\n\" style=\"fill:#1f77b4;\"/>\n   </g>\n   <g id=\"patch_117\">\n    <path clip-path=\"url(#p3357459125)\" d=\"M 247.230682 182.069962 \nL 255.685227 182.069962 \nL 255.685227 166.834967 \nL 247.230682 166.834967 \nz\n\" style=\"fill:#1f77b4;\"/>\n   </g>\n   <g id=\"matplotlib.axis_15\">\n    <g id=\"xtick_18\">\n     <g id=\"line2d_63\">\n      <path clip-path=\"url(#p3357459125)\" d=\"M 171.139773 182.069962 \nL 171.139773 137.694452 \n\" style=\"fill:none;stroke:#b0b0b0;stroke-linecap:square;stroke-width:0.8;\"/>\n     </g>\n     <g id=\"line2d_64\">\n      <g>\n       <use style=\"stroke:#000000;stroke-width:0.8;\" x=\"171.139773\" xlink:href=\"#mc4f07633f7\" y=\"182.069962\"/>\n      </g>\n     </g>\n     <g id=\"text_40\">\n      <!-- 2000 -->\n      <g transform=\"translate(158.414773 196.668399)scale(0.1 -0.1)\">\n       <use xlink:href=\"#DejaVuSans-50\"/>\n       <use x=\"63.623047\" xlink:href=\"#DejaVuSans-48\"/>\n       <use x=\"127.246094\" xlink:href=\"#DejaVuSans-48\"/>\n       <use x=\"190.869141\" xlink:href=\"#DejaVuSans-48\"/>\n      </g>\n     </g>\n    </g>\n    <g id=\"xtick_19\">\n     <g id=\"line2d_65\">\n      <path clip-path=\"url(#p3357459125)\" d=\"M 218.10947 182.069962 \nL 218.10947 137.694452 \n\" style=\"fill:none;stroke:#b0b0b0;stroke-linecap:square;stroke-width:0.8;\"/>\n     </g>\n     <g id=\"line2d_66\">\n      <g>\n       <use style=\"stroke:#000000;stroke-width:0.8;\" x=\"218.10947\" xlink:href=\"#mc4f07633f7\" y=\"182.069962\"/>\n      </g>\n     </g>\n     <g id=\"text_41\">\n      <!-- 2010 -->\n      <g transform=\"translate(205.38447 196.668399)scale(0.1 -0.1)\">\n       <use xlink:href=\"#DejaVuSans-50\"/>\n       <use x=\"63.623047\" xlink:href=\"#DejaVuSans-48\"/>\n       <use x=\"127.246094\" xlink:href=\"#DejaVuSans-49\"/>\n       <use x=\"190.869141\" xlink:href=\"#DejaVuSans-48\"/>\n      </g>\n     </g>\n    </g>\n   </g>\n   <g id=\"matplotlib.axis_16\">\n    <g id=\"ytick_15\">\n     <g id=\"line2d_67\">\n      <path clip-path=\"url(#p3357459125)\" d=\"M 166.9125 182.069962 \nL 259.9125 182.069962 \n\" style=\"fill:none;stroke:#b0b0b0;stroke-linecap:square;stroke-width:0.8;\"/>\n     </g>\n     <g id=\"line2d_68\">\n      <g>\n       <use style=\"stroke:#000000;stroke-width:0.8;\" x=\"166.9125\" xlink:href=\"#ma702a4010b\" y=\"182.069962\"/>\n      </g>\n     </g>\n     <g id=\"text_42\">\n      <!-- 0 -->\n      <g transform=\"translate(153.55 185.86918)scale(0.1 -0.1)\">\n       <use xlink:href=\"#DejaVuSans-48\"/>\n      </g>\n     </g>\n    </g>\n    <g id=\"ytick_16\">\n     <g id=\"line2d_69\">\n      <path clip-path=\"url(#p3357459125)\" d=\"M 166.9125 153.067498 \nL 259.9125 153.067498 \n\" style=\"fill:none;stroke:#b0b0b0;stroke-linecap:square;stroke-width:0.8;\"/>\n     </g>\n     <g id=\"line2d_70\">\n      <g>\n       <use style=\"stroke:#000000;stroke-width:0.8;\" x=\"166.9125\" xlink:href=\"#ma702a4010b\" y=\"153.067498\"/>\n      </g>\n     </g>\n     <g id=\"text_43\">\n      <!-- 10000 -->\n      <g transform=\"translate(128.1 156.866716)scale(0.1 -0.1)\">\n       <use xlink:href=\"#DejaVuSans-49\"/>\n       <use x=\"63.623047\" xlink:href=\"#DejaVuSans-48\"/>\n       <use x=\"127.246094\" xlink:href=\"#DejaVuSans-48\"/>\n       <use x=\"190.869141\" xlink:href=\"#DejaVuSans-48\"/>\n       <use x=\"254.492188\" xlink:href=\"#DejaVuSans-48\"/>\n      </g>\n     </g>\n    </g>\n   </g>\n   <g id=\"patch_118\">\n    <path d=\"M 166.9125 182.069962 \nL 166.9125 137.694452 \n\" style=\"fill:none;stroke:#000000;stroke-linecap:square;stroke-linejoin:miter;stroke-width:0.8;\"/>\n   </g>\n   <g id=\"patch_119\">\n    <path d=\"M 259.9125 182.069962 \nL 259.9125 137.694452 \n\" style=\"fill:none;stroke:#000000;stroke-linecap:square;stroke-linejoin:miter;stroke-width:0.8;\"/>\n   </g>\n   <g id=\"patch_120\">\n    <path d=\"M 166.9125 182.069962 \nL 259.9125 182.069962 \n\" style=\"fill:none;stroke:#000000;stroke-linecap:square;stroke-linejoin:miter;stroke-width:0.8;\"/>\n   </g>\n   <g id=\"patch_121\">\n    <path d=\"M 166.9125 137.694452 \nL 259.9125 137.694452 \n\" style=\"fill:none;stroke:#000000;stroke-linecap:square;stroke-linejoin:miter;stroke-width:0.8;\"/>\n   </g>\n   <g id=\"text_44\">\n    <!-- contactDateYear -->\n    <g transform=\"translate(163.913438 131.694452)scale(0.12 -0.12)\">\n     <defs>\n      <path d=\"M -0.203125 72.90625 \nL 10.40625 72.90625 \nL 30.609375 42.921875 \nL 50.6875 72.90625 \nL 61.28125 72.90625 \nL 35.5 34.71875 \nL 35.5 0 \nL 25.59375 0 \nL 25.59375 34.71875 \nz\n\" id=\"DejaVuSans-89\"/>\n     </defs>\n     <use xlink:href=\"#DejaVuSans-99\"/>\n     <use x=\"54.980469\" xlink:href=\"#DejaVuSans-111\"/>\n     <use x=\"116.162109\" xlink:href=\"#DejaVuSans-110\"/>\n     <use x=\"179.541016\" xlink:href=\"#DejaVuSans-116\"/>\n     <use x=\"218.75\" xlink:href=\"#DejaVuSans-97\"/>\n     <use x=\"280.029297\" xlink:href=\"#DejaVuSans-99\"/>\n     <use x=\"335.009766\" xlink:href=\"#DejaVuSans-116\"/>\n     <use x=\"374.21875\" xlink:href=\"#DejaVuSans-68\"/>\n     <use x=\"451.220703\" xlink:href=\"#DejaVuSans-97\"/>\n     <use x=\"512.5\" xlink:href=\"#DejaVuSans-116\"/>\n     <use x=\"551.708984\" xlink:href=\"#DejaVuSans-101\"/>\n     <use x=\"613.232422\" xlink:href=\"#DejaVuSans-89\"/>\n     <use x=\"661.066406\" xlink:href=\"#DejaVuSans-101\"/>\n     <use x=\"722.589844\" xlink:href=\"#DejaVuSans-97\"/>\n     <use x=\"783.869141\" xlink:href=\"#DejaVuSans-114\"/>\n    </g>\n   </g>\n  </g>\n  <g id=\"axes_9\">\n   <g id=\"patch_122\">\n    <path d=\"M 287.8125 182.069962 \nL 380.8125 182.069962 \nL 380.8125 137.694452 \nL 287.8125 137.694452 \nz\n\" style=\"fill:#ffffff;\"/>\n   </g>\n   <g id=\"patch_123\">\n    <path clip-path=\"url(#p6c539125f7)\" d=\"M 292.039773 182.069962 \nL 300.494318 182.069962 \nL 300.494318 140.876984 \nL 292.039773 140.876984 \nz\n\" style=\"fill:#1f77b4;\"/>\n   </g>\n   <g id=\"patch_124\">\n    <path clip-path=\"url(#p6c539125f7)\" d=\"M 300.494318 182.069962 \nL 308.948864 182.069962 \nL 308.948864 159.68769 \nL 300.494318 159.68769 \nz\n\" style=\"fill:#1f77b4;\"/>\n   </g>\n   <g id=\"patch_125\">\n    <path clip-path=\"url(#p6c539125f7)\" d=\"M 308.948864 182.069962 \nL 317.403409 182.069962 \nL 317.403409 160.853076 \nL 308.948864 160.853076 \nz\n\" style=\"fill:#1f77b4;\"/>\n   </g>\n   <g id=\"patch_126\">\n    <path clip-path=\"url(#p6c539125f7)\" d=\"M 317.403409 182.069962 \nL 325.857955 182.069962 \nL 325.857955 161.003891 \nL 317.403409 161.003891 \nz\n\" style=\"fill:#1f77b4;\"/>\n   </g>\n   <g id=\"patch_127\">\n    <path clip-path=\"url(#p6c539125f7)\" d=\"M 325.857955 182.069962 \nL 334.3125 182.069962 \nL 334.3125 159.955043 \nL 325.857955 159.955043 \nz\n\" style=\"fill:#1f77b4;\"/>\n   </g>\n   <g id=\"patch_128\">\n    <path clip-path=\"url(#p6c539125f7)\" d=\"M 334.3125 182.069962 \nL 342.767045 182.069962 \nL 342.767045 161.833372 \nL 334.3125 161.833372 \nz\n\" style=\"fill:#1f77b4;\"/>\n   </g>\n   <g id=\"patch_129\">\n    <path clip-path=\"url(#p6c539125f7)\" d=\"M 342.767045 182.069962 \nL 351.221591 182.069962 \nL 351.221591 164.006474 \nL 342.767045 164.006474 \nz\n\" style=\"fill:#1f77b4;\"/>\n   </g>\n   <g id=\"patch_130\">\n    <path clip-path=\"url(#p6c539125f7)\" d=\"M 351.221591 182.069962 \nL 359.676136 182.069962 \nL 359.676136 159.7014 \nL 351.221591 159.7014 \nz\n\" style=\"fill:#1f77b4;\"/>\n   </g>\n   <g id=\"patch_131\">\n    <path clip-path=\"url(#p6c539125f7)\" d=\"M 359.676136 182.069962 \nL 368.130682 182.069962 \nL 368.130682 160.181265 \nL 359.676136 160.181265 \nz\n\" style=\"fill:#1f77b4;\"/>\n   </g>\n   <g id=\"patch_132\">\n    <path clip-path=\"url(#p6c539125f7)\" d=\"M 368.130682 182.069962 \nL 376.585227 182.069962 \nL 376.585227 139.807571 \nL 368.130682 139.807571 \nz\n\" style=\"fill:#1f77b4;\"/>\n   </g>\n   <g id=\"matplotlib.axis_17\">\n    <g id=\"xtick_20\">\n     <g id=\"line2d_71\">\n      <path clip-path=\"url(#p6c539125f7)\" d=\"M 322.783574 182.069962 \nL 322.783574 137.694452 \n\" style=\"fill:none;stroke:#b0b0b0;stroke-linecap:square;stroke-width:0.8;\"/>\n     </g>\n     <g id=\"line2d_72\">\n      <g>\n       <use style=\"stroke:#000000;stroke-width:0.8;\" x=\"322.783574\" xlink:href=\"#mc4f07633f7\" y=\"182.069962\"/>\n      </g>\n     </g>\n     <g id=\"text_45\">\n      <!-- 5 -->\n      <g transform=\"translate(319.602324 196.668399)scale(0.1 -0.1)\">\n       <use xlink:href=\"#DejaVuSans-53\"/>\n      </g>\n     </g>\n    </g>\n    <g id=\"xtick_21\">\n     <g id=\"line2d_73\">\n      <path clip-path=\"url(#p6c539125f7)\" d=\"M 361.213326 182.069962 \nL 361.213326 137.694452 \n\" style=\"fill:none;stroke:#b0b0b0;stroke-linecap:square;stroke-width:0.8;\"/>\n     </g>\n     <g id=\"line2d_74\">\n      <g>\n       <use style=\"stroke:#000000;stroke-width:0.8;\" x=\"361.213326\" xlink:href=\"#mc4f07633f7\" y=\"182.069962\"/>\n      </g>\n     </g>\n     <g id=\"text_46\">\n      <!-- 10 -->\n      <g transform=\"translate(354.850826 196.668399)scale(0.1 -0.1)\">\n       <use xlink:href=\"#DejaVuSans-49\"/>\n       <use x=\"63.623047\" xlink:href=\"#DejaVuSans-48\"/>\n      </g>\n     </g>\n    </g>\n   </g>\n   <g id=\"matplotlib.axis_18\">\n    <g id=\"ytick_17\">\n     <g id=\"line2d_75\">\n      <path clip-path=\"url(#p6c539125f7)\" d=\"M 287.8125 182.069962 \nL 380.8125 182.069962 \n\" style=\"fill:none;stroke:#b0b0b0;stroke-linecap:square;stroke-width:0.8;\"/>\n     </g>\n     <g id=\"line2d_76\">\n      <g>\n       <use style=\"stroke:#000000;stroke-width:0.8;\" x=\"287.8125\" xlink:href=\"#ma702a4010b\" y=\"182.069962\"/>\n      </g>\n     </g>\n     <g id=\"text_47\">\n      <!-- 0 -->\n      <g transform=\"translate(274.45 185.86918)scale(0.1 -0.1)\">\n       <use xlink:href=\"#DejaVuSans-48\"/>\n      </g>\n     </g>\n    </g>\n    <g id=\"ytick_18\">\n     <g id=\"line2d_77\">\n      <path clip-path=\"url(#p6c539125f7)\" d=\"M 287.8125 147.793895 \nL 380.8125 147.793895 \n\" style=\"fill:none;stroke:#b0b0b0;stroke-linecap:square;stroke-width:0.8;\"/>\n     </g>\n     <g id=\"line2d_78\">\n      <g>\n       <use style=\"stroke:#000000;stroke-width:0.8;\" x=\"287.8125\" xlink:href=\"#ma702a4010b\" y=\"147.793895\"/>\n      </g>\n     </g>\n     <g id=\"text_48\">\n      <!-- 5000 -->\n      <g transform=\"translate(255.3625 151.593113)scale(0.1 -0.1)\">\n       <use xlink:href=\"#DejaVuSans-53\"/>\n       <use x=\"63.623047\" xlink:href=\"#DejaVuSans-48\"/>\n       <use x=\"127.246094\" xlink:href=\"#DejaVuSans-48\"/>\n       <use x=\"190.869141\" xlink:href=\"#DejaVuSans-48\"/>\n      </g>\n     </g>\n    </g>\n   </g>\n   <g id=\"patch_133\">\n    <path d=\"M 287.8125 182.069962 \nL 287.8125 137.694452 \n\" style=\"fill:none;stroke:#000000;stroke-linecap:square;stroke-linejoin:miter;stroke-width:0.8;\"/>\n   </g>\n   <g id=\"patch_134\">\n    <path d=\"M 380.8125 182.069962 \nL 380.8125 137.694452 \n\" style=\"fill:none;stroke:#000000;stroke-linecap:square;stroke-linejoin:miter;stroke-width:0.8;\"/>\n   </g>\n   <g id=\"patch_135\">\n    <path d=\"M 287.8125 182.069962 \nL 380.8125 182.069962 \n\" style=\"fill:none;stroke:#000000;stroke-linecap:square;stroke-linejoin:miter;stroke-width:0.8;\"/>\n   </g>\n   <g id=\"patch_136\">\n    <path d=\"M 287.8125 137.694452 \nL 380.8125 137.694452 \n\" style=\"fill:none;stroke:#000000;stroke-linecap:square;stroke-linejoin:miter;stroke-width:0.8;\"/>\n   </g>\n   <g id=\"text_49\">\n    <!-- contactDateMonth -->\n    <g transform=\"translate(278.713125 131.694452)scale(0.12 -0.12)\">\n     <defs>\n      <path d=\"M 9.8125 72.90625 \nL 24.515625 72.90625 \nL 43.109375 23.296875 \nL 61.8125 72.90625 \nL 76.515625 72.90625 \nL 76.515625 0 \nL 66.890625 0 \nL 66.890625 64.015625 \nL 48.09375 14.015625 \nL 38.1875 14.015625 \nL 19.390625 64.015625 \nL 19.390625 0 \nL 9.8125 0 \nz\n\" id=\"DejaVuSans-77\"/>\n     </defs>\n     <use xlink:href=\"#DejaVuSans-99\"/>\n     <use x=\"54.980469\" xlink:href=\"#DejaVuSans-111\"/>\n     <use x=\"116.162109\" xlink:href=\"#DejaVuSans-110\"/>\n     <use x=\"179.541016\" xlink:href=\"#DejaVuSans-116\"/>\n     <use x=\"218.75\" xlink:href=\"#DejaVuSans-97\"/>\n     <use x=\"280.029297\" xlink:href=\"#DejaVuSans-99\"/>\n     <use x=\"335.009766\" xlink:href=\"#DejaVuSans-116\"/>\n     <use x=\"374.21875\" xlink:href=\"#DejaVuSans-68\"/>\n     <use x=\"451.220703\" xlink:href=\"#DejaVuSans-97\"/>\n     <use x=\"512.5\" xlink:href=\"#DejaVuSans-116\"/>\n     <use x=\"551.708984\" xlink:href=\"#DejaVuSans-101\"/>\n     <use x=\"613.232422\" xlink:href=\"#DejaVuSans-77\"/>\n     <use x=\"699.511719\" xlink:href=\"#DejaVuSans-111\"/>\n     <use x=\"760.693359\" xlink:href=\"#DejaVuSans-110\"/>\n     <use x=\"824.072266\" xlink:href=\"#DejaVuSans-116\"/>\n     <use x=\"863.28125\" xlink:href=\"#DejaVuSans-104\"/>\n    </g>\n   </g>\n  </g>\n  <g id=\"axes_10\">\n   <g id=\"patch_137\">\n    <path d=\"M 46.0125 239.758125 \nL 139.0125 239.758125 \nL 139.0125 195.382615 \nL 46.0125 195.382615 \nz\n\" style=\"fill:#ffffff;\"/>\n   </g>\n   <g id=\"patch_138\">\n    <path clip-path=\"url(#pb62b2028f3)\" d=\"M 50.239773 239.758125 \nL 58.694318 239.758125 \nL 58.694318 200.496676 \nL 50.239773 200.496676 \nz\n\" style=\"fill:#1f77b4;\"/>\n   </g>\n   <g id=\"patch_139\">\n    <path clip-path=\"url(#pb62b2028f3)\" d=\"M 58.694318 239.758125 \nL 67.148864 239.758125 \nL 67.148864 199.749036 \nL 58.694318 199.749036 \nz\n\" style=\"fill:#1f77b4;\"/>\n   </g>\n   <g id=\"patch_140\">\n    <path clip-path=\"url(#pb62b2028f3)\" d=\"M 67.148864 239.758125 \nL 75.603409 239.758125 \nL 75.603409 200.517443 \nL 67.148864 200.517443 \nz\n\" style=\"fill:#1f77b4;\"/>\n   </g>\n   <g id=\"patch_141\">\n    <path clip-path=\"url(#pb62b2028f3)\" d=\"M 75.603409 239.758125 \nL 84.057955 239.758125 \nL 84.057955 202.365774 \nL 75.603409 202.365774 \nz\n\" style=\"fill:#1f77b4;\"/>\n   </g>\n   <g id=\"patch_142\">\n    <path clip-path=\"url(#pb62b2028f3)\" d=\"M 84.057955 239.758125 \nL 92.5125 239.758125 \nL 92.5125 199.57251 \nL 84.057955 199.57251 \nz\n\" style=\"fill:#1f77b4;\"/>\n   </g>\n   <g id=\"patch_143\">\n    <path clip-path=\"url(#pb62b2028f3)\" d=\"M 92.5125 239.758125 \nL 100.967045 239.758125 \nL 100.967045 203.601456 \nL 92.5125 203.601456 \nz\n\" style=\"fill:#1f77b4;\"/>\n   </g>\n   <g id=\"patch_144\">\n    <path clip-path=\"url(#pb62b2028f3)\" d=\"M 100.967045 239.758125 \nL 109.421591 239.758125 \nL 109.421591 206.633549 \nL 100.967045 206.633549 \nz\n\" style=\"fill:#1f77b4;\"/>\n   </g>\n   <g id=\"patch_145\">\n    <path clip-path=\"url(#pb62b2028f3)\" d=\"M 109.421591 239.758125 \nL 117.876136 239.758125 \nL 117.876136 197.495734 \nL 109.421591 197.495734 \nz\n\" style=\"fill:#1f77b4;\"/>\n   </g>\n   <g id=\"patch_146\">\n    <path clip-path=\"url(#pb62b2028f3)\" d=\"M 117.876136 239.758125 \nL 126.330682 239.758125 \nL 126.330682 201.431225 \nL 117.876136 201.431225 \nz\n\" style=\"fill:#1f77b4;\"/>\n   </g>\n   <g id=\"patch_147\">\n    <path clip-path=\"url(#pb62b2028f3)\" d=\"M 126.330682 239.758125 \nL 134.785227 239.758125 \nL 134.785227 202.801897 \nL 126.330682 202.801897 \nz\n\" style=\"fill:#1f77b4;\"/>\n   </g>\n   <g id=\"matplotlib.axis_19\">\n    <g id=\"xtick_22\">\n     <g id=\"line2d_79\">\n      <path clip-path=\"url(#pb62b2028f3)\" d=\"M 49.775237 239.758125 \nL 49.775237 195.382615 \n\" style=\"fill:none;stroke:#b0b0b0;stroke-linecap:square;stroke-width:0.8;\"/>\n     </g>\n     <g id=\"line2d_80\">\n      <g>\n       <use style=\"stroke:#000000;stroke-width:0.8;\" x=\"49.775237\" xlink:href=\"#mc4f07633f7\" y=\"239.758125\"/>\n      </g>\n     </g>\n     <g id=\"text_50\">\n      <!-- 0 -->\n      <g transform=\"translate(46.593987 254.356562)scale(0.1 -0.1)\">\n       <use xlink:href=\"#DejaVuSans-48\"/>\n      </g>\n     </g>\n    </g>\n    <g id=\"xtick_23\">\n     <g id=\"line2d_81\">\n      <path clip-path=\"url(#pb62b2028f3)\" d=\"M 96.228784 239.758125 \nL 96.228784 195.382615 \n\" style=\"fill:none;stroke:#b0b0b0;stroke-linecap:square;stroke-width:0.8;\"/>\n     </g>\n     <g id=\"line2d_82\">\n      <g>\n       <use style=\"stroke:#000000;stroke-width:0.8;\" x=\"96.228784\" xlink:href=\"#mc4f07633f7\" y=\"239.758125\"/>\n      </g>\n     </g>\n     <g id=\"text_51\">\n      <!-- 200 -->\n      <g transform=\"translate(86.685034 254.356562)scale(0.1 -0.1)\">\n       <use xlink:href=\"#DejaVuSans-50\"/>\n       <use x=\"63.623047\" xlink:href=\"#DejaVuSans-48\"/>\n       <use x=\"127.246094\" xlink:href=\"#DejaVuSans-48\"/>\n      </g>\n     </g>\n    </g>\n   </g>\n   <g id=\"matplotlib.axis_20\">\n    <g id=\"ytick_19\">\n     <g id=\"line2d_83\">\n      <path clip-path=\"url(#pb62b2028f3)\" d=\"M 46.0125 239.758125 \nL 139.0125 239.758125 \n\" style=\"fill:none;stroke:#b0b0b0;stroke-linecap:square;stroke-width:0.8;\"/>\n     </g>\n     <g id=\"line2d_84\">\n      <g>\n       <use style=\"stroke:#000000;stroke-width:0.8;\" x=\"46.0125\" xlink:href=\"#ma702a4010b\" y=\"239.758125\"/>\n      </g>\n     </g>\n     <g id=\"text_52\">\n      <!-- 0 -->\n      <g transform=\"translate(32.65 243.557344)scale(0.1 -0.1)\">\n       <use xlink:href=\"#DejaVuSans-48\"/>\n      </g>\n     </g>\n    </g>\n    <g id=\"ytick_20\">\n     <g id=\"line2d_85\">\n      <path clip-path=\"url(#pb62b2028f3)\" d=\"M 46.0125 213.798426 \nL 139.0125 213.798426 \n\" style=\"fill:none;stroke:#b0b0b0;stroke-linecap:square;stroke-width:0.8;\"/>\n     </g>\n     <g id=\"line2d_86\">\n      <g>\n       <use style=\"stroke:#000000;stroke-width:0.8;\" x=\"46.0125\" xlink:href=\"#ma702a4010b\" y=\"213.798426\"/>\n      </g>\n     </g>\n     <g id=\"text_53\">\n      <!-- 2500 -->\n      <g transform=\"translate(13.5625 217.597644)scale(0.1 -0.1)\">\n       <use xlink:href=\"#DejaVuSans-50\"/>\n       <use x=\"63.623047\" xlink:href=\"#DejaVuSans-53\"/>\n       <use x=\"127.246094\" xlink:href=\"#DejaVuSans-48\"/>\n       <use x=\"190.869141\" xlink:href=\"#DejaVuSans-48\"/>\n      </g>\n     </g>\n    </g>\n   </g>\n   <g id=\"patch_148\">\n    <path d=\"M 46.0125 239.758125 \nL 46.0125 195.382615 \n\" style=\"fill:none;stroke:#000000;stroke-linecap:square;stroke-linejoin:miter;stroke-width:0.8;\"/>\n   </g>\n   <g id=\"patch_149\">\n    <path d=\"M 139.0125 239.758125 \nL 139.0125 195.382615 \n\" style=\"fill:none;stroke:#000000;stroke-linecap:square;stroke-linejoin:miter;stroke-width:0.8;\"/>\n   </g>\n   <g id=\"patch_150\">\n    <path d=\"M 46.0125 239.758125 \nL 139.0125 239.758125 \n\" style=\"fill:none;stroke:#000000;stroke-linecap:square;stroke-linejoin:miter;stroke-width:0.8;\"/>\n   </g>\n   <g id=\"patch_151\">\n    <path d=\"M 46.0125 195.382615 \nL 139.0125 195.382615 \n\" style=\"fill:none;stroke:#000000;stroke-linecap:square;stroke-linejoin:miter;stroke-width:0.8;\"/>\n   </g>\n   <g id=\"text_54\">\n    <!-- contactDateDayOfYear -->\n    <g transform=\"translate(24.33 189.382615)scale(0.12 -0.12)\">\n     <defs>\n      <path d=\"M 39.40625 66.21875 \nQ 28.65625 66.21875 22.328125 58.203125 \nQ 16.015625 50.203125 16.015625 36.375 \nQ 16.015625 22.609375 22.328125 14.59375 \nQ 28.65625 6.59375 39.40625 6.59375 \nQ 50.140625 6.59375 56.421875 14.59375 \nQ 62.703125 22.609375 62.703125 36.375 \nQ 62.703125 50.203125 56.421875 58.203125 \nQ 50.140625 66.21875 39.40625 66.21875 \nz\nM 39.40625 74.21875 \nQ 54.734375 74.21875 63.90625 63.9375 \nQ 73.09375 53.65625 73.09375 36.375 \nQ 73.09375 19.140625 63.90625 8.859375 \nQ 54.734375 -1.421875 39.40625 -1.421875 \nQ 24.03125 -1.421875 14.8125 8.828125 \nQ 5.609375 19.09375 5.609375 36.375 \nQ 5.609375 53.65625 14.8125 63.9375 \nQ 24.03125 74.21875 39.40625 74.21875 \nz\n\" id=\"DejaVuSans-79\"/>\n     </defs>\n     <use xlink:href=\"#DejaVuSans-99\"/>\n     <use x=\"54.980469\" xlink:href=\"#DejaVuSans-111\"/>\n     <use x=\"116.162109\" xlink:href=\"#DejaVuSans-110\"/>\n     <use x=\"179.541016\" xlink:href=\"#DejaVuSans-116\"/>\n     <use x=\"218.75\" xlink:href=\"#DejaVuSans-97\"/>\n     <use x=\"280.029297\" xlink:href=\"#DejaVuSans-99\"/>\n     <use x=\"335.009766\" xlink:href=\"#DejaVuSans-116\"/>\n     <use x=\"374.21875\" xlink:href=\"#DejaVuSans-68\"/>\n     <use x=\"451.220703\" xlink:href=\"#DejaVuSans-97\"/>\n     <use x=\"512.5\" xlink:href=\"#DejaVuSans-116\"/>\n     <use x=\"551.708984\" xlink:href=\"#DejaVuSans-101\"/>\n     <use x=\"613.232422\" xlink:href=\"#DejaVuSans-68\"/>\n     <use x=\"690.234375\" xlink:href=\"#DejaVuSans-97\"/>\n     <use x=\"751.513672\" xlink:href=\"#DejaVuSans-121\"/>\n     <use x=\"810.693359\" xlink:href=\"#DejaVuSans-79\"/>\n     <use x=\"889.404297\" xlink:href=\"#DejaVuSans-102\"/>\n     <use x=\"924.609375\" xlink:href=\"#DejaVuSans-89\"/>\n     <use x=\"972.443359\" xlink:href=\"#DejaVuSans-101\"/>\n     <use x=\"1033.966797\" xlink:href=\"#DejaVuSans-97\"/>\n     <use x=\"1095.246094\" xlink:href=\"#DejaVuSans-114\"/>\n    </g>\n   </g>\n  </g>\n </g>\n <defs>\n  <clipPath id=\"p9b9bb84e3c\">\n   <rect height=\"44.37551\" width=\"93\" x=\"46.0125\" y=\"22.318125\"/>\n  </clipPath>\n  <clipPath id=\"pacdc8b67ad\">\n   <rect height=\"44.37551\" width=\"93\" x=\"166.9125\" y=\"22.318125\"/>\n  </clipPath>\n  <clipPath id=\"pd7077a8b53\">\n   <rect height=\"44.37551\" width=\"93\" x=\"287.8125\" y=\"22.318125\"/>\n  </clipPath>\n  <clipPath id=\"pf4fd9b267b\">\n   <rect height=\"44.37551\" width=\"93\" x=\"46.0125\" y=\"80.006288\"/>\n  </clipPath>\n  <clipPath id=\"pf01a87bf3e\">\n   <rect height=\"44.37551\" width=\"93\" x=\"166.9125\" y=\"80.006288\"/>\n  </clipPath>\n  <clipPath id=\"p55dbf67b34\">\n   <rect height=\"44.37551\" width=\"93\" x=\"287.8125\" y=\"80.006288\"/>\n  </clipPath>\n  <clipPath id=\"p65b6712da1\">\n   <rect height=\"44.37551\" width=\"93\" x=\"46.0125\" y=\"137.694452\"/>\n  </clipPath>\n  <clipPath id=\"p3357459125\">\n   <rect height=\"44.37551\" width=\"93\" x=\"166.9125\" y=\"137.694452\"/>\n  </clipPath>\n  <clipPath id=\"p6c539125f7\">\n   <rect height=\"44.37551\" width=\"93\" x=\"287.8125\" y=\"137.694452\"/>\n  </clipPath>\n  <clipPath id=\"pb62b2028f3\">\n   <rect height=\"44.37551\" width=\"93\" x=\"46.0125\" y=\"195.382615\"/>\n  </clipPath>\n </defs>\n</svg>\n",
            "image/png": "[encoded data removed]"
          },
          "metadata": {
            "needs_background": "light"
          }
        }
      ]
    },
    {
      "cell_type": "markdown",
      "metadata": {
        "id": "-vTDeultBt18"
      },
      "source": [
        "### Conversion en ```TimeSeries```"
      ]
    },
    {
      "cell_type": "markdown",
      "metadata": {
        "id": "NNSctfnIBt2M"
      },
      "source": [
        "Nous définissons simplement le nouvel index comme la colonne donnant l'intervalle de temps entre chaque visite."
      ]
    },
    {
      "cell_type": "code",
      "metadata": {
        "colab": {
          "base_uri": "https://localhost:8080/",
          "height": 479
        },
        "id": "l-sfO2RZBt2N",
        "outputId": "93371f6d-ee96-42a8-d372-81090937f6c3"
      },
      "source": [
        "ts = dfWithTime.set_index(['person_id','contact_date']).sort_index()\n",
        "ts"
      ],
      "execution_count": 21,
      "outputs": [
        {
          "output_type": "execute_result",
          "data": {
            "text/plain": [
              "                         product_atc_code  Pulse  Tension Diastolique  \\\n",
              "person_id  contact_date                                                 \n",
              "291.0      2016-10-28                  10   72.0                130.0   \n",
              "           2016-11-04                  10   68.0                142.0   \n",
              "           2016-11-21                  10   84.0                140.0   \n",
              "           2017-01-16                  10   84.0                125.0   \n",
              "           2017-11-20                  10   92.0                115.0   \n",
              "...                                   ...    ...                  ...   \n",
              "34823672.0 2017-04-15                   8   68.0                140.0   \n",
              "           2017-06-26                   8   74.0                130.0   \n",
              "           2017-08-30                   8   80.0                130.0   \n",
              "           2017-09-11                   8   74.0                140.0   \n",
              "           2018-08-02                   8   78.0                130.0   \n",
              "\n",
              "                         Tension Systolique  Age_presc  year_of_birth  \\\n",
              "person_id  contact_date                                                 \n",
              "291.0      2016-10-28                  60.0       86.0         1930.0   \n",
              "           2016-11-04                  65.0       86.0         1930.0   \n",
              "           2016-11-21                  75.0       86.0         1930.0   \n",
              "           2017-01-16                  70.0       87.0         1930.0   \n",
              "           2017-11-20                  60.0       87.0         1930.0   \n",
              "...                                     ...        ...            ...   \n",
              "34823672.0 2017-04-15                  60.0       73.0         1944.0   \n",
              "           2017-06-26                  70.0       73.0         1944.0   \n",
              "           2017-08-30                  70.0       73.0         1944.0   \n",
              "           2017-09-11                  80.0       73.0         1944.0   \n",
              "           2018-08-02                  70.0       74.0         1944.0   \n",
              "\n",
              "                        wait_time  contactDateYear  contactDateMonth  \\\n",
              "person_id  contact_date                                                \n",
              "291.0      2016-10-28   6603 days             2016                10   \n",
              "           2016-11-04   6610 days             2016                11   \n",
              "           2016-11-21   6627 days             2016                11   \n",
              "           2017-01-16   6683 days             2017                 1   \n",
              "           2017-11-20   6991 days             2017                11   \n",
              "...                           ...              ...               ...   \n",
              "34823672.0 2017-04-15      0 days             2017                 4   \n",
              "           2017-06-26     72 days             2017                 6   \n",
              "           2017-08-30    137 days             2017                 8   \n",
              "           2017-09-11    149 days             2017                 9   \n",
              "           2018-08-02    474 days             2018                 8   \n",
              "\n",
              "                         contactDateDayOfYear  \n",
              "person_id  contact_date                        \n",
              "291.0      2016-10-28                     302  \n",
              "           2016-11-04                     309  \n",
              "           2016-11-21                     326  \n",
              "           2017-01-16                      16  \n",
              "           2017-11-20                     324  \n",
              "...                                       ...  \n",
              "34823672.0 2017-04-15                     105  \n",
              "           2017-06-26                     177  \n",
              "           2017-08-30                     242  \n",
              "           2017-09-11                     254  \n",
              "           2018-08-02                     214  \n",
              "\n",
              "[36876 rows x 10 columns]"
            ],
            "text/html": "<div>\n<style scoped>\n    .dataframe tbody tr th:only-of-type {\n        vertical-align: middle;\n    }\n\n    .dataframe tbody tr th {\n        vertical-align: top;\n    }\n\n    .dataframe thead th {\n        text-align: right;\n    }\n</style>\n<table border=\"1\" class=\"dataframe\">\n  <thead>\n    <tr style=\"text-align: right;\">\n      <th></th>\n      <th></th>\n      <th>product_atc_code</th>\n      <th>Pulse</th>\n      <th>Tension Diastolique</th>\n      <th>Tension Systolique</th>\n      <th>Age_presc</th>\n      <th>year_of_birth</th>\n      <th>wait_time</th>\n      <th>contactDateYear</th>\n      <th>contactDateMonth</th>\n      <th>contactDateDayOfYear</th>\n    </tr>\n    <tr>\n      <th>person_id</th>\n      <th>contact_date</th>\n      <th></th>\n      <th></th>\n      <th></th>\n      <th></th>\n      <th></th>\n      <th></th>\n      <th></th>\n      <th></th>\n      <th></th>\n      <th></th>\n    </tr>\n  </thead>\n  <tbody>\n    <tr>\n      <th rowspan=\"5\" valign=\"top\">291.0</th>\n      <th>2016-10-28</th>\n      <td>10</td>\n      <td>72.0</td>\n      <td>130.0</td>\n      <td>60.0</td>\n      <td>86.0</td>\n      <td>1930.0</td>\n      <td>6603 days</td>\n      <td>2016</td>\n      <td>10</td>\n      <td>302</td>\n    </tr>\n    <tr>\n      <th>2016-11-04</th>\n      <td>10</td>\n      <td>68.0</td>\n      <td>142.0</td>\n      <td>65.0</td>\n      <td>86.0</td>\n      <td>1930.0</td>\n      <td>6610 days</td>\n      <td>2016</td>\n      <td>11</td>\n      <td>309</td>\n    </tr>\n    <tr>\n      <th>2016-11-21</th>\n      <td>10</td>\n      <td>84.0</td>\n      <td>140.0</td>\n      <td>75.0</td>\n      <td>86.0</td>\n      <td>1930.0</td>\n      <td>6627 days</td>\n      <td>2016</td>\n      <td>11</td>\n      <td>326</td>\n    </tr>\n    <tr>\n      <th>2017-01-16</th>\n      <td>10</td>\n      <td>84.0</td>\n      <td>125.0</td>\n      <td>70.0</td>\n      <td>87.0</td>\n      <td>1930.0</td>\n      <td>6683 days</td>\n      <td>2017</td>\n      <td>1</td>\n      <td>16</td>\n    </tr>\n    <tr>\n      <th>2017-11-20</th>\n      <td>10</td>\n      <td>92.0</td>\n      <td>115.0</td>\n      <td>60.0</td>\n      <td>87.0</td>\n      <td>1930.0</td>\n      <td>6991 days</td>\n      <td>2017</td>\n      <td>11</td>\n      <td>324</td>\n    </tr>\n    <tr>\n      <th>...</th>\n      <th>...</th>\n      <td>...</td>\n      <td>...</td>\n      <td>...</td>\n      <td>...</td>\n      <td>...</td>\n      <td>...</td>\n      <td>...</td>\n      <td>...</td>\n      <td>...</td>\n      <td>...</td>\n    </tr>\n    <tr>\n      <th rowspan=\"5\" valign=\"top\">34823672.0</th>\n      <th>2017-04-15</th>\n      <td>8</td>\n      <td>68.0</td>\n      <td>140.0</td>\n      <td>60.0</td>\n      <td>73.0</td>\n      <td>1944.0</td>\n      <td>0 days</td>\n      <td>2017</td>\n      <td>4</td>\n      <td>105</td>\n    </tr>\n    <tr>\n      <th>2017-06-26</th>\n      <td>8</td>\n      <td>74.0</td>\n      <td>130.0</td>\n      <td>70.0</td>\n      <td>73.0</td>\n      <td>1944.0</td>\n      <td>72 days</td>\n      <td>2017</td>\n      <td>6</td>\n      <td>177</td>\n    </tr>\n    <tr>\n      <th>2017-08-30</th>\n      <td>8</td>\n      <td>80.0</td>\n      <td>130.0</td>\n      <td>70.0</td>\n      <td>73.0</td>\n      <td>1944.0</td>\n      <td>137 days</td>\n      <td>2017</td>\n      <td>8</td>\n      <td>242</td>\n    </tr>\n    <tr>\n      <th>2017-09-11</th>\n      <td>8</td>\n      <td>74.0</td>\n      <td>140.0</td>\n      <td>80.0</td>\n      <td>73.0</td>\n      <td>1944.0</td>\n      <td>149 days</td>\n      <td>2017</td>\n      <td>9</td>\n      <td>254</td>\n    </tr>\n    <tr>\n      <th>2018-08-02</th>\n      <td>8</td>\n      <td>78.0</td>\n      <td>130.0</td>\n      <td>70.0</td>\n      <td>74.0</td>\n      <td>1944.0</td>\n      <td>474 days</td>\n      <td>2018</td>\n      <td>8</td>\n      <td>214</td>\n    </tr>\n  </tbody>\n</table>\n<p>36876 rows × 10 columns</p>\n</div>"
          },
          "metadata": {},
          "execution_count": 21
        }
      ]
    },
    {
      "cell_type": "markdown",
      "metadata": {
        "id": "3RwhcepIBt2P"
      },
      "source": [
        "### Attribution des bonnes valeurs de ```time_wait```"
      ]
    },
    {
      "cell_type": "code",
      "metadata": {
        "colab": {
          "base_uri": "https://localhost:8080/"
        },
        "id": "Pl_F60Q4Bt2Q",
        "outputId": "3cd096a6-e2dc-4d72-e99c-375e2f1e85e3"
      },
      "source": [
        "tsWithTime = ts.copy()\n",
        "for i,_ in ts.groupby('person_id'):\n",
        "    len_ = len(ts.loc[i])\n",
        "    tsWithTime.loc[i].wait_time[1:len_] = pd.Series(ts.loc[i].wait_time.to_numpy()[1:len_] - ts.loc[i].wait_time.to_numpy()[:len_-1])\n",
        "    tsWithTime.loc[i].wait_time[0] = pd.Timedelta(0)"
      ],
      "execution_count": 22,
      "outputs": [
        {
          "output_type": "stream",
          "name": "stderr",
          "text": [
            "/home/adrien/.local/lib/python3.8/site-packages/pandas/core/series.py:1026: SettingWithCopyWarning: \nA value is trying to be set on a copy of a slice from a DataFrame\n\nSee the caveats in the documentation: https://pandas.pydata.org/pandas-docs/stable/user_guide/indexing.html#returning-a-view-versus-a-copy\n  self._set_with(key, value)\n/home/adrien/.local/lib/python3.8/site-packages/IPython/core/interactiveshell.py:3418: SettingWithCopyWarning: \nA value is trying to be set on a copy of a slice from a DataFrame\n\nSee the caveats in the documentation: https://pandas.pydata.org/pandas-docs/stable/user_guide/indexing.html#returning-a-view-versus-a-copy\n  exec(code_obj, self.user_global_ns, self.user_ns)\n"
          ]
        }
      ]
    },
    {
      "cell_type": "code",
      "metadata": {
        "colab": {
          "base_uri": "https://localhost:8080/"
        },
        "id": "6Mm-y9aPBt2Q",
        "outputId": "2e240d4e-4174-450a-d803-252a1fa77088"
      },
      "source": [
        "tsWithTimeNumber = tsWithTime.copy()\n",
        "tsWithTimeNumber.wait_time = tsWithTime.wait_time.dt.days\n",
        "tsWithTimeNumber['wait_time_days'] = tsWithTime.wait_time.dt.days\n",
        "tsWithTimeNumber['wait_time_weeks'] = (tsWithTime.wait_time.dt.days / 7).astype(int)\n",
        "tsWithTimeNumber.wait_time.describe()"
      ],
      "execution_count": 23,
      "outputs": [
        {
          "output_type": "execute_result",
          "data": {
            "text/plain": [
              "count    36876.000000\n",
              "mean       104.590520\n",
              "std        122.973534\n",
              "min          0.000000\n",
              "25%         26.000000\n",
              "50%         76.000000\n",
              "75%        139.000000\n",
              "max       2825.000000\n",
              "Name: wait_time, dtype: float64"
            ]
          },
          "metadata": {},
          "execution_count": 23
        }
      ]
    },
    {
      "cell_type": "code",
      "metadata": {
        "colab": {
          "base_uri": "https://localhost:8080/"
        },
        "id": "TI5n1JdkBt2R",
        "outputId": "0a38545e-10df-4775-f7c1-05b654d6e5e0"
      },
      "source": [
        "tsWithGoodTime = tsWithTimeNumber[tsWithTimeNumber.wait_time.values <= 300]\n",
        "tsWithGoodTime.wait_time.describe()"
      ],
      "execution_count": 24,
      "outputs": [
        {
          "output_type": "execute_result",
          "data": {
            "text/plain": [
              "count    34546.00000\n",
              "mean        81.39967\n",
              "std         73.03593\n",
              "min          0.00000\n",
              "25%         23.00000\n",
              "50%         67.00000\n",
              "75%        118.00000\n",
              "max        300.00000\n",
              "Name: wait_time, dtype: float64"
            ]
          },
          "metadata": {},
          "execution_count": 24
        }
      ]
    },
    {
      "cell_type": "markdown",
      "metadata": {
        "id": "lVPV96Q4Bt2S"
      },
      "source": [
        "### Transformation de ```wait_time``` en valeur numérique"
      ]
    },
    {
      "cell_type": "code",
      "metadata": {
        "colab": {
          "base_uri": "https://localhost:8080/",
          "height": 567
        },
        "id": "oVBztqi1Bt2S",
        "outputId": "456eeae6-447b-4d03-a921-9fcb93958fc4"
      },
      "source": [
        "tsWithTimeMonth = tsWithGoodTime.copy()\n",
        "tsWithTimeMonth.wait_time = (tsWithGoodTime.wait_time / 30).astype(int)\n",
        "tsWithTimeMonth.wait_time[tsWithTimeMonth.wait_time >= 4] = 4\n",
        "tsWithTimeMonth"
      ],
      "execution_count": 25,
      "outputs": [
        {
          "output_type": "stream",
          "name": "stderr",
          "text": [
            "<ipython-input-25-3f781868978c>:3: SettingWithCopyWarning: \nA value is trying to be set on a copy of a slice from a DataFrame\n\nSee the caveats in the documentation: https://pandas.pydata.org/pandas-docs/stable/user_guide/indexing.html#returning-a-view-versus-a-copy\n  tsWithTimeMonth.wait_time[tsWithTimeMonth.wait_time >= 4] = 4\n"
          ]
        },
        {
          "output_type": "execute_result",
          "data": {
            "text/plain": [
              "                         product_atc_code  Pulse  Tension Diastolique  \\\n",
              "person_id  contact_date                                                 \n",
              "291.0      2016-10-28                  10   72.0                130.0   \n",
              "           2016-11-04                  10   68.0                142.0   \n",
              "           2016-11-21                  10   84.0                140.0   \n",
              "           2017-01-16                  10   84.0                125.0   \n",
              "           2018-01-19                  10   84.0                130.0   \n",
              "...                                   ...    ...                  ...   \n",
              "34782602.0 2018-02-14                   8   84.0                120.0   \n",
              "34823672.0 2017-04-15                   8   68.0                140.0   \n",
              "           2017-06-26                   8   74.0                130.0   \n",
              "           2017-08-30                   8   80.0                130.0   \n",
              "           2017-09-11                   8   74.0                140.0   \n",
              "\n",
              "                         Tension Systolique  Age_presc  year_of_birth  \\\n",
              "person_id  contact_date                                                 \n",
              "291.0      2016-10-28                  60.0       86.0         1930.0   \n",
              "           2016-11-04                  65.0       86.0         1930.0   \n",
              "           2016-11-21                  75.0       86.0         1930.0   \n",
              "           2017-01-16                  70.0       87.0         1930.0   \n",
              "           2018-01-19                  70.0       88.0         1930.0   \n",
              "...                                     ...        ...            ...   \n",
              "34782602.0 2018-02-14                  60.0       69.0         1949.0   \n",
              "34823672.0 2017-04-15                  60.0       73.0         1944.0   \n",
              "           2017-06-26                  70.0       73.0         1944.0   \n",
              "           2017-08-30                  70.0       73.0         1944.0   \n",
              "           2017-09-11                  80.0       73.0         1944.0   \n",
              "\n",
              "                         wait_time  contactDateYear  contactDateMonth  \\\n",
              "person_id  contact_date                                                 \n",
              "291.0      2016-10-28            0             2016                10   \n",
              "           2016-11-04            0             2016                11   \n",
              "           2016-11-21            0             2016                11   \n",
              "           2017-01-16            1             2017                 1   \n",
              "           2018-01-19            2             2018                 1   \n",
              "...                            ...              ...               ...   \n",
              "34782602.0 2018-02-14            2             2018                 2   \n",
              "34823672.0 2017-04-15            0             2017                 4   \n",
              "           2017-06-26            2             2017                 6   \n",
              "           2017-08-30            2             2017                 8   \n",
              "           2017-09-11            0             2017                 9   \n",
              "\n",
              "                         contactDateDayOfYear  wait_time_days  wait_time_weeks  \n",
              "person_id  contact_date                                                         \n",
              "291.0      2016-10-28                     302               0                0  \n",
              "           2016-11-04                     309               7                1  \n",
              "           2016-11-21                     326              17                2  \n",
              "           2017-01-16                      16              56                8  \n",
              "           2018-01-19                      19              60                8  \n",
              "...                                       ...             ...              ...  \n",
              "34782602.0 2018-02-14                      45              76               10  \n",
              "34823672.0 2017-04-15                     105               0                0  \n",
              "           2017-06-26                     177              72               10  \n",
              "           2017-08-30                     242              65                9  \n",
              "           2017-09-11                     254              12                1  \n",
              "\n",
              "[34546 rows x 12 columns]"
            ],
            "text/html": "<div>\n<style scoped>\n    .dataframe tbody tr th:only-of-type {\n        vertical-align: middle;\n    }\n\n    .dataframe tbody tr th {\n        vertical-align: top;\n    }\n\n    .dataframe thead th {\n        text-align: right;\n    }\n</style>\n<table border=\"1\" class=\"dataframe\">\n  <thead>\n    <tr style=\"text-align: right;\">\n      <th></th>\n      <th></th>\n      <th>product_atc_code</th>\n      <th>Pulse</th>\n      <th>Tension Diastolique</th>\n      <th>Tension Systolique</th>\n      <th>Age_presc</th>\n      <th>year_of_birth</th>\n      <th>wait_time</th>\n      <th>contactDateYear</th>\n      <th>contactDateMonth</th>\n      <th>contactDateDayOfYear</th>\n      <th>wait_time_days</th>\n      <th>wait_time_weeks</th>\n    </tr>\n    <tr>\n      <th>person_id</th>\n      <th>contact_date</th>\n      <th></th>\n      <th></th>\n      <th></th>\n      <th></th>\n      <th></th>\n      <th></th>\n      <th></th>\n      <th></th>\n      <th></th>\n      <th></th>\n      <th></th>\n      <th></th>\n    </tr>\n  </thead>\n  <tbody>\n    <tr>\n      <th rowspan=\"5\" valign=\"top\">291.0</th>\n      <th>2016-10-28</th>\n      <td>10</td>\n      <td>72.0</td>\n      <td>130.0</td>\n      <td>60.0</td>\n      <td>86.0</td>\n      <td>1930.0</td>\n      <td>0</td>\n      <td>2016</td>\n      <td>10</td>\n      <td>302</td>\n      <td>0</td>\n      <td>0</td>\n    </tr>\n    <tr>\n      <th>2016-11-04</th>\n      <td>10</td>\n      <td>68.0</td>\n      <td>142.0</td>\n      <td>65.0</td>\n      <td>86.0</td>\n      <td>1930.0</td>\n      <td>0</td>\n      <td>2016</td>\n      <td>11</td>\n      <td>309</td>\n      <td>7</td>\n      <td>1</td>\n    </tr>\n    <tr>\n      <th>2016-11-21</th>\n      <td>10</td>\n      <td>84.0</td>\n      <td>140.0</td>\n      <td>75.0</td>\n      <td>86.0</td>\n      <td>1930.0</td>\n      <td>0</td>\n      <td>2016</td>\n      <td>11</td>\n      <td>326</td>\n      <td>17</td>\n      <td>2</td>\n    </tr>\n    <tr>\n      <th>2017-01-16</th>\n      <td>10</td>\n      <td>84.0</td>\n      <td>125.0</td>\n      <td>70.0</td>\n      <td>87.0</td>\n      <td>1930.0</td>\n      <td>1</td>\n      <td>2017</td>\n      <td>1</td>\n      <td>16</td>\n      <td>56</td>\n      <td>8</td>\n    </tr>\n    <tr>\n      <th>2018-01-19</th>\n      <td>10</td>\n      <td>84.0</td>\n      <td>130.0</td>\n      <td>70.0</td>\n      <td>88.0</td>\n      <td>1930.0</td>\n      <td>2</td>\n      <td>2018</td>\n      <td>1</td>\n      <td>19</td>\n      <td>60</td>\n      <td>8</td>\n    </tr>\n    <tr>\n      <th>...</th>\n      <th>...</th>\n      <td>...</td>\n      <td>...</td>\n      <td>...</td>\n      <td>...</td>\n      <td>...</td>\n      <td>...</td>\n      <td>...</td>\n      <td>...</td>\n      <td>...</td>\n      <td>...</td>\n      <td>...</td>\n      <td>...</td>\n    </tr>\n    <tr>\n      <th>34782602.0</th>\n      <th>2018-02-14</th>\n      <td>8</td>\n      <td>84.0</td>\n      <td>120.0</td>\n      <td>60.0</td>\n      <td>69.0</td>\n      <td>1949.0</td>\n      <td>2</td>\n      <td>2018</td>\n      <td>2</td>\n      <td>45</td>\n      <td>76</td>\n      <td>10</td>\n    </tr>\n    <tr>\n      <th rowspan=\"4\" valign=\"top\">34823672.0</th>\n      <th>2017-04-15</th>\n      <td>8</td>\n      <td>68.0</td>\n      <td>140.0</td>\n      <td>60.0</td>\n      <td>73.0</td>\n      <td>1944.0</td>\n      <td>0</td>\n      <td>2017</td>\n      <td>4</td>\n      <td>105</td>\n      <td>0</td>\n      <td>0</td>\n    </tr>\n    <tr>\n      <th>2017-06-26</th>\n      <td>8</td>\n      <td>74.0</td>\n      <td>130.0</td>\n      <td>70.0</td>\n      <td>73.0</td>\n      <td>1944.0</td>\n      <td>2</td>\n      <td>2017</td>\n      <td>6</td>\n      <td>177</td>\n      <td>72</td>\n      <td>10</td>\n    </tr>\n    <tr>\n      <th>2017-08-30</th>\n      <td>8</td>\n      <td>80.0</td>\n      <td>130.0</td>\n      <td>70.0</td>\n      <td>73.0</td>\n      <td>1944.0</td>\n      <td>2</td>\n      <td>2017</td>\n      <td>8</td>\n      <td>242</td>\n      <td>65</td>\n      <td>9</td>\n    </tr>\n    <tr>\n      <th>2017-09-11</th>\n      <td>8</td>\n      <td>74.0</td>\n      <td>140.0</td>\n      <td>80.0</td>\n      <td>73.0</td>\n      <td>1944.0</td>\n      <td>0</td>\n      <td>2017</td>\n      <td>9</td>\n      <td>254</td>\n      <td>12</td>\n      <td>1</td>\n    </tr>\n  </tbody>\n</table>\n<p>34546 rows × 12 columns</p>\n</div>"
          },
          "metadata": {},
          "execution_count": 25
        }
      ]
    },
    {
      "cell_type": "code",
      "metadata": {
        "colab": {
          "base_uri": "https://localhost:8080/"
        },
        "id": "wCRtoAoKBt2S",
        "outputId": "8be35d78-24fa-44ec-925d-c5291d51801c"
      },
      "source": [
        "tsResetIndex = tsWithTimeMonth.copy()\n",
        "tsResetIndex = tsResetIndex.reset_index()\n",
        "print( tsResetIndex )\n",
        "tsValueCounts = tsResetIndex.person_id.value_counts()\n",
        "tsIndexed = tsResetIndex[tsResetIndex.person_id.isin(tsValueCounts[tsValueCounts.values >= VISIT_NUMBER].index)]"
      ],
      "execution_count": 26,
      "outputs": [
        {
          "output_type": "stream",
          "name": "stdout",
          "text": [
            "        person_id contact_date  product_atc_code  Pulse  Tension Diastolique  \\\n0           291.0   2016-10-28                10   72.0                130.0   \n1           291.0   2016-11-04                10   68.0                142.0   \n2           291.0   2016-11-21                10   84.0                140.0   \n3           291.0   2017-01-16                10   84.0                125.0   \n4           291.0   2018-01-19                10   84.0                130.0   \n...           ...          ...               ...    ...                  ...   \n34541  34782602.0   2018-02-14                 8   84.0                120.0   \n34542  34823672.0   2017-04-15                 8   68.0                140.0   \n34543  34823672.0   2017-06-26                 8   74.0                130.0   \n34544  34823672.0   2017-08-30                 8   80.0                130.0   \n34545  34823672.0   2017-09-11                 8   74.0                140.0   \n\n       Tension Systolique  Age_presc  year_of_birth  wait_time  \\\n0                    60.0       86.0         1930.0          0   \n1                    65.0       86.0         1930.0          0   \n2                    75.0       86.0         1930.0          0   \n3                    70.0       87.0         1930.0          1   \n4                    70.0       88.0         1930.0          2   \n...                   ...        ...            ...        ...   \n34541                60.0       69.0         1949.0          2   \n34542                60.0       73.0         1944.0          0   \n34543                70.0       73.0         1944.0          2   \n34544                70.0       73.0         1944.0          2   \n34545                80.0       73.0         1944.0          0   \n\n       contactDateYear  contactDateMonth  contactDateDayOfYear  \\\n0                 2016                10                   302   \n1                 2016                11                   309   \n2                 2016                11                   326   \n3                 2017                 1                    16   \n4                 2018                 1                    19   \n...                ...               ...                   ...   \n34541             2018                 2                    45   \n34542             2017                 4                   105   \n34543             2017                 6                   177   \n34544             2017                 8                   242   \n34545             2017                 9                   254   \n\n       wait_time_days  wait_time_weeks  \n0                   0                0  \n1                   7                1  \n2                  17                2  \n3                  56                8  \n4                  60                8  \n...               ...              ...  \n34541              76               10  \n34542               0                0  \n34543              72               10  \n34544              65                9  \n34545              12                1  \n\n[34546 rows x 14 columns]\n"
          ]
        }
      ]
    },
    {
      "cell_type": "code",
      "metadata": {
        "id": "tRvgwfR_Bt2T"
      },
      "source": [
        "atcCodeValues = tsWithTimeMonth.product_atc_code\n",
        "waitTimeValues = tsWithTimeMonth.wait_time\n",
        "\n",
        "tsFinal = pd.concat([tsWithTimeMonth,pd.get_dummies(atcCodeValues),pd.get_dummies(waitTimeValues)],axis='columns').drop(['product_atc_code','wait_time'],axis='columns')"
      ],
      "execution_count": 27,
      "outputs": []
    },
    {
      "cell_type": "markdown",
      "metadata": {
        "id": "IWKL9H2sBt2T"
      },
      "source": [
        "# Prédiction"
      ]
    },
    {
      "cell_type": "markdown",
      "metadata": {
        "id": "MQR1Tee5Bt2U"
      },
      "source": [
        "## Création des données d'entraînement/test"
      ]
    },
    {
      "cell_type": "code",
      "metadata": {
        "tags": [],
        "id": "sSISD_NrBt2W"
      },
      "source": [
        "#yColumnNames = ['product_atc_code', 'wait_time']\n",
        "\n",
        "#xList,yList = [],[]\n",
        "#for i,_ in tsWithTimeMonth.groupby('person_id'):\n",
        "    # Mme ZERHAOUI a dit qu'il fallait transposer, je transpose\n",
        "    # Pour l'instant je retourne au model évident : une série temporel qui contient 4 éléments de n_features données, on verra après pour la trasposition\n",
        "#    currentSeriesX = tsFinal.loc[i]\n",
        "#    currentSeriesY = tsWithTimeMonth.loc[i]\n",
        "#    for j in range(0,len(currentSeriesX)-VISIT_NUMBER+1):\n",
        "#        xList.append(currentSeriesX[j:j+VISIT_NUMBER-1].to_numpy().astype('float32'))\n",
        "        #xList.append(currentSeries.to_numpy().astype('float32'))\n",
        "#        yList.append(currentSeriesY[yColumnNames].values[j+VISIT_NUMBER-1].astype('float32'))\n",
        "        #yList.append(currentSeries[yColumnNames].astype('float32'))\n",
        "\n",
        "#xData = np.array(xList).reshape((len(xList),xList[0].shape[0],xList[0].shape[1]))\n",
        "#yData = np.array(yList).reshape((len(yList),len(yColumnNames)))"
      ],
      "execution_count": 28,
      "outputs": []
    },
    {
      "cell_type": "code",
      "execution_count": 59,
      "metadata": {},
      "outputs": [
        {
          "output_type": "execute_result",
          "data": {
            "text/plain": [
              "4227"
            ]
          },
          "metadata": {},
          "execution_count": 59
        }
      ],
      "source": [
        "len(tsWithTimeMonth.groupby('person_id'))"
      ]
    },
    {
      "cell_type": "code",
      "execution_count": 64,
      "metadata": {},
      "outputs": [
        {
          "output_type": "execute_result",
          "data": {
            "text/plain": [
              "              Pulse  Tension Diastolique  Tension Systolique  Age_presc  \\\n",
              "contact_date                                                              \n",
              "2016-10-28     72.0                130.0                60.0       86.0   \n",
              "2016-11-04     68.0                142.0                65.0       86.0   \n",
              "2016-11-21     84.0                140.0                75.0       86.0   \n",
              "2017-01-16     84.0                125.0                70.0       87.0   \n",
              "\n",
              "              year_of_birth  contactDateYear  contactDateMonth  \\\n",
              "contact_date                                                     \n",
              "2016-10-28           1930.0             2016                10   \n",
              "2016-11-04           1930.0             2016                11   \n",
              "2016-11-21           1930.0             2016                11   \n",
              "2017-01-16           1930.0             2017                 1   \n",
              "\n",
              "              contactDateDayOfYear  wait_time_days  wait_time_weeks  ...  28  \\\n",
              "contact_date                                                         ...       \n",
              "2016-10-28                     302               0                0  ...   0   \n",
              "2016-11-04                     309               7                1  ...   0   \n",
              "2016-11-21                     326              17                2  ...   0   \n",
              "2017-01-16                      16              56                8  ...   0   \n",
              "\n",
              "              29  30  31  32  0  1  2  3  4  \n",
              "contact_date                                 \n",
              "2016-10-28     0   0   0   0  1  0  0  0  0  \n",
              "2016-11-04     0   0   0   0  1  0  0  0  0  \n",
              "2016-11-21     0   0   0   0  1  0  0  0  0  \n",
              "2017-01-16     0   0   0   0  0  1  0  0  0  \n",
              "\n",
              "[4 rows x 48 columns]"
            ],
            "text/html": "<div>\n<style scoped>\n    .dataframe tbody tr th:only-of-type {\n        vertical-align: middle;\n    }\n\n    .dataframe tbody tr th {\n        vertical-align: top;\n    }\n\n    .dataframe thead th {\n        text-align: right;\n    }\n</style>\n<table border=\"1\" class=\"dataframe\">\n  <thead>\n    <tr style=\"text-align: right;\">\n      <th></th>\n      <th>Pulse</th>\n      <th>Tension Diastolique</th>\n      <th>Tension Systolique</th>\n      <th>Age_presc</th>\n      <th>year_of_birth</th>\n      <th>contactDateYear</th>\n      <th>contactDateMonth</th>\n      <th>contactDateDayOfYear</th>\n      <th>wait_time_days</th>\n      <th>wait_time_weeks</th>\n      <th>...</th>\n      <th>28</th>\n      <th>29</th>\n      <th>30</th>\n      <th>31</th>\n      <th>32</th>\n      <th>0</th>\n      <th>1</th>\n      <th>2</th>\n      <th>3</th>\n      <th>4</th>\n    </tr>\n    <tr>\n      <th>contact_date</th>\n      <th></th>\n      <th></th>\n      <th></th>\n      <th></th>\n      <th></th>\n      <th></th>\n      <th></th>\n      <th></th>\n      <th></th>\n      <th></th>\n      <th></th>\n      <th></th>\n      <th></th>\n      <th></th>\n      <th></th>\n      <th></th>\n      <th></th>\n      <th></th>\n      <th></th>\n      <th></th>\n      <th></th>\n    </tr>\n  </thead>\n  <tbody>\n    <tr>\n      <th>2016-10-28</th>\n      <td>72.0</td>\n      <td>130.0</td>\n      <td>60.0</td>\n      <td>86.0</td>\n      <td>1930.0</td>\n      <td>2016</td>\n      <td>10</td>\n      <td>302</td>\n      <td>0</td>\n      <td>0</td>\n      <td>...</td>\n      <td>0</td>\n      <td>0</td>\n      <td>0</td>\n      <td>0</td>\n      <td>0</td>\n      <td>1</td>\n      <td>0</td>\n      <td>0</td>\n      <td>0</td>\n      <td>0</td>\n    </tr>\n    <tr>\n      <th>2016-11-04</th>\n      <td>68.0</td>\n      <td>142.0</td>\n      <td>65.0</td>\n      <td>86.0</td>\n      <td>1930.0</td>\n      <td>2016</td>\n      <td>11</td>\n      <td>309</td>\n      <td>7</td>\n      <td>1</td>\n      <td>...</td>\n      <td>0</td>\n      <td>0</td>\n      <td>0</td>\n      <td>0</td>\n      <td>0</td>\n      <td>1</td>\n      <td>0</td>\n      <td>0</td>\n      <td>0</td>\n      <td>0</td>\n    </tr>\n    <tr>\n      <th>2016-11-21</th>\n      <td>84.0</td>\n      <td>140.0</td>\n      <td>75.0</td>\n      <td>86.0</td>\n      <td>1930.0</td>\n      <td>2016</td>\n      <td>11</td>\n      <td>326</td>\n      <td>17</td>\n      <td>2</td>\n      <td>...</td>\n      <td>0</td>\n      <td>0</td>\n      <td>0</td>\n      <td>0</td>\n      <td>0</td>\n      <td>1</td>\n      <td>0</td>\n      <td>0</td>\n      <td>0</td>\n      <td>0</td>\n    </tr>\n    <tr>\n      <th>2017-01-16</th>\n      <td>84.0</td>\n      <td>125.0</td>\n      <td>70.0</td>\n      <td>87.0</td>\n      <td>1930.0</td>\n      <td>2017</td>\n      <td>1</td>\n      <td>16</td>\n      <td>56</td>\n      <td>8</td>\n      <td>...</td>\n      <td>0</td>\n      <td>0</td>\n      <td>0</td>\n      <td>0</td>\n      <td>0</td>\n      <td>0</td>\n      <td>1</td>\n      <td>0</td>\n      <td>0</td>\n      <td>0</td>\n    </tr>\n  </tbody>\n</table>\n<p>4 rows × 48 columns</p>\n</div>"
          },
          "metadata": {},
          "execution_count": 64
        }
      ],
      "source": [
        "tsFinal.loc[291.0][:4]"
      ]
    },
    {
      "cell_type": "code",
      "execution_count": 68,
      "metadata": {},
      "outputs": [],
      "source": [
        "VISIT_THRESHOLD = VISIT_NUMBER"
      ]
    },
    {
      "cell_type": "code",
      "metadata": {
        "id": "o8z92Yl_Bt2W"
      },
      "source": [
        "yColumnNames = ['product_atc_code', 'wait_time']\n",
        "xList,yList = [],[]\n",
        "for i,_ in tsWithTimeMonth.groupby('person_id'):\n",
        "    if(len(tsFinal.loc[i]) >= VISIT_THRESHOLD):\n",
        "        xList.append(tsFinal.loc[i][:VISIT_THRESHOLD][:-1].to_numpy().astype('float32'))\n",
        "        yList.append(tsWithTimeMonth[yColumnNames].loc[i][:VISIT_THRESHOLD][-1:].to_numpy().astype('float32'))"
      ],
      "execution_count": 69,
      "outputs": []
    },
    {
      "cell_type": "code",
      "metadata": {
        "id": "g6jmr4NbBt2W"
      },
      "source": [
        "xData = np.array(xList)\n",
        "yData = np.array(yList)\n",
        "\n",
        "xs = xData.shape\n",
        "ys = yData.shape\n",
        "\n",
        "xData = xData.reshape(xs[0],1,xs[1],xs[2])\n",
        "yData = yData.reshape(ys[0],ys[1],ys[2])"
      ],
      "execution_count": 70,
      "outputs": []
    },
    {
      "cell_type": "code",
      "metadata": {
        "id": "cnz7WaiwBt2X"
      },
      "source": [
        "print(f\"{xData.shape} --- {yData.shape}\")"
      ],
      "execution_count": 71,
      "outputs": [
        {
          "output_type": "stream",
          "name": "stdout",
          "text": [
            "(3797, 1, 3, 48) --- (3797, 1, 2)\n"
          ]
        }
      ]
    },
    {
      "cell_type": "code",
      "metadata": {
        "id": "qvADOzYqBt2c"
      },
      "source": [
        "l = len(xData) // 2\n",
        "xData1, yData1 = xData[:l], yData[:l]\n",
        "xData2, yData2 = xData[:-l], yData[:-l]"
      ],
      "execution_count": 72,
      "outputs": []
    },
    {
      "cell_type": "code",
      "metadata": {
        "id": "51B0QmjyBt2c"
      },
      "source": [
        "trainUse1 = int(len(xData1) * 2 / 3)\n",
        "testUse1 = len(xData1) - trainUse1\n",
        "\n",
        "xTrain1, xTest1, yTrain1, yTest1 = xData1[:trainUse1],xData1[-testUse1:],yData1[:trainUse1],yData1[-testUse1:]\n",
        "\n",
        "print(f\"Train: {xTrain1.shape} --- Test: {xTest1.shape}\")"
      ],
      "execution_count": 73,
      "outputs": [
        {
          "output_type": "stream",
          "name": "stdout",
          "text": [
            "Train: (1265, 1, 3, 48) --- Test: (633, 1, 3, 48)\n"
          ]
        }
      ]
    },
    {
      "cell_type": "code",
      "metadata": {
        "id": "ix469jhvBt2d"
      },
      "source": [
        "#Cellule pour faire des tests et comprendre la syntaxe que j'ai utilisée après\n",
        "L = [[1,2,3,4,5,6],[7,8,9],[10,11]]\n",
        "for l in L:\n",
        "    # -2: permet d'avoir les deux derniers\n",
        "    # :le-2 permet d'avoir toutes les entrées sauf les deux dernières\n",
        "    print(f\"{l[-2:]} | {l[:-2]}\")"
      ],
      "execution_count": 74,
      "outputs": [
        {
          "output_type": "stream",
          "name": "stdout",
          "text": [
            "[5, 6] | [1, 2, 3, 4]\n[8, 9] | [7]\n[10, 11] | []\n"
          ]
        }
      ]
    },
    {
      "cell_type": "code",
      "metadata": {
        "id": "sIsM9mCiBt2g"
      },
      "source": [
        "print(xData2.shape, \"   \", yData2.shape)"
      ],
      "execution_count": 75,
      "outputs": [
        {
          "output_type": "stream",
          "name": "stdout",
          "text": [
            "(1899, 1, 3, 48)     (1899, 1, 2)\n"
          ]
        }
      ]
    },
    {
      "cell_type": "code",
      "metadata": {
        "id": "0Jp4B1gGBt2k"
      },
      "source": [
        "xTrain2, yTrain2 = xData2, yData2"
      ],
      "execution_count": 76,
      "outputs": []
    },
    {
      "cell_type": "code",
      "execution_count": 83,
      "metadata": {},
      "outputs": [
        {
          "output_type": "execute_result",
          "data": {
            "text/plain": [
              "              Pulse  Tension Diastolique  Tension Systolique  Age_presc  \\\n",
              "contact_date                                                              \n",
              "2013-02-22     80.0                130.0                80.0       69.0   \n",
              "2013-04-11     86.0                140.0                80.0       69.0   \n",
              "2013-04-25     80.0                140.0                80.0       69.0   \n",
              "\n",
              "              year_of_birth  contactDateYear  contactDateMonth  \\\n",
              "contact_date                                                     \n",
              "2013-02-22           1944.0             2013                 2   \n",
              "2013-04-11           1944.0             2013                 4   \n",
              "2013-04-25           1944.0             2013                 4   \n",
              "\n",
              "              contactDateDayOfYear  wait_time_days  wait_time_weeks  ...  28  \\\n",
              "contact_date                                                         ...       \n",
              "2013-02-22                      53              13                1  ...   0   \n",
              "2013-04-11                     101              48                6  ...   0   \n",
              "2013-04-25                     115              14                2  ...   0   \n",
              "\n",
              "              29  30  31  32  0  1  2  3  4  \n",
              "contact_date                                 \n",
              "2013-02-22     0   0   0   0  1  0  0  0  0  \n",
              "2013-04-11     0   0   0   0  0  1  0  0  0  \n",
              "2013-04-25     0   0   0   0  1  0  0  0  0  \n",
              "\n",
              "[3 rows x 48 columns]"
            ],
            "text/html": "<div>\n<style scoped>\n    .dataframe tbody tr th:only-of-type {\n        vertical-align: middle;\n    }\n\n    .dataframe tbody tr th {\n        vertical-align: top;\n    }\n\n    .dataframe thead th {\n        text-align: right;\n    }\n</style>\n<table border=\"1\" class=\"dataframe\">\n  <thead>\n    <tr style=\"text-align: right;\">\n      <th></th>\n      <th>Pulse</th>\n      <th>Tension Diastolique</th>\n      <th>Tension Systolique</th>\n      <th>Age_presc</th>\n      <th>year_of_birth</th>\n      <th>contactDateYear</th>\n      <th>contactDateMonth</th>\n      <th>contactDateDayOfYear</th>\n      <th>wait_time_days</th>\n      <th>wait_time_weeks</th>\n      <th>...</th>\n      <th>28</th>\n      <th>29</th>\n      <th>30</th>\n      <th>31</th>\n      <th>32</th>\n      <th>0</th>\n      <th>1</th>\n      <th>2</th>\n      <th>3</th>\n      <th>4</th>\n    </tr>\n    <tr>\n      <th>contact_date</th>\n      <th></th>\n      <th></th>\n      <th></th>\n      <th></th>\n      <th></th>\n      <th></th>\n      <th></th>\n      <th></th>\n      <th></th>\n      <th></th>\n      <th></th>\n      <th></th>\n      <th></th>\n      <th></th>\n      <th></th>\n      <th></th>\n      <th></th>\n      <th></th>\n      <th></th>\n      <th></th>\n      <th></th>\n    </tr>\n  </thead>\n  <tbody>\n    <tr>\n      <th>2013-02-22</th>\n      <td>80.0</td>\n      <td>130.0</td>\n      <td>80.0</td>\n      <td>69.0</td>\n      <td>1944.0</td>\n      <td>2013</td>\n      <td>2</td>\n      <td>53</td>\n      <td>13</td>\n      <td>1</td>\n      <td>...</td>\n      <td>0</td>\n      <td>0</td>\n      <td>0</td>\n      <td>0</td>\n      <td>0</td>\n      <td>1</td>\n      <td>0</td>\n      <td>0</td>\n      <td>0</td>\n      <td>0</td>\n    </tr>\n    <tr>\n      <th>2013-04-11</th>\n      <td>86.0</td>\n      <td>140.0</td>\n      <td>80.0</td>\n      <td>69.0</td>\n      <td>1944.0</td>\n      <td>2013</td>\n      <td>4</td>\n      <td>101</td>\n      <td>48</td>\n      <td>6</td>\n      <td>...</td>\n      <td>0</td>\n      <td>0</td>\n      <td>0</td>\n      <td>0</td>\n      <td>0</td>\n      <td>0</td>\n      <td>1</td>\n      <td>0</td>\n      <td>0</td>\n      <td>0</td>\n    </tr>\n    <tr>\n      <th>2013-04-25</th>\n      <td>80.0</td>\n      <td>140.0</td>\n      <td>80.0</td>\n      <td>69.0</td>\n      <td>1944.0</td>\n      <td>2013</td>\n      <td>4</td>\n      <td>115</td>\n      <td>14</td>\n      <td>2</td>\n      <td>...</td>\n      <td>0</td>\n      <td>0</td>\n      <td>0</td>\n      <td>0</td>\n      <td>0</td>\n      <td>1</td>\n      <td>0</td>\n      <td>0</td>\n      <td>0</td>\n      <td>0</td>\n    </tr>\n  </tbody>\n</table>\n<p>3 rows × 48 columns</p>\n</div>"
          },
          "metadata": {},
          "execution_count": 83
        }
      ],
      "source": [
        "tsFinal.loc[452710.0][VISIT_THRESHOLD:VISIT_THRESHOLD*2][:-1]"
      ]
    },
    {
      "cell_type": "code",
      "execution_count": 84,
      "metadata": {
        "tags": []
      },
      "outputs": [],
      "source": [
        "xList2, yList2 = [],[]\n",
        "for i,_ in tsWithTimeMonth.groupby('person_id'):\n",
        "    if(len(tsFinal.loc[i]) >= VISIT_THRESHOLD*2):\n",
        "        xList2.append(tsFinal.loc[i][VISIT_THRESHOLD:VISIT_THRESHOLD*2][:-1].to_numpy().astype('float32'))\n",
        "        yList2.append(tsWithTimeMonth[yColumnNames].loc[i][VISIT_THRESHOLD:VISIT_THRESHOLD*2][-1:].to_numpy().astype('float32'))"
      ]
    },
    {
      "cell_type": "code",
      "execution_count": 89,
      "metadata": {},
      "outputs": [],
      "source": [
        "xTest2 = np.array(xList2)\n",
        "yTest2 = np.array(yList2)\n",
        "\n",
        "xs2 = xTest2.shape\n",
        "ys2 = yTest2.shape\n",
        "\n",
        "xTest2 = xTest2.reshape(xs2[0],1,xs2[1],xs2[2])\n",
        "yTest2 = yTest2.reshape(ys2[0],ys2[1],ys2[2])"
      ]
    },
    {
      "cell_type": "markdown",
      "metadata": {
        "id": "KEGSOnZbBt24"
      },
      "source": [
        "## Création du modèle"
      ]
    },
    {
      "cell_type": "code",
      "metadata": {
        "id": "Ocscm0g3Bt26"
      },
      "source": [
        "ATC_CODE = 0\n",
        "WAIT_TIME = 1\n",
        "toTrain = WAIT_TIME"
      ],
      "execution_count": 90,
      "outputs": []
    },
    {
      "cell_type": "code",
      "metadata": {
        "id": "k_YQ1aemBt29"
      },
      "source": [
        "model = models.Sequential()\n",
        "model.add(layers.Conv1D(filters=256,kernel_size=VISIT_NUMBER-1, activation=None, input_shape=xData.shape[-3:]))\n",
        "model.add(layers.Attention())\n",
        "model.add(layers.Dense(units=32,activation='relu'))\n",
        "#model.add(layers.LeakyReLU())\n",
        "#model.add(layers.GaussianDropout(0.05))\n",
        "#model.add(layers.Conv1D(filters=128,kernel_size=VISIT_NUMBER-1, padding=\"same\", activation=None))\n",
        "#model.add(layers.LeakyReLU())\n",
        "#model.add(layers.GaussianDropout(0.05))\n",
        "#model.add(layers.Conv1D(filters=128,kernel_size=VISIT_NUMBER-1, padding=\"same\", activation=None))\n",
        "#model.add(layers.LeakyReLU())\n",
        "#model.add(layers.GaussianDropout(0.05))\n",
        "#model.add(layers.Conv1D(filters=128,kernel_size=VISIT_NUMBER-1, padding=\"same\", activation=None))\n",
        "#model.add(layers.LeakyReLU())\n",
        "#model.add(layers.GaussianDropout(0.05))\n",
        "#model.add(layers.GlobalMaxPooling2D())\n",
        "if toTrain == ATC_CODE:\n",
        "    model.add(layers.Dense(units=len(ATCEncoder.classes_),activation='softmax'))\n",
        "elif toTrain == WAIT_TIME:\n",
        "    model.add(layers.Dense(units=tsWithTimeMonth.wait_time.max()+1,activation='softmax'))"
      ],
      "execution_count": 105,
      "outputs": [
        {
          "output_type": "error",
          "ename": "ValueError",
          "evalue": "Attention layer must be called on a list of inputs, namely [query, value] or [query, value, key].",
          "traceback": [
            "\u001b[0;31m---------------------------------------------------------------------------\u001b[0m",
            "\u001b[0;31mValueError\u001b[0m                                Traceback (most recent call last)",
            "\u001b[0;32m<ipython-input-105-69eef5dcec0e>\u001b[0m in \u001b[0;36m<module>\u001b[0;34m\u001b[0m\n\u001b[1;32m      1\u001b[0m \u001b[0mmodel\u001b[0m \u001b[0;34m=\u001b[0m \u001b[0mmodels\u001b[0m\u001b[0;34m.\u001b[0m\u001b[0mSequential\u001b[0m\u001b[0;34m(\u001b[0m\u001b[0;34m)\u001b[0m\u001b[0;34m\u001b[0m\u001b[0;34m\u001b[0m\u001b[0m\n\u001b[1;32m      2\u001b[0m \u001b[0mmodel\u001b[0m\u001b[0;34m.\u001b[0m\u001b[0madd\u001b[0m\u001b[0;34m(\u001b[0m\u001b[0mlayers\u001b[0m\u001b[0;34m.\u001b[0m\u001b[0mConv1D\u001b[0m\u001b[0;34m(\u001b[0m\u001b[0mfilters\u001b[0m\u001b[0;34m=\u001b[0m\u001b[0;36m256\u001b[0m\u001b[0;34m,\u001b[0m\u001b[0mkernel_size\u001b[0m\u001b[0;34m=\u001b[0m\u001b[0mVISIT_NUMBER\u001b[0m\u001b[0;34m-\u001b[0m\u001b[0;36m1\u001b[0m\u001b[0;34m,\u001b[0m \u001b[0mactivation\u001b[0m\u001b[0;34m=\u001b[0m\u001b[0;32mNone\u001b[0m\u001b[0;34m,\u001b[0m \u001b[0minput_shape\u001b[0m\u001b[0;34m=\u001b[0m\u001b[0mxData\u001b[0m\u001b[0;34m.\u001b[0m\u001b[0mshape\u001b[0m\u001b[0;34m[\u001b[0m\u001b[0;34m-\u001b[0m\u001b[0;36m3\u001b[0m\u001b[0;34m:\u001b[0m\u001b[0;34m]\u001b[0m\u001b[0;34m)\u001b[0m\u001b[0;34m)\u001b[0m\u001b[0;34m\u001b[0m\u001b[0;34m\u001b[0m\u001b[0m\n\u001b[0;32m----> 3\u001b[0;31m \u001b[0mmodel\u001b[0m\u001b[0;34m.\u001b[0m\u001b[0madd\u001b[0m\u001b[0;34m(\u001b[0m\u001b[0mlayers\u001b[0m\u001b[0;34m.\u001b[0m\u001b[0mAttention\u001b[0m\u001b[0;34m(\u001b[0m\u001b[0;34m)\u001b[0m\u001b[0;34m)\u001b[0m\u001b[0;34m\u001b[0m\u001b[0;34m\u001b[0m\u001b[0m\n\u001b[0m\u001b[1;32m      4\u001b[0m \u001b[0mmodel\u001b[0m\u001b[0;34m.\u001b[0m\u001b[0madd\u001b[0m\u001b[0;34m(\u001b[0m\u001b[0mlayers\u001b[0m\u001b[0;34m.\u001b[0m\u001b[0mDense\u001b[0m\u001b[0;34m(\u001b[0m\u001b[0munits\u001b[0m\u001b[0;34m=\u001b[0m\u001b[0;36m32\u001b[0m\u001b[0;34m,\u001b[0m\u001b[0mactivation\u001b[0m\u001b[0;34m=\u001b[0m\u001b[0;34m'relu'\u001b[0m\u001b[0;34m)\u001b[0m\u001b[0;34m)\u001b[0m\u001b[0;34m\u001b[0m\u001b[0;34m\u001b[0m\u001b[0m\n\u001b[1;32m      5\u001b[0m \u001b[0;31m#model.add(layers.LeakyReLU())\u001b[0m\u001b[0;34m\u001b[0m\u001b[0;34m\u001b[0m\u001b[0;34m\u001b[0m\u001b[0m\n",
            "\u001b[0;32m~/.local/lib/python3.8/site-packages/tensorflow/python/training/tracking/base.py\u001b[0m in \u001b[0;36m_method_wrapper\u001b[0;34m(self, *args, **kwargs)\u001b[0m\n\u001b[1;32m    455\u001b[0m     \u001b[0mself\u001b[0m\u001b[0;34m.\u001b[0m\u001b[0m_self_setattr_tracking\u001b[0m \u001b[0;34m=\u001b[0m \u001b[0;32mFalse\u001b[0m  \u001b[0;31m# pylint: disable=protected-access\u001b[0m\u001b[0;34m\u001b[0m\u001b[0;34m\u001b[0m\u001b[0m\n\u001b[1;32m    456\u001b[0m     \u001b[0;32mtry\u001b[0m\u001b[0;34m:\u001b[0m\u001b[0;34m\u001b[0m\u001b[0;34m\u001b[0m\u001b[0m\n\u001b[0;32m--> 457\u001b[0;31m       \u001b[0mresult\u001b[0m \u001b[0;34m=\u001b[0m \u001b[0mmethod\u001b[0m\u001b[0;34m(\u001b[0m\u001b[0mself\u001b[0m\u001b[0;34m,\u001b[0m \u001b[0;34m*\u001b[0m\u001b[0margs\u001b[0m\u001b[0;34m,\u001b[0m \u001b[0;34m**\u001b[0m\u001b[0mkwargs\u001b[0m\u001b[0;34m)\u001b[0m\u001b[0;34m\u001b[0m\u001b[0;34m\u001b[0m\u001b[0m\n\u001b[0m\u001b[1;32m    458\u001b[0m     \u001b[0;32mfinally\u001b[0m\u001b[0;34m:\u001b[0m\u001b[0;34m\u001b[0m\u001b[0;34m\u001b[0m\u001b[0m\n\u001b[1;32m    459\u001b[0m       \u001b[0mself\u001b[0m\u001b[0;34m.\u001b[0m\u001b[0m_self_setattr_tracking\u001b[0m \u001b[0;34m=\u001b[0m \u001b[0mprevious_value\u001b[0m  \u001b[0;31m# pylint: disable=protected-access\u001b[0m\u001b[0;34m\u001b[0m\u001b[0;34m\u001b[0m\u001b[0m\n",
            "\u001b[0;32m~/.local/lib/python3.8/site-packages/tensorflow/python/keras/engine/sequential.py\u001b[0m in \u001b[0;36madd\u001b[0;34m(self, layer)\u001b[0m\n\u001b[1;32m    219\u001b[0m       \u001b[0;31m# If the model is being built continuously on top of an input layer:\u001b[0m\u001b[0;34m\u001b[0m\u001b[0;34m\u001b[0m\u001b[0;34m\u001b[0m\u001b[0m\n\u001b[1;32m    220\u001b[0m       \u001b[0;31m# refresh its output.\u001b[0m\u001b[0;34m\u001b[0m\u001b[0;34m\u001b[0m\u001b[0;34m\u001b[0m\u001b[0m\n\u001b[0;32m--> 221\u001b[0;31m       \u001b[0moutput_tensor\u001b[0m \u001b[0;34m=\u001b[0m \u001b[0mlayer\u001b[0m\u001b[0;34m(\u001b[0m\u001b[0mself\u001b[0m\u001b[0;34m.\u001b[0m\u001b[0moutputs\u001b[0m\u001b[0;34m[\u001b[0m\u001b[0;36m0\u001b[0m\u001b[0;34m]\u001b[0m\u001b[0;34m)\u001b[0m\u001b[0;34m\u001b[0m\u001b[0;34m\u001b[0m\u001b[0m\n\u001b[0m\u001b[1;32m    222\u001b[0m       \u001b[0;32mif\u001b[0m \u001b[0mlen\u001b[0m\u001b[0;34m(\u001b[0m\u001b[0mnest\u001b[0m\u001b[0;34m.\u001b[0m\u001b[0mflatten\u001b[0m\u001b[0;34m(\u001b[0m\u001b[0moutput_tensor\u001b[0m\u001b[0;34m)\u001b[0m\u001b[0;34m)\u001b[0m \u001b[0;34m!=\u001b[0m \u001b[0;36m1\u001b[0m\u001b[0;34m:\u001b[0m\u001b[0;34m\u001b[0m\u001b[0;34m\u001b[0m\u001b[0m\n\u001b[1;32m    223\u001b[0m         \u001b[0;32mraise\u001b[0m \u001b[0mValueError\u001b[0m\u001b[0;34m(\u001b[0m\u001b[0mSINGLE_LAYER_OUTPUT_ERROR_MSG\u001b[0m\u001b[0;34m)\u001b[0m\u001b[0;34m\u001b[0m\u001b[0;34m\u001b[0m\u001b[0m\n",
            "\u001b[0;32m~/.local/lib/python3.8/site-packages/tensorflow/python/keras/engine/base_layer.py\u001b[0m in \u001b[0;36m__call__\u001b[0;34m(self, *args, **kwargs)\u001b[0m\n\u001b[1;32m    923\u001b[0m     \u001b[0;31m# >> model = tf.keras.Model(inputs, outputs)\u001b[0m\u001b[0;34m\u001b[0m\u001b[0;34m\u001b[0m\u001b[0;34m\u001b[0m\u001b[0m\n\u001b[1;32m    924\u001b[0m     \u001b[0;32mif\u001b[0m \u001b[0m_in_functional_construction_mode\u001b[0m\u001b[0;34m(\u001b[0m\u001b[0mself\u001b[0m\u001b[0;34m,\u001b[0m \u001b[0minputs\u001b[0m\u001b[0;34m,\u001b[0m \u001b[0margs\u001b[0m\u001b[0;34m,\u001b[0m \u001b[0mkwargs\u001b[0m\u001b[0;34m,\u001b[0m \u001b[0minput_list\u001b[0m\u001b[0;34m)\u001b[0m\u001b[0;34m:\u001b[0m\u001b[0;34m\u001b[0m\u001b[0;34m\u001b[0m\u001b[0m\n\u001b[0;32m--> 925\u001b[0;31m       return self._functional_construction_call(inputs, args, kwargs,\n\u001b[0m\u001b[1;32m    926\u001b[0m                                                 input_list)\n\u001b[1;32m    927\u001b[0m \u001b[0;34m\u001b[0m\u001b[0m\n",
            "\u001b[0;32m~/.local/lib/python3.8/site-packages/tensorflow/python/keras/engine/base_layer.py\u001b[0m in \u001b[0;36m_functional_construction_call\u001b[0;34m(self, inputs, args, kwargs, input_list)\u001b[0m\n\u001b[1;32m   1115\u001b[0m           \u001b[0;32mtry\u001b[0m\u001b[0;34m:\u001b[0m\u001b[0;34m\u001b[0m\u001b[0;34m\u001b[0m\u001b[0m\n\u001b[1;32m   1116\u001b[0m             \u001b[0;32mwith\u001b[0m \u001b[0mops\u001b[0m\u001b[0;34m.\u001b[0m\u001b[0menable_auto_cast_variables\u001b[0m\u001b[0;34m(\u001b[0m\u001b[0mself\u001b[0m\u001b[0;34m.\u001b[0m\u001b[0m_compute_dtype_object\u001b[0m\u001b[0;34m)\u001b[0m\u001b[0;34m:\u001b[0m\u001b[0;34m\u001b[0m\u001b[0;34m\u001b[0m\u001b[0m\n\u001b[0;32m-> 1117\u001b[0;31m               \u001b[0moutputs\u001b[0m \u001b[0;34m=\u001b[0m \u001b[0mcall_fn\u001b[0m\u001b[0;34m(\u001b[0m\u001b[0mcast_inputs\u001b[0m\u001b[0;34m,\u001b[0m \u001b[0;34m*\u001b[0m\u001b[0margs\u001b[0m\u001b[0;34m,\u001b[0m \u001b[0;34m**\u001b[0m\u001b[0mkwargs\u001b[0m\u001b[0;34m)\u001b[0m\u001b[0;34m\u001b[0m\u001b[0;34m\u001b[0m\u001b[0m\n\u001b[0m\u001b[1;32m   1118\u001b[0m \u001b[0;34m\u001b[0m\u001b[0m\n\u001b[1;32m   1119\u001b[0m           \u001b[0;32mexcept\u001b[0m \u001b[0merrors\u001b[0m\u001b[0;34m.\u001b[0m\u001b[0mOperatorNotAllowedInGraphError\u001b[0m \u001b[0;32mas\u001b[0m \u001b[0me\u001b[0m\u001b[0;34m:\u001b[0m\u001b[0;34m\u001b[0m\u001b[0;34m\u001b[0m\u001b[0m\n",
            "\u001b[0;32m~/.local/lib/python3.8/site-packages/tensorflow/python/keras/layers/dense_attention.py\u001b[0m in \u001b[0;36mcall\u001b[0;34m(self, inputs, mask, training)\u001b[0m\n\u001b[1;32m    136\u001b[0m   \u001b[0;31m# TODO(b/125916026): Consider exposing a __call__ method with named args.\u001b[0m\u001b[0;34m\u001b[0m\u001b[0;34m\u001b[0m\u001b[0;34m\u001b[0m\u001b[0m\n\u001b[1;32m    137\u001b[0m   \u001b[0;32mdef\u001b[0m \u001b[0mcall\u001b[0m\u001b[0;34m(\u001b[0m\u001b[0mself\u001b[0m\u001b[0;34m,\u001b[0m \u001b[0minputs\u001b[0m\u001b[0;34m,\u001b[0m \u001b[0mmask\u001b[0m\u001b[0;34m=\u001b[0m\u001b[0;32mNone\u001b[0m\u001b[0;34m,\u001b[0m \u001b[0mtraining\u001b[0m\u001b[0;34m=\u001b[0m\u001b[0;32mNone\u001b[0m\u001b[0;34m)\u001b[0m\u001b[0;34m:\u001b[0m\u001b[0;34m\u001b[0m\u001b[0;34m\u001b[0m\u001b[0m\n\u001b[0;32m--> 138\u001b[0;31m     \u001b[0mself\u001b[0m\u001b[0;34m.\u001b[0m\u001b[0m_validate_call_args\u001b[0m\u001b[0;34m(\u001b[0m\u001b[0minputs\u001b[0m\u001b[0;34m=\u001b[0m\u001b[0minputs\u001b[0m\u001b[0;34m,\u001b[0m \u001b[0mmask\u001b[0m\u001b[0;34m=\u001b[0m\u001b[0mmask\u001b[0m\u001b[0;34m)\u001b[0m\u001b[0;34m\u001b[0m\u001b[0;34m\u001b[0m\u001b[0m\n\u001b[0m\u001b[1;32m    139\u001b[0m     \u001b[0mq\u001b[0m \u001b[0;34m=\u001b[0m \u001b[0minputs\u001b[0m\u001b[0;34m[\u001b[0m\u001b[0;36m0\u001b[0m\u001b[0;34m]\u001b[0m\u001b[0;34m\u001b[0m\u001b[0;34m\u001b[0m\u001b[0m\n\u001b[1;32m    140\u001b[0m     \u001b[0mv\u001b[0m \u001b[0;34m=\u001b[0m \u001b[0minputs\u001b[0m\u001b[0;34m[\u001b[0m\u001b[0;36m1\u001b[0m\u001b[0;34m]\u001b[0m\u001b[0;34m\u001b[0m\u001b[0;34m\u001b[0m\u001b[0m\n",
            "\u001b[0;32m~/.local/lib/python3.8/site-packages/tensorflow/python/keras/layers/dense_attention.py\u001b[0m in \u001b[0;36m_validate_call_args\u001b[0;34m(self, inputs, mask)\u001b[0m\n\u001b[1;32m    180\u001b[0m     \u001b[0mclass_name\u001b[0m \u001b[0;34m=\u001b[0m \u001b[0mself\u001b[0m\u001b[0;34m.\u001b[0m\u001b[0m__class__\u001b[0m\u001b[0;34m.\u001b[0m\u001b[0m__name__\u001b[0m\u001b[0;34m\u001b[0m\u001b[0;34m\u001b[0m\u001b[0m\n\u001b[1;32m    181\u001b[0m     \u001b[0;32mif\u001b[0m \u001b[0;32mnot\u001b[0m \u001b[0misinstance\u001b[0m\u001b[0;34m(\u001b[0m\u001b[0minputs\u001b[0m\u001b[0;34m,\u001b[0m \u001b[0mlist\u001b[0m\u001b[0;34m)\u001b[0m\u001b[0;34m:\u001b[0m\u001b[0;34m\u001b[0m\u001b[0;34m\u001b[0m\u001b[0m\n\u001b[0;32m--> 182\u001b[0;31m       raise ValueError(\n\u001b[0m\u001b[1;32m    183\u001b[0m           \u001b[0;34m'{} layer must be called on a list of inputs, namely [query, value] '\u001b[0m\u001b[0;34m\u001b[0m\u001b[0;34m\u001b[0m\u001b[0m\n\u001b[1;32m    184\u001b[0m           'or [query, value, key].'.format(class_name))\n",
            "\u001b[0;31mValueError\u001b[0m: Attention layer must be called on a list of inputs, namely [query, value] or [query, value, key]."
          ]
        }
      ]
    },
    {
      "cell_type": "code",
      "execution_count": 156,
      "metadata": {},
      "outputs": [],
      "source": [
        "inputs = Input(shape=xData.shape[-3:])\n",
        "x = layers.Conv1D(filters=256,kernel_size=VISIT_NUMBER-1)(inputs)\n",
        "x = layers.Flatten()(x)\n",
        "x = layers.Dense(units=32,activation='relu')(x)\n",
        "atcOutputs = layers.Dense(units=len(ATCEncoder.classes_),activation='softmax',name='outputATC')(x)\n",
        "waitTimeOutputs = layers.Dense(units=tsWithTimeMonth.wait_time.max()+1,activation='softmax',name='outputWaitTime')(x)\n",
        "model = Model(inputs=inputs,outputs=[atcOutputs,waitTimeOutputs],name=\"NiceCNN\")"
      ]
    },
    {
      "cell_type": "code",
      "metadata": {
        "id": "4LCBSaWfBt2-"
      },
      "source": [
        "model.summary()"
      ],
      "execution_count": 157,
      "outputs": [
        {
          "output_type": "stream",
          "name": "stdout",
          "text": [
            "Model: \"NiceCNN\"\n__________________________________________________________________________________________________\nLayer (type)                    Output Shape         Param #     Connected to                     \n==================================================================================================\ninput_11 (InputLayer)           [(None, 1, 3, 48)]   0                                            \n__________________________________________________________________________________________________\nconv1d_22 (Conv1D)              (None, 1, 1, 256)    37120       input_11[0][0]                   \n__________________________________________________________________________________________________\nflatten_7 (Flatten)             (None, 256)          0           conv1d_22[0][0]                  \n__________________________________________________________________________________________________\ndense_20 (Dense)                (None, 32)           8224        flatten_7[0][0]                  \n__________________________________________________________________________________________________\noutputATC (Dense)               (None, 33)           1089        dense_20[0][0]                   \n__________________________________________________________________________________________________\noutputWaitTime (Dense)          (None, 5)            165         dense_20[0][0]                   \n==================================================================================================\nTotal params: 46,598\nTrainable params: 46,598\nNon-trainable params: 0\n__________________________________________________________________________________________________\n"
          ]
        }
      ]
    },
    {
      "cell_type": "code",
      "metadata": {
        "id": "qxslPST3Bt2-"
      },
      "source": [
        "model.compile(optimizer='adam',loss='sparse_categorical_crossentropy',metrics=['sparse_categorical_accuracy'])"
      ],
      "execution_count": 158,
      "outputs": []
    },
    {
      "cell_type": "code",
      "execution_count": 159,
      "metadata": {},
      "outputs": [],
      "source": [
        "yTrain = {\n",
        "    'outputATC' : yTrain1[:,:,ATC_CODE],\n",
        "    'outputWaitTime' : yTrain1[:,:,WAIT_TIME]\n",
        "}\n",
        "\n",
        "yTest = {\n",
        "    'outputATC' : yTest1[:,:,ATC_CODE],\n",
        "    'outputWaitTime' : yTest1[:,:,WAIT_TIME]   \n",
        "}"
      ]
    },
    {
      "cell_type": "code",
      "metadata": {
        "id": "TR-MAv4VBt2_",
        "tags": [
          "outputPrepend"
        ]
      },
      "source": [
        "history = model.fit(xTrain1,yTrain,epochs=300,validation_data=(xTest1,yTest))\n",
        "#history = model.fit(xTrain2,yTrain2,epochs=100,validation_data=(xTest2,yTest2))"
      ],
      "execution_count": 160,
      "outputs": [
        {
          "output_type": "stream",
          "name": "stdout",
          "text": [
            "ical_accuracy: 0.2055 - outputWaitTime_sparse_categorical_accuracy: 0.3202 - val_loss: 4.1082 - val_outputATC_loss: 2.5378 - val_outputWaitTime_loss: 1.5704 - val_outputATC_sparse_categorical_accuracy: 0.2275 - val_outputWaitTime_sparse_categorical_accuracy: 0.3144\n",
            "Epoch 255/300\n",
            "40/40 [==============================] - 0s 1ms/step - loss: 4.0883 - outputATC_loss: 2.5208 - outputWaitTime_loss: 1.5675 - outputATC_sparse_categorical_accuracy: 0.2055 - outputWaitTime_sparse_categorical_accuracy: 0.3202 - val_loss: 4.1082 - val_outputATC_loss: 2.5378 - val_outputWaitTime_loss: 1.5704 - val_outputATC_sparse_categorical_accuracy: 0.2275 - val_outputWaitTime_sparse_categorical_accuracy: 0.3144\n",
            "Epoch 256/300\n",
            "40/40 [==============================] - 0s 1ms/step - loss: 4.0883 - outputATC_loss: 2.5208 - outputWaitTime_loss: 1.5676 - outputATC_sparse_categorical_accuracy: 0.2055 - outputWaitTime_sparse_categorical_accuracy: 0.3202 - val_loss: 4.1083 - val_outputATC_loss: 2.5378 - val_outputWaitTime_loss: 1.5705 - val_outputATC_sparse_categorical_accuracy: 0.2275 - val_outputWaitTime_sparse_categorical_accuracy: 0.3144\n",
            "Epoch 257/300\n",
            "40/40 [==============================] - 0s 1ms/step - loss: 4.0883 - outputATC_loss: 2.5208 - outputWaitTime_loss: 1.5675 - outputATC_sparse_categorical_accuracy: 0.2055 - outputWaitTime_sparse_categorical_accuracy: 0.3202 - val_loss: 4.1082 - val_outputATC_loss: 2.5378 - val_outputWaitTime_loss: 1.5704 - val_outputATC_sparse_categorical_accuracy: 0.2275 - val_outputWaitTime_sparse_categorical_accuracy: 0.3144\n",
            "Epoch 258/300\n",
            "40/40 [==============================] - 0s 1ms/step - loss: 4.0883 - outputATC_loss: 2.5207 - outputWaitTime_loss: 1.5675 - outputATC_sparse_categorical_accuracy: 0.2055 - outputWaitTime_sparse_categorical_accuracy: 0.3202 - val_loss: 4.1083 - val_outputATC_loss: 2.5379 - val_outputWaitTime_loss: 1.5703 - val_outputATC_sparse_categorical_accuracy: 0.2275 - val_outputWaitTime_sparse_categorical_accuracy: 0.3144\n",
            "Epoch 259/300\n",
            "40/40 [==============================] - 0s 1ms/step - loss: 4.0882 - outputATC_loss: 2.5207 - outputWaitTime_loss: 1.5675 - outputATC_sparse_categorical_accuracy: 0.2055 - outputWaitTime_sparse_categorical_accuracy: 0.3202 - val_loss: 4.1084 - val_outputATC_loss: 2.5380 - val_outputWaitTime_loss: 1.5704 - val_outputATC_sparse_categorical_accuracy: 0.2275 - val_outputWaitTime_sparse_categorical_accuracy: 0.3144\n",
            "Epoch 260/300\n",
            "40/40 [==============================] - 0s 1ms/step - loss: 4.0882 - outputATC_loss: 2.5207 - outputWaitTime_loss: 1.5675 - outputATC_sparse_categorical_accuracy: 0.2055 - outputWaitTime_sparse_categorical_accuracy: 0.3202 - val_loss: 4.1083 - val_outputATC_loss: 2.5380 - val_outputWaitTime_loss: 1.5703 - val_outputATC_sparse_categorical_accuracy: 0.2275 - val_outputWaitTime_sparse_categorical_accuracy: 0.3144\n",
            "Epoch 261/300\n",
            "40/40 [==============================] - 0s 1ms/step - loss: 4.0883 - outputATC_loss: 2.5207 - outputWaitTime_loss: 1.5676 - outputATC_sparse_categorical_accuracy: 0.2055 - outputWaitTime_sparse_categorical_accuracy: 0.3202 - val_loss: 4.1086 - val_outputATC_loss: 2.5382 - val_outputWaitTime_loss: 1.5704 - val_outputATC_sparse_categorical_accuracy: 0.2275 - val_outputWaitTime_sparse_categorical_accuracy: 0.3144\n",
            "Epoch 262/300\n",
            "40/40 [==============================] - 0s 1ms/step - loss: 4.0881 - outputATC_loss: 2.5206 - outputWaitTime_loss: 1.5675 - outputATC_sparse_categorical_accuracy: 0.2055 - outputWaitTime_sparse_categorical_accuracy: 0.3202 - val_loss: 4.1087 - val_outputATC_loss: 2.5383 - val_outputWaitTime_loss: 1.5704 - val_outputATC_sparse_categorical_accuracy: 0.2275 - val_outputWaitTime_sparse_categorical_accuracy: 0.3144\n",
            "Epoch 263/300\n",
            "40/40 [==============================] - 0s 1ms/step - loss: 4.0882 - outputATC_loss: 2.5207 - outputWaitTime_loss: 1.5676 - outputATC_sparse_categorical_accuracy: 0.2055 - outputWaitTime_sparse_categorical_accuracy: 0.3202 - val_loss: 4.1085 - val_outputATC_loss: 2.5382 - val_outputWaitTime_loss: 1.5703 - val_outputATC_sparse_categorical_accuracy: 0.2275 - val_outputWaitTime_sparse_categorical_accuracy: 0.3144\n",
            "Epoch 264/300\n",
            "40/40 [==============================] - 0s 1ms/step - loss: 4.0881 - outputATC_loss: 2.5206 - outputWaitTime_loss: 1.5675 - outputATC_sparse_categorical_accuracy: 0.2055 - outputWaitTime_sparse_categorical_accuracy: 0.3202 - val_loss: 4.1088 - val_outputATC_loss: 2.5384 - val_outputWaitTime_loss: 1.5704 - val_outputATC_sparse_categorical_accuracy: 0.2275 - val_outputWaitTime_sparse_categorical_accuracy: 0.3144\n",
            "Epoch 265/300\n",
            "40/40 [==============================] - 0s 1ms/step - loss: 4.0881 - outputATC_loss: 2.5206 - outputWaitTime_loss: 1.5675 - outputATC_sparse_categorical_accuracy: 0.2055 - outputWaitTime_sparse_categorical_accuracy: 0.3202 - val_loss: 4.1088 - val_outputATC_loss: 2.5384 - val_outputWaitTime_loss: 1.5704 - val_outputATC_sparse_categorical_accuracy: 0.2275 - val_outputWaitTime_sparse_categorical_accuracy: 0.3144\n",
            "Epoch 266/300\n",
            "40/40 [==============================] - 0s 1ms/step - loss: 4.0882 - outputATC_loss: 2.5206 - outputWaitTime_loss: 1.5676 - outputATC_sparse_categorical_accuracy: 0.2055 - outputWaitTime_sparse_categorical_accuracy: 0.3202 - val_loss: 4.1089 - val_outputATC_loss: 2.5385 - val_outputWaitTime_loss: 1.5704 - val_outputATC_sparse_categorical_accuracy: 0.2275 - val_outputWaitTime_sparse_categorical_accuracy: 0.3144\n",
            "Epoch 267/300\n",
            "40/40 [==============================] - 0s 1ms/step - loss: 4.0881 - outputATC_loss: 2.5205 - outputWaitTime_loss: 1.5676 - outputATC_sparse_categorical_accuracy: 0.2055 - outputWaitTime_sparse_categorical_accuracy: 0.3202 - val_loss: 4.1088 - val_outputATC_loss: 2.5385 - val_outputWaitTime_loss: 1.5703 - val_outputATC_sparse_categorical_accuracy: 0.2275 - val_outputWaitTime_sparse_categorical_accuracy: 0.3144\n",
            "Epoch 268/300\n",
            "40/40 [==============================] - 0s 1ms/step - loss: 4.0881 - outputATC_loss: 2.5206 - outputWaitTime_loss: 1.5675 - outputATC_sparse_categorical_accuracy: 0.2055 - outputWaitTime_sparse_categorical_accuracy: 0.3202 - val_loss: 4.1086 - val_outputATC_loss: 2.5384 - val_outputWaitTime_loss: 1.5702 - val_outputATC_sparse_categorical_accuracy: 0.2275 - val_outputWaitTime_sparse_categorical_accuracy: 0.3144\n",
            "Epoch 269/300\n",
            "40/40 [==============================] - 0s 1ms/step - loss: 4.0881 - outputATC_loss: 2.5205 - outputWaitTime_loss: 1.5676 - outputATC_sparse_categorical_accuracy: 0.2055 - outputWaitTime_sparse_categorical_accuracy: 0.3202 - val_loss: 4.1090 - val_outputATC_loss: 2.5386 - val_outputWaitTime_loss: 1.5704 - val_outputATC_sparse_categorical_accuracy: 0.2275 - val_outputWaitTime_sparse_categorical_accuracy: 0.3144\n",
            "Epoch 270/300\n",
            "40/40 [==============================] - 0s 1ms/step - loss: 4.0881 - outputATC_loss: 2.5206 - outputWaitTime_loss: 1.5675 - outputATC_sparse_categorical_accuracy: 0.2055 - outputWaitTime_sparse_categorical_accuracy: 0.3202 - val_loss: 4.1090 - val_outputATC_loss: 2.5387 - val_outputWaitTime_loss: 1.5704 - val_outputATC_sparse_categorical_accuracy: 0.2275 - val_outputWaitTime_sparse_categorical_accuracy: 0.3144\n",
            "Epoch 271/300\n",
            "40/40 [==============================] - 0s 1ms/step - loss: 4.0881 - outputATC_loss: 2.5206 - outputWaitTime_loss: 1.5675 - outputATC_sparse_categorical_accuracy: 0.2055 - outputWaitTime_sparse_categorical_accuracy: 0.3202 - val_loss: 4.1092 - val_outputATC_loss: 2.5389 - val_outputWaitTime_loss: 1.5703 - val_outputATC_sparse_categorical_accuracy: 0.2275 - val_outputWaitTime_sparse_categorical_accuracy: 0.3144\n",
            "Epoch 272/300\n",
            "40/40 [==============================] - 0s 1ms/step - loss: 4.0880 - outputATC_loss: 2.5205 - outputWaitTime_loss: 1.5675 - outputATC_sparse_categorical_accuracy: 0.2055 - outputWaitTime_sparse_categorical_accuracy: 0.3202 - val_loss: 4.1091 - val_outputATC_loss: 2.5386 - val_outputWaitTime_loss: 1.5704 - val_outputATC_sparse_categorical_accuracy: 0.2275 - val_outputWaitTime_sparse_categorical_accuracy: 0.3144\n",
            "Epoch 273/300\n",
            "40/40 [==============================] - 0s 1ms/step - loss: 4.0880 - outputATC_loss: 2.5204 - outputWaitTime_loss: 1.5676 - outputATC_sparse_categorical_accuracy: 0.2055 - outputWaitTime_sparse_categorical_accuracy: 0.3202 - val_loss: 4.1091 - val_outputATC_loss: 2.5386 - val_outputWaitTime_loss: 1.5705 - val_outputATC_sparse_categorical_accuracy: 0.2275 - val_outputWaitTime_sparse_categorical_accuracy: 0.3144\n",
            "Epoch 274/300\n",
            "40/40 [==============================] - 0s 1ms/step - loss: 4.0880 - outputATC_loss: 2.5204 - outputWaitTime_loss: 1.5676 - outputATC_sparse_categorical_accuracy: 0.2055 - outputWaitTime_sparse_categorical_accuracy: 0.3202 - val_loss: 4.1093 - val_outputATC_loss: 2.5389 - val_outputWaitTime_loss: 1.5704 - val_outputATC_sparse_categorical_accuracy: 0.2275 - val_outputWaitTime_sparse_categorical_accuracy: 0.3144\n",
            "Epoch 275/300\n",
            "40/40 [==============================] - 0s 1ms/step - loss: 4.0879 - outputATC_loss: 2.5204 - outputWaitTime_loss: 1.5675 - outputATC_sparse_categorical_accuracy: 0.2055 - outputWaitTime_sparse_categorical_accuracy: 0.3202 - val_loss: 4.1092 - val_outputATC_loss: 2.5389 - val_outputWaitTime_loss: 1.5704 - val_outputATC_sparse_categorical_accuracy: 0.2275 - val_outputWaitTime_sparse_categorical_accuracy: 0.3144\n",
            "Epoch 276/300\n",
            "40/40 [==============================] - 0s 1ms/step - loss: 4.0880 - outputATC_loss: 2.5204 - outputWaitTime_loss: 1.5676 - outputATC_sparse_categorical_accuracy: 0.2055 - outputWaitTime_sparse_categorical_accuracy: 0.3202 - val_loss: 4.1095 - val_outputATC_loss: 2.5391 - val_outputWaitTime_loss: 1.5704 - val_outputATC_sparse_categorical_accuracy: 0.2275 - val_outputWaitTime_sparse_categorical_accuracy: 0.3144\n",
            "Epoch 277/300\n",
            "40/40 [==============================] - 0s 1ms/step - loss: 4.0879 - outputATC_loss: 2.5203 - outputWaitTime_loss: 1.5675 - outputATC_sparse_categorical_accuracy: 0.2055 - outputWaitTime_sparse_categorical_accuracy: 0.3202 - val_loss: 4.1095 - val_outputATC_loss: 2.5391 - val_outputWaitTime_loss: 1.5704 - val_outputATC_sparse_categorical_accuracy: 0.2275 - val_outputWaitTime_sparse_categorical_accuracy: 0.3144\n",
            "Epoch 278/300\n",
            "40/40 [==============================] - 0s 1ms/step - loss: 4.0880 - outputATC_loss: 2.5204 - outputWaitTime_loss: 1.5675 - outputATC_sparse_categorical_accuracy: 0.2055 - outputWaitTime_sparse_categorical_accuracy: 0.3202 - val_loss: 4.1093 - val_outputATC_loss: 2.5389 - val_outputWaitTime_loss: 1.5704 - val_outputATC_sparse_categorical_accuracy: 0.2275 - val_outputWaitTime_sparse_categorical_accuracy: 0.3144\n",
            "Epoch 279/300\n",
            "40/40 [==============================] - 0s 1ms/step - loss: 4.0880 - outputATC_loss: 2.5204 - outputWaitTime_loss: 1.5676 - outputATC_sparse_categorical_accuracy: 0.2055 - outputWaitTime_sparse_categorical_accuracy: 0.3202 - val_loss: 4.1097 - val_outputATC_loss: 2.5393 - val_outputWaitTime_loss: 1.5704 - val_outputATC_sparse_categorical_accuracy: 0.2275 - val_outputWaitTime_sparse_categorical_accuracy: 0.3144\n",
            "Epoch 280/300\n",
            "40/40 [==============================] - 0s 1ms/step - loss: 4.0879 - outputATC_loss: 2.5203 - outputWaitTime_loss: 1.5676 - outputATC_sparse_categorical_accuracy: 0.2055 - outputWaitTime_sparse_categorical_accuracy: 0.3202 - val_loss: 4.1097 - val_outputATC_loss: 2.5394 - val_outputWaitTime_loss: 1.5703 - val_outputATC_sparse_categorical_accuracy: 0.2275 - val_outputWaitTime_sparse_categorical_accuracy: 0.3144\n",
            "Epoch 281/300\n",
            "40/40 [==============================] - 0s 1ms/step - loss: 4.0878 - outputATC_loss: 2.5203 - outputWaitTime_loss: 1.5675 - outputATC_sparse_categorical_accuracy: 0.2055 - outputWaitTime_sparse_categorical_accuracy: 0.3202 - val_loss: 4.1099 - val_outputATC_loss: 2.5396 - val_outputWaitTime_loss: 1.5704 - val_outputATC_sparse_categorical_accuracy: 0.2275 - val_outputWaitTime_sparse_categorical_accuracy: 0.3144\n",
            "Epoch 282/300\n",
            "40/40 [==============================] - 0s 1ms/step - loss: 4.0879 - outputATC_loss: 2.5203 - outputWaitTime_loss: 1.5675 - outputATC_sparse_categorical_accuracy: 0.2055 - outputWaitTime_sparse_categorical_accuracy: 0.3202 - val_loss: 4.1099 - val_outputATC_loss: 2.5396 - val_outputWaitTime_loss: 1.5704 - val_outputATC_sparse_categorical_accuracy: 0.2275 - val_outputWaitTime_sparse_categorical_accuracy: 0.3144\n",
            "Epoch 283/300\n",
            "40/40 [==============================] - 0s 1ms/step - loss: 4.0878 - outputATC_loss: 2.5203 - outputWaitTime_loss: 1.5675 - outputATC_sparse_categorical_accuracy: 0.2055 - outputWaitTime_sparse_categorical_accuracy: 0.3202 - val_loss: 4.1100 - val_outputATC_loss: 2.5396 - val_outputWaitTime_loss: 1.5704 - val_outputATC_sparse_categorical_accuracy: 0.2275 - val_outputWaitTime_sparse_categorical_accuracy: 0.3144\n",
            "Epoch 284/300\n",
            "40/40 [==============================] - 0s 1ms/step - loss: 4.0879 - outputATC_loss: 2.5203 - outputWaitTime_loss: 1.5675 - outputATC_sparse_categorical_accuracy: 0.2055 - outputWaitTime_sparse_categorical_accuracy: 0.3202 - val_loss: 4.1101 - val_outputATC_loss: 2.5397 - val_outputWaitTime_loss: 1.5704 - val_outputATC_sparse_categorical_accuracy: 0.2275 - val_outputWaitTime_sparse_categorical_accuracy: 0.3144\n",
            "Epoch 285/300\n",
            "40/40 [==============================] - 0s 1ms/step - loss: 4.0878 - outputATC_loss: 2.5203 - outputWaitTime_loss: 1.5675 - outputATC_sparse_categorical_accuracy: 0.2055 - outputWaitTime_sparse_categorical_accuracy: 0.3202 - val_loss: 4.1101 - val_outputATC_loss: 2.5398 - val_outputWaitTime_loss: 1.5703 - val_outputATC_sparse_categorical_accuracy: 0.2275 - val_outputWaitTime_sparse_categorical_accuracy: 0.3144\n",
            "Epoch 286/300\n",
            "40/40 [==============================] - 0s 1ms/step - loss: 4.0879 - outputATC_loss: 2.5203 - outputWaitTime_loss: 1.5676 - outputATC_sparse_categorical_accuracy: 0.2055 - outputWaitTime_sparse_categorical_accuracy: 0.3202 - val_loss: 4.1101 - val_outputATC_loss: 2.5398 - val_outputWaitTime_loss: 1.5703 - val_outputATC_sparse_categorical_accuracy: 0.2275 - val_outputWaitTime_sparse_categorical_accuracy: 0.3144\n",
            "Epoch 287/300\n",
            "40/40 [==============================] - 0s 1ms/step - loss: 4.0878 - outputATC_loss: 2.5203 - outputWaitTime_loss: 1.5675 - outputATC_sparse_categorical_accuracy: 0.2055 - outputWaitTime_sparse_categorical_accuracy: 0.3202 - val_loss: 4.1103 - val_outputATC_loss: 2.5399 - val_outputWaitTime_loss: 1.5704 - val_outputATC_sparse_categorical_accuracy: 0.2275 - val_outputWaitTime_sparse_categorical_accuracy: 0.3144\n",
            "Epoch 288/300\n",
            "40/40 [==============================] - 0s 1ms/step - loss: 4.0878 - outputATC_loss: 2.5203 - outputWaitTime_loss: 1.5675 - outputATC_sparse_categorical_accuracy: 0.2055 - outputWaitTime_sparse_categorical_accuracy: 0.3202 - val_loss: 4.1103 - val_outputATC_loss: 2.5399 - val_outputWaitTime_loss: 1.5704 - val_outputATC_sparse_categorical_accuracy: 0.2275 - val_outputWaitTime_sparse_categorical_accuracy: 0.3144\n",
            "Epoch 289/300\n",
            "40/40 [==============================] - 0s 1ms/step - loss: 4.0878 - outputATC_loss: 2.5202 - outputWaitTime_loss: 1.5675 - outputATC_sparse_categorical_accuracy: 0.2055 - outputWaitTime_sparse_categorical_accuracy: 0.3202 - val_loss: 4.1104 - val_outputATC_loss: 2.5401 - val_outputWaitTime_loss: 1.5703 - val_outputATC_sparse_categorical_accuracy: 0.2275 - val_outputWaitTime_sparse_categorical_accuracy: 0.3144\n",
            "Epoch 290/300\n",
            "40/40 [==============================] - 0s 1ms/step - loss: 4.0878 - outputATC_loss: 2.5203 - outputWaitTime_loss: 1.5675 - outputATC_sparse_categorical_accuracy: 0.2055 - outputWaitTime_sparse_categorical_accuracy: 0.3202 - val_loss: 4.1106 - val_outputATC_loss: 2.5401 - val_outputWaitTime_loss: 1.5705 - val_outputATC_sparse_categorical_accuracy: 0.2275 - val_outputWaitTime_sparse_categorical_accuracy: 0.3144\n",
            "Epoch 291/300\n",
            "40/40 [==============================] - 0s 1ms/step - loss: 4.0877 - outputATC_loss: 2.5202 - outputWaitTime_loss: 1.5675 - outputATC_sparse_categorical_accuracy: 0.2055 - outputWaitTime_sparse_categorical_accuracy: 0.3202 - val_loss: 4.1106 - val_outputATC_loss: 2.5401 - val_outputWaitTime_loss: 1.5704 - val_outputATC_sparse_categorical_accuracy: 0.2275 - val_outputWaitTime_sparse_categorical_accuracy: 0.3144\n",
            "Epoch 292/300\n",
            "40/40 [==============================] - 0s 1ms/step - loss: 4.0878 - outputATC_loss: 2.5202 - outputWaitTime_loss: 1.5676 - outputATC_sparse_categorical_accuracy: 0.2055 - outputWaitTime_sparse_categorical_accuracy: 0.3202 - val_loss: 4.1105 - val_outputATC_loss: 2.5401 - val_outputWaitTime_loss: 1.5704 - val_outputATC_sparse_categorical_accuracy: 0.2275 - val_outputWaitTime_sparse_categorical_accuracy: 0.3144\n",
            "Epoch 293/300\n",
            "40/40 [==============================] - 0s 1ms/step - loss: 4.0878 - outputATC_loss: 2.5202 - outputWaitTime_loss: 1.5676 - outputATC_sparse_categorical_accuracy: 0.2055 - outputWaitTime_sparse_categorical_accuracy: 0.3202 - val_loss: 4.1107 - val_outputATC_loss: 2.5403 - val_outputWaitTime_loss: 1.5704 - val_outputATC_sparse_categorical_accuracy: 0.2275 - val_outputWaitTime_sparse_categorical_accuracy: 0.3144\n",
            "Epoch 294/300\n",
            "40/40 [==============================] - 0s 1ms/step - loss: 4.0877 - outputATC_loss: 2.5202 - outputWaitTime_loss: 1.5675 - outputATC_sparse_categorical_accuracy: 0.2055 - outputWaitTime_sparse_categorical_accuracy: 0.3202 - val_loss: 4.1108 - val_outputATC_loss: 2.5403 - val_outputWaitTime_loss: 1.5705 - val_outputATC_sparse_categorical_accuracy: 0.2275 - val_outputWaitTime_sparse_categorical_accuracy: 0.3144\n",
            "Epoch 295/300\n",
            "40/40 [==============================] - 0s 1ms/step - loss: 4.0878 - outputATC_loss: 2.5202 - outputWaitTime_loss: 1.5676 - outputATC_sparse_categorical_accuracy: 0.2055 - outputWaitTime_sparse_categorical_accuracy: 0.3202 - val_loss: 4.1108 - val_outputATC_loss: 2.5404 - val_outputWaitTime_loss: 1.5704 - val_outputATC_sparse_categorical_accuracy: 0.2275 - val_outputWaitTime_sparse_categorical_accuracy: 0.3144\n",
            "Epoch 296/300\n",
            "40/40 [==============================] - 0s 1ms/step - loss: 4.0877 - outputATC_loss: 2.5202 - outputWaitTime_loss: 1.5675 - outputATC_sparse_categorical_accuracy: 0.2055 - outputWaitTime_sparse_categorical_accuracy: 0.3202 - val_loss: 4.1108 - val_outputATC_loss: 2.5403 - val_outputWaitTime_loss: 1.5705 - val_outputATC_sparse_categorical_accuracy: 0.2275 - val_outputWaitTime_sparse_categorical_accuracy: 0.3144\n",
            "Epoch 297/300\n",
            "40/40 [==============================] - 0s 1ms/step - loss: 4.0877 - outputATC_loss: 2.5202 - outputWaitTime_loss: 1.5675 - outputATC_sparse_categorical_accuracy: 0.2055 - outputWaitTime_sparse_categorical_accuracy: 0.3202 - val_loss: 4.1108 - val_outputATC_loss: 2.5404 - val_outputWaitTime_loss: 1.5704 - val_outputATC_sparse_categorical_accuracy: 0.2275 - val_outputWaitTime_sparse_categorical_accuracy: 0.3144\n",
            "Epoch 298/300\n",
            "40/40 [==============================] - 0s 1ms/step - loss: 4.0877 - outputATC_loss: 2.5202 - outputWaitTime_loss: 1.5675 - outputATC_sparse_categorical_accuracy: 0.2055 - outputWaitTime_sparse_categorical_accuracy: 0.3202 - val_loss: 4.1110 - val_outputATC_loss: 2.5406 - val_outputWaitTime_loss: 1.5705 - val_outputATC_sparse_categorical_accuracy: 0.2275 - val_outputWaitTime_sparse_categorical_accuracy: 0.3144\n",
            "Epoch 299/300\n",
            "40/40 [==============================] - 0s 1ms/step - loss: 4.0877 - outputATC_loss: 2.5202 - outputWaitTime_loss: 1.5675 - outputATC_sparse_categorical_accuracy: 0.2055 - outputWaitTime_sparse_categorical_accuracy: 0.3202 - val_loss: 4.1112 - val_outputATC_loss: 2.5408 - val_outputWaitTime_loss: 1.5705 - val_outputATC_sparse_categorical_accuracy: 0.2275 - val_outputWaitTime_sparse_categorical_accuracy: 0.3144\n",
            "Epoch 300/300\n",
            "40/40 [==============================] - 0s 1ms/step - loss: 4.0876 - outputATC_loss: 2.5201 - outputWaitTime_loss: 1.5675 - outputATC_sparse_categorical_accuracy: 0.2055 - outputWaitTime_sparse_categorical_accuracy: 0.3202 - val_loss: 4.1112 - val_outputATC_loss: 2.5408 - val_outputWaitTime_loss: 1.5704 - val_outputATC_sparse_categorical_accuracy: 0.2275 - val_outputWaitTime_sparse_categorical_accuracy: 0.3144\n"
          ]
        }
      ]
    },
    {
      "cell_type": "code",
      "metadata": {
        "id": "scZ6D7ahBt3A"
      },
      "source": [
        "loss_list = [s for s in history.history.keys() if 'loss' in s and 'val' not in s]\n",
        "val_loss_list = [s for s in history.history.keys() if 'loss' in s and 'val' in s]\n",
        "acc_list = [s for s in history.history.keys() if 'acc' in s and 'val' not in s]\n",
        "val_acc_list = [s for s in history.history.keys() if 'acc' in s and 'val' in s]\n",
        "\n",
        "## As loss always exists\n",
        "epochs = range(1,len(history.history[loss_list[0]]) + 1)\n",
        "\n",
        "fig, (p1,p2) = plt.subplots(1,2,figsize=(13,4))\n",
        "\n",
        "## Loss\n",
        "for l in loss_list:\n",
        "    p1.plot(epochs, history.history[l], 'b', label='Training loss')\n",
        "for l in val_loss_list:\n",
        "    p1.plot(epochs, history.history[l], 'g', label='Validation loss')\n",
        "\n",
        "p1.set(xlabel='Epochs',ylabel='Loss')\n",
        "\n",
        "## Accuracy\n",
        "for l in acc_list:\n",
        "    p2.plot(epochs, history.history[l], 'b', label='Training accuracy')\n",
        "for l in val_acc_list:    \n",
        "    p2.plot(epochs, history.history[l], 'g', label='Validation accuracy')\n",
        "\n",
        "p1.set(xlabel='Epochs',ylabel='Accuracy')\n",
        "plt.legend()\n",
        "plt.show()"
      ],
      "execution_count": 161,
      "outputs": [
        {
          "output_type": "display_data",
          "data": {
            "text/plain": "<Figure size 936x288 with 2 Axes>",
            "image/svg+xml": "<?xml version=\"1.0\" encoding=\"utf-8\" standalone=\"no\"?>\n<!DOCTYPE svg PUBLIC \"-//W3C//DTD SVG 1.1//EN\"\n  \"http://www.w3.org/Graphics/SVG/1.1/DTD/svg11.dtd\">\n<!-- Created with matplotlib (https://matplotlib.org/) -->\n<svg height=\"262.19625pt\" version=\"1.1\" viewBox=\"0 0 779.565625 262.19625\" width=\"779.565625pt\" xmlns=\"http://www.w3.org/2000/svg\" xmlns:xlink=\"http://www.w3.org/1999/xlink\">\n <metadata>\n  <rdf:RDF xmlns:cc=\"http://creativecommons.org/ns#\" xmlns:dc=\"http://purl.org/dc/elements/1.1/\" xmlns:rdf=\"http://www.w3.org/1999/02/22-rdf-syntax-ns#\">\n   <cc:Work>\n    <dc:type rdf:resource=\"http://purl.org/dc/dcmitype/StillImage\"/>\n    <dc:date>2021-01-19T18:16:21.661873</dc:date>\n    <dc:format>image/svg+xml</dc:format>\n    <dc:creator>\n     <cc:Agent>\n      <dc:title>Matplotlib v3.3.3, https://matplotlib.org/</dc:title>\n     </cc:Agent>\n    </dc:creator>\n   </cc:Work>\n  </rdf:RDF>\n </metadata>\n <defs>\n  <style type=\"text/css\">*{stroke-linecap:butt;stroke-linejoin:round;}</style>\n </defs>\n <g id=\"figure_1\">\n  <g id=\"patch_1\">\n   <path d=\"M 0 262.19625 \nL 779.565625 262.19625 \nL 779.565625 0 \nL 0 0 \nz\n\" style=\"fill:none;\"/>\n  </g>\n  <g id=\"axes_1\">\n   <g id=\"patch_2\">\n    <path d=\"M 46.965625 224.64 \nL 376.692898 224.64 \nL 376.692898 7.2 \nL 46.965625 7.2 \nz\n\" style=\"fill:#ffffff;\"/>\n   </g>\n   <g id=\"matplotlib.axis_1\">\n    <g id=\"xtick_1\">\n     <g id=\"line2d_1\">\n      <defs>\n       <path d=\"M 0 0 \nL 0 3.5 \n\" id=\"mece5851668\" style=\"stroke:#000000;stroke-width:0.8;\"/>\n      </defs>\n      <g>\n       <use style=\"stroke:#000000;stroke-width:0.8;\" x=\"60.950713\" xlink:href=\"#mece5851668\" y=\"224.64\"/>\n      </g>\n     </g>\n     <g id=\"text_1\">\n      <!-- 0 -->\n      <g transform=\"translate(57.769463 239.238437)scale(0.1 -0.1)\">\n       <defs>\n        <path d=\"M 31.78125 66.40625 \nQ 24.171875 66.40625 20.328125 58.90625 \nQ 16.5 51.421875 16.5 36.375 \nQ 16.5 21.390625 20.328125 13.890625 \nQ 24.171875 6.390625 31.78125 6.390625 \nQ 39.453125 6.390625 43.28125 13.890625 \nQ 47.125 21.390625 47.125 36.375 \nQ 47.125 51.421875 43.28125 58.90625 \nQ 39.453125 66.40625 31.78125 66.40625 \nz\nM 31.78125 74.21875 \nQ 44.046875 74.21875 50.515625 64.515625 \nQ 56.984375 54.828125 56.984375 36.375 \nQ 56.984375 17.96875 50.515625 8.265625 \nQ 44.046875 -1.421875 31.78125 -1.421875 \nQ 19.53125 -1.421875 13.0625 8.265625 \nQ 6.59375 17.96875 6.59375 36.375 \nQ 6.59375 54.828125 13.0625 64.515625 \nQ 19.53125 74.21875 31.78125 74.21875 \nz\n\" id=\"DejaVuSans-48\"/>\n       </defs>\n       <use xlink:href=\"#DejaVuSans-48\"/>\n      </g>\n     </g>\n    </g>\n    <g id=\"xtick_2\">\n     <g id=\"line2d_2\">\n      <g>\n       <use style=\"stroke:#000000;stroke-width:0.8;\" x=\"111.076477\" xlink:href=\"#mece5851668\" y=\"224.64\"/>\n      </g>\n     </g>\n     <g id=\"text_2\">\n      <!-- 50 -->\n      <g transform=\"translate(104.713977 239.238437)scale(0.1 -0.1)\">\n       <defs>\n        <path d=\"M 10.796875 72.90625 \nL 49.515625 72.90625 \nL 49.515625 64.59375 \nL 19.828125 64.59375 \nL 19.828125 46.734375 \nQ 21.96875 47.46875 24.109375 47.828125 \nQ 26.265625 48.1875 28.421875 48.1875 \nQ 40.625 48.1875 47.75 41.5 \nQ 54.890625 34.8125 54.890625 23.390625 \nQ 54.890625 11.625 47.5625 5.09375 \nQ 40.234375 -1.421875 26.90625 -1.421875 \nQ 22.3125 -1.421875 17.546875 -0.640625 \nQ 12.796875 0.140625 7.71875 1.703125 \nL 7.71875 11.625 \nQ 12.109375 9.234375 16.796875 8.0625 \nQ 21.484375 6.890625 26.703125 6.890625 \nQ 35.15625 6.890625 40.078125 11.328125 \nQ 45.015625 15.765625 45.015625 23.390625 \nQ 45.015625 31 40.078125 35.4375 \nQ 35.15625 39.890625 26.703125 39.890625 \nQ 22.75 39.890625 18.8125 39.015625 \nQ 14.890625 38.140625 10.796875 36.28125 \nz\n\" id=\"DejaVuSans-53\"/>\n       </defs>\n       <use xlink:href=\"#DejaVuSans-53\"/>\n       <use x=\"63.623047\" xlink:href=\"#DejaVuSans-48\"/>\n      </g>\n     </g>\n    </g>\n    <g id=\"xtick_3\">\n     <g id=\"line2d_3\">\n      <g>\n       <use style=\"stroke:#000000;stroke-width:0.8;\" x=\"161.20224\" xlink:href=\"#mece5851668\" y=\"224.64\"/>\n      </g>\n     </g>\n     <g id=\"text_3\">\n      <!-- 100 -->\n      <g transform=\"translate(151.65849 239.238437)scale(0.1 -0.1)\">\n       <defs>\n        <path d=\"M 12.40625 8.296875 \nL 28.515625 8.296875 \nL 28.515625 63.921875 \nL 10.984375 60.40625 \nL 10.984375 69.390625 \nL 28.421875 72.90625 \nL 38.28125 72.90625 \nL 38.28125 8.296875 \nL 54.390625 8.296875 \nL 54.390625 0 \nL 12.40625 0 \nz\n\" id=\"DejaVuSans-49\"/>\n       </defs>\n       <use xlink:href=\"#DejaVuSans-49\"/>\n       <use x=\"63.623047\" xlink:href=\"#DejaVuSans-48\"/>\n       <use x=\"127.246094\" xlink:href=\"#DejaVuSans-48\"/>\n      </g>\n     </g>\n    </g>\n    <g id=\"xtick_4\">\n     <g id=\"line2d_4\">\n      <g>\n       <use style=\"stroke:#000000;stroke-width:0.8;\" x=\"211.328004\" xlink:href=\"#mece5851668\" y=\"224.64\"/>\n      </g>\n     </g>\n     <g id=\"text_4\">\n      <!-- 150 -->\n      <g transform=\"translate(201.784254 239.238437)scale(0.1 -0.1)\">\n       <use xlink:href=\"#DejaVuSans-49\"/>\n       <use x=\"63.623047\" xlink:href=\"#DejaVuSans-53\"/>\n       <use x=\"127.246094\" xlink:href=\"#DejaVuSans-48\"/>\n      </g>\n     </g>\n    </g>\n    <g id=\"xtick_5\">\n     <g id=\"line2d_5\">\n      <g>\n       <use style=\"stroke:#000000;stroke-width:0.8;\" x=\"261.453767\" xlink:href=\"#mece5851668\" y=\"224.64\"/>\n      </g>\n     </g>\n     <g id=\"text_5\">\n      <!-- 200 -->\n      <g transform=\"translate(251.910017 239.238437)scale(0.1 -0.1)\">\n       <defs>\n        <path d=\"M 19.1875 8.296875 \nL 53.609375 8.296875 \nL 53.609375 0 \nL 7.328125 0 \nL 7.328125 8.296875 \nQ 12.9375 14.109375 22.625 23.890625 \nQ 32.328125 33.6875 34.8125 36.53125 \nQ 39.546875 41.84375 41.421875 45.53125 \nQ 43.3125 49.21875 43.3125 52.78125 \nQ 43.3125 58.59375 39.234375 62.25 \nQ 35.15625 65.921875 28.609375 65.921875 \nQ 23.96875 65.921875 18.8125 64.3125 \nQ 13.671875 62.703125 7.8125 59.421875 \nL 7.8125 69.390625 \nQ 13.765625 71.78125 18.9375 73 \nQ 24.125 74.21875 28.421875 74.21875 \nQ 39.75 74.21875 46.484375 68.546875 \nQ 53.21875 62.890625 53.21875 53.421875 \nQ 53.21875 48.921875 51.53125 44.890625 \nQ 49.859375 40.875 45.40625 35.40625 \nQ 44.1875 33.984375 37.640625 27.21875 \nQ 31.109375 20.453125 19.1875 8.296875 \nz\n\" id=\"DejaVuSans-50\"/>\n       </defs>\n       <use xlink:href=\"#DejaVuSans-50\"/>\n       <use x=\"63.623047\" xlink:href=\"#DejaVuSans-48\"/>\n       <use x=\"127.246094\" xlink:href=\"#DejaVuSans-48\"/>\n      </g>\n     </g>\n    </g>\n    <g id=\"xtick_6\">\n     <g id=\"line2d_6\">\n      <g>\n       <use style=\"stroke:#000000;stroke-width:0.8;\" x=\"311.579531\" xlink:href=\"#mece5851668\" y=\"224.64\"/>\n      </g>\n     </g>\n     <g id=\"text_6\">\n      <!-- 250 -->\n      <g transform=\"translate(302.035781 239.238437)scale(0.1 -0.1)\">\n       <use xlink:href=\"#DejaVuSans-50\"/>\n       <use x=\"63.623047\" xlink:href=\"#DejaVuSans-53\"/>\n       <use x=\"127.246094\" xlink:href=\"#DejaVuSans-48\"/>\n      </g>\n     </g>\n    </g>\n    <g id=\"xtick_7\">\n     <g id=\"line2d_7\">\n      <g>\n       <use style=\"stroke:#000000;stroke-width:0.8;\" x=\"361.705294\" xlink:href=\"#mece5851668\" y=\"224.64\"/>\n      </g>\n     </g>\n     <g id=\"text_7\">\n      <!-- 300 -->\n      <g transform=\"translate(352.161544 239.238437)scale(0.1 -0.1)\">\n       <defs>\n        <path d=\"M 40.578125 39.3125 \nQ 47.65625 37.796875 51.625 33 \nQ 55.609375 28.21875 55.609375 21.1875 \nQ 55.609375 10.40625 48.1875 4.484375 \nQ 40.765625 -1.421875 27.09375 -1.421875 \nQ 22.515625 -1.421875 17.65625 -0.515625 \nQ 12.796875 0.390625 7.625 2.203125 \nL 7.625 11.71875 \nQ 11.71875 9.328125 16.59375 8.109375 \nQ 21.484375 6.890625 26.8125 6.890625 \nQ 36.078125 6.890625 40.9375 10.546875 \nQ 45.796875 14.203125 45.796875 21.1875 \nQ 45.796875 27.640625 41.28125 31.265625 \nQ 36.765625 34.90625 28.71875 34.90625 \nL 20.21875 34.90625 \nL 20.21875 43.015625 \nL 29.109375 43.015625 \nQ 36.375 43.015625 40.234375 45.921875 \nQ 44.09375 48.828125 44.09375 54.296875 \nQ 44.09375 59.90625 40.109375 62.90625 \nQ 36.140625 65.921875 28.71875 65.921875 \nQ 24.65625 65.921875 20.015625 65.03125 \nQ 15.375 64.15625 9.8125 62.3125 \nL 9.8125 71.09375 \nQ 15.4375 72.65625 20.34375 73.4375 \nQ 25.25 74.21875 29.59375 74.21875 \nQ 40.828125 74.21875 47.359375 69.109375 \nQ 53.90625 64.015625 53.90625 55.328125 \nQ 53.90625 49.265625 50.4375 45.09375 \nQ 46.96875 40.921875 40.578125 39.3125 \nz\n\" id=\"DejaVuSans-51\"/>\n       </defs>\n       <use xlink:href=\"#DejaVuSans-51\"/>\n       <use x=\"63.623047\" xlink:href=\"#DejaVuSans-48\"/>\n       <use x=\"127.246094\" xlink:href=\"#DejaVuSans-48\"/>\n      </g>\n     </g>\n    </g>\n    <g id=\"text_8\">\n     <!-- Epochs -->\n     <g transform=\"translate(193.913636 252.916562)scale(0.1 -0.1)\">\n      <defs>\n       <path d=\"M 9.8125 72.90625 \nL 55.90625 72.90625 \nL 55.90625 64.59375 \nL 19.671875 64.59375 \nL 19.671875 43.015625 \nL 54.390625 43.015625 \nL 54.390625 34.71875 \nL 19.671875 34.71875 \nL 19.671875 8.296875 \nL 56.78125 8.296875 \nL 56.78125 0 \nL 9.8125 0 \nz\n\" id=\"DejaVuSans-69\"/>\n       <path d=\"M 18.109375 8.203125 \nL 18.109375 -20.796875 \nL 9.078125 -20.796875 \nL 9.078125 54.6875 \nL 18.109375 54.6875 \nL 18.109375 46.390625 \nQ 20.953125 51.265625 25.265625 53.625 \nQ 29.59375 56 35.59375 56 \nQ 45.5625 56 51.78125 48.09375 \nQ 58.015625 40.1875 58.015625 27.296875 \nQ 58.015625 14.40625 51.78125 6.484375 \nQ 45.5625 -1.421875 35.59375 -1.421875 \nQ 29.59375 -1.421875 25.265625 0.953125 \nQ 20.953125 3.328125 18.109375 8.203125 \nz\nM 48.6875 27.296875 \nQ 48.6875 37.203125 44.609375 42.84375 \nQ 40.53125 48.484375 33.40625 48.484375 \nQ 26.265625 48.484375 22.1875 42.84375 \nQ 18.109375 37.203125 18.109375 27.296875 \nQ 18.109375 17.390625 22.1875 11.75 \nQ 26.265625 6.109375 33.40625 6.109375 \nQ 40.53125 6.109375 44.609375 11.75 \nQ 48.6875 17.390625 48.6875 27.296875 \nz\n\" id=\"DejaVuSans-112\"/>\n       <path d=\"M 30.609375 48.390625 \nQ 23.390625 48.390625 19.1875 42.75 \nQ 14.984375 37.109375 14.984375 27.296875 \nQ 14.984375 17.484375 19.15625 11.84375 \nQ 23.34375 6.203125 30.609375 6.203125 \nQ 37.796875 6.203125 41.984375 11.859375 \nQ 46.1875 17.53125 46.1875 27.296875 \nQ 46.1875 37.015625 41.984375 42.703125 \nQ 37.796875 48.390625 30.609375 48.390625 \nz\nM 30.609375 56 \nQ 42.328125 56 49.015625 48.375 \nQ 55.71875 40.765625 55.71875 27.296875 \nQ 55.71875 13.875 49.015625 6.21875 \nQ 42.328125 -1.421875 30.609375 -1.421875 \nQ 18.84375 -1.421875 12.171875 6.21875 \nQ 5.515625 13.875 5.515625 27.296875 \nQ 5.515625 40.765625 12.171875 48.375 \nQ 18.84375 56 30.609375 56 \nz\n\" id=\"DejaVuSans-111\"/>\n       <path d=\"M 48.78125 52.59375 \nL 48.78125 44.1875 \nQ 44.96875 46.296875 41.140625 47.34375 \nQ 37.3125 48.390625 33.40625 48.390625 \nQ 24.65625 48.390625 19.8125 42.84375 \nQ 14.984375 37.3125 14.984375 27.296875 \nQ 14.984375 17.28125 19.8125 11.734375 \nQ 24.65625 6.203125 33.40625 6.203125 \nQ 37.3125 6.203125 41.140625 7.25 \nQ 44.96875 8.296875 48.78125 10.40625 \nL 48.78125 2.09375 \nQ 45.015625 0.34375 40.984375 -0.53125 \nQ 36.96875 -1.421875 32.421875 -1.421875 \nQ 20.0625 -1.421875 12.78125 6.34375 \nQ 5.515625 14.109375 5.515625 27.296875 \nQ 5.515625 40.671875 12.859375 48.328125 \nQ 20.21875 56 33.015625 56 \nQ 37.15625 56 41.109375 55.140625 \nQ 45.0625 54.296875 48.78125 52.59375 \nz\n\" id=\"DejaVuSans-99\"/>\n       <path d=\"M 54.890625 33.015625 \nL 54.890625 0 \nL 45.90625 0 \nL 45.90625 32.71875 \nQ 45.90625 40.484375 42.875 44.328125 \nQ 39.84375 48.1875 33.796875 48.1875 \nQ 26.515625 48.1875 22.3125 43.546875 \nQ 18.109375 38.921875 18.109375 30.90625 \nL 18.109375 0 \nL 9.078125 0 \nL 9.078125 75.984375 \nL 18.109375 75.984375 \nL 18.109375 46.1875 \nQ 21.34375 51.125 25.703125 53.5625 \nQ 30.078125 56 35.796875 56 \nQ 45.21875 56 50.046875 50.171875 \nQ 54.890625 44.34375 54.890625 33.015625 \nz\n\" id=\"DejaVuSans-104\"/>\n       <path d=\"M 44.28125 53.078125 \nL 44.28125 44.578125 \nQ 40.484375 46.53125 36.375 47.5 \nQ 32.28125 48.484375 27.875 48.484375 \nQ 21.1875 48.484375 17.84375 46.4375 \nQ 14.5 44.390625 14.5 40.28125 \nQ 14.5 37.15625 16.890625 35.375 \nQ 19.28125 33.59375 26.515625 31.984375 \nL 29.59375 31.296875 \nQ 39.15625 29.25 43.1875 25.515625 \nQ 47.21875 21.78125 47.21875 15.09375 \nQ 47.21875 7.46875 41.1875 3.015625 \nQ 35.15625 -1.421875 24.609375 -1.421875 \nQ 20.21875 -1.421875 15.453125 -0.5625 \nQ 10.6875 0.296875 5.421875 2 \nL 5.421875 11.28125 \nQ 10.40625 8.6875 15.234375 7.390625 \nQ 20.0625 6.109375 24.8125 6.109375 \nQ 31.15625 6.109375 34.5625 8.28125 \nQ 37.984375 10.453125 37.984375 14.40625 \nQ 37.984375 18.0625 35.515625 20.015625 \nQ 33.0625 21.96875 24.703125 23.78125 \nL 21.578125 24.515625 \nQ 13.234375 26.265625 9.515625 29.90625 \nQ 5.8125 33.546875 5.8125 39.890625 \nQ 5.8125 47.609375 11.28125 51.796875 \nQ 16.75 56 26.8125 56 \nQ 31.78125 56 36.171875 55.265625 \nQ 40.578125 54.546875 44.28125 53.078125 \nz\n\" id=\"DejaVuSans-115\"/>\n      </defs>\n      <use xlink:href=\"#DejaVuSans-69\"/>\n      <use x=\"63.183594\" xlink:href=\"#DejaVuSans-112\"/>\n      <use x=\"126.660156\" xlink:href=\"#DejaVuSans-111\"/>\n      <use x=\"187.841797\" xlink:href=\"#DejaVuSans-99\"/>\n      <use x=\"242.822266\" xlink:href=\"#DejaVuSans-104\"/>\n      <use x=\"306.201172\" xlink:href=\"#DejaVuSans-115\"/>\n     </g>\n    </g>\n   </g>\n   <g id=\"matplotlib.axis_2\">\n    <g id=\"ytick_1\">\n     <g id=\"line2d_8\">\n      <defs>\n       <path d=\"M 0 0 \nL -3.5 0 \n\" id=\"m8d86998fa1\" style=\"stroke:#000000;stroke-width:0.8;\"/>\n      </defs>\n      <g>\n       <use style=\"stroke:#000000;stroke-width:0.8;\" x=\"46.965625\" xlink:href=\"#m8d86998fa1\" y=\"217.654712\"/>\n      </g>\n     </g>\n     <g id=\"text_9\">\n      <!-- 0 -->\n      <g transform=\"translate(33.603125 221.453931)scale(0.1 -0.1)\">\n       <use xlink:href=\"#DejaVuSans-48\"/>\n      </g>\n     </g>\n    </g>\n    <g id=\"ytick_2\">\n     <g id=\"line2d_9\">\n      <g>\n       <use style=\"stroke:#000000;stroke-width:0.8;\" x=\"46.965625\" xlink:href=\"#m8d86998fa1\" y=\"180.673591\"/>\n      </g>\n     </g>\n     <g id=\"text_10\">\n      <!-- 20 -->\n      <g transform=\"translate(27.240625 184.47281)scale(0.1 -0.1)\">\n       <use xlink:href=\"#DejaVuSans-50\"/>\n       <use x=\"63.623047\" xlink:href=\"#DejaVuSans-48\"/>\n      </g>\n     </g>\n    </g>\n    <g id=\"ytick_3\">\n     <g id=\"line2d_10\">\n      <g>\n       <use style=\"stroke:#000000;stroke-width:0.8;\" x=\"46.965625\" xlink:href=\"#m8d86998fa1\" y=\"143.69247\"/>\n      </g>\n     </g>\n     <g id=\"text_11\">\n      <!-- 40 -->\n      <g transform=\"translate(27.240625 147.491689)scale(0.1 -0.1)\">\n       <defs>\n        <path d=\"M 37.796875 64.3125 \nL 12.890625 25.390625 \nL 37.796875 25.390625 \nz\nM 35.203125 72.90625 \nL 47.609375 72.90625 \nL 47.609375 25.390625 \nL 58.015625 25.390625 \nL 58.015625 17.1875 \nL 47.609375 17.1875 \nL 47.609375 0 \nL 37.796875 0 \nL 37.796875 17.1875 \nL 4.890625 17.1875 \nL 4.890625 26.703125 \nz\n\" id=\"DejaVuSans-52\"/>\n       </defs>\n       <use xlink:href=\"#DejaVuSans-52\"/>\n       <use x=\"63.623047\" xlink:href=\"#DejaVuSans-48\"/>\n      </g>\n     </g>\n    </g>\n    <g id=\"ytick_4\">\n     <g id=\"line2d_11\">\n      <g>\n       <use style=\"stroke:#000000;stroke-width:0.8;\" x=\"46.965625\" xlink:href=\"#m8d86998fa1\" y=\"106.711349\"/>\n      </g>\n     </g>\n     <g id=\"text_12\">\n      <!-- 60 -->\n      <g transform=\"translate(27.240625 110.510568)scale(0.1 -0.1)\">\n       <defs>\n        <path d=\"M 33.015625 40.375 \nQ 26.375 40.375 22.484375 35.828125 \nQ 18.609375 31.296875 18.609375 23.390625 \nQ 18.609375 15.53125 22.484375 10.953125 \nQ 26.375 6.390625 33.015625 6.390625 \nQ 39.65625 6.390625 43.53125 10.953125 \nQ 47.40625 15.53125 47.40625 23.390625 \nQ 47.40625 31.296875 43.53125 35.828125 \nQ 39.65625 40.375 33.015625 40.375 \nz\nM 52.59375 71.296875 \nL 52.59375 62.3125 \nQ 48.875 64.0625 45.09375 64.984375 \nQ 41.3125 65.921875 37.59375 65.921875 \nQ 27.828125 65.921875 22.671875 59.328125 \nQ 17.53125 52.734375 16.796875 39.40625 \nQ 19.671875 43.65625 24.015625 45.921875 \nQ 28.375 48.1875 33.59375 48.1875 \nQ 44.578125 48.1875 50.953125 41.515625 \nQ 57.328125 34.859375 57.328125 23.390625 \nQ 57.328125 12.15625 50.6875 5.359375 \nQ 44.046875 -1.421875 33.015625 -1.421875 \nQ 20.359375 -1.421875 13.671875 8.265625 \nQ 6.984375 17.96875 6.984375 36.375 \nQ 6.984375 53.65625 15.1875 63.9375 \nQ 23.390625 74.21875 37.203125 74.21875 \nQ 40.921875 74.21875 44.703125 73.484375 \nQ 48.484375 72.75 52.59375 71.296875 \nz\n\" id=\"DejaVuSans-54\"/>\n       </defs>\n       <use xlink:href=\"#DejaVuSans-54\"/>\n       <use x=\"63.623047\" xlink:href=\"#DejaVuSans-48\"/>\n      </g>\n     </g>\n    </g>\n    <g id=\"ytick_5\">\n     <g id=\"line2d_12\">\n      <g>\n       <use style=\"stroke:#000000;stroke-width:0.8;\" x=\"46.965625\" xlink:href=\"#m8d86998fa1\" y=\"69.730228\"/>\n      </g>\n     </g>\n     <g id=\"text_13\">\n      <!-- 80 -->\n      <g transform=\"translate(27.240625 73.529447)scale(0.1 -0.1)\">\n       <defs>\n        <path d=\"M 31.78125 34.625 \nQ 24.75 34.625 20.71875 30.859375 \nQ 16.703125 27.09375 16.703125 20.515625 \nQ 16.703125 13.921875 20.71875 10.15625 \nQ 24.75 6.390625 31.78125 6.390625 \nQ 38.8125 6.390625 42.859375 10.171875 \nQ 46.921875 13.96875 46.921875 20.515625 \nQ 46.921875 27.09375 42.890625 30.859375 \nQ 38.875 34.625 31.78125 34.625 \nz\nM 21.921875 38.8125 \nQ 15.578125 40.375 12.03125 44.71875 \nQ 8.5 49.078125 8.5 55.328125 \nQ 8.5 64.0625 14.71875 69.140625 \nQ 20.953125 74.21875 31.78125 74.21875 \nQ 42.671875 74.21875 48.875 69.140625 \nQ 55.078125 64.0625 55.078125 55.328125 \nQ 55.078125 49.078125 51.53125 44.71875 \nQ 48 40.375 41.703125 38.8125 \nQ 48.828125 37.15625 52.796875 32.3125 \nQ 56.78125 27.484375 56.78125 20.515625 \nQ 56.78125 9.90625 50.3125 4.234375 \nQ 43.84375 -1.421875 31.78125 -1.421875 \nQ 19.734375 -1.421875 13.25 4.234375 \nQ 6.78125 9.90625 6.78125 20.515625 \nQ 6.78125 27.484375 10.78125 32.3125 \nQ 14.796875 37.15625 21.921875 38.8125 \nz\nM 18.3125 54.390625 \nQ 18.3125 48.734375 21.84375 45.5625 \nQ 25.390625 42.390625 31.78125 42.390625 \nQ 38.140625 42.390625 41.71875 45.5625 \nQ 45.3125 48.734375 45.3125 54.390625 \nQ 45.3125 60.0625 41.71875 63.234375 \nQ 38.140625 66.40625 31.78125 66.40625 \nQ 25.390625 66.40625 21.84375 63.234375 \nQ 18.3125 60.0625 18.3125 54.390625 \nz\n\" id=\"DejaVuSans-56\"/>\n       </defs>\n       <use xlink:href=\"#DejaVuSans-56\"/>\n       <use x=\"63.623047\" xlink:href=\"#DejaVuSans-48\"/>\n      </g>\n     </g>\n    </g>\n    <g id=\"ytick_6\">\n     <g id=\"line2d_13\">\n      <g>\n       <use style=\"stroke:#000000;stroke-width:0.8;\" x=\"46.965625\" xlink:href=\"#m8d86998fa1\" y=\"32.749107\"/>\n      </g>\n     </g>\n     <g id=\"text_14\">\n      <!-- 100 -->\n      <g transform=\"translate(20.878125 36.548326)scale(0.1 -0.1)\">\n       <use xlink:href=\"#DejaVuSans-49\"/>\n       <use x=\"63.623047\" xlink:href=\"#DejaVuSans-48\"/>\n       <use x=\"127.246094\" xlink:href=\"#DejaVuSans-48\"/>\n      </g>\n     </g>\n    </g>\n    <g id=\"text_15\">\n     <!-- Accuracy -->\n     <g transform=\"translate(14.798438 138.748125)rotate(-90)scale(0.1 -0.1)\">\n      <defs>\n       <path d=\"M 34.1875 63.1875 \nL 20.796875 26.90625 \nL 47.609375 26.90625 \nz\nM 28.609375 72.90625 \nL 39.796875 72.90625 \nL 67.578125 0 \nL 57.328125 0 \nL 50.6875 18.703125 \nL 17.828125 18.703125 \nL 11.1875 0 \nL 0.78125 0 \nz\n\" id=\"DejaVuSans-65\"/>\n       <path d=\"M 8.5 21.578125 \nL 8.5 54.6875 \nL 17.484375 54.6875 \nL 17.484375 21.921875 \nQ 17.484375 14.15625 20.5 10.265625 \nQ 23.53125 6.390625 29.59375 6.390625 \nQ 36.859375 6.390625 41.078125 11.03125 \nQ 45.3125 15.671875 45.3125 23.6875 \nL 45.3125 54.6875 \nL 54.296875 54.6875 \nL 54.296875 0 \nL 45.3125 0 \nL 45.3125 8.40625 \nQ 42.046875 3.421875 37.71875 1 \nQ 33.40625 -1.421875 27.6875 -1.421875 \nQ 18.265625 -1.421875 13.375 4.4375 \nQ 8.5 10.296875 8.5 21.578125 \nz\nM 31.109375 56 \nz\n\" id=\"DejaVuSans-117\"/>\n       <path d=\"M 41.109375 46.296875 \nQ 39.59375 47.171875 37.8125 47.578125 \nQ 36.03125 48 33.890625 48 \nQ 26.265625 48 22.1875 43.046875 \nQ 18.109375 38.09375 18.109375 28.8125 \nL 18.109375 0 \nL 9.078125 0 \nL 9.078125 54.6875 \nL 18.109375 54.6875 \nL 18.109375 46.1875 \nQ 20.953125 51.171875 25.484375 53.578125 \nQ 30.03125 56 36.53125 56 \nQ 37.453125 56 38.578125 55.875 \nQ 39.703125 55.765625 41.0625 55.515625 \nz\n\" id=\"DejaVuSans-114\"/>\n       <path d=\"M 34.28125 27.484375 \nQ 23.390625 27.484375 19.1875 25 \nQ 14.984375 22.515625 14.984375 16.5 \nQ 14.984375 11.71875 18.140625 8.90625 \nQ 21.296875 6.109375 26.703125 6.109375 \nQ 34.1875 6.109375 38.703125 11.40625 \nQ 43.21875 16.703125 43.21875 25.484375 \nL 43.21875 27.484375 \nz\nM 52.203125 31.203125 \nL 52.203125 0 \nL 43.21875 0 \nL 43.21875 8.296875 \nQ 40.140625 3.328125 35.546875 0.953125 \nQ 30.953125 -1.421875 24.3125 -1.421875 \nQ 15.921875 -1.421875 10.953125 3.296875 \nQ 6 8.015625 6 15.921875 \nQ 6 25.140625 12.171875 29.828125 \nQ 18.359375 34.515625 30.609375 34.515625 \nL 43.21875 34.515625 \nL 43.21875 35.40625 \nQ 43.21875 41.609375 39.140625 45 \nQ 35.0625 48.390625 27.6875 48.390625 \nQ 23 48.390625 18.546875 47.265625 \nQ 14.109375 46.140625 10.015625 43.890625 \nL 10.015625 52.203125 \nQ 14.9375 54.109375 19.578125 55.046875 \nQ 24.21875 56 28.609375 56 \nQ 40.484375 56 46.34375 49.84375 \nQ 52.203125 43.703125 52.203125 31.203125 \nz\n\" id=\"DejaVuSans-97\"/>\n       <path d=\"M 32.171875 -5.078125 \nQ 28.375 -14.84375 24.75 -17.8125 \nQ 21.140625 -20.796875 15.09375 -20.796875 \nL 7.90625 -20.796875 \nL 7.90625 -13.28125 \nL 13.1875 -13.28125 \nQ 16.890625 -13.28125 18.9375 -11.515625 \nQ 21 -9.765625 23.484375 -3.21875 \nL 25.09375 0.875 \nL 2.984375 54.6875 \nL 12.5 54.6875 \nL 29.59375 11.921875 \nL 46.6875 54.6875 \nL 56.203125 54.6875 \nz\n\" id=\"DejaVuSans-121\"/>\n      </defs>\n      <use xlink:href=\"#DejaVuSans-65\"/>\n      <use x=\"66.658203\" xlink:href=\"#DejaVuSans-99\"/>\n      <use x=\"121.638672\" xlink:href=\"#DejaVuSans-99\"/>\n      <use x=\"176.619141\" xlink:href=\"#DejaVuSans-117\"/>\n      <use x=\"239.998047\" xlink:href=\"#DejaVuSans-114\"/>\n      <use x=\"281.111328\" xlink:href=\"#DejaVuSans-97\"/>\n      <use x=\"342.390625\" xlink:href=\"#DejaVuSans-99\"/>\n      <use x=\"397.371094\" xlink:href=\"#DejaVuSans-121\"/>\n     </g>\n    </g>\n   </g>\n   <g id=\"line2d_14\">\n    <path clip-path=\"url(#p003bc98efb)\" d=\"M 61.953228 17.083636 \nL 62.955744 208.282943 \nL 75.988442 209.019212 \nL 88.018625 209.460308 \nL 103.056354 209.769302 \nL 124.109175 209.954259 \nL 167.217332 210.05493 \nL 320.602168 210.09541 \nL 361.705294 210.096513 \nL 361.705294 210.096513 \n\" style=\"fill:none;stroke:#0000ff;stroke-linecap:square;stroke-width:1.5;\"/>\n   </g>\n   <g id=\"line2d_15\">\n    <path clip-path=\"url(#p003bc98efb)\" d=\"M 61.953228 89.998124 \nL 62.955744 211.25341 \nL 76.990957 211.973503 \nL 90.023656 212.413982 \nL 105.061385 212.694705 \nL 127.116721 212.866863 \nL 173.232423 212.959102 \nL 361.705294 212.994929 \nL 361.705294 212.994929 \n\" style=\"fill:none;stroke:#0000ff;stroke-linecap:square;stroke-width:1.5;\"/>\n   </g>\n   <g id=\"line2d_16\">\n    <path clip-path=\"url(#p003bc98efb)\" d=\"M 61.953228 144.740217 \nL 62.955744 214.684245 \nL 93.031202 214.755875 \nL 361.705294 214.756295 \nL 361.705294 214.756295 \n\" style=\"fill:none;stroke:#0000ff;stroke-linecap:square;stroke-width:1.5;\"/>\n   </g>\n   <g id=\"line2d_17\">\n    <path clip-path=\"url(#p003bc98efb)\" d=\"M 61.953228 208.251677 \nL 74.985927 208.993766 \nL 88.018625 209.468282 \nL 103.056354 209.767632 \nL 125.11169 209.950235 \nL 167.217332 210.038511 \nL 284.511619 210.060784 \nL 361.705294 210.052888 \nL 361.705294 210.052888 \n\" style=\"fill:none;stroke:#008000;stroke-linecap:square;stroke-width:1.5;\"/>\n   </g>\n   <g id=\"line2d_18\">\n    <path clip-path=\"url(#p003bc98efb)\" d=\"M 61.953228 211.225059 \nL 75.988442 211.952249 \nL 89.021141 212.399065 \nL 104.05887 212.684593 \nL 126.114206 212.858847 \nL 172.229908 212.946419 \nL 361.705294 212.956613 \nL 361.705294 212.956613 \n\" style=\"fill:none;stroke:#008000;stroke-linecap:square;stroke-width:1.5;\"/>\n   </g>\n   <g id=\"line2d_19\">\n    <path clip-path=\"url(#p003bc98efb)\" d=\"M 61.953228 214.681329 \nL 93.031202 214.750961 \nL 361.705294 214.750987 \nL 361.705294 214.750987 \n\" style=\"fill:none;stroke:#008000;stroke-linecap:square;stroke-width:1.5;\"/>\n   </g>\n   <g id=\"patch_3\">\n    <path d=\"M 46.965625 224.64 \nL 46.965625 7.2 \n\" style=\"fill:none;stroke:#000000;stroke-linecap:square;stroke-linejoin:miter;stroke-width:0.8;\"/>\n   </g>\n   <g id=\"patch_4\">\n    <path d=\"M 376.692898 224.64 \nL 376.692898 7.2 \n\" style=\"fill:none;stroke:#000000;stroke-linecap:square;stroke-linejoin:miter;stroke-width:0.8;\"/>\n   </g>\n   <g id=\"patch_5\">\n    <path d=\"M 46.965625 224.64 \nL 376.692898 224.64 \n\" style=\"fill:none;stroke:#000000;stroke-linecap:square;stroke-linejoin:miter;stroke-width:0.8;\"/>\n   </g>\n   <g id=\"patch_6\">\n    <path d=\"M 46.965625 7.2 \nL 376.692898 7.2 \n\" style=\"fill:none;stroke:#000000;stroke-linecap:square;stroke-linejoin:miter;stroke-width:0.8;\"/>\n   </g>\n  </g>\n  <g id=\"axes_2\">\n   <g id=\"patch_7\">\n    <path d=\"M 442.638352 224.64 \nL 772.365625 224.64 \nL 772.365625 7.2 \nL 442.638352 7.2 \nz\n\" style=\"fill:#ffffff;\"/>\n   </g>\n   <g id=\"matplotlib.axis_3\">\n    <g id=\"xtick_8\">\n     <g id=\"line2d_20\">\n      <g>\n       <use style=\"stroke:#000000;stroke-width:0.8;\" x=\"456.62344\" xlink:href=\"#mece5851668\" y=\"224.64\"/>\n      </g>\n     </g>\n     <g id=\"text_16\">\n      <!-- 0 -->\n      <g transform=\"translate(453.44219 239.238437)scale(0.1 -0.1)\">\n       <use xlink:href=\"#DejaVuSans-48\"/>\n      </g>\n     </g>\n    </g>\n    <g id=\"xtick_9\">\n     <g id=\"line2d_21\">\n      <g>\n       <use style=\"stroke:#000000;stroke-width:0.8;\" x=\"506.749204\" xlink:href=\"#mece5851668\" y=\"224.64\"/>\n      </g>\n     </g>\n     <g id=\"text_17\">\n      <!-- 50 -->\n      <g transform=\"translate(500.386704 239.238437)scale(0.1 -0.1)\">\n       <use xlink:href=\"#DejaVuSans-53\"/>\n       <use x=\"63.623047\" xlink:href=\"#DejaVuSans-48\"/>\n      </g>\n     </g>\n    </g>\n    <g id=\"xtick_10\">\n     <g id=\"line2d_22\">\n      <g>\n       <use style=\"stroke:#000000;stroke-width:0.8;\" x=\"556.874967\" xlink:href=\"#mece5851668\" y=\"224.64\"/>\n      </g>\n     </g>\n     <g id=\"text_18\">\n      <!-- 100 -->\n      <g transform=\"translate(547.331217 239.238437)scale(0.1 -0.1)\">\n       <use xlink:href=\"#DejaVuSans-49\"/>\n       <use x=\"63.623047\" xlink:href=\"#DejaVuSans-48\"/>\n       <use x=\"127.246094\" xlink:href=\"#DejaVuSans-48\"/>\n      </g>\n     </g>\n    </g>\n    <g id=\"xtick_11\">\n     <g id=\"line2d_23\">\n      <g>\n       <use style=\"stroke:#000000;stroke-width:0.8;\" x=\"607.000731\" xlink:href=\"#mece5851668\" y=\"224.64\"/>\n      </g>\n     </g>\n     <g id=\"text_19\">\n      <!-- 150 -->\n      <g transform=\"translate(597.456981 239.238437)scale(0.1 -0.1)\">\n       <use xlink:href=\"#DejaVuSans-49\"/>\n       <use x=\"63.623047\" xlink:href=\"#DejaVuSans-53\"/>\n       <use x=\"127.246094\" xlink:href=\"#DejaVuSans-48\"/>\n      </g>\n     </g>\n    </g>\n    <g id=\"xtick_12\">\n     <g id=\"line2d_24\">\n      <g>\n       <use style=\"stroke:#000000;stroke-width:0.8;\" x=\"657.126495\" xlink:href=\"#mece5851668\" y=\"224.64\"/>\n      </g>\n     </g>\n     <g id=\"text_20\">\n      <!-- 200 -->\n      <g transform=\"translate(647.582745 239.238437)scale(0.1 -0.1)\">\n       <use xlink:href=\"#DejaVuSans-50\"/>\n       <use x=\"63.623047\" xlink:href=\"#DejaVuSans-48\"/>\n       <use x=\"127.246094\" xlink:href=\"#DejaVuSans-48\"/>\n      </g>\n     </g>\n    </g>\n    <g id=\"xtick_13\">\n     <g id=\"line2d_25\">\n      <g>\n       <use style=\"stroke:#000000;stroke-width:0.8;\" x=\"707.252258\" xlink:href=\"#mece5851668\" y=\"224.64\"/>\n      </g>\n     </g>\n     <g id=\"text_21\">\n      <!-- 250 -->\n      <g transform=\"translate(697.708508 239.238437)scale(0.1 -0.1)\">\n       <use xlink:href=\"#DejaVuSans-50\"/>\n       <use x=\"63.623047\" xlink:href=\"#DejaVuSans-53\"/>\n       <use x=\"127.246094\" xlink:href=\"#DejaVuSans-48\"/>\n      </g>\n     </g>\n    </g>\n    <g id=\"xtick_14\">\n     <g id=\"line2d_26\">\n      <g>\n       <use style=\"stroke:#000000;stroke-width:0.8;\" x=\"757.378022\" xlink:href=\"#mece5851668\" y=\"224.64\"/>\n      </g>\n     </g>\n     <g id=\"text_22\">\n      <!-- 300 -->\n      <g transform=\"translate(747.834272 239.238437)scale(0.1 -0.1)\">\n       <use xlink:href=\"#DejaVuSans-51\"/>\n       <use x=\"63.623047\" xlink:href=\"#DejaVuSans-48\"/>\n       <use x=\"127.246094\" xlink:href=\"#DejaVuSans-48\"/>\n      </g>\n     </g>\n    </g>\n   </g>\n   <g id=\"matplotlib.axis_4\">\n    <g id=\"ytick_7\">\n     <g id=\"line2d_27\">\n      <g>\n       <use style=\"stroke:#000000;stroke-width:0.8;\" x=\"442.638352\" xlink:href=\"#m8d86998fa1\" y=\"199.374545\"/>\n      </g>\n     </g>\n     <g id=\"text_23\">\n      <!-- 0.10 -->\n      <g transform=\"translate(413.372727 203.173764)scale(0.1 -0.1)\">\n       <defs>\n        <path d=\"M 10.6875 12.40625 \nL 21 12.40625 \nL 21 0 \nL 10.6875 0 \nz\n\" id=\"DejaVuSans-46\"/>\n       </defs>\n       <use xlink:href=\"#DejaVuSans-48\"/>\n       <use x=\"63.623047\" xlink:href=\"#DejaVuSans-46\"/>\n       <use x=\"95.410156\" xlink:href=\"#DejaVuSans-49\"/>\n       <use x=\"159.033203\" xlink:href=\"#DejaVuSans-48\"/>\n      </g>\n     </g>\n    </g>\n    <g id=\"ytick_8\">\n     <g id=\"line2d_28\">\n      <g>\n       <use style=\"stroke:#000000;stroke-width:0.8;\" x=\"442.638352\" xlink:href=\"#m8d86998fa1\" y=\"157.974543\"/>\n      </g>\n     </g>\n     <g id=\"text_24\">\n      <!-- 0.15 -->\n      <g transform=\"translate(413.372727 161.773762)scale(0.1 -0.1)\">\n       <use xlink:href=\"#DejaVuSans-48\"/>\n       <use x=\"63.623047\" xlink:href=\"#DejaVuSans-46\"/>\n       <use x=\"95.410156\" xlink:href=\"#DejaVuSans-49\"/>\n       <use x=\"159.033203\" xlink:href=\"#DejaVuSans-53\"/>\n      </g>\n     </g>\n    </g>\n    <g id=\"ytick_9\">\n     <g id=\"line2d_29\">\n      <g>\n       <use style=\"stroke:#000000;stroke-width:0.8;\" x=\"442.638352\" xlink:href=\"#m8d86998fa1\" y=\"116.574542\"/>\n      </g>\n     </g>\n     <g id=\"text_25\">\n      <!-- 0.20 -->\n      <g transform=\"translate(413.372727 120.373761)scale(0.1 -0.1)\">\n       <use xlink:href=\"#DejaVuSans-48\"/>\n       <use x=\"63.623047\" xlink:href=\"#DejaVuSans-46\"/>\n       <use x=\"95.410156\" xlink:href=\"#DejaVuSans-50\"/>\n       <use x=\"159.033203\" xlink:href=\"#DejaVuSans-48\"/>\n      </g>\n     </g>\n    </g>\n    <g id=\"ytick_10\">\n     <g id=\"line2d_30\">\n      <g>\n       <use style=\"stroke:#000000;stroke-width:0.8;\" x=\"442.638352\" xlink:href=\"#m8d86998fa1\" y=\"75.17454\"/>\n      </g>\n     </g>\n     <g id=\"text_26\">\n      <!-- 0.25 -->\n      <g transform=\"translate(413.372727 78.973759)scale(0.1 -0.1)\">\n       <use xlink:href=\"#DejaVuSans-48\"/>\n       <use x=\"63.623047\" xlink:href=\"#DejaVuSans-46\"/>\n       <use x=\"95.410156\" xlink:href=\"#DejaVuSans-50\"/>\n       <use x=\"159.033203\" xlink:href=\"#DejaVuSans-53\"/>\n      </g>\n     </g>\n    </g>\n    <g id=\"ytick_11\">\n     <g id=\"line2d_31\">\n      <g>\n       <use style=\"stroke:#000000;stroke-width:0.8;\" x=\"442.638352\" xlink:href=\"#m8d86998fa1\" y=\"33.774539\"/>\n      </g>\n     </g>\n     <g id=\"text_27\">\n      <!-- 0.30 -->\n      <g transform=\"translate(413.372727 37.573758)scale(0.1 -0.1)\">\n       <use xlink:href=\"#DejaVuSans-48\"/>\n       <use x=\"63.623047\" xlink:href=\"#DejaVuSans-46\"/>\n       <use x=\"95.410156\" xlink:href=\"#DejaVuSans-51\"/>\n       <use x=\"159.033203\" xlink:href=\"#DejaVuSans-48\"/>\n      </g>\n     </g>\n    </g>\n   </g>\n   <g id=\"line2d_32\">\n    <path clip-path=\"url(#p39ffc06317)\" d=\"M 457.625956 214.756364 \nL 458.628471 182.029087 \nL 459.630986 168.28364 \nL 460.633501 151.919993 \nL 473.6662 151.919993 \nL 474.668715 133.592727 \nL 475.67123 111.992726 \nL 757.378022 111.992726 \nL 757.378022 111.992726 \n\" style=\"fill:none;stroke:#0000ff;stroke-linecap:square;stroke-width:1.5;\"/>\n   </g>\n   <g id=\"line2d_33\">\n    <path clip-path=\"url(#p39ffc06317)\" d=\"M 457.625956 60.938177 \nL 458.628471 17.083636 \nL 757.378022 17.083636 \nL 757.378022 17.083636 \n\" style=\"fill:none;stroke:#0000ff;stroke-linecap:square;stroke-width:1.5;\"/>\n   </g>\n   <g id=\"line2d_34\">\n    <path clip-path=\"url(#p39ffc06317)\" d=\"M 457.625956 151.368859 \nL 458.628471 151.368859 \nL 459.630986 173.605818 \nL 473.6662 173.605818 \nL 474.668715 93.814357 \nL 757.378022 93.814357 \nL 757.378022 93.814357 \n\" style=\"fill:none;stroke:#008000;stroke-linecap:square;stroke-width:1.5;\"/>\n   </g>\n   <g id=\"line2d_35\">\n    <path clip-path=\"url(#p39ffc06317)\" d=\"M 457.625956 21.871213 \nL 757.378022 21.871213 \nL 757.378022 21.871213 \n\" style=\"fill:none;stroke:#008000;stroke-linecap:square;stroke-width:1.5;\"/>\n   </g>\n   <g id=\"patch_8\">\n    <path d=\"M 442.638352 224.64 \nL 442.638352 7.2 \n\" style=\"fill:none;stroke:#000000;stroke-linecap:square;stroke-linejoin:miter;stroke-width:0.8;\"/>\n   </g>\n   <g id=\"patch_9\">\n    <path d=\"M 772.365625 224.64 \nL 772.365625 7.2 \n\" style=\"fill:none;stroke:#000000;stroke-linecap:square;stroke-linejoin:miter;stroke-width:0.8;\"/>\n   </g>\n   <g id=\"patch_10\">\n    <path d=\"M 442.638352 224.64 \nL 772.365625 224.64 \n\" style=\"fill:none;stroke:#000000;stroke-linecap:square;stroke-linejoin:miter;stroke-width:0.8;\"/>\n   </g>\n   <g id=\"patch_11\">\n    <path d=\"M 442.638352 7.2 \nL 772.365625 7.2 \n\" style=\"fill:none;stroke:#000000;stroke-linecap:square;stroke-linejoin:miter;stroke-width:0.8;\"/>\n   </g>\n   <g id=\"legend_1\">\n    <g id=\"patch_12\">\n     <path d=\"M 635.6875 219.64 \nL 765.365625 219.64 \nQ 767.365625 219.64 767.365625 217.64 \nL 767.365625 159.9275 \nQ 767.365625 157.9275 765.365625 157.9275 \nL 635.6875 157.9275 \nQ 633.6875 157.9275 633.6875 159.9275 \nL 633.6875 217.64 \nQ 633.6875 219.64 635.6875 219.64 \nz\n\" style=\"fill:#ffffff;opacity:0.8;stroke:#cccccc;stroke-linejoin:miter;\"/>\n    </g>\n    <g id=\"line2d_36\">\n     <path d=\"M 637.6875 166.025937 \nL 657.6875 166.025937 \n\" style=\"fill:none;stroke:#0000ff;stroke-linecap:square;stroke-width:1.5;\"/>\n    </g>\n    <g id=\"line2d_37\"/>\n    <g id=\"text_28\">\n     <!-- Training accuracy -->\n     <g transform=\"translate(665.6875 169.525937)scale(0.1 -0.1)\">\n      <defs>\n       <path d=\"M -0.296875 72.90625 \nL 61.375 72.90625 \nL 61.375 64.59375 \nL 35.5 64.59375 \nL 35.5 0 \nL 25.59375 0 \nL 25.59375 64.59375 \nL -0.296875 64.59375 \nz\n\" id=\"DejaVuSans-84\"/>\n       <path d=\"M 9.421875 54.6875 \nL 18.40625 54.6875 \nL 18.40625 0 \nL 9.421875 0 \nz\nM 9.421875 75.984375 \nL 18.40625 75.984375 \nL 18.40625 64.59375 \nL 9.421875 64.59375 \nz\n\" id=\"DejaVuSans-105\"/>\n       <path d=\"M 54.890625 33.015625 \nL 54.890625 0 \nL 45.90625 0 \nL 45.90625 32.71875 \nQ 45.90625 40.484375 42.875 44.328125 \nQ 39.84375 48.1875 33.796875 48.1875 \nQ 26.515625 48.1875 22.3125 43.546875 \nQ 18.109375 38.921875 18.109375 30.90625 \nL 18.109375 0 \nL 9.078125 0 \nL 9.078125 54.6875 \nL 18.109375 54.6875 \nL 18.109375 46.1875 \nQ 21.34375 51.125 25.703125 53.5625 \nQ 30.078125 56 35.796875 56 \nQ 45.21875 56 50.046875 50.171875 \nQ 54.890625 44.34375 54.890625 33.015625 \nz\n\" id=\"DejaVuSans-110\"/>\n       <path d=\"M 45.40625 27.984375 \nQ 45.40625 37.75 41.375 43.109375 \nQ 37.359375 48.484375 30.078125 48.484375 \nQ 22.859375 48.484375 18.828125 43.109375 \nQ 14.796875 37.75 14.796875 27.984375 \nQ 14.796875 18.265625 18.828125 12.890625 \nQ 22.859375 7.515625 30.078125 7.515625 \nQ 37.359375 7.515625 41.375 12.890625 \nQ 45.40625 18.265625 45.40625 27.984375 \nz\nM 54.390625 6.78125 \nQ 54.390625 -7.171875 48.1875 -13.984375 \nQ 42 -20.796875 29.203125 -20.796875 \nQ 24.46875 -20.796875 20.265625 -20.09375 \nQ 16.0625 -19.390625 12.109375 -17.921875 \nL 12.109375 -9.1875 \nQ 16.0625 -11.328125 19.921875 -12.34375 \nQ 23.78125 -13.375 27.78125 -13.375 \nQ 36.625 -13.375 41.015625 -8.765625 \nQ 45.40625 -4.15625 45.40625 5.171875 \nL 45.40625 9.625 \nQ 42.625 4.78125 38.28125 2.390625 \nQ 33.9375 0 27.875 0 \nQ 17.828125 0 11.671875 7.65625 \nQ 5.515625 15.328125 5.515625 27.984375 \nQ 5.515625 40.671875 11.671875 48.328125 \nQ 17.828125 56 27.875 56 \nQ 33.9375 56 38.28125 53.609375 \nQ 42.625 51.21875 45.40625 46.390625 \nL 45.40625 54.6875 \nL 54.390625 54.6875 \nz\n\" id=\"DejaVuSans-103\"/>\n       <path id=\"DejaVuSans-32\"/>\n      </defs>\n      <use xlink:href=\"#DejaVuSans-84\"/>\n      <use x=\"46.333984\" xlink:href=\"#DejaVuSans-114\"/>\n      <use x=\"87.447266\" xlink:href=\"#DejaVuSans-97\"/>\n      <use x=\"148.726562\" xlink:href=\"#DejaVuSans-105\"/>\n      <use x=\"176.509766\" xlink:href=\"#DejaVuSans-110\"/>\n      <use x=\"239.888672\" xlink:href=\"#DejaVuSans-105\"/>\n      <use x=\"267.671875\" xlink:href=\"#DejaVuSans-110\"/>\n      <use x=\"331.050781\" xlink:href=\"#DejaVuSans-103\"/>\n      <use x=\"394.527344\" xlink:href=\"#DejaVuSans-32\"/>\n      <use x=\"426.314453\" xlink:href=\"#DejaVuSans-97\"/>\n      <use x=\"487.59375\" xlink:href=\"#DejaVuSans-99\"/>\n      <use x=\"542.574219\" xlink:href=\"#DejaVuSans-99\"/>\n      <use x=\"597.554688\" xlink:href=\"#DejaVuSans-117\"/>\n      <use x=\"660.933594\" xlink:href=\"#DejaVuSans-114\"/>\n      <use x=\"702.046875\" xlink:href=\"#DejaVuSans-97\"/>\n      <use x=\"763.326172\" xlink:href=\"#DejaVuSans-99\"/>\n      <use x=\"818.306641\" xlink:href=\"#DejaVuSans-121\"/>\n     </g>\n    </g>\n    <g id=\"line2d_38\">\n     <path d=\"M 637.6875 180.704062 \nL 657.6875 180.704062 \n\" style=\"fill:none;stroke:#0000ff;stroke-linecap:square;stroke-width:1.5;\"/>\n    </g>\n    <g id=\"line2d_39\"/>\n    <g id=\"text_29\">\n     <!-- Training accuracy -->\n     <g transform=\"translate(665.6875 184.204062)scale(0.1 -0.1)\">\n      <use xlink:href=\"#DejaVuSans-84\"/>\n      <use x=\"46.333984\" xlink:href=\"#DejaVuSans-114\"/>\n      <use x=\"87.447266\" xlink:href=\"#DejaVuSans-97\"/>\n      <use x=\"148.726562\" xlink:href=\"#DejaVuSans-105\"/>\n      <use x=\"176.509766\" xlink:href=\"#DejaVuSans-110\"/>\n      <use x=\"239.888672\" xlink:href=\"#DejaVuSans-105\"/>\n      <use x=\"267.671875\" xlink:href=\"#DejaVuSans-110\"/>\n      <use x=\"331.050781\" xlink:href=\"#DejaVuSans-103\"/>\n      <use x=\"394.527344\" xlink:href=\"#DejaVuSans-32\"/>\n      <use x=\"426.314453\" xlink:href=\"#DejaVuSans-97\"/>\n      <use x=\"487.59375\" xlink:href=\"#DejaVuSans-99\"/>\n      <use x=\"542.574219\" xlink:href=\"#DejaVuSans-99\"/>\n      <use x=\"597.554688\" xlink:href=\"#DejaVuSans-117\"/>\n      <use x=\"660.933594\" xlink:href=\"#DejaVuSans-114\"/>\n      <use x=\"702.046875\" xlink:href=\"#DejaVuSans-97\"/>\n      <use x=\"763.326172\" xlink:href=\"#DejaVuSans-99\"/>\n      <use x=\"818.306641\" xlink:href=\"#DejaVuSans-121\"/>\n     </g>\n    </g>\n    <g id=\"line2d_40\">\n     <path d=\"M 637.6875 195.382187 \nL 657.6875 195.382187 \n\" style=\"fill:none;stroke:#008000;stroke-linecap:square;stroke-width:1.5;\"/>\n    </g>\n    <g id=\"line2d_41\"/>\n    <g id=\"text_30\">\n     <!-- Validation accuracy -->\n     <g transform=\"translate(665.6875 198.882187)scale(0.1 -0.1)\">\n      <defs>\n       <path d=\"M 28.609375 0 \nL 0.78125 72.90625 \nL 11.078125 72.90625 \nL 34.1875 11.53125 \nL 57.328125 72.90625 \nL 67.578125 72.90625 \nL 39.796875 0 \nz\n\" id=\"DejaVuSans-86\"/>\n       <path d=\"M 9.421875 75.984375 \nL 18.40625 75.984375 \nL 18.40625 0 \nL 9.421875 0 \nz\n\" id=\"DejaVuSans-108\"/>\n       <path d=\"M 45.40625 46.390625 \nL 45.40625 75.984375 \nL 54.390625 75.984375 \nL 54.390625 0 \nL 45.40625 0 \nL 45.40625 8.203125 \nQ 42.578125 3.328125 38.25 0.953125 \nQ 33.9375 -1.421875 27.875 -1.421875 \nQ 17.96875 -1.421875 11.734375 6.484375 \nQ 5.515625 14.40625 5.515625 27.296875 \nQ 5.515625 40.1875 11.734375 48.09375 \nQ 17.96875 56 27.875 56 \nQ 33.9375 56 38.25 53.625 \nQ 42.578125 51.265625 45.40625 46.390625 \nz\nM 14.796875 27.296875 \nQ 14.796875 17.390625 18.875 11.75 \nQ 22.953125 6.109375 30.078125 6.109375 \nQ 37.203125 6.109375 41.296875 11.75 \nQ 45.40625 17.390625 45.40625 27.296875 \nQ 45.40625 37.203125 41.296875 42.84375 \nQ 37.203125 48.484375 30.078125 48.484375 \nQ 22.953125 48.484375 18.875 42.84375 \nQ 14.796875 37.203125 14.796875 27.296875 \nz\n\" id=\"DejaVuSans-100\"/>\n       <path d=\"M 18.3125 70.21875 \nL 18.3125 54.6875 \nL 36.8125 54.6875 \nL 36.8125 47.703125 \nL 18.3125 47.703125 \nL 18.3125 18.015625 \nQ 18.3125 11.328125 20.140625 9.421875 \nQ 21.96875 7.515625 27.59375 7.515625 \nL 36.8125 7.515625 \nL 36.8125 0 \nL 27.59375 0 \nQ 17.1875 0 13.234375 3.875 \nQ 9.28125 7.765625 9.28125 18.015625 \nL 9.28125 47.703125 \nL 2.6875 47.703125 \nL 2.6875 54.6875 \nL 9.28125 54.6875 \nL 9.28125 70.21875 \nz\n\" id=\"DejaVuSans-116\"/>\n      </defs>\n      <use xlink:href=\"#DejaVuSans-86\"/>\n      <use x=\"60.658203\" xlink:href=\"#DejaVuSans-97\"/>\n      <use x=\"121.9375\" xlink:href=\"#DejaVuSans-108\"/>\n      <use x=\"149.720703\" xlink:href=\"#DejaVuSans-105\"/>\n      <use x=\"177.503906\" xlink:href=\"#DejaVuSans-100\"/>\n      <use x=\"240.980469\" xlink:href=\"#DejaVuSans-97\"/>\n      <use x=\"302.259766\" xlink:href=\"#DejaVuSans-116\"/>\n      <use x=\"341.46875\" xlink:href=\"#DejaVuSans-105\"/>\n      <use x=\"369.251953\" xlink:href=\"#DejaVuSans-111\"/>\n      <use x=\"430.433594\" xlink:href=\"#DejaVuSans-110\"/>\n      <use x=\"493.8125\" xlink:href=\"#DejaVuSans-32\"/>\n      <use x=\"525.599609\" xlink:href=\"#DejaVuSans-97\"/>\n      <use x=\"586.878906\" xlink:href=\"#DejaVuSans-99\"/>\n      <use x=\"641.859375\" xlink:href=\"#DejaVuSans-99\"/>\n      <use x=\"696.839844\" xlink:href=\"#DejaVuSans-117\"/>\n      <use x=\"760.21875\" xlink:href=\"#DejaVuSans-114\"/>\n      <use x=\"801.332031\" xlink:href=\"#DejaVuSans-97\"/>\n      <use x=\"862.611328\" xlink:href=\"#DejaVuSans-99\"/>\n      <use x=\"917.591797\" xlink:href=\"#DejaVuSans-121\"/>\n     </g>\n    </g>\n    <g id=\"line2d_42\">\n     <path d=\"M 637.6875 210.060312 \nL 657.6875 210.060312 \n\" style=\"fill:none;stroke:#008000;stroke-linecap:square;stroke-width:1.5;\"/>\n    </g>\n    <g id=\"line2d_43\"/>\n    <g id=\"text_31\">\n     <!-- Validation accuracy -->\n     <g transform=\"translate(665.6875 213.560312)scale(0.1 -0.1)\">\n      <use xlink:href=\"#DejaVuSans-86\"/>\n      <use x=\"60.658203\" xlink:href=\"#DejaVuSans-97\"/>\n      <use x=\"121.9375\" xlink:href=\"#DejaVuSans-108\"/>\n      <use x=\"149.720703\" xlink:href=\"#DejaVuSans-105\"/>\n      <use x=\"177.503906\" xlink:href=\"#DejaVuSans-100\"/>\n      <use x=\"240.980469\" xlink:href=\"#DejaVuSans-97\"/>\n      <use x=\"302.259766\" xlink:href=\"#DejaVuSans-116\"/>\n      <use x=\"341.46875\" xlink:href=\"#DejaVuSans-105\"/>\n      <use x=\"369.251953\" xlink:href=\"#DejaVuSans-111\"/>\n      <use x=\"430.433594\" xlink:href=\"#DejaVuSans-110\"/>\n      <use x=\"493.8125\" xlink:href=\"#DejaVuSans-32\"/>\n      <use x=\"525.599609\" xlink:href=\"#DejaVuSans-97\"/>\n      <use x=\"586.878906\" xlink:href=\"#DejaVuSans-99\"/>\n      <use x=\"641.859375\" xlink:href=\"#DejaVuSans-99\"/>\n      <use x=\"696.839844\" xlink:href=\"#DejaVuSans-117\"/>\n      <use x=\"760.21875\" xlink:href=\"#DejaVuSans-114\"/>\n      <use x=\"801.332031\" xlink:href=\"#DejaVuSans-97\"/>\n      <use x=\"862.611328\" xlink:href=\"#DejaVuSans-99\"/>\n      <use x=\"917.591797\" xlink:href=\"#DejaVuSans-121\"/>\n     </g>\n    </g>\n   </g>\n  </g>\n </g>\n <defs>\n  <clipPath id=\"p003bc98efb\">\n   <rect height=\"217.44\" width=\"329.727273\" x=\"46.965625\" y=\"7.2\"/>\n  </clipPath>\n  <clipPath id=\"p39ffc06317\">\n   <rect height=\"217.44\" width=\"329.727273\" x=\"442.638352\" y=\"7.2\"/>\n  </clipPath>\n </defs>\n</svg>\n",
            "image/png": "[encoded data removed]"
          },
          "metadata": {
            "needs_background": "light"
          }
        }
      ]
    },
    {
      "cell_type": "code",
      "metadata": {
        "id": "5-JwcemBBt3B"
      },
      "source": [
        "yTest = yTest1\n",
        "predictions = np.argmax(model.predict(xTest1),axis=1).reshape(yTest[:,:,toTrain].shape)\n",
        "print(f\"Précision '{yColumnNames[toTrain]}': {(predictions == yTest[:,:,toTrain]).sum()/len(yTest)*100:.2f}%\")"
      ],
      "execution_count": 103,
      "outputs": [
        {
          "output_type": "stream",
          "name": "stdout",
          "text": [
            "Précision 'wait_time': 32.23%\n"
          ]
        }
      ]
    },
    {
      "cell_type": "code",
      "metadata": {
        "id": "w-J2c9KJBt3E"
      },
      "source": [
        "SLICE_START = 200\n",
        "SLICE_SIZE = 50\n",
        "SLICE_END = SLICE_START + SLICE_SIZE\n",
        "\n",
        "plt.plot(yTest[SLICE_START:SLICE_END,:,toTrain],label='expected')\n",
        "plt.plot(predictions[SLICE_START:SLICE_END,0],color='r',label='predicted')\n",
        "\n",
        "fig.legend()\n",
        "fig.show()"
      ],
      "execution_count": 104,
      "outputs": [
        {
          "output_type": "stream",
          "name": "stderr",
          "text": [
            "<ipython-input-104-08e4aacd4a59>:9: UserWarning: Matplotlib is currently using module://ipykernel.pylab.backend_inline, which is a non-GUI backend, so cannot show the figure.\n  fig.show()\n"
          ]
        },
        {
          "output_type": "display_data",
          "data": {
            "text/plain": "<Figure size 432x288 with 1 Axes>",
            "image/svg+xml": "<?xml version=\"1.0\" encoding=\"utf-8\" standalone=\"no\"?>\n<!DOCTYPE svg PUBLIC \"-//W3C//DTD SVG 1.1//EN\"\n  \"http://www.w3.org/Graphics/SVG/1.1/DTD/svg11.dtd\">\n<!-- Created with matplotlib (https://matplotlib.org/) -->\n<svg height=\"248.518125pt\" version=\"1.1\" viewBox=\"0 0 372.103125 248.518125\" width=\"372.103125pt\" xmlns=\"http://www.w3.org/2000/svg\" xmlns:xlink=\"http://www.w3.org/1999/xlink\">\n <metadata>\n  <rdf:RDF xmlns:cc=\"http://creativecommons.org/ns#\" xmlns:dc=\"http://purl.org/dc/elements/1.1/\" xmlns:rdf=\"http://www.w3.org/1999/02/22-rdf-syntax-ns#\">\n   <cc:Work>\n    <dc:type rdf:resource=\"http://purl.org/dc/dcmitype/StillImage\"/>\n    <dc:date>2021-01-19T16:24:30.372214</dc:date>\n    <dc:format>image/svg+xml</dc:format>\n    <dc:creator>\n     <cc:Agent>\n      <dc:title>Matplotlib v3.3.3, https://matplotlib.org/</dc:title>\n     </cc:Agent>\n    </dc:creator>\n   </cc:Work>\n  </rdf:RDF>\n </metadata>\n <defs>\n  <style type=\"text/css\">*{stroke-linecap:butt;stroke-linejoin:round;}</style>\n </defs>\n <g id=\"figure_1\">\n  <g id=\"patch_1\">\n   <path d=\"M 0 248.518125 \nL 372.103125 248.518125 \nL 372.103125 0 \nL 0 0 \nz\n\" style=\"fill:none;\"/>\n  </g>\n  <g id=\"axes_1\">\n   <g id=\"patch_2\">\n    <path d=\"M 30.103125 224.64 \nL 364.903125 224.64 \nL 364.903125 7.2 \nL 30.103125 7.2 \nz\n\" style=\"fill:#ffffff;\"/>\n   </g>\n   <g id=\"matplotlib.axis_1\">\n    <g id=\"xtick_1\">\n     <g id=\"line2d_1\">\n      <defs>\n       <path d=\"M 0 0 \nL 0 3.5 \n\" id=\"m33a28976f8\" style=\"stroke:#000000;stroke-width:0.8;\"/>\n      </defs>\n      <g>\n       <use style=\"stroke:#000000;stroke-width:0.8;\" x=\"45.321307\" xlink:href=\"#m33a28976f8\" y=\"224.64\"/>\n      </g>\n     </g>\n     <g id=\"text_1\">\n      <!-- 0 -->\n      <g transform=\"translate(42.140057 239.238437)scale(0.1 -0.1)\">\n       <defs>\n        <path d=\"M 31.78125 66.40625 \nQ 24.171875 66.40625 20.328125 58.90625 \nQ 16.5 51.421875 16.5 36.375 \nQ 16.5 21.390625 20.328125 13.890625 \nQ 24.171875 6.390625 31.78125 6.390625 \nQ 39.453125 6.390625 43.28125 13.890625 \nQ 47.125 21.390625 47.125 36.375 \nQ 47.125 51.421875 43.28125 58.90625 \nQ 39.453125 66.40625 31.78125 66.40625 \nz\nM 31.78125 74.21875 \nQ 44.046875 74.21875 50.515625 64.515625 \nQ 56.984375 54.828125 56.984375 36.375 \nQ 56.984375 17.96875 50.515625 8.265625 \nQ 44.046875 -1.421875 31.78125 -1.421875 \nQ 19.53125 -1.421875 13.0625 8.265625 \nQ 6.59375 17.96875 6.59375 36.375 \nQ 6.59375 54.828125 13.0625 64.515625 \nQ 19.53125 74.21875 31.78125 74.21875 \nz\n\" id=\"DejaVuSans-48\"/>\n       </defs>\n       <use xlink:href=\"#DejaVuSans-48\"/>\n      </g>\n     </g>\n    </g>\n    <g id=\"xtick_2\">\n     <g id=\"line2d_2\">\n      <g>\n       <use style=\"stroke:#000000;stroke-width:0.8;\" x=\"107.436335\" xlink:href=\"#m33a28976f8\" y=\"224.64\"/>\n      </g>\n     </g>\n     <g id=\"text_2\">\n      <!-- 10 -->\n      <g transform=\"translate(101.073835 239.238437)scale(0.1 -0.1)\">\n       <defs>\n        <path d=\"M 12.40625 8.296875 \nL 28.515625 8.296875 \nL 28.515625 63.921875 \nL 10.984375 60.40625 \nL 10.984375 69.390625 \nL 28.421875 72.90625 \nL 38.28125 72.90625 \nL 38.28125 8.296875 \nL 54.390625 8.296875 \nL 54.390625 0 \nL 12.40625 0 \nz\n\" id=\"DejaVuSans-49\"/>\n       </defs>\n       <use xlink:href=\"#DejaVuSans-49\"/>\n       <use x=\"63.623047\" xlink:href=\"#DejaVuSans-48\"/>\n      </g>\n     </g>\n    </g>\n    <g id=\"xtick_3\">\n     <g id=\"line2d_3\">\n      <g>\n       <use style=\"stroke:#000000;stroke-width:0.8;\" x=\"169.551362\" xlink:href=\"#m33a28976f8\" y=\"224.64\"/>\n      </g>\n     </g>\n     <g id=\"text_3\">\n      <!-- 20 -->\n      <g transform=\"translate(163.188862 239.238437)scale(0.1 -0.1)\">\n       <defs>\n        <path d=\"M 19.1875 8.296875 \nL 53.609375 8.296875 \nL 53.609375 0 \nL 7.328125 0 \nL 7.328125 8.296875 \nQ 12.9375 14.109375 22.625 23.890625 \nQ 32.328125 33.6875 34.8125 36.53125 \nQ 39.546875 41.84375 41.421875 45.53125 \nQ 43.3125 49.21875 43.3125 52.78125 \nQ 43.3125 58.59375 39.234375 62.25 \nQ 35.15625 65.921875 28.609375 65.921875 \nQ 23.96875 65.921875 18.8125 64.3125 \nQ 13.671875 62.703125 7.8125 59.421875 \nL 7.8125 69.390625 \nQ 13.765625 71.78125 18.9375 73 \nQ 24.125 74.21875 28.421875 74.21875 \nQ 39.75 74.21875 46.484375 68.546875 \nQ 53.21875 62.890625 53.21875 53.421875 \nQ 53.21875 48.921875 51.53125 44.890625 \nQ 49.859375 40.875 45.40625 35.40625 \nQ 44.1875 33.984375 37.640625 27.21875 \nQ 31.109375 20.453125 19.1875 8.296875 \nz\n\" id=\"DejaVuSans-50\"/>\n       </defs>\n       <use xlink:href=\"#DejaVuSans-50\"/>\n       <use x=\"63.623047\" xlink:href=\"#DejaVuSans-48\"/>\n      </g>\n     </g>\n    </g>\n    <g id=\"xtick_4\">\n     <g id=\"line2d_4\">\n      <g>\n       <use style=\"stroke:#000000;stroke-width:0.8;\" x=\"231.66639\" xlink:href=\"#m33a28976f8\" y=\"224.64\"/>\n      </g>\n     </g>\n     <g id=\"text_4\">\n      <!-- 30 -->\n      <g transform=\"translate(225.30389 239.238437)scale(0.1 -0.1)\">\n       <defs>\n        <path d=\"M 40.578125 39.3125 \nQ 47.65625 37.796875 51.625 33 \nQ 55.609375 28.21875 55.609375 21.1875 \nQ 55.609375 10.40625 48.1875 4.484375 \nQ 40.765625 -1.421875 27.09375 -1.421875 \nQ 22.515625 -1.421875 17.65625 -0.515625 \nQ 12.796875 0.390625 7.625 2.203125 \nL 7.625 11.71875 \nQ 11.71875 9.328125 16.59375 8.109375 \nQ 21.484375 6.890625 26.8125 6.890625 \nQ 36.078125 6.890625 40.9375 10.546875 \nQ 45.796875 14.203125 45.796875 21.1875 \nQ 45.796875 27.640625 41.28125 31.265625 \nQ 36.765625 34.90625 28.71875 34.90625 \nL 20.21875 34.90625 \nL 20.21875 43.015625 \nL 29.109375 43.015625 \nQ 36.375 43.015625 40.234375 45.921875 \nQ 44.09375 48.828125 44.09375 54.296875 \nQ 44.09375 59.90625 40.109375 62.90625 \nQ 36.140625 65.921875 28.71875 65.921875 \nQ 24.65625 65.921875 20.015625 65.03125 \nQ 15.375 64.15625 9.8125 62.3125 \nL 9.8125 71.09375 \nQ 15.4375 72.65625 20.34375 73.4375 \nQ 25.25 74.21875 29.59375 74.21875 \nQ 40.828125 74.21875 47.359375 69.109375 \nQ 53.90625 64.015625 53.90625 55.328125 \nQ 53.90625 49.265625 50.4375 45.09375 \nQ 46.96875 40.921875 40.578125 39.3125 \nz\n\" id=\"DejaVuSans-51\"/>\n       </defs>\n       <use xlink:href=\"#DejaVuSans-51\"/>\n       <use x=\"63.623047\" xlink:href=\"#DejaVuSans-48\"/>\n      </g>\n     </g>\n    </g>\n    <g id=\"xtick_5\">\n     <g id=\"line2d_5\">\n      <g>\n       <use style=\"stroke:#000000;stroke-width:0.8;\" x=\"293.781418\" xlink:href=\"#m33a28976f8\" y=\"224.64\"/>\n      </g>\n     </g>\n     <g id=\"text_5\">\n      <!-- 40 -->\n      <g transform=\"translate(287.418918 239.238437)scale(0.1 -0.1)\">\n       <defs>\n        <path d=\"M 37.796875 64.3125 \nL 12.890625 25.390625 \nL 37.796875 25.390625 \nz\nM 35.203125 72.90625 \nL 47.609375 72.90625 \nL 47.609375 25.390625 \nL 58.015625 25.390625 \nL 58.015625 17.1875 \nL 47.609375 17.1875 \nL 47.609375 0 \nL 37.796875 0 \nL 37.796875 17.1875 \nL 4.890625 17.1875 \nL 4.890625 26.703125 \nz\n\" id=\"DejaVuSans-52\"/>\n       </defs>\n       <use xlink:href=\"#DejaVuSans-52\"/>\n       <use x=\"63.623047\" xlink:href=\"#DejaVuSans-48\"/>\n      </g>\n     </g>\n    </g>\n    <g id=\"xtick_6\">\n     <g id=\"line2d_6\">\n      <g>\n       <use style=\"stroke:#000000;stroke-width:0.8;\" x=\"355.896446\" xlink:href=\"#m33a28976f8\" y=\"224.64\"/>\n      </g>\n     </g>\n     <g id=\"text_6\">\n      <!-- 50 -->\n      <g transform=\"translate(349.533946 239.238437)scale(0.1 -0.1)\">\n       <defs>\n        <path d=\"M 10.796875 72.90625 \nL 49.515625 72.90625 \nL 49.515625 64.59375 \nL 19.828125 64.59375 \nL 19.828125 46.734375 \nQ 21.96875 47.46875 24.109375 47.828125 \nQ 26.265625 48.1875 28.421875 48.1875 \nQ 40.625 48.1875 47.75 41.5 \nQ 54.890625 34.8125 54.890625 23.390625 \nQ 54.890625 11.625 47.5625 5.09375 \nQ 40.234375 -1.421875 26.90625 -1.421875 \nQ 22.3125 -1.421875 17.546875 -0.640625 \nQ 12.796875 0.140625 7.71875 1.703125 \nL 7.71875 11.625 \nQ 12.109375 9.234375 16.796875 8.0625 \nQ 21.484375 6.890625 26.703125 6.890625 \nQ 35.15625 6.890625 40.078125 11.328125 \nQ 45.015625 15.765625 45.015625 23.390625 \nQ 45.015625 31 40.078125 35.4375 \nQ 35.15625 39.890625 26.703125 39.890625 \nQ 22.75 39.890625 18.8125 39.015625 \nQ 14.890625 38.140625 10.796875 36.28125 \nz\n\" id=\"DejaVuSans-53\"/>\n       </defs>\n       <use xlink:href=\"#DejaVuSans-53\"/>\n       <use x=\"63.623047\" xlink:href=\"#DejaVuSans-48\"/>\n      </g>\n     </g>\n    </g>\n   </g>\n   <g id=\"matplotlib.axis_2\">\n    <g id=\"ytick_1\">\n     <g id=\"line2d_7\">\n      <defs>\n       <path d=\"M 0 0 \nL -3.5 0 \n\" id=\"m0826b04ce3\" style=\"stroke:#000000;stroke-width:0.8;\"/>\n      </defs>\n      <g>\n       <use style=\"stroke:#000000;stroke-width:0.8;\" x=\"30.103125\" xlink:href=\"#m0826b04ce3\" y=\"214.756364\"/>\n      </g>\n     </g>\n     <g id=\"text_7\">\n      <!-- 0.0 -->\n      <g transform=\"translate(7.2 218.555582)scale(0.1 -0.1)\">\n       <defs>\n        <path d=\"M 10.6875 12.40625 \nL 21 12.40625 \nL 21 0 \nL 10.6875 0 \nz\n\" id=\"DejaVuSans-46\"/>\n       </defs>\n       <use xlink:href=\"#DejaVuSans-48\"/>\n       <use x=\"63.623047\" xlink:href=\"#DejaVuSans-46\"/>\n       <use x=\"95.410156\" xlink:href=\"#DejaVuSans-48\"/>\n      </g>\n     </g>\n    </g>\n    <g id=\"ytick_2\">\n     <g id=\"line2d_8\">\n      <g>\n       <use style=\"stroke:#000000;stroke-width:0.8;\" x=\"30.103125\" xlink:href=\"#m0826b04ce3\" y=\"190.047273\"/>\n      </g>\n     </g>\n     <g id=\"text_8\">\n      <!-- 0.5 -->\n      <g transform=\"translate(7.2 193.846491)scale(0.1 -0.1)\">\n       <use xlink:href=\"#DejaVuSans-48\"/>\n       <use x=\"63.623047\" xlink:href=\"#DejaVuSans-46\"/>\n       <use x=\"95.410156\" xlink:href=\"#DejaVuSans-53\"/>\n      </g>\n     </g>\n    </g>\n    <g id=\"ytick_3\">\n     <g id=\"line2d_9\">\n      <g>\n       <use style=\"stroke:#000000;stroke-width:0.8;\" x=\"30.103125\" xlink:href=\"#m0826b04ce3\" y=\"165.338182\"/>\n      </g>\n     </g>\n     <g id=\"text_9\">\n      <!-- 1.0 -->\n      <g transform=\"translate(7.2 169.137401)scale(0.1 -0.1)\">\n       <use xlink:href=\"#DejaVuSans-49\"/>\n       <use x=\"63.623047\" xlink:href=\"#DejaVuSans-46\"/>\n       <use x=\"95.410156\" xlink:href=\"#DejaVuSans-48\"/>\n      </g>\n     </g>\n    </g>\n    <g id=\"ytick_4\">\n     <g id=\"line2d_10\">\n      <g>\n       <use style=\"stroke:#000000;stroke-width:0.8;\" x=\"30.103125\" xlink:href=\"#m0826b04ce3\" y=\"140.629091\"/>\n      </g>\n     </g>\n     <g id=\"text_10\">\n      <!-- 1.5 -->\n      <g transform=\"translate(7.2 144.42831)scale(0.1 -0.1)\">\n       <use xlink:href=\"#DejaVuSans-49\"/>\n       <use x=\"63.623047\" xlink:href=\"#DejaVuSans-46\"/>\n       <use x=\"95.410156\" xlink:href=\"#DejaVuSans-53\"/>\n      </g>\n     </g>\n    </g>\n    <g id=\"ytick_5\">\n     <g id=\"line2d_11\">\n      <g>\n       <use style=\"stroke:#000000;stroke-width:0.8;\" x=\"30.103125\" xlink:href=\"#m0826b04ce3\" y=\"115.92\"/>\n      </g>\n     </g>\n     <g id=\"text_11\">\n      <!-- 2.0 -->\n      <g transform=\"translate(7.2 119.719219)scale(0.1 -0.1)\">\n       <use xlink:href=\"#DejaVuSans-50\"/>\n       <use x=\"63.623047\" xlink:href=\"#DejaVuSans-46\"/>\n       <use x=\"95.410156\" xlink:href=\"#DejaVuSans-48\"/>\n      </g>\n     </g>\n    </g>\n    <g id=\"ytick_6\">\n     <g id=\"line2d_12\">\n      <g>\n       <use style=\"stroke:#000000;stroke-width:0.8;\" x=\"30.103125\" xlink:href=\"#m0826b04ce3\" y=\"91.210909\"/>\n      </g>\n     </g>\n     <g id=\"text_12\">\n      <!-- 2.5 -->\n      <g transform=\"translate(7.2 95.010128)scale(0.1 -0.1)\">\n       <use xlink:href=\"#DejaVuSans-50\"/>\n       <use x=\"63.623047\" xlink:href=\"#DejaVuSans-46\"/>\n       <use x=\"95.410156\" xlink:href=\"#DejaVuSans-53\"/>\n      </g>\n     </g>\n    </g>\n    <g id=\"ytick_7\">\n     <g id=\"line2d_13\">\n      <g>\n       <use style=\"stroke:#000000;stroke-width:0.8;\" x=\"30.103125\" xlink:href=\"#m0826b04ce3\" y=\"66.501818\"/>\n      </g>\n     </g>\n     <g id=\"text_13\">\n      <!-- 3.0 -->\n      <g transform=\"translate(7.2 70.301037)scale(0.1 -0.1)\">\n       <use xlink:href=\"#DejaVuSans-51\"/>\n       <use x=\"63.623047\" xlink:href=\"#DejaVuSans-46\"/>\n       <use x=\"95.410156\" xlink:href=\"#DejaVuSans-48\"/>\n      </g>\n     </g>\n    </g>\n    <g id=\"ytick_8\">\n     <g id=\"line2d_14\">\n      <g>\n       <use style=\"stroke:#000000;stroke-width:0.8;\" x=\"30.103125\" xlink:href=\"#m0826b04ce3\" y=\"41.792727\"/>\n      </g>\n     </g>\n     <g id=\"text_14\">\n      <!-- 3.5 -->\n      <g transform=\"translate(7.2 45.591946)scale(0.1 -0.1)\">\n       <use xlink:href=\"#DejaVuSans-51\"/>\n       <use x=\"63.623047\" xlink:href=\"#DejaVuSans-46\"/>\n       <use x=\"95.410156\" xlink:href=\"#DejaVuSans-53\"/>\n      </g>\n     </g>\n    </g>\n    <g id=\"ytick_9\">\n     <g id=\"line2d_15\">\n      <g>\n       <use style=\"stroke:#000000;stroke-width:0.8;\" x=\"30.103125\" xlink:href=\"#m0826b04ce3\" y=\"17.083636\"/>\n      </g>\n     </g>\n     <g id=\"text_15\">\n      <!-- 4.0 -->\n      <g transform=\"translate(7.2 20.882855)scale(0.1 -0.1)\">\n       <use xlink:href=\"#DejaVuSans-52\"/>\n       <use x=\"63.623047\" xlink:href=\"#DejaVuSans-46\"/>\n       <use x=\"95.410156\" xlink:href=\"#DejaVuSans-48\"/>\n      </g>\n     </g>\n    </g>\n   </g>\n   <g id=\"line2d_16\">\n    <path clip-path=\"url(#pe11759eedf)\" d=\"M 45.321307 165.338182 \nL 51.53281 214.756364 \nL 57.744312 115.92 \nL 63.955815 115.92 \nL 70.167318 66.501818 \nL 76.378821 214.756364 \nL 82.590324 115.92 \nL 88.801826 17.083636 \nL 95.013329 17.083636 \nL 101.224832 165.338182 \nL 107.436335 66.501818 \nL 113.647837 66.501818 \nL 119.85934 214.756364 \nL 126.070843 214.756364 \nL 132.282346 115.92 \nL 138.493849 165.338182 \nL 144.705351 214.756364 \nL 150.916854 17.083636 \nL 157.128357 17.083636 \nL 163.33986 17.083636 \nL 169.551362 17.083636 \nL 175.762865 165.338182 \nL 181.974368 165.338182 \nL 188.185871 66.501818 \nL 194.397374 214.756364 \nL 200.608876 214.756364 \nL 206.820379 17.083636 \nL 213.031882 115.92 \nL 219.243385 214.756364 \nL 225.454888 17.083636 \nL 231.66639 17.083636 \nL 237.877893 66.501818 \nL 244.089396 17.083636 \nL 250.300899 165.338182 \nL 256.512401 17.083636 \nL 262.723904 115.92 \nL 268.935407 17.083636 \nL 275.14691 214.756364 \nL 281.358413 214.756364 \nL 287.569915 66.501818 \nL 293.781418 115.92 \nL 299.992921 17.083636 \nL 306.204424 214.756364 \nL 312.415926 17.083636 \nL 318.627429 17.083636 \nL 324.838932 115.92 \nL 331.050435 115.92 \nL 337.261938 115.92 \nL 343.47344 115.92 \nL 349.684943 115.92 \n\" style=\"fill:none;stroke:#1f77b4;stroke-linecap:square;stroke-width:1.5;\"/>\n   </g>\n   <g id=\"line2d_17\">\n    <path clip-path=\"url(#pe11759eedf)\" d=\"M 45.321307 214.756364 \nL 51.53281 17.083636 \nL 57.744312 17.083636 \nL 63.955815 17.083636 \nL 70.167318 17.083636 \nL 76.378821 17.083636 \nL 82.590324 17.083636 \nL 88.801826 214.756364 \nL 95.013329 17.083636 \nL 101.224832 17.083636 \nL 107.436335 214.756364 \nL 113.647837 17.083636 \nL 119.85934 17.083636 \nL 126.070843 17.083636 \nL 132.282346 17.083636 \nL 138.493849 17.083636 \nL 144.705351 17.083636 \nL 150.916854 17.083636 \nL 157.128357 17.083636 \nL 163.33986 17.083636 \nL 169.551362 17.083636 \nL 175.762865 17.083636 \nL 181.974368 17.083636 \nL 188.185871 17.083636 \nL 194.397374 17.083636 \nL 200.608876 17.083636 \nL 206.820379 17.083636 \nL 213.031882 17.083636 \nL 219.243385 17.083636 \nL 225.454888 17.083636 \nL 231.66639 17.083636 \nL 237.877893 17.083636 \nL 244.089396 17.083636 \nL 250.300899 17.083636 \nL 256.512401 17.083636 \nL 262.723904 17.083636 \nL 268.935407 17.083636 \nL 275.14691 17.083636 \nL 281.358413 17.083636 \nL 287.569915 17.083636 \nL 293.781418 17.083636 \nL 299.992921 17.083636 \nL 306.204424 17.083636 \nL 312.415926 17.083636 \nL 318.627429 17.083636 \nL 324.838932 17.083636 \nL 331.050435 17.083636 \nL 337.261938 17.083636 \nL 343.47344 17.083636 \nL 349.684943 17.083636 \n\" style=\"fill:none;stroke:#ff0000;stroke-linecap:square;stroke-width:1.5;\"/>\n   </g>\n   <g id=\"patch_3\">\n    <path d=\"M 30.103125 224.64 \nL 30.103125 7.2 \n\" style=\"fill:none;stroke:#000000;stroke-linecap:square;stroke-linejoin:miter;stroke-width:0.8;\"/>\n   </g>\n   <g id=\"patch_4\">\n    <path d=\"M 364.903125 224.64 \nL 364.903125 7.2 \n\" style=\"fill:none;stroke:#000000;stroke-linecap:square;stroke-linejoin:miter;stroke-width:0.8;\"/>\n   </g>\n   <g id=\"patch_5\">\n    <path d=\"M 30.103125 224.64 \nL 364.903125 224.64 \n\" style=\"fill:none;stroke:#000000;stroke-linecap:square;stroke-linejoin:miter;stroke-width:0.8;\"/>\n   </g>\n   <g id=\"patch_6\">\n    <path d=\"M 30.103125 7.2 \nL 364.903125 7.2 \n\" style=\"fill:none;stroke:#000000;stroke-linecap:square;stroke-linejoin:miter;stroke-width:0.8;\"/>\n   </g>\n  </g>\n </g>\n <defs>\n  <clipPath id=\"pe11759eedf\">\n   <rect height=\"217.44\" width=\"334.8\" x=\"30.103125\" y=\"7.2\"/>\n  </clipPath>\n </defs>\n</svg>\n",
            "image/png": "[encoded data removed]"
          },
          "metadata": {
            "needs_background": "light"
          }
        }
      ]
    },
    {
      "cell_type": "code",
      "metadata": {
        "id": "1jMCOmdoBt3F"
      },
      "source": [],
      "execution_count": null,
      "outputs": []
    }
  ]
}