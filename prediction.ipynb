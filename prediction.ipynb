{
 "metadata": {
  "language_info": {
   "codemirror_mode": {
    "name": "ipython",
    "version": 3
   },
   "file_extension": ".py",
   "mimetype": "text/x-python",
   "name": "python",
   "nbconvert_exporter": "python",
   "pygments_lexer": "ipython3",
   "version": "3.8.5-final"
  },
  "orig_nbformat": 2,
  "kernelspec": {
   "name": "python3",
   "display_name": "Python 3",
   "language": "python"
  }
 },
 "nbformat": 4,
 "nbformat_minor": 2,
 "cells": [
  {
   "cell_type": "code",
   "execution_count": 1,
   "metadata": {},
   "outputs": [],
   "source": [
    "import pandas as pd\n",
    "import numpy as np\n",
    "\n",
    "from matplotlib import pyplot as plt\n",
    "\n",
    "from sklearn.preprocessing import LabelEncoder\n",
    "\n",
    "from keras import layers\n",
    "from keras import models"
   ]
  },
  {
   "cell_type": "code",
   "execution_count": 2,
   "metadata": {},
   "outputs": [],
   "source": [
    "dateColumnNames = ['contact_date','Glycemie_der_date','HbA1c_der_date','der_date_poids','der_date_taille','first_contact_date']\n",
    "\n",
    "dfView = pd.read_csv('PatientsHTA.zip',nrows=1)\n",
    "df = pd.read_csv('PatientsHTA.zip',engine='c',parse_dates=dateColumnNames)"
   ]
  },
  {
   "source": [
    "# Suppression des lignes trop peu nombreuses"
   ],
   "cell_type": "markdown",
   "metadata": {}
  },
  {
   "source": [
    "Nous souhaitons faire un apprentissage en utilisant la dimension temporelle comme filtre pour le CNN. Pour ça il faut donc que nous ayons plusieurs entrée. Avant de commencer à traîter les données nous supprimons donc toutes les lignes qui n'ont pas plusieurs entrées de ```person_id```. Nous choisissons arbitrairement que pour être utile à l'apprentissage, il faut au moins 10 entrées dans cette colonne"
   ],
   "cell_type": "markdown",
   "metadata": {}
  },
  {
   "cell_type": "code",
   "execution_count": 3,
   "metadata": {},
   "outputs": [],
   "source": [
    "valueCounts = df.person_id.value_counts()\n",
    "dfEnought = df[df.person_id.isin(valueCounts[valueCounts.values >= 4].index)]"
   ]
  },
  {
   "source": [
    "# Suppression des colonnes innutiles"
   ],
   "cell_type": "markdown",
   "metadata": {}
  },
  {
   "source": [
    "## Suppression de ```Age_now```"
   ],
   "cell_type": "markdown",
   "metadata": {}
  },
  {
   "source": [
    "Nous pouvons supprimer la colonne ```Age_now``` car les données qu'elle contient sont identique à celles de la colonne ```year_of_birth```"
   ],
   "cell_type": "markdown",
   "metadata": {}
  },
  {
   "source": [
    "dfWithoutAgeNow = dfEnought.drop('Age_now', axis='columns')"
   ],
   "cell_type": "code",
   "metadata": {},
   "execution_count": 4,
   "outputs": []
  },
  {
   "source": [
    "## Suppression de ```contact_id```"
   ],
   "cell_type": "markdown",
   "metadata": {}
  },
  {
   "cell_type": "code",
   "execution_count": 5,
   "metadata": {},
   "outputs": [],
   "source": [
    "dfWithoutContactID = dfWithoutAgeNow.drop('contact_id',axis='columns')"
   ]
  },
  {
   "source": [
    "## Suppression des noms de médicaments"
   ],
   "cell_type": "markdown",
   "metadata": {}
  },
  {
   "cell_type": "code",
   "execution_count": 6,
   "metadata": {},
   "outputs": [
    {
     "output_type": "execute_result",
     "data": {
      "text/plain": [
       "                  molecule_label  short_name  long_name  Classe  product_atc\n",
       "product_atc_code                                                            \n",
       "C02AC06                     4288        4288       4288    4288         4288\n",
       "C03BX03                      932         932        932     932          932\n",
       "C03CA01                      877         877        877     877          877\n",
       "C03DA01                      187         187        187     187          187\n",
       "C03DA04                       27          27         27      27           27\n",
       "C03EA04                       75          75         75      75           75\n",
       "C03EB01                       14          14         14      14           14\n",
       "C07AA05                        2           2          2       2            2\n",
       "C07AB03                     6466        6466       6466    6466         6466\n",
       "C07AB04                       39          39         39      39           39\n",
       "C07AB07                     6765        6765       6765    6765         6765\n",
       "C07AB12                      509         509        509     509          509\n",
       "C07DB01                       10          10         10      10           10\n",
       "C08CA01                      679         679        679     679          679\n",
       "C08DB01                      108         108        108     108          108\n",
       "C09AA02                       50          50         50      50           50\n",
       "C09AA03                       47          47         47      47           47\n",
       "C09AA04                     1183        1183       1183    1183         1183\n",
       "C09AA05                      232         232        232     232          232\n",
       "C09AA06                       20          20         20      20           20\n",
       "C09BA02                       11          11         11      11           11\n",
       "C09BA04                      920         920        920     920          920\n",
       "C09CA01                      277         277        277     277          277\n",
       "C09CA03                     2702        2702       2702    2702         2702\n",
       "C09CA04                      618         618        618     618          618\n",
       "C09CA06                     1291        1291       1291    1291         1291\n",
       "C09CA07                      109         109        109     109          109\n",
       "C09DA01                      542         542        542     542          542\n",
       "C09DA03                     1834        1834       1834    1834         1834\n",
       "C09DA04                      581         581        581     581          581\n",
       "C09DB04                     5212        5212       5212    5212         5212\n",
       "C09XA02                       63          63         63      63           63\n",
       "C09XA52                      206         206        206     206          206"
      ],
      "text/html": "<div>\n<style scoped>\n    .dataframe tbody tr th:only-of-type {\n        vertical-align: middle;\n    }\n\n    .dataframe tbody tr th {\n        vertical-align: top;\n    }\n\n    .dataframe thead th {\n        text-align: right;\n    }\n</style>\n<table border=\"1\" class=\"dataframe\">\n  <thead>\n    <tr style=\"text-align: right;\">\n      <th></th>\n      <th>molecule_label</th>\n      <th>short_name</th>\n      <th>long_name</th>\n      <th>Classe</th>\n      <th>product_atc</th>\n    </tr>\n    <tr>\n      <th>product_atc_code</th>\n      <th></th>\n      <th></th>\n      <th></th>\n      <th></th>\n      <th></th>\n    </tr>\n  </thead>\n  <tbody>\n    <tr>\n      <th>C02AC06</th>\n      <td>4288</td>\n      <td>4288</td>\n      <td>4288</td>\n      <td>4288</td>\n      <td>4288</td>\n    </tr>\n    <tr>\n      <th>C03BX03</th>\n      <td>932</td>\n      <td>932</td>\n      <td>932</td>\n      <td>932</td>\n      <td>932</td>\n    </tr>\n    <tr>\n      <th>C03CA01</th>\n      <td>877</td>\n      <td>877</td>\n      <td>877</td>\n      <td>877</td>\n      <td>877</td>\n    </tr>\n    <tr>\n      <th>C03DA01</th>\n      <td>187</td>\n      <td>187</td>\n      <td>187</td>\n      <td>187</td>\n      <td>187</td>\n    </tr>\n    <tr>\n      <th>C03DA04</th>\n      <td>27</td>\n      <td>27</td>\n      <td>27</td>\n      <td>27</td>\n      <td>27</td>\n    </tr>\n    <tr>\n      <th>C03EA04</th>\n      <td>75</td>\n      <td>75</td>\n      <td>75</td>\n      <td>75</td>\n      <td>75</td>\n    </tr>\n    <tr>\n      <th>C03EB01</th>\n      <td>14</td>\n      <td>14</td>\n      <td>14</td>\n      <td>14</td>\n      <td>14</td>\n    </tr>\n    <tr>\n      <th>C07AA05</th>\n      <td>2</td>\n      <td>2</td>\n      <td>2</td>\n      <td>2</td>\n      <td>2</td>\n    </tr>\n    <tr>\n      <th>C07AB03</th>\n      <td>6466</td>\n      <td>6466</td>\n      <td>6466</td>\n      <td>6466</td>\n      <td>6466</td>\n    </tr>\n    <tr>\n      <th>C07AB04</th>\n      <td>39</td>\n      <td>39</td>\n      <td>39</td>\n      <td>39</td>\n      <td>39</td>\n    </tr>\n    <tr>\n      <th>C07AB07</th>\n      <td>6765</td>\n      <td>6765</td>\n      <td>6765</td>\n      <td>6765</td>\n      <td>6765</td>\n    </tr>\n    <tr>\n      <th>C07AB12</th>\n      <td>509</td>\n      <td>509</td>\n      <td>509</td>\n      <td>509</td>\n      <td>509</td>\n    </tr>\n    <tr>\n      <th>C07DB01</th>\n      <td>10</td>\n      <td>10</td>\n      <td>10</td>\n      <td>10</td>\n      <td>10</td>\n    </tr>\n    <tr>\n      <th>C08CA01</th>\n      <td>679</td>\n      <td>679</td>\n      <td>679</td>\n      <td>679</td>\n      <td>679</td>\n    </tr>\n    <tr>\n      <th>C08DB01</th>\n      <td>108</td>\n      <td>108</td>\n      <td>108</td>\n      <td>108</td>\n      <td>108</td>\n    </tr>\n    <tr>\n      <th>C09AA02</th>\n      <td>50</td>\n      <td>50</td>\n      <td>50</td>\n      <td>50</td>\n      <td>50</td>\n    </tr>\n    <tr>\n      <th>C09AA03</th>\n      <td>47</td>\n      <td>47</td>\n      <td>47</td>\n      <td>47</td>\n      <td>47</td>\n    </tr>\n    <tr>\n      <th>C09AA04</th>\n      <td>1183</td>\n      <td>1183</td>\n      <td>1183</td>\n      <td>1183</td>\n      <td>1183</td>\n    </tr>\n    <tr>\n      <th>C09AA05</th>\n      <td>232</td>\n      <td>232</td>\n      <td>232</td>\n      <td>232</td>\n      <td>232</td>\n    </tr>\n    <tr>\n      <th>C09AA06</th>\n      <td>20</td>\n      <td>20</td>\n      <td>20</td>\n      <td>20</td>\n      <td>20</td>\n    </tr>\n    <tr>\n      <th>C09BA02</th>\n      <td>11</td>\n      <td>11</td>\n      <td>11</td>\n      <td>11</td>\n      <td>11</td>\n    </tr>\n    <tr>\n      <th>C09BA04</th>\n      <td>920</td>\n      <td>920</td>\n      <td>920</td>\n      <td>920</td>\n      <td>920</td>\n    </tr>\n    <tr>\n      <th>C09CA01</th>\n      <td>277</td>\n      <td>277</td>\n      <td>277</td>\n      <td>277</td>\n      <td>277</td>\n    </tr>\n    <tr>\n      <th>C09CA03</th>\n      <td>2702</td>\n      <td>2702</td>\n      <td>2702</td>\n      <td>2702</td>\n      <td>2702</td>\n    </tr>\n    <tr>\n      <th>C09CA04</th>\n      <td>618</td>\n      <td>618</td>\n      <td>618</td>\n      <td>618</td>\n      <td>618</td>\n    </tr>\n    <tr>\n      <th>C09CA06</th>\n      <td>1291</td>\n      <td>1291</td>\n      <td>1291</td>\n      <td>1291</td>\n      <td>1291</td>\n    </tr>\n    <tr>\n      <th>C09CA07</th>\n      <td>109</td>\n      <td>109</td>\n      <td>109</td>\n      <td>109</td>\n      <td>109</td>\n    </tr>\n    <tr>\n      <th>C09DA01</th>\n      <td>542</td>\n      <td>542</td>\n      <td>542</td>\n      <td>542</td>\n      <td>542</td>\n    </tr>\n    <tr>\n      <th>C09DA03</th>\n      <td>1834</td>\n      <td>1834</td>\n      <td>1834</td>\n      <td>1834</td>\n      <td>1834</td>\n    </tr>\n    <tr>\n      <th>C09DA04</th>\n      <td>581</td>\n      <td>581</td>\n      <td>581</td>\n      <td>581</td>\n      <td>581</td>\n    </tr>\n    <tr>\n      <th>C09DB04</th>\n      <td>5212</td>\n      <td>5212</td>\n      <td>5212</td>\n      <td>5212</td>\n      <td>5212</td>\n    </tr>\n    <tr>\n      <th>C09XA02</th>\n      <td>63</td>\n      <td>63</td>\n      <td>63</td>\n      <td>63</td>\n      <td>63</td>\n    </tr>\n    <tr>\n      <th>C09XA52</th>\n      <td>206</td>\n      <td>206</td>\n      <td>206</td>\n      <td>206</td>\n      <td>206</td>\n    </tr>\n  </tbody>\n</table>\n</div>"
     },
     "metadata": {},
     "execution_count": 6
    }
   ],
   "source": [
    "dfGroupedByMoleculeLabel = dfWithoutContactID.groupby('product_atc_code')[['molecule_label','short_name','long_name','Classe','product_atc']].count()\n",
    "dfGroupedByMoleculeLabel"
   ]
  },
  {
   "source": [
    "Nous voyons que les différentes colonnes de noms de médicaments sont identiques, nous pouvons donc n'en garder qu'une seule. Nous choisirons de garder ```product_atc_code```"
   ],
   "cell_type": "markdown",
   "metadata": {}
  },
  {
   "cell_type": "code",
   "execution_count": 7,
   "metadata": {},
   "outputs": [],
   "source": [
    "dropColumnNames = dfGroupedByMoleculeLabel.columns.to_list()\n",
    "dfWithATCCode = dfWithoutContactID.drop(dropColumnNames, axis='columns')"
   ]
  },
  {
   "cell_type": "code",
   "execution_count": 8,
   "metadata": {},
   "outputs": [
    {
     "output_type": "execute_result",
     "data": {
      "text/plain": [
       "        person_id      specialty_label contact_date           cip  dosage_1  \\\n",
       "1        263659.0  Médecin généraliste   2014-09-24  3.400960e+12      20.0   \n",
       "2        263659.0  Médecin généraliste   2014-09-12  3.400960e+12      20.0   \n",
       "3        263659.0  Médecin généraliste   2015-03-26  3.400960e+12      20.0   \n",
       "4        263659.0  Médecin généraliste   2015-06-05  3.400960e+12      20.0   \n",
       "6      25182917.0  Médecin généraliste   2013-03-27  3.400960e+12     300.0   \n",
       "...           ...                  ...          ...           ...       ...   \n",
       "50625  26636453.0  Médecin généraliste   2016-11-16  3.400940e+12     500.0   \n",
       "50627  18889430.0  Médecin généraliste   2013-02-01  3.400940e+12     500.0   \n",
       "50629   2222336.0  Médecin généraliste   2013-07-01  3.400940e+12     500.0   \n",
       "50631  11363518.0  Médecin généraliste   2013-01-24  3.400940e+12     500.0   \n",
       "50632  18889430.0  Médecin généraliste   2013-01-24  3.400940e+12     500.0   \n",
       "\n",
       "        dose_1  dose_2 product_atc_code  box  quantity  ... HbA1c_der_date  \\\n",
       "1        240.0    24.0         C03CA01   1.0      4.00  ...            NaT   \n",
       "2        240.0    24.0         C03CA01   1.0      4.00  ...            NaT   \n",
       "3        240.0    24.0         C03CA01   1.0      4.00  ...            NaT   \n",
       "4        240.0    24.0         C03CA01   1.0      4.00  ...            NaT   \n",
       "6      16800.0    56.0         C09XA02   2.0      1.00  ...            NaT   \n",
       "...        ...     ...              ...  ...       ...  ...            ...   \n",
       "50625  15000.0    30.0         C03CA01   1.0      0.75  ...     2017-10-03   \n",
       "50627  15000.0    30.0         C03CA01   1.0      0.50  ...     2017-05-15   \n",
       "50629  15000.0    30.0         C03CA01   2.0      0.25  ...            NaT   \n",
       "50631  15000.0    30.0         C03CA01   1.0      0.25  ...            NaT   \n",
       "50632  15000.0    30.0         C03CA01   1.0      0.50  ...     2017-05-15   \n",
       "\n",
       "       HbA1c_der_mesure gender_code Age_presc  year_of_birth  Poids  \\\n",
       "1                   NaN           M      96.0         1918.0    NaN   \n",
       "2                   NaN           M      96.0         1918.0    NaN   \n",
       "3                   NaN           M      97.0         1918.0    NaN   \n",
       "4                   NaN           M      97.0         1918.0    NaN   \n",
       "6                   NaN           M      63.0         1950.0    NaN   \n",
       "...                 ...         ...       ...            ...    ...   \n",
       "50625              5.60           M      79.0         1937.0   83.9   \n",
       "50627              8.01           M      85.0         1928.0    NaN   \n",
       "50629               NaN           F      78.0         1935.0    NaN   \n",
       "50631               NaN           M      80.0         1933.0    NaN   \n",
       "50632              8.01           M      85.0         1928.0    NaN   \n",
       "\n",
       "       der_date_poids  Taille der_date_taille  first_contact_date  \n",
       "1                 NaT     NaN             NaT          1998-04-02  \n",
       "2                 NaT     NaN             NaT          1998-04-02  \n",
       "3                 NaT     NaN             NaT          1998-04-02  \n",
       "4                 NaT     NaN             NaT          1998-04-02  \n",
       "6                 NaT     NaN             NaT          2011-04-04  \n",
       "...               ...     ...             ...                 ...  \n",
       "50625      2018-02-21     NaN             NaT          2012-02-14  \n",
       "50627             NaT     NaN             NaT          2007-12-02  \n",
       "50629             NaT     NaN             NaT          2006-02-23  \n",
       "50631             NaT     NaN             NaT          1998-01-27  \n",
       "50632             NaT     NaN             NaT          2007-12-02  \n",
       "\n",
       "[36876 rows x 31 columns]"
      ],
      "text/html": "<div>\n<style scoped>\n    .dataframe tbody tr th:only-of-type {\n        vertical-align: middle;\n    }\n\n    .dataframe tbody tr th {\n        vertical-align: top;\n    }\n\n    .dataframe thead th {\n        text-align: right;\n    }\n</style>\n<table border=\"1\" class=\"dataframe\">\n  <thead>\n    <tr style=\"text-align: right;\">\n      <th></th>\n      <th>person_id</th>\n      <th>specialty_label</th>\n      <th>contact_date</th>\n      <th>cip</th>\n      <th>dosage_1</th>\n      <th>dose_1</th>\n      <th>dose_2</th>\n      <th>product_atc_code</th>\n      <th>box</th>\n      <th>quantity</th>\n      <th>...</th>\n      <th>HbA1c_der_date</th>\n      <th>HbA1c_der_mesure</th>\n      <th>gender_code</th>\n      <th>Age_presc</th>\n      <th>year_of_birth</th>\n      <th>Poids</th>\n      <th>der_date_poids</th>\n      <th>Taille</th>\n      <th>der_date_taille</th>\n      <th>first_contact_date</th>\n    </tr>\n  </thead>\n  <tbody>\n    <tr>\n      <th>1</th>\n      <td>263659.0</td>\n      <td>Médecin généraliste</td>\n      <td>2014-09-24</td>\n      <td>3.400960e+12</td>\n      <td>20.0</td>\n      <td>240.0</td>\n      <td>24.0</td>\n      <td>C03CA01</td>\n      <td>1.0</td>\n      <td>4.00</td>\n      <td>...</td>\n      <td>NaT</td>\n      <td>NaN</td>\n      <td>M</td>\n      <td>96.0</td>\n      <td>1918.0</td>\n      <td>NaN</td>\n      <td>NaT</td>\n      <td>NaN</td>\n      <td>NaT</td>\n      <td>1998-04-02</td>\n    </tr>\n    <tr>\n      <th>2</th>\n      <td>263659.0</td>\n      <td>Médecin généraliste</td>\n      <td>2014-09-12</td>\n      <td>3.400960e+12</td>\n      <td>20.0</td>\n      <td>240.0</td>\n      <td>24.0</td>\n      <td>C03CA01</td>\n      <td>1.0</td>\n      <td>4.00</td>\n      <td>...</td>\n      <td>NaT</td>\n      <td>NaN</td>\n      <td>M</td>\n      <td>96.0</td>\n      <td>1918.0</td>\n      <td>NaN</td>\n      <td>NaT</td>\n      <td>NaN</td>\n      <td>NaT</td>\n      <td>1998-04-02</td>\n    </tr>\n    <tr>\n      <th>3</th>\n      <td>263659.0</td>\n      <td>Médecin généraliste</td>\n      <td>2015-03-26</td>\n      <td>3.400960e+12</td>\n      <td>20.0</td>\n      <td>240.0</td>\n      <td>24.0</td>\n      <td>C03CA01</td>\n      <td>1.0</td>\n      <td>4.00</td>\n      <td>...</td>\n      <td>NaT</td>\n      <td>NaN</td>\n      <td>M</td>\n      <td>97.0</td>\n      <td>1918.0</td>\n      <td>NaN</td>\n      <td>NaT</td>\n      <td>NaN</td>\n      <td>NaT</td>\n      <td>1998-04-02</td>\n    </tr>\n    <tr>\n      <th>4</th>\n      <td>263659.0</td>\n      <td>Médecin généraliste</td>\n      <td>2015-06-05</td>\n      <td>3.400960e+12</td>\n      <td>20.0</td>\n      <td>240.0</td>\n      <td>24.0</td>\n      <td>C03CA01</td>\n      <td>1.0</td>\n      <td>4.00</td>\n      <td>...</td>\n      <td>NaT</td>\n      <td>NaN</td>\n      <td>M</td>\n      <td>97.0</td>\n      <td>1918.0</td>\n      <td>NaN</td>\n      <td>NaT</td>\n      <td>NaN</td>\n      <td>NaT</td>\n      <td>1998-04-02</td>\n    </tr>\n    <tr>\n      <th>6</th>\n      <td>25182917.0</td>\n      <td>Médecin généraliste</td>\n      <td>2013-03-27</td>\n      <td>3.400960e+12</td>\n      <td>300.0</td>\n      <td>16800.0</td>\n      <td>56.0</td>\n      <td>C09XA02</td>\n      <td>2.0</td>\n      <td>1.00</td>\n      <td>...</td>\n      <td>NaT</td>\n      <td>NaN</td>\n      <td>M</td>\n      <td>63.0</td>\n      <td>1950.0</td>\n      <td>NaN</td>\n      <td>NaT</td>\n      <td>NaN</td>\n      <td>NaT</td>\n      <td>2011-04-04</td>\n    </tr>\n    <tr>\n      <th>...</th>\n      <td>...</td>\n      <td>...</td>\n      <td>...</td>\n      <td>...</td>\n      <td>...</td>\n      <td>...</td>\n      <td>...</td>\n      <td>...</td>\n      <td>...</td>\n      <td>...</td>\n      <td>...</td>\n      <td>...</td>\n      <td>...</td>\n      <td>...</td>\n      <td>...</td>\n      <td>...</td>\n      <td>...</td>\n      <td>...</td>\n      <td>...</td>\n      <td>...</td>\n      <td>...</td>\n    </tr>\n    <tr>\n      <th>50625</th>\n      <td>26636453.0</td>\n      <td>Médecin généraliste</td>\n      <td>2016-11-16</td>\n      <td>3.400940e+12</td>\n      <td>500.0</td>\n      <td>15000.0</td>\n      <td>30.0</td>\n      <td>C03CA01</td>\n      <td>1.0</td>\n      <td>0.75</td>\n      <td>...</td>\n      <td>2017-10-03</td>\n      <td>5.60</td>\n      <td>M</td>\n      <td>79.0</td>\n      <td>1937.0</td>\n      <td>83.9</td>\n      <td>2018-02-21</td>\n      <td>NaN</td>\n      <td>NaT</td>\n      <td>2012-02-14</td>\n    </tr>\n    <tr>\n      <th>50627</th>\n      <td>18889430.0</td>\n      <td>Médecin généraliste</td>\n      <td>2013-02-01</td>\n      <td>3.400940e+12</td>\n      <td>500.0</td>\n      <td>15000.0</td>\n      <td>30.0</td>\n      <td>C03CA01</td>\n      <td>1.0</td>\n      <td>0.50</td>\n      <td>...</td>\n      <td>2017-05-15</td>\n      <td>8.01</td>\n      <td>M</td>\n      <td>85.0</td>\n      <td>1928.0</td>\n      <td>NaN</td>\n      <td>NaT</td>\n      <td>NaN</td>\n      <td>NaT</td>\n      <td>2007-12-02</td>\n    </tr>\n    <tr>\n      <th>50629</th>\n      <td>2222336.0</td>\n      <td>Médecin généraliste</td>\n      <td>2013-07-01</td>\n      <td>3.400940e+12</td>\n      <td>500.0</td>\n      <td>15000.0</td>\n      <td>30.0</td>\n      <td>C03CA01</td>\n      <td>2.0</td>\n      <td>0.25</td>\n      <td>...</td>\n      <td>NaT</td>\n      <td>NaN</td>\n      <td>F</td>\n      <td>78.0</td>\n      <td>1935.0</td>\n      <td>NaN</td>\n      <td>NaT</td>\n      <td>NaN</td>\n      <td>NaT</td>\n      <td>2006-02-23</td>\n    </tr>\n    <tr>\n      <th>50631</th>\n      <td>11363518.0</td>\n      <td>Médecin généraliste</td>\n      <td>2013-01-24</td>\n      <td>3.400940e+12</td>\n      <td>500.0</td>\n      <td>15000.0</td>\n      <td>30.0</td>\n      <td>C03CA01</td>\n      <td>1.0</td>\n      <td>0.25</td>\n      <td>...</td>\n      <td>NaT</td>\n      <td>NaN</td>\n      <td>M</td>\n      <td>80.0</td>\n      <td>1933.0</td>\n      <td>NaN</td>\n      <td>NaT</td>\n      <td>NaN</td>\n      <td>NaT</td>\n      <td>1998-01-27</td>\n    </tr>\n    <tr>\n      <th>50632</th>\n      <td>18889430.0</td>\n      <td>Médecin généraliste</td>\n      <td>2013-01-24</td>\n      <td>3.400940e+12</td>\n      <td>500.0</td>\n      <td>15000.0</td>\n      <td>30.0</td>\n      <td>C03CA01</td>\n      <td>1.0</td>\n      <td>0.50</td>\n      <td>...</td>\n      <td>2017-05-15</td>\n      <td>8.01</td>\n      <td>M</td>\n      <td>85.0</td>\n      <td>1928.0</td>\n      <td>NaN</td>\n      <td>NaT</td>\n      <td>NaN</td>\n      <td>NaT</td>\n      <td>2007-12-02</td>\n    </tr>\n  </tbody>\n</table>\n<p>36876 rows × 31 columns</p>\n</div>"
     },
     "metadata": {},
     "execution_count": 8
    }
   ],
   "source": [
    "dfWithATCCode"
   ]
  },
  {
   "source": [
    "## Suppression des colonnes ```'*der*'```"
   ],
   "cell_type": "markdown",
   "metadata": {}
  },
  {
   "source": [
    "Les colonnes ```*der*``` contiennent la dernière données. Cette donnée peut être récupérée grâce à la date de la visite et à aux valeurs mesurées. Par exemple, il n'est pas nécessaire d'avoir une colonne ```der_date``` ou ```der_mesure```. Les données de ces deux types de colonnes peuvent être récupéré grâce à la ligne qui correspond à la dernière date de la mesure, que l'on peut trouver grâce à la colonne ```contact_date```"
   ],
   "cell_type": "markdown",
   "metadata": {}
  },
  {
   "cell_type": "code",
   "execution_count": 9,
   "metadata": {},
   "outputs": [],
   "source": [
    "derColumnNames = []\n",
    "\n",
    "for c in dfWithATCCode.columns:\n",
    "    if ('der_date' in c) or ('der_mesure' in c):\n",
    "        derColumnNames.append(c)\n",
    "\n",
    "dfWithoutDer = dfWithATCCode.drop(derColumnNames,axis='columns')"
   ]
  },
  {
   "source": [
    "# Traîtement des données"
   ],
   "cell_type": "markdown",
   "metadata": {}
  },
  {
   "source": [
    "## Conversion des données"
   ],
   "cell_type": "markdown",
   "metadata": {}
  },
  {
   "source": [
    "### Ajout du temps entre chaque visite (ce que l'on veut prédire)"
   ],
   "cell_type": "markdown",
   "metadata": {}
  },
  {
   "cell_type": "code",
   "execution_count": 10,
   "metadata": {},
   "outputs": [],
   "source": [
    "wait_time = dfWithoutDer.contact_date - dfWithoutDer.first_contact_date\n",
    "wait_time = wait_time.dt.total_seconds() / (24 * 3600)\n",
    "dfWithoutDer = dfWithoutDer.drop('first_contact_date',axis='columns')\n",
    "dfWithoutDer['wait_time'] = wait_time"
   ]
  },
  {
   "source": [
    "### Encodage des valeurs non numériques"
   ],
   "cell_type": "markdown",
   "metadata": {}
  },
  {
   "cell_type": "code",
   "execution_count": 11,
   "metadata": {},
   "outputs": [],
   "source": [
    "specialtyEncoder = LabelEncoder()\n",
    "ATCCodeEncoder = LabelEncoder()\n",
    "frequencyLabelEncoder = LabelEncoder()\n",
    "traitementAutresLabelEncoder = LabelEncoder()\n",
    "traitementInsulineLabelEncoder = LabelEncoder()\n",
    "genderEncoder = LabelEncoder()\n",
    "\n",
    "dfWithoutDer.specialty_label = specialtyEncoder.fit_transform(dfWithoutDer.specialty_label)\n",
    "dfWithoutDer.product_atc_code = ATCCodeEncoder.fit_transform(dfWithoutDer.product_atc_code)\n",
    "dfWithoutDer.frequency_label = frequencyLabelEncoder.fit_transform(dfWithoutDer.frequency_label.astype(str))\n",
    "dfWithoutDer.Traitement_Autres_A10_dep_201701 = traitementAutresLabelEncoder.fit_transform(dfWithoutDer.Traitement_Autres_A10_dep_201701.astype(str))\n",
    "dfWithoutDer.Traitement_Insulines_dep_201701 = traitementInsulineLabelEncoder.fit_transform(dfWithoutDer.Traitement_Insulines_dep_201701.astype(str))\n",
    "dfWithoutDer.gender_code = ATCCodeEncoder.fit_transform(dfWithoutDer.gender_code)\n"
   ]
  },
  {
   "source": [
    "### Conversion en ```TimeSeries```"
   ],
   "cell_type": "markdown",
   "metadata": {}
  },
  {
   "source": [
    "on définit simplement le nouvel index comme la colonne donnant l'intervalle de temps entre chaque visite"
   ],
   "cell_type": "markdown",
   "metadata": {}
  },
  {
   "cell_type": "code",
   "execution_count": 12,
   "metadata": {},
   "outputs": [
    {
     "output_type": "execute_result",
     "data": {
      "text/plain": [
       "        person_id  specialty_label contact_date           cip  dosage_1  \\\n",
       "1        263659.0                2   2014-09-24  3.400960e+12      20.0   \n",
       "2        263659.0                2   2014-09-12  3.400960e+12      20.0   \n",
       "3        263659.0                2   2015-03-26  3.400960e+12      20.0   \n",
       "4        263659.0                2   2015-06-05  3.400960e+12      20.0   \n",
       "6      25182917.0                2   2013-03-27  3.400960e+12     300.0   \n",
       "...           ...              ...          ...           ...       ...   \n",
       "50625  26636453.0                2   2016-11-16  3.400940e+12     500.0   \n",
       "50627  18889430.0                2   2013-02-01  3.400940e+12     500.0   \n",
       "50629   2222336.0                2   2013-07-01  3.400940e+12     500.0   \n",
       "50631  11363518.0                2   2013-01-24  3.400940e+12     500.0   \n",
       "50632  18889430.0                2   2013-01-24  3.400940e+12     500.0   \n",
       "\n",
       "        dose_1  dose_2  product_atc_code  box  quantity  ...  \\\n",
       "1        240.0    24.0                 2  1.0      4.00  ...   \n",
       "2        240.0    24.0                 2  1.0      4.00  ...   \n",
       "3        240.0    24.0                 2  1.0      4.00  ...   \n",
       "4        240.0    24.0                 2  1.0      4.00  ...   \n",
       "6      16800.0    56.0                31  2.0      1.00  ...   \n",
       "...        ...     ...               ...  ...       ...  ...   \n",
       "50625  15000.0    30.0                 2  1.0      0.75  ...   \n",
       "50627  15000.0    30.0                 2  1.0      0.50  ...   \n",
       "50629  15000.0    30.0                 2  2.0      0.25  ...   \n",
       "50631  15000.0    30.0                 2  1.0      0.25  ...   \n",
       "50632  15000.0    30.0                 2  1.0      0.50  ...   \n",
       "\n",
       "       Tension Diastolique  Tension Systolique  Glycemie_prescription  \\\n",
       "1                    110.0                60.0                    NaN   \n",
       "2                    118.0                70.0                    NaN   \n",
       "3                    120.0                70.0                    NaN   \n",
       "4                    120.0                70.0                    NaN   \n",
       "6                    145.0                85.0                    NaN   \n",
       "...                    ...                 ...                    ...   \n",
       "50625                120.0                60.0                    NaN   \n",
       "50627                120.0                70.0                    NaN   \n",
       "50629                130.0                70.0                    NaN   \n",
       "50631                139.0                70.0                    NaN   \n",
       "50632                120.0                70.0                    NaN   \n",
       "\n",
       "       HbA1c_prescription  gender_code  Age_presc  year_of_birth  Poids  \\\n",
       "1                     NaN            1       96.0         1918.0    NaN   \n",
       "2                     NaN            1       96.0         1918.0    NaN   \n",
       "3                     NaN            1       97.0         1918.0    NaN   \n",
       "4                     NaN            1       97.0         1918.0    NaN   \n",
       "6                     NaN            1       63.0         1950.0    NaN   \n",
       "...                   ...          ...        ...            ...    ...   \n",
       "50625                 NaN            1       79.0         1937.0   83.9   \n",
       "50627                 NaN            1       85.0         1928.0    NaN   \n",
       "50629                 NaN            0       78.0         1935.0    NaN   \n",
       "50631                 NaN            1       80.0         1933.0    NaN   \n",
       "50632                 NaN            1       85.0         1928.0    NaN   \n",
       "\n",
       "       Taille  wait_time  \n",
       "1         NaN     6019.0  \n",
       "2         NaN     6007.0  \n",
       "3         NaN     6202.0  \n",
       "4         NaN     6273.0  \n",
       "6         NaN      723.0  \n",
       "...       ...        ...  \n",
       "50625     NaN     1737.0  \n",
       "50627     NaN     1888.0  \n",
       "50629     NaN     2685.0  \n",
       "50631     NaN     5476.0  \n",
       "50632     NaN     1880.0  \n",
       "\n",
       "[36876 rows x 25 columns]"
      ],
      "text/html": "<div>\n<style scoped>\n    .dataframe tbody tr th:only-of-type {\n        vertical-align: middle;\n    }\n\n    .dataframe tbody tr th {\n        vertical-align: top;\n    }\n\n    .dataframe thead th {\n        text-align: right;\n    }\n</style>\n<table border=\"1\" class=\"dataframe\">\n  <thead>\n    <tr style=\"text-align: right;\">\n      <th></th>\n      <th>person_id</th>\n      <th>specialty_label</th>\n      <th>contact_date</th>\n      <th>cip</th>\n      <th>dosage_1</th>\n      <th>dose_1</th>\n      <th>dose_2</th>\n      <th>product_atc_code</th>\n      <th>box</th>\n      <th>quantity</th>\n      <th>...</th>\n      <th>Tension Diastolique</th>\n      <th>Tension Systolique</th>\n      <th>Glycemie_prescription</th>\n      <th>HbA1c_prescription</th>\n      <th>gender_code</th>\n      <th>Age_presc</th>\n      <th>year_of_birth</th>\n      <th>Poids</th>\n      <th>Taille</th>\n      <th>wait_time</th>\n    </tr>\n  </thead>\n  <tbody>\n    <tr>\n      <th>1</th>\n      <td>263659.0</td>\n      <td>2</td>\n      <td>2014-09-24</td>\n      <td>3.400960e+12</td>\n      <td>20.0</td>\n      <td>240.0</td>\n      <td>24.0</td>\n      <td>2</td>\n      <td>1.0</td>\n      <td>4.00</td>\n      <td>...</td>\n      <td>110.0</td>\n      <td>60.0</td>\n      <td>NaN</td>\n      <td>NaN</td>\n      <td>1</td>\n      <td>96.0</td>\n      <td>1918.0</td>\n      <td>NaN</td>\n      <td>NaN</td>\n      <td>6019.0</td>\n    </tr>\n    <tr>\n      <th>2</th>\n      <td>263659.0</td>\n      <td>2</td>\n      <td>2014-09-12</td>\n      <td>3.400960e+12</td>\n      <td>20.0</td>\n      <td>240.0</td>\n      <td>24.0</td>\n      <td>2</td>\n      <td>1.0</td>\n      <td>4.00</td>\n      <td>...</td>\n      <td>118.0</td>\n      <td>70.0</td>\n      <td>NaN</td>\n      <td>NaN</td>\n      <td>1</td>\n      <td>96.0</td>\n      <td>1918.0</td>\n      <td>NaN</td>\n      <td>NaN</td>\n      <td>6007.0</td>\n    </tr>\n    <tr>\n      <th>3</th>\n      <td>263659.0</td>\n      <td>2</td>\n      <td>2015-03-26</td>\n      <td>3.400960e+12</td>\n      <td>20.0</td>\n      <td>240.0</td>\n      <td>24.0</td>\n      <td>2</td>\n      <td>1.0</td>\n      <td>4.00</td>\n      <td>...</td>\n      <td>120.0</td>\n      <td>70.0</td>\n      <td>NaN</td>\n      <td>NaN</td>\n      <td>1</td>\n      <td>97.0</td>\n      <td>1918.0</td>\n      <td>NaN</td>\n      <td>NaN</td>\n      <td>6202.0</td>\n    </tr>\n    <tr>\n      <th>4</th>\n      <td>263659.0</td>\n      <td>2</td>\n      <td>2015-06-05</td>\n      <td>3.400960e+12</td>\n      <td>20.0</td>\n      <td>240.0</td>\n      <td>24.0</td>\n      <td>2</td>\n      <td>1.0</td>\n      <td>4.00</td>\n      <td>...</td>\n      <td>120.0</td>\n      <td>70.0</td>\n      <td>NaN</td>\n      <td>NaN</td>\n      <td>1</td>\n      <td>97.0</td>\n      <td>1918.0</td>\n      <td>NaN</td>\n      <td>NaN</td>\n      <td>6273.0</td>\n    </tr>\n    <tr>\n      <th>6</th>\n      <td>25182917.0</td>\n      <td>2</td>\n      <td>2013-03-27</td>\n      <td>3.400960e+12</td>\n      <td>300.0</td>\n      <td>16800.0</td>\n      <td>56.0</td>\n      <td>31</td>\n      <td>2.0</td>\n      <td>1.00</td>\n      <td>...</td>\n      <td>145.0</td>\n      <td>85.0</td>\n      <td>NaN</td>\n      <td>NaN</td>\n      <td>1</td>\n      <td>63.0</td>\n      <td>1950.0</td>\n      <td>NaN</td>\n      <td>NaN</td>\n      <td>723.0</td>\n    </tr>\n    <tr>\n      <th>...</th>\n      <td>...</td>\n      <td>...</td>\n      <td>...</td>\n      <td>...</td>\n      <td>...</td>\n      <td>...</td>\n      <td>...</td>\n      <td>...</td>\n      <td>...</td>\n      <td>...</td>\n      <td>...</td>\n      <td>...</td>\n      <td>...</td>\n      <td>...</td>\n      <td>...</td>\n      <td>...</td>\n      <td>...</td>\n      <td>...</td>\n      <td>...</td>\n      <td>...</td>\n      <td>...</td>\n    </tr>\n    <tr>\n      <th>50625</th>\n      <td>26636453.0</td>\n      <td>2</td>\n      <td>2016-11-16</td>\n      <td>3.400940e+12</td>\n      <td>500.0</td>\n      <td>15000.0</td>\n      <td>30.0</td>\n      <td>2</td>\n      <td>1.0</td>\n      <td>0.75</td>\n      <td>...</td>\n      <td>120.0</td>\n      <td>60.0</td>\n      <td>NaN</td>\n      <td>NaN</td>\n      <td>1</td>\n      <td>79.0</td>\n      <td>1937.0</td>\n      <td>83.9</td>\n      <td>NaN</td>\n      <td>1737.0</td>\n    </tr>\n    <tr>\n      <th>50627</th>\n      <td>18889430.0</td>\n      <td>2</td>\n      <td>2013-02-01</td>\n      <td>3.400940e+12</td>\n      <td>500.0</td>\n      <td>15000.0</td>\n      <td>30.0</td>\n      <td>2</td>\n      <td>1.0</td>\n      <td>0.50</td>\n      <td>...</td>\n      <td>120.0</td>\n      <td>70.0</td>\n      <td>NaN</td>\n      <td>NaN</td>\n      <td>1</td>\n      <td>85.0</td>\n      <td>1928.0</td>\n      <td>NaN</td>\n      <td>NaN</td>\n      <td>1888.0</td>\n    </tr>\n    <tr>\n      <th>50629</th>\n      <td>2222336.0</td>\n      <td>2</td>\n      <td>2013-07-01</td>\n      <td>3.400940e+12</td>\n      <td>500.0</td>\n      <td>15000.0</td>\n      <td>30.0</td>\n      <td>2</td>\n      <td>2.0</td>\n      <td>0.25</td>\n      <td>...</td>\n      <td>130.0</td>\n      <td>70.0</td>\n      <td>NaN</td>\n      <td>NaN</td>\n      <td>0</td>\n      <td>78.0</td>\n      <td>1935.0</td>\n      <td>NaN</td>\n      <td>NaN</td>\n      <td>2685.0</td>\n    </tr>\n    <tr>\n      <th>50631</th>\n      <td>11363518.0</td>\n      <td>2</td>\n      <td>2013-01-24</td>\n      <td>3.400940e+12</td>\n      <td>500.0</td>\n      <td>15000.0</td>\n      <td>30.0</td>\n      <td>2</td>\n      <td>1.0</td>\n      <td>0.25</td>\n      <td>...</td>\n      <td>139.0</td>\n      <td>70.0</td>\n      <td>NaN</td>\n      <td>NaN</td>\n      <td>1</td>\n      <td>80.0</td>\n      <td>1933.0</td>\n      <td>NaN</td>\n      <td>NaN</td>\n      <td>5476.0</td>\n    </tr>\n    <tr>\n      <th>50632</th>\n      <td>18889430.0</td>\n      <td>2</td>\n      <td>2013-01-24</td>\n      <td>3.400940e+12</td>\n      <td>500.0</td>\n      <td>15000.0</td>\n      <td>30.0</td>\n      <td>2</td>\n      <td>1.0</td>\n      <td>0.50</td>\n      <td>...</td>\n      <td>120.0</td>\n      <td>70.0</td>\n      <td>NaN</td>\n      <td>NaN</td>\n      <td>1</td>\n      <td>85.0</td>\n      <td>1928.0</td>\n      <td>NaN</td>\n      <td>NaN</td>\n      <td>1880.0</td>\n    </tr>\n  </tbody>\n</table>\n<p>36876 rows × 25 columns</p>\n</div>"
     },
     "metadata": {},
     "execution_count": 12
    }
   ],
   "source": [
    "dfWithoutDer"
   ]
  },
  {
   "cell_type": "code",
   "execution_count": 13,
   "metadata": {},
   "outputs": [
    {
     "output_type": "execute_result",
     "data": {
      "text/plain": [
       "                         specialty_label           cip  dosage_1  dose_1  \\\n",
       "person_id  contact_date                                                    \n",
       "291.0      2016-10-28                  2  3.400950e+12       2.5    75.0   \n",
       "           2016-11-04                  2  3.400950e+12       2.5    75.0   \n",
       "           2016-11-21                  2  3.400950e+12       2.5    75.0   \n",
       "           2017-01-16                  2  3.400950e+12       2.5    75.0   \n",
       "           2017-11-20                  2  3.400950e+12       2.5    75.0   \n",
       "...                                  ...           ...       ...     ...   \n",
       "34823672.0 2017-04-15                  2  3.400950e+12     100.0  9000.0   \n",
       "           2017-06-26                  2  3.400950e+12     100.0  9000.0   \n",
       "           2017-08-30                  2  3.400950e+12     100.0  9000.0   \n",
       "           2017-09-11                  2  3.400950e+12     100.0  9000.0   \n",
       "           2018-08-02                  2  3.400950e+12     100.0  9000.0   \n",
       "\n",
       "                         dose_2  product_atc_code  box  quantity  \\\n",
       "person_id  contact_date                                            \n",
       "291.0      2016-10-28      30.0                10  6.0       2.0   \n",
       "           2016-11-04      30.0                10  3.0       1.0   \n",
       "           2016-11-21      30.0                10  3.0       1.0   \n",
       "           2017-01-16      30.0                10  3.0       1.0   \n",
       "           2017-11-20      30.0                10  3.0       1.0   \n",
       "...                         ...               ...  ...       ...   \n",
       "34823672.0 2017-04-15      90.0                 8  1.0       1.0   \n",
       "           2017-06-26      90.0                 8  1.0       1.0   \n",
       "           2017-08-30      90.0                 8  1.0       1.0   \n",
       "           2017-09-11      90.0                 8  1.0       1.0   \n",
       "           2018-08-02      90.0                 8  1.0       1.0   \n",
       "\n",
       "                         frequency_label  duration  ...  Tension Diastolique  \\\n",
       "person_id  contact_date                             ...                        \n",
       "291.0      2016-10-28                  0      84.0  ...                130.0   \n",
       "           2016-11-04                  0      84.0  ...                142.0   \n",
       "           2016-11-21                  0      84.0  ...                140.0   \n",
       "           2017-01-16                  0      84.0  ...                125.0   \n",
       "           2017-11-20                  0      84.0  ...                115.0   \n",
       "...                                  ...       ...  ...                  ...   \n",
       "34823672.0 2017-04-15                  0      84.0  ...                140.0   \n",
       "           2017-06-26                  0      56.0  ...                130.0   \n",
       "           2017-08-30                  0      56.0  ...                130.0   \n",
       "           2017-09-11                  0      56.0  ...                140.0   \n",
       "           2018-08-02                  0      56.0  ...                130.0   \n",
       "\n",
       "                         Tension Systolique  Glycemie_prescription  \\\n",
       "person_id  contact_date                                              \n",
       "291.0      2016-10-28                  60.0                    NaN   \n",
       "           2016-11-04                  65.0                    NaN   \n",
       "           2016-11-21                  75.0                    NaN   \n",
       "           2017-01-16                  70.0                    NaN   \n",
       "           2017-11-20                  60.0                    NaN   \n",
       "...                                     ...                    ...   \n",
       "34823672.0 2017-04-15                  60.0                    NaN   \n",
       "           2017-06-26                  70.0                    NaN   \n",
       "           2017-08-30                  70.0                    NaN   \n",
       "           2017-09-11                  80.0                    NaN   \n",
       "           2018-08-02                  70.0                    NaN   \n",
       "\n",
       "                         HbA1c_prescription  gender_code  Age_presc  \\\n",
       "person_id  contact_date                                               \n",
       "291.0      2016-10-28                   NaN            1       86.0   \n",
       "           2016-11-04                   NaN            1       86.0   \n",
       "           2016-11-21                   NaN            1       86.0   \n",
       "           2017-01-16                   NaN            1       87.0   \n",
       "           2017-11-20                   NaN            1       87.0   \n",
       "...                                     ...          ...        ...   \n",
       "34823672.0 2017-04-15                   NaN            0       73.0   \n",
       "           2017-06-26                   NaN            0       73.0   \n",
       "           2017-08-30                   NaN            0       73.0   \n",
       "           2017-09-11                   NaN            0       73.0   \n",
       "           2018-08-02                   NaN            0       74.0   \n",
       "\n",
       "                         year_of_birth  Poids  Taille  wait_time  \n",
       "person_id  contact_date                                           \n",
       "291.0      2016-10-28           1930.0   81.0   179.0     6603.0  \n",
       "           2016-11-04           1930.0   81.0   179.0     6610.0  \n",
       "           2016-11-21           1930.0   81.0   179.0     6627.0  \n",
       "           2017-01-16           1930.0   81.0   179.0     6683.0  \n",
       "           2017-11-20           1930.0   81.0   179.0     6991.0  \n",
       "...                                ...    ...     ...        ...  \n",
       "34823672.0 2017-04-15           1944.0   72.2   148.0        0.0  \n",
       "           2017-06-26           1944.0   72.2   148.0       72.0  \n",
       "           2017-08-30           1944.0   72.2   148.0      137.0  \n",
       "           2017-09-11           1944.0   72.2   148.0      149.0  \n",
       "           2018-08-02           1944.0   72.2   148.0      474.0  \n",
       "\n",
       "[36876 rows x 23 columns]"
      ],
      "text/html": "<div>\n<style scoped>\n    .dataframe tbody tr th:only-of-type {\n        vertical-align: middle;\n    }\n\n    .dataframe tbody tr th {\n        vertical-align: top;\n    }\n\n    .dataframe thead th {\n        text-align: right;\n    }\n</style>\n<table border=\"1\" class=\"dataframe\">\n  <thead>\n    <tr style=\"text-align: right;\">\n      <th></th>\n      <th></th>\n      <th>specialty_label</th>\n      <th>cip</th>\n      <th>dosage_1</th>\n      <th>dose_1</th>\n      <th>dose_2</th>\n      <th>product_atc_code</th>\n      <th>box</th>\n      <th>quantity</th>\n      <th>frequency_label</th>\n      <th>duration</th>\n      <th>...</th>\n      <th>Tension Diastolique</th>\n      <th>Tension Systolique</th>\n      <th>Glycemie_prescription</th>\n      <th>HbA1c_prescription</th>\n      <th>gender_code</th>\n      <th>Age_presc</th>\n      <th>year_of_birth</th>\n      <th>Poids</th>\n      <th>Taille</th>\n      <th>wait_time</th>\n    </tr>\n    <tr>\n      <th>person_id</th>\n      <th>contact_date</th>\n      <th></th>\n      <th></th>\n      <th></th>\n      <th></th>\n      <th></th>\n      <th></th>\n      <th></th>\n      <th></th>\n      <th></th>\n      <th></th>\n      <th></th>\n      <th></th>\n      <th></th>\n      <th></th>\n      <th></th>\n      <th></th>\n      <th></th>\n      <th></th>\n      <th></th>\n      <th></th>\n      <th></th>\n    </tr>\n  </thead>\n  <tbody>\n    <tr>\n      <th rowspan=\"5\" valign=\"top\">291.0</th>\n      <th>2016-10-28</th>\n      <td>2</td>\n      <td>3.400950e+12</td>\n      <td>2.5</td>\n      <td>75.0</td>\n      <td>30.0</td>\n      <td>10</td>\n      <td>6.0</td>\n      <td>2.0</td>\n      <td>0</td>\n      <td>84.0</td>\n      <td>...</td>\n      <td>130.0</td>\n      <td>60.0</td>\n      <td>NaN</td>\n      <td>NaN</td>\n      <td>1</td>\n      <td>86.0</td>\n      <td>1930.0</td>\n      <td>81.0</td>\n      <td>179.0</td>\n      <td>6603.0</td>\n    </tr>\n    <tr>\n      <th>2016-11-04</th>\n      <td>2</td>\n      <td>3.400950e+12</td>\n      <td>2.5</td>\n      <td>75.0</td>\n      <td>30.0</td>\n      <td>10</td>\n      <td>3.0</td>\n      <td>1.0</td>\n      <td>0</td>\n      <td>84.0</td>\n      <td>...</td>\n      <td>142.0</td>\n      <td>65.0</td>\n      <td>NaN</td>\n      <td>NaN</td>\n      <td>1</td>\n      <td>86.0</td>\n      <td>1930.0</td>\n      <td>81.0</td>\n      <td>179.0</td>\n      <td>6610.0</td>\n    </tr>\n    <tr>\n      <th>2016-11-21</th>\n      <td>2</td>\n      <td>3.400950e+12</td>\n      <td>2.5</td>\n      <td>75.0</td>\n      <td>30.0</td>\n      <td>10</td>\n      <td>3.0</td>\n      <td>1.0</td>\n      <td>0</td>\n      <td>84.0</td>\n      <td>...</td>\n      <td>140.0</td>\n      <td>75.0</td>\n      <td>NaN</td>\n      <td>NaN</td>\n      <td>1</td>\n      <td>86.0</td>\n      <td>1930.0</td>\n      <td>81.0</td>\n      <td>179.0</td>\n      <td>6627.0</td>\n    </tr>\n    <tr>\n      <th>2017-01-16</th>\n      <td>2</td>\n      <td>3.400950e+12</td>\n      <td>2.5</td>\n      <td>75.0</td>\n      <td>30.0</td>\n      <td>10</td>\n      <td>3.0</td>\n      <td>1.0</td>\n      <td>0</td>\n      <td>84.0</td>\n      <td>...</td>\n      <td>125.0</td>\n      <td>70.0</td>\n      <td>NaN</td>\n      <td>NaN</td>\n      <td>1</td>\n      <td>87.0</td>\n      <td>1930.0</td>\n      <td>81.0</td>\n      <td>179.0</td>\n      <td>6683.0</td>\n    </tr>\n    <tr>\n      <th>2017-11-20</th>\n      <td>2</td>\n      <td>3.400950e+12</td>\n      <td>2.5</td>\n      <td>75.0</td>\n      <td>30.0</td>\n      <td>10</td>\n      <td>3.0</td>\n      <td>1.0</td>\n      <td>0</td>\n      <td>84.0</td>\n      <td>...</td>\n      <td>115.0</td>\n      <td>60.0</td>\n      <td>NaN</td>\n      <td>NaN</td>\n      <td>1</td>\n      <td>87.0</td>\n      <td>1930.0</td>\n      <td>81.0</td>\n      <td>179.0</td>\n      <td>6991.0</td>\n    </tr>\n    <tr>\n      <th>...</th>\n      <th>...</th>\n      <td>...</td>\n      <td>...</td>\n      <td>...</td>\n      <td>...</td>\n      <td>...</td>\n      <td>...</td>\n      <td>...</td>\n      <td>...</td>\n      <td>...</td>\n      <td>...</td>\n      <td>...</td>\n      <td>...</td>\n      <td>...</td>\n      <td>...</td>\n      <td>...</td>\n      <td>...</td>\n      <td>...</td>\n      <td>...</td>\n      <td>...</td>\n      <td>...</td>\n      <td>...</td>\n    </tr>\n    <tr>\n      <th rowspan=\"5\" valign=\"top\">34823672.0</th>\n      <th>2017-04-15</th>\n      <td>2</td>\n      <td>3.400950e+12</td>\n      <td>100.0</td>\n      <td>9000.0</td>\n      <td>90.0</td>\n      <td>8</td>\n      <td>1.0</td>\n      <td>1.0</td>\n      <td>0</td>\n      <td>84.0</td>\n      <td>...</td>\n      <td>140.0</td>\n      <td>60.0</td>\n      <td>NaN</td>\n      <td>NaN</td>\n      <td>0</td>\n      <td>73.0</td>\n      <td>1944.0</td>\n      <td>72.2</td>\n      <td>148.0</td>\n      <td>0.0</td>\n    </tr>\n    <tr>\n      <th>2017-06-26</th>\n      <td>2</td>\n      <td>3.400950e+12</td>\n      <td>100.0</td>\n      <td>9000.0</td>\n      <td>90.0</td>\n      <td>8</td>\n      <td>1.0</td>\n      <td>1.0</td>\n      <td>0</td>\n      <td>56.0</td>\n      <td>...</td>\n      <td>130.0</td>\n      <td>70.0</td>\n      <td>NaN</td>\n      <td>NaN</td>\n      <td>0</td>\n      <td>73.0</td>\n      <td>1944.0</td>\n      <td>72.2</td>\n      <td>148.0</td>\n      <td>72.0</td>\n    </tr>\n    <tr>\n      <th>2017-08-30</th>\n      <td>2</td>\n      <td>3.400950e+12</td>\n      <td>100.0</td>\n      <td>9000.0</td>\n      <td>90.0</td>\n      <td>8</td>\n      <td>1.0</td>\n      <td>1.0</td>\n      <td>0</td>\n      <td>56.0</td>\n      <td>...</td>\n      <td>130.0</td>\n      <td>70.0</td>\n      <td>NaN</td>\n      <td>NaN</td>\n      <td>0</td>\n      <td>73.0</td>\n      <td>1944.0</td>\n      <td>72.2</td>\n      <td>148.0</td>\n      <td>137.0</td>\n    </tr>\n    <tr>\n      <th>2017-09-11</th>\n      <td>2</td>\n      <td>3.400950e+12</td>\n      <td>100.0</td>\n      <td>9000.0</td>\n      <td>90.0</td>\n      <td>8</td>\n      <td>1.0</td>\n      <td>1.0</td>\n      <td>0</td>\n      <td>56.0</td>\n      <td>...</td>\n      <td>140.0</td>\n      <td>80.0</td>\n      <td>NaN</td>\n      <td>NaN</td>\n      <td>0</td>\n      <td>73.0</td>\n      <td>1944.0</td>\n      <td>72.2</td>\n      <td>148.0</td>\n      <td>149.0</td>\n    </tr>\n    <tr>\n      <th>2018-08-02</th>\n      <td>2</td>\n      <td>3.400950e+12</td>\n      <td>100.0</td>\n      <td>9000.0</td>\n      <td>90.0</td>\n      <td>8</td>\n      <td>1.0</td>\n      <td>1.0</td>\n      <td>0</td>\n      <td>56.0</td>\n      <td>...</td>\n      <td>130.0</td>\n      <td>70.0</td>\n      <td>NaN</td>\n      <td>NaN</td>\n      <td>0</td>\n      <td>74.0</td>\n      <td>1944.0</td>\n      <td>72.2</td>\n      <td>148.0</td>\n      <td>474.0</td>\n    </tr>\n  </tbody>\n</table>\n<p>36876 rows × 23 columns</p>\n</div>"
     },
     "metadata": {},
     "execution_count": 13
    }
   ],
   "source": [
    "ts = dfWithoutDer.set_index(['person_id','contact_date']).sort_index()\n",
    "ts"
   ]
  },
  {
   "source": [
    "# Prédiction"
   ],
   "cell_type": "markdown",
   "metadata": {}
  },
  {
   "source": [
    "## Création des données d'entraînement/test"
   ],
   "cell_type": "markdown",
   "metadata": {}
  },
  {
   "cell_type": "code",
   "execution_count": 270,
   "metadata": {},
   "outputs": [],
   "source": [
    "yColumNames = ['product_atc_code','wait_time']\n",
    "\n",
    "xDf = ts.drop(yColumNames,axis='columns')\n",
    "yDf = ts.loc[:,yColumNames]\n",
    "\n",
    "xList,yList = [],[]\n",
    "sliceNumber = 4\n",
    "\n",
    "for i,_ in ts.groupby('person_id'):\n",
    "    xList.append(xDf.loc[i].to_numpy().astype('float32')[:sliceNumber].transpose())\n",
    "    yList.append(yDf.loc[i].to_numpy().astype('float32')[:sliceNumber])\n",
    "\n",
    "xData = np.array(xList).reshape((len(xList),xList[0].shape[0],sliceNumber))\n",
    "yData = np.array(yList).reshape((sliceNumber,len(yList),yList[0].shape[1]))"
   ]
  },
  {
   "cell_type": "code",
   "execution_count": 271,
   "metadata": {},
   "outputs": [
    {
     "output_type": "stream",
     "name": "stdout",
     "text": [
      "(4227, 21, 4), (4, 4227, 2)\n"
     ]
    }
   ],
   "source": [
    "print(f\"{xData.shape}, {yData.shape}\")"
   ]
  },
  {
   "cell_type": "code",
   "execution_count": 272,
   "metadata": {},
   "outputs": [],
   "source": [
    "trainUse = int(xData.shape[0] * 80 / 100)\n",
    "testUse = xData.shape[0] - trainUse\n",
    "\n",
    "xTrain, xTest, yTrain, yTest = xData[:trainUse],xData[-testUse:],yData[:,:trainUse],yData[:,-testUse:]\n",
    "\n",
    "#xTrain = xTrain.reshape(xTrain.shape[0],1,xTrain.shape[1],xTrain.shape[2])\n",
    "#xTest = xTest.reshape(xTest.shape[0],1,xTest.shape[1],xTest.shape[2])"
   ]
  },
  {
   "source": [
    "## Création du modèle"
   ],
   "cell_type": "markdown",
   "metadata": {}
  },
  {
   "cell_type": "code",
   "execution_count": 273,
   "metadata": {},
   "outputs": [
    {
     "output_type": "stream",
     "name": "stdout",
     "text": [
      "(3381, 21, 4), (4, 3381, 2)\n"
     ]
    }
   ],
   "source": [
    "print(f\"{xTrain.shape}, {yTrain.shape}\")"
   ]
  },
  {
   "cell_type": "code",
   "execution_count": 286,
   "metadata": {},
   "outputs": [],
   "source": [
    "model = models.Sequential()\n",
    "kernelNumber = 30\n",
    "model.add(layers.Conv1D(kernelNumber,sliceNumber,activation='relu',input_shape=(xTrain.shape[1],sliceNumber)))\n",
    "model.add(layers.MaxPool1D(1))\n",
    "model.add(layers.Flatten())\n",
    "model.add(layers.Dense(2,activation='softmax'))"
   ]
  },
  {
   "cell_type": "code",
   "execution_count": 287,
   "metadata": {},
   "outputs": [
    {
     "output_type": "stream",
     "name": "stdout",
     "text": [
      "Model: \"sequential_95\"\n_________________________________________________________________\nLayer (type)                 Output Shape              Param #   \n=================================================================\nconv1d_22 (Conv1D)           (None, 18, 30)            510       \n_________________________________________________________________\nmax_pooling1d_13 (MaxPooling (None, 18, 30)            0         \n_________________________________________________________________\nflatten_12 (Flatten)         (None, 540)               0         \n_________________________________________________________________\ndense_12 (Dense)             (None, 2)                 1082      \n=================================================================\nTotal params: 1,592\nTrainable params: 1,592\nNon-trainable params: 0\n_________________________________________________________________\n"
     ]
    }
   ],
   "source": [
    "model.summary()"
   ]
  },
  {
   "cell_type": "code",
   "execution_count": 292,
   "metadata": {},
   "outputs": [],
   "source": [
    "model.compile(optimizer='rmsprop',loss='kullback_leiber_divergence',metrics=['accuracy'])"
   ]
  },
  {
   "cell_type": "code",
   "execution_count": 293,
   "metadata": {},
   "outputs": [
    {
     "output_type": "stream",
     "name": "stdout",
     "text": [
      "0/4\n"
     ]
    },
    {
     "output_type": "error",
     "ename": "ValueError",
     "evalue": "in user code:\n\n    /home/adrien/.local/lib/python3.8/site-packages/tensorflow/python/keras/engine/training.py:806 train_function  *\n        return step_function(self, iterator)\n    /home/adrien/.local/lib/python3.8/site-packages/tensorflow/python/keras/engine/training.py:796 step_function  **\n        outputs = model.distribute_strategy.run(run_step, args=(data,))\n    /home/adrien/.local/lib/python3.8/site-packages/tensorflow/python/distribute/distribute_lib.py:1211 run\n        return self._extended.call_for_each_replica(fn, args=args, kwargs=kwargs)\n    /home/adrien/.local/lib/python3.8/site-packages/tensorflow/python/distribute/distribute_lib.py:2585 call_for_each_replica\n        return self._call_for_each_replica(fn, args, kwargs)\n    /home/adrien/.local/lib/python3.8/site-packages/tensorflow/python/distribute/distribute_lib.py:2945 _call_for_each_replica\n        return fn(*args, **kwargs)\n    /home/adrien/.local/lib/python3.8/site-packages/tensorflow/python/keras/engine/training.py:789 run_step  **\n        outputs = model.train_step(data)\n    /home/adrien/.local/lib/python3.8/site-packages/tensorflow/python/keras/engine/training.py:748 train_step\n        loss = self.compiled_loss(\n    /home/adrien/.local/lib/python3.8/site-packages/tensorflow/python/keras/engine/compile_utils.py:187 __call__\n        self.build(y_pred)\n    /home/adrien/.local/lib/python3.8/site-packages/tensorflow/python/keras/engine/compile_utils.py:140 build\n        self._losses = nest.map_structure(self._get_loss_object, self._losses)\n    /home/adrien/.local/lib/python3.8/site-packages/tensorflow/python/util/nest.py:635 map_structure\n        structure[0], [func(*x) for x in entries],\n    /home/adrien/.local/lib/python3.8/site-packages/tensorflow/python/util/nest.py:635 <listcomp>\n        structure[0], [func(*x) for x in entries],\n    /home/adrien/.local/lib/python3.8/site-packages/tensorflow/python/keras/engine/compile_utils.py:263 _get_loss_object\n        loss = losses_mod.get(loss)\n    /home/adrien/.local/lib/python3.8/site-packages/tensorflow/python/keras/losses.py:1895 get\n        return deserialize(identifier)\n    /home/adrien/.local/lib/python3.8/site-packages/tensorflow/python/keras/losses.py:1850 deserialize\n        return deserialize_keras_object(\n    /home/adrien/.local/lib/python3.8/site-packages/tensorflow/python/keras/utils/generic_utils.py:377 deserialize_keras_object\n        raise ValueError(\n\n    ValueError: Unknown loss function: kullback_leiber_divergence\n",
     "traceback": [
      "\u001b[0;31m---------------------------------------------------------------------------\u001b[0m",
      "\u001b[0;31mValueError\u001b[0m                                Traceback (most recent call last)",
      "\u001b[0;32m<ipython-input-293-83787c06ec00>\u001b[0m in \u001b[0;36m<module>\u001b[0;34m\u001b[0m\n\u001b[1;32m      1\u001b[0m \u001b[0;32mfor\u001b[0m \u001b[0mi\u001b[0m \u001b[0;32min\u001b[0m \u001b[0mrange\u001b[0m\u001b[0;34m(\u001b[0m\u001b[0myTrain\u001b[0m\u001b[0;34m.\u001b[0m\u001b[0mshape\u001b[0m\u001b[0;34m[\u001b[0m\u001b[0;36m0\u001b[0m\u001b[0;34m]\u001b[0m\u001b[0;34m)\u001b[0m\u001b[0;34m:\u001b[0m\u001b[0;34m\u001b[0m\u001b[0;34m\u001b[0m\u001b[0m\n\u001b[1;32m      2\u001b[0m     \u001b[0mprint\u001b[0m\u001b[0;34m(\u001b[0m\u001b[0;34mf\"{i}/{yTrain.shape[0]}\"\u001b[0m\u001b[0;34m)\u001b[0m\u001b[0;34m\u001b[0m\u001b[0;34m\u001b[0m\u001b[0m\n\u001b[0;32m----> 3\u001b[0;31m     \u001b[0mmodel\u001b[0m\u001b[0;34m.\u001b[0m\u001b[0mfit\u001b[0m\u001b[0;34m(\u001b[0m\u001b[0mxTrain\u001b[0m\u001b[0;34m,\u001b[0m\u001b[0myTrain\u001b[0m\u001b[0;34m[\u001b[0m\u001b[0mi\u001b[0m\u001b[0;34m]\u001b[0m\u001b[0;34m,\u001b[0m\u001b[0mvalidation_data\u001b[0m\u001b[0;34m=\u001b[0m\u001b[0;34m(\u001b[0m\u001b[0mxTest\u001b[0m\u001b[0;34m,\u001b[0m\u001b[0myTest\u001b[0m\u001b[0;34m[\u001b[0m\u001b[0mi\u001b[0m\u001b[0;34m]\u001b[0m\u001b[0;34m)\u001b[0m\u001b[0;34m)\u001b[0m\u001b[0;34m\u001b[0m\u001b[0;34m\u001b[0m\u001b[0m\n\u001b[0m",
      "\u001b[0;32m~/.local/lib/python3.8/site-packages/tensorflow/python/keras/engine/training.py\u001b[0m in \u001b[0;36m_method_wrapper\u001b[0;34m(self, *args, **kwargs)\u001b[0m\n\u001b[1;32m    106\u001b[0m   \u001b[0;32mdef\u001b[0m \u001b[0m_method_wrapper\u001b[0m\u001b[0;34m(\u001b[0m\u001b[0mself\u001b[0m\u001b[0;34m,\u001b[0m \u001b[0;34m*\u001b[0m\u001b[0margs\u001b[0m\u001b[0;34m,\u001b[0m \u001b[0;34m**\u001b[0m\u001b[0mkwargs\u001b[0m\u001b[0;34m)\u001b[0m\u001b[0;34m:\u001b[0m\u001b[0;34m\u001b[0m\u001b[0;34m\u001b[0m\u001b[0m\n\u001b[1;32m    107\u001b[0m     \u001b[0;32mif\u001b[0m \u001b[0;32mnot\u001b[0m \u001b[0mself\u001b[0m\u001b[0;34m.\u001b[0m\u001b[0m_in_multi_worker_mode\u001b[0m\u001b[0;34m(\u001b[0m\u001b[0;34m)\u001b[0m\u001b[0;34m:\u001b[0m  \u001b[0;31m# pylint: disable=protected-access\u001b[0m\u001b[0;34m\u001b[0m\u001b[0;34m\u001b[0m\u001b[0m\n\u001b[0;32m--> 108\u001b[0;31m       \u001b[0;32mreturn\u001b[0m \u001b[0mmethod\u001b[0m\u001b[0;34m(\u001b[0m\u001b[0mself\u001b[0m\u001b[0;34m,\u001b[0m \u001b[0;34m*\u001b[0m\u001b[0margs\u001b[0m\u001b[0;34m,\u001b[0m \u001b[0;34m**\u001b[0m\u001b[0mkwargs\u001b[0m\u001b[0;34m)\u001b[0m\u001b[0;34m\u001b[0m\u001b[0;34m\u001b[0m\u001b[0m\n\u001b[0m\u001b[1;32m    109\u001b[0m \u001b[0;34m\u001b[0m\u001b[0m\n\u001b[1;32m    110\u001b[0m     \u001b[0;31m# Running inside `run_distribute_coordinator` already.\u001b[0m\u001b[0;34m\u001b[0m\u001b[0;34m\u001b[0m\u001b[0;34m\u001b[0m\u001b[0m\n",
      "\u001b[0;32m~/.local/lib/python3.8/site-packages/tensorflow/python/keras/engine/training.py\u001b[0m in \u001b[0;36mfit\u001b[0;34m(self, x, y, batch_size, epochs, verbose, callbacks, validation_split, validation_data, shuffle, class_weight, sample_weight, initial_epoch, steps_per_epoch, validation_steps, validation_batch_size, validation_freq, max_queue_size, workers, use_multiprocessing)\u001b[0m\n\u001b[1;32m   1096\u001b[0m                 batch_size=batch_size):\n\u001b[1;32m   1097\u001b[0m               \u001b[0mcallbacks\u001b[0m\u001b[0;34m.\u001b[0m\u001b[0mon_train_batch_begin\u001b[0m\u001b[0;34m(\u001b[0m\u001b[0mstep\u001b[0m\u001b[0;34m)\u001b[0m\u001b[0;34m\u001b[0m\u001b[0;34m\u001b[0m\u001b[0m\n\u001b[0;32m-> 1098\u001b[0;31m               \u001b[0mtmp_logs\u001b[0m \u001b[0;34m=\u001b[0m \u001b[0mtrain_function\u001b[0m\u001b[0;34m(\u001b[0m\u001b[0miterator\u001b[0m\u001b[0;34m)\u001b[0m\u001b[0;34m\u001b[0m\u001b[0;34m\u001b[0m\u001b[0m\n\u001b[0m\u001b[1;32m   1099\u001b[0m               \u001b[0;32mif\u001b[0m \u001b[0mdata_handler\u001b[0m\u001b[0;34m.\u001b[0m\u001b[0mshould_sync\u001b[0m\u001b[0;34m:\u001b[0m\u001b[0;34m\u001b[0m\u001b[0;34m\u001b[0m\u001b[0m\n\u001b[1;32m   1100\u001b[0m                 \u001b[0mcontext\u001b[0m\u001b[0;34m.\u001b[0m\u001b[0masync_wait\u001b[0m\u001b[0;34m(\u001b[0m\u001b[0;34m)\u001b[0m\u001b[0;34m\u001b[0m\u001b[0;34m\u001b[0m\u001b[0m\n",
      "\u001b[0;32m~/.local/lib/python3.8/site-packages/tensorflow/python/eager/def_function.py\u001b[0m in \u001b[0;36m__call__\u001b[0;34m(self, *args, **kwds)\u001b[0m\n\u001b[1;32m    778\u001b[0m       \u001b[0;32melse\u001b[0m\u001b[0;34m:\u001b[0m\u001b[0;34m\u001b[0m\u001b[0;34m\u001b[0m\u001b[0m\n\u001b[1;32m    779\u001b[0m         \u001b[0mcompiler\u001b[0m \u001b[0;34m=\u001b[0m \u001b[0;34m\"nonXla\"\u001b[0m\u001b[0;34m\u001b[0m\u001b[0;34m\u001b[0m\u001b[0m\n\u001b[0;32m--> 780\u001b[0;31m         \u001b[0mresult\u001b[0m \u001b[0;34m=\u001b[0m \u001b[0mself\u001b[0m\u001b[0;34m.\u001b[0m\u001b[0m_call\u001b[0m\u001b[0;34m(\u001b[0m\u001b[0;34m*\u001b[0m\u001b[0margs\u001b[0m\u001b[0;34m,\u001b[0m \u001b[0;34m**\u001b[0m\u001b[0mkwds\u001b[0m\u001b[0;34m)\u001b[0m\u001b[0;34m\u001b[0m\u001b[0;34m\u001b[0m\u001b[0m\n\u001b[0m\u001b[1;32m    781\u001b[0m \u001b[0;34m\u001b[0m\u001b[0m\n\u001b[1;32m    782\u001b[0m       \u001b[0mnew_tracing_count\u001b[0m \u001b[0;34m=\u001b[0m \u001b[0mself\u001b[0m\u001b[0;34m.\u001b[0m\u001b[0m_get_tracing_count\u001b[0m\u001b[0;34m(\u001b[0m\u001b[0;34m)\u001b[0m\u001b[0;34m\u001b[0m\u001b[0;34m\u001b[0m\u001b[0m\n",
      "\u001b[0;32m~/.local/lib/python3.8/site-packages/tensorflow/python/eager/def_function.py\u001b[0m in \u001b[0;36m_call\u001b[0;34m(self, *args, **kwds)\u001b[0m\n\u001b[1;32m    821\u001b[0m       \u001b[0;31m# This is the first call of __call__, so we have to initialize.\u001b[0m\u001b[0;34m\u001b[0m\u001b[0;34m\u001b[0m\u001b[0;34m\u001b[0m\u001b[0m\n\u001b[1;32m    822\u001b[0m       \u001b[0minitializers\u001b[0m \u001b[0;34m=\u001b[0m \u001b[0;34m[\u001b[0m\u001b[0;34m]\u001b[0m\u001b[0;34m\u001b[0m\u001b[0;34m\u001b[0m\u001b[0m\n\u001b[0;32m--> 823\u001b[0;31m       \u001b[0mself\u001b[0m\u001b[0;34m.\u001b[0m\u001b[0m_initialize\u001b[0m\u001b[0;34m(\u001b[0m\u001b[0margs\u001b[0m\u001b[0;34m,\u001b[0m \u001b[0mkwds\u001b[0m\u001b[0;34m,\u001b[0m \u001b[0madd_initializers_to\u001b[0m\u001b[0;34m=\u001b[0m\u001b[0minitializers\u001b[0m\u001b[0;34m)\u001b[0m\u001b[0;34m\u001b[0m\u001b[0;34m\u001b[0m\u001b[0m\n\u001b[0m\u001b[1;32m    824\u001b[0m     \u001b[0;32mfinally\u001b[0m\u001b[0;34m:\u001b[0m\u001b[0;34m\u001b[0m\u001b[0;34m\u001b[0m\u001b[0m\n\u001b[1;32m    825\u001b[0m       \u001b[0;31m# At this point we know that the initialization is complete (or less\u001b[0m\u001b[0;34m\u001b[0m\u001b[0;34m\u001b[0m\u001b[0;34m\u001b[0m\u001b[0m\n",
      "\u001b[0;32m~/.local/lib/python3.8/site-packages/tensorflow/python/eager/def_function.py\u001b[0m in \u001b[0;36m_initialize\u001b[0;34m(self, args, kwds, add_initializers_to)\u001b[0m\n\u001b[1;32m    694\u001b[0m     \u001b[0mself\u001b[0m\u001b[0;34m.\u001b[0m\u001b[0m_graph_deleter\u001b[0m \u001b[0;34m=\u001b[0m \u001b[0mFunctionDeleter\u001b[0m\u001b[0;34m(\u001b[0m\u001b[0mself\u001b[0m\u001b[0;34m.\u001b[0m\u001b[0m_lifted_initializer_graph\u001b[0m\u001b[0;34m)\u001b[0m\u001b[0;34m\u001b[0m\u001b[0;34m\u001b[0m\u001b[0m\n\u001b[1;32m    695\u001b[0m     self._concrete_stateful_fn = (\n\u001b[0;32m--> 696\u001b[0;31m         self._stateful_fn._get_concrete_function_internal_garbage_collected(  # pylint: disable=protected-access\n\u001b[0m\u001b[1;32m    697\u001b[0m             *args, **kwds))\n\u001b[1;32m    698\u001b[0m \u001b[0;34m\u001b[0m\u001b[0m\n",
      "\u001b[0;32m~/.local/lib/python3.8/site-packages/tensorflow/python/eager/function.py\u001b[0m in \u001b[0;36m_get_concrete_function_internal_garbage_collected\u001b[0;34m(self, *args, **kwargs)\u001b[0m\n\u001b[1;32m   2853\u001b[0m       \u001b[0margs\u001b[0m\u001b[0;34m,\u001b[0m \u001b[0mkwargs\u001b[0m \u001b[0;34m=\u001b[0m \u001b[0;32mNone\u001b[0m\u001b[0;34m,\u001b[0m \u001b[0;32mNone\u001b[0m\u001b[0;34m\u001b[0m\u001b[0;34m\u001b[0m\u001b[0m\n\u001b[1;32m   2854\u001b[0m     \u001b[0;32mwith\u001b[0m \u001b[0mself\u001b[0m\u001b[0;34m.\u001b[0m\u001b[0m_lock\u001b[0m\u001b[0;34m:\u001b[0m\u001b[0;34m\u001b[0m\u001b[0;34m\u001b[0m\u001b[0m\n\u001b[0;32m-> 2855\u001b[0;31m       \u001b[0mgraph_function\u001b[0m\u001b[0;34m,\u001b[0m \u001b[0m_\u001b[0m\u001b[0;34m,\u001b[0m \u001b[0m_\u001b[0m \u001b[0;34m=\u001b[0m \u001b[0mself\u001b[0m\u001b[0;34m.\u001b[0m\u001b[0m_maybe_define_function\u001b[0m\u001b[0;34m(\u001b[0m\u001b[0margs\u001b[0m\u001b[0;34m,\u001b[0m \u001b[0mkwargs\u001b[0m\u001b[0;34m)\u001b[0m\u001b[0;34m\u001b[0m\u001b[0;34m\u001b[0m\u001b[0m\n\u001b[0m\u001b[1;32m   2856\u001b[0m     \u001b[0;32mreturn\u001b[0m \u001b[0mgraph_function\u001b[0m\u001b[0;34m\u001b[0m\u001b[0;34m\u001b[0m\u001b[0m\n\u001b[1;32m   2857\u001b[0m \u001b[0;34m\u001b[0m\u001b[0m\n",
      "\u001b[0;32m~/.local/lib/python3.8/site-packages/tensorflow/python/eager/function.py\u001b[0m in \u001b[0;36m_maybe_define_function\u001b[0;34m(self, args, kwargs)\u001b[0m\n\u001b[1;32m   3211\u001b[0m \u001b[0;34m\u001b[0m\u001b[0m\n\u001b[1;32m   3212\u001b[0m       \u001b[0mself\u001b[0m\u001b[0;34m.\u001b[0m\u001b[0m_function_cache\u001b[0m\u001b[0;34m.\u001b[0m\u001b[0mmissed\u001b[0m\u001b[0;34m.\u001b[0m\u001b[0madd\u001b[0m\u001b[0;34m(\u001b[0m\u001b[0mcall_context_key\u001b[0m\u001b[0;34m)\u001b[0m\u001b[0;34m\u001b[0m\u001b[0;34m\u001b[0m\u001b[0m\n\u001b[0;32m-> 3213\u001b[0;31m       \u001b[0mgraph_function\u001b[0m \u001b[0;34m=\u001b[0m \u001b[0mself\u001b[0m\u001b[0;34m.\u001b[0m\u001b[0m_create_graph_function\u001b[0m\u001b[0;34m(\u001b[0m\u001b[0margs\u001b[0m\u001b[0;34m,\u001b[0m \u001b[0mkwargs\u001b[0m\u001b[0;34m)\u001b[0m\u001b[0;34m\u001b[0m\u001b[0;34m\u001b[0m\u001b[0m\n\u001b[0m\u001b[1;32m   3214\u001b[0m       \u001b[0mself\u001b[0m\u001b[0;34m.\u001b[0m\u001b[0m_function_cache\u001b[0m\u001b[0;34m.\u001b[0m\u001b[0mprimary\u001b[0m\u001b[0;34m[\u001b[0m\u001b[0mcache_key\u001b[0m\u001b[0;34m]\u001b[0m \u001b[0;34m=\u001b[0m \u001b[0mgraph_function\u001b[0m\u001b[0;34m\u001b[0m\u001b[0;34m\u001b[0m\u001b[0m\n\u001b[1;32m   3215\u001b[0m       \u001b[0;32mreturn\u001b[0m \u001b[0mgraph_function\u001b[0m\u001b[0;34m,\u001b[0m \u001b[0margs\u001b[0m\u001b[0;34m,\u001b[0m \u001b[0mkwargs\u001b[0m\u001b[0;34m\u001b[0m\u001b[0;34m\u001b[0m\u001b[0m\n",
      "\u001b[0;32m~/.local/lib/python3.8/site-packages/tensorflow/python/eager/function.py\u001b[0m in \u001b[0;36m_create_graph_function\u001b[0;34m(self, args, kwargs, override_flat_arg_shapes)\u001b[0m\n\u001b[1;32m   3063\u001b[0m     \u001b[0marg_names\u001b[0m \u001b[0;34m=\u001b[0m \u001b[0mbase_arg_names\u001b[0m \u001b[0;34m+\u001b[0m \u001b[0mmissing_arg_names\u001b[0m\u001b[0;34m\u001b[0m\u001b[0;34m\u001b[0m\u001b[0m\n\u001b[1;32m   3064\u001b[0m     graph_function = ConcreteFunction(\n\u001b[0;32m-> 3065\u001b[0;31m         func_graph_module.func_graph_from_py_func(\n\u001b[0m\u001b[1;32m   3066\u001b[0m             \u001b[0mself\u001b[0m\u001b[0;34m.\u001b[0m\u001b[0m_name\u001b[0m\u001b[0;34m,\u001b[0m\u001b[0;34m\u001b[0m\u001b[0;34m\u001b[0m\u001b[0m\n\u001b[1;32m   3067\u001b[0m             \u001b[0mself\u001b[0m\u001b[0;34m.\u001b[0m\u001b[0m_python_function\u001b[0m\u001b[0;34m,\u001b[0m\u001b[0;34m\u001b[0m\u001b[0;34m\u001b[0m\u001b[0m\n",
      "\u001b[0;32m~/.local/lib/python3.8/site-packages/tensorflow/python/framework/func_graph.py\u001b[0m in \u001b[0;36mfunc_graph_from_py_func\u001b[0;34m(name, python_func, args, kwargs, signature, func_graph, autograph, autograph_options, add_control_dependencies, arg_names, op_return_value, collections, capture_by_value, override_flat_arg_shapes)\u001b[0m\n\u001b[1;32m    984\u001b[0m         \u001b[0m_\u001b[0m\u001b[0;34m,\u001b[0m \u001b[0moriginal_func\u001b[0m \u001b[0;34m=\u001b[0m \u001b[0mtf_decorator\u001b[0m\u001b[0;34m.\u001b[0m\u001b[0munwrap\u001b[0m\u001b[0;34m(\u001b[0m\u001b[0mpython_func\u001b[0m\u001b[0;34m)\u001b[0m\u001b[0;34m\u001b[0m\u001b[0;34m\u001b[0m\u001b[0m\n\u001b[1;32m    985\u001b[0m \u001b[0;34m\u001b[0m\u001b[0m\n\u001b[0;32m--> 986\u001b[0;31m       \u001b[0mfunc_outputs\u001b[0m \u001b[0;34m=\u001b[0m \u001b[0mpython_func\u001b[0m\u001b[0;34m(\u001b[0m\u001b[0;34m*\u001b[0m\u001b[0mfunc_args\u001b[0m\u001b[0;34m,\u001b[0m \u001b[0;34m**\u001b[0m\u001b[0mfunc_kwargs\u001b[0m\u001b[0;34m)\u001b[0m\u001b[0;34m\u001b[0m\u001b[0;34m\u001b[0m\u001b[0m\n\u001b[0m\u001b[1;32m    987\u001b[0m \u001b[0;34m\u001b[0m\u001b[0m\n\u001b[1;32m    988\u001b[0m       \u001b[0;31m# invariant: `func_outputs` contains only Tensors, CompositeTensors,\u001b[0m\u001b[0;34m\u001b[0m\u001b[0;34m\u001b[0m\u001b[0;34m\u001b[0m\u001b[0m\n",
      "\u001b[0;32m~/.local/lib/python3.8/site-packages/tensorflow/python/eager/def_function.py\u001b[0m in \u001b[0;36mwrapped_fn\u001b[0;34m(*args, **kwds)\u001b[0m\n\u001b[1;32m    598\u001b[0m         \u001b[0;31m# __wrapped__ allows AutoGraph to swap in a converted function. We give\u001b[0m\u001b[0;34m\u001b[0m\u001b[0;34m\u001b[0m\u001b[0;34m\u001b[0m\u001b[0m\n\u001b[1;32m    599\u001b[0m         \u001b[0;31m# the function a weak reference to itself to avoid a reference cycle.\u001b[0m\u001b[0;34m\u001b[0m\u001b[0;34m\u001b[0m\u001b[0;34m\u001b[0m\u001b[0m\n\u001b[0;32m--> 600\u001b[0;31m         \u001b[0;32mreturn\u001b[0m \u001b[0mweak_wrapped_fn\u001b[0m\u001b[0;34m(\u001b[0m\u001b[0;34m)\u001b[0m\u001b[0;34m.\u001b[0m\u001b[0m__wrapped__\u001b[0m\u001b[0;34m(\u001b[0m\u001b[0;34m*\u001b[0m\u001b[0margs\u001b[0m\u001b[0;34m,\u001b[0m \u001b[0;34m**\u001b[0m\u001b[0mkwds\u001b[0m\u001b[0;34m)\u001b[0m\u001b[0;34m\u001b[0m\u001b[0;34m\u001b[0m\u001b[0m\n\u001b[0m\u001b[1;32m    601\u001b[0m     \u001b[0mweak_wrapped_fn\u001b[0m \u001b[0;34m=\u001b[0m \u001b[0mweakref\u001b[0m\u001b[0;34m.\u001b[0m\u001b[0mref\u001b[0m\u001b[0;34m(\u001b[0m\u001b[0mwrapped_fn\u001b[0m\u001b[0;34m)\u001b[0m\u001b[0;34m\u001b[0m\u001b[0;34m\u001b[0m\u001b[0m\n\u001b[1;32m    602\u001b[0m \u001b[0;34m\u001b[0m\u001b[0m\n",
      "\u001b[0;32m~/.local/lib/python3.8/site-packages/tensorflow/python/framework/func_graph.py\u001b[0m in \u001b[0;36mwrapper\u001b[0;34m(*args, **kwargs)\u001b[0m\n\u001b[1;32m    971\u001b[0m           \u001b[0;32mexcept\u001b[0m \u001b[0mException\u001b[0m \u001b[0;32mas\u001b[0m \u001b[0me\u001b[0m\u001b[0;34m:\u001b[0m  \u001b[0;31m# pylint:disable=broad-except\u001b[0m\u001b[0;34m\u001b[0m\u001b[0;34m\u001b[0m\u001b[0m\n\u001b[1;32m    972\u001b[0m             \u001b[0;32mif\u001b[0m \u001b[0mhasattr\u001b[0m\u001b[0;34m(\u001b[0m\u001b[0me\u001b[0m\u001b[0;34m,\u001b[0m \u001b[0;34m\"ag_error_metadata\"\u001b[0m\u001b[0;34m)\u001b[0m\u001b[0;34m:\u001b[0m\u001b[0;34m\u001b[0m\u001b[0;34m\u001b[0m\u001b[0m\n\u001b[0;32m--> 973\u001b[0;31m               \u001b[0;32mraise\u001b[0m \u001b[0me\u001b[0m\u001b[0;34m.\u001b[0m\u001b[0mag_error_metadata\u001b[0m\u001b[0;34m.\u001b[0m\u001b[0mto_exception\u001b[0m\u001b[0;34m(\u001b[0m\u001b[0me\u001b[0m\u001b[0;34m)\u001b[0m\u001b[0;34m\u001b[0m\u001b[0;34m\u001b[0m\u001b[0m\n\u001b[0m\u001b[1;32m    974\u001b[0m             \u001b[0;32melse\u001b[0m\u001b[0;34m:\u001b[0m\u001b[0;34m\u001b[0m\u001b[0;34m\u001b[0m\u001b[0m\n\u001b[1;32m    975\u001b[0m               \u001b[0;32mraise\u001b[0m\u001b[0;34m\u001b[0m\u001b[0;34m\u001b[0m\u001b[0m\n",
      "\u001b[0;31mValueError\u001b[0m: in user code:\n\n    /home/adrien/.local/lib/python3.8/site-packages/tensorflow/python/keras/engine/training.py:806 train_function  *\n        return step_function(self, iterator)\n    /home/adrien/.local/lib/python3.8/site-packages/tensorflow/python/keras/engine/training.py:796 step_function  **\n        outputs = model.distribute_strategy.run(run_step, args=(data,))\n    /home/adrien/.local/lib/python3.8/site-packages/tensorflow/python/distribute/distribute_lib.py:1211 run\n        return self._extended.call_for_each_replica(fn, args=args, kwargs=kwargs)\n    /home/adrien/.local/lib/python3.8/site-packages/tensorflow/python/distribute/distribute_lib.py:2585 call_for_each_replica\n        return self._call_for_each_replica(fn, args, kwargs)\n    /home/adrien/.local/lib/python3.8/site-packages/tensorflow/python/distribute/distribute_lib.py:2945 _call_for_each_replica\n        return fn(*args, **kwargs)\n    /home/adrien/.local/lib/python3.8/site-packages/tensorflow/python/keras/engine/training.py:789 run_step  **\n        outputs = model.train_step(data)\n    /home/adrien/.local/lib/python3.8/site-packages/tensorflow/python/keras/engine/training.py:748 train_step\n        loss = self.compiled_loss(\n    /home/adrien/.local/lib/python3.8/site-packages/tensorflow/python/keras/engine/compile_utils.py:187 __call__\n        self.build(y_pred)\n    /home/adrien/.local/lib/python3.8/site-packages/tensorflow/python/keras/engine/compile_utils.py:140 build\n        self._losses = nest.map_structure(self._get_loss_object, self._losses)\n    /home/adrien/.local/lib/python3.8/site-packages/tensorflow/python/util/nest.py:635 map_structure\n        structure[0], [func(*x) for x in entries],\n    /home/adrien/.local/lib/python3.8/site-packages/tensorflow/python/util/nest.py:635 <listcomp>\n        structure[0], [func(*x) for x in entries],\n    /home/adrien/.local/lib/python3.8/site-packages/tensorflow/python/keras/engine/compile_utils.py:263 _get_loss_object\n        loss = losses_mod.get(loss)\n    /home/adrien/.local/lib/python3.8/site-packages/tensorflow/python/keras/losses.py:1895 get\n        return deserialize(identifier)\n    /home/adrien/.local/lib/python3.8/site-packages/tensorflow/python/keras/losses.py:1850 deserialize\n        return deserialize_keras_object(\n    /home/adrien/.local/lib/python3.8/site-packages/tensorflow/python/keras/utils/generic_utils.py:377 deserialize_keras_object\n        raise ValueError(\n\n    ValueError: Unknown loss function: kullback_leiber_divergence\n"
     ]
    }
   ],
   "source": [
    "for i in range(yTrain.shape[0]):\n",
    "    print(f\"{i}/{yTrain.shape[0]}\")\n",
    "    model.fit(xTrain,yTrain[i],validation_data=(xTest,yTest[i]))"
   ]
  },
  {
   "cell_type": "code",
   "execution_count": 268,
   "metadata": {},
   "outputs": [
    {
     "output_type": "stream",
     "name": "stdout",
     "text": [
      "106/106 [==============================] - 0s 3ms/step - loss: 402.7565 - accuracy: 0.1210\n"
     ]
    },
    {
     "output_type": "execute_result",
     "data": {
      "text/plain": [
       "<tensorflow.python.keras.callbacks.History at 0x7f6bc03c38e0>"
      ]
     },
     "metadata": {},
     "execution_count": 268
    }
   ],
   "source": [
    "model.fit(xTrain,yTrain[i])"
   ]
  },
  {
   "cell_type": "code",
   "execution_count": null,
   "metadata": {},
   "outputs": [],
   "source": []
  }
 ]
}