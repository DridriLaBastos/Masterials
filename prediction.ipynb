{
  "nbformat": 4,
  "nbformat_minor": 0,
  "metadata": {
    "language_info": {
      "codemirror_mode": {
        "name": "ipython",
        "version": 3
      },
      "file_extension": ".py",
      "mimetype": "text/x-python",
      "name": "python",
      "nbconvert_exporter": "python",
      "pygments_lexer": "ipython3",
      "version": "3.7.3-final"
    },
    "orig_nbformat": 2,
    "kernelspec": {
      "name": "python3",
      "display_name": "Python 3.7.3 64-bit",
      "metadata": {
        "interpreter": {
          "hash": "5edc29c2ed010d6458d71a83433b383a96a8cbd3efe8531bc90c4b8a5b8bcec9"
        }
      }
    },
    "colab": {
      "name": "moreTrainingDataFDP.ipynb",
      "provenance": [],
      "collapsed_sections": [
        "_OunT7DyBt1U",
        "UMkds8B1Bt1Z",
        "TQsluJOxBt1l",
        "KYWq5P6RBt1w",
        "6EH8JMyWBt1x",
        "h3jL_58lBt14",
        "-vTDeultBt18",
        "3RwhcepIBt2P",
        "lVPV96Q4Bt2S"
      ]
    },
    "accelerator": "GPU"
  },
  "cells": [
    {
      "cell_type": "markdown",
      "metadata": {
        "id": "hUXYuA1KBt0u"
      },
      "source": [
        "## Imports"
      ]
    },
    {
      "cell_type": "code",
      "metadata": {
        "id": "tkh0VDKiBt0x"
      },
      "source": [
        "import pandas as pd\n",
        "import numpy as np\n",
        "import datetime, os\n",
        "\n",
        "import tensorflow as tf\n",
        "\n",
        "import keras\n",
        "\n",
        "from sklearn.preprocessing import LabelEncoder\n",
        "from sklearn.preprocessing import OrdinalEncoder\n",
        "\n",
        "from matplotlib import pyplot as plt\n",
        "\n",
        "from keras import Input\n",
        "from keras import Model\n",
        "from keras import layers\n",
        "from keras import models\n",
        "from keras import losses\n",
        "from keras.utils import to_categorical\n",
        "from keras.preprocessing import timeseries_dataset_from_array"
      ],
      "execution_count": null,
      "outputs": []
    },
    {
      "cell_type": "markdown",
      "metadata": {
        "id": "rh5BJWiTBt0z"
      },
      "source": [
        "## Test whether Notebook is running on Google Colab"
      ]
    },
    {
      "cell_type": "code",
      "metadata": {
        "id": "L1jsBk4HBt00"
      },
      "source": [
        "csvPath = ''\n",
        "if 'google.colab' in str(get_ipython()):\n",
        "  csvPath = 'https://github.com/DridriLaBastos/Masterials/raw/main/PatientsHTA.zip'\n",
        "else:\n",
        "  csvPath = 'PatientsHTA.zip'"
      ],
      "execution_count": null,
      "outputs": []
    },
    {
      "cell_type": "code",
      "metadata": {
        "id": "R_PZ5gvfBt00"
      },
      "source": [
        "dateColumnNames = [\n",
        "    'contact_date',\n",
        "    'Glycemie_der_date',\n",
        "    'HbA1c_der_date',\n",
        "    'der_date_poids',\n",
        "    'der_date_taille',\n",
        "    'first_contact_date'\n",
        "]\n",
        "\n",
        "df = pd.read_csv(csvPath,engine='c',parse_dates=dateColumnNames)"
      ],
      "execution_count": null,
      "outputs": []
    },
    {
      "cell_type": "markdown",
      "metadata": {
        "id": "u1H_O4iABt02"
      },
      "source": [
        "# Suppression des lignes trop peu nombreuses\n",
        "\n",
        "Nous souhaitons faire un apprentissage en utilisant la dimension temporelle comme filtre pour le CNN. Pour ça il faut donc que nous ayons plusieurs entrées. Avant de commencer à traîter les données, nous supprimons toutes les personnes qui n'ont pas rendu visite assez souvent à leur médecin. Ainsi, par le biais de ```person_id```, nous avons choisi arbitrairement que pour être utile à l'apprentissage, il faut au moins 3 visites par patients, soient toutes les lignes dont le ```person_id```est contenu plus de 3 fois dans tout le jeu de données."
      ]
    },
    {
      "cell_type": "code",
      "metadata": {
        "id": "OvG-6qVABt04"
      },
      "source": [
        "VISIT_NUMBER = 4\n",
        "valueCounts = df.person_id.value_counts()\n",
        "dfEnought = df[df.person_id.isin(valueCounts[valueCounts.values >= VISIT_NUMBER].index)]"
      ],
      "execution_count": null,
      "outputs": []
    },
    {
      "cell_type": "markdown",
      "metadata": {
        "id": "t6-dtaEZBt05"
      },
      "source": [
        "# Suppression des colonnes innutiles"
      ]
    },
    {
      "cell_type": "markdown",
      "metadata": {
        "id": "gXurQoWcBt05"
      },
      "source": [
        "## Suppression de la colonne ```age_now```"
      ]
    },
    {
      "cell_type": "markdown",
      "metadata": {
        "id": "PMQLvlvwBt1C"
      },
      "source": [
        "Nous pouvons supprimer la colonne ```age_now``` car les données qu'elle contient sont identiques à celles de la colonne ```year_of_birth```."
      ]
    },
    {
      "cell_type": "code",
      "metadata": {
        "id": "vQ_ecbTgBt1F"
      },
      "source": [
        "dfWithoutAgeNow = dfEnought.drop('Age_now', axis='columns')"
      ],
      "execution_count": null,
      "outputs": []
    },
    {
      "cell_type": "markdown",
      "metadata": {
        "id": "EVZw6fu5Bt1G"
      },
      "source": [
        "## Suppression de la colonne ```contact_id```\n",
        "\n",
        "En effet, la colonne ```contact_id``` ne représente aucun intérêt pour l'apprentissage car elle ne contient aucun information à même d'influer sur la prédiction."
      ]
    },
    {
      "cell_type": "code",
      "metadata": {
        "id": "bIhnr6Q8Bt1I"
      },
      "source": [
        "dfWithoutContactID = dfWithoutAgeNow.drop('contact_id',axis='columns')"
      ],
      "execution_count": null,
      "outputs": []
    },
    {
      "cell_type": "markdown",
      "metadata": {
        "id": "oWGOZTSLBt1K"
      },
      "source": [
        "## Suppression des noms de médicaments"
      ]
    },
    {
      "cell_type": "code",
      "metadata": {
        "colab": {
          "base_uri": "https://localhost:8080/",
          "height": 1000
        },
        "id": "bloGqpJsBt1L",
        "outputId": "113210ec-220f-484f-e081-466b9c46aeed"
      },
      "source": [
        "dfGroupedByMoleculeLabel = dfWithoutContactID.groupby('product_atc_code')[['molecule_label','short_name','long_name','Classe','product_atc']].count()\n",
        "dfGroupedByMoleculeLabel"
      ],
      "execution_count": null,
      "outputs": [
        {
          "output_type": "execute_result",
          "data": {
            "text/html": [
              "<div>\n",
              "<style scoped>\n",
              "    .dataframe tbody tr th:only-of-type {\n",
              "        vertical-align: middle;\n",
              "    }\n",
              "\n",
              "    .dataframe tbody tr th {\n",
              "        vertical-align: top;\n",
              "    }\n",
              "\n",
              "    .dataframe thead th {\n",
              "        text-align: right;\n",
              "    }\n",
              "</style>\n",
              "<table border=\"1\" class=\"dataframe\">\n",
              "  <thead>\n",
              "    <tr style=\"text-align: right;\">\n",
              "      <th></th>\n",
              "      <th>molecule_label</th>\n",
              "      <th>short_name</th>\n",
              "      <th>long_name</th>\n",
              "      <th>Classe</th>\n",
              "      <th>product_atc</th>\n",
              "    </tr>\n",
              "    <tr>\n",
              "      <th>product_atc_code</th>\n",
              "      <th></th>\n",
              "      <th></th>\n",
              "      <th></th>\n",
              "      <th></th>\n",
              "      <th></th>\n",
              "    </tr>\n",
              "  </thead>\n",
              "  <tbody>\n",
              "    <tr>\n",
              "      <th>C02AC06</th>\n",
              "      <td>4288</td>\n",
              "      <td>4288</td>\n",
              "      <td>4288</td>\n",
              "      <td>4288</td>\n",
              "      <td>4288</td>\n",
              "    </tr>\n",
              "    <tr>\n",
              "      <th>C03BX03</th>\n",
              "      <td>932</td>\n",
              "      <td>932</td>\n",
              "      <td>932</td>\n",
              "      <td>932</td>\n",
              "      <td>932</td>\n",
              "    </tr>\n",
              "    <tr>\n",
              "      <th>C03CA01</th>\n",
              "      <td>877</td>\n",
              "      <td>877</td>\n",
              "      <td>877</td>\n",
              "      <td>877</td>\n",
              "      <td>877</td>\n",
              "    </tr>\n",
              "    <tr>\n",
              "      <th>C03DA01</th>\n",
              "      <td>187</td>\n",
              "      <td>187</td>\n",
              "      <td>187</td>\n",
              "      <td>187</td>\n",
              "      <td>187</td>\n",
              "    </tr>\n",
              "    <tr>\n",
              "      <th>C03DA04</th>\n",
              "      <td>27</td>\n",
              "      <td>27</td>\n",
              "      <td>27</td>\n",
              "      <td>27</td>\n",
              "      <td>27</td>\n",
              "    </tr>\n",
              "    <tr>\n",
              "      <th>C03EA04</th>\n",
              "      <td>75</td>\n",
              "      <td>75</td>\n",
              "      <td>75</td>\n",
              "      <td>75</td>\n",
              "      <td>75</td>\n",
              "    </tr>\n",
              "    <tr>\n",
              "      <th>C03EB01</th>\n",
              "      <td>14</td>\n",
              "      <td>14</td>\n",
              "      <td>14</td>\n",
              "      <td>14</td>\n",
              "      <td>14</td>\n",
              "    </tr>\n",
              "    <tr>\n",
              "      <th>C07AA05</th>\n",
              "      <td>2</td>\n",
              "      <td>2</td>\n",
              "      <td>2</td>\n",
              "      <td>2</td>\n",
              "      <td>2</td>\n",
              "    </tr>\n",
              "    <tr>\n",
              "      <th>C07AB03</th>\n",
              "      <td>6466</td>\n",
              "      <td>6466</td>\n",
              "      <td>6466</td>\n",
              "      <td>6466</td>\n",
              "      <td>6466</td>\n",
              "    </tr>\n",
              "    <tr>\n",
              "      <th>C07AB04</th>\n",
              "      <td>39</td>\n",
              "      <td>39</td>\n",
              "      <td>39</td>\n",
              "      <td>39</td>\n",
              "      <td>39</td>\n",
              "    </tr>\n",
              "    <tr>\n",
              "      <th>C07AB07</th>\n",
              "      <td>6765</td>\n",
              "      <td>6765</td>\n",
              "      <td>6765</td>\n",
              "      <td>6765</td>\n",
              "      <td>6765</td>\n",
              "    </tr>\n",
              "    <tr>\n",
              "      <th>C07AB12</th>\n",
              "      <td>509</td>\n",
              "      <td>509</td>\n",
              "      <td>509</td>\n",
              "      <td>509</td>\n",
              "      <td>509</td>\n",
              "    </tr>\n",
              "    <tr>\n",
              "      <th>C07DB01</th>\n",
              "      <td>10</td>\n",
              "      <td>10</td>\n",
              "      <td>10</td>\n",
              "      <td>10</td>\n",
              "      <td>10</td>\n",
              "    </tr>\n",
              "    <tr>\n",
              "      <th>C08CA01</th>\n",
              "      <td>679</td>\n",
              "      <td>679</td>\n",
              "      <td>679</td>\n",
              "      <td>679</td>\n",
              "      <td>679</td>\n",
              "    </tr>\n",
              "    <tr>\n",
              "      <th>C08DB01</th>\n",
              "      <td>108</td>\n",
              "      <td>108</td>\n",
              "      <td>108</td>\n",
              "      <td>108</td>\n",
              "      <td>108</td>\n",
              "    </tr>\n",
              "    <tr>\n",
              "      <th>C09AA02</th>\n",
              "      <td>50</td>\n",
              "      <td>50</td>\n",
              "      <td>50</td>\n",
              "      <td>50</td>\n",
              "      <td>50</td>\n",
              "    </tr>\n",
              "    <tr>\n",
              "      <th>C09AA03</th>\n",
              "      <td>47</td>\n",
              "      <td>47</td>\n",
              "      <td>47</td>\n",
              "      <td>47</td>\n",
              "      <td>47</td>\n",
              "    </tr>\n",
              "    <tr>\n",
              "      <th>C09AA04</th>\n",
              "      <td>1183</td>\n",
              "      <td>1183</td>\n",
              "      <td>1183</td>\n",
              "      <td>1183</td>\n",
              "      <td>1183</td>\n",
              "    </tr>\n",
              "    <tr>\n",
              "      <th>C09AA05</th>\n",
              "      <td>232</td>\n",
              "      <td>232</td>\n",
              "      <td>232</td>\n",
              "      <td>232</td>\n",
              "      <td>232</td>\n",
              "    </tr>\n",
              "    <tr>\n",
              "      <th>C09AA06</th>\n",
              "      <td>20</td>\n",
              "      <td>20</td>\n",
              "      <td>20</td>\n",
              "      <td>20</td>\n",
              "      <td>20</td>\n",
              "    </tr>\n",
              "    <tr>\n",
              "      <th>C09BA02</th>\n",
              "      <td>11</td>\n",
              "      <td>11</td>\n",
              "      <td>11</td>\n",
              "      <td>11</td>\n",
              "      <td>11</td>\n",
              "    </tr>\n",
              "    <tr>\n",
              "      <th>C09BA04</th>\n",
              "      <td>920</td>\n",
              "      <td>920</td>\n",
              "      <td>920</td>\n",
              "      <td>920</td>\n",
              "      <td>920</td>\n",
              "    </tr>\n",
              "    <tr>\n",
              "      <th>C09CA01</th>\n",
              "      <td>277</td>\n",
              "      <td>277</td>\n",
              "      <td>277</td>\n",
              "      <td>277</td>\n",
              "      <td>277</td>\n",
              "    </tr>\n",
              "    <tr>\n",
              "      <th>C09CA03</th>\n",
              "      <td>2702</td>\n",
              "      <td>2702</td>\n",
              "      <td>2702</td>\n",
              "      <td>2702</td>\n",
              "      <td>2702</td>\n",
              "    </tr>\n",
              "    <tr>\n",
              "      <th>C09CA04</th>\n",
              "      <td>618</td>\n",
              "      <td>618</td>\n",
              "      <td>618</td>\n",
              "      <td>618</td>\n",
              "      <td>618</td>\n",
              "    </tr>\n",
              "    <tr>\n",
              "      <th>C09CA06</th>\n",
              "      <td>1291</td>\n",
              "      <td>1291</td>\n",
              "      <td>1291</td>\n",
              "      <td>1291</td>\n",
              "      <td>1291</td>\n",
              "    </tr>\n",
              "    <tr>\n",
              "      <th>C09CA07</th>\n",
              "      <td>109</td>\n",
              "      <td>109</td>\n",
              "      <td>109</td>\n",
              "      <td>109</td>\n",
              "      <td>109</td>\n",
              "    </tr>\n",
              "    <tr>\n",
              "      <th>C09DA01</th>\n",
              "      <td>542</td>\n",
              "      <td>542</td>\n",
              "      <td>542</td>\n",
              "      <td>542</td>\n",
              "      <td>542</td>\n",
              "    </tr>\n",
              "    <tr>\n",
              "      <th>C09DA03</th>\n",
              "      <td>1834</td>\n",
              "      <td>1834</td>\n",
              "      <td>1834</td>\n",
              "      <td>1834</td>\n",
              "      <td>1834</td>\n",
              "    </tr>\n",
              "    <tr>\n",
              "      <th>C09DA04</th>\n",
              "      <td>581</td>\n",
              "      <td>581</td>\n",
              "      <td>581</td>\n",
              "      <td>581</td>\n",
              "      <td>581</td>\n",
              "    </tr>\n",
              "    <tr>\n",
              "      <th>C09DB04</th>\n",
              "      <td>5212</td>\n",
              "      <td>5212</td>\n",
              "      <td>5212</td>\n",
              "      <td>5212</td>\n",
              "      <td>5212</td>\n",
              "    </tr>\n",
              "    <tr>\n",
              "      <th>C09XA02</th>\n",
              "      <td>63</td>\n",
              "      <td>63</td>\n",
              "      <td>63</td>\n",
              "      <td>63</td>\n",
              "      <td>63</td>\n",
              "    </tr>\n",
              "    <tr>\n",
              "      <th>C09XA52</th>\n",
              "      <td>206</td>\n",
              "      <td>206</td>\n",
              "      <td>206</td>\n",
              "      <td>206</td>\n",
              "      <td>206</td>\n",
              "    </tr>\n",
              "  </tbody>\n",
              "</table>\n",
              "</div>"
            ],
            "text/plain": [
              "                  molecule_label  short_name  long_name  Classe  product_atc\n",
              "product_atc_code                                                            \n",
              "C02AC06                     4288        4288       4288    4288         4288\n",
              "C03BX03                      932         932        932     932          932\n",
              "C03CA01                      877         877        877     877          877\n",
              "C03DA01                      187         187        187     187          187\n",
              "C03DA04                       27          27         27      27           27\n",
              "C03EA04                       75          75         75      75           75\n",
              "C03EB01                       14          14         14      14           14\n",
              "C07AA05                        2           2          2       2            2\n",
              "C07AB03                     6466        6466       6466    6466         6466\n",
              "C07AB04                       39          39         39      39           39\n",
              "C07AB07                     6765        6765       6765    6765         6765\n",
              "C07AB12                      509         509        509     509          509\n",
              "C07DB01                       10          10         10      10           10\n",
              "C08CA01                      679         679        679     679          679\n",
              "C08DB01                      108         108        108     108          108\n",
              "C09AA02                       50          50         50      50           50\n",
              "C09AA03                       47          47         47      47           47\n",
              "C09AA04                     1183        1183       1183    1183         1183\n",
              "C09AA05                      232         232        232     232          232\n",
              "C09AA06                       20          20         20      20           20\n",
              "C09BA02                       11          11         11      11           11\n",
              "C09BA04                      920         920        920     920          920\n",
              "C09CA01                      277         277        277     277          277\n",
              "C09CA03                     2702        2702       2702    2702         2702\n",
              "C09CA04                      618         618        618     618          618\n",
              "C09CA06                     1291        1291       1291    1291         1291\n",
              "C09CA07                      109         109        109     109          109\n",
              "C09DA01                      542         542        542     542          542\n",
              "C09DA03                     1834        1834       1834    1834         1834\n",
              "C09DA04                      581         581        581     581          581\n",
              "C09DB04                     5212        5212       5212    5212         5212\n",
              "C09XA02                       63          63         63      63           63\n",
              "C09XA52                      206         206        206     206          206"
            ]
          },
          "metadata": {
            "tags": []
          },
          "execution_count": 7
        }
      ]
    },
    {
      "cell_type": "markdown",
      "metadata": {
        "id": "CTvsCsr8Bt1R"
      },
      "source": [
        "Nous voyons qu'il existe différentes colonnes dont le but est de désigner le médicament prescrit lors de la visite, or nous n'avons besoin que d'une seule colonne garder cette information. De ce fait, nous avons choisi de garder ```product_atc_code```."
      ]
    },
    {
      "cell_type": "code",
      "metadata": {
        "colab": {
          "base_uri": "https://localhost:8080/",
          "height": 635
        },
        "id": "pFu6UZLDBt1T",
        "outputId": "0bbedcc4-3e8b-4f67-b390-4dd66183b14a"
      },
      "source": [
        "dropColumnNames = dfGroupedByMoleculeLabel.columns.to_list()\n",
        "dfWithATCCode = dfWithoutContactID.drop(dropColumnNames, axis='columns')\n",
        "dfWithATCCode"
      ],
      "execution_count": null,
      "outputs": [
        {
          "output_type": "execute_result",
          "data": {
            "text/html": [
              "<div>\n",
              "<style scoped>\n",
              "    .dataframe tbody tr th:only-of-type {\n",
              "        vertical-align: middle;\n",
              "    }\n",
              "\n",
              "    .dataframe tbody tr th {\n",
              "        vertical-align: top;\n",
              "    }\n",
              "\n",
              "    .dataframe thead th {\n",
              "        text-align: right;\n",
              "    }\n",
              "</style>\n",
              "<table border=\"1\" class=\"dataframe\">\n",
              "  <thead>\n",
              "    <tr style=\"text-align: right;\">\n",
              "      <th></th>\n",
              "      <th>person_id</th>\n",
              "      <th>specialty_label</th>\n",
              "      <th>contact_date</th>\n",
              "      <th>cip</th>\n",
              "      <th>dosage_1</th>\n",
              "      <th>dose_1</th>\n",
              "      <th>dose_2</th>\n",
              "      <th>product_atc_code</th>\n",
              "      <th>box</th>\n",
              "      <th>quantity</th>\n",
              "      <th>frequency_label</th>\n",
              "      <th>duration</th>\n",
              "      <th>Traitement_Autres_A10_dep_201701</th>\n",
              "      <th>Traitement_Insulines_dep_201701</th>\n",
              "      <th>Pulse</th>\n",
              "      <th>Tension Diastolique</th>\n",
              "      <th>Tension Systolique</th>\n",
              "      <th>Glycemie_prescription</th>\n",
              "      <th>Glycemie_der_date</th>\n",
              "      <th>Glycemie_der_mesure</th>\n",
              "      <th>HbA1c_prescription</th>\n",
              "      <th>HbA1c_der_date</th>\n",
              "      <th>HbA1c_der_mesure</th>\n",
              "      <th>gender_code</th>\n",
              "      <th>Age_presc</th>\n",
              "      <th>year_of_birth</th>\n",
              "      <th>Poids</th>\n",
              "      <th>der_date_poids</th>\n",
              "      <th>Taille</th>\n",
              "      <th>der_date_taille</th>\n",
              "      <th>first_contact_date</th>\n",
              "    </tr>\n",
              "  </thead>\n",
              "  <tbody>\n",
              "    <tr>\n",
              "      <th>1</th>\n",
              "      <td>263659.0</td>\n",
              "      <td>Médecin généraliste</td>\n",
              "      <td>2014-09-24</td>\n",
              "      <td>3.400960e+12</td>\n",
              "      <td>20.0</td>\n",
              "      <td>240.0</td>\n",
              "      <td>24.0</td>\n",
              "      <td>C03CA01</td>\n",
              "      <td>1.0</td>\n",
              "      <td>4.00</td>\n",
              "      <td>Jour</td>\n",
              "      <td>NaN</td>\n",
              "      <td>NaN</td>\n",
              "      <td>NaN</td>\n",
              "      <td>70.0</td>\n",
              "      <td>110.0</td>\n",
              "      <td>60.0</td>\n",
              "      <td>NaN</td>\n",
              "      <td>2008-02-08</td>\n",
              "      <td>1.01</td>\n",
              "      <td>NaN</td>\n",
              "      <td>NaT</td>\n",
              "      <td>NaN</td>\n",
              "      <td>M</td>\n",
              "      <td>96.0</td>\n",
              "      <td>1918.0</td>\n",
              "      <td>NaN</td>\n",
              "      <td>NaT</td>\n",
              "      <td>NaN</td>\n",
              "      <td>NaT</td>\n",
              "      <td>1998-04-02</td>\n",
              "    </tr>\n",
              "    <tr>\n",
              "      <th>2</th>\n",
              "      <td>263659.0</td>\n",
              "      <td>Médecin généraliste</td>\n",
              "      <td>2014-09-12</td>\n",
              "      <td>3.400960e+12</td>\n",
              "      <td>20.0</td>\n",
              "      <td>240.0</td>\n",
              "      <td>24.0</td>\n",
              "      <td>C03CA01</td>\n",
              "      <td>1.0</td>\n",
              "      <td>4.00</td>\n",
              "      <td>Jour</td>\n",
              "      <td>NaN</td>\n",
              "      <td>NaN</td>\n",
              "      <td>NaN</td>\n",
              "      <td>70.0</td>\n",
              "      <td>118.0</td>\n",
              "      <td>70.0</td>\n",
              "      <td>NaN</td>\n",
              "      <td>2008-02-08</td>\n",
              "      <td>1.01</td>\n",
              "      <td>NaN</td>\n",
              "      <td>NaT</td>\n",
              "      <td>NaN</td>\n",
              "      <td>M</td>\n",
              "      <td>96.0</td>\n",
              "      <td>1918.0</td>\n",
              "      <td>NaN</td>\n",
              "      <td>NaT</td>\n",
              "      <td>NaN</td>\n",
              "      <td>NaT</td>\n",
              "      <td>1998-04-02</td>\n",
              "    </tr>\n",
              "    <tr>\n",
              "      <th>3</th>\n",
              "      <td>263659.0</td>\n",
              "      <td>Médecin généraliste</td>\n",
              "      <td>2015-03-26</td>\n",
              "      <td>3.400960e+12</td>\n",
              "      <td>20.0</td>\n",
              "      <td>240.0</td>\n",
              "      <td>24.0</td>\n",
              "      <td>C03CA01</td>\n",
              "      <td>1.0</td>\n",
              "      <td>4.00</td>\n",
              "      <td>Jour</td>\n",
              "      <td>NaN</td>\n",
              "      <td>NaN</td>\n",
              "      <td>NaN</td>\n",
              "      <td>60.0</td>\n",
              "      <td>120.0</td>\n",
              "      <td>70.0</td>\n",
              "      <td>NaN</td>\n",
              "      <td>2008-02-08</td>\n",
              "      <td>1.01</td>\n",
              "      <td>NaN</td>\n",
              "      <td>NaT</td>\n",
              "      <td>NaN</td>\n",
              "      <td>M</td>\n",
              "      <td>97.0</td>\n",
              "      <td>1918.0</td>\n",
              "      <td>NaN</td>\n",
              "      <td>NaT</td>\n",
              "      <td>NaN</td>\n",
              "      <td>NaT</td>\n",
              "      <td>1998-04-02</td>\n",
              "    </tr>\n",
              "    <tr>\n",
              "      <th>4</th>\n",
              "      <td>263659.0</td>\n",
              "      <td>Médecin généraliste</td>\n",
              "      <td>2015-06-05</td>\n",
              "      <td>3.400960e+12</td>\n",
              "      <td>20.0</td>\n",
              "      <td>240.0</td>\n",
              "      <td>24.0</td>\n",
              "      <td>C03CA01</td>\n",
              "      <td>1.0</td>\n",
              "      <td>4.00</td>\n",
              "      <td>Jour</td>\n",
              "      <td>NaN</td>\n",
              "      <td>NaN</td>\n",
              "      <td>NaN</td>\n",
              "      <td>60.0</td>\n",
              "      <td>120.0</td>\n",
              "      <td>70.0</td>\n",
              "      <td>NaN</td>\n",
              "      <td>2008-02-08</td>\n",
              "      <td>1.01</td>\n",
              "      <td>NaN</td>\n",
              "      <td>NaT</td>\n",
              "      <td>NaN</td>\n",
              "      <td>M</td>\n",
              "      <td>97.0</td>\n",
              "      <td>1918.0</td>\n",
              "      <td>NaN</td>\n",
              "      <td>NaT</td>\n",
              "      <td>NaN</td>\n",
              "      <td>NaT</td>\n",
              "      <td>1998-04-02</td>\n",
              "    </tr>\n",
              "    <tr>\n",
              "      <th>6</th>\n",
              "      <td>25182917.0</td>\n",
              "      <td>Médecin généraliste</td>\n",
              "      <td>2013-03-27</td>\n",
              "      <td>3.400960e+12</td>\n",
              "      <td>300.0</td>\n",
              "      <td>16800.0</td>\n",
              "      <td>56.0</td>\n",
              "      <td>C09XA02</td>\n",
              "      <td>2.0</td>\n",
              "      <td>1.00</td>\n",
              "      <td>Jour</td>\n",
              "      <td>84.0</td>\n",
              "      <td>NaN</td>\n",
              "      <td>NaN</td>\n",
              "      <td>64.0</td>\n",
              "      <td>145.0</td>\n",
              "      <td>85.0</td>\n",
              "      <td>NaN</td>\n",
              "      <td>NaT</td>\n",
              "      <td>NaN</td>\n",
              "      <td>NaN</td>\n",
              "      <td>NaT</td>\n",
              "      <td>NaN</td>\n",
              "      <td>M</td>\n",
              "      <td>63.0</td>\n",
              "      <td>1950.0</td>\n",
              "      <td>NaN</td>\n",
              "      <td>NaT</td>\n",
              "      <td>NaN</td>\n",
              "      <td>NaT</td>\n",
              "      <td>2011-04-04</td>\n",
              "    </tr>\n",
              "    <tr>\n",
              "      <th>...</th>\n",
              "      <td>...</td>\n",
              "      <td>...</td>\n",
              "      <td>...</td>\n",
              "      <td>...</td>\n",
              "      <td>...</td>\n",
              "      <td>...</td>\n",
              "      <td>...</td>\n",
              "      <td>...</td>\n",
              "      <td>...</td>\n",
              "      <td>...</td>\n",
              "      <td>...</td>\n",
              "      <td>...</td>\n",
              "      <td>...</td>\n",
              "      <td>...</td>\n",
              "      <td>...</td>\n",
              "      <td>...</td>\n",
              "      <td>...</td>\n",
              "      <td>...</td>\n",
              "      <td>...</td>\n",
              "      <td>...</td>\n",
              "      <td>...</td>\n",
              "      <td>...</td>\n",
              "      <td>...</td>\n",
              "      <td>...</td>\n",
              "      <td>...</td>\n",
              "      <td>...</td>\n",
              "      <td>...</td>\n",
              "      <td>...</td>\n",
              "      <td>...</td>\n",
              "      <td>...</td>\n",
              "      <td>...</td>\n",
              "    </tr>\n",
              "    <tr>\n",
              "      <th>50625</th>\n",
              "      <td>26636453.0</td>\n",
              "      <td>Médecin généraliste</td>\n",
              "      <td>2016-11-16</td>\n",
              "      <td>3.400940e+12</td>\n",
              "      <td>500.0</td>\n",
              "      <td>15000.0</td>\n",
              "      <td>30.0</td>\n",
              "      <td>C03CA01</td>\n",
              "      <td>1.0</td>\n",
              "      <td>0.75</td>\n",
              "      <td>Jour</td>\n",
              "      <td>28.0</td>\n",
              "      <td>OUI</td>\n",
              "      <td>NaN</td>\n",
              "      <td>60.0</td>\n",
              "      <td>120.0</td>\n",
              "      <td>60.0</td>\n",
              "      <td>NaN</td>\n",
              "      <td>2017-10-03</td>\n",
              "      <td>3.39</td>\n",
              "      <td>NaN</td>\n",
              "      <td>2017-10-03</td>\n",
              "      <td>5.60</td>\n",
              "      <td>M</td>\n",
              "      <td>79.0</td>\n",
              "      <td>1937.0</td>\n",
              "      <td>83.9</td>\n",
              "      <td>2018-02-21</td>\n",
              "      <td>NaN</td>\n",
              "      <td>NaT</td>\n",
              "      <td>2012-02-14</td>\n",
              "    </tr>\n",
              "    <tr>\n",
              "      <th>50627</th>\n",
              "      <td>18889430.0</td>\n",
              "      <td>Médecin généraliste</td>\n",
              "      <td>2013-02-01</td>\n",
              "      <td>3.400940e+12</td>\n",
              "      <td>500.0</td>\n",
              "      <td>15000.0</td>\n",
              "      <td>30.0</td>\n",
              "      <td>C03CA01</td>\n",
              "      <td>1.0</td>\n",
              "      <td>0.50</td>\n",
              "      <td>Jour</td>\n",
              "      <td>28.0</td>\n",
              "      <td>NaN</td>\n",
              "      <td>NaN</td>\n",
              "      <td>60.0</td>\n",
              "      <td>120.0</td>\n",
              "      <td>70.0</td>\n",
              "      <td>NaN</td>\n",
              "      <td>2016-02-03</td>\n",
              "      <td>6.27</td>\n",
              "      <td>NaN</td>\n",
              "      <td>2017-05-15</td>\n",
              "      <td>8.01</td>\n",
              "      <td>M</td>\n",
              "      <td>85.0</td>\n",
              "      <td>1928.0</td>\n",
              "      <td>NaN</td>\n",
              "      <td>NaT</td>\n",
              "      <td>NaN</td>\n",
              "      <td>NaT</td>\n",
              "      <td>2007-12-02</td>\n",
              "    </tr>\n",
              "    <tr>\n",
              "      <th>50629</th>\n",
              "      <td>2222336.0</td>\n",
              "      <td>Médecin généraliste</td>\n",
              "      <td>2013-07-01</td>\n",
              "      <td>3.400940e+12</td>\n",
              "      <td>500.0</td>\n",
              "      <td>15000.0</td>\n",
              "      <td>30.0</td>\n",
              "      <td>C03CA01</td>\n",
              "      <td>2.0</td>\n",
              "      <td>0.25</td>\n",
              "      <td>Jour</td>\n",
              "      <td>240.0</td>\n",
              "      <td>NaN</td>\n",
              "      <td>NaN</td>\n",
              "      <td>72.0</td>\n",
              "      <td>130.0</td>\n",
              "      <td>70.0</td>\n",
              "      <td>NaN</td>\n",
              "      <td>NaT</td>\n",
              "      <td>NaN</td>\n",
              "      <td>NaN</td>\n",
              "      <td>NaT</td>\n",
              "      <td>NaN</td>\n",
              "      <td>F</td>\n",
              "      <td>78.0</td>\n",
              "      <td>1935.0</td>\n",
              "      <td>NaN</td>\n",
              "      <td>NaT</td>\n",
              "      <td>NaN</td>\n",
              "      <td>NaT</td>\n",
              "      <td>2006-02-23</td>\n",
              "    </tr>\n",
              "    <tr>\n",
              "      <th>50631</th>\n",
              "      <td>11363518.0</td>\n",
              "      <td>Médecin généraliste</td>\n",
              "      <td>2013-01-24</td>\n",
              "      <td>3.400940e+12</td>\n",
              "      <td>500.0</td>\n",
              "      <td>15000.0</td>\n",
              "      <td>30.0</td>\n",
              "      <td>C03CA01</td>\n",
              "      <td>1.0</td>\n",
              "      <td>0.25</td>\n",
              "      <td>Jour</td>\n",
              "      <td>120.0</td>\n",
              "      <td>NaN</td>\n",
              "      <td>NaN</td>\n",
              "      <td>72.0</td>\n",
              "      <td>139.0</td>\n",
              "      <td>70.0</td>\n",
              "      <td>NaN</td>\n",
              "      <td>NaT</td>\n",
              "      <td>NaN</td>\n",
              "      <td>NaN</td>\n",
              "      <td>NaT</td>\n",
              "      <td>NaN</td>\n",
              "      <td>M</td>\n",
              "      <td>80.0</td>\n",
              "      <td>1933.0</td>\n",
              "      <td>NaN</td>\n",
              "      <td>NaT</td>\n",
              "      <td>NaN</td>\n",
              "      <td>NaT</td>\n",
              "      <td>1998-01-27</td>\n",
              "    </tr>\n",
              "    <tr>\n",
              "      <th>50632</th>\n",
              "      <td>18889430.0</td>\n",
              "      <td>Médecin généraliste</td>\n",
              "      <td>2013-01-24</td>\n",
              "      <td>3.400940e+12</td>\n",
              "      <td>500.0</td>\n",
              "      <td>15000.0</td>\n",
              "      <td>30.0</td>\n",
              "      <td>C03CA01</td>\n",
              "      <td>1.0</td>\n",
              "      <td>0.50</td>\n",
              "      <td>Jour</td>\n",
              "      <td>28.0</td>\n",
              "      <td>NaN</td>\n",
              "      <td>NaN</td>\n",
              "      <td>72.0</td>\n",
              "      <td>120.0</td>\n",
              "      <td>70.0</td>\n",
              "      <td>NaN</td>\n",
              "      <td>2016-02-03</td>\n",
              "      <td>6.27</td>\n",
              "      <td>NaN</td>\n",
              "      <td>2017-05-15</td>\n",
              "      <td>8.01</td>\n",
              "      <td>M</td>\n",
              "      <td>85.0</td>\n",
              "      <td>1928.0</td>\n",
              "      <td>NaN</td>\n",
              "      <td>NaT</td>\n",
              "      <td>NaN</td>\n",
              "      <td>NaT</td>\n",
              "      <td>2007-12-02</td>\n",
              "    </tr>\n",
              "  </tbody>\n",
              "</table>\n",
              "<p>36876 rows × 31 columns</p>\n",
              "</div>"
            ],
            "text/plain": [
              "        person_id      specialty_label  ... der_date_taille  first_contact_date\n",
              "1        263659.0  Médecin généraliste  ...             NaT          1998-04-02\n",
              "2        263659.0  Médecin généraliste  ...             NaT          1998-04-02\n",
              "3        263659.0  Médecin généraliste  ...             NaT          1998-04-02\n",
              "4        263659.0  Médecin généraliste  ...             NaT          1998-04-02\n",
              "6      25182917.0  Médecin généraliste  ...             NaT          2011-04-04\n",
              "...           ...                  ...  ...             ...                 ...\n",
              "50625  26636453.0  Médecin généraliste  ...             NaT          2012-02-14\n",
              "50627  18889430.0  Médecin généraliste  ...             NaT          2007-12-02\n",
              "50629   2222336.0  Médecin généraliste  ...             NaT          2006-02-23\n",
              "50631  11363518.0  Médecin généraliste  ...             NaT          1998-01-27\n",
              "50632  18889430.0  Médecin généraliste  ...             NaT          2007-12-02\n",
              "\n",
              "[36876 rows x 31 columns]"
            ]
          },
          "metadata": {
            "tags": []
          },
          "execution_count": 8
        }
      ]
    },
    {
      "cell_type": "markdown",
      "metadata": {
        "id": "_OunT7DyBt1U"
      },
      "source": [
        "## Suppression des colonnes ```'*der*'```\n",
        "\n",
        "Les colonnes ```'*der*'``` contiennent la dernière donnée. Cette donnée peut être récupérée grâce à la date de la visite et aux valeurs mesurées. Par exemple, il n'est pas nécessaire d'avoir une colonne ```der_date``` ou ```der_mesure```. Les données de ces deux types de colonnes peuvent être récupérées grâce à la ligne qui correspond à la dernière date de la mesure, que nous pouvons trouver grâce à la colonne ```contact_date```."
      ]
    },
    {
      "cell_type": "code",
      "metadata": {
        "id": "sOeBfkOXBt1Z"
      },
      "source": [
        "derColumnNames = []\n",
        "\n",
        "for c in dfWithATCCode.columns:\n",
        "    if ('der_date' in c) or ('der_mesure' in c):\n",
        "        derColumnNames.append(c)\n",
        "\n",
        "dfWithoutDer = dfWithATCCode.drop(derColumnNames,axis='columns')"
      ],
      "execution_count": null,
      "outputs": []
    },
    {
      "cell_type": "markdown",
      "metadata": {
        "id": "UMkds8B1Bt1Z"
      },
      "source": [
        "## Suppression des colonnes ```Taille``` et ```Poids```"
      ]
    },
    {
      "cell_type": "code",
      "metadata": {
        "colab": {
          "base_uri": "https://localhost:8080/"
        },
        "id": "O5poB10WBt1b",
        "outputId": "70289d9b-86af-42f0-c4d7-aadcbfef8683"
      },
      "source": [
        "print(f\"Taille: {dfWithoutDer.Taille.isnull().sum()}/{len(dfWithoutDer.Taille)} valeurs nulles (={dfWithoutDer.Taille.isnull().sum()/len(dfWithoutDer.Taille)*100:.2f}%)\")\n",
        "\n",
        "print(f\"Poids: {dfWithoutDer.Poids.isnull().sum()}/{len(dfWithoutDer.Poids)} valeurs nulles (={dfWithoutDer.Poids.isnull().sum()/len(dfWithoutDer.Poids)*100:.2f}%)\".format())"
      ],
      "execution_count": null,
      "outputs": [
        {
          "output_type": "stream",
          "text": [
            "Taille: 18150/36876 valeurs nulles (=49.22%)\n",
            "Poids: 11389/36876 valeurs nulles (=30.88%)\n"
          ],
          "name": "stdout"
        }
      ]
    },
    {
      "cell_type": "markdown",
      "metadata": {
        "id": "CQPIhvbZBt1e"
      },
      "source": [
        "Nous voyons qu'il y a beaucoup trop de valeur nulles. Ces deux colonnes semblent donc difficilement exploitable. Nous pouvons cependant vérifier si pour les patients toutes les valeurs sont à nulles ou s'il n'existe que quelques entrées à nulle par patient mais qu'il y en a beaucoup. Dans ce cas nous pourrions enlever les lignes contenant des valeurs nulles, ou trouver un moyen d'attribuer une valeur à la place de Nan"
      ]
    },
    {
      "cell_type": "code",
      "metadata": {
        "id": "i3Ubb3pwBt1e"
      },
      "source": [
        "dfPersonIdIndex = dfWithoutDer.set_index('person_id',drop=True).sort_index()\n",
        "dfTPGroupBy = dfPersonIdIndex.groupby('person_id')"
      ],
      "execution_count": null,
      "outputs": []
    },
    {
      "cell_type": "code",
      "metadata": {
        "tags": [],
        "colab": {
          "base_uri": "https://localhost:8080/"
        },
        "id": "C0O4-WeQBt1i",
        "outputId": "16f610d8-7562-4b6b-8c47-1781f1f5c939"
      },
      "source": [
        "maybeUseful = 0\n",
        "valeurNulle = 0\n",
        "for i,_ in dfTPGroupBy:\n",
        "    if dfPersonIdIndex.loc[i].Taille.isnull().sum() > 0:\n",
        "        valeurNulle += 1\n",
        "        if dfPersonIdIndex.loc[i].Taille.isnull().sum() < len(dfPersonIdIndex.loc[i].Taille):\n",
        "            maybeUseful += 1\n",
        "\n",
        "print(f\"Taille: {maybeUseful} / {valeurNulle} utilisables\")\n",
        "\n",
        "maybeUseful = 0\n",
        "valeurNulle = 0\n",
        "c = 0\n",
        "for i,_ in dfTPGroupBy:\n",
        "    if dfPersonIdIndex.loc[i].Poids.isnull().sum() > 0:\n",
        "        valeurNulle += 1\n",
        "        if dfPersonIdIndex.loc[i].Poids.isnull().sum() < len(dfPersonIdIndex.loc[i].Poids):\n",
        "            maybeUseful += 1\n",
        "\n",
        "print(f\"Poids: {maybeUseful} / {valeurNulle} utilisables\")"
      ],
      "execution_count": null,
      "outputs": [
        {
          "output_type": "stream",
          "text": [
            "Taille: 0 / 2219 utilisables\n",
            "Poids: 0 / 1498 utilisables\n"
          ],
          "name": "stdout"
        }
      ]
    },
    {
      "cell_type": "code",
      "metadata": {
        "tags": [],
        "colab": {
          "base_uri": "https://localhost:8080/"
        },
        "id": "0U8N89ChBt1j",
        "outputId": "104137a7-f9ac-4da1-fa81-a8c9c5f786c4"
      },
      "source": [
        "tailleNan = 0\n",
        "poidsNan = 0\n",
        "oneOfBoth = 0\n",
        "bothNan = 0\n",
        "totalEntries = 0\n",
        "for i,_ in dfTPGroupBy:\n",
        "    totalEntries += 1\n",
        "    hasTailleNan = False\n",
        "    hasPoidsNan = False\n",
        "    if dfPersonIdIndex.loc[i].Taille.isnull().sum() != 0:\n",
        "        tailleNan += 1\n",
        "        hasTailleNan = True\n",
        "    if dfPersonIdIndex.loc[i].Poids.isnull().sum() != 0:\n",
        "        poidsNan += 1\n",
        "        hasPoidsNan = True\n",
        "    if hasTailleNan or hasPoidsNan:\n",
        "        oneOfBoth += 1\n",
        "    if hasTailleNan and hasPoidsNan:\n",
        "        bothNan += 1\n",
        "print(\" --- Statistique par Utilisateur --- \")\n",
        "print(f\"{tailleNan} / {totalEntries} ({tailleNan/totalEntries*100:.2f}%) des utilisateurs ont une valeur nulle pour la taille\")\n",
        "print(f\"{poidsNan} / {totalEntries} ({poidsNan/totalEntries*100:.2f}%) des utilisateurs ont une valeur nulle pour le poids\")\n",
        "print(f\"{oneOfBoth} / {totalEntries} ({oneOfBoth/totalEntries*100:.2f}%) des utilisateurs ont une valeur nulle pour la taille ou le poids\")\n",
        "print(f\"{bothNan} / {totalEntries} ({bothNan/totalEntries*100:.2f}%) des utilisateurs ont les deux valeurs nulle pour la taille ou le poids\")\n",
        "\n"
      ],
      "execution_count": null,
      "outputs": [
        {
          "output_type": "stream",
          "text": [
            " --- Statistique par Utilisateur --- \n",
            "2219 / 4227 (52.50%) des utilisateurs ont une valeur nulle pour la taille\n",
            "1498 / 4227 (35.44%) des utilisateurs ont une valeur nulle pour le poids\n",
            "2220 / 4227 (52.52%) des utilisateurs ont une valeur nulle pour la taille ou le poids\n",
            "1497 / 4227 (35.42%) des utilisateurs ont les deux valeurs nulle pour la taille ou le poids\n"
          ],
          "name": "stdout"
        }
      ]
    },
    {
      "cell_type": "markdown",
      "metadata": {
        "id": "M5CF4sP4Bt1k"
      },
      "source": [
        "Nous concluons de l'analyse de ces données que soit toutes les valeurs de poids et de tailles sont entrées, soit aucunes. Cela rend ces informations innexploitables et nous supprimons donc les colonnes"
      ]
    },
    {
      "cell_type": "code",
      "metadata": {
        "id": "qBEk7h-fBt1k"
      },
      "source": [
        "dfWithoutPT = dfWithoutDer.drop(['Taille', 'Poids'],axis='columns')"
      ],
      "execution_count": null,
      "outputs": []
    },
    {
      "cell_type": "markdown",
      "metadata": {
        "id": "TQsluJOxBt1l"
      },
      "source": [
        "## Suppressions diverses"
      ]
    },
    {
      "cell_type": "markdown",
      "metadata": {
        "id": "rMN5ip8jBt1r"
      },
      "source": [
        "Enfin, certaines colonnes n'apportent pas d'informations nécessaires pour la prédiction, nous choisissons de toutes les supprimer ici"
      ]
    },
    {
      "cell_type": "code",
      "metadata": {
        "colab": {
          "base_uri": "https://localhost:8080/"
        },
        "id": "wLPjLEKmBt1s",
        "outputId": "01584e95-67a0-41bd-aba6-b4a52c232f64"
      },
      "source": [
        "dfWithoutPT.isnull().sum()"
      ],
      "execution_count": null,
      "outputs": [
        {
          "output_type": "execute_result",
          "data": {
            "text/plain": [
              "person_id                               0\n",
              "specialty_label                         0\n",
              "contact_date                            0\n",
              "cip                                     0\n",
              "dosage_1                                0\n",
              "dose_1                                  0\n",
              "dose_2                                  0\n",
              "product_atc_code                        0\n",
              "box                                   253\n",
              "quantity                              153\n",
              "frequency_label                       147\n",
              "duration                             5100\n",
              "Traitement_Autres_A10_dep_201701    29649\n",
              "Traitement_Insulines_dep_201701     34850\n",
              "Pulse                                   0\n",
              "Tension Diastolique                     0\n",
              "Tension Systolique                      0\n",
              "Glycemie_prescription               35937\n",
              "HbA1c_prescription                  35766\n",
              "gender_code                             0\n",
              "Age_presc                               0\n",
              "year_of_birth                           0\n",
              "first_contact_date                      0\n",
              "dtype: int64"
            ]
          },
          "metadata": {
            "tags": []
          },
          "execution_count": 15
        }
      ]
    },
    {
      "cell_type": "markdown",
      "metadata": {
        "id": "7o2HV0vqBt1t"
      },
      "source": [
        "Les colonnes restantes avec des valeurs ```Nan``` ne nous intéresse pas, nous pouvons les supprimer"
      ]
    },
    {
      "cell_type": "code",
      "metadata": {
        "id": "Goh72Y-PBt1v"
      },
      "source": [
        "nullAmount = dfWithoutPT.isnull().sum()\n",
        "\n",
        "columnNameToDrop = nullAmount[nullAmount.values > 0].index\n",
        "dfFinal = dfWithoutPT.drop(columnNameToDrop,axis='columns').drop(['cip','dosage_1','dose_1','dose_2','specialty_label','gender_code'],axis='columns')"
      ],
      "execution_count": null,
      "outputs": []
    },
    {
      "cell_type": "markdown",
      "metadata": {
        "id": "hF4hIDAOBt1w"
      },
      "source": [
        "# Traîtement des données"
      ]
    },
    {
      "cell_type": "markdown",
      "metadata": {
        "id": "KYWq5P6RBt1w"
      },
      "source": [
        "## Conversion des données"
      ]
    },
    {
      "cell_type": "markdown",
      "metadata": {
        "id": "6EH8JMyWBt1x"
      },
      "source": [
        "### Ajout du temps entre chaque visite (ce que l'on veut prédire)"
      ]
    },
    {
      "cell_type": "markdown",
      "metadata": {
        "id": "RKXnZphKBt1z"
      },
      "source": [
        "Nous créons d'abord la colonne ```wait_time``` pour qu'elle ait le type de donnée ```deltatime```. nous itèrerons plus tard sur chaque valeur de cette colonne pour lui enlever la valeur précédante pour chaque utilisateur, et ainsi avoir l'intervalle de temps entre chaque visite"
      ]
    },
    {
      "cell_type": "code",
      "metadata": {
        "tags": [],
        "id": "ZfzpABVKBt11"
      },
      "source": [
        "wait_time = dfFinal.contact_date - dfFinal.first_contact_date\n",
        "dfWithTime = dfFinal.drop('first_contact_date',axis='columns')\n",
        "dfWithTime['wait_time'] = wait_time\n",
        "dfWithTime['contactDateYear'] = dfWithTime.contact_date.dt.year\n",
        "dfWithTime['contactDateMonth'] = dfWithTime.contact_date.dt.month\n",
        "dfWithTime['contactDateDayOfYear'] = dfWithTime.contact_date.dt.dayofyear"
      ],
      "execution_count": null,
      "outputs": []
    },
    {
      "cell_type": "code",
      "metadata": {
        "colab": {
          "base_uri": "https://localhost:8080/"
        },
        "id": "R3atHvmPBt13",
        "outputId": "10146fce-4a6f-4b09-fb55-024554ec2886"
      },
      "source": [
        "dfWithTime"
      ],
      "execution_count": null,
      "outputs": [
        {
          "output_type": "execute_result",
          "data": {
            "text/html": [
              "<div>\n",
              "<style scoped>\n",
              "    .dataframe tbody tr th:only-of-type {\n",
              "        vertical-align: middle;\n",
              "    }\n",
              "\n",
              "    .dataframe tbody tr th {\n",
              "        vertical-align: top;\n",
              "    }\n",
              "\n",
              "    .dataframe thead th {\n",
              "        text-align: right;\n",
              "    }\n",
              "</style>\n",
              "<table border=\"1\" class=\"dataframe\">\n",
              "  <thead>\n",
              "    <tr style=\"text-align: right;\">\n",
              "      <th></th>\n",
              "      <th>person_id</th>\n",
              "      <th>contact_date</th>\n",
              "      <th>product_atc_code</th>\n",
              "      <th>Pulse</th>\n",
              "      <th>Tension Diastolique</th>\n",
              "      <th>Tension Systolique</th>\n",
              "      <th>Age_presc</th>\n",
              "      <th>year_of_birth</th>\n",
              "      <th>wait_time</th>\n",
              "      <th>contactDateYear</th>\n",
              "      <th>contactDateMonth</th>\n",
              "      <th>contactDateDayOfYear</th>\n",
              "    </tr>\n",
              "  </thead>\n",
              "  <tbody>\n",
              "    <tr>\n",
              "      <th>1</th>\n",
              "      <td>263659.0</td>\n",
              "      <td>2014-09-24</td>\n",
              "      <td>C03CA01</td>\n",
              "      <td>70.0</td>\n",
              "      <td>110.0</td>\n",
              "      <td>60.0</td>\n",
              "      <td>96.0</td>\n",
              "      <td>1918.0</td>\n",
              "      <td>6019 days</td>\n",
              "      <td>2014</td>\n",
              "      <td>9</td>\n",
              "      <td>267</td>\n",
              "    </tr>\n",
              "    <tr>\n",
              "      <th>2</th>\n",
              "      <td>263659.0</td>\n",
              "      <td>2014-09-12</td>\n",
              "      <td>C03CA01</td>\n",
              "      <td>70.0</td>\n",
              "      <td>118.0</td>\n",
              "      <td>70.0</td>\n",
              "      <td>96.0</td>\n",
              "      <td>1918.0</td>\n",
              "      <td>6007 days</td>\n",
              "      <td>2014</td>\n",
              "      <td>9</td>\n",
              "      <td>255</td>\n",
              "    </tr>\n",
              "    <tr>\n",
              "      <th>3</th>\n",
              "      <td>263659.0</td>\n",
              "      <td>2015-03-26</td>\n",
              "      <td>C03CA01</td>\n",
              "      <td>60.0</td>\n",
              "      <td>120.0</td>\n",
              "      <td>70.0</td>\n",
              "      <td>97.0</td>\n",
              "      <td>1918.0</td>\n",
              "      <td>6202 days</td>\n",
              "      <td>2015</td>\n",
              "      <td>3</td>\n",
              "      <td>85</td>\n",
              "    </tr>\n",
              "    <tr>\n",
              "      <th>4</th>\n",
              "      <td>263659.0</td>\n",
              "      <td>2015-06-05</td>\n",
              "      <td>C03CA01</td>\n",
              "      <td>60.0</td>\n",
              "      <td>120.0</td>\n",
              "      <td>70.0</td>\n",
              "      <td>97.0</td>\n",
              "      <td>1918.0</td>\n",
              "      <td>6273 days</td>\n",
              "      <td>2015</td>\n",
              "      <td>6</td>\n",
              "      <td>156</td>\n",
              "    </tr>\n",
              "    <tr>\n",
              "      <th>6</th>\n",
              "      <td>25182917.0</td>\n",
              "      <td>2013-03-27</td>\n",
              "      <td>C09XA02</td>\n",
              "      <td>64.0</td>\n",
              "      <td>145.0</td>\n",
              "      <td>85.0</td>\n",
              "      <td>63.0</td>\n",
              "      <td>1950.0</td>\n",
              "      <td>723 days</td>\n",
              "      <td>2013</td>\n",
              "      <td>3</td>\n",
              "      <td>86</td>\n",
              "    </tr>\n",
              "    <tr>\n",
              "      <th>...</th>\n",
              "      <td>...</td>\n",
              "      <td>...</td>\n",
              "      <td>...</td>\n",
              "      <td>...</td>\n",
              "      <td>...</td>\n",
              "      <td>...</td>\n",
              "      <td>...</td>\n",
              "      <td>...</td>\n",
              "      <td>...</td>\n",
              "      <td>...</td>\n",
              "      <td>...</td>\n",
              "      <td>...</td>\n",
              "    </tr>\n",
              "    <tr>\n",
              "      <th>50625</th>\n",
              "      <td>26636453.0</td>\n",
              "      <td>2016-11-16</td>\n",
              "      <td>C03CA01</td>\n",
              "      <td>60.0</td>\n",
              "      <td>120.0</td>\n",
              "      <td>60.0</td>\n",
              "      <td>79.0</td>\n",
              "      <td>1937.0</td>\n",
              "      <td>1737 days</td>\n",
              "      <td>2016</td>\n",
              "      <td>11</td>\n",
              "      <td>321</td>\n",
              "    </tr>\n",
              "    <tr>\n",
              "      <th>50627</th>\n",
              "      <td>18889430.0</td>\n",
              "      <td>2013-02-01</td>\n",
              "      <td>C03CA01</td>\n",
              "      <td>60.0</td>\n",
              "      <td>120.0</td>\n",
              "      <td>70.0</td>\n",
              "      <td>85.0</td>\n",
              "      <td>1928.0</td>\n",
              "      <td>1888 days</td>\n",
              "      <td>2013</td>\n",
              "      <td>2</td>\n",
              "      <td>32</td>\n",
              "    </tr>\n",
              "    <tr>\n",
              "      <th>50629</th>\n",
              "      <td>2222336.0</td>\n",
              "      <td>2013-07-01</td>\n",
              "      <td>C03CA01</td>\n",
              "      <td>72.0</td>\n",
              "      <td>130.0</td>\n",
              "      <td>70.0</td>\n",
              "      <td>78.0</td>\n",
              "      <td>1935.0</td>\n",
              "      <td>2685 days</td>\n",
              "      <td>2013</td>\n",
              "      <td>7</td>\n",
              "      <td>182</td>\n",
              "    </tr>\n",
              "    <tr>\n",
              "      <th>50631</th>\n",
              "      <td>11363518.0</td>\n",
              "      <td>2013-01-24</td>\n",
              "      <td>C03CA01</td>\n",
              "      <td>72.0</td>\n",
              "      <td>139.0</td>\n",
              "      <td>70.0</td>\n",
              "      <td>80.0</td>\n",
              "      <td>1933.0</td>\n",
              "      <td>5476 days</td>\n",
              "      <td>2013</td>\n",
              "      <td>1</td>\n",
              "      <td>24</td>\n",
              "    </tr>\n",
              "    <tr>\n",
              "      <th>50632</th>\n",
              "      <td>18889430.0</td>\n",
              "      <td>2013-01-24</td>\n",
              "      <td>C03CA01</td>\n",
              "      <td>72.0</td>\n",
              "      <td>120.0</td>\n",
              "      <td>70.0</td>\n",
              "      <td>85.0</td>\n",
              "      <td>1928.0</td>\n",
              "      <td>1880 days</td>\n",
              "      <td>2013</td>\n",
              "      <td>1</td>\n",
              "      <td>24</td>\n",
              "    </tr>\n",
              "  </tbody>\n",
              "</table>\n",
              "<p>36876 rows × 12 columns</p>\n",
              "</div>"
            ],
            "text/plain": [
              "        person_id contact_date  ... contactDateMonth  contactDateDayOfYear\n",
              "1        263659.0   2014-09-24  ...                9                   267\n",
              "2        263659.0   2014-09-12  ...                9                   255\n",
              "3        263659.0   2015-03-26  ...                3                    85\n",
              "4        263659.0   2015-06-05  ...                6                   156\n",
              "6      25182917.0   2013-03-27  ...                3                    86\n",
              "...           ...          ...  ...              ...                   ...\n",
              "50625  26636453.0   2016-11-16  ...               11                   321\n",
              "50627  18889430.0   2013-02-01  ...                2                    32\n",
              "50629   2222336.0   2013-07-01  ...                7                   182\n",
              "50631  11363518.0   2013-01-24  ...                1                    24\n",
              "50632  18889430.0   2013-01-24  ...                1                    24\n",
              "\n",
              "[36876 rows x 12 columns]"
            ]
          },
          "metadata": {
            "tags": []
          },
          "execution_count": 18
        }
      ]
    },
    {
      "cell_type": "markdown",
      "metadata": {
        "id": "h3jL_58lBt14"
      },
      "source": [
        "### Encodage des valeurs non numériques"
      ]
    },
    {
      "cell_type": "code",
      "metadata": {
        "id": "y8hn_E4KBt15"
      },
      "source": [
        "#specialtyEncoder = LabelEncoder()\n",
        "ATCEncoder = LabelEncoder()\n",
        "#genderEncoder = LabelEncoder()\n",
        "#dfWithTime.specialty_label = specialtyEncoder.fit_transform(dfWithTime.specialty_label)\n",
        "dfWithTime.product_atc_code = ATCEncoder.fit_transform(dfWithTime.product_atc_code)\n",
        "#dfWithTime.gender_code = genderEncoder.fit_transform(dfWithTime.gender_code)\n"
      ],
      "execution_count": null,
      "outputs": []
    },
    {
      "cell_type": "code",
      "metadata": {
        "colab": {
          "base_uri": "https://localhost:8080/"
        },
        "id": "pFqWHYlKBt15",
        "outputId": "ea14114c-24fd-4e33-fb1a-43e3bfbc8d8b"
      },
      "source": [
        "dfWithTime.hist()"
      ],
      "execution_count": null,
      "outputs": [
        {
          "output_type": "execute_result",
          "data": {
            "text/plain": [
              "array([[<matplotlib.axes._subplots.AxesSubplot object at 0x7f01bf292da0>,\n",
              "        <matplotlib.axes._subplots.AxesSubplot object at 0x7f01bf112048>,\n",
              "        <matplotlib.axes._subplots.AxesSubplot object at 0x7f01bf18f2e8>],\n",
              "       [<matplotlib.axes._subplots.AxesSubplot object at 0x7f01bf17b550>,\n",
              "        <matplotlib.axes._subplots.AxesSubplot object at 0x7f01bf24b7b8>,\n",
              "        <matplotlib.axes._subplots.AxesSubplot object at 0x7f01bf079a20>],\n",
              "       [<matplotlib.axes._subplots.AxesSubplot object at 0x7f01bf02ac88>,\n",
              "        <matplotlib.axes._subplots.AxesSubplot object at 0x7f01bf05aeb8>,\n",
              "        <matplotlib.axes._subplots.AxesSubplot object at 0x7f01bf05af28>],\n",
              "       [<matplotlib.axes._subplots.AxesSubplot object at 0x7f01befc7400>,\n",
              "        <matplotlib.axes._subplots.AxesSubplot object at 0x7f01bef7b668>,\n",
              "        <matplotlib.axes._subplots.AxesSubplot object at 0x7f01bef2d8d0>]],\n",
              "      dtype=object)"
            ]
          },
          "metadata": {
            "tags": []
          },
          "execution_count": 20
        },
        {
          "output_type": "display_data",
          "data": {
            "image/png": "[encoded data removed]",
            "text/plain": [
              "<Figure size 432x288 with 12 Axes>"
            ]
          },
          "metadata": {
            "tags": [],
            "needs_background": "light"
          }
        }
      ]
    },
    {
      "cell_type": "markdown",
      "metadata": {
        "id": "-vTDeultBt18"
      },
      "source": [
        "### Conversion en ```TimeSeries```"
      ]
    },
    {
      "cell_type": "markdown",
      "metadata": {
        "id": "NNSctfnIBt2M"
      },
      "source": [
        "Nous définissons simplement le nouvel index comme la colonne donnant l'intervalle de temps entre chaque visite."
      ]
    },
    {
      "cell_type": "code",
      "metadata": {
        "colab": {
          "base_uri": "https://localhost:8080/"
        },
        "id": "l-sfO2RZBt2N",
        "outputId": "c6030cd6-04d9-45b8-caaf-eeadc29278be"
      },
      "source": [
        "ts = dfWithTime.set_index(['person_id','contact_date']).sort_index()\n",
        "ts"
      ],
      "execution_count": null,
      "outputs": [
        {
          "output_type": "execute_result",
          "data": {
            "text/html": [
              "<div>\n",
              "<style scoped>\n",
              "    .dataframe tbody tr th:only-of-type {\n",
              "        vertical-align: middle;\n",
              "    }\n",
              "\n",
              "    .dataframe tbody tr th {\n",
              "        vertical-align: top;\n",
              "    }\n",
              "\n",
              "    .dataframe thead th {\n",
              "        text-align: right;\n",
              "    }\n",
              "</style>\n",
              "<table border=\"1\" class=\"dataframe\">\n",
              "  <thead>\n",
              "    <tr style=\"text-align: right;\">\n",
              "      <th></th>\n",
              "      <th></th>\n",
              "      <th>product_atc_code</th>\n",
              "      <th>Pulse</th>\n",
              "      <th>Tension Diastolique</th>\n",
              "      <th>Tension Systolique</th>\n",
              "      <th>Age_presc</th>\n",
              "      <th>year_of_birth</th>\n",
              "      <th>wait_time</th>\n",
              "      <th>contactDateYear</th>\n",
              "      <th>contactDateMonth</th>\n",
              "      <th>contactDateDayOfYear</th>\n",
              "    </tr>\n",
              "    <tr>\n",
              "      <th>person_id</th>\n",
              "      <th>contact_date</th>\n",
              "      <th></th>\n",
              "      <th></th>\n",
              "      <th></th>\n",
              "      <th></th>\n",
              "      <th></th>\n",
              "      <th></th>\n",
              "      <th></th>\n",
              "      <th></th>\n",
              "      <th></th>\n",
              "      <th></th>\n",
              "    </tr>\n",
              "  </thead>\n",
              "  <tbody>\n",
              "    <tr>\n",
              "      <th rowspan=\"5\" valign=\"top\">291.0</th>\n",
              "      <th>2016-10-28</th>\n",
              "      <td>10</td>\n",
              "      <td>72.0</td>\n",
              "      <td>130.0</td>\n",
              "      <td>60.0</td>\n",
              "      <td>86.0</td>\n",
              "      <td>1930.0</td>\n",
              "      <td>6603 days</td>\n",
              "      <td>2016</td>\n",
              "      <td>10</td>\n",
              "      <td>302</td>\n",
              "    </tr>\n",
              "    <tr>\n",
              "      <th>2016-11-04</th>\n",
              "      <td>10</td>\n",
              "      <td>68.0</td>\n",
              "      <td>142.0</td>\n",
              "      <td>65.0</td>\n",
              "      <td>86.0</td>\n",
              "      <td>1930.0</td>\n",
              "      <td>6610 days</td>\n",
              "      <td>2016</td>\n",
              "      <td>11</td>\n",
              "      <td>309</td>\n",
              "    </tr>\n",
              "    <tr>\n",
              "      <th>2016-11-21</th>\n",
              "      <td>10</td>\n",
              "      <td>84.0</td>\n",
              "      <td>140.0</td>\n",
              "      <td>75.0</td>\n",
              "      <td>86.0</td>\n",
              "      <td>1930.0</td>\n",
              "      <td>6627 days</td>\n",
              "      <td>2016</td>\n",
              "      <td>11</td>\n",
              "      <td>326</td>\n",
              "    </tr>\n",
              "    <tr>\n",
              "      <th>2017-01-16</th>\n",
              "      <td>10</td>\n",
              "      <td>84.0</td>\n",
              "      <td>125.0</td>\n",
              "      <td>70.0</td>\n",
              "      <td>87.0</td>\n",
              "      <td>1930.0</td>\n",
              "      <td>6683 days</td>\n",
              "      <td>2017</td>\n",
              "      <td>1</td>\n",
              "      <td>16</td>\n",
              "    </tr>\n",
              "    <tr>\n",
              "      <th>2017-11-20</th>\n",
              "      <td>10</td>\n",
              "      <td>92.0</td>\n",
              "      <td>115.0</td>\n",
              "      <td>60.0</td>\n",
              "      <td>87.0</td>\n",
              "      <td>1930.0</td>\n",
              "      <td>6991 days</td>\n",
              "      <td>2017</td>\n",
              "      <td>11</td>\n",
              "      <td>324</td>\n",
              "    </tr>\n",
              "    <tr>\n",
              "      <th>...</th>\n",
              "      <th>...</th>\n",
              "      <td>...</td>\n",
              "      <td>...</td>\n",
              "      <td>...</td>\n",
              "      <td>...</td>\n",
              "      <td>...</td>\n",
              "      <td>...</td>\n",
              "      <td>...</td>\n",
              "      <td>...</td>\n",
              "      <td>...</td>\n",
              "      <td>...</td>\n",
              "    </tr>\n",
              "    <tr>\n",
              "      <th rowspan=\"5\" valign=\"top\">34823672.0</th>\n",
              "      <th>2017-04-15</th>\n",
              "      <td>8</td>\n",
              "      <td>68.0</td>\n",
              "      <td>140.0</td>\n",
              "      <td>60.0</td>\n",
              "      <td>73.0</td>\n",
              "      <td>1944.0</td>\n",
              "      <td>0 days</td>\n",
              "      <td>2017</td>\n",
              "      <td>4</td>\n",
              "      <td>105</td>\n",
              "    </tr>\n",
              "    <tr>\n",
              "      <th>2017-06-26</th>\n",
              "      <td>8</td>\n",
              "      <td>74.0</td>\n",
              "      <td>130.0</td>\n",
              "      <td>70.0</td>\n",
              "      <td>73.0</td>\n",
              "      <td>1944.0</td>\n",
              "      <td>72 days</td>\n",
              "      <td>2017</td>\n",
              "      <td>6</td>\n",
              "      <td>177</td>\n",
              "    </tr>\n",
              "    <tr>\n",
              "      <th>2017-08-30</th>\n",
              "      <td>8</td>\n",
              "      <td>80.0</td>\n",
              "      <td>130.0</td>\n",
              "      <td>70.0</td>\n",
              "      <td>73.0</td>\n",
              "      <td>1944.0</td>\n",
              "      <td>137 days</td>\n",
              "      <td>2017</td>\n",
              "      <td>8</td>\n",
              "      <td>242</td>\n",
              "    </tr>\n",
              "    <tr>\n",
              "      <th>2017-09-11</th>\n",
              "      <td>8</td>\n",
              "      <td>74.0</td>\n",
              "      <td>140.0</td>\n",
              "      <td>80.0</td>\n",
              "      <td>73.0</td>\n",
              "      <td>1944.0</td>\n",
              "      <td>149 days</td>\n",
              "      <td>2017</td>\n",
              "      <td>9</td>\n",
              "      <td>254</td>\n",
              "    </tr>\n",
              "    <tr>\n",
              "      <th>2018-08-02</th>\n",
              "      <td>8</td>\n",
              "      <td>78.0</td>\n",
              "      <td>130.0</td>\n",
              "      <td>70.0</td>\n",
              "      <td>74.0</td>\n",
              "      <td>1944.0</td>\n",
              "      <td>474 days</td>\n",
              "      <td>2018</td>\n",
              "      <td>8</td>\n",
              "      <td>214</td>\n",
              "    </tr>\n",
              "  </tbody>\n",
              "</table>\n",
              "<p>36876 rows × 10 columns</p>\n",
              "</div>"
            ],
            "text/plain": [
              "                         product_atc_code  ...  contactDateDayOfYear\n",
              "person_id  contact_date                    ...                      \n",
              "291.0      2016-10-28                  10  ...                   302\n",
              "           2016-11-04                  10  ...                   309\n",
              "           2016-11-21                  10  ...                   326\n",
              "           2017-01-16                  10  ...                    16\n",
              "           2017-11-20                  10  ...                   324\n",
              "...                                   ...  ...                   ...\n",
              "34823672.0 2017-04-15                   8  ...                   105\n",
              "           2017-06-26                   8  ...                   177\n",
              "           2017-08-30                   8  ...                   242\n",
              "           2017-09-11                   8  ...                   254\n",
              "           2018-08-02                   8  ...                   214\n",
              "\n",
              "[36876 rows x 10 columns]"
            ]
          },
          "metadata": {
            "tags": []
          },
          "execution_count": 21
        }
      ]
    },
    {
      "cell_type": "markdown",
      "metadata": {
        "id": "3RwhcepIBt2P"
      },
      "source": [
        "### Attribution des bonnes valeurs de ```time_wait```"
      ]
    },
    {
      "cell_type": "code",
      "metadata": {
        "colab": {
          "base_uri": "https://localhost:8080/"
        },
        "id": "Pl_F60Q4Bt2Q",
        "outputId": "a0f27b5a-9c1d-4af3-d0aa-b1a85f022b9d"
      },
      "source": [
        "tsWithTime = ts.copy()\n",
        "for i,_ in ts.groupby('person_id'):\n",
        "    len_ = len(ts.loc[i])\n",
        "    tsWithTime.loc[i].wait_time[1:len_] = pd.Series(ts.loc[i].wait_time.to_numpy()[1:len_] - ts.loc[i].wait_time.to_numpy()[:len_-1])\n",
        "    tsWithTime.loc[i].wait_time[0] = pd.Timedelta(0)"
      ],
      "execution_count": null,
      "outputs": [
        {
          "output_type": "stream",
          "text": [
            "/usr/local/lib/python3.6/dist-packages/pandas/core/series.py:1027: SettingWithCopyWarning: \n",
            "A value is trying to be set on a copy of a slice from a DataFrame\n",
            "\n",
            "See the caveats in the documentation: https://pandas.pydata.org/pandas-docs/stable/user_guide/indexing.html#returning-a-view-versus-a-copy\n",
            "  self._set_with(key, value)\n",
            "/usr/local/lib/python3.6/dist-packages/IPython/core/interactiveshell.py:2882: SettingWithCopyWarning: \n",
            "A value is trying to be set on a copy of a slice from a DataFrame\n",
            "\n",
            "See the caveats in the documentation: https://pandas.pydata.org/pandas-docs/stable/user_guide/indexing.html#returning-a-view-versus-a-copy\n",
            "  exec(code_obj, self.user_global_ns, self.user_ns)\n"
          ],
          "name": "stderr"
        }
      ]
    },
    {
      "cell_type": "code",
      "metadata": {
        "colab": {
          "base_uri": "https://localhost:8080/"
        },
        "id": "6Mm-y9aPBt2Q",
        "outputId": "ed75dfd3-89f8-422a-fcc0-859c4f04a694"
      },
      "source": [
        "tsWithTimeNumber = tsWithTime.copy()\n",
        "tsWithTimeNumber.wait_time = tsWithTime.wait_time.dt.days\n",
        "tsWithTimeNumber['wait_time_days'] = tsWithTime.wait_time.dt.days\n",
        "tsWithTimeNumber['wait_time_weeks'] = (tsWithTime.wait_time.dt.days / 7).astype(int)\n",
        "tsWithTimeNumber.wait_time.describe()"
      ],
      "execution_count": null,
      "outputs": [
        {
          "output_type": "execute_result",
          "data": {
            "text/plain": [
              "count    36876.000000\n",
              "mean       104.590520\n",
              "std        122.973534\n",
              "min          0.000000\n",
              "25%         26.000000\n",
              "50%         76.000000\n",
              "75%        139.000000\n",
              "max       2825.000000\n",
              "Name: wait_time, dtype: float64"
            ]
          },
          "metadata": {
            "tags": []
          },
          "execution_count": 23
        }
      ]
    },
    {
      "cell_type": "code",
      "metadata": {
        "colab": {
          "base_uri": "https://localhost:8080/"
        },
        "id": "TI5n1JdkBt2R",
        "outputId": "6356ed13-3bfd-4eb2-8150-219dc8b183a5"
      },
      "source": [
        "tsWithGoodTime = tsWithTimeNumber[tsWithTimeNumber.wait_time.values <= 300]\n",
        "tsWithGoodTime.wait_time.describe()"
      ],
      "execution_count": null,
      "outputs": [
        {
          "output_type": "execute_result",
          "data": {
            "text/plain": [
              "count    34546.00000\n",
              "mean        81.39967\n",
              "std         73.03593\n",
              "min          0.00000\n",
              "25%         23.00000\n",
              "50%         67.00000\n",
              "75%        118.00000\n",
              "max        300.00000\n",
              "Name: wait_time, dtype: float64"
            ]
          },
          "metadata": {
            "tags": []
          },
          "execution_count": 24
        }
      ]
    },
    {
      "cell_type": "markdown",
      "metadata": {
        "id": "lVPV96Q4Bt2S"
      },
      "source": [
        "### Transformation de ```wait_time``` en valeur numérique"
      ]
    },
    {
      "cell_type": "code",
      "metadata": {
        "colab": {
          "base_uri": "https://localhost:8080/"
        },
        "id": "oVBztqi1Bt2S",
        "outputId": "4d7829f3-8f01-4333-ee71-30806ca4c8a0"
      },
      "source": [
        "tsWithTimeMonth = tsWithGoodTime.copy()\n",
        "tsWithTimeMonth.wait_time = (tsWithGoodTime.wait_time / 30).astype(int)\n",
        "tsWithTimeMonth.wait_time[tsWithTimeMonth.wait_time >= 4] = 4\n",
        "tsWithTimeMonth"
      ],
      "execution_count": null,
      "outputs": [
        {
          "output_type": "stream",
          "text": [
            "/usr/local/lib/python3.6/dist-packages/ipykernel_launcher.py:3: SettingWithCopyWarning: \n",
            "A value is trying to be set on a copy of a slice from a DataFrame\n",
            "\n",
            "See the caveats in the documentation: https://pandas.pydata.org/pandas-docs/stable/user_guide/indexing.html#returning-a-view-versus-a-copy\n",
            "  This is separate from the ipykernel package so we can avoid doing imports until\n"
          ],
          "name": "stderr"
        },
        {
          "output_type": "execute_result",
          "data": {
            "text/html": [
              "<div>\n",
              "<style scoped>\n",
              "    .dataframe tbody tr th:only-of-type {\n",
              "        vertical-align: middle;\n",
              "    }\n",
              "\n",
              "    .dataframe tbody tr th {\n",
              "        vertical-align: top;\n",
              "    }\n",
              "\n",
              "    .dataframe thead th {\n",
              "        text-align: right;\n",
              "    }\n",
              "</style>\n",
              "<table border=\"1\" class=\"dataframe\">\n",
              "  <thead>\n",
              "    <tr style=\"text-align: right;\">\n",
              "      <th></th>\n",
              "      <th></th>\n",
              "      <th>product_atc_code</th>\n",
              "      <th>Pulse</th>\n",
              "      <th>Tension Diastolique</th>\n",
              "      <th>Tension Systolique</th>\n",
              "      <th>Age_presc</th>\n",
              "      <th>year_of_birth</th>\n",
              "      <th>wait_time</th>\n",
              "      <th>contactDateYear</th>\n",
              "      <th>contactDateMonth</th>\n",
              "      <th>contactDateDayOfYear</th>\n",
              "      <th>wait_time_days</th>\n",
              "      <th>wait_time_weeks</th>\n",
              "    </tr>\n",
              "    <tr>\n",
              "      <th>person_id</th>\n",
              "      <th>contact_date</th>\n",
              "      <th></th>\n",
              "      <th></th>\n",
              "      <th></th>\n",
              "      <th></th>\n",
              "      <th></th>\n",
              "      <th></th>\n",
              "      <th></th>\n",
              "      <th></th>\n",
              "      <th></th>\n",
              "      <th></th>\n",
              "      <th></th>\n",
              "      <th></th>\n",
              "    </tr>\n",
              "  </thead>\n",
              "  <tbody>\n",
              "    <tr>\n",
              "      <th rowspan=\"5\" valign=\"top\">291.0</th>\n",
              "      <th>2016-10-28</th>\n",
              "      <td>10</td>\n",
              "      <td>72.0</td>\n",
              "      <td>130.0</td>\n",
              "      <td>60.0</td>\n",
              "      <td>86.0</td>\n",
              "      <td>1930.0</td>\n",
              "      <td>0</td>\n",
              "      <td>2016</td>\n",
              "      <td>10</td>\n",
              "      <td>302</td>\n",
              "      <td>0</td>\n",
              "      <td>0</td>\n",
              "    </tr>\n",
              "    <tr>\n",
              "      <th>2016-11-04</th>\n",
              "      <td>10</td>\n",
              "      <td>68.0</td>\n",
              "      <td>142.0</td>\n",
              "      <td>65.0</td>\n",
              "      <td>86.0</td>\n",
              "      <td>1930.0</td>\n",
              "      <td>0</td>\n",
              "      <td>2016</td>\n",
              "      <td>11</td>\n",
              "      <td>309</td>\n",
              "      <td>7</td>\n",
              "      <td>1</td>\n",
              "    </tr>\n",
              "    <tr>\n",
              "      <th>2016-11-21</th>\n",
              "      <td>10</td>\n",
              "      <td>84.0</td>\n",
              "      <td>140.0</td>\n",
              "      <td>75.0</td>\n",
              "      <td>86.0</td>\n",
              "      <td>1930.0</td>\n",
              "      <td>0</td>\n",
              "      <td>2016</td>\n",
              "      <td>11</td>\n",
              "      <td>326</td>\n",
              "      <td>17</td>\n",
              "      <td>2</td>\n",
              "    </tr>\n",
              "    <tr>\n",
              "      <th>2017-01-16</th>\n",
              "      <td>10</td>\n",
              "      <td>84.0</td>\n",
              "      <td>125.0</td>\n",
              "      <td>70.0</td>\n",
              "      <td>87.0</td>\n",
              "      <td>1930.0</td>\n",
              "      <td>1</td>\n",
              "      <td>2017</td>\n",
              "      <td>1</td>\n",
              "      <td>16</td>\n",
              "      <td>56</td>\n",
              "      <td>8</td>\n",
              "    </tr>\n",
              "    <tr>\n",
              "      <th>2018-01-19</th>\n",
              "      <td>10</td>\n",
              "      <td>84.0</td>\n",
              "      <td>130.0</td>\n",
              "      <td>70.0</td>\n",
              "      <td>88.0</td>\n",
              "      <td>1930.0</td>\n",
              "      <td>2</td>\n",
              "      <td>2018</td>\n",
              "      <td>1</td>\n",
              "      <td>19</td>\n",
              "      <td>60</td>\n",
              "      <td>8</td>\n",
              "    </tr>\n",
              "    <tr>\n",
              "      <th>...</th>\n",
              "      <th>...</th>\n",
              "      <td>...</td>\n",
              "      <td>...</td>\n",
              "      <td>...</td>\n",
              "      <td>...</td>\n",
              "      <td>...</td>\n",
              "      <td>...</td>\n",
              "      <td>...</td>\n",
              "      <td>...</td>\n",
              "      <td>...</td>\n",
              "      <td>...</td>\n",
              "      <td>...</td>\n",
              "      <td>...</td>\n",
              "    </tr>\n",
              "    <tr>\n",
              "      <th>34782602.0</th>\n",
              "      <th>2018-02-14</th>\n",
              "      <td>8</td>\n",
              "      <td>84.0</td>\n",
              "      <td>120.0</td>\n",
              "      <td>60.0</td>\n",
              "      <td>69.0</td>\n",
              "      <td>1949.0</td>\n",
              "      <td>2</td>\n",
              "      <td>2018</td>\n",
              "      <td>2</td>\n",
              "      <td>45</td>\n",
              "      <td>76</td>\n",
              "      <td>10</td>\n",
              "    </tr>\n",
              "    <tr>\n",
              "      <th rowspan=\"4\" valign=\"top\">34823672.0</th>\n",
              "      <th>2017-04-15</th>\n",
              "      <td>8</td>\n",
              "      <td>68.0</td>\n",
              "      <td>140.0</td>\n",
              "      <td>60.0</td>\n",
              "      <td>73.0</td>\n",
              "      <td>1944.0</td>\n",
              "      <td>0</td>\n",
              "      <td>2017</td>\n",
              "      <td>4</td>\n",
              "      <td>105</td>\n",
              "      <td>0</td>\n",
              "      <td>0</td>\n",
              "    </tr>\n",
              "    <tr>\n",
              "      <th>2017-06-26</th>\n",
              "      <td>8</td>\n",
              "      <td>74.0</td>\n",
              "      <td>130.0</td>\n",
              "      <td>70.0</td>\n",
              "      <td>73.0</td>\n",
              "      <td>1944.0</td>\n",
              "      <td>2</td>\n",
              "      <td>2017</td>\n",
              "      <td>6</td>\n",
              "      <td>177</td>\n",
              "      <td>72</td>\n",
              "      <td>10</td>\n",
              "    </tr>\n",
              "    <tr>\n",
              "      <th>2017-08-30</th>\n",
              "      <td>8</td>\n",
              "      <td>80.0</td>\n",
              "      <td>130.0</td>\n",
              "      <td>70.0</td>\n",
              "      <td>73.0</td>\n",
              "      <td>1944.0</td>\n",
              "      <td>2</td>\n",
              "      <td>2017</td>\n",
              "      <td>8</td>\n",
              "      <td>242</td>\n",
              "      <td>65</td>\n",
              "      <td>9</td>\n",
              "    </tr>\n",
              "    <tr>\n",
              "      <th>2017-09-11</th>\n",
              "      <td>8</td>\n",
              "      <td>74.0</td>\n",
              "      <td>140.0</td>\n",
              "      <td>80.0</td>\n",
              "      <td>73.0</td>\n",
              "      <td>1944.0</td>\n",
              "      <td>0</td>\n",
              "      <td>2017</td>\n",
              "      <td>9</td>\n",
              "      <td>254</td>\n",
              "      <td>12</td>\n",
              "      <td>1</td>\n",
              "    </tr>\n",
              "  </tbody>\n",
              "</table>\n",
              "<p>34546 rows × 12 columns</p>\n",
              "</div>"
            ],
            "text/plain": [
              "                         product_atc_code  ...  wait_time_weeks\n",
              "person_id  contact_date                    ...                 \n",
              "291.0      2016-10-28                  10  ...                0\n",
              "           2016-11-04                  10  ...                1\n",
              "           2016-11-21                  10  ...                2\n",
              "           2017-01-16                  10  ...                8\n",
              "           2018-01-19                  10  ...                8\n",
              "...                                   ...  ...              ...\n",
              "34782602.0 2018-02-14                   8  ...               10\n",
              "34823672.0 2017-04-15                   8  ...                0\n",
              "           2017-06-26                   8  ...               10\n",
              "           2017-08-30                   8  ...                9\n",
              "           2017-09-11                   8  ...                1\n",
              "\n",
              "[34546 rows x 12 columns]"
            ]
          },
          "metadata": {
            "tags": []
          },
          "execution_count": 25
        }
      ]
    },
    {
      "cell_type": "code",
      "metadata": {
        "colab": {
          "base_uri": "https://localhost:8080/"
        },
        "id": "wCRtoAoKBt2S",
        "outputId": "f2f7b16b-d5d4-4c58-9120-11d64c3f3929"
      },
      "source": [
        "tsResetIndex = tsWithTimeMonth.copy()\n",
        "tsResetIndex = tsResetIndex.reset_index()\n",
        "print( tsResetIndex )\n",
        "tsValueCounts = tsResetIndex.person_id.value_counts()\n",
        "tsIndexed = tsResetIndex[tsResetIndex.person_id.isin(tsValueCounts[tsValueCounts.values >= VISIT_NUMBER].index)]"
      ],
      "execution_count": null,
      "outputs": [
        {
          "output_type": "stream",
          "text": [
            "        person_id contact_date  ...  wait_time_days  wait_time_weeks\n",
            "0           291.0   2016-10-28  ...               0                0\n",
            "1           291.0   2016-11-04  ...               7                1\n",
            "2           291.0   2016-11-21  ...              17                2\n",
            "3           291.0   2017-01-16  ...              56                8\n",
            "4           291.0   2018-01-19  ...              60                8\n",
            "...           ...          ...  ...             ...              ...\n",
            "34541  34782602.0   2018-02-14  ...              76               10\n",
            "34542  34823672.0   2017-04-15  ...               0                0\n",
            "34543  34823672.0   2017-06-26  ...              72               10\n",
            "34544  34823672.0   2017-08-30  ...              65                9\n",
            "34545  34823672.0   2017-09-11  ...              12                1\n",
            "\n",
            "[34546 rows x 14 columns]\n"
          ],
          "name": "stdout"
        }
      ]
    },
    {
      "cell_type": "code",
      "metadata": {
        "id": "tRvgwfR_Bt2T"
      },
      "source": [
        "atcCodeValues = tsWithTimeMonth.product_atc_code\n",
        "waitTimeValues = tsWithTimeMonth.wait_time\n",
        "\n",
        "tsFinal = pd.concat([tsWithTimeMonth,pd.get_dummies(atcCodeValues),pd.get_dummies(waitTimeValues)],axis='columns').drop(['product_atc_code','wait_time'],axis='columns')"
      ],
      "execution_count": null,
      "outputs": []
    },
    {
      "cell_type": "markdown",
      "metadata": {
        "id": "IWKL9H2sBt2T"
      },
      "source": [
        "# Prediction"
      ]
    },
    {
      "cell_type": "markdown",
      "metadata": {
        "id": "MQR1Tee5Bt2U"
      },
      "source": [
        "## Creating train/test dataset"
      ]
    },
    {
      "cell_type": "code",
      "metadata": {
        "id": "ZNGylZ-BFdkj"
      },
      "source": [
        "VISIT_THRESHOLD = 6\n",
        "yColumnNames = ['product_atc_code', 'wait_time']"
      ],
      "execution_count": null,
      "outputs": []
    },
    {
      "cell_type": "code",
      "metadata": {
        "id": "F1dhv-hjBb4y"
      },
      "source": [
        "xTrainData, yTrainData,xTestData, yTestData = [],[],[],[]\n",
        "\n",
        "for i,_ in tsWithTimeMonth.groupby('person_id'):\n",
        "    currentSeriesX = tsFinal.loc[i].to_numpy().astype('float32')\n",
        "    currentSeriesY = tsWithTimeMonth.loc[i][yColumnNames].to_numpy().astype('float32')\n",
        "    for j in range(0,len(currentSeriesX)-VISIT_THRESHOLD+1):\n",
        "        xData = currentSeriesX[j:j+VISIT_THRESHOLD][:-1]\n",
        "        yData = currentSeriesY[j:j+VISIT_THRESHOLD][-1:]\n",
        "        if len(currentSeriesX) <= VISIT_THRESHOLD+2:\n",
        "            xTestData.append(xData)\n",
        "            yTestData.append(yData)\n",
        "        else:\n",
        "            xTrainData.append(xData)\n",
        "            yTrainData.append(yData)"
      ],
      "execution_count": null,
      "outputs": []
    },
    {
      "cell_type": "code",
      "metadata": {
        "id": "g6jmr4NbBt2W"
      },
      "source": [
        "xTrain = np.array(xTrainData).reshape(len(xTrainData),1,xTrainData[0].shape[0],xTrainData[0].shape[1])\n",
        "yTrain = np.array(yTrainData).reshape(len(yTrainData),yTrainData[0].shape[0],yTrainData[0].shape[1])\n",
        "\n",
        "xTest = np.array(xTestData).reshape(len(xTestData),1,xTestData[0].shape[0],xTestData[0].shape[1])\n",
        "yTest = np.array(yTestData).reshape(len(yTestData),yTestData[0].shape[0],yTestData[0].shape[1])"
      ],
      "execution_count": null,
      "outputs": []
    },
    {
      "cell_type": "code",
      "metadata": {
        "colab": {
          "base_uri": "https://localhost:8080/"
        },
        "id": "NTsY1D8RBb40",
        "outputId": "80cd3202-04b5-450b-95c0-88daabcf6ea1"
      },
      "source": [
        "print(f\"Data for training: {xTrain.shape[0]}\")\n",
        "print(f\"Data for validation and test: {xTest.shape[0]}\")"
      ],
      "execution_count": null,
      "outputs": [
        {
          "output_type": "stream",
          "text": [
            "Data for training: 13062\n",
            "Data for validation and test: 2112\n"
          ],
          "name": "stdout"
        }
      ]
    },
    {
      "cell_type": "markdown",
      "metadata": {
        "id": "KEGSOnZbBt24"
      },
      "source": [
        "## Model creation"
      ]
    },
    {
      "cell_type": "code",
      "metadata": {
        "id": "RQZxFb_uQ41F"
      },
      "source": [
        "ATC_CODE = 0\n",
        "WAIT_TIME = 1"
      ],
      "execution_count": null,
      "outputs": []
    },
    {
      "cell_type": "code",
      "metadata": {
        "id": "x39nE35CFdkp"
      },
      "source": [
        "YTrain = {\n",
        "    'outputATC' : yTrain[:,:,ATC_CODE],\n",
        "    'outputWaitTime' : yTrain[:,:,WAIT_TIME]\n",
        "}\n",
        "\n",
        "valNum = int(xTest.shape[0] * 0.8)\n",
        "\n",
        "XVal = xTest[:valNum]\n",
        "YVal = {\n",
        "    'outputATC' : yTest[:valNum,:,ATC_CODE],\n",
        "    'outputWaitTime' : yTest[:valNum,:,WAIT_TIME]   \n",
        "}\n",
        "\n",
        "XTest = xTest[valNum:]\n",
        "YTest = {\n",
        "    'outputATC' : yTest[valNum:,:,ATC_CODE],\n",
        "    'outputWaitTime' : yTest[valNum:,:,WAIT_TIME]\n",
        "}"
      ],
      "execution_count": null,
      "outputs": []
    },
    {
      "cell_type": "code",
      "metadata": {
        "id": "jpt1aG_WOwW8",
        "colab": {
          "base_uri": "https://localhost:8080/"
        },
        "outputId": "598497df-d82d-45fd-e88c-1f54eba6b3e6"
      },
      "source": [
        "print(f\"Train. . . . X: {xTrain.shape} --- Y: {yTrain.shape}\")\n",
        "print(f\"Validation . X: {XVal.shape} --- Y: {YVal['outputATC'].shape}\")\n",
        "print(f\"Test . . . . X: {XTest.shape} --- Y: {YTest['outputATC'].shape}\")"
      ],
      "execution_count": null,
      "outputs": [
        {
          "output_type": "stream",
          "text": [
            "Train. . . . X: (13062, 1, 5, 48) --- Y: (13062, 1, 2)\n",
            "Validation . X: (1689, 1, 5, 48) --- Y: (1689, 1)\n",
            "Test . . . . X: (423, 1, 5, 48) --- Y: (423, 1)\n"
          ],
          "name": "stdout"
        }
      ]
    },
    {
      "cell_type": "code",
      "metadata": {
        "id": "_2hDfUUBFdko"
      },
      "source": [
        "inputs = Input(shape=xTrain.shape[-3:])\n",
        "x = layers.Conv1D(filters=64,kernel_size=3)(inputs)\n",
        "x = layers.LeakyReLU()(x)\n",
        "x = layers.Conv1D(filters=64,kernel_size=2)(x)\n",
        "x = layers.LeakyReLU()(x)\n",
        "x = layers.Flatten()(x)\n",
        "x = layers.Dense(128)(x)\n",
        "x = layers.LeakyReLU()(x)\n",
        "\n",
        "atcDense = layers.Dense(64)(x)\n",
        "atcDense = layers.LeakyReLU()(atcDense)\n",
        "atcOutputs = layers.Dense(units=len(ATCEncoder.classes_),activation='softmax',name='outputATC')(atcDense)\n",
        "\n",
        "wtDense = layers.Dense(64)(x)\n",
        "wtDense = layers.LeakyReLU()(wtDense)\n",
        "waitTimeOutputs = layers.Dense(units=tsWithTimeMonth.wait_time.max()+1,activation='softmax',name='outputWaitTime')(wtDense)\n",
        "\n",
        "model = Model(inputs=inputs,outputs=[atcOutputs,waitTimeOutputs],name=\"NiceCNN\")"
      ],
      "execution_count": null,
      "outputs": []
    },
    {
      "cell_type": "code",
      "metadata": {
        "id": "4LCBSaWfBt2-",
        "colab": {
          "base_uri": "https://localhost:8080/"
        },
        "outputId": "c9f27139-7a94-4616-c2be-e2ef23234462"
      },
      "source": [
        "model.summary()"
      ],
      "execution_count": null,
      "outputs": [
        {
          "output_type": "stream",
          "text": [
            "Model: \"NiceCNN\"\n",
            "__________________________________________________________________________________________________\n",
            "Layer (type)                    Output Shape         Param #     Connected to                     \n",
            "==================================================================================================\n",
            "input_3 (InputLayer)            [(None, 1, 5, 48)]   0                                            \n",
            "__________________________________________________________________________________________________\n",
            "conv1d_4 (Conv1D)               (None, 1, 3, 64)     9280        input_3[0][0]                    \n",
            "__________________________________________________________________________________________________\n",
            "leaky_re_lu_10 (LeakyReLU)      (None, 1, 3, 64)     0           conv1d_4[0][0]                   \n",
            "__________________________________________________________________________________________________\n",
            "conv1d_5 (Conv1D)               (None, 1, 2, 64)     8256        leaky_re_lu_10[0][0]             \n",
            "__________________________________________________________________________________________________\n",
            "leaky_re_lu_11 (LeakyReLU)      (None, 1, 2, 64)     0           conv1d_5[0][0]                   \n",
            "__________________________________________________________________________________________________\n",
            "flatten_2 (Flatten)             (None, 128)          0           leaky_re_lu_11[0][0]             \n",
            "__________________________________________________________________________________________________\n",
            "dense_6 (Dense)                 (None, 128)          16512       flatten_2[0][0]                  \n",
            "__________________________________________________________________________________________________\n",
            "leaky_re_lu_12 (LeakyReLU)      (None, 128)          0           dense_6[0][0]                    \n",
            "__________________________________________________________________________________________________\n",
            "dense_7 (Dense)                 (None, 64)           8256        leaky_re_lu_12[0][0]             \n",
            "__________________________________________________________________________________________________\n",
            "dense_8 (Dense)                 (None, 64)           8256        leaky_re_lu_12[0][0]             \n",
            "__________________________________________________________________________________________________\n",
            "leaky_re_lu_13 (LeakyReLU)      (None, 64)           0           dense_7[0][0]                    \n",
            "__________________________________________________________________________________________________\n",
            "leaky_re_lu_14 (LeakyReLU)      (None, 64)           0           dense_8[0][0]                    \n",
            "__________________________________________________________________________________________________\n",
            "outputATC (Dense)               (None, 33)           2145        leaky_re_lu_13[0][0]             \n",
            "__________________________________________________________________________________________________\n",
            "outputWaitTime (Dense)          (None, 5)            325         leaky_re_lu_14[0][0]             \n",
            "==================================================================================================\n",
            "Total params: 53,030\n",
            "Trainable params: 53,030\n",
            "Non-trainable params: 0\n",
            "__________________________________________________________________________________________________\n"
          ],
          "name": "stdout"
        }
      ]
    },
    {
      "cell_type": "code",
      "metadata": {
        "id": "qxslPST3Bt2-"
      },
      "source": [
        "model.compile(optimizer=tf.keras.optimizers.Adam(learning_rate=1e-3),loss='sparse_categorical_crossentropy',metrics=['accuracy'])"
      ],
      "execution_count": null,
      "outputs": []
    },
    {
      "cell_type": "code",
      "metadata": {
        "id": "TR-MAv4VBt2_",
        "tags": []
      },
      "source": [
        "#history = model.fit(xTrain,YTrain,epochs=300,validation_data=(XVal,YVal))"
      ],
      "execution_count": null,
      "outputs": []
    },
    {
      "cell_type": "markdown",
      "metadata": {
        "id": "RcTu2jcdVngW"
      },
      "source": [
        "## Custom learning loop"
      ]
    },
    {
      "cell_type": "code",
      "metadata": {
        "id": "6Zx1g-aQF-05"
      },
      "source": [
        "loss = keras.losses.SparseCategoricalCrossentropy()"
      ],
      "execution_count": null,
      "outputs": []
    },
    {
      "cell_type": "code",
      "metadata": {
        "tags": [],
        "colab": {
          "base_uri": "https://localhost:8080/"
        },
        "id": "Z9RtVSNDVngW",
        "outputId": "80009491-1cd0-4446-d319-a470634bead7"
      },
      "source": [
        "EPOCHS = 5000\n",
        "\n",
        "losses = { 'atc': [], 'wt': [] }\n",
        "trainAccuracy = { 'atc': [], 'wt': [] }\n",
        "validationAccuracy = { 'atc': [], 'wt': [] }\n",
        "\n",
        "for epoch in range(EPOCHS):\n",
        "    #Computing accuracies\n",
        "    trainPredictions = model(xTrain, training=False)\n",
        "    trainPredictionsATC = np.argmax(trainPredictions[ATC_CODE],axis=1).reshape(yTrain[:,:,0].shape)\n",
        "    trainPredictionsWT  = np.argmax(trainPredictions[WAIT_TIME],axis=1).reshape(yTrain[:,:,1].shape)\n",
        "\n",
        "    trainAccuracy['atc'].append((trainPredictionsATC == yTrain[:,:,0]).sum()/len(yTrain[:,:,0]))\n",
        "    trainAccuracy['wt'].append((trainPredictionsWT == yTrain[:,:,1]).sum()/len(yTrain[:,:,1]))\n",
        "\n",
        "    validationPredictions = model(XVal, training=False)\n",
        "    validationPredictionsATC = np.argmax(validationPredictions[ATC_CODE],axis=1).reshape(YVal['outputATC'].shape)\n",
        "    validationPredictionsWT  = np.argmax(validationPredictions[WAIT_TIME],axis=1).reshape(YVal['outputWaitTime'].shape)\n",
        "\n",
        "    validationAccuracy['atc'].append((validationPredictionsATC == YVal['outputATC']).sum()/len(YVal['outputATC']))\n",
        "    validationAccuracy['wt'].append((validationPredictionsWT == YVal['outputATC']).sum()/len(YVal['outputATC']))\n",
        "\n",
        "    with tf.GradientTape() as ATCTape, tf.GradientTape() as WTTape, tf.GradientTape() as tape:\n",
        "        predictions = model(xTrain,training=False)\n",
        "        ATCLoss = loss(yTrain[:,:,0],predictions[ATC_CODE])\n",
        "        WTLoss = loss(yTrain[:,:,1],predictions[WAIT_TIME])\n",
        "        #lossValue = ATCLoss + WTLoss\n",
        "\n",
        "    #Getting the gradients\n",
        "    ATCGrads = ATCTape.gradient(ATCLoss, model.trainable_variables)\n",
        "    WTGrads  = WTTape.gradient(WTLoss,model.trainable_variables)\n",
        "    #grads = tape.gradient(lossValue,model.trainable_variables)\n",
        "\n",
        "    #Making all elements of the list returned by tf with the same shape\n",
        "    #by adding 0 where there is no values\n",
        "    for i in range(len(WTGrads)):\n",
        "        ATCGradsValue = ATCGrads[i]\n",
        "        WTGradsValue = WTGrads[i]\n",
        "\n",
        "        if ATCGradsValue is None:\n",
        "            ATCGrads[i] = tf.constant(np.zeros(WTGradsValue.shape,dtype='float32'))\n",
        "        \n",
        "        if WTGradsValue is None:\n",
        "            WTGrads[i] = tf.constant(np.zeros(ATCGradsValue.shape,dtype='float32'))\n",
        "\n",
        "    #putting the gradients in the form of a 1D vector\n",
        "    gs = np.concatenate([g.numpy().reshape(np.prod(g.shape),) for g in ATCGrads])\n",
        "    gl = np.concatenate([g.numpy().reshape(np.prod(g.shape),) for g in WTGrads])\n",
        "    \n",
        "    if np.linalg.norm(gs) > np.linalg.norm(gl):\n",
        "        tmp = gs\n",
        "        gl = gs\n",
        "        gs = tmp\n",
        "    \n",
        "    d = -gs / np.linalg.norm(gs)\n",
        "\n",
        "    if np.transpose(gs) @ (gs - gl) <= 0:\n",
        "        D = -gs * (np.linalg.norm(gl) ** 2 - np.transpose(gs) @ gl) / (np.linalg.norm(gs) ** 2 - np.transpose(gs) @ gl) - gl\n",
        "        d = D / np.linalg.norm(D)\n",
        "    \n",
        "    finalGrads = []\n",
        "\n",
        "    begin = 0\n",
        "    for g in ATCGrads:\n",
        "        shape = g.shape\n",
        "        length = np.prod(shape)\n",
        "        finalGrads.append(-tf.constant(d[begin:begin+length].reshape(shape)))\n",
        "        begin += length\n",
        "\n",
        "    model.optimizer.apply_gradients(zip(finalGrads, model.trainable_variables))\n",
        "\n",
        "    losses['atc'].append(ATCLoss)\n",
        "    losses['wt'].append(WTLoss)\n",
        "    lossValue = ATCLoss + WTLoss\n",
        "\n",
        "    e = epoch + 1\n",
        "    if (e % 100 == 0) or (epoch == 0):\n",
        "        print(f\"epochs {e:03d} --- loss {lossValue:.3f} (atc: {ATCLoss:.3f}  wait_time: {WTLoss:.3f})\")"
      ],
      "execution_count": null,
      "outputs": [
        {
          "output_type": "stream",
          "text": [
            "epochs 001 --- loss 576.380 (atc: 369.447  wait_time: 206.933)\n",
            "epochs 100 --- loss 51.947 (atc: 4.845  wait_time: 47.102)\n",
            "epochs 200 --- loss 28.215 (atc: 5.694  wait_time: 22.521)\n",
            "epochs 300 --- loss 21.496 (atc: 4.003  wait_time: 17.493)\n",
            "epochs 400 --- loss 10.653 (atc: 4.168  wait_time: 6.485)\n",
            "epochs 500 --- loss 18.827 (atc: 14.278  wait_time: 4.549)\n",
            "epochs 600 --- loss 19.783 (atc: 10.610  wait_time: 9.173)\n",
            "epochs 700 --- loss 5.489 (atc: 3.707  wait_time: 1.782)\n",
            "epochs 800 --- loss 9.860 (atc: 5.106  wait_time: 4.755)\n",
            "epochs 900 --- loss 6.000 (atc: 3.614  wait_time: 2.387)\n",
            "epochs 1000 --- loss 4.979 (atc: 2.787  wait_time: 2.192)\n",
            "epochs 1100 --- loss 6.017 (atc: 2.939  wait_time: 3.078)\n",
            "epochs 1200 --- loss 4.682 (atc: 2.654  wait_time: 2.028)\n",
            "epochs 1300 --- loss 4.663 (atc: 2.686  wait_time: 1.977)\n",
            "epochs 1400 --- loss 5.854 (atc: 2.742  wait_time: 3.112)\n",
            "epochs 1500 --- loss 4.122 (atc: 2.460  wait_time: 1.662)\n",
            "epochs 1600 --- loss 4.861 (atc: 2.973  wait_time: 1.888)\n",
            "epochs 1700 --- loss 4.069 (atc: 2.460  wait_time: 1.609)\n",
            "epochs 1800 --- loss 4.167 (atc: 2.561  wait_time: 1.606)\n",
            "epochs 1900 --- loss 5.603 (atc: 3.193  wait_time: 2.410)\n",
            "epochs 2000 --- loss 4.234 (atc: 2.344  wait_time: 1.890)\n",
            "epochs 2100 --- loss 4.366 (atc: 2.607  wait_time: 1.760)\n",
            "epochs 2200 --- loss 4.230 (atc: 2.001  wait_time: 2.230)\n",
            "epochs 2300 --- loss 4.030 (atc: 2.167  wait_time: 1.863)\n",
            "epochs 2400 --- loss 3.843 (atc: 1.807  wait_time: 2.036)\n",
            "epochs 2500 --- loss 4.604 (atc: 1.513  wait_time: 3.091)\n",
            "epochs 2600 --- loss 4.064 (atc: 1.127  wait_time: 2.937)\n",
            "epochs 2700 --- loss 4.277 (atc: 0.903  wait_time: 3.375)\n",
            "epochs 2800 --- loss 4.540 (atc: 1.061  wait_time: 3.479)\n",
            "epochs 2900 --- loss 3.430 (atc: 0.660  wait_time: 2.770)\n",
            "epochs 3000 --- loss 7.752 (atc: 2.641  wait_time: 5.111)\n",
            "epochs 3100 --- loss 3.584 (atc: 1.557  wait_time: 2.027)\n",
            "epochs 3200 --- loss 4.263 (atc: 0.864  wait_time: 3.398)\n",
            "epochs 3300 --- loss 4.568 (atc: 0.642  wait_time: 3.926)\n",
            "epochs 3400 --- loss 5.046 (atc: 0.304  wait_time: 4.742)\n",
            "epochs 3500 --- loss 5.455 (atc: 1.133  wait_time: 4.322)\n",
            "epochs 3600 --- loss 2.988 (atc: 0.263  wait_time: 2.725)\n",
            "epochs 3700 --- loss 2.701 (atc: 0.184  wait_time: 2.516)\n",
            "epochs 3800 --- loss 3.582 (atc: 1.160  wait_time: 2.422)\n",
            "epochs 3900 --- loss 3.136 (atc: 0.702  wait_time: 2.434)\n",
            "epochs 4000 --- loss 2.067 (atc: 0.247  wait_time: 1.821)\n",
            "epochs 4100 --- loss 1.939 (atc: 0.184  wait_time: 1.754)\n",
            "epochs 4200 --- loss 3.375 (atc: 1.605  wait_time: 1.770)\n",
            "epochs 4300 --- loss 1.770 (atc: 0.096  wait_time: 1.673)\n",
            "epochs 4400 --- loss 2.469 (atc: 0.445  wait_time: 2.024)\n",
            "epochs 4500 --- loss 3.726 (atc: 0.284  wait_time: 3.443)\n",
            "epochs 4600 --- loss 2.005 (atc: 0.138  wait_time: 1.867)\n",
            "epochs 4700 --- loss 2.532 (atc: 0.411  wait_time: 2.121)\n",
            "epochs 4800 --- loss 1.737 (atc: 0.093  wait_time: 1.644)\n",
            "epochs 4900 --- loss 1.873 (atc: 0.113  wait_time: 1.760)\n",
            "epochs 5000 --- loss 2.058 (atc: 0.397  wait_time: 1.660)\n"
          ],
          "name": "stdout"
        }
      ]
    },
    {
      "cell_type": "code",
      "metadata": {
        "colab": {
          "base_uri": "https://localhost:8080/",
          "height": 281
        },
        "id": "8XJLwbEAVngX",
        "outputId": "bc2b36ed-3c86-4f8c-cd48-d44cb929d863"
      },
      "source": [
        "fig, (l,a) = plt.subplots(1,2,sharex=True,figsize=(13,4))\n",
        "l.title.set_text('loss')\n",
        "l.set_ylabel('loss')\n",
        "\n",
        "a.title.set_text('accuracy')\n",
        "a.set_ylabel('accuracy')\n",
        "\n",
        "l.plot(losses['atc'],label='atc loss')\n",
        "l.plot(losses['wt'],label='wait time loss')\n",
        "\n",
        "a.plot(trainAccuracy['atc'],label='atc train accuracy',c='royalblue')\n",
        "a.plot(trainAccuracy['wt'],label='wait time train accuracy',c='darkgreen')\n",
        "\n",
        "a.plot(validationAccuracy['atc'],label='atc validation accuracy',c='cornflowerblue')\n",
        "a.plot(validationAccuracy['wt'],label='wait time validation accuracy',c='forestgreen')\n",
        "\n",
        "plt.legend(loc='center right')\n",
        "plt.show()"
      ],
      "execution_count": null,
      "outputs": [
        {
          "output_type": "display_data",
          "data": {
            "image/png": "[encoded data removed]",
            "text/plain": [
              "<Figure size 936x288 with 2 Axes>"
            ]
          },
          "metadata": {
            "tags": [],
            "needs_background": "light"
          }
        }
      ]
    },
    {
      "cell_type": "code",
      "metadata": {
        "id": "258mj3MzKwsb",
        "colab": {
          "base_uri": "https://localhost:8080/"
        },
        "outputId": "bc906dd9-d895-4a4d-f12c-f71f34a8bd1b"
      },
      "source": [
        "predictions = model.predict(XTest)\n",
        "predictionsATC = np.argmax(predictions[ATC_CODE],axis=1).reshape(YTest['outputATC'].shape)\n",
        "predictionsWT  = np.argmax(predictions[WAIT_TIME],axis=1).reshape(YTest['outputWaitTime'].shape)\n",
        "\n",
        "print(f\"Précision 'ATC_CODE': {(predictionsATC == YTest['outputATC']).sum()/len(YTest['outputATC'])*100:.2f}%\")\n",
        "print(f\"Précision 'WAIT_TIME': {(predictionsWT == YTest['outputWaitTime']).sum()/len(YTest['outputWaitTime'])*100:.2f}%\")"
      ],
      "execution_count": null,
      "outputs": [
        {
          "output_type": "stream",
          "text": [
            "Précision 'ATC_CODE': 93.38%\n",
            "Précision 'WAIT_TIME': 18.44%\n"
          ],
          "name": "stdout"
        }
      ]
    },
    {
      "cell_type": "code",
      "metadata": {
        "id": "rh-7qf95g-KV",
        "colab": {
          "base_uri": "https://localhost:8080/"
        },
        "outputId": "0fe31442-622f-419e-ce72-413dcc921caa"
      },
      "source": [
        "3**0.5"
      ],
      "execution_count": null,
      "outputs": [
        {
          "output_type": "execute_result",
          "data": {
            "text/plain": [
              "1.7320508075688772"
            ]
          },
          "metadata": {
            "tags": []
          },
          "execution_count": 76
        }
      ]
    },
    {
      "cell_type": "code",
      "metadata": {
        "colab": {
          "base_uri": "https://localhost:8080/"
        },
        "id": "rtCJP5y3g5Nf",
        "outputId": "dcef75db-7ca7-485b-e652-7425a468188a"
      },
      "source": [
        "np.linalg.norm([1,1,1])"
      ],
      "execution_count": null,
      "outputs": [
        {
          "output_type": "execute_result",
          "data": {
            "text/plain": [
              "1.7320508075688772"
            ]
          },
          "metadata": {
            "tags": []
          },
          "execution_count": 75
        }
      ]
    },
    {
      "cell_type": "code",
      "metadata": {
        "id": "w-J2c9KJBt3E",
        "colab": {
          "base_uri": "https://localhost:8080/",
          "height": 295
        },
        "outputId": "534c1fea-4a83-4eff-9a46-921d7151717c"
      },
      "source": [
        "SLICE_START = 350\n",
        "SLICE_SIZE = 50\n",
        "SLICE_END = SLICE_START + SLICE_SIZE\n",
        "\n",
        "fig, (atc,wt) = plt.subplots(1,2,sharex=True,figsize=(13,4))\n",
        "\n",
        "atc.title.set_text('atc prediction vs expected')\n",
        "atc.set_ylabel('atc_code')\n",
        "\n",
        "wt.title.set_text('wait time prediction vs expected')\n",
        "wt.set_ylabel('wait time')\n",
        "\n",
        "atc.plot(YTest['outputATC'][SLICE_START:SLICE_END],label='expected')\n",
        "atc.plot(predictionsATC[SLICE_START:SLICE_END],color='r',label='predicted')\n",
        "\n",
        "wt.plot(YTest['outputWaitTime'][SLICE_START:SLICE_END])\n",
        "wt.plot(predictionsWT[SLICE_START:SLICE_END],color='r')\n",
        "\n",
        "fig.legend()\n",
        "fig.show()"
      ],
      "execution_count": null,
      "outputs": [
        {
          "output_type": "display_data",
          "data": {
            "image/png": "[encoded data removed]",
            "text/plain": [
              "<Figure size 936x288 with 2 Axes>"
            ]
          },
          "metadata": {
            "tags": [],
            "needs_background": "light"
          }
        }
      ]
    },
    {
      "cell_type": "code",
      "metadata": {
        "id": "Q_jtzWUuqUjQ"
      },
      "source": [
        ""
      ],
      "execution_count": null,
      "outputs": []
    }
  ]
}