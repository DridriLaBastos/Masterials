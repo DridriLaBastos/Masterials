{
 "metadata": {
  "language_info": {
   "codemirror_mode": {
    "name": "ipython",
    "version": 3
   },
   "file_extension": ".py",
   "mimetype": "text/x-python",
   "name": "python",
   "nbconvert_exporter": "python",
   "pygments_lexer": "ipython3",
   "version": "3.7.3-final"
  },
  "orig_nbformat": 2,
  "kernelspec": {
   "name": "python3",
   "display_name": "Python 3.7.3 64-bit",
   "metadata": {
    "interpreter": {
     "hash": "31f2aee4e71d21fbe5cf8b01ff0e069b9275f58929596ceb00d14d90e3e16cd6"
    }
   }
  }
 },
 "nbformat": 4,
 "nbformat_minor": 2,
 "cells": [
  {
   "cell_type": "code",
   "execution_count": 1,
   "metadata": {},
   "outputs": [],
   "source": [
    "import pandas as pd\n",
    "import numpy as np\n",
    "\n",
    "from matplotlib import pyplot as plt\n",
    "\n",
    "from sklearn.preprocessing import LabelEncoder\n",
    "\n",
    "from keras import layers\n",
    "from keras import models\n",
    "from keras import losses\n",
    "from keras.utils import to_categorical"
   ]
  },
  {
   "cell_type": "code",
   "execution_count": 3,
   "metadata": {},
   "outputs": [],
   "source": [
    "dateColumnNames = [\n",
    "    'contact_date',\n",
    "    'Glycemie_der_date',\n",
    "    'HbA1c_der_date',\n",
    "    'der_date_poids',\n",
    "    'der_date_taille',\n",
    "    'first_contact_date'\n",
    "]\n",
    "\n",
    "dfView = pd.read_csv('PatientsHTA.zip',nrows=1)\n",
    "df = pd.read_csv('PatientsHTA.zip',engine='c',parse_dates=dateColumnNames)"
   ]
  },
  {
   "source": [
    "# Suppression des lignes trop peu nombreuses\n",
    "\n",
    "Nous souhaitons faire un apprentissage en utilisant la dimension temporelle comme filtre pour le CNN. Pour ça il faut donc que nous ayons plusieurs entrées. Avant de commencer à traîter les données, nous supprimons toutes les personnes qui n'ont pas rendu visite assez souvent à leur médecin. Ainsi, par le biais de ```person_id```, nous avons choisi arbitrairement que pour être utile à l'apprentissage, il faut au moins 3 visites par patients, soient toutes les lignes dont le ```person_id```est contenu plus de 3 fois dans tout le jeu de données."
   ],
   "cell_type": "markdown",
   "metadata": {}
  },
  {
   "cell_type": "code",
   "execution_count": 4,
   "metadata": {},
   "outputs": [],
   "source": [
    "valueCounts = df.person_id.value_counts()\n",
    "dfEnought = df[df.person_id.isin(valueCounts[valueCounts.values >= 3].index)]"
   ]
  },
  {
   "source": [
    "# Suppression des colonnes innutiles\n",
    "\n",
    "## Suppression de la colonne ```age_now```\n",
    "\n",
    "Nous pouvons supprimer la colonne ```age_now``` car les données qu'elle contient sont identiques à celles de la colonne ```year_of_birth```.\n",
    "\n"
   ],
   "cell_type": "markdown",
   "metadata": {}
  },
  {
   "source": [
    "dfWithoutAgeNow = dfEnought.drop('Age_now', axis='columns')"
   ],
   "cell_type": "code",
   "metadata": {},
   "execution_count": 5,
   "outputs": []
  },
  {
   "source": [
    "## Suppression de la colonne ```contact_id```\n",
    "\n",
    "En effet, la colonne ```contact_id``` ne représente aucun intérêt pour l'apprentissage car elle ne contient aucun information à même d'influer sur la prédiction."
   ],
   "cell_type": "markdown",
   "metadata": {}
  },
  {
   "cell_type": "code",
   "execution_count": 6,
   "metadata": {},
   "outputs": [],
   "source": [
    "dfWithoutContactID = dfWithoutAgeNow.drop('contact_id',axis='columns')"
   ]
  },
  {
   "source": [
    "## Suppression des noms de médicaments"
   ],
   "cell_type": "markdown",
   "metadata": {}
  },
  {
   "cell_type": "code",
   "execution_count": 7,
   "metadata": {},
   "outputs": [
    {
     "output_type": "execute_result",
     "data": {
      "text/plain": [
       "                  molecule_label  short_name  long_name  Classe  product_atc\n",
       "product_atc_code                                                            \n",
       "C02AC06                     4706        4706       4706    4706         4706\n",
       "C03BX03                      977         977        977     977          977\n",
       "C03CA01                     1002        1002       1002    1002         1002\n",
       "C03DA01                      215         215        215     215          215\n",
       "C03DA04                       33          33         33      33           33\n",
       "C03EA04                       75          75         75      75           75\n",
       "C03EB01                       14          14         14      14           14\n",
       "C07AA05                        2           2          2       2            2\n",
       "C07AB03                     7026        7026       7026    7026         7026\n",
       "C07AB04                       39          39         39      39           39\n",
       "C07AB07                     7532        7532       7532    7532         7532\n",
       "C07AB12                      536         536        536     536          536\n",
       "C07DB01                       10          10         10      10           10\n",
       "C08CA01                      757         757        757     757          757\n",
       "C08DB01                      126         126        126     126          126\n",
       "C09AA02                       65          65         65      65           65\n",
       "C09AA03                       53          53         53      53           53\n",
       "C09AA04                     1409        1409       1409    1409         1409\n",
       "C09AA05                      257         257        257     257          257\n",
       "C09AA06                       20          20         20      20           20\n",
       "C09BA02                       14          14         14      14           14\n",
       "C09BA04                     1022        1022       1022    1022         1022\n",
       "C09CA01                      299         299        299     299          299\n",
       "C09CA03                     2944        2944       2944    2944         2944\n",
       "C09CA04                      702         702        702     702          702\n",
       "C09CA06                     1440        1440       1440    1440         1440\n",
       "C09CA07                      146         146        146     146          146\n",
       "C09DA01                      606         606        606     606          606\n",
       "C09DA03                     1975        1975       1975    1975         1975\n",
       "C09DA04                      688         688        688     688          688\n",
       "C09DB04                     5597        5597       5597    5597         5597\n",
       "C09XA02                       76          76         76      76           76\n",
       "C09XA52                      224         224        224     224          224"
      ],
      "text/html": "<div>\n<style scoped>\n    .dataframe tbody tr th:only-of-type {\n        vertical-align: middle;\n    }\n\n    .dataframe tbody tr th {\n        vertical-align: top;\n    }\n\n    .dataframe thead th {\n        text-align: right;\n    }\n</style>\n<table border=\"1\" class=\"dataframe\">\n  <thead>\n    <tr style=\"text-align: right;\">\n      <th></th>\n      <th>molecule_label</th>\n      <th>short_name</th>\n      <th>long_name</th>\n      <th>Classe</th>\n      <th>product_atc</th>\n    </tr>\n    <tr>\n      <th>product_atc_code</th>\n      <th></th>\n      <th></th>\n      <th></th>\n      <th></th>\n      <th></th>\n    </tr>\n  </thead>\n  <tbody>\n    <tr>\n      <th>C02AC06</th>\n      <td>4706</td>\n      <td>4706</td>\n      <td>4706</td>\n      <td>4706</td>\n      <td>4706</td>\n    </tr>\n    <tr>\n      <th>C03BX03</th>\n      <td>977</td>\n      <td>977</td>\n      <td>977</td>\n      <td>977</td>\n      <td>977</td>\n    </tr>\n    <tr>\n      <th>C03CA01</th>\n      <td>1002</td>\n      <td>1002</td>\n      <td>1002</td>\n      <td>1002</td>\n      <td>1002</td>\n    </tr>\n    <tr>\n      <th>C03DA01</th>\n      <td>215</td>\n      <td>215</td>\n      <td>215</td>\n      <td>215</td>\n      <td>215</td>\n    </tr>\n    <tr>\n      <th>C03DA04</th>\n      <td>33</td>\n      <td>33</td>\n      <td>33</td>\n      <td>33</td>\n      <td>33</td>\n    </tr>\n    <tr>\n      <th>C03EA04</th>\n      <td>75</td>\n      <td>75</td>\n      <td>75</td>\n      <td>75</td>\n      <td>75</td>\n    </tr>\n    <tr>\n      <th>C03EB01</th>\n      <td>14</td>\n      <td>14</td>\n      <td>14</td>\n      <td>14</td>\n      <td>14</td>\n    </tr>\n    <tr>\n      <th>C07AA05</th>\n      <td>2</td>\n      <td>2</td>\n      <td>2</td>\n      <td>2</td>\n      <td>2</td>\n    </tr>\n    <tr>\n      <th>C07AB03</th>\n      <td>7026</td>\n      <td>7026</td>\n      <td>7026</td>\n      <td>7026</td>\n      <td>7026</td>\n    </tr>\n    <tr>\n      <th>C07AB04</th>\n      <td>39</td>\n      <td>39</td>\n      <td>39</td>\n      <td>39</td>\n      <td>39</td>\n    </tr>\n    <tr>\n      <th>C07AB07</th>\n      <td>7532</td>\n      <td>7532</td>\n      <td>7532</td>\n      <td>7532</td>\n      <td>7532</td>\n    </tr>\n    <tr>\n      <th>C07AB12</th>\n      <td>536</td>\n      <td>536</td>\n      <td>536</td>\n      <td>536</td>\n      <td>536</td>\n    </tr>\n    <tr>\n      <th>C07DB01</th>\n      <td>10</td>\n      <td>10</td>\n      <td>10</td>\n      <td>10</td>\n      <td>10</td>\n    </tr>\n    <tr>\n      <th>C08CA01</th>\n      <td>757</td>\n      <td>757</td>\n      <td>757</td>\n      <td>757</td>\n      <td>757</td>\n    </tr>\n    <tr>\n      <th>C08DB01</th>\n      <td>126</td>\n      <td>126</td>\n      <td>126</td>\n      <td>126</td>\n      <td>126</td>\n    </tr>\n    <tr>\n      <th>C09AA02</th>\n      <td>65</td>\n      <td>65</td>\n      <td>65</td>\n      <td>65</td>\n      <td>65</td>\n    </tr>\n    <tr>\n      <th>C09AA03</th>\n      <td>53</td>\n      <td>53</td>\n      <td>53</td>\n      <td>53</td>\n      <td>53</td>\n    </tr>\n    <tr>\n      <th>C09AA04</th>\n      <td>1409</td>\n      <td>1409</td>\n      <td>1409</td>\n      <td>1409</td>\n      <td>1409</td>\n    </tr>\n    <tr>\n      <th>C09AA05</th>\n      <td>257</td>\n      <td>257</td>\n      <td>257</td>\n      <td>257</td>\n      <td>257</td>\n    </tr>\n    <tr>\n      <th>C09AA06</th>\n      <td>20</td>\n      <td>20</td>\n      <td>20</td>\n      <td>20</td>\n      <td>20</td>\n    </tr>\n    <tr>\n      <th>C09BA02</th>\n      <td>14</td>\n      <td>14</td>\n      <td>14</td>\n      <td>14</td>\n      <td>14</td>\n    </tr>\n    <tr>\n      <th>C09BA04</th>\n      <td>1022</td>\n      <td>1022</td>\n      <td>1022</td>\n      <td>1022</td>\n      <td>1022</td>\n    </tr>\n    <tr>\n      <th>C09CA01</th>\n      <td>299</td>\n      <td>299</td>\n      <td>299</td>\n      <td>299</td>\n      <td>299</td>\n    </tr>\n    <tr>\n      <th>C09CA03</th>\n      <td>2944</td>\n      <td>2944</td>\n      <td>2944</td>\n      <td>2944</td>\n      <td>2944</td>\n    </tr>\n    <tr>\n      <th>C09CA04</th>\n      <td>702</td>\n      <td>702</td>\n      <td>702</td>\n      <td>702</td>\n      <td>702</td>\n    </tr>\n    <tr>\n      <th>C09CA06</th>\n      <td>1440</td>\n      <td>1440</td>\n      <td>1440</td>\n      <td>1440</td>\n      <td>1440</td>\n    </tr>\n    <tr>\n      <th>C09CA07</th>\n      <td>146</td>\n      <td>146</td>\n      <td>146</td>\n      <td>146</td>\n      <td>146</td>\n    </tr>\n    <tr>\n      <th>C09DA01</th>\n      <td>606</td>\n      <td>606</td>\n      <td>606</td>\n      <td>606</td>\n      <td>606</td>\n    </tr>\n    <tr>\n      <th>C09DA03</th>\n      <td>1975</td>\n      <td>1975</td>\n      <td>1975</td>\n      <td>1975</td>\n      <td>1975</td>\n    </tr>\n    <tr>\n      <th>C09DA04</th>\n      <td>688</td>\n      <td>688</td>\n      <td>688</td>\n      <td>688</td>\n      <td>688</td>\n    </tr>\n    <tr>\n      <th>C09DB04</th>\n      <td>5597</td>\n      <td>5597</td>\n      <td>5597</td>\n      <td>5597</td>\n      <td>5597</td>\n    </tr>\n    <tr>\n      <th>C09XA02</th>\n      <td>76</td>\n      <td>76</td>\n      <td>76</td>\n      <td>76</td>\n      <td>76</td>\n    </tr>\n    <tr>\n      <th>C09XA52</th>\n      <td>224</td>\n      <td>224</td>\n      <td>224</td>\n      <td>224</td>\n      <td>224</td>\n    </tr>\n  </tbody>\n</table>\n</div>"
     },
     "metadata": {},
     "execution_count": 7
    }
   ],
   "source": [
    "dfGroupedByMoleculeLabel = dfWithoutContactID.groupby('product_atc_code')[['molecule_label','short_name','long_name','Classe','product_atc']].count()\n",
    "dfGroupedByMoleculeLabel"
   ]
  },
  {
   "source": [
    "Nous voyons qu'il existe différentes colonnes dont le but est de désigner le médicament prescrit lors de la visite, or nous n'avons besoin que d'une seule colonne garder cette information. De ce fait, nous avons choisi de garder ```product_atc_code```."
   ],
   "cell_type": "markdown",
   "metadata": {}
  },
  {
   "cell_type": "code",
   "execution_count": 8,
   "metadata": {},
   "outputs": [
    {
     "output_type": "execute_result",
     "data": {
      "text/plain": [
       "        person_id      specialty_label contact_date           cip  dosage_1  \\\n",
       "1        263659.0  Médecin généraliste   2014-09-24  3.400960e+12      20.0   \n",
       "2        263659.0  Médecin généraliste   2014-09-12  3.400960e+12      20.0   \n",
       "3        263659.0  Médecin généraliste   2015-03-26  3.400960e+12      20.0   \n",
       "4        263659.0  Médecin généraliste   2015-06-05  3.400960e+12      20.0   \n",
       "6      25182917.0  Médecin généraliste   2013-03-27  3.400960e+12     300.0   \n",
       "...           ...                  ...          ...           ...       ...   \n",
       "50627  18889430.0  Médecin généraliste   2013-02-01  3.400940e+12     500.0   \n",
       "50629   2222336.0  Médecin généraliste   2013-07-01  3.400940e+12     500.0   \n",
       "50630  24755853.0  Médecin généraliste   2013-01-22  3.400940e+12     500.0   \n",
       "50631  11363518.0  Médecin généraliste   2013-01-24  3.400940e+12     500.0   \n",
       "50632  18889430.0  Médecin généraliste   2013-01-24  3.400940e+12     500.0   \n",
       "\n",
       "        dose_1  dose_2 product_atc_code  box  quantity  ... HbA1c_der_date  \\\n",
       "1        240.0    24.0         C03CA01   1.0      4.00  ...            NaT   \n",
       "2        240.0    24.0         C03CA01   1.0      4.00  ...            NaT   \n",
       "3        240.0    24.0         C03CA01   1.0      4.00  ...            NaT   \n",
       "4        240.0    24.0         C03CA01   1.0      4.00  ...            NaT   \n",
       "6      16800.0    56.0         C09XA02   2.0      1.00  ...            NaT   \n",
       "...        ...     ...              ...  ...       ...  ...            ...   \n",
       "50627  15000.0    30.0         C03CA01   1.0      0.50  ...     2017-05-15   \n",
       "50629  15000.0    30.0         C03CA01   2.0      0.25  ...            NaT   \n",
       "50630  15000.0    30.0         C03CA01   1.0      0.50  ...            NaT   \n",
       "50631  15000.0    30.0         C03CA01   1.0      0.25  ...            NaT   \n",
       "50632  15000.0    30.0         C03CA01   1.0      0.50  ...     2017-05-15   \n",
       "\n",
       "       HbA1c_der_mesure gender_code Age_presc  year_of_birth  Poids  \\\n",
       "1                   NaN           M      96.0         1918.0    NaN   \n",
       "2                   NaN           M      96.0         1918.0    NaN   \n",
       "3                   NaN           M      97.0         1918.0    NaN   \n",
       "4                   NaN           M      97.0         1918.0    NaN   \n",
       "6                   NaN           M      63.0         1950.0    NaN   \n",
       "...                 ...         ...       ...            ...    ...   \n",
       "50627              8.01           M      85.0         1928.0    NaN   \n",
       "50629               NaN           F      78.0         1935.0    NaN   \n",
       "50630               NaN           M      87.0         1926.0    NaN   \n",
       "50631               NaN           M      80.0         1933.0    NaN   \n",
       "50632              8.01           M      85.0         1928.0    NaN   \n",
       "\n",
       "       der_date_poids  Taille der_date_taille  first_contact_date  \n",
       "1                 NaT     NaN             NaT          1998-04-02  \n",
       "2                 NaT     NaN             NaT          1998-04-02  \n",
       "3                 NaT     NaN             NaT          1998-04-02  \n",
       "4                 NaT     NaN             NaT          1998-04-02  \n",
       "6                 NaT     NaN             NaT          2011-04-04  \n",
       "...               ...     ...             ...                 ...  \n",
       "50627             NaT     NaN             NaT          2007-12-02  \n",
       "50629             NaT     NaN             NaT          2006-02-23  \n",
       "50630             NaT     NaN             NaT          2011-05-01  \n",
       "50631             NaT     NaN             NaT          1998-01-27  \n",
       "50632             NaT     NaN             NaT          2007-12-02  \n",
       "\n",
       "[40587 rows x 31 columns]"
      ],
      "text/html": "<div>\n<style scoped>\n    .dataframe tbody tr th:only-of-type {\n        vertical-align: middle;\n    }\n\n    .dataframe tbody tr th {\n        vertical-align: top;\n    }\n\n    .dataframe thead th {\n        text-align: right;\n    }\n</style>\n<table border=\"1\" class=\"dataframe\">\n  <thead>\n    <tr style=\"text-align: right;\">\n      <th></th>\n      <th>person_id</th>\n      <th>specialty_label</th>\n      <th>contact_date</th>\n      <th>cip</th>\n      <th>dosage_1</th>\n      <th>dose_1</th>\n      <th>dose_2</th>\n      <th>product_atc_code</th>\n      <th>box</th>\n      <th>quantity</th>\n      <th>...</th>\n      <th>HbA1c_der_date</th>\n      <th>HbA1c_der_mesure</th>\n      <th>gender_code</th>\n      <th>Age_presc</th>\n      <th>year_of_birth</th>\n      <th>Poids</th>\n      <th>der_date_poids</th>\n      <th>Taille</th>\n      <th>der_date_taille</th>\n      <th>first_contact_date</th>\n    </tr>\n  </thead>\n  <tbody>\n    <tr>\n      <th>1</th>\n      <td>263659.0</td>\n      <td>Médecin généraliste</td>\n      <td>2014-09-24</td>\n      <td>3.400960e+12</td>\n      <td>20.0</td>\n      <td>240.0</td>\n      <td>24.0</td>\n      <td>C03CA01</td>\n      <td>1.0</td>\n      <td>4.00</td>\n      <td>...</td>\n      <td>NaT</td>\n      <td>NaN</td>\n      <td>M</td>\n      <td>96.0</td>\n      <td>1918.0</td>\n      <td>NaN</td>\n      <td>NaT</td>\n      <td>NaN</td>\n      <td>NaT</td>\n      <td>1998-04-02</td>\n    </tr>\n    <tr>\n      <th>2</th>\n      <td>263659.0</td>\n      <td>Médecin généraliste</td>\n      <td>2014-09-12</td>\n      <td>3.400960e+12</td>\n      <td>20.0</td>\n      <td>240.0</td>\n      <td>24.0</td>\n      <td>C03CA01</td>\n      <td>1.0</td>\n      <td>4.00</td>\n      <td>...</td>\n      <td>NaT</td>\n      <td>NaN</td>\n      <td>M</td>\n      <td>96.0</td>\n      <td>1918.0</td>\n      <td>NaN</td>\n      <td>NaT</td>\n      <td>NaN</td>\n      <td>NaT</td>\n      <td>1998-04-02</td>\n    </tr>\n    <tr>\n      <th>3</th>\n      <td>263659.0</td>\n      <td>Médecin généraliste</td>\n      <td>2015-03-26</td>\n      <td>3.400960e+12</td>\n      <td>20.0</td>\n      <td>240.0</td>\n      <td>24.0</td>\n      <td>C03CA01</td>\n      <td>1.0</td>\n      <td>4.00</td>\n      <td>...</td>\n      <td>NaT</td>\n      <td>NaN</td>\n      <td>M</td>\n      <td>97.0</td>\n      <td>1918.0</td>\n      <td>NaN</td>\n      <td>NaT</td>\n      <td>NaN</td>\n      <td>NaT</td>\n      <td>1998-04-02</td>\n    </tr>\n    <tr>\n      <th>4</th>\n      <td>263659.0</td>\n      <td>Médecin généraliste</td>\n      <td>2015-06-05</td>\n      <td>3.400960e+12</td>\n      <td>20.0</td>\n      <td>240.0</td>\n      <td>24.0</td>\n      <td>C03CA01</td>\n      <td>1.0</td>\n      <td>4.00</td>\n      <td>...</td>\n      <td>NaT</td>\n      <td>NaN</td>\n      <td>M</td>\n      <td>97.0</td>\n      <td>1918.0</td>\n      <td>NaN</td>\n      <td>NaT</td>\n      <td>NaN</td>\n      <td>NaT</td>\n      <td>1998-04-02</td>\n    </tr>\n    <tr>\n      <th>6</th>\n      <td>25182917.0</td>\n      <td>Médecin généraliste</td>\n      <td>2013-03-27</td>\n      <td>3.400960e+12</td>\n      <td>300.0</td>\n      <td>16800.0</td>\n      <td>56.0</td>\n      <td>C09XA02</td>\n      <td>2.0</td>\n      <td>1.00</td>\n      <td>...</td>\n      <td>NaT</td>\n      <td>NaN</td>\n      <td>M</td>\n      <td>63.0</td>\n      <td>1950.0</td>\n      <td>NaN</td>\n      <td>NaT</td>\n      <td>NaN</td>\n      <td>NaT</td>\n      <td>2011-04-04</td>\n    </tr>\n    <tr>\n      <th>...</th>\n      <td>...</td>\n      <td>...</td>\n      <td>...</td>\n      <td>...</td>\n      <td>...</td>\n      <td>...</td>\n      <td>...</td>\n      <td>...</td>\n      <td>...</td>\n      <td>...</td>\n      <td>...</td>\n      <td>...</td>\n      <td>...</td>\n      <td>...</td>\n      <td>...</td>\n      <td>...</td>\n      <td>...</td>\n      <td>...</td>\n      <td>...</td>\n      <td>...</td>\n      <td>...</td>\n    </tr>\n    <tr>\n      <th>50627</th>\n      <td>18889430.0</td>\n      <td>Médecin généraliste</td>\n      <td>2013-02-01</td>\n      <td>3.400940e+12</td>\n      <td>500.0</td>\n      <td>15000.0</td>\n      <td>30.0</td>\n      <td>C03CA01</td>\n      <td>1.0</td>\n      <td>0.50</td>\n      <td>...</td>\n      <td>2017-05-15</td>\n      <td>8.01</td>\n      <td>M</td>\n      <td>85.0</td>\n      <td>1928.0</td>\n      <td>NaN</td>\n      <td>NaT</td>\n      <td>NaN</td>\n      <td>NaT</td>\n      <td>2007-12-02</td>\n    </tr>\n    <tr>\n      <th>50629</th>\n      <td>2222336.0</td>\n      <td>Médecin généraliste</td>\n      <td>2013-07-01</td>\n      <td>3.400940e+12</td>\n      <td>500.0</td>\n      <td>15000.0</td>\n      <td>30.0</td>\n      <td>C03CA01</td>\n      <td>2.0</td>\n      <td>0.25</td>\n      <td>...</td>\n      <td>NaT</td>\n      <td>NaN</td>\n      <td>F</td>\n      <td>78.0</td>\n      <td>1935.0</td>\n      <td>NaN</td>\n      <td>NaT</td>\n      <td>NaN</td>\n      <td>NaT</td>\n      <td>2006-02-23</td>\n    </tr>\n    <tr>\n      <th>50630</th>\n      <td>24755853.0</td>\n      <td>Médecin généraliste</td>\n      <td>2013-01-22</td>\n      <td>3.400940e+12</td>\n      <td>500.0</td>\n      <td>15000.0</td>\n      <td>30.0</td>\n      <td>C03CA01</td>\n      <td>1.0</td>\n      <td>0.50</td>\n      <td>...</td>\n      <td>NaT</td>\n      <td>NaN</td>\n      <td>M</td>\n      <td>87.0</td>\n      <td>1926.0</td>\n      <td>NaN</td>\n      <td>NaT</td>\n      <td>NaN</td>\n      <td>NaT</td>\n      <td>2011-05-01</td>\n    </tr>\n    <tr>\n      <th>50631</th>\n      <td>11363518.0</td>\n      <td>Médecin généraliste</td>\n      <td>2013-01-24</td>\n      <td>3.400940e+12</td>\n      <td>500.0</td>\n      <td>15000.0</td>\n      <td>30.0</td>\n      <td>C03CA01</td>\n      <td>1.0</td>\n      <td>0.25</td>\n      <td>...</td>\n      <td>NaT</td>\n      <td>NaN</td>\n      <td>M</td>\n      <td>80.0</td>\n      <td>1933.0</td>\n      <td>NaN</td>\n      <td>NaT</td>\n      <td>NaN</td>\n      <td>NaT</td>\n      <td>1998-01-27</td>\n    </tr>\n    <tr>\n      <th>50632</th>\n      <td>18889430.0</td>\n      <td>Médecin généraliste</td>\n      <td>2013-01-24</td>\n      <td>3.400940e+12</td>\n      <td>500.0</td>\n      <td>15000.0</td>\n      <td>30.0</td>\n      <td>C03CA01</td>\n      <td>1.0</td>\n      <td>0.50</td>\n      <td>...</td>\n      <td>2017-05-15</td>\n      <td>8.01</td>\n      <td>M</td>\n      <td>85.0</td>\n      <td>1928.0</td>\n      <td>NaN</td>\n      <td>NaT</td>\n      <td>NaN</td>\n      <td>NaT</td>\n      <td>2007-12-02</td>\n    </tr>\n  </tbody>\n</table>\n<p>40587 rows × 31 columns</p>\n</div>"
     },
     "metadata": {},
     "execution_count": 8
    }
   ],
   "source": [
    "dropColumnNames = dfGroupedByMoleculeLabel.columns.to_list()\n",
    "dfWithATCCode = dfWithoutContactID.drop(dropColumnNames, axis='columns')\n",
    "dfWithATCCode"
   ]
  },
  {
   "source": [
    "## Suppression des colonnes ```'*der*'```\n",
    "\n",
    "Les colonnes ```'*der*'``` contiennent la dernière donnée. Cette donnée peut être récupérée grâce à la date de la visite et aux valeurs mesurées. Par exemple, il n'est pas nécessaire d'avoir une colonne ```der_date``` ou ```der_mesure```. Les données de ces deux types de colonnes peuvent être récupérées grâce à la ligne qui correspond à la dernière date de la mesure, que nous pouvons trouver grâce à la colonne ```contact_date```."
   ],
   "cell_type": "markdown",
   "metadata": {}
  },
  {
   "cell_type": "code",
   "execution_count": 9,
   "metadata": {},
   "outputs": [],
   "source": [
    "derColumnNames = []\n",
    "\n",
    "for c in dfWithATCCode.columns:\n",
    "    if ('der_date' in c) or ('der_mesure' in c):\n",
    "        derColumnNames.append(c)\n",
    "\n",
    "dfWithoutDer = dfWithATCCode.drop(derColumnNames,axis='columns')"
   ]
  },
  {
   "source": [
    "## Suppression des colonnes ```Taille``` et ```Poids```"
   ],
   "cell_type": "markdown",
   "metadata": {}
  },
  {
   "cell_type": "code",
   "execution_count": 82,
   "metadata": {},
   "outputs": [
    {
     "output_type": "stream",
     "name": "stdout",
     "text": [
      "Taille: 20328/40587 valeurs nulles (=50.085002587035255%)\nPoids: 12982/40587 valeurs nulles (=31.985611156281568%)\n"
     ]
    }
   ],
   "source": [
    "print(f\"Taille: {dfWithoutDer.Taille.isnull().sum()}/{len(dfWithoutDer.Taille)} valeurs nulles (={dfWithoutDer.Taille.isnull().sum()/len(dfWithoutDer.Taille)*100}%)\")\n",
    "\n",
    "print(f\"Poids: {dfWithoutDer.Poids.isnull().sum()}/{len(dfWithoutDer.Poids)} valeurs nulles (={dfWithoutDer.Poids.isnull().sum()/len(dfWithoutDer.Poids)*100}%)\".format())"
   ]
  },
  {
   "source": [
    "Nous voyons qu'il y a beaucoup trop de valeur nulles. Ces deux colonnes semblent donc difficilement exploitable. Nous pouvons cependant vérifier si pour les patients toutes les valeurs sont à nulles ou s'il n'existe que quelques entrées à nulle par patient mais qu'il y en a beaucoup. Dans ce cas nous pourrions enlever les lignes contenant des valeurs nulles, ou trouver un moyen d'attribuer une valeur à la place de Nan"
   ],
   "cell_type": "markdown",
   "metadata": {}
  },
  {
   "cell_type": "code",
   "execution_count": 70,
   "metadata": {},
   "outputs": [],
   "source": [
    "dfPersonIdIndex = dfWithoutDer.set_index('person_id',drop=True).sort_index()\n",
    "dfTPGroupBy = dfPersonIdIndex.groupby('person_id')"
   ]
  },
  {
   "cell_type": "code",
   "execution_count": 87,
   "metadata": {
    "tags": []
   },
   "outputs": [
    {
     "output_type": "stream",
     "name": "stdout",
     "text": [
      "Taille: 0 / 2945 utilisable\n",
      "Poids: 0 / 2945 utilisable\n"
     ]
    }
   ],
   "source": [
    "maybeUseful = 0\n",
    "valeurNulle = 0\n",
    "for i,_ in dfTPGroupBy:\n",
    "    if dfPersonIdIndex.loc[i].Taille.isnull().sum() > 0:\n",
    "        valeurNulle += 1\n",
    "        if dfPersonIdIndex.loc[i].Taille.isnull().sum() < len(dfPersonIdIndex.loc[i].Taille):\n",
    "            maybeUseful += 1\n",
    "\n",
    "print(f\"Taille: {maybeUseful} / {poidsNull} utilisables\")\n",
    "\n",
    "maybeUseful = 0\n",
    "valeurNulle = 0\n",
    "c = 0\n",
    "for i,_ in dfTPGroupBy:\n",
    "    if dfPersonIdIndex.loc[i].Poids.isnull().sum() > 0:\n",
    "        valeurNulle += 1\n",
    "        if dfPersonIdIndex.loc[i].Poids.isnull().sum() < len(dfPersonIdIndex.loc[i].Poids):\n",
    "            maybeUseful += 1\n",
    "\n",
    "print(f\"Poids: {maybeUseful} / {poidsNull} utilisables\")"
   ]
  },
  {
   "source": [
    "tailleNan = 0\n",
    "poidsNan = 0\n",
    "oneOfBoth = 0\n",
    "bothNan = 0\n",
    "totalEntries = 0\n",
    "for i,_ in dfTPGroupBy:\n",
    "    totalEntries += 1\n",
    "    hasTailleNan = False\n",
    "    hasPoidsNan = False\n",
    "    if dfPersonIdIndex.loc[i].Taille.isnull().sum() != 0:\n",
    "        tailleNan += 1\n",
    "        hasTailleNan = True\n",
    "    if dfPersonIdIndex.loc[i].Poids.isnull().sum() != 0:\n",
    "        poidsNan += 1\n",
    "        hasPoidsNan = True\n",
    "    if hasTailleNan or hasPoidsNan:\n",
    "        oneOfBoth += 1\n",
    "    if hasTailleNan and hasPoidsNan:\n",
    "        bothNan += 1\n",
    "print(\" --- Statistique par Utilisateur --- \")\n",
    "print(f\"{tailleNan} / {totalEntry} ({tailleNan/totalEntries*100:.2f}%) des utilisateurs ont une valeur nulle pour la taille\")\n",
    "print(f\"{poidsNan} / {totalEntry} ({poidsNan/totalEntries*100:.2f}%) des utilisateurs ont une valeur nulle pour le poids\")\n",
    "print(f\"{oneOfBoth} / {totalEntry} ({oneOfBoth/totalEntries*100:.2f}%) des utilisateurs ont une valeur nulle pour la taille ou le poids\")\n",
    "print(f\"{bothNan} / {totalEntry} ({bothNan/totalEntries*100:.2f}%) des utilisateurs ont les deux valeurs nulle pour la taille ou le poids\")\n",
    "\n"
   ],
   "cell_type": "code",
   "metadata": {
    "tags": []
   },
   "execution_count": 92,
   "outputs": [
    {
     "output_type": "stream",
     "name": "stdout",
     "text": [
      " --- Statistique par Utilisateur --- \n2945 / 5464 (53.90%) des utilisateurs ont une valeur nulle pour la taille\n2029 / 5464 (37.13%) des utilisateurs ont une valeur nulle pour le poids\n2949 / 5464 (53.97%) des utilisateurs ont une valeur nulle pour la taille ou le poids\n2025 / 5464 (37.06%) des utilisateurs ont les deux valeurs nulle pour la taille ou le poids\n"
     ]
    }
   ]
  },
  {
   "source": [
    "Nous concluons de l'analyse de ces données que soit toutes les valeurs de poids et de tailles sont entrées, soit aucunes. Cela rend ces informations innexploitables et nous supprimons donc les colonnes"
   ],
   "cell_type": "markdown",
   "metadata": {}
  },
  {
   "cell_type": "code",
   "execution_count": 94,
   "metadata": {},
   "outputs": [],
   "source": [
    "dfWithoutPT = dfWithoutDer.drop(['Taille', 'Poids'],axis='columns')"
   ]
  },
  {
   "source": [
    "## Suppressions diverses"
   ],
   "cell_type": "markdown",
   "metadata": {}
  },
  {
   "source": [
    "Enfin, certaines colonnes n'apportent pas d'informations supplémentaires, nous choisissons de toutes les supprimer ici"
   ],
   "cell_type": "markdown",
   "metadata": {}
  },
  {
   "cell_type": "code",
   "execution_count": 95,
   "metadata": {},
   "outputs": [],
   "source": [
    "dfFinal = dfWithoutPT.drop(['cip','box'],axis='columns')"
   ]
  },
  {
   "source": [
    "# Traîtement des données"
   ],
   "cell_type": "markdown",
   "metadata": {}
  },
  {
   "source": [
    "## Conversion des données"
   ],
   "cell_type": "markdown",
   "metadata": {}
  },
  {
   "source": [
    "### Ajout du temps entre chaque visite (ce que l'on veut prédire)"
   ],
   "cell_type": "markdown",
   "metadata": {}
  },
  {
   "source": [
    "Nous créons d'abord la colonne ```wait_time``` pour qu'elle ait le type de donnée ```deltatime```. nous itèrerons plus tard sur chaque valeur de cette colonne pour lui enlever la valeur précédante pour chaque utilisateur, et ainsi avoir l'intervalle de temps entre chaque visite"
   ],
   "cell_type": "markdown",
   "metadata": {}
  },
  {
   "cell_type": "code",
   "execution_count": 96,
   "metadata": {
    "tags": []
   },
   "outputs": [],
   "source": [
    "wait_time = dfFinal.contact_date - dfFinal.first_contact_date\n",
    "\n",
    "dfWithTime = dfFinal.drop('first_contact_date',axis='columns')\n",
    "dfWithTime['wait_time'] = wait_time"
   ]
  },
  {
   "cell_type": "code",
   "execution_count": 97,
   "metadata": {},
   "outputs": [
    {
     "output_type": "execute_result",
     "data": {
      "text/plain": [
       "        person_id      specialty_label contact_date  dosage_1   dose_1  \\\n",
       "1        263659.0  Médecin généraliste   2014-09-24      20.0    240.0   \n",
       "2        263659.0  Médecin généraliste   2014-09-12      20.0    240.0   \n",
       "3        263659.0  Médecin généraliste   2015-03-26      20.0    240.0   \n",
       "4        263659.0  Médecin généraliste   2015-06-05      20.0    240.0   \n",
       "6      25182917.0  Médecin généraliste   2013-03-27     300.0  16800.0   \n",
       "...           ...                  ...          ...       ...      ...   \n",
       "50627  18889430.0  Médecin généraliste   2013-02-01     500.0  15000.0   \n",
       "50629   2222336.0  Médecin généraliste   2013-07-01     500.0  15000.0   \n",
       "50630  24755853.0  Médecin généraliste   2013-01-22     500.0  15000.0   \n",
       "50631  11363518.0  Médecin généraliste   2013-01-24     500.0  15000.0   \n",
       "50632  18889430.0  Médecin généraliste   2013-01-24     500.0  15000.0   \n",
       "\n",
       "       dose_2 product_atc_code  quantity frequency_label  duration  ...  \\\n",
       "1        24.0         C03CA01       4.00            Jour       NaN  ...   \n",
       "2        24.0         C03CA01       4.00            Jour       NaN  ...   \n",
       "3        24.0         C03CA01       4.00            Jour       NaN  ...   \n",
       "4        24.0         C03CA01       4.00            Jour       NaN  ...   \n",
       "6        56.0         C09XA02       1.00            Jour      84.0  ...   \n",
       "...       ...              ...       ...             ...       ...  ...   \n",
       "50627    30.0         C03CA01       0.50            Jour      28.0  ...   \n",
       "50629    30.0         C03CA01       0.25            Jour     240.0  ...   \n",
       "50630    30.0         C03CA01       0.50            Jour      56.0  ...   \n",
       "50631    30.0         C03CA01       0.25            Jour     120.0  ...   \n",
       "50632    30.0         C03CA01       0.50            Jour      28.0  ...   \n",
       "\n",
       "      Traitement_Insulines_dep_201701 Pulse  Tension Diastolique  \\\n",
       "1                                 NaN  70.0                110.0   \n",
       "2                                 NaN  70.0                118.0   \n",
       "3                                 NaN  60.0                120.0   \n",
       "4                                 NaN  60.0                120.0   \n",
       "6                                 NaN  64.0                145.0   \n",
       "...                               ...   ...                  ...   \n",
       "50627                             NaN  60.0                120.0   \n",
       "50629                             NaN  72.0                130.0   \n",
       "50630                             NaN  73.0                141.0   \n",
       "50631                             NaN  72.0                139.0   \n",
       "50632                             NaN  72.0                120.0   \n",
       "\n",
       "       Tension Systolique  Glycemie_prescription  HbA1c_prescription  \\\n",
       "1                    60.0                    NaN                 NaN   \n",
       "2                    70.0                    NaN                 NaN   \n",
       "3                    70.0                    NaN                 NaN   \n",
       "4                    70.0                    NaN                 NaN   \n",
       "6                    85.0                    NaN                 NaN   \n",
       "...                   ...                    ...                 ...   \n",
       "50627                70.0                    NaN                 NaN   \n",
       "50629                70.0                    NaN                 NaN   \n",
       "50630                71.0                    NaN                 NaN   \n",
       "50631                70.0                    NaN                 NaN   \n",
       "50632                70.0                    NaN                 NaN   \n",
       "\n",
       "       gender_code Age_presc  year_of_birth  wait_time  \n",
       "1                M      96.0         1918.0  6019 days  \n",
       "2                M      96.0         1918.0  6007 days  \n",
       "3                M      97.0         1918.0  6202 days  \n",
       "4                M      97.0         1918.0  6273 days  \n",
       "6                M      63.0         1950.0   723 days  \n",
       "...            ...       ...            ...        ...  \n",
       "50627            M      85.0         1928.0  1888 days  \n",
       "50629            F      78.0         1935.0  2685 days  \n",
       "50630            M      87.0         1926.0   632 days  \n",
       "50631            M      80.0         1933.0  5476 days  \n",
       "50632            M      85.0         1928.0  1880 days  \n",
       "\n",
       "[40587 rows x 21 columns]"
      ],
      "text/html": "<div>\n<style scoped>\n    .dataframe tbody tr th:only-of-type {\n        vertical-align: middle;\n    }\n\n    .dataframe tbody tr th {\n        vertical-align: top;\n    }\n\n    .dataframe thead th {\n        text-align: right;\n    }\n</style>\n<table border=\"1\" class=\"dataframe\">\n  <thead>\n    <tr style=\"text-align: right;\">\n      <th></th>\n      <th>person_id</th>\n      <th>specialty_label</th>\n      <th>contact_date</th>\n      <th>dosage_1</th>\n      <th>dose_1</th>\n      <th>dose_2</th>\n      <th>product_atc_code</th>\n      <th>quantity</th>\n      <th>frequency_label</th>\n      <th>duration</th>\n      <th>...</th>\n      <th>Traitement_Insulines_dep_201701</th>\n      <th>Pulse</th>\n      <th>Tension Diastolique</th>\n      <th>Tension Systolique</th>\n      <th>Glycemie_prescription</th>\n      <th>HbA1c_prescription</th>\n      <th>gender_code</th>\n      <th>Age_presc</th>\n      <th>year_of_birth</th>\n      <th>wait_time</th>\n    </tr>\n  </thead>\n  <tbody>\n    <tr>\n      <th>1</th>\n      <td>263659.0</td>\n      <td>Médecin généraliste</td>\n      <td>2014-09-24</td>\n      <td>20.0</td>\n      <td>240.0</td>\n      <td>24.0</td>\n      <td>C03CA01</td>\n      <td>4.00</td>\n      <td>Jour</td>\n      <td>NaN</td>\n      <td>...</td>\n      <td>NaN</td>\n      <td>70.0</td>\n      <td>110.0</td>\n      <td>60.0</td>\n      <td>NaN</td>\n      <td>NaN</td>\n      <td>M</td>\n      <td>96.0</td>\n      <td>1918.0</td>\n      <td>6019 days</td>\n    </tr>\n    <tr>\n      <th>2</th>\n      <td>263659.0</td>\n      <td>Médecin généraliste</td>\n      <td>2014-09-12</td>\n      <td>20.0</td>\n      <td>240.0</td>\n      <td>24.0</td>\n      <td>C03CA01</td>\n      <td>4.00</td>\n      <td>Jour</td>\n      <td>NaN</td>\n      <td>...</td>\n      <td>NaN</td>\n      <td>70.0</td>\n      <td>118.0</td>\n      <td>70.0</td>\n      <td>NaN</td>\n      <td>NaN</td>\n      <td>M</td>\n      <td>96.0</td>\n      <td>1918.0</td>\n      <td>6007 days</td>\n    </tr>\n    <tr>\n      <th>3</th>\n      <td>263659.0</td>\n      <td>Médecin généraliste</td>\n      <td>2015-03-26</td>\n      <td>20.0</td>\n      <td>240.0</td>\n      <td>24.0</td>\n      <td>C03CA01</td>\n      <td>4.00</td>\n      <td>Jour</td>\n      <td>NaN</td>\n      <td>...</td>\n      <td>NaN</td>\n      <td>60.0</td>\n      <td>120.0</td>\n      <td>70.0</td>\n      <td>NaN</td>\n      <td>NaN</td>\n      <td>M</td>\n      <td>97.0</td>\n      <td>1918.0</td>\n      <td>6202 days</td>\n    </tr>\n    <tr>\n      <th>4</th>\n      <td>263659.0</td>\n      <td>Médecin généraliste</td>\n      <td>2015-06-05</td>\n      <td>20.0</td>\n      <td>240.0</td>\n      <td>24.0</td>\n      <td>C03CA01</td>\n      <td>4.00</td>\n      <td>Jour</td>\n      <td>NaN</td>\n      <td>...</td>\n      <td>NaN</td>\n      <td>60.0</td>\n      <td>120.0</td>\n      <td>70.0</td>\n      <td>NaN</td>\n      <td>NaN</td>\n      <td>M</td>\n      <td>97.0</td>\n      <td>1918.0</td>\n      <td>6273 days</td>\n    </tr>\n    <tr>\n      <th>6</th>\n      <td>25182917.0</td>\n      <td>Médecin généraliste</td>\n      <td>2013-03-27</td>\n      <td>300.0</td>\n      <td>16800.0</td>\n      <td>56.0</td>\n      <td>C09XA02</td>\n      <td>1.00</td>\n      <td>Jour</td>\n      <td>84.0</td>\n      <td>...</td>\n      <td>NaN</td>\n      <td>64.0</td>\n      <td>145.0</td>\n      <td>85.0</td>\n      <td>NaN</td>\n      <td>NaN</td>\n      <td>M</td>\n      <td>63.0</td>\n      <td>1950.0</td>\n      <td>723 days</td>\n    </tr>\n    <tr>\n      <th>...</th>\n      <td>...</td>\n      <td>...</td>\n      <td>...</td>\n      <td>...</td>\n      <td>...</td>\n      <td>...</td>\n      <td>...</td>\n      <td>...</td>\n      <td>...</td>\n      <td>...</td>\n      <td>...</td>\n      <td>...</td>\n      <td>...</td>\n      <td>...</td>\n      <td>...</td>\n      <td>...</td>\n      <td>...</td>\n      <td>...</td>\n      <td>...</td>\n      <td>...</td>\n      <td>...</td>\n    </tr>\n    <tr>\n      <th>50627</th>\n      <td>18889430.0</td>\n      <td>Médecin généraliste</td>\n      <td>2013-02-01</td>\n      <td>500.0</td>\n      <td>15000.0</td>\n      <td>30.0</td>\n      <td>C03CA01</td>\n      <td>0.50</td>\n      <td>Jour</td>\n      <td>28.0</td>\n      <td>...</td>\n      <td>NaN</td>\n      <td>60.0</td>\n      <td>120.0</td>\n      <td>70.0</td>\n      <td>NaN</td>\n      <td>NaN</td>\n      <td>M</td>\n      <td>85.0</td>\n      <td>1928.0</td>\n      <td>1888 days</td>\n    </tr>\n    <tr>\n      <th>50629</th>\n      <td>2222336.0</td>\n      <td>Médecin généraliste</td>\n      <td>2013-07-01</td>\n      <td>500.0</td>\n      <td>15000.0</td>\n      <td>30.0</td>\n      <td>C03CA01</td>\n      <td>0.25</td>\n      <td>Jour</td>\n      <td>240.0</td>\n      <td>...</td>\n      <td>NaN</td>\n      <td>72.0</td>\n      <td>130.0</td>\n      <td>70.0</td>\n      <td>NaN</td>\n      <td>NaN</td>\n      <td>F</td>\n      <td>78.0</td>\n      <td>1935.0</td>\n      <td>2685 days</td>\n    </tr>\n    <tr>\n      <th>50630</th>\n      <td>24755853.0</td>\n      <td>Médecin généraliste</td>\n      <td>2013-01-22</td>\n      <td>500.0</td>\n      <td>15000.0</td>\n      <td>30.0</td>\n      <td>C03CA01</td>\n      <td>0.50</td>\n      <td>Jour</td>\n      <td>56.0</td>\n      <td>...</td>\n      <td>NaN</td>\n      <td>73.0</td>\n      <td>141.0</td>\n      <td>71.0</td>\n      <td>NaN</td>\n      <td>NaN</td>\n      <td>M</td>\n      <td>87.0</td>\n      <td>1926.0</td>\n      <td>632 days</td>\n    </tr>\n    <tr>\n      <th>50631</th>\n      <td>11363518.0</td>\n      <td>Médecin généraliste</td>\n      <td>2013-01-24</td>\n      <td>500.0</td>\n      <td>15000.0</td>\n      <td>30.0</td>\n      <td>C03CA01</td>\n      <td>0.25</td>\n      <td>Jour</td>\n      <td>120.0</td>\n      <td>...</td>\n      <td>NaN</td>\n      <td>72.0</td>\n      <td>139.0</td>\n      <td>70.0</td>\n      <td>NaN</td>\n      <td>NaN</td>\n      <td>M</td>\n      <td>80.0</td>\n      <td>1933.0</td>\n      <td>5476 days</td>\n    </tr>\n    <tr>\n      <th>50632</th>\n      <td>18889430.0</td>\n      <td>Médecin généraliste</td>\n      <td>2013-01-24</td>\n      <td>500.0</td>\n      <td>15000.0</td>\n      <td>30.0</td>\n      <td>C03CA01</td>\n      <td>0.50</td>\n      <td>Jour</td>\n      <td>28.0</td>\n      <td>...</td>\n      <td>NaN</td>\n      <td>72.0</td>\n      <td>120.0</td>\n      <td>70.0</td>\n      <td>NaN</td>\n      <td>NaN</td>\n      <td>M</td>\n      <td>85.0</td>\n      <td>1928.0</td>\n      <td>1880 days</td>\n    </tr>\n  </tbody>\n</table>\n<p>40587 rows × 21 columns</p>\n</div>"
     },
     "metadata": {},
     "execution_count": 97
    }
   ],
   "source": [
    "dfWithTime"
   ]
  },
  {
   "source": [
    "### Encodage des valeurs non numériques"
   ],
   "cell_type": "markdown",
   "metadata": {}
  },
  {
   "cell_type": "code",
   "execution_count": 98,
   "metadata": {},
   "outputs": [],
   "source": [
    "specialtyEncoder = LabelEncoder()\n",
    "ATCCodeEncoder = LabelEncoder()\n",
    "frequencyLabelEncoder = LabelEncoder()\n",
    "traitementAutresLabelEncoder = LabelEncoder()\n",
    "traitementInsulineLabelEncoder = LabelEncoder()\n",
    "genderEncoder = LabelEncoder()\n",
    "\n",
    "dfWithTime.specialty_label = specialtyEncoder.fit_transform(dfWithTime.specialty_label)\n",
    "dfWithTime.product_atc_code = ATCCodeEncoder.fit_transform(dfWithTime.product_atc_code)\n",
    "dfWithTime.frequency_label = frequencyLabelEncoder.fit_transform(dfWithTime.frequency_label.astype(str))\n",
    "dfWithTime.Traitement_Autres_A10_dep_201701 = traitementAutresLabelEncoder.fit_transform(dfWithTime.Traitement_Autres_A10_dep_201701.astype(str))\n",
    "dfWithTime.Traitement_Insulines_dep_201701 = traitementInsulineLabelEncoder.fit_transform(dfWithTime.Traitement_Insulines_dep_201701.astype(str))\n",
    "dfWithTime.gender_code = ATCCodeEncoder.fit_transform(dfWithTime.gender_code)\n"
   ]
  },
  {
   "source": [
    "### Conversion en ```TimeSeries```"
   ],
   "cell_type": "markdown",
   "metadata": {}
  },
  {
   "source": [
    "Nous définissons simplement le nouvel index comme la colonne donnant l'intervalle de temps entre chaque visite."
   ],
   "cell_type": "markdown",
   "metadata": {}
  },
  {
   "cell_type": "code",
   "execution_count": 99,
   "metadata": {},
   "outputs": [
    {
     "output_type": "execute_result",
     "data": {
      "text/plain": [
       "                         specialty_label  dosage_1  dose_1  dose_2  \\\n",
       "person_id  contact_date                                              \n",
       "291.0      2016-10-28                  2       2.5    75.0    30.0   \n",
       "           2016-11-04                  2       2.5    75.0    30.0   \n",
       "           2016-11-21                  2       2.5    75.0    30.0   \n",
       "           2017-01-16                  2       2.5    75.0    30.0   \n",
       "           2017-11-20                  2       2.5    75.0    30.0   \n",
       "...                                  ...       ...     ...     ...   \n",
       "35576034.0 2017-11-28                  2      40.0    90.0     0.0   \n",
       "           2018-02-26                  2      40.0    90.0     0.0   \n",
       "35849563.0 2017-01-12                  0     300.0  7200.0    24.0   \n",
       "           2017-12-18                  0     300.0  7200.0    24.0   \n",
       "           2018-05-01                  0     300.0  7200.0    24.0   \n",
       "\n",
       "                         product_atc_code  quantity  frequency_label  \\\n",
       "person_id  contact_date                                                \n",
       "291.0      2016-10-28                  10       2.0                0   \n",
       "           2016-11-04                  10       1.0                0   \n",
       "           2016-11-21                  10       1.0                0   \n",
       "           2017-01-16                  10       1.0                0   \n",
       "           2017-11-20                  10       1.0                0   \n",
       "...                                   ...       ...              ...   \n",
       "35576034.0 2017-11-28                  30       1.0                0   \n",
       "           2018-02-26                  30       1.0                0   \n",
       "35849563.0 2017-01-12                  14       1.0                0   \n",
       "           2017-12-18                  14       1.0                0   \n",
       "           2018-05-01                  14       1.0                0   \n",
       "\n",
       "                         duration  Traitement_Autres_A10_dep_201701  \\\n",
       "person_id  contact_date                                               \n",
       "291.0      2016-10-28        84.0                                 0   \n",
       "           2016-11-04        84.0                                 0   \n",
       "           2016-11-21        84.0                                 0   \n",
       "           2017-01-16        84.0                                 0   \n",
       "           2017-11-20        84.0                                 0   \n",
       "...                           ...                               ...   \n",
       "35576034.0 2017-11-28        84.0                                 0   \n",
       "           2018-02-26        84.0                                 0   \n",
       "35849563.0 2017-01-12        24.0                                 1   \n",
       "           2017-12-18        24.0                                 1   \n",
       "           2018-05-01        48.0                                 1   \n",
       "\n",
       "                         Traitement_Insulines_dep_201701  Pulse  \\\n",
       "person_id  contact_date                                           \n",
       "291.0      2016-10-28                                  0   72.0   \n",
       "           2016-11-04                                  0   68.0   \n",
       "           2016-11-21                                  0   84.0   \n",
       "           2017-01-16                                  0   84.0   \n",
       "           2017-11-20                                  0   92.0   \n",
       "...                                                  ...    ...   \n",
       "35576034.0 2017-11-28                                  1   68.0   \n",
       "           2018-02-26                                  1   64.0   \n",
       "35849563.0 2017-01-12                                  1  102.0   \n",
       "           2017-12-18                                  1  100.0   \n",
       "           2018-05-01                                  1   80.0   \n",
       "\n",
       "                         Tension Diastolique  Tension Systolique  \\\n",
       "person_id  contact_date                                            \n",
       "291.0      2016-10-28                  130.0                60.0   \n",
       "           2016-11-04                  142.0                65.0   \n",
       "           2016-11-21                  140.0                75.0   \n",
       "           2017-01-16                  125.0                70.0   \n",
       "           2017-11-20                  115.0                60.0   \n",
       "...                                      ...                 ...   \n",
       "35576034.0 2017-11-28                  120.0                70.0   \n",
       "           2018-02-26                  130.0                70.0   \n",
       "35849563.0 2017-01-12                  140.0                80.0   \n",
       "           2017-12-18                  140.0                80.0   \n",
       "           2018-05-01                  140.0                80.0   \n",
       "\n",
       "                         Glycemie_prescription  HbA1c_prescription  \\\n",
       "person_id  contact_date                                              \n",
       "291.0      2016-10-28                      NaN                 NaN   \n",
       "           2016-11-04                      NaN                 NaN   \n",
       "           2016-11-21                      NaN                 NaN   \n",
       "           2017-01-16                      NaN                 NaN   \n",
       "           2017-11-20                      NaN                 NaN   \n",
       "...                                        ...                 ...   \n",
       "35576034.0 2017-11-28                      NaN                 NaN   \n",
       "           2018-02-26                      NaN                 NaN   \n",
       "35849563.0 2017-01-12                      NaN                 NaN   \n",
       "           2017-12-18                      NaN                 NaN   \n",
       "           2018-05-01                      NaN                 NaN   \n",
       "\n",
       "                         gender_code  Age_presc  year_of_birth wait_time  \n",
       "person_id  contact_date                                                   \n",
       "291.0      2016-10-28              1       86.0         1930.0 6603 days  \n",
       "           2016-11-04              1       86.0         1930.0 6610 days  \n",
       "           2016-11-21              1       86.0         1930.0 6627 days  \n",
       "           2017-01-16              1       87.0         1930.0 6683 days  \n",
       "           2017-11-20              1       87.0         1930.0 6991 days  \n",
       "...                              ...        ...            ...       ...  \n",
       "35576034.0 2017-11-28              1       62.0         1955.0  263 days  \n",
       "           2018-02-26              1       63.0         1955.0  353 days  \n",
       "35849563.0 2017-01-12              0       77.0         1940.0    0 days  \n",
       "           2017-12-18              0       77.0         1940.0  340 days  \n",
       "           2018-05-01              0       78.0         1940.0  474 days  \n",
       "\n",
       "[40587 rows x 19 columns]"
      ],
      "text/html": "<div>\n<style scoped>\n    .dataframe tbody tr th:only-of-type {\n        vertical-align: middle;\n    }\n\n    .dataframe tbody tr th {\n        vertical-align: top;\n    }\n\n    .dataframe thead th {\n        text-align: right;\n    }\n</style>\n<table border=\"1\" class=\"dataframe\">\n  <thead>\n    <tr style=\"text-align: right;\">\n      <th></th>\n      <th></th>\n      <th>specialty_label</th>\n      <th>dosage_1</th>\n      <th>dose_1</th>\n      <th>dose_2</th>\n      <th>product_atc_code</th>\n      <th>quantity</th>\n      <th>frequency_label</th>\n      <th>duration</th>\n      <th>Traitement_Autres_A10_dep_201701</th>\n      <th>Traitement_Insulines_dep_201701</th>\n      <th>Pulse</th>\n      <th>Tension Diastolique</th>\n      <th>Tension Systolique</th>\n      <th>Glycemie_prescription</th>\n      <th>HbA1c_prescription</th>\n      <th>gender_code</th>\n      <th>Age_presc</th>\n      <th>year_of_birth</th>\n      <th>wait_time</th>\n    </tr>\n    <tr>\n      <th>person_id</th>\n      <th>contact_date</th>\n      <th></th>\n      <th></th>\n      <th></th>\n      <th></th>\n      <th></th>\n      <th></th>\n      <th></th>\n      <th></th>\n      <th></th>\n      <th></th>\n      <th></th>\n      <th></th>\n      <th></th>\n      <th></th>\n      <th></th>\n      <th></th>\n      <th></th>\n      <th></th>\n      <th></th>\n    </tr>\n  </thead>\n  <tbody>\n    <tr>\n      <th rowspan=\"5\" valign=\"top\">291.0</th>\n      <th>2016-10-28</th>\n      <td>2</td>\n      <td>2.5</td>\n      <td>75.0</td>\n      <td>30.0</td>\n      <td>10</td>\n      <td>2.0</td>\n      <td>0</td>\n      <td>84.0</td>\n      <td>0</td>\n      <td>0</td>\n      <td>72.0</td>\n      <td>130.0</td>\n      <td>60.0</td>\n      <td>NaN</td>\n      <td>NaN</td>\n      <td>1</td>\n      <td>86.0</td>\n      <td>1930.0</td>\n      <td>6603 days</td>\n    </tr>\n    <tr>\n      <th>2016-11-04</th>\n      <td>2</td>\n      <td>2.5</td>\n      <td>75.0</td>\n      <td>30.0</td>\n      <td>10</td>\n      <td>1.0</td>\n      <td>0</td>\n      <td>84.0</td>\n      <td>0</td>\n      <td>0</td>\n      <td>68.0</td>\n      <td>142.0</td>\n      <td>65.0</td>\n      <td>NaN</td>\n      <td>NaN</td>\n      <td>1</td>\n      <td>86.0</td>\n      <td>1930.0</td>\n      <td>6610 days</td>\n    </tr>\n    <tr>\n      <th>2016-11-21</th>\n      <td>2</td>\n      <td>2.5</td>\n      <td>75.0</td>\n      <td>30.0</td>\n      <td>10</td>\n      <td>1.0</td>\n      <td>0</td>\n      <td>84.0</td>\n      <td>0</td>\n      <td>0</td>\n      <td>84.0</td>\n      <td>140.0</td>\n      <td>75.0</td>\n      <td>NaN</td>\n      <td>NaN</td>\n      <td>1</td>\n      <td>86.0</td>\n      <td>1930.0</td>\n      <td>6627 days</td>\n    </tr>\n    <tr>\n      <th>2017-01-16</th>\n      <td>2</td>\n      <td>2.5</td>\n      <td>75.0</td>\n      <td>30.0</td>\n      <td>10</td>\n      <td>1.0</td>\n      <td>0</td>\n      <td>84.0</td>\n      <td>0</td>\n      <td>0</td>\n      <td>84.0</td>\n      <td>125.0</td>\n      <td>70.0</td>\n      <td>NaN</td>\n      <td>NaN</td>\n      <td>1</td>\n      <td>87.0</td>\n      <td>1930.0</td>\n      <td>6683 days</td>\n    </tr>\n    <tr>\n      <th>2017-11-20</th>\n      <td>2</td>\n      <td>2.5</td>\n      <td>75.0</td>\n      <td>30.0</td>\n      <td>10</td>\n      <td>1.0</td>\n      <td>0</td>\n      <td>84.0</td>\n      <td>0</td>\n      <td>0</td>\n      <td>92.0</td>\n      <td>115.0</td>\n      <td>60.0</td>\n      <td>NaN</td>\n      <td>NaN</td>\n      <td>1</td>\n      <td>87.0</td>\n      <td>1930.0</td>\n      <td>6991 days</td>\n    </tr>\n    <tr>\n      <th>...</th>\n      <th>...</th>\n      <td>...</td>\n      <td>...</td>\n      <td>...</td>\n      <td>...</td>\n      <td>...</td>\n      <td>...</td>\n      <td>...</td>\n      <td>...</td>\n      <td>...</td>\n      <td>...</td>\n      <td>...</td>\n      <td>...</td>\n      <td>...</td>\n      <td>...</td>\n      <td>...</td>\n      <td>...</td>\n      <td>...</td>\n      <td>...</td>\n      <td>...</td>\n    </tr>\n    <tr>\n      <th rowspan=\"2\" valign=\"top\">35576034.0</th>\n      <th>2017-11-28</th>\n      <td>2</td>\n      <td>40.0</td>\n      <td>90.0</td>\n      <td>0.0</td>\n      <td>30</td>\n      <td>1.0</td>\n      <td>0</td>\n      <td>84.0</td>\n      <td>0</td>\n      <td>1</td>\n      <td>68.0</td>\n      <td>120.0</td>\n      <td>70.0</td>\n      <td>NaN</td>\n      <td>NaN</td>\n      <td>1</td>\n      <td>62.0</td>\n      <td>1955.0</td>\n      <td>263 days</td>\n    </tr>\n    <tr>\n      <th>2018-02-26</th>\n      <td>2</td>\n      <td>40.0</td>\n      <td>90.0</td>\n      <td>0.0</td>\n      <td>30</td>\n      <td>1.0</td>\n      <td>0</td>\n      <td>84.0</td>\n      <td>0</td>\n      <td>1</td>\n      <td>64.0</td>\n      <td>130.0</td>\n      <td>70.0</td>\n      <td>NaN</td>\n      <td>NaN</td>\n      <td>1</td>\n      <td>63.0</td>\n      <td>1955.0</td>\n      <td>353 days</td>\n    </tr>\n    <tr>\n      <th rowspan=\"3\" valign=\"top\">35849563.0</th>\n      <th>2017-01-12</th>\n      <td>0</td>\n      <td>300.0</td>\n      <td>7200.0</td>\n      <td>24.0</td>\n      <td>14</td>\n      <td>1.0</td>\n      <td>0</td>\n      <td>24.0</td>\n      <td>1</td>\n      <td>1</td>\n      <td>102.0</td>\n      <td>140.0</td>\n      <td>80.0</td>\n      <td>NaN</td>\n      <td>NaN</td>\n      <td>0</td>\n      <td>77.0</td>\n      <td>1940.0</td>\n      <td>0 days</td>\n    </tr>\n    <tr>\n      <th>2017-12-18</th>\n      <td>0</td>\n      <td>300.0</td>\n      <td>7200.0</td>\n      <td>24.0</td>\n      <td>14</td>\n      <td>1.0</td>\n      <td>0</td>\n      <td>24.0</td>\n      <td>1</td>\n      <td>1</td>\n      <td>100.0</td>\n      <td>140.0</td>\n      <td>80.0</td>\n      <td>NaN</td>\n      <td>NaN</td>\n      <td>0</td>\n      <td>77.0</td>\n      <td>1940.0</td>\n      <td>340 days</td>\n    </tr>\n    <tr>\n      <th>2018-05-01</th>\n      <td>0</td>\n      <td>300.0</td>\n      <td>7200.0</td>\n      <td>24.0</td>\n      <td>14</td>\n      <td>1.0</td>\n      <td>0</td>\n      <td>48.0</td>\n      <td>1</td>\n      <td>1</td>\n      <td>80.0</td>\n      <td>140.0</td>\n      <td>80.0</td>\n      <td>NaN</td>\n      <td>NaN</td>\n      <td>0</td>\n      <td>78.0</td>\n      <td>1940.0</td>\n      <td>474 days</td>\n    </tr>\n  </tbody>\n</table>\n<p>40587 rows × 19 columns</p>\n</div>"
     },
     "metadata": {},
     "execution_count": 99
    }
   ],
   "source": [
    "ts = dfWithTime.set_index(['person_id','contact_date']).sort_index()\n",
    "ts"
   ]
  },
  {
   "source": [
    "### Attribution des bonnes valeurs de ```time_wait```"
   ],
   "cell_type": "markdown",
   "metadata": {}
  },
  {
   "cell_type": "code",
   "execution_count": 100,
   "metadata": {
    "tags": []
   },
   "outputs": [],
   "source": [
    "tsWithTime = ts\n",
    "for i,_ in ts.groupby('person_id'):\n",
    "    for j in range(len(ts.loc[i].wait_time)-1,0,-1):\n",
    "        tsWithTime.loc[i].wait_time[j] = ts.loc[i].wait_time[j] - ts.loc[i].wait_time[j-1]\n",
    "    tsWithTime.loc[i].wait_time[0] = pd.Timedelta(0)"
   ]
  },
  {
   "cell_type": "code",
   "execution_count": 103,
   "metadata": {},
   "outputs": [
    {
     "output_type": "execute_result",
     "data": {
      "text/plain": [
       "person_id   contact_date\n",
       "291.0       2016-10-28       0 days\n",
       "            2016-11-04       7 days\n",
       "            2016-11-21      17 days\n",
       "            2017-01-16      56 days\n",
       "            2017-11-20     308 days\n",
       "                             ...   \n",
       "35576034.0  2017-11-28     263 days\n",
       "            2018-02-26      90 days\n",
       "35849563.0  2017-01-12       0 days\n",
       "            2017-12-18     340 days\n",
       "            2018-05-01     134 days\n",
       "Name: wait_time, Length: 40587, dtype: timedelta64[ns]"
      ]
     },
     "metadata": {},
     "execution_count": 103
    }
   ],
   "source": [
    "tsWithTime.wait_time"
   ]
  },
  {
   "source": [
    "## Traîtement des valeurs ```Nan```"
   ],
   "cell_type": "markdown",
   "metadata": {}
  },
  {
   "source": [
    "```VOIR S'IL Y A ENCORE DES NAN ET LES TRAÎTER```"
   ],
   "cell_type": "markdown",
   "metadata": {}
  },
  {
   "source": [
    "# Prédiction"
   ],
   "cell_type": "markdown",
   "metadata": {}
  },
  {
   "source": [
    "## Création des données d'entraînement/test"
   ],
   "cell_type": "markdown",
   "metadata": {}
  },
  {
   "cell_type": "code",
   "execution_count": 104,
   "metadata": {
    "tags": []
   },
   "outputs": [],
   "source": [
    "yColumNames = ['product_atc_code','wait_time']\n",
    "\n",
    "xDf = tsWithTime.drop(yColumNames,axis='columns')\n",
    "\n",
    "# Pour l'instant on ne prédit que l'atc code et c'est déjà un sacré bordel\n",
    "yDf = tsWithTime.product_atc_code#loc[:,yColumNames]\n",
    "\n",
    "xList,yList = [],[]\n",
    "sliceNumber = 3\n",
    "\n",
    "for i,_ in ts.groupby('person_id'):\n",
    "    # Mme ZERHAOUI a dit qu'il fallait transposer, je transpose\n",
    "    xList.append(xDf.loc[i][:sliceNumber].to_numpy().astype('float32').transpose())\n",
    "    yList.append(yDf.loc[i][:sliceNumber].to_numpy().astype('float32'))\n",
    "\n",
    "xData = np.array(xList).reshape((len(xList),xList[0].shape[0],sliceNumber))\n",
    "yData = np.array(yList).reshape((sliceNumber,len(yList)))#,yList[0].shape[1]))"
   ]
  },
  {
   "cell_type": "code",
   "execution_count": 105,
   "metadata": {},
   "outputs": [
    {
     "output_type": "stream",
     "name": "stdout",
     "text": [
      "(5464, 17, 3), (3, 5464)\n"
     ]
    }
   ],
   "source": [
    "print(f\"{xData.shape}, {yData.shape}\")"
   ]
  },
  {
   "cell_type": "code",
   "execution_count": 106,
   "metadata": {},
   "outputs": [
    {
     "output_type": "stream",
     "name": "stdout",
     "text": [
      "train: 4371   test: 1093\n"
     ]
    }
   ],
   "source": [
    "# On crée un jeu d'entraînement et de test :\n",
    "#  - l'entraînement se fait sur 80% du jeu de donnée total\n",
    "#  - le test se fait donc sur 20%\n",
    "\n",
    "trainUse = int(xData.shape[0] * 80 / 100)\n",
    "testUse = xData.shape[0] - trainUse\n",
    "\n",
    "xTrain, xTest, yTrain, yTest = xData[:trainUse],xData[-testUse:],yData[:,:trainUse],yData[:,-testUse:]\n",
    "print(f\"train: {trainUse}   test: {testUse}\")"
   ]
  },
  {
   "source": [
    "## Création du modèle"
   ],
   "cell_type": "markdown",
   "metadata": {}
  },
  {
   "cell_type": "code",
   "execution_count": 107,
   "metadata": {},
   "outputs": [
    {
     "output_type": "stream",
     "name": "stdout",
     "text": [
      "(4371, 17, 3), (3, 4371)\n"
     ]
    }
   ],
   "source": [
    "print(f\"{xTrain.shape}, {yTrain.shape}\")"
   ]
  },
  {
   "cell_type": "code",
   "execution_count": 108,
   "metadata": {},
   "outputs": [],
   "source": [
    "# Alors c'est totalement au hasard, j'ai essayé de suivre ce qu'il y avait dans la partie 'keras exemple' du lien que farida nous a donné :\n",
    "# cf : https://towardsdatascience.com/how-to-use-convolutional-neural-networks-for-time-series-classification-56b1b0a07a57\n",
    "model = models.Sequential()\n",
    "kernelNumber = 20\n",
    "model.add(layers.Conv1D(kernelNumber,17,activation='tanh',input_shape=(xTrain.shape[1],sliceNumber)))\n",
    "model.add(layers.MaxPool1D(1))\n",
    "model.add(layers.Flatten())\n",
    "model.add(layers.Dense(yData.max()+1,activation='sigmoid'))"
   ]
  },
  {
   "cell_type": "code",
   "execution_count": 109,
   "metadata": {},
   "outputs": [
    {
     "output_type": "stream",
     "name": "stdout",
     "text": [
      "Model: \"sequential\"\n_________________________________________________________________\nLayer (type)                 Output Shape              Param #   \n=================================================================\nconv1d (Conv1D)              (None, 1, 20)             1040      \n_________________________________________________________________\nmax_pooling1d (MaxPooling1D) (None, 1, 20)             0         \n_________________________________________________________________\nflatten (Flatten)            (None, 20)                0         \n_________________________________________________________________\ndense (Dense)                (None, 33)                693       \n=================================================================\nTotal params: 1,733\nTrainable params: 1,733\nNon-trainable params: 0\n_________________________________________________________________\n"
     ]
    }
   ],
   "source": [
    "model.summary()"
   ]
  },
  {
   "cell_type": "code",
   "execution_count": 110,
   "metadata": {},
   "outputs": [],
   "source": [
    "# model.compile(optimizer='adam',loss='sparse_categorical_crossentropy',metrics=['accuracy'])\n",
    "model.compile(optimizer='adam',loss='sparse_categorical_crossentropy',metrics=['sparse_categorical_accuracy'])"
   ]
  },
  {
   "cell_type": "code",
   "execution_count": 111,
   "metadata": {},
   "outputs": [
    {
     "output_type": "stream",
     "name": "stdout",
     "text": [
      "--- Training: 1/3 ---\n",
      "Epoch 1/20\n",
      "137/137 [==============================] - 1s 4ms/step - loss: 9.7860 - sparse_categorical_accuracy: 0.0151 - val_loss: 10.1900 - val_sparse_categorical_accuracy: 0.0165\n",
      "Epoch 2/20\n",
      "137/137 [==============================] - 1s 4ms/step - loss: 9.7860 - sparse_categorical_accuracy: 0.0151 - val_loss: 10.1900 - val_sparse_categorical_accuracy: 0.0165\n",
      "Epoch 3/20\n",
      "137/137 [==============================] - 0s 3ms/step - loss: 9.7860 - sparse_categorical_accuracy: 0.0151 - val_loss: 10.1900 - val_sparse_categorical_accuracy: 0.0165\n",
      "Epoch 4/20\n",
      "137/137 [==============================] - 0s 3ms/step - loss: 9.7860 - sparse_categorical_accuracy: 0.0151 - val_loss: 10.1900 - val_sparse_categorical_accuracy: 0.0165\n",
      "Epoch 5/20\n",
      "137/137 [==============================] - 1s 4ms/step - loss: 9.7860 - sparse_categorical_accuracy: 0.0151 - val_loss: 10.1900 - val_sparse_categorical_accuracy: 0.0165\n",
      "Epoch 6/20\n",
      "137/137 [==============================] - 0s 3ms/step - loss: 9.7860 - sparse_categorical_accuracy: 0.0151 - val_loss: 10.1900 - val_sparse_categorical_accuracy: 0.0165\n",
      "Epoch 7/20\n",
      "137/137 [==============================] - 0s 3ms/step - loss: 9.7860 - sparse_categorical_accuracy: 0.0151 - val_loss: 10.1900 - val_sparse_categorical_accuracy: 0.0165\n",
      "Epoch 8/20\n",
      "137/137 [==============================] - 0s 3ms/step - loss: 9.7860 - sparse_categorical_accuracy: 0.0151 - val_loss: 10.1900 - val_sparse_categorical_accuracy: 0.0165\n",
      "Epoch 9/20\n",
      "137/137 [==============================] - 0s 3ms/step - loss: 9.7860 - sparse_categorical_accuracy: 0.0151 - val_loss: 10.1900 - val_sparse_categorical_accuracy: 0.0165\n",
      "Epoch 10/20\n",
      "137/137 [==============================] - 0s 3ms/step - loss: 9.7860 - sparse_categorical_accuracy: 0.0151 - val_loss: 10.1900 - val_sparse_categorical_accuracy: 0.0165\n",
      "Epoch 11/20\n",
      "137/137 [==============================] - 0s 3ms/step - loss: 9.7860 - sparse_categorical_accuracy: 0.0151 - val_loss: 10.1900 - val_sparse_categorical_accuracy: 0.0165\n",
      "Epoch 12/20\n",
      "137/137 [==============================] - 0s 3ms/step - loss: 9.7860 - sparse_categorical_accuracy: 0.0151 - val_loss: 10.1900 - val_sparse_categorical_accuracy: 0.0165\n",
      "Epoch 13/20\n",
      "137/137 [==============================] - 0s 3ms/step - loss: 9.7860 - sparse_categorical_accuracy: 0.0151 - val_loss: 10.1900 - val_sparse_categorical_accuracy: 0.0165\n",
      "Epoch 14/20\n",
      "137/137 [==============================] - 0s 3ms/step - loss: 9.7860 - sparse_categorical_accuracy: 0.0151 - val_loss: 10.1900 - val_sparse_categorical_accuracy: 0.0165\n",
      "Epoch 15/20\n",
      "137/137 [==============================] - 0s 3ms/step - loss: 9.7860 - sparse_categorical_accuracy: 0.0151 - val_loss: 10.1900 - val_sparse_categorical_accuracy: 0.0165\n",
      "Epoch 16/20\n",
      "137/137 [==============================] - 0s 3ms/step - loss: 9.7860 - sparse_categorical_accuracy: 0.0151 - val_loss: 10.1900 - val_sparse_categorical_accuracy: 0.0165\n",
      "Epoch 17/20\n",
      "137/137 [==============================] - 0s 3ms/step - loss: 9.7860 - sparse_categorical_accuracy: 0.0151 - val_loss: 10.1900 - val_sparse_categorical_accuracy: 0.0165\n",
      "Epoch 18/20\n",
      "137/137 [==============================] - 0s 3ms/step - loss: 9.7860 - sparse_categorical_accuracy: 0.0151 - val_loss: 10.1900 - val_sparse_categorical_accuracy: 0.0165\n",
      "Epoch 19/20\n",
      "137/137 [==============================] - 1s 4ms/step - loss: 9.7860 - sparse_categorical_accuracy: 0.0151 - val_loss: 10.1900 - val_sparse_categorical_accuracy: 0.0165\n",
      "Epoch 20/20\n",
      "137/137 [==============================] - 1s 5ms/step - loss: 9.7860 - sparse_categorical_accuracy: 0.0151 - val_loss: 10.1900 - val_sparse_categorical_accuracy: 0.0165\n",
      "--- Training: 2/3 ---\n",
      "Epoch 1/20\n",
      "137/137 [==============================] - 1s 5ms/step - loss: 10.3686 - sparse_categorical_accuracy: 0.0174 - val_loss: 10.1752 - val_sparse_categorical_accuracy: 0.0137\n",
      "Epoch 2/20\n",
      "137/137 [==============================] - 0s 3ms/step - loss: 10.3686 - sparse_categorical_accuracy: 0.0174 - val_loss: 10.1752 - val_sparse_categorical_accuracy: 0.0137\n",
      "Epoch 3/20\n",
      "137/137 [==============================] - 0s 3ms/step - loss: 10.3686 - sparse_categorical_accuracy: 0.0174 - val_loss: 10.1752 - val_sparse_categorical_accuracy: 0.0137\n",
      "Epoch 4/20\n",
      "137/137 [==============================] - 0s 3ms/step - loss: 10.3686 - sparse_categorical_accuracy: 0.0174 - val_loss: 10.1752 - val_sparse_categorical_accuracy: 0.0137\n",
      "Epoch 5/20\n",
      "137/137 [==============================] - 0s 3ms/step - loss: 10.3686 - sparse_categorical_accuracy: 0.0174 - val_loss: 10.1752 - val_sparse_categorical_accuracy: 0.0137\n",
      "Epoch 6/20\n",
      "137/137 [==============================] - 1s 4ms/step - loss: 10.3686 - sparse_categorical_accuracy: 0.0174 - val_loss: 10.1752 - val_sparse_categorical_accuracy: 0.0137\n",
      "Epoch 7/20\n",
      "137/137 [==============================] - 0s 3ms/step - loss: 10.3686 - sparse_categorical_accuracy: 0.0174 - val_loss: 10.1752 - val_sparse_categorical_accuracy: 0.0137\n",
      "Epoch 8/20\n",
      "137/137 [==============================] - 1s 4ms/step - loss: 10.3686 - sparse_categorical_accuracy: 0.0174 - val_loss: 10.1752 - val_sparse_categorical_accuracy: 0.0137\n",
      "Epoch 9/20\n",
      "137/137 [==============================] - 0s 3ms/step - loss: 10.3686 - sparse_categorical_accuracy: 0.0174 - val_loss: 10.1752 - val_sparse_categorical_accuracy: 0.0137\n",
      "Epoch 10/20\n",
      "137/137 [==============================] - 0s 3ms/step - loss: 10.3686 - sparse_categorical_accuracy: 0.0174 - val_loss: 10.1752 - val_sparse_categorical_accuracy: 0.0137\n",
      "Epoch 11/20\n",
      "137/137 [==============================] - 0s 3ms/step - loss: 10.3686 - sparse_categorical_accuracy: 0.0174 - val_loss: 10.1752 - val_sparse_categorical_accuracy: 0.0137\n",
      "Epoch 12/20\n",
      "137/137 [==============================] - 0s 3ms/step - loss: 10.3686 - sparse_categorical_accuracy: 0.0174 - val_loss: 10.1752 - val_sparse_categorical_accuracy: 0.0137\n",
      "Epoch 13/20\n",
      "137/137 [==============================] - 0s 3ms/step - loss: 10.3686 - sparse_categorical_accuracy: 0.0174 - val_loss: 10.1752 - val_sparse_categorical_accuracy: 0.0137\n",
      "Epoch 14/20\n",
      "137/137 [==============================] - 0s 3ms/step - loss: 10.3686 - sparse_categorical_accuracy: 0.0174 - val_loss: 10.1752 - val_sparse_categorical_accuracy: 0.0137\n",
      "Epoch 15/20\n",
      "137/137 [==============================] - 0s 3ms/step - loss: 10.3686 - sparse_categorical_accuracy: 0.0174 - val_loss: 10.1752 - val_sparse_categorical_accuracy: 0.0137\n",
      "Epoch 16/20\n",
      "137/137 [==============================] - 0s 3ms/step - loss: 10.3686 - sparse_categorical_accuracy: 0.0174 - val_loss: 10.1752 - val_sparse_categorical_accuracy: 0.0137\n",
      "Epoch 17/20\n",
      "137/137 [==============================] - 0s 2ms/step - loss: 10.3686 - sparse_categorical_accuracy: 0.0174 - val_loss: 10.1752 - val_sparse_categorical_accuracy: 0.0137\n",
      "Epoch 18/20\n",
      "137/137 [==============================] - 0s 2ms/step - loss: 10.3686 - sparse_categorical_accuracy: 0.0174 - val_loss: 10.1752 - val_sparse_categorical_accuracy: 0.0137\n",
      "Epoch 19/20\n",
      "137/137 [==============================] - 0s 2ms/step - loss: 10.3686 - sparse_categorical_accuracy: 0.0174 - val_loss: 10.1752 - val_sparse_categorical_accuracy: 0.0137\n",
      "Epoch 20/20\n",
      "137/137 [==============================] - 0s 3ms/step - loss: 10.3686 - sparse_categorical_accuracy: 0.0174 - val_loss: 10.1752 - val_sparse_categorical_accuracy: 0.0137\n",
      "--- Training: 3/3 ---\n",
      "Epoch 1/20\n",
      "137/137 [==============================] - 1s 4ms/step - loss: 9.9556 - sparse_categorical_accuracy: 0.0167 - val_loss: 5.7955 - val_sparse_categorical_accuracy: 0.0247\n",
      "Epoch 2/20\n",
      "137/137 [==============================] - 0s 4ms/step - loss: 9.9556 - sparse_categorical_accuracy: 0.0167 - val_loss: 5.7955 - val_sparse_categorical_accuracy: 0.0247\n",
      "Epoch 3/20\n",
      "137/137 [==============================] - 0s 3ms/step - loss: 9.9556 - sparse_categorical_accuracy: 0.0167 - val_loss: 5.7955 - val_sparse_categorical_accuracy: 0.0247\n",
      "Epoch 4/20\n",
      "137/137 [==============================] - 0s 3ms/step - loss: 9.9556 - sparse_categorical_accuracy: 0.0167 - val_loss: 5.7955 - val_sparse_categorical_accuracy: 0.0247\n",
      "Epoch 5/20\n",
      "137/137 [==============================] - 0s 3ms/step - loss: 9.9556 - sparse_categorical_accuracy: 0.0167 - val_loss: 5.7955 - val_sparse_categorical_accuracy: 0.0247\n",
      "Epoch 6/20\n",
      "137/137 [==============================] - 0s 3ms/step - loss: 9.9556 - sparse_categorical_accuracy: 0.0167 - val_loss: 5.7955 - val_sparse_categorical_accuracy: 0.0247\n",
      "Epoch 7/20\n",
      "137/137 [==============================] - 0s 3ms/step - loss: 9.9556 - sparse_categorical_accuracy: 0.0167 - val_loss: 5.7955 - val_sparse_categorical_accuracy: 0.0247\n",
      "Epoch 8/20\n",
      "137/137 [==============================] - 0s 3ms/step - loss: 9.9556 - sparse_categorical_accuracy: 0.0167 - val_loss: 5.7955 - val_sparse_categorical_accuracy: 0.0247\n",
      "Epoch 9/20\n",
      "137/137 [==============================] - 0s 3ms/step - loss: 9.9556 - sparse_categorical_accuracy: 0.0167 - val_loss: 5.7955 - val_sparse_categorical_accuracy: 0.0247\n",
      "Epoch 10/20\n",
      "137/137 [==============================] - 0s 2ms/step - loss: 9.9556 - sparse_categorical_accuracy: 0.0167 - val_loss: 5.7955 - val_sparse_categorical_accuracy: 0.0247\n",
      "Epoch 11/20\n",
      "137/137 [==============================] - 0s 3ms/step - loss: 9.9556 - sparse_categorical_accuracy: 0.0167 - val_loss: 5.7955 - val_sparse_categorical_accuracy: 0.0247\n",
      "Epoch 12/20\n",
      "137/137 [==============================] - 0s 3ms/step - loss: 9.9556 - sparse_categorical_accuracy: 0.0167 - val_loss: 5.7955 - val_sparse_categorical_accuracy: 0.0247\n",
      "Epoch 13/20\n",
      "137/137 [==============================] - 0s 3ms/step - loss: 9.9556 - sparse_categorical_accuracy: 0.0167 - val_loss: 5.7955 - val_sparse_categorical_accuracy: 0.0247\n",
      "Epoch 14/20\n",
      "137/137 [==============================] - 0s 3ms/step - loss: 9.9556 - sparse_categorical_accuracy: 0.0167 - val_loss: 5.7955 - val_sparse_categorical_accuracy: 0.0247\n",
      "Epoch 15/20\n",
      "137/137 [==============================] - 0s 3ms/step - loss: 9.9556 - sparse_categorical_accuracy: 0.0167 - val_loss: 5.7955 - val_sparse_categorical_accuracy: 0.0247\n",
      "Epoch 16/20\n",
      "137/137 [==============================] - 0s 3ms/step - loss: 9.9556 - sparse_categorical_accuracy: 0.0167 - val_loss: 5.7955 - val_sparse_categorical_accuracy: 0.0247\n",
      "Epoch 17/20\n",
      "137/137 [==============================] - 0s 3ms/step - loss: 9.9556 - sparse_categorical_accuracy: 0.0167 - val_loss: 5.7955 - val_sparse_categorical_accuracy: 0.0247\n",
      "Epoch 18/20\n",
      "137/137 [==============================] - 1s 4ms/step - loss: 9.9556 - sparse_categorical_accuracy: 0.0167 - val_loss: 5.7955 - val_sparse_categorical_accuracy: 0.0247\n",
      "Epoch 19/20\n",
      "137/137 [==============================] - 0s 3ms/step - loss: 9.9556 - sparse_categorical_accuracy: 0.0167 - val_loss: 5.7955 - val_sparse_categorical_accuracy: 0.0247\n",
      "Epoch 20/20\n",
      "137/137 [==============================] - 0s 3ms/step - loss: 9.9556 - sparse_categorical_accuracy: 0.0167 - val_loss: 5.7955 - val_sparse_categorical_accuracy: 0.0247\n"
     ]
    }
   ],
   "source": [
    "# pour utiliser sparse cross entropy apparement il faut des valeurs entre 0 et 1 pourtant sur ce lien il l'utilise pour prédire les données mniste entre 0 et 9 'https://www.machinecurve.com/index.php/2019/10/06/how-to-use-sparse-categorical-crossentropy-in-keras/'\n",
    "for i in range(3):\n",
    "    print(f\"--- Training: {i+1}/{yTrain.shape[0]} ---\")\n",
    "    model.fit(xTrain,yTrain[i],epochs=20, validation_data=(xTest,yTest[i]))"
   ]
  },
  {
   "cell_type": "code",
   "execution_count": 112,
   "metadata": {},
   "outputs": [
    {
     "output_type": "execute_result",
     "data": {
      "text/plain": [
       "array([[0., 1., 0., 0., 1., 0., 0., 0., 1., 1., 0., 0., 1., 1., 0., 0.,\n",
       "        1., 1., 1., 1., 1., 0., 0., 1., 1., 1., 1., 0., 1., 1., 1., 0.,\n",
       "        0.]], dtype=float32)"
      ]
     },
     "metadata": {},
     "execution_count": 112
    }
   ],
   "source": [
    "model.predict(xTest[5].reshape((1,17,3)))"
   ]
  },
  {
   "cell_type": "code",
   "execution_count": null,
   "metadata": {},
   "outputs": [],
   "source": []
  }
 ]
}