{
  "nbformat": 4,
  "nbformat_minor": 0,
  "metadata": {
    "language_info": {
      "codemirror_mode": {
        "name": "ipython",
        "version": 3
      },
      "file_extension": ".py",
      "mimetype": "text/x-python",
      "name": "python",
      "nbconvert_exporter": "python",
      "pygments_lexer": "ipython3",
      "version": "3.7.3-final"
    },
    "orig_nbformat": 2,
    "kernelspec": {
      "name": "python3",
      "display_name": "Python 3.7.3 64-bit",
      "metadata": {
        "interpreter": {
          "hash": "5edc29c2ed010d6458d71a83433b383a96a8cbd3efe8531bc90c4b8a5b8bcec9"
        }
      }
    },
    "colab": {
      "name": "prediction.moreTrainingData.ipynb",
      "provenance": [],
      "collapsed_sections": [
        "_OunT7DyBt1U",
        "UMkds8B1Bt1Z",
        "TQsluJOxBt1l",
        "KYWq5P6RBt1w",
        "6EH8JMyWBt1x",
        "h3jL_58lBt14",
        "-vTDeultBt18",
        "3RwhcepIBt2P",
        "lVPV96Q4Bt2S"
      ]
    },
    "accelerator": "GPU"
  },
  "cells": [
    {
      "cell_type": "markdown",
      "metadata": {
        "id": "hUXYuA1KBt0u"
      },
      "source": [
        "## Imports"
      ]
    },
    {
      "cell_type": "code",
      "metadata": {
        "id": "tkh0VDKiBt0x"
      },
      "source": [
        "import pandas as pd\n",
        "import numpy as np\n",
        "import datetime, os\n",
        "\n",
        "import tensorflow as tf\n",
        "\n",
        "import keras\n",
        "\n",
        "from sklearn.preprocessing import LabelEncoder\n",
        "from sklearn.preprocessing import OrdinalEncoder\n",
        "\n",
        "from matplotlib import pyplot as plt\n",
        "\n",
        "from keras import Input\n",
        "from keras import Model\n",
        "from keras import layers\n",
        "from keras import models\n",
        "from keras import losses\n",
        "from keras.utils import to_categorical\n",
        "from keras.preprocessing import timeseries_dataset_from_array"
      ],
      "execution_count": null,
      "outputs": []
    },
    {
      "cell_type": "markdown",
      "metadata": {
        "id": "rh5BJWiTBt0z"
      },
      "source": [
        "## Test whether Notebook is running on Google Colab"
      ]
    },
    {
      "cell_type": "code",
      "metadata": {
        "id": "L1jsBk4HBt00"
      },
      "source": [
        "csvPath = ''\n",
        "if 'google.colab' in str(get_ipython()):\n",
        "  csvPath = 'https://github.com/DridriLaBastos/Masterials/raw/main/PatientsHTA.zip'\n",
        "else:\n",
        "  csvPath = 'PatientsHTA.zip'"
      ],
      "execution_count": null,
      "outputs": []
    },
    {
      "cell_type": "code",
      "metadata": {
        "id": "R_PZ5gvfBt00"
      },
      "source": [
        "dateColumnNames = [\n",
        "    'contact_date',\n",
        "    'Glycemie_der_date',\n",
        "    'HbA1c_der_date',\n",
        "    'der_date_poids',\n",
        "    'der_date_taille',\n",
        "    'first_contact_date'\n",
        "]\n",
        "\n",
        "df = pd.read_csv(csvPath,engine='c',parse_dates=dateColumnNames)"
      ],
      "execution_count": null,
      "outputs": []
    },
    {
      "cell_type": "markdown",
      "metadata": {
        "id": "u1H_O4iABt02"
      },
      "source": [
        "# Suppression des lignes trop peu nombreuses\n",
        "\n",
        "Nous souhaitons faire un apprentissage en utilisant la dimension temporelle comme filtre pour le CNN. Pour ça il faut donc que nous ayons plusieurs entrées. Avant de commencer à traîter les données, nous supprimons toutes les personnes qui n'ont pas rendu visite assez souvent à leur médecin. Ainsi, par le biais de ```person_id```, nous avons choisi arbitrairement que pour être utile à l'apprentissage, il faut au moins 3 visites par patients, soient toutes les lignes dont le ```person_id```est contenu plus de 3 fois dans tout le jeu de données."
      ]
    },
    {
      "cell_type": "code",
      "metadata": {
        "id": "OvG-6qVABt04"
      },
      "source": [
        "VISIT_NUMBER = 4\n",
        "valueCounts = df.person_id.value_counts()\n",
        "dfEnought = df[df.person_id.isin(valueCounts[valueCounts.values >= VISIT_NUMBER].index)]"
      ],
      "execution_count": null,
      "outputs": []
    },
    {
      "cell_type": "markdown",
      "metadata": {
        "id": "t6-dtaEZBt05"
      },
      "source": [
        "# Suppression des colonnes innutiles"
      ]
    },
    {
      "cell_type": "markdown",
      "metadata": {
        "id": "gXurQoWcBt05"
      },
      "source": [
        "## Suppression de la colonne ```age_now```"
      ]
    },
    {
      "cell_type": "markdown",
      "metadata": {
        "id": "PMQLvlvwBt1C"
      },
      "source": [
        "Nous pouvons supprimer la colonne ```age_now``` car les données qu'elle contient sont identiques à celles de la colonne ```year_of_birth```."
      ]
    },
    {
      "cell_type": "code",
      "metadata": {
        "id": "vQ_ecbTgBt1F"
      },
      "source": [
        "dfWithoutAgeNow = dfEnought.drop('Age_now', axis='columns')"
      ],
      "execution_count": null,
      "outputs": []
    },
    {
      "cell_type": "markdown",
      "metadata": {
        "id": "EVZw6fu5Bt1G"
      },
      "source": [
        "## Suppression de la colonne ```contact_id```\n",
        "\n",
        "En effet, la colonne ```contact_id``` ne représente aucun intérêt pour l'apprentissage car elle ne contient aucun information à même d'influer sur la prédiction."
      ]
    },
    {
      "cell_type": "code",
      "metadata": {
        "id": "bIhnr6Q8Bt1I"
      },
      "source": [
        "dfWithoutContactID = dfWithoutAgeNow.drop('contact_id',axis='columns')"
      ],
      "execution_count": null,
      "outputs": []
    },
    {
      "cell_type": "markdown",
      "metadata": {
        "id": "oWGOZTSLBt1K"
      },
      "source": [
        "## Suppression des noms de médicaments"
      ]
    },
    {
      "cell_type": "code",
      "metadata": {
        "colab": {
          "base_uri": "https://localhost:8080/",
          "height": 1000
        },
        "id": "bloGqpJsBt1L",
        "outputId": "5a4237ca-30cb-4065-aaec-2de6c8412c8a"
      },
      "source": [
        "dfGroupedByMoleculeLabel = dfWithoutContactID.groupby('product_atc_code')[['molecule_label','short_name','long_name','Classe','product_atc']].count()\n",
        "dfGroupedByMoleculeLabel"
      ],
      "execution_count": null,
      "outputs": [
        {
          "output_type": "execute_result",
          "data": {
            "text/html": [
              "<div>\n",
              "<style scoped>\n",
              "    .dataframe tbody tr th:only-of-type {\n",
              "        vertical-align: middle;\n",
              "    }\n",
              "\n",
              "    .dataframe tbody tr th {\n",
              "        vertical-align: top;\n",
              "    }\n",
              "\n",
              "    .dataframe thead th {\n",
              "        text-align: right;\n",
              "    }\n",
              "</style>\n",
              "<table border=\"1\" class=\"dataframe\">\n",
              "  <thead>\n",
              "    <tr style=\"text-align: right;\">\n",
              "      <th></th>\n",
              "      <th>molecule_label</th>\n",
              "      <th>short_name</th>\n",
              "      <th>long_name</th>\n",
              "      <th>Classe</th>\n",
              "      <th>product_atc</th>\n",
              "    </tr>\n",
              "    <tr>\n",
              "      <th>product_atc_code</th>\n",
              "      <th></th>\n",
              "      <th></th>\n",
              "      <th></th>\n",
              "      <th></th>\n",
              "      <th></th>\n",
              "    </tr>\n",
              "  </thead>\n",
              "  <tbody>\n",
              "    <tr>\n",
              "      <th>C02AC06</th>\n",
              "      <td>4288</td>\n",
              "      <td>4288</td>\n",
              "      <td>4288</td>\n",
              "      <td>4288</td>\n",
              "      <td>4288</td>\n",
              "    </tr>\n",
              "    <tr>\n",
              "      <th>C03BX03</th>\n",
              "      <td>932</td>\n",
              "      <td>932</td>\n",
              "      <td>932</td>\n",
              "      <td>932</td>\n",
              "      <td>932</td>\n",
              "    </tr>\n",
              "    <tr>\n",
              "      <th>C03CA01</th>\n",
              "      <td>877</td>\n",
              "      <td>877</td>\n",
              "      <td>877</td>\n",
              "      <td>877</td>\n",
              "      <td>877</td>\n",
              "    </tr>\n",
              "    <tr>\n",
              "      <th>C03DA01</th>\n",
              "      <td>187</td>\n",
              "      <td>187</td>\n",
              "      <td>187</td>\n",
              "      <td>187</td>\n",
              "      <td>187</td>\n",
              "    </tr>\n",
              "    <tr>\n",
              "      <th>C03DA04</th>\n",
              "      <td>27</td>\n",
              "      <td>27</td>\n",
              "      <td>27</td>\n",
              "      <td>27</td>\n",
              "      <td>27</td>\n",
              "    </tr>\n",
              "    <tr>\n",
              "      <th>C03EA04</th>\n",
              "      <td>75</td>\n",
              "      <td>75</td>\n",
              "      <td>75</td>\n",
              "      <td>75</td>\n",
              "      <td>75</td>\n",
              "    </tr>\n",
              "    <tr>\n",
              "      <th>C03EB01</th>\n",
              "      <td>14</td>\n",
              "      <td>14</td>\n",
              "      <td>14</td>\n",
              "      <td>14</td>\n",
              "      <td>14</td>\n",
              "    </tr>\n",
              "    <tr>\n",
              "      <th>C07AA05</th>\n",
              "      <td>2</td>\n",
              "      <td>2</td>\n",
              "      <td>2</td>\n",
              "      <td>2</td>\n",
              "      <td>2</td>\n",
              "    </tr>\n",
              "    <tr>\n",
              "      <th>C07AB03</th>\n",
              "      <td>6466</td>\n",
              "      <td>6466</td>\n",
              "      <td>6466</td>\n",
              "      <td>6466</td>\n",
              "      <td>6466</td>\n",
              "    </tr>\n",
              "    <tr>\n",
              "      <th>C07AB04</th>\n",
              "      <td>39</td>\n",
              "      <td>39</td>\n",
              "      <td>39</td>\n",
              "      <td>39</td>\n",
              "      <td>39</td>\n",
              "    </tr>\n",
              "    <tr>\n",
              "      <th>C07AB07</th>\n",
              "      <td>6765</td>\n",
              "      <td>6765</td>\n",
              "      <td>6765</td>\n",
              "      <td>6765</td>\n",
              "      <td>6765</td>\n",
              "    </tr>\n",
              "    <tr>\n",
              "      <th>C07AB12</th>\n",
              "      <td>509</td>\n",
              "      <td>509</td>\n",
              "      <td>509</td>\n",
              "      <td>509</td>\n",
              "      <td>509</td>\n",
              "    </tr>\n",
              "    <tr>\n",
              "      <th>C07DB01</th>\n",
              "      <td>10</td>\n",
              "      <td>10</td>\n",
              "      <td>10</td>\n",
              "      <td>10</td>\n",
              "      <td>10</td>\n",
              "    </tr>\n",
              "    <tr>\n",
              "      <th>C08CA01</th>\n",
              "      <td>679</td>\n",
              "      <td>679</td>\n",
              "      <td>679</td>\n",
              "      <td>679</td>\n",
              "      <td>679</td>\n",
              "    </tr>\n",
              "    <tr>\n",
              "      <th>C08DB01</th>\n",
              "      <td>108</td>\n",
              "      <td>108</td>\n",
              "      <td>108</td>\n",
              "      <td>108</td>\n",
              "      <td>108</td>\n",
              "    </tr>\n",
              "    <tr>\n",
              "      <th>C09AA02</th>\n",
              "      <td>50</td>\n",
              "      <td>50</td>\n",
              "      <td>50</td>\n",
              "      <td>50</td>\n",
              "      <td>50</td>\n",
              "    </tr>\n",
              "    <tr>\n",
              "      <th>C09AA03</th>\n",
              "      <td>47</td>\n",
              "      <td>47</td>\n",
              "      <td>47</td>\n",
              "      <td>47</td>\n",
              "      <td>47</td>\n",
              "    </tr>\n",
              "    <tr>\n",
              "      <th>C09AA04</th>\n",
              "      <td>1183</td>\n",
              "      <td>1183</td>\n",
              "      <td>1183</td>\n",
              "      <td>1183</td>\n",
              "      <td>1183</td>\n",
              "    </tr>\n",
              "    <tr>\n",
              "      <th>C09AA05</th>\n",
              "      <td>232</td>\n",
              "      <td>232</td>\n",
              "      <td>232</td>\n",
              "      <td>232</td>\n",
              "      <td>232</td>\n",
              "    </tr>\n",
              "    <tr>\n",
              "      <th>C09AA06</th>\n",
              "      <td>20</td>\n",
              "      <td>20</td>\n",
              "      <td>20</td>\n",
              "      <td>20</td>\n",
              "      <td>20</td>\n",
              "    </tr>\n",
              "    <tr>\n",
              "      <th>C09BA02</th>\n",
              "      <td>11</td>\n",
              "      <td>11</td>\n",
              "      <td>11</td>\n",
              "      <td>11</td>\n",
              "      <td>11</td>\n",
              "    </tr>\n",
              "    <tr>\n",
              "      <th>C09BA04</th>\n",
              "      <td>920</td>\n",
              "      <td>920</td>\n",
              "      <td>920</td>\n",
              "      <td>920</td>\n",
              "      <td>920</td>\n",
              "    </tr>\n",
              "    <tr>\n",
              "      <th>C09CA01</th>\n",
              "      <td>277</td>\n",
              "      <td>277</td>\n",
              "      <td>277</td>\n",
              "      <td>277</td>\n",
              "      <td>277</td>\n",
              "    </tr>\n",
              "    <tr>\n",
              "      <th>C09CA03</th>\n",
              "      <td>2702</td>\n",
              "      <td>2702</td>\n",
              "      <td>2702</td>\n",
              "      <td>2702</td>\n",
              "      <td>2702</td>\n",
              "    </tr>\n",
              "    <tr>\n",
              "      <th>C09CA04</th>\n",
              "      <td>618</td>\n",
              "      <td>618</td>\n",
              "      <td>618</td>\n",
              "      <td>618</td>\n",
              "      <td>618</td>\n",
              "    </tr>\n",
              "    <tr>\n",
              "      <th>C09CA06</th>\n",
              "      <td>1291</td>\n",
              "      <td>1291</td>\n",
              "      <td>1291</td>\n",
              "      <td>1291</td>\n",
              "      <td>1291</td>\n",
              "    </tr>\n",
              "    <tr>\n",
              "      <th>C09CA07</th>\n",
              "      <td>109</td>\n",
              "      <td>109</td>\n",
              "      <td>109</td>\n",
              "      <td>109</td>\n",
              "      <td>109</td>\n",
              "    </tr>\n",
              "    <tr>\n",
              "      <th>C09DA01</th>\n",
              "      <td>542</td>\n",
              "      <td>542</td>\n",
              "      <td>542</td>\n",
              "      <td>542</td>\n",
              "      <td>542</td>\n",
              "    </tr>\n",
              "    <tr>\n",
              "      <th>C09DA03</th>\n",
              "      <td>1834</td>\n",
              "      <td>1834</td>\n",
              "      <td>1834</td>\n",
              "      <td>1834</td>\n",
              "      <td>1834</td>\n",
              "    </tr>\n",
              "    <tr>\n",
              "      <th>C09DA04</th>\n",
              "      <td>581</td>\n",
              "      <td>581</td>\n",
              "      <td>581</td>\n",
              "      <td>581</td>\n",
              "      <td>581</td>\n",
              "    </tr>\n",
              "    <tr>\n",
              "      <th>C09DB04</th>\n",
              "      <td>5212</td>\n",
              "      <td>5212</td>\n",
              "      <td>5212</td>\n",
              "      <td>5212</td>\n",
              "      <td>5212</td>\n",
              "    </tr>\n",
              "    <tr>\n",
              "      <th>C09XA02</th>\n",
              "      <td>63</td>\n",
              "      <td>63</td>\n",
              "      <td>63</td>\n",
              "      <td>63</td>\n",
              "      <td>63</td>\n",
              "    </tr>\n",
              "    <tr>\n",
              "      <th>C09XA52</th>\n",
              "      <td>206</td>\n",
              "      <td>206</td>\n",
              "      <td>206</td>\n",
              "      <td>206</td>\n",
              "      <td>206</td>\n",
              "    </tr>\n",
              "  </tbody>\n",
              "</table>\n",
              "</div>"
            ],
            "text/plain": [
              "                  molecule_label  short_name  long_name  Classe  product_atc\n",
              "product_atc_code                                                            \n",
              "C02AC06                     4288        4288       4288    4288         4288\n",
              "C03BX03                      932         932        932     932          932\n",
              "C03CA01                      877         877        877     877          877\n",
              "C03DA01                      187         187        187     187          187\n",
              "C03DA04                       27          27         27      27           27\n",
              "C03EA04                       75          75         75      75           75\n",
              "C03EB01                       14          14         14      14           14\n",
              "C07AA05                        2           2          2       2            2\n",
              "C07AB03                     6466        6466       6466    6466         6466\n",
              "C07AB04                       39          39         39      39           39\n",
              "C07AB07                     6765        6765       6765    6765         6765\n",
              "C07AB12                      509         509        509     509          509\n",
              "C07DB01                       10          10         10      10           10\n",
              "C08CA01                      679         679        679     679          679\n",
              "C08DB01                      108         108        108     108          108\n",
              "C09AA02                       50          50         50      50           50\n",
              "C09AA03                       47          47         47      47           47\n",
              "C09AA04                     1183        1183       1183    1183         1183\n",
              "C09AA05                      232         232        232     232          232\n",
              "C09AA06                       20          20         20      20           20\n",
              "C09BA02                       11          11         11      11           11\n",
              "C09BA04                      920         920        920     920          920\n",
              "C09CA01                      277         277        277     277          277\n",
              "C09CA03                     2702        2702       2702    2702         2702\n",
              "C09CA04                      618         618        618     618          618\n",
              "C09CA06                     1291        1291       1291    1291         1291\n",
              "C09CA07                      109         109        109     109          109\n",
              "C09DA01                      542         542        542     542          542\n",
              "C09DA03                     1834        1834       1834    1834         1834\n",
              "C09DA04                      581         581        581     581          581\n",
              "C09DB04                     5212        5212       5212    5212         5212\n",
              "C09XA02                       63          63         63      63           63\n",
              "C09XA52                      206         206        206     206          206"
            ]
          },
          "metadata": {
            "tags": []
          },
          "execution_count": 7
        }
      ]
    },
    {
      "cell_type": "markdown",
      "metadata": {
        "id": "CTvsCsr8Bt1R"
      },
      "source": [
        "Nous voyons qu'il existe différentes colonnes dont le but est de désigner le médicament prescrit lors de la visite, or nous n'avons besoin que d'une seule colonne garder cette information. De ce fait, nous avons choisi de garder ```product_atc_code```."
      ]
    },
    {
      "cell_type": "code",
      "metadata": {
        "colab": {
          "base_uri": "https://localhost:8080/",
          "height": 635
        },
        "id": "pFu6UZLDBt1T",
        "outputId": "99ae594a-d118-45c4-9008-d5b0baf26b5b"
      },
      "source": [
        "dropColumnNames = dfGroupedByMoleculeLabel.columns.to_list()\n",
        "dfWithATCCode = dfWithoutContactID.drop(dropColumnNames, axis='columns')\n",
        "dfWithATCCode"
      ],
      "execution_count": null,
      "outputs": [
        {
          "output_type": "execute_result",
          "data": {
            "text/html": [
              "<div>\n",
              "<style scoped>\n",
              "    .dataframe tbody tr th:only-of-type {\n",
              "        vertical-align: middle;\n",
              "    }\n",
              "\n",
              "    .dataframe tbody tr th {\n",
              "        vertical-align: top;\n",
              "    }\n",
              "\n",
              "    .dataframe thead th {\n",
              "        text-align: right;\n",
              "    }\n",
              "</style>\n",
              "<table border=\"1\" class=\"dataframe\">\n",
              "  <thead>\n",
              "    <tr style=\"text-align: right;\">\n",
              "      <th></th>\n",
              "      <th>person_id</th>\n",
              "      <th>specialty_label</th>\n",
              "      <th>contact_date</th>\n",
              "      <th>cip</th>\n",
              "      <th>dosage_1</th>\n",
              "      <th>dose_1</th>\n",
              "      <th>dose_2</th>\n",
              "      <th>product_atc_code</th>\n",
              "      <th>box</th>\n",
              "      <th>quantity</th>\n",
              "      <th>frequency_label</th>\n",
              "      <th>duration</th>\n",
              "      <th>Traitement_Autres_A10_dep_201701</th>\n",
              "      <th>Traitement_Insulines_dep_201701</th>\n",
              "      <th>Pulse</th>\n",
              "      <th>Tension Diastolique</th>\n",
              "      <th>Tension Systolique</th>\n",
              "      <th>Glycemie_prescription</th>\n",
              "      <th>Glycemie_der_date</th>\n",
              "      <th>Glycemie_der_mesure</th>\n",
              "      <th>HbA1c_prescription</th>\n",
              "      <th>HbA1c_der_date</th>\n",
              "      <th>HbA1c_der_mesure</th>\n",
              "      <th>gender_code</th>\n",
              "      <th>Age_presc</th>\n",
              "      <th>year_of_birth</th>\n",
              "      <th>Poids</th>\n",
              "      <th>der_date_poids</th>\n",
              "      <th>Taille</th>\n",
              "      <th>der_date_taille</th>\n",
              "      <th>first_contact_date</th>\n",
              "    </tr>\n",
              "  </thead>\n",
              "  <tbody>\n",
              "    <tr>\n",
              "      <th>1</th>\n",
              "      <td>263659.0</td>\n",
              "      <td>Médecin généraliste</td>\n",
              "      <td>2014-09-24</td>\n",
              "      <td>3.400960e+12</td>\n",
              "      <td>20.0</td>\n",
              "      <td>240.0</td>\n",
              "      <td>24.0</td>\n",
              "      <td>C03CA01</td>\n",
              "      <td>1.0</td>\n",
              "      <td>4.00</td>\n",
              "      <td>Jour</td>\n",
              "      <td>NaN</td>\n",
              "      <td>NaN</td>\n",
              "      <td>NaN</td>\n",
              "      <td>70.0</td>\n",
              "      <td>110.0</td>\n",
              "      <td>60.0</td>\n",
              "      <td>NaN</td>\n",
              "      <td>2008-02-08</td>\n",
              "      <td>1.01</td>\n",
              "      <td>NaN</td>\n",
              "      <td>NaT</td>\n",
              "      <td>NaN</td>\n",
              "      <td>M</td>\n",
              "      <td>96.0</td>\n",
              "      <td>1918.0</td>\n",
              "      <td>NaN</td>\n",
              "      <td>NaT</td>\n",
              "      <td>NaN</td>\n",
              "      <td>NaT</td>\n",
              "      <td>1998-04-02</td>\n",
              "    </tr>\n",
              "    <tr>\n",
              "      <th>2</th>\n",
              "      <td>263659.0</td>\n",
              "      <td>Médecin généraliste</td>\n",
              "      <td>2014-09-12</td>\n",
              "      <td>3.400960e+12</td>\n",
              "      <td>20.0</td>\n",
              "      <td>240.0</td>\n",
              "      <td>24.0</td>\n",
              "      <td>C03CA01</td>\n",
              "      <td>1.0</td>\n",
              "      <td>4.00</td>\n",
              "      <td>Jour</td>\n",
              "      <td>NaN</td>\n",
              "      <td>NaN</td>\n",
              "      <td>NaN</td>\n",
              "      <td>70.0</td>\n",
              "      <td>118.0</td>\n",
              "      <td>70.0</td>\n",
              "      <td>NaN</td>\n",
              "      <td>2008-02-08</td>\n",
              "      <td>1.01</td>\n",
              "      <td>NaN</td>\n",
              "      <td>NaT</td>\n",
              "      <td>NaN</td>\n",
              "      <td>M</td>\n",
              "      <td>96.0</td>\n",
              "      <td>1918.0</td>\n",
              "      <td>NaN</td>\n",
              "      <td>NaT</td>\n",
              "      <td>NaN</td>\n",
              "      <td>NaT</td>\n",
              "      <td>1998-04-02</td>\n",
              "    </tr>\n",
              "    <tr>\n",
              "      <th>3</th>\n",
              "      <td>263659.0</td>\n",
              "      <td>Médecin généraliste</td>\n",
              "      <td>2015-03-26</td>\n",
              "      <td>3.400960e+12</td>\n",
              "      <td>20.0</td>\n",
              "      <td>240.0</td>\n",
              "      <td>24.0</td>\n",
              "      <td>C03CA01</td>\n",
              "      <td>1.0</td>\n",
              "      <td>4.00</td>\n",
              "      <td>Jour</td>\n",
              "      <td>NaN</td>\n",
              "      <td>NaN</td>\n",
              "      <td>NaN</td>\n",
              "      <td>60.0</td>\n",
              "      <td>120.0</td>\n",
              "      <td>70.0</td>\n",
              "      <td>NaN</td>\n",
              "      <td>2008-02-08</td>\n",
              "      <td>1.01</td>\n",
              "      <td>NaN</td>\n",
              "      <td>NaT</td>\n",
              "      <td>NaN</td>\n",
              "      <td>M</td>\n",
              "      <td>97.0</td>\n",
              "      <td>1918.0</td>\n",
              "      <td>NaN</td>\n",
              "      <td>NaT</td>\n",
              "      <td>NaN</td>\n",
              "      <td>NaT</td>\n",
              "      <td>1998-04-02</td>\n",
              "    </tr>\n",
              "    <tr>\n",
              "      <th>4</th>\n",
              "      <td>263659.0</td>\n",
              "      <td>Médecin généraliste</td>\n",
              "      <td>2015-06-05</td>\n",
              "      <td>3.400960e+12</td>\n",
              "      <td>20.0</td>\n",
              "      <td>240.0</td>\n",
              "      <td>24.0</td>\n",
              "      <td>C03CA01</td>\n",
              "      <td>1.0</td>\n",
              "      <td>4.00</td>\n",
              "      <td>Jour</td>\n",
              "      <td>NaN</td>\n",
              "      <td>NaN</td>\n",
              "      <td>NaN</td>\n",
              "      <td>60.0</td>\n",
              "      <td>120.0</td>\n",
              "      <td>70.0</td>\n",
              "      <td>NaN</td>\n",
              "      <td>2008-02-08</td>\n",
              "      <td>1.01</td>\n",
              "      <td>NaN</td>\n",
              "      <td>NaT</td>\n",
              "      <td>NaN</td>\n",
              "      <td>M</td>\n",
              "      <td>97.0</td>\n",
              "      <td>1918.0</td>\n",
              "      <td>NaN</td>\n",
              "      <td>NaT</td>\n",
              "      <td>NaN</td>\n",
              "      <td>NaT</td>\n",
              "      <td>1998-04-02</td>\n",
              "    </tr>\n",
              "    <tr>\n",
              "      <th>6</th>\n",
              "      <td>25182917.0</td>\n",
              "      <td>Médecin généraliste</td>\n",
              "      <td>2013-03-27</td>\n",
              "      <td>3.400960e+12</td>\n",
              "      <td>300.0</td>\n",
              "      <td>16800.0</td>\n",
              "      <td>56.0</td>\n",
              "      <td>C09XA02</td>\n",
              "      <td>2.0</td>\n",
              "      <td>1.00</td>\n",
              "      <td>Jour</td>\n",
              "      <td>84.0</td>\n",
              "      <td>NaN</td>\n",
              "      <td>NaN</td>\n",
              "      <td>64.0</td>\n",
              "      <td>145.0</td>\n",
              "      <td>85.0</td>\n",
              "      <td>NaN</td>\n",
              "      <td>NaT</td>\n",
              "      <td>NaN</td>\n",
              "      <td>NaN</td>\n",
              "      <td>NaT</td>\n",
              "      <td>NaN</td>\n",
              "      <td>M</td>\n",
              "      <td>63.0</td>\n",
              "      <td>1950.0</td>\n",
              "      <td>NaN</td>\n",
              "      <td>NaT</td>\n",
              "      <td>NaN</td>\n",
              "      <td>NaT</td>\n",
              "      <td>2011-04-04</td>\n",
              "    </tr>\n",
              "    <tr>\n",
              "      <th>...</th>\n",
              "      <td>...</td>\n",
              "      <td>...</td>\n",
              "      <td>...</td>\n",
              "      <td>...</td>\n",
              "      <td>...</td>\n",
              "      <td>...</td>\n",
              "      <td>...</td>\n",
              "      <td>...</td>\n",
              "      <td>...</td>\n",
              "      <td>...</td>\n",
              "      <td>...</td>\n",
              "      <td>...</td>\n",
              "      <td>...</td>\n",
              "      <td>...</td>\n",
              "      <td>...</td>\n",
              "      <td>...</td>\n",
              "      <td>...</td>\n",
              "      <td>...</td>\n",
              "      <td>...</td>\n",
              "      <td>...</td>\n",
              "      <td>...</td>\n",
              "      <td>...</td>\n",
              "      <td>...</td>\n",
              "      <td>...</td>\n",
              "      <td>...</td>\n",
              "      <td>...</td>\n",
              "      <td>...</td>\n",
              "      <td>...</td>\n",
              "      <td>...</td>\n",
              "      <td>...</td>\n",
              "      <td>...</td>\n",
              "    </tr>\n",
              "    <tr>\n",
              "      <th>50625</th>\n",
              "      <td>26636453.0</td>\n",
              "      <td>Médecin généraliste</td>\n",
              "      <td>2016-11-16</td>\n",
              "      <td>3.400940e+12</td>\n",
              "      <td>500.0</td>\n",
              "      <td>15000.0</td>\n",
              "      <td>30.0</td>\n",
              "      <td>C03CA01</td>\n",
              "      <td>1.0</td>\n",
              "      <td>0.75</td>\n",
              "      <td>Jour</td>\n",
              "      <td>28.0</td>\n",
              "      <td>OUI</td>\n",
              "      <td>NaN</td>\n",
              "      <td>60.0</td>\n",
              "      <td>120.0</td>\n",
              "      <td>60.0</td>\n",
              "      <td>NaN</td>\n",
              "      <td>2017-10-03</td>\n",
              "      <td>3.39</td>\n",
              "      <td>NaN</td>\n",
              "      <td>2017-10-03</td>\n",
              "      <td>5.60</td>\n",
              "      <td>M</td>\n",
              "      <td>79.0</td>\n",
              "      <td>1937.0</td>\n",
              "      <td>83.9</td>\n",
              "      <td>2018-02-21</td>\n",
              "      <td>NaN</td>\n",
              "      <td>NaT</td>\n",
              "      <td>2012-02-14</td>\n",
              "    </tr>\n",
              "    <tr>\n",
              "      <th>50627</th>\n",
              "      <td>18889430.0</td>\n",
              "      <td>Médecin généraliste</td>\n",
              "      <td>2013-02-01</td>\n",
              "      <td>3.400940e+12</td>\n",
              "      <td>500.0</td>\n",
              "      <td>15000.0</td>\n",
              "      <td>30.0</td>\n",
              "      <td>C03CA01</td>\n",
              "      <td>1.0</td>\n",
              "      <td>0.50</td>\n",
              "      <td>Jour</td>\n",
              "      <td>28.0</td>\n",
              "      <td>NaN</td>\n",
              "      <td>NaN</td>\n",
              "      <td>60.0</td>\n",
              "      <td>120.0</td>\n",
              "      <td>70.0</td>\n",
              "      <td>NaN</td>\n",
              "      <td>2016-02-03</td>\n",
              "      <td>6.27</td>\n",
              "      <td>NaN</td>\n",
              "      <td>2017-05-15</td>\n",
              "      <td>8.01</td>\n",
              "      <td>M</td>\n",
              "      <td>85.0</td>\n",
              "      <td>1928.0</td>\n",
              "      <td>NaN</td>\n",
              "      <td>NaT</td>\n",
              "      <td>NaN</td>\n",
              "      <td>NaT</td>\n",
              "      <td>2007-12-02</td>\n",
              "    </tr>\n",
              "    <tr>\n",
              "      <th>50629</th>\n",
              "      <td>2222336.0</td>\n",
              "      <td>Médecin généraliste</td>\n",
              "      <td>2013-07-01</td>\n",
              "      <td>3.400940e+12</td>\n",
              "      <td>500.0</td>\n",
              "      <td>15000.0</td>\n",
              "      <td>30.0</td>\n",
              "      <td>C03CA01</td>\n",
              "      <td>2.0</td>\n",
              "      <td>0.25</td>\n",
              "      <td>Jour</td>\n",
              "      <td>240.0</td>\n",
              "      <td>NaN</td>\n",
              "      <td>NaN</td>\n",
              "      <td>72.0</td>\n",
              "      <td>130.0</td>\n",
              "      <td>70.0</td>\n",
              "      <td>NaN</td>\n",
              "      <td>NaT</td>\n",
              "      <td>NaN</td>\n",
              "      <td>NaN</td>\n",
              "      <td>NaT</td>\n",
              "      <td>NaN</td>\n",
              "      <td>F</td>\n",
              "      <td>78.0</td>\n",
              "      <td>1935.0</td>\n",
              "      <td>NaN</td>\n",
              "      <td>NaT</td>\n",
              "      <td>NaN</td>\n",
              "      <td>NaT</td>\n",
              "      <td>2006-02-23</td>\n",
              "    </tr>\n",
              "    <tr>\n",
              "      <th>50631</th>\n",
              "      <td>11363518.0</td>\n",
              "      <td>Médecin généraliste</td>\n",
              "      <td>2013-01-24</td>\n",
              "      <td>3.400940e+12</td>\n",
              "      <td>500.0</td>\n",
              "      <td>15000.0</td>\n",
              "      <td>30.0</td>\n",
              "      <td>C03CA01</td>\n",
              "      <td>1.0</td>\n",
              "      <td>0.25</td>\n",
              "      <td>Jour</td>\n",
              "      <td>120.0</td>\n",
              "      <td>NaN</td>\n",
              "      <td>NaN</td>\n",
              "      <td>72.0</td>\n",
              "      <td>139.0</td>\n",
              "      <td>70.0</td>\n",
              "      <td>NaN</td>\n",
              "      <td>NaT</td>\n",
              "      <td>NaN</td>\n",
              "      <td>NaN</td>\n",
              "      <td>NaT</td>\n",
              "      <td>NaN</td>\n",
              "      <td>M</td>\n",
              "      <td>80.0</td>\n",
              "      <td>1933.0</td>\n",
              "      <td>NaN</td>\n",
              "      <td>NaT</td>\n",
              "      <td>NaN</td>\n",
              "      <td>NaT</td>\n",
              "      <td>1998-01-27</td>\n",
              "    </tr>\n",
              "    <tr>\n",
              "      <th>50632</th>\n",
              "      <td>18889430.0</td>\n",
              "      <td>Médecin généraliste</td>\n",
              "      <td>2013-01-24</td>\n",
              "      <td>3.400940e+12</td>\n",
              "      <td>500.0</td>\n",
              "      <td>15000.0</td>\n",
              "      <td>30.0</td>\n",
              "      <td>C03CA01</td>\n",
              "      <td>1.0</td>\n",
              "      <td>0.50</td>\n",
              "      <td>Jour</td>\n",
              "      <td>28.0</td>\n",
              "      <td>NaN</td>\n",
              "      <td>NaN</td>\n",
              "      <td>72.0</td>\n",
              "      <td>120.0</td>\n",
              "      <td>70.0</td>\n",
              "      <td>NaN</td>\n",
              "      <td>2016-02-03</td>\n",
              "      <td>6.27</td>\n",
              "      <td>NaN</td>\n",
              "      <td>2017-05-15</td>\n",
              "      <td>8.01</td>\n",
              "      <td>M</td>\n",
              "      <td>85.0</td>\n",
              "      <td>1928.0</td>\n",
              "      <td>NaN</td>\n",
              "      <td>NaT</td>\n",
              "      <td>NaN</td>\n",
              "      <td>NaT</td>\n",
              "      <td>2007-12-02</td>\n",
              "    </tr>\n",
              "  </tbody>\n",
              "</table>\n",
              "<p>36876 rows × 31 columns</p>\n",
              "</div>"
            ],
            "text/plain": [
              "        person_id      specialty_label  ... der_date_taille  first_contact_date\n",
              "1        263659.0  Médecin généraliste  ...             NaT          1998-04-02\n",
              "2        263659.0  Médecin généraliste  ...             NaT          1998-04-02\n",
              "3        263659.0  Médecin généraliste  ...             NaT          1998-04-02\n",
              "4        263659.0  Médecin généraliste  ...             NaT          1998-04-02\n",
              "6      25182917.0  Médecin généraliste  ...             NaT          2011-04-04\n",
              "...           ...                  ...  ...             ...                 ...\n",
              "50625  26636453.0  Médecin généraliste  ...             NaT          2012-02-14\n",
              "50627  18889430.0  Médecin généraliste  ...             NaT          2007-12-02\n",
              "50629   2222336.0  Médecin généraliste  ...             NaT          2006-02-23\n",
              "50631  11363518.0  Médecin généraliste  ...             NaT          1998-01-27\n",
              "50632  18889430.0  Médecin généraliste  ...             NaT          2007-12-02\n",
              "\n",
              "[36876 rows x 31 columns]"
            ]
          },
          "metadata": {
            "tags": []
          },
          "execution_count": 8
        }
      ]
    },
    {
      "cell_type": "markdown",
      "metadata": {
        "id": "_OunT7DyBt1U"
      },
      "source": [
        "## Suppression des colonnes ```'*der*'```\n",
        "\n",
        "Les colonnes ```'*der*'``` contiennent la dernière donnée. Cette donnée peut être récupérée grâce à la date de la visite et aux valeurs mesurées. Par exemple, il n'est pas nécessaire d'avoir une colonne ```der_date``` ou ```der_mesure```. Les données de ces deux types de colonnes peuvent être récupérées grâce à la ligne qui correspond à la dernière date de la mesure, que nous pouvons trouver grâce à la colonne ```contact_date```."
      ]
    },
    {
      "cell_type": "code",
      "metadata": {
        "id": "sOeBfkOXBt1Z"
      },
      "source": [
        "derColumnNames = []\n",
        "\n",
        "for c in dfWithATCCode.columns:\n",
        "    if ('der_date' in c) or ('der_mesure' in c):\n",
        "        derColumnNames.append(c)\n",
        "\n",
        "dfWithoutDer = dfWithATCCode.drop(derColumnNames,axis='columns')"
      ],
      "execution_count": null,
      "outputs": []
    },
    {
      "cell_type": "markdown",
      "metadata": {
        "id": "UMkds8B1Bt1Z"
      },
      "source": [
        "## Suppression des colonnes ```Taille``` et ```Poids```"
      ]
    },
    {
      "cell_type": "code",
      "metadata": {
        "colab": {
          "base_uri": "https://localhost:8080/"
        },
        "id": "O5poB10WBt1b",
        "outputId": "be008814-98c8-4d43-f9ca-166b4f3b8f1b"
      },
      "source": [
        "print(f\"Taille: {dfWithoutDer.Taille.isnull().sum()}/{len(dfWithoutDer.Taille)} valeurs nulles (={dfWithoutDer.Taille.isnull().sum()/len(dfWithoutDer.Taille)*100:.2f}%)\")\n",
        "\n",
        "print(f\"Poids: {dfWithoutDer.Poids.isnull().sum()}/{len(dfWithoutDer.Poids)} valeurs nulles (={dfWithoutDer.Poids.isnull().sum()/len(dfWithoutDer.Poids)*100:.2f}%)\".format())"
      ],
      "execution_count": null,
      "outputs": [
        {
          "output_type": "stream",
          "text": [
            "Taille: 18150/36876 valeurs nulles (=49.22%)\n",
            "Poids: 11389/36876 valeurs nulles (=30.88%)\n"
          ],
          "name": "stdout"
        }
      ]
    },
    {
      "cell_type": "markdown",
      "metadata": {
        "id": "CQPIhvbZBt1e"
      },
      "source": [
        "Nous voyons qu'il y a beaucoup trop de valeur nulles. Ces deux colonnes semblent donc difficilement exploitable. Nous pouvons cependant vérifier si pour les patients toutes les valeurs sont à nulles ou s'il n'existe que quelques entrées à nulle par patient mais qu'il y en a beaucoup. Dans ce cas nous pourrions enlever les lignes contenant des valeurs nulles, ou trouver un moyen d'attribuer une valeur à la place de Nan"
      ]
    },
    {
      "cell_type": "code",
      "metadata": {
        "id": "i3Ubb3pwBt1e"
      },
      "source": [
        "dfPersonIdIndex = dfWithoutDer.set_index('person_id',drop=True).sort_index()\n",
        "dfTPGroupBy = dfPersonIdIndex.groupby('person_id')"
      ],
      "execution_count": null,
      "outputs": []
    },
    {
      "cell_type": "code",
      "metadata": {
        "tags": [],
        "colab": {
          "base_uri": "https://localhost:8080/"
        },
        "id": "C0O4-WeQBt1i",
        "outputId": "daa45f05-e55b-403f-a99f-f2e34bf1f693"
      },
      "source": [
        "maybeUseful = 0\n",
        "valeurNulle = 0\n",
        "for i,_ in dfTPGroupBy:\n",
        "    if dfPersonIdIndex.loc[i].Taille.isnull().sum() > 0:\n",
        "        valeurNulle += 1\n",
        "        if dfPersonIdIndex.loc[i].Taille.isnull().sum() < len(dfPersonIdIndex.loc[i].Taille):\n",
        "            maybeUseful += 1\n",
        "\n",
        "print(f\"Taille: {maybeUseful} / {valeurNulle} utilisables\")\n",
        "\n",
        "maybeUseful = 0\n",
        "valeurNulle = 0\n",
        "c = 0\n",
        "for i,_ in dfTPGroupBy:\n",
        "    if dfPersonIdIndex.loc[i].Poids.isnull().sum() > 0:\n",
        "        valeurNulle += 1\n",
        "        if dfPersonIdIndex.loc[i].Poids.isnull().sum() < len(dfPersonIdIndex.loc[i].Poids):\n",
        "            maybeUseful += 1\n",
        "\n",
        "print(f\"Poids: {maybeUseful} / {valeurNulle} utilisables\")"
      ],
      "execution_count": null,
      "outputs": [
        {
          "output_type": "stream",
          "text": [
            "Taille: 0 / 2219 utilisables\n",
            "Poids: 0 / 1498 utilisables\n"
          ],
          "name": "stdout"
        }
      ]
    },
    {
      "cell_type": "code",
      "metadata": {
        "tags": [],
        "colab": {
          "base_uri": "https://localhost:8080/"
        },
        "id": "0U8N89ChBt1j",
        "outputId": "f4159ac0-35c6-40e3-f5e7-22009bbdbf7e"
      },
      "source": [
        "tailleNan = 0\n",
        "poidsNan = 0\n",
        "oneOfBoth = 0\n",
        "bothNan = 0\n",
        "totalEntries = 0\n",
        "for i,_ in dfTPGroupBy:\n",
        "    totalEntries += 1\n",
        "    hasTailleNan = False\n",
        "    hasPoidsNan = False\n",
        "    if dfPersonIdIndex.loc[i].Taille.isnull().sum() != 0:\n",
        "        tailleNan += 1\n",
        "        hasTailleNan = True\n",
        "    if dfPersonIdIndex.loc[i].Poids.isnull().sum() != 0:\n",
        "        poidsNan += 1\n",
        "        hasPoidsNan = True\n",
        "    if hasTailleNan or hasPoidsNan:\n",
        "        oneOfBoth += 1\n",
        "    if hasTailleNan and hasPoidsNan:\n",
        "        bothNan += 1\n",
        "print(\" --- Statistique par Utilisateur --- \")\n",
        "print(f\"{tailleNan} / {totalEntries} ({tailleNan/totalEntries*100:.2f}%) des utilisateurs ont une valeur nulle pour la taille\")\n",
        "print(f\"{poidsNan} / {totalEntries} ({poidsNan/totalEntries*100:.2f}%) des utilisateurs ont une valeur nulle pour le poids\")\n",
        "print(f\"{oneOfBoth} / {totalEntries} ({oneOfBoth/totalEntries*100:.2f}%) des utilisateurs ont une valeur nulle pour la taille ou le poids\")\n",
        "print(f\"{bothNan} / {totalEntries} ({bothNan/totalEntries*100:.2f}%) des utilisateurs ont les deux valeurs nulle pour la taille ou le poids\")\n",
        "\n"
      ],
      "execution_count": null,
      "outputs": [
        {
          "output_type": "stream",
          "text": [
            " --- Statistique par Utilisateur --- \n",
            "2219 / 4227 (52.50%) des utilisateurs ont une valeur nulle pour la taille\n",
            "1498 / 4227 (35.44%) des utilisateurs ont une valeur nulle pour le poids\n",
            "2220 / 4227 (52.52%) des utilisateurs ont une valeur nulle pour la taille ou le poids\n",
            "1497 / 4227 (35.42%) des utilisateurs ont les deux valeurs nulle pour la taille ou le poids\n"
          ],
          "name": "stdout"
        }
      ]
    },
    {
      "cell_type": "markdown",
      "metadata": {
        "id": "M5CF4sP4Bt1k"
      },
      "source": [
        "Nous concluons de l'analyse de ces données que soit toutes les valeurs de poids et de tailles sont entrées, soit aucunes. Cela rend ces informations innexploitables et nous supprimons donc les colonnes"
      ]
    },
    {
      "cell_type": "code",
      "metadata": {
        "id": "qBEk7h-fBt1k"
      },
      "source": [
        "dfWithoutPT = dfWithoutDer.drop(['Taille', 'Poids'],axis='columns')"
      ],
      "execution_count": null,
      "outputs": []
    },
    {
      "cell_type": "markdown",
      "metadata": {
        "id": "TQsluJOxBt1l"
      },
      "source": [
        "## Suppressions diverses"
      ]
    },
    {
      "cell_type": "markdown",
      "metadata": {
        "id": "rMN5ip8jBt1r"
      },
      "source": [
        "Enfin, certaines colonnes n'apportent pas d'informations nécessaires pour la prédiction, nous choisissons de toutes les supprimer ici"
      ]
    },
    {
      "cell_type": "code",
      "metadata": {
        "colab": {
          "base_uri": "https://localhost:8080/"
        },
        "id": "wLPjLEKmBt1s",
        "outputId": "0c74b261-e3d2-4ca1-dc2b-4339bcff1798"
      },
      "source": [
        "dfWithoutPT.isnull().sum()"
      ],
      "execution_count": null,
      "outputs": [
        {
          "output_type": "execute_result",
          "data": {
            "text/plain": [
              "person_id                               0\n",
              "specialty_label                         0\n",
              "contact_date                            0\n",
              "cip                                     0\n",
              "dosage_1                                0\n",
              "dose_1                                  0\n",
              "dose_2                                  0\n",
              "product_atc_code                        0\n",
              "box                                   253\n",
              "quantity                              153\n",
              "frequency_label                       147\n",
              "duration                             5100\n",
              "Traitement_Autres_A10_dep_201701    29649\n",
              "Traitement_Insulines_dep_201701     34850\n",
              "Pulse                                   0\n",
              "Tension Diastolique                     0\n",
              "Tension Systolique                      0\n",
              "Glycemie_prescription               35937\n",
              "HbA1c_prescription                  35766\n",
              "gender_code                             0\n",
              "Age_presc                               0\n",
              "year_of_birth                           0\n",
              "first_contact_date                      0\n",
              "dtype: int64"
            ]
          },
          "metadata": {
            "tags": []
          },
          "execution_count": 15
        }
      ]
    },
    {
      "cell_type": "markdown",
      "metadata": {
        "id": "7o2HV0vqBt1t"
      },
      "source": [
        "Les colonnes restantes avec des valeurs ```Nan``` ne nous intéresse pas, nous pouvons les supprimer"
      ]
    },
    {
      "cell_type": "code",
      "metadata": {
        "id": "Goh72Y-PBt1v"
      },
      "source": [
        "nullAmount = dfWithoutPT.isnull().sum()\n",
        "\n",
        "columnNameToDrop = nullAmount[nullAmount.values > 0].index\n",
        "dfFinal = dfWithoutPT.drop(columnNameToDrop,axis='columns').drop(['cip','dosage_1','dose_1','dose_2','specialty_label','gender_code'],axis='columns')"
      ],
      "execution_count": null,
      "outputs": []
    },
    {
      "cell_type": "markdown",
      "metadata": {
        "id": "hF4hIDAOBt1w"
      },
      "source": [
        "# Traîtement des données"
      ]
    },
    {
      "cell_type": "markdown",
      "metadata": {
        "id": "KYWq5P6RBt1w"
      },
      "source": [
        "## Conversion des données"
      ]
    },
    {
      "cell_type": "markdown",
      "metadata": {
        "id": "6EH8JMyWBt1x"
      },
      "source": [
        "### Ajout du temps entre chaque visite (ce que l'on veut prédire)"
      ]
    },
    {
      "cell_type": "markdown",
      "metadata": {
        "id": "RKXnZphKBt1z"
      },
      "source": [
        "Nous créons d'abord la colonne ```wait_time``` pour qu'elle ait le type de donnée ```deltatime```. nous itèrerons plus tard sur chaque valeur de cette colonne pour lui enlever la valeur précédante pour chaque utilisateur, et ainsi avoir l'intervalle de temps entre chaque visite"
      ]
    },
    {
      "cell_type": "code",
      "metadata": {
        "tags": [],
        "id": "ZfzpABVKBt11"
      },
      "source": [
        "wait_time = dfFinal.contact_date - dfFinal.first_contact_date\n",
        "dfWithTime = dfFinal.drop('first_contact_date',axis='columns')\n",
        "dfWithTime['wait_time'] = wait_time\n",
        "dfWithTime['contactDateYear'] = dfWithTime.contact_date.dt.year\n",
        "dfWithTime['contactDateMonth'] = dfWithTime.contact_date.dt.month\n",
        "dfWithTime['contactDateDayOfYear'] = dfWithTime.contact_date.dt.dayofyear"
      ],
      "execution_count": null,
      "outputs": []
    },
    {
      "cell_type": "code",
      "metadata": {
        "colab": {
          "base_uri": "https://localhost:8080/"
        },
        "id": "R3atHvmPBt13",
        "outputId": "3d060d19-1dcc-49ae-fea1-7ac0842264de"
      },
      "source": [
        "dfWithTime"
      ],
      "execution_count": null,
      "outputs": [
        {
          "output_type": "execute_result",
          "data": {
            "text/html": [
              "<div>\n",
              "<style scoped>\n",
              "    .dataframe tbody tr th:only-of-type {\n",
              "        vertical-align: middle;\n",
              "    }\n",
              "\n",
              "    .dataframe tbody tr th {\n",
              "        vertical-align: top;\n",
              "    }\n",
              "\n",
              "    .dataframe thead th {\n",
              "        text-align: right;\n",
              "    }\n",
              "</style>\n",
              "<table border=\"1\" class=\"dataframe\">\n",
              "  <thead>\n",
              "    <tr style=\"text-align: right;\">\n",
              "      <th></th>\n",
              "      <th>person_id</th>\n",
              "      <th>contact_date</th>\n",
              "      <th>product_atc_code</th>\n",
              "      <th>Pulse</th>\n",
              "      <th>Tension Diastolique</th>\n",
              "      <th>Tension Systolique</th>\n",
              "      <th>Age_presc</th>\n",
              "      <th>year_of_birth</th>\n",
              "      <th>wait_time</th>\n",
              "      <th>contactDateYear</th>\n",
              "      <th>contactDateMonth</th>\n",
              "      <th>contactDateDayOfYear</th>\n",
              "    </tr>\n",
              "  </thead>\n",
              "  <tbody>\n",
              "    <tr>\n",
              "      <th>1</th>\n",
              "      <td>263659.0</td>\n",
              "      <td>2014-09-24</td>\n",
              "      <td>C03CA01</td>\n",
              "      <td>70.0</td>\n",
              "      <td>110.0</td>\n",
              "      <td>60.0</td>\n",
              "      <td>96.0</td>\n",
              "      <td>1918.0</td>\n",
              "      <td>6019 days</td>\n",
              "      <td>2014</td>\n",
              "      <td>9</td>\n",
              "      <td>267</td>\n",
              "    </tr>\n",
              "    <tr>\n",
              "      <th>2</th>\n",
              "      <td>263659.0</td>\n",
              "      <td>2014-09-12</td>\n",
              "      <td>C03CA01</td>\n",
              "      <td>70.0</td>\n",
              "      <td>118.0</td>\n",
              "      <td>70.0</td>\n",
              "      <td>96.0</td>\n",
              "      <td>1918.0</td>\n",
              "      <td>6007 days</td>\n",
              "      <td>2014</td>\n",
              "      <td>9</td>\n",
              "      <td>255</td>\n",
              "    </tr>\n",
              "    <tr>\n",
              "      <th>3</th>\n",
              "      <td>263659.0</td>\n",
              "      <td>2015-03-26</td>\n",
              "      <td>C03CA01</td>\n",
              "      <td>60.0</td>\n",
              "      <td>120.0</td>\n",
              "      <td>70.0</td>\n",
              "      <td>97.0</td>\n",
              "      <td>1918.0</td>\n",
              "      <td>6202 days</td>\n",
              "      <td>2015</td>\n",
              "      <td>3</td>\n",
              "      <td>85</td>\n",
              "    </tr>\n",
              "    <tr>\n",
              "      <th>4</th>\n",
              "      <td>263659.0</td>\n",
              "      <td>2015-06-05</td>\n",
              "      <td>C03CA01</td>\n",
              "      <td>60.0</td>\n",
              "      <td>120.0</td>\n",
              "      <td>70.0</td>\n",
              "      <td>97.0</td>\n",
              "      <td>1918.0</td>\n",
              "      <td>6273 days</td>\n",
              "      <td>2015</td>\n",
              "      <td>6</td>\n",
              "      <td>156</td>\n",
              "    </tr>\n",
              "    <tr>\n",
              "      <th>6</th>\n",
              "      <td>25182917.0</td>\n",
              "      <td>2013-03-27</td>\n",
              "      <td>C09XA02</td>\n",
              "      <td>64.0</td>\n",
              "      <td>145.0</td>\n",
              "      <td>85.0</td>\n",
              "      <td>63.0</td>\n",
              "      <td>1950.0</td>\n",
              "      <td>723 days</td>\n",
              "      <td>2013</td>\n",
              "      <td>3</td>\n",
              "      <td>86</td>\n",
              "    </tr>\n",
              "    <tr>\n",
              "      <th>...</th>\n",
              "      <td>...</td>\n",
              "      <td>...</td>\n",
              "      <td>...</td>\n",
              "      <td>...</td>\n",
              "      <td>...</td>\n",
              "      <td>...</td>\n",
              "      <td>...</td>\n",
              "      <td>...</td>\n",
              "      <td>...</td>\n",
              "      <td>...</td>\n",
              "      <td>...</td>\n",
              "      <td>...</td>\n",
              "    </tr>\n",
              "    <tr>\n",
              "      <th>50625</th>\n",
              "      <td>26636453.0</td>\n",
              "      <td>2016-11-16</td>\n",
              "      <td>C03CA01</td>\n",
              "      <td>60.0</td>\n",
              "      <td>120.0</td>\n",
              "      <td>60.0</td>\n",
              "      <td>79.0</td>\n",
              "      <td>1937.0</td>\n",
              "      <td>1737 days</td>\n",
              "      <td>2016</td>\n",
              "      <td>11</td>\n",
              "      <td>321</td>\n",
              "    </tr>\n",
              "    <tr>\n",
              "      <th>50627</th>\n",
              "      <td>18889430.0</td>\n",
              "      <td>2013-02-01</td>\n",
              "      <td>C03CA01</td>\n",
              "      <td>60.0</td>\n",
              "      <td>120.0</td>\n",
              "      <td>70.0</td>\n",
              "      <td>85.0</td>\n",
              "      <td>1928.0</td>\n",
              "      <td>1888 days</td>\n",
              "      <td>2013</td>\n",
              "      <td>2</td>\n",
              "      <td>32</td>\n",
              "    </tr>\n",
              "    <tr>\n",
              "      <th>50629</th>\n",
              "      <td>2222336.0</td>\n",
              "      <td>2013-07-01</td>\n",
              "      <td>C03CA01</td>\n",
              "      <td>72.0</td>\n",
              "      <td>130.0</td>\n",
              "      <td>70.0</td>\n",
              "      <td>78.0</td>\n",
              "      <td>1935.0</td>\n",
              "      <td>2685 days</td>\n",
              "      <td>2013</td>\n",
              "      <td>7</td>\n",
              "      <td>182</td>\n",
              "    </tr>\n",
              "    <tr>\n",
              "      <th>50631</th>\n",
              "      <td>11363518.0</td>\n",
              "      <td>2013-01-24</td>\n",
              "      <td>C03CA01</td>\n",
              "      <td>72.0</td>\n",
              "      <td>139.0</td>\n",
              "      <td>70.0</td>\n",
              "      <td>80.0</td>\n",
              "      <td>1933.0</td>\n",
              "      <td>5476 days</td>\n",
              "      <td>2013</td>\n",
              "      <td>1</td>\n",
              "      <td>24</td>\n",
              "    </tr>\n",
              "    <tr>\n",
              "      <th>50632</th>\n",
              "      <td>18889430.0</td>\n",
              "      <td>2013-01-24</td>\n",
              "      <td>C03CA01</td>\n",
              "      <td>72.0</td>\n",
              "      <td>120.0</td>\n",
              "      <td>70.0</td>\n",
              "      <td>85.0</td>\n",
              "      <td>1928.0</td>\n",
              "      <td>1880 days</td>\n",
              "      <td>2013</td>\n",
              "      <td>1</td>\n",
              "      <td>24</td>\n",
              "    </tr>\n",
              "  </tbody>\n",
              "</table>\n",
              "<p>36876 rows × 12 columns</p>\n",
              "</div>"
            ],
            "text/plain": [
              "        person_id contact_date  ... contactDateMonth  contactDateDayOfYear\n",
              "1        263659.0   2014-09-24  ...                9                   267\n",
              "2        263659.0   2014-09-12  ...                9                   255\n",
              "3        263659.0   2015-03-26  ...                3                    85\n",
              "4        263659.0   2015-06-05  ...                6                   156\n",
              "6      25182917.0   2013-03-27  ...                3                    86\n",
              "...           ...          ...  ...              ...                   ...\n",
              "50625  26636453.0   2016-11-16  ...               11                   321\n",
              "50627  18889430.0   2013-02-01  ...                2                    32\n",
              "50629   2222336.0   2013-07-01  ...                7                   182\n",
              "50631  11363518.0   2013-01-24  ...                1                    24\n",
              "50632  18889430.0   2013-01-24  ...                1                    24\n",
              "\n",
              "[36876 rows x 12 columns]"
            ]
          },
          "metadata": {
            "tags": []
          },
          "execution_count": 18
        }
      ]
    },
    {
      "cell_type": "markdown",
      "metadata": {
        "id": "h3jL_58lBt14"
      },
      "source": [
        "### Encodage des valeurs non numériques"
      ]
    },
    {
      "cell_type": "code",
      "metadata": {
        "id": "y8hn_E4KBt15"
      },
      "source": [
        "#specialtyEncoder = LabelEncoder()\n",
        "ATCEncoder = LabelEncoder()\n",
        "#genderEncoder = LabelEncoder()\n",
        "#dfWithTime.specialty_label = specialtyEncoder.fit_transform(dfWithTime.specialty_label)\n",
        "dfWithTime.product_atc_code = ATCEncoder.fit_transform(dfWithTime.product_atc_code)\n",
        "#dfWithTime.gender_code = genderEncoder.fit_transform(dfWithTime.gender_code)\n"
      ],
      "execution_count": null,
      "outputs": []
    },
    {
      "cell_type": "code",
      "metadata": {
        "colab": {
          "base_uri": "https://localhost:8080/"
        },
        "id": "pFqWHYlKBt15",
        "outputId": "75e92d5f-b0c0-4542-ddbc-4692032d85ff"
      },
      "source": [
        "dfWithTime.hist()"
      ],
      "execution_count": null,
      "outputs": [
        {
          "output_type": "execute_result",
          "data": {
            "text/plain": [
              "array([[<matplotlib.axes._subplots.AxesSubplot object at 0x7f7c8971ad30>,\n",
              "        <matplotlib.axes._subplots.AxesSubplot object at 0x7f7c8958afd0>,\n",
              "        <matplotlib.axes._subplots.AxesSubplot object at 0x7f7c8963a278>],\n",
              "       [<matplotlib.axes._subplots.AxesSubplot object at 0x7f7c8961d4e0>,\n",
              "        <matplotlib.axes._subplots.AxesSubplot object at 0x7f7c896e6748>,\n",
              "        <matplotlib.axes._subplots.AxesSubplot object at 0x7f7c895169b0>],\n",
              "       [<matplotlib.axes._subplots.AxesSubplot object at 0x7f7c894c8c18>,\n",
              "        <matplotlib.axes._subplots.AxesSubplot object at 0x7f7c894f9e48>,\n",
              "        <matplotlib.axes._subplots.AxesSubplot object at 0x7f7c894f9eb8>],\n",
              "       [<matplotlib.axes._subplots.AxesSubplot object at 0x7f7c89465390>,\n",
              "        <matplotlib.axes._subplots.AxesSubplot object at 0x7f7c894175f8>,\n",
              "        <matplotlib.axes._subplots.AxesSubplot object at 0x7f7c893cb860>]],\n",
              "      dtype=object)"
            ]
          },
          "metadata": {
            "tags": []
          },
          "execution_count": 20
        },
        {
          "output_type": "display_data",
          "data": {
            "image/png": "[encoded data removed]",
            "text/plain": [
              "<Figure size 432x288 with 12 Axes>"
            ]
          },
          "metadata": {
            "tags": [],
            "needs_background": "light"
          }
        }
      ]
    },
    {
      "cell_type": "markdown",
      "metadata": {
        "id": "-vTDeultBt18"
      },
      "source": [
        "### Conversion en ```TimeSeries```"
      ]
    },
    {
      "cell_type": "markdown",
      "metadata": {
        "id": "NNSctfnIBt2M"
      },
      "source": [
        "Nous définissons simplement le nouvel index comme la colonne donnant l'intervalle de temps entre chaque visite."
      ]
    },
    {
      "cell_type": "code",
      "metadata": {
        "colab": {
          "base_uri": "https://localhost:8080/"
        },
        "id": "l-sfO2RZBt2N",
        "outputId": "d7bb9212-e12a-4b94-a9ac-bc68911142ad"
      },
      "source": [
        "ts = dfWithTime.set_index(['person_id','contact_date']).sort_index()\n",
        "ts"
      ],
      "execution_count": null,
      "outputs": [
        {
          "output_type": "execute_result",
          "data": {
            "text/html": [
              "<div>\n",
              "<style scoped>\n",
              "    .dataframe tbody tr th:only-of-type {\n",
              "        vertical-align: middle;\n",
              "    }\n",
              "\n",
              "    .dataframe tbody tr th {\n",
              "        vertical-align: top;\n",
              "    }\n",
              "\n",
              "    .dataframe thead th {\n",
              "        text-align: right;\n",
              "    }\n",
              "</style>\n",
              "<table border=\"1\" class=\"dataframe\">\n",
              "  <thead>\n",
              "    <tr style=\"text-align: right;\">\n",
              "      <th></th>\n",
              "      <th></th>\n",
              "      <th>product_atc_code</th>\n",
              "      <th>Pulse</th>\n",
              "      <th>Tension Diastolique</th>\n",
              "      <th>Tension Systolique</th>\n",
              "      <th>Age_presc</th>\n",
              "      <th>year_of_birth</th>\n",
              "      <th>wait_time</th>\n",
              "      <th>contactDateYear</th>\n",
              "      <th>contactDateMonth</th>\n",
              "      <th>contactDateDayOfYear</th>\n",
              "    </tr>\n",
              "    <tr>\n",
              "      <th>person_id</th>\n",
              "      <th>contact_date</th>\n",
              "      <th></th>\n",
              "      <th></th>\n",
              "      <th></th>\n",
              "      <th></th>\n",
              "      <th></th>\n",
              "      <th></th>\n",
              "      <th></th>\n",
              "      <th></th>\n",
              "      <th></th>\n",
              "      <th></th>\n",
              "    </tr>\n",
              "  </thead>\n",
              "  <tbody>\n",
              "    <tr>\n",
              "      <th rowspan=\"5\" valign=\"top\">291.0</th>\n",
              "      <th>2016-10-28</th>\n",
              "      <td>10</td>\n",
              "      <td>72.0</td>\n",
              "      <td>130.0</td>\n",
              "      <td>60.0</td>\n",
              "      <td>86.0</td>\n",
              "      <td>1930.0</td>\n",
              "      <td>6603 days</td>\n",
              "      <td>2016</td>\n",
              "      <td>10</td>\n",
              "      <td>302</td>\n",
              "    </tr>\n",
              "    <tr>\n",
              "      <th>2016-11-04</th>\n",
              "      <td>10</td>\n",
              "      <td>68.0</td>\n",
              "      <td>142.0</td>\n",
              "      <td>65.0</td>\n",
              "      <td>86.0</td>\n",
              "      <td>1930.0</td>\n",
              "      <td>6610 days</td>\n",
              "      <td>2016</td>\n",
              "      <td>11</td>\n",
              "      <td>309</td>\n",
              "    </tr>\n",
              "    <tr>\n",
              "      <th>2016-11-21</th>\n",
              "      <td>10</td>\n",
              "      <td>84.0</td>\n",
              "      <td>140.0</td>\n",
              "      <td>75.0</td>\n",
              "      <td>86.0</td>\n",
              "      <td>1930.0</td>\n",
              "      <td>6627 days</td>\n",
              "      <td>2016</td>\n",
              "      <td>11</td>\n",
              "      <td>326</td>\n",
              "    </tr>\n",
              "    <tr>\n",
              "      <th>2017-01-16</th>\n",
              "      <td>10</td>\n",
              "      <td>84.0</td>\n",
              "      <td>125.0</td>\n",
              "      <td>70.0</td>\n",
              "      <td>87.0</td>\n",
              "      <td>1930.0</td>\n",
              "      <td>6683 days</td>\n",
              "      <td>2017</td>\n",
              "      <td>1</td>\n",
              "      <td>16</td>\n",
              "    </tr>\n",
              "    <tr>\n",
              "      <th>2017-11-20</th>\n",
              "      <td>10</td>\n",
              "      <td>92.0</td>\n",
              "      <td>115.0</td>\n",
              "      <td>60.0</td>\n",
              "      <td>87.0</td>\n",
              "      <td>1930.0</td>\n",
              "      <td>6991 days</td>\n",
              "      <td>2017</td>\n",
              "      <td>11</td>\n",
              "      <td>324</td>\n",
              "    </tr>\n",
              "    <tr>\n",
              "      <th>...</th>\n",
              "      <th>...</th>\n",
              "      <td>...</td>\n",
              "      <td>...</td>\n",
              "      <td>...</td>\n",
              "      <td>...</td>\n",
              "      <td>...</td>\n",
              "      <td>...</td>\n",
              "      <td>...</td>\n",
              "      <td>...</td>\n",
              "      <td>...</td>\n",
              "      <td>...</td>\n",
              "    </tr>\n",
              "    <tr>\n",
              "      <th rowspan=\"5\" valign=\"top\">34823672.0</th>\n",
              "      <th>2017-04-15</th>\n",
              "      <td>8</td>\n",
              "      <td>68.0</td>\n",
              "      <td>140.0</td>\n",
              "      <td>60.0</td>\n",
              "      <td>73.0</td>\n",
              "      <td>1944.0</td>\n",
              "      <td>0 days</td>\n",
              "      <td>2017</td>\n",
              "      <td>4</td>\n",
              "      <td>105</td>\n",
              "    </tr>\n",
              "    <tr>\n",
              "      <th>2017-06-26</th>\n",
              "      <td>8</td>\n",
              "      <td>74.0</td>\n",
              "      <td>130.0</td>\n",
              "      <td>70.0</td>\n",
              "      <td>73.0</td>\n",
              "      <td>1944.0</td>\n",
              "      <td>72 days</td>\n",
              "      <td>2017</td>\n",
              "      <td>6</td>\n",
              "      <td>177</td>\n",
              "    </tr>\n",
              "    <tr>\n",
              "      <th>2017-08-30</th>\n",
              "      <td>8</td>\n",
              "      <td>80.0</td>\n",
              "      <td>130.0</td>\n",
              "      <td>70.0</td>\n",
              "      <td>73.0</td>\n",
              "      <td>1944.0</td>\n",
              "      <td>137 days</td>\n",
              "      <td>2017</td>\n",
              "      <td>8</td>\n",
              "      <td>242</td>\n",
              "    </tr>\n",
              "    <tr>\n",
              "      <th>2017-09-11</th>\n",
              "      <td>8</td>\n",
              "      <td>74.0</td>\n",
              "      <td>140.0</td>\n",
              "      <td>80.0</td>\n",
              "      <td>73.0</td>\n",
              "      <td>1944.0</td>\n",
              "      <td>149 days</td>\n",
              "      <td>2017</td>\n",
              "      <td>9</td>\n",
              "      <td>254</td>\n",
              "    </tr>\n",
              "    <tr>\n",
              "      <th>2018-08-02</th>\n",
              "      <td>8</td>\n",
              "      <td>78.0</td>\n",
              "      <td>130.0</td>\n",
              "      <td>70.0</td>\n",
              "      <td>74.0</td>\n",
              "      <td>1944.0</td>\n",
              "      <td>474 days</td>\n",
              "      <td>2018</td>\n",
              "      <td>8</td>\n",
              "      <td>214</td>\n",
              "    </tr>\n",
              "  </tbody>\n",
              "</table>\n",
              "<p>36876 rows × 10 columns</p>\n",
              "</div>"
            ],
            "text/plain": [
              "                         product_atc_code  ...  contactDateDayOfYear\n",
              "person_id  contact_date                    ...                      \n",
              "291.0      2016-10-28                  10  ...                   302\n",
              "           2016-11-04                  10  ...                   309\n",
              "           2016-11-21                  10  ...                   326\n",
              "           2017-01-16                  10  ...                    16\n",
              "           2017-11-20                  10  ...                   324\n",
              "...                                   ...  ...                   ...\n",
              "34823672.0 2017-04-15                   8  ...                   105\n",
              "           2017-06-26                   8  ...                   177\n",
              "           2017-08-30                   8  ...                   242\n",
              "           2017-09-11                   8  ...                   254\n",
              "           2018-08-02                   8  ...                   214\n",
              "\n",
              "[36876 rows x 10 columns]"
            ]
          },
          "metadata": {
            "tags": []
          },
          "execution_count": 21
        }
      ]
    },
    {
      "cell_type": "markdown",
      "metadata": {
        "id": "3RwhcepIBt2P"
      },
      "source": [
        "### Attribution des bonnes valeurs de ```time_wait```"
      ]
    },
    {
      "cell_type": "code",
      "metadata": {
        "colab": {
          "base_uri": "https://localhost:8080/"
        },
        "id": "Pl_F60Q4Bt2Q",
        "outputId": "e0fd1701-525c-4406-d84c-16c095c65ebd"
      },
      "source": [
        "tsWithTime = ts.copy()\n",
        "for i,_ in ts.groupby('person_id'):\n",
        "    len_ = len(ts.loc[i])\n",
        "    tsWithTime.loc[i].wait_time[1:len_] = pd.Series(ts.loc[i].wait_time.to_numpy()[1:len_] - ts.loc[i].wait_time.to_numpy()[:len_-1])\n",
        "    tsWithTime.loc[i].wait_time[0] = pd.Timedelta(0)"
      ],
      "execution_count": null,
      "outputs": [
        {
          "output_type": "stream",
          "text": [
            "/usr/local/lib/python3.6/dist-packages/pandas/core/series.py:1027: SettingWithCopyWarning: \n",
            "A value is trying to be set on a copy of a slice from a DataFrame\n",
            "\n",
            "See the caveats in the documentation: https://pandas.pydata.org/pandas-docs/stable/user_guide/indexing.html#returning-a-view-versus-a-copy\n",
            "  self._set_with(key, value)\n",
            "/usr/local/lib/python3.6/dist-packages/IPython/core/interactiveshell.py:2882: SettingWithCopyWarning: \n",
            "A value is trying to be set on a copy of a slice from a DataFrame\n",
            "\n",
            "See the caveats in the documentation: https://pandas.pydata.org/pandas-docs/stable/user_guide/indexing.html#returning-a-view-versus-a-copy\n",
            "  exec(code_obj, self.user_global_ns, self.user_ns)\n"
          ],
          "name": "stderr"
        }
      ]
    },
    {
      "cell_type": "code",
      "metadata": {
        "colab": {
          "base_uri": "https://localhost:8080/"
        },
        "id": "6Mm-y9aPBt2Q",
        "outputId": "758aea25-e958-4596-fcb4-3123e3817ba5"
      },
      "source": [
        "tsWithTimeNumber = tsWithTime.copy()\n",
        "tsWithTimeNumber.wait_time = tsWithTime.wait_time.dt.days\n",
        "tsWithTimeNumber['wait_time_days'] = tsWithTime.wait_time.dt.days\n",
        "tsWithTimeNumber['wait_time_weeks'] = (tsWithTime.wait_time.dt.days / 7).astype(int)\n",
        "tsWithTimeNumber.wait_time.describe()"
      ],
      "execution_count": null,
      "outputs": [
        {
          "output_type": "execute_result",
          "data": {
            "text/plain": [
              "count    36876.000000\n",
              "mean       104.590520\n",
              "std        122.973534\n",
              "min          0.000000\n",
              "25%         26.000000\n",
              "50%         76.000000\n",
              "75%        139.000000\n",
              "max       2825.000000\n",
              "Name: wait_time, dtype: float64"
            ]
          },
          "metadata": {
            "tags": []
          },
          "execution_count": 23
        }
      ]
    },
    {
      "cell_type": "code",
      "metadata": {
        "colab": {
          "base_uri": "https://localhost:8080/"
        },
        "id": "TI5n1JdkBt2R",
        "outputId": "d8f2e316-79fc-4543-b13f-c5f303898710"
      },
      "source": [
        "tsWithGoodTime = tsWithTimeNumber[tsWithTimeNumber.wait_time.values <= 300]\n",
        "tsWithGoodTime.wait_time.describe()"
      ],
      "execution_count": null,
      "outputs": [
        {
          "output_type": "execute_result",
          "data": {
            "text/plain": [
              "count    34546.00000\n",
              "mean        81.39967\n",
              "std         73.03593\n",
              "min          0.00000\n",
              "25%         23.00000\n",
              "50%         67.00000\n",
              "75%        118.00000\n",
              "max        300.00000\n",
              "Name: wait_time, dtype: float64"
            ]
          },
          "metadata": {
            "tags": []
          },
          "execution_count": 24
        }
      ]
    },
    {
      "cell_type": "markdown",
      "metadata": {
        "id": "lVPV96Q4Bt2S"
      },
      "source": [
        "### Transformation de ```wait_time``` en valeur numérique"
      ]
    },
    {
      "cell_type": "code",
      "metadata": {
        "colab": {
          "base_uri": "https://localhost:8080/"
        },
        "id": "oVBztqi1Bt2S",
        "outputId": "dfd1181b-5a7d-4cfa-d61f-a4ccb37b4309"
      },
      "source": [
        "tsWithTimeMonth = tsWithGoodTime.copy()\n",
        "tsWithTimeMonth.wait_time = (tsWithGoodTime.wait_time / 30).astype(int)\n",
        "tsWithTimeMonth.wait_time[tsWithTimeMonth.wait_time >= 4] = 4\n",
        "tsWithTimeMonth"
      ],
      "execution_count": null,
      "outputs": [
        {
          "output_type": "stream",
          "text": [
            "/usr/local/lib/python3.6/dist-packages/ipykernel_launcher.py:3: SettingWithCopyWarning: \n",
            "A value is trying to be set on a copy of a slice from a DataFrame\n",
            "\n",
            "See the caveats in the documentation: https://pandas.pydata.org/pandas-docs/stable/user_guide/indexing.html#returning-a-view-versus-a-copy\n",
            "  This is separate from the ipykernel package so we can avoid doing imports until\n"
          ],
          "name": "stderr"
        },
        {
          "output_type": "execute_result",
          "data": {
            "text/html": [
              "<div>\n",
              "<style scoped>\n",
              "    .dataframe tbody tr th:only-of-type {\n",
              "        vertical-align: middle;\n",
              "    }\n",
              "\n",
              "    .dataframe tbody tr th {\n",
              "        vertical-align: top;\n",
              "    }\n",
              "\n",
              "    .dataframe thead th {\n",
              "        text-align: right;\n",
              "    }\n",
              "</style>\n",
              "<table border=\"1\" class=\"dataframe\">\n",
              "  <thead>\n",
              "    <tr style=\"text-align: right;\">\n",
              "      <th></th>\n",
              "      <th></th>\n",
              "      <th>product_atc_code</th>\n",
              "      <th>Pulse</th>\n",
              "      <th>Tension Diastolique</th>\n",
              "      <th>Tension Systolique</th>\n",
              "      <th>Age_presc</th>\n",
              "      <th>year_of_birth</th>\n",
              "      <th>wait_time</th>\n",
              "      <th>contactDateYear</th>\n",
              "      <th>contactDateMonth</th>\n",
              "      <th>contactDateDayOfYear</th>\n",
              "      <th>wait_time_days</th>\n",
              "      <th>wait_time_weeks</th>\n",
              "    </tr>\n",
              "    <tr>\n",
              "      <th>person_id</th>\n",
              "      <th>contact_date</th>\n",
              "      <th></th>\n",
              "      <th></th>\n",
              "      <th></th>\n",
              "      <th></th>\n",
              "      <th></th>\n",
              "      <th></th>\n",
              "      <th></th>\n",
              "      <th></th>\n",
              "      <th></th>\n",
              "      <th></th>\n",
              "      <th></th>\n",
              "      <th></th>\n",
              "    </tr>\n",
              "  </thead>\n",
              "  <tbody>\n",
              "    <tr>\n",
              "      <th rowspan=\"5\" valign=\"top\">291.0</th>\n",
              "      <th>2016-10-28</th>\n",
              "      <td>10</td>\n",
              "      <td>72.0</td>\n",
              "      <td>130.0</td>\n",
              "      <td>60.0</td>\n",
              "      <td>86.0</td>\n",
              "      <td>1930.0</td>\n",
              "      <td>0</td>\n",
              "      <td>2016</td>\n",
              "      <td>10</td>\n",
              "      <td>302</td>\n",
              "      <td>0</td>\n",
              "      <td>0</td>\n",
              "    </tr>\n",
              "    <tr>\n",
              "      <th>2016-11-04</th>\n",
              "      <td>10</td>\n",
              "      <td>68.0</td>\n",
              "      <td>142.0</td>\n",
              "      <td>65.0</td>\n",
              "      <td>86.0</td>\n",
              "      <td>1930.0</td>\n",
              "      <td>0</td>\n",
              "      <td>2016</td>\n",
              "      <td>11</td>\n",
              "      <td>309</td>\n",
              "      <td>7</td>\n",
              "      <td>1</td>\n",
              "    </tr>\n",
              "    <tr>\n",
              "      <th>2016-11-21</th>\n",
              "      <td>10</td>\n",
              "      <td>84.0</td>\n",
              "      <td>140.0</td>\n",
              "      <td>75.0</td>\n",
              "      <td>86.0</td>\n",
              "      <td>1930.0</td>\n",
              "      <td>0</td>\n",
              "      <td>2016</td>\n",
              "      <td>11</td>\n",
              "      <td>326</td>\n",
              "      <td>17</td>\n",
              "      <td>2</td>\n",
              "    </tr>\n",
              "    <tr>\n",
              "      <th>2017-01-16</th>\n",
              "      <td>10</td>\n",
              "      <td>84.0</td>\n",
              "      <td>125.0</td>\n",
              "      <td>70.0</td>\n",
              "      <td>87.0</td>\n",
              "      <td>1930.0</td>\n",
              "      <td>1</td>\n",
              "      <td>2017</td>\n",
              "      <td>1</td>\n",
              "      <td>16</td>\n",
              "      <td>56</td>\n",
              "      <td>8</td>\n",
              "    </tr>\n",
              "    <tr>\n",
              "      <th>2018-01-19</th>\n",
              "      <td>10</td>\n",
              "      <td>84.0</td>\n",
              "      <td>130.0</td>\n",
              "      <td>70.0</td>\n",
              "      <td>88.0</td>\n",
              "      <td>1930.0</td>\n",
              "      <td>2</td>\n",
              "      <td>2018</td>\n",
              "      <td>1</td>\n",
              "      <td>19</td>\n",
              "      <td>60</td>\n",
              "      <td>8</td>\n",
              "    </tr>\n",
              "    <tr>\n",
              "      <th>...</th>\n",
              "      <th>...</th>\n",
              "      <td>...</td>\n",
              "      <td>...</td>\n",
              "      <td>...</td>\n",
              "      <td>...</td>\n",
              "      <td>...</td>\n",
              "      <td>...</td>\n",
              "      <td>...</td>\n",
              "      <td>...</td>\n",
              "      <td>...</td>\n",
              "      <td>...</td>\n",
              "      <td>...</td>\n",
              "      <td>...</td>\n",
              "    </tr>\n",
              "    <tr>\n",
              "      <th>34782602.0</th>\n",
              "      <th>2018-02-14</th>\n",
              "      <td>8</td>\n",
              "      <td>84.0</td>\n",
              "      <td>120.0</td>\n",
              "      <td>60.0</td>\n",
              "      <td>69.0</td>\n",
              "      <td>1949.0</td>\n",
              "      <td>2</td>\n",
              "      <td>2018</td>\n",
              "      <td>2</td>\n",
              "      <td>45</td>\n",
              "      <td>76</td>\n",
              "      <td>10</td>\n",
              "    </tr>\n",
              "    <tr>\n",
              "      <th rowspan=\"4\" valign=\"top\">34823672.0</th>\n",
              "      <th>2017-04-15</th>\n",
              "      <td>8</td>\n",
              "      <td>68.0</td>\n",
              "      <td>140.0</td>\n",
              "      <td>60.0</td>\n",
              "      <td>73.0</td>\n",
              "      <td>1944.0</td>\n",
              "      <td>0</td>\n",
              "      <td>2017</td>\n",
              "      <td>4</td>\n",
              "      <td>105</td>\n",
              "      <td>0</td>\n",
              "      <td>0</td>\n",
              "    </tr>\n",
              "    <tr>\n",
              "      <th>2017-06-26</th>\n",
              "      <td>8</td>\n",
              "      <td>74.0</td>\n",
              "      <td>130.0</td>\n",
              "      <td>70.0</td>\n",
              "      <td>73.0</td>\n",
              "      <td>1944.0</td>\n",
              "      <td>2</td>\n",
              "      <td>2017</td>\n",
              "      <td>6</td>\n",
              "      <td>177</td>\n",
              "      <td>72</td>\n",
              "      <td>10</td>\n",
              "    </tr>\n",
              "    <tr>\n",
              "      <th>2017-08-30</th>\n",
              "      <td>8</td>\n",
              "      <td>80.0</td>\n",
              "      <td>130.0</td>\n",
              "      <td>70.0</td>\n",
              "      <td>73.0</td>\n",
              "      <td>1944.0</td>\n",
              "      <td>2</td>\n",
              "      <td>2017</td>\n",
              "      <td>8</td>\n",
              "      <td>242</td>\n",
              "      <td>65</td>\n",
              "      <td>9</td>\n",
              "    </tr>\n",
              "    <tr>\n",
              "      <th>2017-09-11</th>\n",
              "      <td>8</td>\n",
              "      <td>74.0</td>\n",
              "      <td>140.0</td>\n",
              "      <td>80.0</td>\n",
              "      <td>73.0</td>\n",
              "      <td>1944.0</td>\n",
              "      <td>0</td>\n",
              "      <td>2017</td>\n",
              "      <td>9</td>\n",
              "      <td>254</td>\n",
              "      <td>12</td>\n",
              "      <td>1</td>\n",
              "    </tr>\n",
              "  </tbody>\n",
              "</table>\n",
              "<p>34546 rows × 12 columns</p>\n",
              "</div>"
            ],
            "text/plain": [
              "                         product_atc_code  ...  wait_time_weeks\n",
              "person_id  contact_date                    ...                 \n",
              "291.0      2016-10-28                  10  ...                0\n",
              "           2016-11-04                  10  ...                1\n",
              "           2016-11-21                  10  ...                2\n",
              "           2017-01-16                  10  ...                8\n",
              "           2018-01-19                  10  ...                8\n",
              "...                                   ...  ...              ...\n",
              "34782602.0 2018-02-14                   8  ...               10\n",
              "34823672.0 2017-04-15                   8  ...                0\n",
              "           2017-06-26                   8  ...               10\n",
              "           2017-08-30                   8  ...                9\n",
              "           2017-09-11                   8  ...                1\n",
              "\n",
              "[34546 rows x 12 columns]"
            ]
          },
          "metadata": {
            "tags": []
          },
          "execution_count": 25
        }
      ]
    },
    {
      "cell_type": "code",
      "metadata": {
        "colab": {
          "base_uri": "https://localhost:8080/"
        },
        "id": "wCRtoAoKBt2S",
        "outputId": "f80890da-67af-4d81-9103-548c05888896"
      },
      "source": [
        "tsResetIndex = tsWithTimeMonth.copy()\n",
        "tsResetIndex = tsResetIndex.reset_index()\n",
        "print( tsResetIndex )\n",
        "tsValueCounts = tsResetIndex.person_id.value_counts()\n",
        "tsIndexed = tsResetIndex[tsResetIndex.person_id.isin(tsValueCounts[tsValueCounts.values >= VISIT_NUMBER].index)]"
      ],
      "execution_count": null,
      "outputs": [
        {
          "output_type": "stream",
          "text": [
            "        person_id contact_date  ...  wait_time_days  wait_time_weeks\n",
            "0           291.0   2016-10-28  ...               0                0\n",
            "1           291.0   2016-11-04  ...               7                1\n",
            "2           291.0   2016-11-21  ...              17                2\n",
            "3           291.0   2017-01-16  ...              56                8\n",
            "4           291.0   2018-01-19  ...              60                8\n",
            "...           ...          ...  ...             ...              ...\n",
            "34541  34782602.0   2018-02-14  ...              76               10\n",
            "34542  34823672.0   2017-04-15  ...               0                0\n",
            "34543  34823672.0   2017-06-26  ...              72               10\n",
            "34544  34823672.0   2017-08-30  ...              65                9\n",
            "34545  34823672.0   2017-09-11  ...              12                1\n",
            "\n",
            "[34546 rows x 14 columns]\n"
          ],
          "name": "stdout"
        }
      ]
    },
    {
      "cell_type": "code",
      "metadata": {
        "id": "tRvgwfR_Bt2T"
      },
      "source": [
        "atcCodeValues = tsWithTimeMonth.product_atc_code\n",
        "waitTimeValues = tsWithTimeMonth.wait_time\n",
        "\n",
        "tsFinal = pd.concat([tsWithTimeMonth,pd.get_dummies(atcCodeValues),pd.get_dummies(waitTimeValues)],axis='columns').drop(['product_atc_code','wait_time'],axis='columns')"
      ],
      "execution_count": null,
      "outputs": []
    },
    {
      "cell_type": "markdown",
      "metadata": {
        "id": "IWKL9H2sBt2T"
      },
      "source": [
        "# Prediction"
      ]
    },
    {
      "cell_type": "markdown",
      "metadata": {
        "id": "MQR1Tee5Bt2U"
      },
      "source": [
        "## Creating train/test dataset"
      ]
    },
    {
      "cell_type": "code",
      "metadata": {
        "id": "ZNGylZ-BFdkj"
      },
      "source": [
        "VISIT_THRESHOLD = 6\n",
        "yColumnNames = ['product_atc_code', 'wait_time']"
      ],
      "execution_count": null,
      "outputs": []
    },
    {
      "cell_type": "code",
      "metadata": {
        "id": "F1dhv-hjBb4y"
      },
      "source": [
        "xTrainData, yTrainData,xTestData, yTestData = [],[],[],[]\n",
        "\n",
        "for i,_ in tsWithTimeMonth.groupby('person_id'):\n",
        "    currentSeriesX = tsFinal.loc[i].to_numpy().astype('float32')\n",
        "    currentSeriesY = tsWithTimeMonth.loc[i][yColumnNames].to_numpy().astype('float32')\n",
        "    for j in range(0,len(currentSeriesX)-VISIT_THRESHOLD+1):\n",
        "        xData = currentSeriesX[j:j+VISIT_THRESHOLD][:-1]\n",
        "        yData = currentSeriesY[j:j+VISIT_THRESHOLD][-1:]\n",
        "        if len(currentSeriesX) <= VISIT_THRESHOLD+2:\n",
        "            xTestData.append(xData)\n",
        "            yTestData.append(yData)\n",
        "        else:\n",
        "            xTrainData.append(xData)\n",
        "            yTrainData.append(yData)"
      ],
      "execution_count": null,
      "outputs": []
    },
    {
      "cell_type": "code",
      "metadata": {
        "id": "g6jmr4NbBt2W"
      },
      "source": [
        "xTrain = np.array(xTrainData).reshape(len(xTrainData),1,xTrainData[0].shape[0],xTrainData[0].shape[1])\n",
        "yTrain = np.array(yTrainData).reshape(len(yTrainData),yTrainData[0].shape[0],yTrainData[0].shape[1])\n",
        "\n",
        "xTest = np.array(xTestData).reshape(len(xTestData),1,xTestData[0].shape[0],xTestData[0].shape[1])\n",
        "yTest = np.array(yTestData).reshape(len(yTestData),yTestData[0].shape[0],yTestData[0].shape[1])"
      ],
      "execution_count": null,
      "outputs": []
    },
    {
      "cell_type": "code",
      "metadata": {
        "colab": {
          "base_uri": "https://localhost:8080/"
        },
        "id": "NTsY1D8RBb40",
        "outputId": "87e2ff39-0f9e-46f2-8b13-4d9adfa6a1aa"
      },
      "source": [
        "print(f\"Data for training: {xTrain.shape[0]}\")\n",
        "print(f\"Data for validation and test: {xTest.shape[0]}\")"
      ],
      "execution_count": null,
      "outputs": [
        {
          "output_type": "stream",
          "text": [
            "Data for training: 12749\n",
            "Data for validation and test: 2425\n"
          ],
          "name": "stdout"
        }
      ]
    },
    {
      "cell_type": "markdown",
      "metadata": {
        "id": "KEGSOnZbBt24"
      },
      "source": [
        "## Model creation"
      ]
    },
    {
      "cell_type": "code",
      "metadata": {
        "id": "RQZxFb_uQ41F"
      },
      "source": [
        "ATC_CODE = 0\n",
        "WAIT_TIME = 1"
      ],
      "execution_count": null,
      "outputs": []
    },
    {
      "cell_type": "code",
      "metadata": {
        "id": "x39nE35CFdkp"
      },
      "source": [
        "YTrain = {\n",
        "    'outputATC' : yTrain[:,:,ATC_CODE],\n",
        "    'outputWaitTime' : yTrain[:,:,WAIT_TIME]\n",
        "}\n",
        "\n",
        "valNum = int(xTest.shape[0] * 0.8)\n",
        "\n",
        "XVal = xTest[:valNum]\n",
        "YVal = {\n",
        "    'outputATC' : yTest[:valNum,:,ATC_CODE],\n",
        "    'outputWaitTime' : yTest[:valNum,:,WAIT_TIME]   \n",
        "}\n",
        "\n",
        "XTest = xTest[valNum:]\n",
        "YTest = {\n",
        "    'outputATC' : yTest[valNum:,:,ATC_CODE],\n",
        "    'outputWaitTime' : yTest[valNum:,:,WAIT_TIME]\n",
        "}"
      ],
      "execution_count": null,
      "outputs": []
    },
    {
      "cell_type": "code",
      "metadata": {
        "id": "jpt1aG_WOwW8",
        "colab": {
          "base_uri": "https://localhost:8080/"
        },
        "outputId": "89f9b50d-5081-4b16-ff88-d7c6f5778537"
      },
      "source": [
        "print(f\"Train. . . . X: {xTrain.shape} --- Y: {yTrain.shape}\")\n",
        "print(f\"Validation . X: {XVal.shape} --- Y: {YVal['outputATC'].shape}\")\n",
        "print(f\"Test . . . . X: {XTest.shape} --- Y: {YTest['outputATC'].shape}\")"
      ],
      "execution_count": null,
      "outputs": [
        {
          "output_type": "stream",
          "text": [
            "Train. . . . X: (12749, 1, 5, 48) --- Y: (12749, 1, 2)\n",
            "Validation . X: (1940, 1, 5, 48) --- Y: (1940, 1)\n",
            "Test . . . . X: (485, 1, 5, 48) --- Y: (485, 1)\n"
          ],
          "name": "stdout"
        }
      ]
    },
    {
      "cell_type": "code",
      "metadata": {
        "id": "_2hDfUUBFdko"
      },
      "source": [
        "inputs = Input(shape=xTrain.shape[-3:])\n",
        "x = layers.Conv1D(filters=64,kernel_size=3)(inputs)\n",
        "x = layers.LeakyReLU()(x)\n",
        "x = layers.Conv1D(filters=64,kernel_size=2)(x)\n",
        "x = layers.LeakyReLU()(x)\n",
        "x = layers.Flatten()(x)\n",
        "x = layers.Dense(128)(x)\n",
        "x = layers.LeakyReLU()(x)\n",
        "\n",
        "atcDense = layers.Dense(64)(x)\n",
        "atcDense = layers.LeakyReLU()(atcDense)\n",
        "atcOutputs = layers.Dense(units=len(ATCEncoder.classes_),activation='softmax',name='outputATC')(atcDense)\n",
        "\n",
        "wtDense = layers.Dense(64)(x)\n",
        "wtDense = layers.LeakyReLU()(wtDense)\n",
        "waitTimeOutputs = layers.Dense(units=tsWithTimeMonth.wait_time.max()+1,activation='softmax',name='outputWaitTime')(wtDense)\n",
        "\n",
        "model = Model(inputs=inputs,outputs=[atcOutputs,waitTimeOutputs],name=\"NiceCNN\")"
      ],
      "execution_count": null,
      "outputs": []
    },
    {
      "cell_type": "code",
      "metadata": {
        "id": "4LCBSaWfBt2-",
        "colab": {
          "base_uri": "https://localhost:8080/"
        },
        "outputId": "de82435d-b5b9-44cf-dd81-f6ca741cdb49"
      },
      "source": [
        "model.summary()"
      ],
      "execution_count": null,
      "outputs": [
        {
          "output_type": "stream",
          "text": [
            "Model: \"NiceCNN\"\n",
            "__________________________________________________________________________________________________\n",
            "Layer (type)                    Output Shape         Param #     Connected to                     \n",
            "==================================================================================================\n",
            "input_1 (InputLayer)            [(None, 1, 5, 48)]   0                                            \n",
            "__________________________________________________________________________________________________\n",
            "conv1d (Conv1D)                 (None, 1, 3, 64)     9280        input_1[0][0]                    \n",
            "__________________________________________________________________________________________________\n",
            "conv1d_1 (Conv1D)               (None, 1, 2, 64)     8256        conv1d[0][0]                     \n",
            "__________________________________________________________________________________________________\n",
            "flatten (Flatten)               (None, 128)          0           conv1d_1[0][0]                   \n",
            "__________________________________________________________________________________________________\n",
            "dense (Dense)                   (None, 32)           4128        flatten[0][0]                    \n",
            "__________________________________________________________________________________________________\n",
            "outputATC (Dense)               (None, 33)           1089        dense[0][0]                      \n",
            "__________________________________________________________________________________________________\n",
            "outputWaitTime (Dense)          (None, 5)            165         dense[0][0]                      \n",
            "==================================================================================================\n",
            "Total params: 22,918\n",
            "Trainable params: 22,918\n",
            "Non-trainable params: 0\n",
            "__________________________________________________________________________________________________\n"
          ],
          "name": "stdout"
        }
      ]
    },
    {
      "cell_type": "code",
      "metadata": {
        "id": "qxslPST3Bt2-"
      },
      "source": [
        "model.compile(optimizer=tf.keras.optimizers.Adam(learning_rate=1e-3),loss='sparse_categorical_crossentropy',metrics=['accuracy'])"
      ],
      "execution_count": null,
      "outputs": []
    },
    {
      "cell_type": "code",
      "metadata": {
        "id": "TR-MAv4VBt2_",
        "tags": []
      },
      "source": [
        "#history = model.fit(xTrain,YTrain,epochs=300,validation_data=(XVal,YVal))"
      ],
      "execution_count": null,
      "outputs": []
    },
    {
      "cell_type": "markdown",
      "metadata": {
        "id": "RcTu2jcdVngW"
      },
      "source": [
        "## Custom learning loop"
      ]
    },
    {
      "cell_type": "code",
      "metadata": {
        "id": "6Zx1g-aQF-05"
      },
      "source": [
        "loss = keras.losses.SparseCategoricalCrossentropy()"
      ],
      "execution_count": null,
      "outputs": []
    },
    {
      "cell_type": "code",
      "metadata": {
        "tags": [],
        "colab": {
          "base_uri": "https://localhost:8080/"
        },
        "id": "Z9RtVSNDVngW",
        "outputId": "e21c47b4-417c-499f-9b40-b30806716611"
      },
      "source": [
        "EPOCHS = 5000\n",
        "\n",
        "losses = { 'atc': [], 'wt': [] }\n",
        "trainAccuracy = { 'atc': [], 'wt': [] }\n",
        "validationAccuracy = { 'atc': [], 'wt': [] }\n",
        "\n",
        "for epoch in range(EPOCHS):\n",
        "    #Computing accuracies\n",
        "    trainPredictions = model(xTrain, training=False)\n",
        "    trainPredictionsATC = np.argmax(trainPredictions[ATC_CODE],axis=1).reshape(yTrain[:,:,0].shape)\n",
        "    trainPredictionsWT  = np.argmax(trainPredictions[WAIT_TIME],axis=1).reshape(yTrain[:,:,1].shape)\n",
        "\n",
        "    trainAccuracy['atc'].append((trainPredictionsATC == yTrain[:,:,0]).sum()/len(yTrain[:,:,0]))\n",
        "    trainAccuracy['wt'].append((trainPredictionsWT == yTrain[:,:,1]).sum()/len(yTrain[:,:,1]))\n",
        "\n",
        "    validationPredictions = model(XVal, training=False)\n",
        "    validationPredictionsATC = np.argmax(validationPredictions[ATC_CODE],axis=1).reshape(YVal['outputATC'].shape)\n",
        "    validationPredictionsWT  = np.argmax(validationPredictions[WAIT_TIME],axis=1).reshape(YVal['outputWaitTime'].shape)\n",
        "\n",
        "    validationAccuracy['atc'].append((validationPredictionsATC == YVal['outputATC']).sum()/len(YVal['outputATC']))\n",
        "    validationAccuracy['wt'].append((validationPredictionsWT == YVal['outputATC']).sum()/len(YVal['outputATC']))\n",
        "\n",
        "    with tf.GradientTape() as ATCTape, tf.GradientTape() as WTTape, tf.GradientTape() as tape:\n",
        "        predictions = model(xTrain,training=False)\n",
        "        ATCLoss = loss(yTrain[:,:,0],predictions[ATC_CODE])\n",
        "        WTLoss = loss(yTrain[:,:,1],predictions[WAIT_TIME])\n",
        "        lossValue = ATCLoss + WTLoss\n",
        "\n",
        "    ATCGrads = ATCTape.gradient(ATCLoss, model.trainable_variables)\n",
        "    WTGrads  = WTTape.gradient(WTLoss,model.trainable_variables)\n",
        "    grads = tape.gradient(lossValue,model.trainable_variables)\n",
        "\n",
        "    #gs = ATCGrads\n",
        "    #gl = WTGrads\n",
        "#\n",
        "    #if tf.linalg.global_norm(gs) > tf.linalg.global_norm(gl):\n",
        "    #    gs = WTGrads\n",
        "    #    gl = ATCGrads\n",
        "    #\n",
        "    #sub = tf.math.subtract(gs,gl)\n",
        "\n",
        "    model.optimizer.apply_gradients(zip(grads, model.trainable_variables))\n",
        "\n",
        "    losses['atc'].append(ATCLoss)\n",
        "    losses['wt'].append(WTLoss)\n",
        "\n",
        "    e = epoch + 1\n",
        "    if (e % 100 == 0) or (epoch == 0):\n",
        "        print(f\"epochs {e:03d} --- loss {lossValue:.3f} (atc: {ATCLoss:.3f}  wait_time: {WTLoss:.3f})\")"
      ],
      "execution_count": null,
      "outputs": [
        {
          "output_type": "stream",
          "text": [
            "epochs 001 --- loss 1349.952 (atc: 872.256  wait_time: 477.696)\n",
            "epochs 100 --- loss 14.350 (atc: 8.277  wait_time: 6.074)\n",
            "epochs 200 --- loss 11.202 (atc: 6.539  wait_time: 4.663)\n",
            "epochs 300 --- loss 9.125 (atc: 4.128  wait_time: 4.998)\n",
            "epochs 400 --- loss 7.769 (atc: 3.743  wait_time: 4.026)\n",
            "epochs 500 --- loss 5.603 (atc: 2.815  wait_time: 2.788)\n",
            "epochs 600 --- loss 3.901 (atc: 2.051  wait_time: 1.851)\n",
            "epochs 700 --- loss 3.601 (atc: 1.811  wait_time: 1.790)\n",
            "epochs 800 --- loss 3.586 (atc: 1.708  wait_time: 1.877)\n",
            "epochs 900 --- loss 8.144 (atc: 3.252  wait_time: 4.891)\n",
            "epochs 1000 --- loss 3.192 (atc: 1.453  wait_time: 1.739)\n",
            "epochs 1100 --- loss 2.938 (atc: 1.225  wait_time: 1.713)\n",
            "epochs 1200 --- loss 2.775 (atc: 1.073  wait_time: 1.702)\n",
            "epochs 1300 --- loss 2.671 (atc: 0.954  wait_time: 1.717)\n",
            "epochs 1400 --- loss 2.573 (atc: 0.849  wait_time: 1.725)\n",
            "epochs 1500 --- loss 2.458 (atc: 0.748  wait_time: 1.709)\n",
            "epochs 1600 --- loss 2.379 (atc: 0.669  wait_time: 1.710)\n",
            "epochs 1700 --- loss 9.897 (atc: 5.689  wait_time: 4.208)\n",
            "epochs 1800 --- loss 2.676 (atc: 0.941  wait_time: 1.735)\n",
            "epochs 1900 --- loss 2.483 (atc: 0.793  wait_time: 1.690)\n",
            "epochs 2000 --- loss 2.273 (atc: 0.590  wait_time: 1.683)\n",
            "epochs 2100 --- loss 2.164 (atc: 0.518  wait_time: 1.646)\n",
            "epochs 2200 --- loss 2.083 (atc: 0.459  wait_time: 1.623)\n",
            "epochs 2300 --- loss 2.016 (atc: 0.409  wait_time: 1.607)\n",
            "epochs 2400 --- loss 1.955 (atc: 0.361  wait_time: 1.595)\n",
            "epochs 2500 --- loss 1.907 (atc: 0.323  wait_time: 1.585)\n",
            "epochs 2600 --- loss 1.866 (atc: 0.290  wait_time: 1.576)\n",
            "epochs 2700 --- loss 1.831 (atc: 0.262  wait_time: 1.569)\n",
            "epochs 2800 --- loss 1.800 (atc: 0.238  wait_time: 1.562)\n",
            "epochs 2900 --- loss 1.774 (atc: 0.217  wait_time: 1.557)\n",
            "epochs 3000 --- loss 1.769 (atc: 0.201  wait_time: 1.568)\n",
            "epochs 3100 --- loss 1.750 (atc: 0.185  wait_time: 1.564)\n",
            "epochs 3200 --- loss 1.731 (atc: 0.172  wait_time: 1.559)\n",
            "epochs 3300 --- loss 1.714 (atc: 0.160  wait_time: 1.554)\n",
            "epochs 3400 --- loss 1.700 (atc: 0.150  wait_time: 1.549)\n",
            "epochs 3500 --- loss 1.686 (atc: 0.141  wait_time: 1.545)\n",
            "epochs 3600 --- loss 1.700 (atc: 0.137  wait_time: 1.564)\n",
            "epochs 3700 --- loss 1.703 (atc: 0.131  wait_time: 1.572)\n",
            "epochs 3800 --- loss 1.670 (atc: 0.122  wait_time: 1.548)\n",
            "epochs 3900 --- loss 1.678 (atc: 0.118  wait_time: 1.560)\n",
            "epochs 4000 --- loss 1.642 (atc: 0.111  wait_time: 1.530)\n",
            "epochs 4100 --- loss 1.642 (atc: 0.108  wait_time: 1.534)\n",
            "epochs 4200 --- loss 1.625 (atc: 0.103  wait_time: 1.522)\n",
            "epochs 4300 --- loss 1.644 (atc: 0.102  wait_time: 1.542)\n",
            "epochs 4400 --- loss 1.616 (atc: 0.097  wait_time: 1.519)\n",
            "epochs 4500 --- loss 1.623 (atc: 0.095  wait_time: 1.528)\n",
            "epochs 4600 --- loss 1.604 (atc: 0.091  wait_time: 1.513)\n",
            "epochs 4700 --- loss 1.603 (atc: 0.089  wait_time: 1.514)\n",
            "epochs 4800 --- loss 1.607 (atc: 0.087  wait_time: 1.520)\n",
            "epochs 4900 --- loss 1.612 (atc: 0.086  wait_time: 1.526)\n",
            "epochs 5000 --- loss 1.638 (atc: 0.086  wait_time: 1.552)\n"
          ],
          "name": "stdout"
        }
      ]
    },
    {
      "cell_type": "code",
      "metadata": {
        "colab": {
          "base_uri": "https://localhost:8080/",
          "height": 281
        },
        "id": "8XJLwbEAVngX",
        "outputId": "662f9b6a-5d7a-4f9c-de97-9997199cd9bc"
      },
      "source": [
        "fig, (l,a) = plt.subplots(1,2,sharex=True,figsize=(13,4))\n",
        "l.title.set_text('loss')\n",
        "l.set_ylabel('loss')\n",
        "\n",
        "a.title.set_text('accuracy')\n",
        "a.set_ylabel('accuracy')\n",
        "\n",
        "l.plot(losses['atc'],label='atc loss')\n",
        "l.plot(losses['wt'],label='wait time loss')\n",
        "\n",
        "a.plot(trainAccuracy['atc'],label='atc train accuracy',c='royalblue')\n",
        "a.plot(trainAccuracy['wt'],label='wait time train accuracy',c='darkgreen')\n",
        "\n",
        "a.plot(validationAccuracy['atc'],label='atc validation accuracy',c='cornflowerblue')\n",
        "a.plot(validationAccuracy['wt'],label='wait time validation accuracy',c='forestgreen')\n",
        "\n",
        "plt.legend(loc='center right')\n",
        "plt.show()"
      ],
      "execution_count": null,
      "outputs": [
        {
          "output_type": "display_data",
          "data": {
            "image/png": "[encoded data removed]",
            "text/plain": [
              "<Figure size 936x288 with 2 Axes>"
            ]
          },
          "metadata": {
            "tags": [],
            "needs_background": "light"
          }
        }
      ]
    },
    {
      "cell_type": "code",
      "metadata": {
        "id": "258mj3MzKwsb",
        "colab": {
          "base_uri": "https://localhost:8080/"
        },
        "outputId": "445f51f9-2d10-4195-e7e4-44ddb981919d"
      },
      "source": [
        "predictions = model.predict(XTest)\n",
        "predictionsATC = np.argmax(predictions[ATC_CODE],axis=1).reshape(YTest['outputATC'].shape)\n",
        "predictionsWT  = np.argmax(predictions[WAIT_TIME],axis=1).reshape(YTest['outputWaitTime'].shape)\n",
        "\n",
        "print(f\"Précision 'ATC_CODE': {(predictionsATC == YTest['outputATC']).sum()/len(YTest['outputATC'])*100:.2f}%\")\n",
        "print(f\"Précision 'WAIT_TIME': {(predictionsWT == YTest['outputWaitTime']).sum()/len(YTest['outputWaitTime'])*100:.2f}%\")"
      ],
      "execution_count": null,
      "outputs": [
        {
          "output_type": "stream",
          "text": [
            "Précision 'ATC_CODE': 97.11%\n",
            "Précision 'WAIT_TIME': 25.57%\n"
          ],
          "name": "stdout"
        }
      ]
    },
    {
      "cell_type": "code",
      "metadata": {
        "id": "w-J2c9KJBt3E",
        "colab": {
          "base_uri": "https://localhost:8080/",
          "height": 295
        },
        "outputId": "f79fc8cc-62af-4e42-c30a-d70b8fb3482a"
      },
      "source": [
        "SLICE_START = 350\n",
        "SLICE_SIZE = 50\n",
        "SLICE_END = SLICE_START + SLICE_SIZE\n",
        "\n",
        "fig, (atc,wt) = plt.subplots(1,2,sharex=True,figsize=(13,4))\n",
        "\n",
        "atc.title.set_text('atc prediction vs expected')\n",
        "atc.set_ylabel('atc_code')\n",
        "\n",
        "wt.title.set_text('wait time prediction vs expected')\n",
        "wt.set_ylabel('wait time')\n",
        "\n",
        "atc.plot(YTest['outputATC'][SLICE_START:SLICE_END],label='expected')\n",
        "atc.plot(predictionsATC[SLICE_START:SLICE_END],color='r',label='predicted')\n",
        "\n",
        "wt.plot(YTest['outputWaitTime'][SLICE_START:SLICE_END])\n",
        "wt.plot(predictionsWT[SLICE_START:SLICE_END],color='r')\n",
        "\n",
        "fig.legend()\n",
        "fig.show()"
      ],
      "execution_count": null,
      "outputs": [
        {
          "output_type": "display_data",
          "data": {
            "image/png": "[encoded data removed]",
            "text/plain": [
              "<Figure size 936x288 with 2 Axes>"
            ]
          },
          "metadata": {
            "tags": [],
            "needs_background": "light"
          }
        }
      ]
    },
    {
      "cell_type": "code",
      "metadata": {
        "id": "Q_jtzWUuqUjQ"
      },
      "source": [],
      "execution_count": null,
      "outputs": []
    }
  ]
}