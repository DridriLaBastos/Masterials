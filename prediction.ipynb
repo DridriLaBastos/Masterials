{
 "metadata": {
  "language_info": {
   "codemirror_mode": {
    "name": "ipython",
    "version": 3
   },
   "file_extension": ".py",
   "mimetype": "text/x-python",
   "name": "python",
   "nbconvert_exporter": "python",
   "pygments_lexer": "ipython3",
   "version": "3.8.5-final"
  },
  "orig_nbformat": 2,
  "kernelspec": {
   "name": "python3",
   "display_name": "Python 3",
   "language": "python"
  }
 },
 "nbformat": 4,
 "nbformat_minor": 2,
 "cells": [
  {
   "cell_type": "code",
   "execution_count": 109,
   "metadata": {},
   "outputs": [],
   "source": [
    "import pandas as pd\n",
    "\n",
    "from matplotlib import pyplot as plt\n",
    "\n",
    "from sklearn.preprocessing import LabelEncoder"
   ]
  },
  {
   "cell_type": "code",
   "execution_count": 127,
   "metadata": {},
   "outputs": [],
   "source": [
    "dateColumnNames = ['contact_date','Glycemie_der_date','HbA1c_der_date','der_date_poids','der_date_taille','first_contact_date']\n",
    "\n",
    "dfView = pd.read_csv('PatientsHTA.zip',nrows=1)\n",
    "df = pd.read_csv('PatientsHTA.zip',engine='c',parse_dates=dateColumnNames)"
   ]
  },
  {
   "source": [
    "# Suppression des lignes trop peu nombreuses"
   ],
   "cell_type": "markdown",
   "metadata": {}
  },
  {
   "source": [
    "Nous souhaitons faire un apprentissage en utilisant la dimension temporelle comme filtre pour le CNN. Pour ça il faut donc que nous ayons plusieurs entrée. Avant de commencer à traîter les données nous supprimons donc toutes les lignes qui n'ont pas plusieurs entrées de ```person_id```. Nous choisissons arbitrairement que pour être utile à l'apprentissage, il faut au moins 10 entrées dans cette colonne"
   ],
   "cell_type": "markdown",
   "metadata": {}
  },
  {
   "cell_type": "code",
   "execution_count": 111,
   "metadata": {},
   "outputs": [],
   "source": [
    "valueCounts = df.person_id.value_counts()\n",
    "dfEnought = df[df.person_id.isin(valueCounts[valueCounts.values >= 10].index)]"
   ]
  },
  {
   "source": [
    "# Suppression des colonnes innutiles"
   ],
   "cell_type": "markdown",
   "metadata": {}
  },
  {
   "source": [
    "## Suppression de ```Age_now```"
   ],
   "cell_type": "markdown",
   "metadata": {}
  },
  {
   "source": [
    "Nous pouvons supprimer la colonne ```Age_now``` car les données qu'elle contient sont identique à celles de la colonne ```year_of_birth```"
   ],
   "cell_type": "markdown",
   "metadata": {}
  },
  {
   "source": [
    "dfWithoutAgeNow = dfEnought.drop('Age_now', axis='columns')"
   ],
   "cell_type": "code",
   "metadata": {},
   "execution_count": 133,
   "outputs": []
  },
  {
   "source": [
    "## Suppression de ```contact_id```"
   ],
   "cell_type": "markdown",
   "metadata": {}
  },
  {
   "cell_type": "code",
   "execution_count": 135,
   "metadata": {},
   "outputs": [],
   "source": [
    "dfWithoutContactID = dfWithoutAgeNow.drop('contact_id',axis='columns')"
   ]
  },
  {
   "source": [
    "## Suppression des noms de médicaments"
   ],
   "cell_type": "markdown",
   "metadata": {}
  },
  {
   "cell_type": "code",
   "execution_count": 114,
   "metadata": {},
   "outputs": [
    {
     "output_type": "execute_result",
     "data": {
      "text/plain": [
       "                  molecule_label  short_name  long_name  Classe  product_atc\n",
       "product_atc_code                                                            \n",
       "C02AC06                     2276        2276       2276    2276         2276\n",
       "C03BX03                      655         655        655     655          655\n",
       "C03CA01                      402         402        402     402          402\n",
       "C03DA01                       86          86         86      86           86\n",
       "C03DA04                       10          10         10      10           10\n",
       "C03EA04                        3           3          3       3            3\n",
       "C03EB01                       10          10         10      10           10\n",
       "C07AB03                     3380        3380       3380    3380         3380\n",
       "C07AB04                       34          34         34      34           34\n",
       "C07AB07                     3042        3042       3042    3042         3042\n",
       "C07AB12                      348         348        348     348          348\n",
       "C07DB01                       10          10         10      10           10\n",
       "C08CA01                      319         319        319     319          319\n",
       "C08DB01                       51          51         51      51           51\n",
       "C09AA02                       19          19         19      19           19\n",
       "C09AA03                       18          18         18      18           18\n",
       "C09AA04                      528         528        528     528          528\n",
       "C09AA05                      134         134        134     134          134\n",
       "C09AA06                       10          10         10      10           10\n",
       "C09BA04                      569         569        569     569          569\n",
       "C09CA01                      175         175        175     175          175\n",
       "C09CA03                     1399        1399       1399    1399         1399\n",
       "C09CA04                      200         200        200     200          200\n",
       "C09CA06                      576         576        576     576          576\n",
       "C09CA07                       31          31         31      31           31\n",
       "C09DA01                      232         232        232     232          232\n",
       "C09DA03                     1222        1222       1222    1222         1222\n",
       "C09DA04                      243         243        243     243          243\n",
       "C09DB04                     3137        3137       3137    3137         3137\n",
       "C09XA02                       21          21         21      21           21\n",
       "C09XA52                       93          93         93      93           93"
      ],
      "text/html": "<div>\n<style scoped>\n    .dataframe tbody tr th:only-of-type {\n        vertical-align: middle;\n    }\n\n    .dataframe tbody tr th {\n        vertical-align: top;\n    }\n\n    .dataframe thead th {\n        text-align: right;\n    }\n</style>\n<table border=\"1\" class=\"dataframe\">\n  <thead>\n    <tr style=\"text-align: right;\">\n      <th></th>\n      <th>molecule_label</th>\n      <th>short_name</th>\n      <th>long_name</th>\n      <th>Classe</th>\n      <th>product_atc</th>\n    </tr>\n    <tr>\n      <th>product_atc_code</th>\n      <th></th>\n      <th></th>\n      <th></th>\n      <th></th>\n      <th></th>\n    </tr>\n  </thead>\n  <tbody>\n    <tr>\n      <th>C02AC06</th>\n      <td>2276</td>\n      <td>2276</td>\n      <td>2276</td>\n      <td>2276</td>\n      <td>2276</td>\n    </tr>\n    <tr>\n      <th>C03BX03</th>\n      <td>655</td>\n      <td>655</td>\n      <td>655</td>\n      <td>655</td>\n      <td>655</td>\n    </tr>\n    <tr>\n      <th>C03CA01</th>\n      <td>402</td>\n      <td>402</td>\n      <td>402</td>\n      <td>402</td>\n      <td>402</td>\n    </tr>\n    <tr>\n      <th>C03DA01</th>\n      <td>86</td>\n      <td>86</td>\n      <td>86</td>\n      <td>86</td>\n      <td>86</td>\n    </tr>\n    <tr>\n      <th>C03DA04</th>\n      <td>10</td>\n      <td>10</td>\n      <td>10</td>\n      <td>10</td>\n      <td>10</td>\n    </tr>\n    <tr>\n      <th>C03EA04</th>\n      <td>3</td>\n      <td>3</td>\n      <td>3</td>\n      <td>3</td>\n      <td>3</td>\n    </tr>\n    <tr>\n      <th>C03EB01</th>\n      <td>10</td>\n      <td>10</td>\n      <td>10</td>\n      <td>10</td>\n      <td>10</td>\n    </tr>\n    <tr>\n      <th>C07AB03</th>\n      <td>3380</td>\n      <td>3380</td>\n      <td>3380</td>\n      <td>3380</td>\n      <td>3380</td>\n    </tr>\n    <tr>\n      <th>C07AB04</th>\n      <td>34</td>\n      <td>34</td>\n      <td>34</td>\n      <td>34</td>\n      <td>34</td>\n    </tr>\n    <tr>\n      <th>C07AB07</th>\n      <td>3042</td>\n      <td>3042</td>\n      <td>3042</td>\n      <td>3042</td>\n      <td>3042</td>\n    </tr>\n    <tr>\n      <th>C07AB12</th>\n      <td>348</td>\n      <td>348</td>\n      <td>348</td>\n      <td>348</td>\n      <td>348</td>\n    </tr>\n    <tr>\n      <th>C07DB01</th>\n      <td>10</td>\n      <td>10</td>\n      <td>10</td>\n      <td>10</td>\n      <td>10</td>\n    </tr>\n    <tr>\n      <th>C08CA01</th>\n      <td>319</td>\n      <td>319</td>\n      <td>319</td>\n      <td>319</td>\n      <td>319</td>\n    </tr>\n    <tr>\n      <th>C08DB01</th>\n      <td>51</td>\n      <td>51</td>\n      <td>51</td>\n      <td>51</td>\n      <td>51</td>\n    </tr>\n    <tr>\n      <th>C09AA02</th>\n      <td>19</td>\n      <td>19</td>\n      <td>19</td>\n      <td>19</td>\n      <td>19</td>\n    </tr>\n    <tr>\n      <th>C09AA03</th>\n      <td>18</td>\n      <td>18</td>\n      <td>18</td>\n      <td>18</td>\n      <td>18</td>\n    </tr>\n    <tr>\n      <th>C09AA04</th>\n      <td>528</td>\n      <td>528</td>\n      <td>528</td>\n      <td>528</td>\n      <td>528</td>\n    </tr>\n    <tr>\n      <th>C09AA05</th>\n      <td>134</td>\n      <td>134</td>\n      <td>134</td>\n      <td>134</td>\n      <td>134</td>\n    </tr>\n    <tr>\n      <th>C09AA06</th>\n      <td>10</td>\n      <td>10</td>\n      <td>10</td>\n      <td>10</td>\n      <td>10</td>\n    </tr>\n    <tr>\n      <th>C09BA04</th>\n      <td>569</td>\n      <td>569</td>\n      <td>569</td>\n      <td>569</td>\n      <td>569</td>\n    </tr>\n    <tr>\n      <th>C09CA01</th>\n      <td>175</td>\n      <td>175</td>\n      <td>175</td>\n      <td>175</td>\n      <td>175</td>\n    </tr>\n    <tr>\n      <th>C09CA03</th>\n      <td>1399</td>\n      <td>1399</td>\n      <td>1399</td>\n      <td>1399</td>\n      <td>1399</td>\n    </tr>\n    <tr>\n      <th>C09CA04</th>\n      <td>200</td>\n      <td>200</td>\n      <td>200</td>\n      <td>200</td>\n      <td>200</td>\n    </tr>\n    <tr>\n      <th>C09CA06</th>\n      <td>576</td>\n      <td>576</td>\n      <td>576</td>\n      <td>576</td>\n      <td>576</td>\n    </tr>\n    <tr>\n      <th>C09CA07</th>\n      <td>31</td>\n      <td>31</td>\n      <td>31</td>\n      <td>31</td>\n      <td>31</td>\n    </tr>\n    <tr>\n      <th>C09DA01</th>\n      <td>232</td>\n      <td>232</td>\n      <td>232</td>\n      <td>232</td>\n      <td>232</td>\n    </tr>\n    <tr>\n      <th>C09DA03</th>\n      <td>1222</td>\n      <td>1222</td>\n      <td>1222</td>\n      <td>1222</td>\n      <td>1222</td>\n    </tr>\n    <tr>\n      <th>C09DA04</th>\n      <td>243</td>\n      <td>243</td>\n      <td>243</td>\n      <td>243</td>\n      <td>243</td>\n    </tr>\n    <tr>\n      <th>C09DB04</th>\n      <td>3137</td>\n      <td>3137</td>\n      <td>3137</td>\n      <td>3137</td>\n      <td>3137</td>\n    </tr>\n    <tr>\n      <th>C09XA02</th>\n      <td>21</td>\n      <td>21</td>\n      <td>21</td>\n      <td>21</td>\n      <td>21</td>\n    </tr>\n    <tr>\n      <th>C09XA52</th>\n      <td>93</td>\n      <td>93</td>\n      <td>93</td>\n      <td>93</td>\n      <td>93</td>\n    </tr>\n  </tbody>\n</table>\n</div>"
     },
     "metadata": {},
     "execution_count": 114
    }
   ],
   "source": [
    "dfGroupedByMoleculeLabel = dfWithoutContactID.groupby('product_atc_code')[['molecule_label','short_name','long_name','Classe','product_atc']].count()\n",
    "dfGroupedByMoleculeLabel"
   ]
  },
  {
   "source": [
    "Nous voyons que les différentes colonnes de noms de médicaments sont identiques, nous pouvons donc n'en garder qu'une seule. Nous choisirons de garder ```product_atc_code```"
   ],
   "cell_type": "markdown",
   "metadata": {}
  },
  {
   "cell_type": "code",
   "execution_count": 115,
   "metadata": {},
   "outputs": [],
   "source": [
    "dropColumnNames = dfGroupedByMoleculeLabel.columns.to_list()\n",
    "dfWithATCCode = dfWithoutContactID.drop(dropColumnNames, axis='columns')"
   ]
  },
  {
   "cell_type": "code",
   "execution_count": 137,
   "metadata": {},
   "outputs": [
    {
     "output_type": "execute_result",
     "data": {
      "text/plain": [
       "        person_id      specialty_label contact_date           cip  dosage_1  \\\n",
       "8      27746613.0  Médecin généraliste   2013-05-15  3.400960e+12     300.0   \n",
       "9      27746613.0  Médecin généraliste   2014-12-19  3.400960e+12     300.0   \n",
       "12     27746613.0  Médecin généraliste   2013-06-14  3.400960e+12     300.0   \n",
       "24     27746613.0  Médecin généraliste   2013-01-10  3.400960e+12     300.0   \n",
       "32     27746613.0  Médecin généraliste   2013-12-30  3.400960e+12     300.0   \n",
       "...           ...                  ...          ...           ...       ...   \n",
       "50621  14936234.0  Médecin généraliste   2016-09-11  3.400940e+12     500.0   \n",
       "50622  14936234.0  Médecin généraliste   2016-11-16  3.400940e+12     500.0   \n",
       "50625  26636453.0  Médecin généraliste   2016-11-16  3.400940e+12     500.0   \n",
       "50627  18889430.0  Médecin généraliste   2013-02-01  3.400940e+12     500.0   \n",
       "50632  18889430.0  Médecin généraliste   2013-01-24  3.400940e+12     500.0   \n",
       "\n",
       "        dose_1  dose_2 product_atc_code  box  quantity  ... HbA1c_der_date  \\\n",
       "8      16800.0    56.0         C09XA02   3.0      1.00  ...            NaT   \n",
       "9      16800.0    56.0         C09XA02   4.0      1.00  ...            NaT   \n",
       "12     16800.0    56.0         C09XA02   3.0      1.00  ...            NaT   \n",
       "24     16800.0    56.0         C09XA02   3.0      1.00  ...            NaT   \n",
       "32     16800.0    56.0         C09XA02   3.0      1.00  ...            NaT   \n",
       "...        ...     ...              ...  ...       ...  ...            ...   \n",
       "50621  15000.0    30.0         C03CA01   1.0      1.00  ...            NaT   \n",
       "50622  15000.0    30.0         C03CA01   1.0      1.00  ...            NaT   \n",
       "50625  15000.0    30.0         C03CA01   1.0      0.75  ...     2017-10-03   \n",
       "50627  15000.0    30.0         C03CA01   1.0      0.50  ...     2017-05-15   \n",
       "50632  15000.0    30.0         C03CA01   1.0      0.50  ...     2017-05-15   \n",
       "\n",
       "       HbA1c_der_mesure gender_code Age_presc  year_of_birth  Poids  \\\n",
       "8                   NaN           M      93.0         1920.0   75.0   \n",
       "9                   NaN           M      94.0         1920.0   75.0   \n",
       "12                  NaN           M      93.0         1920.0   75.0   \n",
       "24                  NaN           M      93.0         1920.0   75.0   \n",
       "32                  NaN           M      93.0         1920.0   75.0   \n",
       "...                 ...         ...       ...            ...    ...   \n",
       "50621               NaN           M      81.0         1935.0   63.8   \n",
       "50622               NaN           M      81.0         1935.0   63.8   \n",
       "50625              5.60           M      79.0         1937.0   83.9   \n",
       "50627              8.01           M      85.0         1928.0    NaN   \n",
       "50632              8.01           M      85.0         1928.0    NaN   \n",
       "\n",
       "       der_date_poids  Taille der_date_taille  first_contact_date  \n",
       "8          2016-02-11   166.0      2014-06-05          2012-10-17  \n",
       "9          2016-02-11   166.0      2014-06-05          2012-10-17  \n",
       "12         2016-02-11   166.0      2014-06-05          2012-10-17  \n",
       "24         2016-02-11   166.0      2014-06-05          2012-10-17  \n",
       "32         2016-02-11   166.0      2014-06-05          2012-10-17  \n",
       "...               ...     ...             ...                 ...  \n",
       "50621      2017-07-27   162.0      2011-11-07          2002-09-24  \n",
       "50622      2017-07-27   162.0      2011-11-07          2002-09-24  \n",
       "50625      2018-02-21     NaN             NaT          2012-02-14  \n",
       "50627             NaT     NaN             NaT          2007-12-02  \n",
       "50632             NaT     NaN             NaT          2007-12-02  \n",
       "\n",
       "[19233 rows x 31 columns]"
      ],
      "text/html": "<div>\n<style scoped>\n    .dataframe tbody tr th:only-of-type {\n        vertical-align: middle;\n    }\n\n    .dataframe tbody tr th {\n        vertical-align: top;\n    }\n\n    .dataframe thead th {\n        text-align: right;\n    }\n</style>\n<table border=\"1\" class=\"dataframe\">\n  <thead>\n    <tr style=\"text-align: right;\">\n      <th></th>\n      <th>person_id</th>\n      <th>specialty_label</th>\n      <th>contact_date</th>\n      <th>cip</th>\n      <th>dosage_1</th>\n      <th>dose_1</th>\n      <th>dose_2</th>\n      <th>product_atc_code</th>\n      <th>box</th>\n      <th>quantity</th>\n      <th>...</th>\n      <th>HbA1c_der_date</th>\n      <th>HbA1c_der_mesure</th>\n      <th>gender_code</th>\n      <th>Age_presc</th>\n      <th>year_of_birth</th>\n      <th>Poids</th>\n      <th>der_date_poids</th>\n      <th>Taille</th>\n      <th>der_date_taille</th>\n      <th>first_contact_date</th>\n    </tr>\n  </thead>\n  <tbody>\n    <tr>\n      <th>8</th>\n      <td>27746613.0</td>\n      <td>Médecin généraliste</td>\n      <td>2013-05-15</td>\n      <td>3.400960e+12</td>\n      <td>300.0</td>\n      <td>16800.0</td>\n      <td>56.0</td>\n      <td>C09XA02</td>\n      <td>3.0</td>\n      <td>1.00</td>\n      <td>...</td>\n      <td>NaT</td>\n      <td>NaN</td>\n      <td>M</td>\n      <td>93.0</td>\n      <td>1920.0</td>\n      <td>75.0</td>\n      <td>2016-02-11</td>\n      <td>166.0</td>\n      <td>2014-06-05</td>\n      <td>2012-10-17</td>\n    </tr>\n    <tr>\n      <th>9</th>\n      <td>27746613.0</td>\n      <td>Médecin généraliste</td>\n      <td>2014-12-19</td>\n      <td>3.400960e+12</td>\n      <td>300.0</td>\n      <td>16800.0</td>\n      <td>56.0</td>\n      <td>C09XA02</td>\n      <td>4.0</td>\n      <td>1.00</td>\n      <td>...</td>\n      <td>NaT</td>\n      <td>NaN</td>\n      <td>M</td>\n      <td>94.0</td>\n      <td>1920.0</td>\n      <td>75.0</td>\n      <td>2016-02-11</td>\n      <td>166.0</td>\n      <td>2014-06-05</td>\n      <td>2012-10-17</td>\n    </tr>\n    <tr>\n      <th>12</th>\n      <td>27746613.0</td>\n      <td>Médecin généraliste</td>\n      <td>2013-06-14</td>\n      <td>3.400960e+12</td>\n      <td>300.0</td>\n      <td>16800.0</td>\n      <td>56.0</td>\n      <td>C09XA02</td>\n      <td>3.0</td>\n      <td>1.00</td>\n      <td>...</td>\n      <td>NaT</td>\n      <td>NaN</td>\n      <td>M</td>\n      <td>93.0</td>\n      <td>1920.0</td>\n      <td>75.0</td>\n      <td>2016-02-11</td>\n      <td>166.0</td>\n      <td>2014-06-05</td>\n      <td>2012-10-17</td>\n    </tr>\n    <tr>\n      <th>24</th>\n      <td>27746613.0</td>\n      <td>Médecin généraliste</td>\n      <td>2013-01-10</td>\n      <td>3.400960e+12</td>\n      <td>300.0</td>\n      <td>16800.0</td>\n      <td>56.0</td>\n      <td>C09XA02</td>\n      <td>3.0</td>\n      <td>1.00</td>\n      <td>...</td>\n      <td>NaT</td>\n      <td>NaN</td>\n      <td>M</td>\n      <td>93.0</td>\n      <td>1920.0</td>\n      <td>75.0</td>\n      <td>2016-02-11</td>\n      <td>166.0</td>\n      <td>2014-06-05</td>\n      <td>2012-10-17</td>\n    </tr>\n    <tr>\n      <th>32</th>\n      <td>27746613.0</td>\n      <td>Médecin généraliste</td>\n      <td>2013-12-30</td>\n      <td>3.400960e+12</td>\n      <td>300.0</td>\n      <td>16800.0</td>\n      <td>56.0</td>\n      <td>C09XA02</td>\n      <td>3.0</td>\n      <td>1.00</td>\n      <td>...</td>\n      <td>NaT</td>\n      <td>NaN</td>\n      <td>M</td>\n      <td>93.0</td>\n      <td>1920.0</td>\n      <td>75.0</td>\n      <td>2016-02-11</td>\n      <td>166.0</td>\n      <td>2014-06-05</td>\n      <td>2012-10-17</td>\n    </tr>\n    <tr>\n      <th>...</th>\n      <td>...</td>\n      <td>...</td>\n      <td>...</td>\n      <td>...</td>\n      <td>...</td>\n      <td>...</td>\n      <td>...</td>\n      <td>...</td>\n      <td>...</td>\n      <td>...</td>\n      <td>...</td>\n      <td>...</td>\n      <td>...</td>\n      <td>...</td>\n      <td>...</td>\n      <td>...</td>\n      <td>...</td>\n      <td>...</td>\n      <td>...</td>\n      <td>...</td>\n      <td>...</td>\n    </tr>\n    <tr>\n      <th>50621</th>\n      <td>14936234.0</td>\n      <td>Médecin généraliste</td>\n      <td>2016-09-11</td>\n      <td>3.400940e+12</td>\n      <td>500.0</td>\n      <td>15000.0</td>\n      <td>30.0</td>\n      <td>C03CA01</td>\n      <td>1.0</td>\n      <td>1.00</td>\n      <td>...</td>\n      <td>NaT</td>\n      <td>NaN</td>\n      <td>M</td>\n      <td>81.0</td>\n      <td>1935.0</td>\n      <td>63.8</td>\n      <td>2017-07-27</td>\n      <td>162.0</td>\n      <td>2011-11-07</td>\n      <td>2002-09-24</td>\n    </tr>\n    <tr>\n      <th>50622</th>\n      <td>14936234.0</td>\n      <td>Médecin généraliste</td>\n      <td>2016-11-16</td>\n      <td>3.400940e+12</td>\n      <td>500.0</td>\n      <td>15000.0</td>\n      <td>30.0</td>\n      <td>C03CA01</td>\n      <td>1.0</td>\n      <td>1.00</td>\n      <td>...</td>\n      <td>NaT</td>\n      <td>NaN</td>\n      <td>M</td>\n      <td>81.0</td>\n      <td>1935.0</td>\n      <td>63.8</td>\n      <td>2017-07-27</td>\n      <td>162.0</td>\n      <td>2011-11-07</td>\n      <td>2002-09-24</td>\n    </tr>\n    <tr>\n      <th>50625</th>\n      <td>26636453.0</td>\n      <td>Médecin généraliste</td>\n      <td>2016-11-16</td>\n      <td>3.400940e+12</td>\n      <td>500.0</td>\n      <td>15000.0</td>\n      <td>30.0</td>\n      <td>C03CA01</td>\n      <td>1.0</td>\n      <td>0.75</td>\n      <td>...</td>\n      <td>2017-10-03</td>\n      <td>5.60</td>\n      <td>M</td>\n      <td>79.0</td>\n      <td>1937.0</td>\n      <td>83.9</td>\n      <td>2018-02-21</td>\n      <td>NaN</td>\n      <td>NaT</td>\n      <td>2012-02-14</td>\n    </tr>\n    <tr>\n      <th>50627</th>\n      <td>18889430.0</td>\n      <td>Médecin généraliste</td>\n      <td>2013-02-01</td>\n      <td>3.400940e+12</td>\n      <td>500.0</td>\n      <td>15000.0</td>\n      <td>30.0</td>\n      <td>C03CA01</td>\n      <td>1.0</td>\n      <td>0.50</td>\n      <td>...</td>\n      <td>2017-05-15</td>\n      <td>8.01</td>\n      <td>M</td>\n      <td>85.0</td>\n      <td>1928.0</td>\n      <td>NaN</td>\n      <td>NaT</td>\n      <td>NaN</td>\n      <td>NaT</td>\n      <td>2007-12-02</td>\n    </tr>\n    <tr>\n      <th>50632</th>\n      <td>18889430.0</td>\n      <td>Médecin généraliste</td>\n      <td>2013-01-24</td>\n      <td>3.400940e+12</td>\n      <td>500.0</td>\n      <td>15000.0</td>\n      <td>30.0</td>\n      <td>C03CA01</td>\n      <td>1.0</td>\n      <td>0.50</td>\n      <td>...</td>\n      <td>2017-05-15</td>\n      <td>8.01</td>\n      <td>M</td>\n      <td>85.0</td>\n      <td>1928.0</td>\n      <td>NaN</td>\n      <td>NaT</td>\n      <td>NaN</td>\n      <td>NaT</td>\n      <td>2007-12-02</td>\n    </tr>\n  </tbody>\n</table>\n<p>19233 rows × 31 columns</p>\n</div>"
     },
     "metadata": {},
     "execution_count": 137
    }
   ],
   "source": [
    "dfWithATCCode"
   ]
  },
  {
   "source": [
    "## Suppression des colonnes ```'*der*'```"
   ],
   "cell_type": "markdown",
   "metadata": {}
  },
  {
   "source": [
    "Les colonnes ```*der*``` contiennent la dernière données. Cette donnée peut être récupérée grâce à la date de la visite et à aux valeurs mesurées. Par exemple, il n'est pas nécessaire d'avoir une colonne ```der_date``` ou ```der_mesure```. Les données de ces deux types de colonnes peuvent être récupéré grâce à la ligne qui correspond à la dernière date de la mesure, que l'on peut trouver grâce à la colonne ```contact_date```"
   ],
   "cell_type": "markdown",
   "metadata": {}
  },
  {
   "cell_type": "code",
   "execution_count": 117,
   "metadata": {},
   "outputs": [],
   "source": [
    "derColumnNames = []\n",
    "\n",
    "for c in dfWithATCCode.columns:\n",
    "    if ('der_date' in c) or ('der_mesure' in c):\n",
    "        derColumnNames.append(c)\n",
    "\n",
    "dfWithoutDer = dfWithATCCode.drop(derColumnNames,axis='columns')"
   ]
  },
  {
   "source": [
    "# Traîtement des données"
   ],
   "cell_type": "markdown",
   "metadata": {}
  },
  {
   "source": [
    "## Conversion des données"
   ],
   "cell_type": "markdown",
   "metadata": {}
  },
  {
   "source": [
    "### Ajout du temps entre chaque visite (ce que l'on veut prédire)"
   ],
   "cell_type": "markdown",
   "metadata": {}
  },
  {
   "cell_type": "code",
   "execution_count": 155,
   "metadata": {},
   "outputs": [],
   "source": [
    "wait_time = dfWithoutDer.contact_date - dfWithoutDer.first_contact_date\n",
    "wait_time = wait_time.dt.total_seconds() / (24 * 3600)\n",
    "dfWithoutDer['wait_time'] = wait_time"
   ]
  },
  {
   "source": [
    "### Encodage des valeurs non numériques"
   ],
   "cell_type": "markdown",
   "metadata": {}
  },
  {
   "cell_type": "code",
   "execution_count": 156,
   "metadata": {},
   "outputs": [],
   "source": [
    "specialtyEncoder = LabelEncoder()\n",
    "ATCCodeEncoder = LabelEncoder()\n",
    "genderEncoder = LabelEncoder()\n",
    "frequencyLabelEncoder = LabelEncoder()\n",
    "\n",
    "dfWithoutDer.specialty_label = specialtyEncoder.fit_transform(dfWithoutDer.specialty_label)\n",
    "dfWithoutDer.product_atc_code = ATCCodeEncoder.fit_transform(dfWithoutDer.product_atc_code)\n",
    "dfWithoutDer.frequency_label = frequencyLabelEncoder.fit_transform(dfWithoutDer.frequency_label.astype(str))\n",
    "dfWithoutDer.gender_code = ATCCodeEncoder.fit_transform(dfWithoutDer.gender_code)\n"
   ]
  },
  {
   "source": [
    "### Conversion en ```TimeSeries```"
   ],
   "cell_type": "markdown",
   "metadata": {}
  },
  {
   "source": [
    "on définit simplement le nouvel index comme la colonne donnant l'intervalle de temps entre chaque visite"
   ],
   "cell_type": "markdown",
   "metadata": {}
  },
  {
   "cell_type": "code",
   "execution_count": 157,
   "metadata": {},
   "outputs": [],
   "source": [
    "ts = dfWithoutDer.drop(['person_id','first_contact_date'],axis='columns').set_index(dfWithoutDer.contact_date).drop('contact_date',axis='columns')"
   ]
  },
  {
   "source": [
    "# Prédiction"
   ],
   "cell_type": "markdown",
   "metadata": {}
  },
  {
   "cell_type": "code",
   "execution_count": 158,
   "metadata": {},
   "outputs": [
    {
     "output_type": "execute_result",
     "data": {
      "text/plain": [
       "              specialty_label           cip  dosage_1   dose_1  dose_2  \\\n",
       "contact_date                                                             \n",
       "2013-05-15                  2  3.400960e+12     300.0  16800.0    56.0   \n",
       "2014-12-19                  2  3.400960e+12     300.0  16800.0    56.0   \n",
       "2013-06-14                  2  3.400960e+12     300.0  16800.0    56.0   \n",
       "2013-01-10                  2  3.400960e+12     300.0  16800.0    56.0   \n",
       "2013-12-30                  2  3.400960e+12     300.0  16800.0    56.0   \n",
       "...                       ...           ...       ...      ...     ...   \n",
       "2016-09-11                  2  3.400940e+12     500.0  15000.0    30.0   \n",
       "2016-11-16                  2  3.400940e+12     500.0  15000.0    30.0   \n",
       "2016-11-16                  2  3.400940e+12     500.0  15000.0    30.0   \n",
       "2013-02-01                  2  3.400940e+12     500.0  15000.0    30.0   \n",
       "2013-01-24                  2  3.400940e+12     500.0  15000.0    30.0   \n",
       "\n",
       "              product_atc_code  box  quantity  frequency_label  duration  ...  \\\n",
       "contact_date                                                              ...   \n",
       "2013-05-15                  29  3.0      1.00                0     168.0  ...   \n",
       "2014-12-19                  29  4.0      1.00                0     224.0  ...   \n",
       "2013-06-14                  29  3.0      1.00                0     168.0  ...   \n",
       "2013-01-10                  29  3.0      1.00                0     168.0  ...   \n",
       "2013-12-30                  29  3.0      1.00                0     168.0  ...   \n",
       "...                        ...  ...       ...              ...       ...  ...   \n",
       "2016-09-11                   2  1.0      1.00                0      28.0  ...   \n",
       "2016-11-16                   2  1.0      1.00                0      28.0  ...   \n",
       "2016-11-16                   2  1.0      0.75                0      28.0  ...   \n",
       "2013-02-01                   2  1.0      0.50                0      28.0  ...   \n",
       "2013-01-24                   2  1.0      0.50                0      28.0  ...   \n",
       "\n",
       "             Tension Diastolique Tension Systolique  Glycemie_prescription  \\\n",
       "contact_date                                                                 \n",
       "2013-05-15                 125.0               70.0                    NaN   \n",
       "2014-12-19                 135.0               75.0                    NaN   \n",
       "2013-06-14                 130.0               73.0                    NaN   \n",
       "2013-01-10                 148.0               77.0                    NaN   \n",
       "2013-12-30                 130.0               80.0                    NaN   \n",
       "...                          ...                ...                    ...   \n",
       "2016-09-11                 112.0               61.0                    NaN   \n",
       "2016-11-16                 108.0               61.0                    NaN   \n",
       "2016-11-16                 120.0               60.0                    NaN   \n",
       "2013-02-01                 120.0               70.0                    NaN   \n",
       "2013-01-24                 120.0               70.0                    NaN   \n",
       "\n",
       "              HbA1c_prescription  gender_code  Age_presc  year_of_birth  \\\n",
       "contact_date                                                              \n",
       "2013-05-15                   NaN            1       93.0         1920.0   \n",
       "2014-12-19                   NaN            1       94.0         1920.0   \n",
       "2013-06-14                   NaN            1       93.0         1920.0   \n",
       "2013-01-10                   NaN            1       93.0         1920.0   \n",
       "2013-12-30                   NaN            1       93.0         1920.0   \n",
       "...                          ...          ...        ...            ...   \n",
       "2016-09-11                   NaN            1       81.0         1935.0   \n",
       "2016-11-16                   NaN            1       81.0         1935.0   \n",
       "2016-11-16                   NaN            1       79.0         1937.0   \n",
       "2013-02-01                   NaN            1       85.0         1928.0   \n",
       "2013-01-24                   NaN            1       85.0         1928.0   \n",
       "\n",
       "              Poids  Taille  wait_time  \n",
       "contact_date                            \n",
       "2013-05-15     75.0   166.0      210.0  \n",
       "2014-12-19     75.0   166.0      793.0  \n",
       "2013-06-14     75.0   166.0      240.0  \n",
       "2013-01-10     75.0   166.0       85.0  \n",
       "2013-12-30     75.0   166.0      439.0  \n",
       "...             ...     ...        ...  \n",
       "2016-09-11     63.8   162.0     5101.0  \n",
       "2016-11-16     63.8   162.0     5167.0  \n",
       "2016-11-16     83.9     NaN     1737.0  \n",
       "2013-02-01      NaN     NaN     1888.0  \n",
       "2013-01-24      NaN     NaN     1880.0  \n",
       "\n",
       "[19233 rows x 23 columns]"
      ],
      "text/html": "<div>\n<style scoped>\n    .dataframe tbody tr th:only-of-type {\n        vertical-align: middle;\n    }\n\n    .dataframe tbody tr th {\n        vertical-align: top;\n    }\n\n    .dataframe thead th {\n        text-align: right;\n    }\n</style>\n<table border=\"1\" class=\"dataframe\">\n  <thead>\n    <tr style=\"text-align: right;\">\n      <th></th>\n      <th>specialty_label</th>\n      <th>cip</th>\n      <th>dosage_1</th>\n      <th>dose_1</th>\n      <th>dose_2</th>\n      <th>product_atc_code</th>\n      <th>box</th>\n      <th>quantity</th>\n      <th>frequency_label</th>\n      <th>duration</th>\n      <th>...</th>\n      <th>Tension Diastolique</th>\n      <th>Tension Systolique</th>\n      <th>Glycemie_prescription</th>\n      <th>HbA1c_prescription</th>\n      <th>gender_code</th>\n      <th>Age_presc</th>\n      <th>year_of_birth</th>\n      <th>Poids</th>\n      <th>Taille</th>\n      <th>wait_time</th>\n    </tr>\n    <tr>\n      <th>contact_date</th>\n      <th></th>\n      <th></th>\n      <th></th>\n      <th></th>\n      <th></th>\n      <th></th>\n      <th></th>\n      <th></th>\n      <th></th>\n      <th></th>\n      <th></th>\n      <th></th>\n      <th></th>\n      <th></th>\n      <th></th>\n      <th></th>\n      <th></th>\n      <th></th>\n      <th></th>\n      <th></th>\n      <th></th>\n    </tr>\n  </thead>\n  <tbody>\n    <tr>\n      <th>2013-05-15</th>\n      <td>2</td>\n      <td>3.400960e+12</td>\n      <td>300.0</td>\n      <td>16800.0</td>\n      <td>56.0</td>\n      <td>29</td>\n      <td>3.0</td>\n      <td>1.00</td>\n      <td>0</td>\n      <td>168.0</td>\n      <td>...</td>\n      <td>125.0</td>\n      <td>70.0</td>\n      <td>NaN</td>\n      <td>NaN</td>\n      <td>1</td>\n      <td>93.0</td>\n      <td>1920.0</td>\n      <td>75.0</td>\n      <td>166.0</td>\n      <td>210.0</td>\n    </tr>\n    <tr>\n      <th>2014-12-19</th>\n      <td>2</td>\n      <td>3.400960e+12</td>\n      <td>300.0</td>\n      <td>16800.0</td>\n      <td>56.0</td>\n      <td>29</td>\n      <td>4.0</td>\n      <td>1.00</td>\n      <td>0</td>\n      <td>224.0</td>\n      <td>...</td>\n      <td>135.0</td>\n      <td>75.0</td>\n      <td>NaN</td>\n      <td>NaN</td>\n      <td>1</td>\n      <td>94.0</td>\n      <td>1920.0</td>\n      <td>75.0</td>\n      <td>166.0</td>\n      <td>793.0</td>\n    </tr>\n    <tr>\n      <th>2013-06-14</th>\n      <td>2</td>\n      <td>3.400960e+12</td>\n      <td>300.0</td>\n      <td>16800.0</td>\n      <td>56.0</td>\n      <td>29</td>\n      <td>3.0</td>\n      <td>1.00</td>\n      <td>0</td>\n      <td>168.0</td>\n      <td>...</td>\n      <td>130.0</td>\n      <td>73.0</td>\n      <td>NaN</td>\n      <td>NaN</td>\n      <td>1</td>\n      <td>93.0</td>\n      <td>1920.0</td>\n      <td>75.0</td>\n      <td>166.0</td>\n      <td>240.0</td>\n    </tr>\n    <tr>\n      <th>2013-01-10</th>\n      <td>2</td>\n      <td>3.400960e+12</td>\n      <td>300.0</td>\n      <td>16800.0</td>\n      <td>56.0</td>\n      <td>29</td>\n      <td>3.0</td>\n      <td>1.00</td>\n      <td>0</td>\n      <td>168.0</td>\n      <td>...</td>\n      <td>148.0</td>\n      <td>77.0</td>\n      <td>NaN</td>\n      <td>NaN</td>\n      <td>1</td>\n      <td>93.0</td>\n      <td>1920.0</td>\n      <td>75.0</td>\n      <td>166.0</td>\n      <td>85.0</td>\n    </tr>\n    <tr>\n      <th>2013-12-30</th>\n      <td>2</td>\n      <td>3.400960e+12</td>\n      <td>300.0</td>\n      <td>16800.0</td>\n      <td>56.0</td>\n      <td>29</td>\n      <td>3.0</td>\n      <td>1.00</td>\n      <td>0</td>\n      <td>168.0</td>\n      <td>...</td>\n      <td>130.0</td>\n      <td>80.0</td>\n      <td>NaN</td>\n      <td>NaN</td>\n      <td>1</td>\n      <td>93.0</td>\n      <td>1920.0</td>\n      <td>75.0</td>\n      <td>166.0</td>\n      <td>439.0</td>\n    </tr>\n    <tr>\n      <th>...</th>\n      <td>...</td>\n      <td>...</td>\n      <td>...</td>\n      <td>...</td>\n      <td>...</td>\n      <td>...</td>\n      <td>...</td>\n      <td>...</td>\n      <td>...</td>\n      <td>...</td>\n      <td>...</td>\n      <td>...</td>\n      <td>...</td>\n      <td>...</td>\n      <td>...</td>\n      <td>...</td>\n      <td>...</td>\n      <td>...</td>\n      <td>...</td>\n      <td>...</td>\n      <td>...</td>\n    </tr>\n    <tr>\n      <th>2016-09-11</th>\n      <td>2</td>\n      <td>3.400940e+12</td>\n      <td>500.0</td>\n      <td>15000.0</td>\n      <td>30.0</td>\n      <td>2</td>\n      <td>1.0</td>\n      <td>1.00</td>\n      <td>0</td>\n      <td>28.0</td>\n      <td>...</td>\n      <td>112.0</td>\n      <td>61.0</td>\n      <td>NaN</td>\n      <td>NaN</td>\n      <td>1</td>\n      <td>81.0</td>\n      <td>1935.0</td>\n      <td>63.8</td>\n      <td>162.0</td>\n      <td>5101.0</td>\n    </tr>\n    <tr>\n      <th>2016-11-16</th>\n      <td>2</td>\n      <td>3.400940e+12</td>\n      <td>500.0</td>\n      <td>15000.0</td>\n      <td>30.0</td>\n      <td>2</td>\n      <td>1.0</td>\n      <td>1.00</td>\n      <td>0</td>\n      <td>28.0</td>\n      <td>...</td>\n      <td>108.0</td>\n      <td>61.0</td>\n      <td>NaN</td>\n      <td>NaN</td>\n      <td>1</td>\n      <td>81.0</td>\n      <td>1935.0</td>\n      <td>63.8</td>\n      <td>162.0</td>\n      <td>5167.0</td>\n    </tr>\n    <tr>\n      <th>2016-11-16</th>\n      <td>2</td>\n      <td>3.400940e+12</td>\n      <td>500.0</td>\n      <td>15000.0</td>\n      <td>30.0</td>\n      <td>2</td>\n      <td>1.0</td>\n      <td>0.75</td>\n      <td>0</td>\n      <td>28.0</td>\n      <td>...</td>\n      <td>120.0</td>\n      <td>60.0</td>\n      <td>NaN</td>\n      <td>NaN</td>\n      <td>1</td>\n      <td>79.0</td>\n      <td>1937.0</td>\n      <td>83.9</td>\n      <td>NaN</td>\n      <td>1737.0</td>\n    </tr>\n    <tr>\n      <th>2013-02-01</th>\n      <td>2</td>\n      <td>3.400940e+12</td>\n      <td>500.0</td>\n      <td>15000.0</td>\n      <td>30.0</td>\n      <td>2</td>\n      <td>1.0</td>\n      <td>0.50</td>\n      <td>0</td>\n      <td>28.0</td>\n      <td>...</td>\n      <td>120.0</td>\n      <td>70.0</td>\n      <td>NaN</td>\n      <td>NaN</td>\n      <td>1</td>\n      <td>85.0</td>\n      <td>1928.0</td>\n      <td>NaN</td>\n      <td>NaN</td>\n      <td>1888.0</td>\n    </tr>\n    <tr>\n      <th>2013-01-24</th>\n      <td>2</td>\n      <td>3.400940e+12</td>\n      <td>500.0</td>\n      <td>15000.0</td>\n      <td>30.0</td>\n      <td>2</td>\n      <td>1.0</td>\n      <td>0.50</td>\n      <td>0</td>\n      <td>28.0</td>\n      <td>...</td>\n      <td>120.0</td>\n      <td>70.0</td>\n      <td>NaN</td>\n      <td>NaN</td>\n      <td>1</td>\n      <td>85.0</td>\n      <td>1928.0</td>\n      <td>NaN</td>\n      <td>NaN</td>\n      <td>1880.0</td>\n    </tr>\n  </tbody>\n</table>\n<p>19233 rows × 23 columns</p>\n</div>"
     },
     "metadata": {},
     "execution_count": 158
    }
   ],
   "source": [
    "ts"
   ]
  },
  {
   "cell_type": "code",
   "execution_count": null,
   "metadata": {},
   "outputs": [],
   "source": []
  }
 ]
}