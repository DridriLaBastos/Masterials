{
 "metadata": {
  "language_info": {
   "codemirror_mode": {
    "name": "ipython",
    "version": 3
   },
   "file_extension": ".py",
   "mimetype": "text/x-python",
   "name": "python",
   "nbconvert_exporter": "python",
   "pygments_lexer": "ipython3",
   "version": "3.8.2-final"
  },
  "orig_nbformat": 2,
  "kernelspec": {
   "name": "python3",
   "display_name": "Python 3.8.2 64-bit",
   "metadata": {
    "interpreter": {
     "hash": "31f2aee4e71d21fbe5cf8b01ff0e069b9275f58929596ceb00d14d90e3e16cd6"
    }
   }
  }
 },
 "nbformat": 4,
 "nbformat_minor": 2,
 "cells": [
  {
   "cell_type": "code",
   "execution_count": 5,
   "metadata": {},
   "outputs": [],
   "source": [
    "import pandas as pd\n",
    "import numpy as np\n",
    "\n",
    "from matplotlib import pyplot as plt\n",
    "\n",
    "from sklearn.preprocessing import LabelEncoder\n",
    "\n",
    "from keras import layers\n",
    "from keras import models\n",
    "from keras import losses"
   ]
  },
  {
   "cell_type": "code",
   "execution_count": 6,
   "metadata": {},
   "outputs": [],
   "source": [
    "dateColumnNames = [\n",
    "    'contact_date',\n",
    "    'Glycemie_der_date',\n",
    "    'HbA1c_der_date',\n",
    "    'der_date_poids',\n",
    "    'der_date_taille',\n",
    "    'first_contact_date'\n",
    "]\n",
    "\n",
    "dfView = pd.read_csv('PatientsHTA.zip',nrows=1)\n",
    "df = pd.read_csv('PatientsHTA.zip',engine='c',parse_dates=dateColumnNames)\n",
    "df = df[df.first_contact_date.values <= df.contact_date.values]"
   ]
  },
  {
   "source": [
    "# Suppression des lignes trop peu nombreuses\n",
    "\n",
    "Nous souhaitons faire un apprentissage en utilisant la dimension temporelle comme filtre pour le CNN. Pour ça il faut donc que nous ayons plusieurs entrée. Avant de commencer à traîter les données, nous supprimons toutes les personnes qui n'ont pas rendu visite assez souvent à leur médecin. Ainsi, par le biais de ```person_id```, nous avons choisi arbitrairement que pour être utile à l'apprentissage, il faut au moins 4 visites par patient, soient toutes les lignes dont le ```person_id```est contenu plus de 4 fois dans tout le jeu de données."
   ],
   "cell_type": "markdown",
   "metadata": {}
  },
  {
   "cell_type": "code",
   "execution_count": 7,
   "metadata": {},
   "outputs": [],
   "source": [
    "valueCounts = df.person_id.value_counts()\n",
    "dfEnought = df[df.person_id.isin(valueCounts[valueCounts.values >= 4].index)]"
   ]
  },
  {
   "source": [
    "# Suppression des colonnes innutiles\n",
    "\n",
    "## Suppression de la colonne ```age_now```\n",
    "\n",
    "Nous pouvons supprimer la colonne ```age_now``` car les données qu'elle contient sont identiques à celles de la colonne ```year_of_birth```.\n",
    "\n"
   ],
   "cell_type": "markdown",
   "metadata": {}
  },
  {
   "source": [
    "dfWithoutAgeNow = dfEnought.drop('Age_now', axis='columns')"
   ],
   "cell_type": "code",
   "metadata": {},
   "execution_count": 8,
   "outputs": []
  },
  {
   "source": [
    "## Suppression de la colonne ```contact_id```\n",
    "\n",
    "En effet, la colonne ```contact_id``` ne représente aucun intérêt pour l'apprentissage car elle ne contient aucun information à même d'influer sur la prédiction."
   ],
   "cell_type": "markdown",
   "metadata": {}
  },
  {
   "cell_type": "code",
   "execution_count": 9,
   "metadata": {},
   "outputs": [],
   "source": [
    "dfWithoutContactID = dfWithoutAgeNow.drop('contact_id',axis='columns')"
   ]
  },
  {
   "source": [
    "## Suppression des noms de médicaments"
   ],
   "cell_type": "markdown",
   "metadata": {}
  },
  {
   "cell_type": "code",
   "execution_count": 10,
   "metadata": {},
   "outputs": [
    {
     "output_type": "stream",
     "name": "stdout",
     "text": [
      "                  molecule_label  short_name  long_name  Classe  product_atc\nproduct_atc_code                                                            \nC02AC06                     4239        4239       4239    4239         4239\nC03BX03                      924         924        924     924          924\nC03CA01                      869         869        869     869          869\nC03DA01                      186         186        186     186          186\nC03DA04                       23          23         23      23           23\nC03EA04                       75          75         75      75           75\nC03EB01                       10          10         10      10           10\nC07AA05                        2           2          2       2            2\nC07AB03                     6358        6358       6358    6358         6358\nC07AB04                       39          39         39      39           39\nC07AB07                     6687        6687       6687    6687         6687\nC07AB12                      509         509        509     509          509\nC07DB01                       10          10         10      10           10\nC08CA01                      674         674        674     674          674\nC08DB01                      107         107        107     107          107\nC09AA02                       48          48         48      48           48\nC09AA03                       47          47         47      47           47\nC09AA04                     1177        1177       1177    1177         1177\nC09AA05                      232         232        232     232          232\nC09AA06                       20          20         20      20           20\nC09BA02                       11          11         11      11           11\nC09BA04                      908         908        908     908          908\nC09CA01                      277         277        277     277          277\nC09CA03                     2690        2690       2690    2690         2690\nC09CA04                      613         613        613     613          613\nC09CA06                     1284        1284       1284    1284         1284\nC09CA07                      108         108        108     108          108\nC09DA01                      541         541        541     541          541\nC09DA03                     1828        1828       1828    1828         1828\nC09DA04                      572         572        572     572          572\nC09DB04                     5196        5196       5196    5196         5196\nC09XA02                       58          58         58      58           58\nC09XA52                      203         203        203     203          203\n"
     ]
    }
   ],
   "source": [
    "dfGroupedByMoleculeLabel = dfWithoutContactID.groupby('product_atc_code')[['molecule_label','short_name','long_name','Classe','product_atc']].count()\n",
    "print(dfGroupedByMoleculeLabel)"
   ]
  },
  {
   "source": [
    "Nous voyons qu'il existe différentes colonnes dont le but est de désigner le médicament prescrit lors de la visite, or nous n'avons besoin que d'une seule colonne garder cette information. De ce fait, nous avons choisi de garder ```product_atc_code```."
   ],
   "cell_type": "markdown",
   "metadata": {}
  },
  {
   "cell_type": "code",
   "execution_count": 11,
   "metadata": {},
   "outputs": [
    {
     "output_type": "execute_result",
     "data": {
      "text/plain": [
       "        person_id      specialty_label contact_date           cip  dosage_1  \\\n",
       "1        263659.0  Médecin généraliste   2014-09-24  3.400960e+12      20.0   \n",
       "2        263659.0  Médecin généraliste   2014-09-12  3.400960e+12      20.0   \n",
       "3        263659.0  Médecin généraliste   2015-03-26  3.400960e+12      20.0   \n",
       "4        263659.0  Médecin généraliste   2015-06-05  3.400960e+12      20.0   \n",
       "6      25182917.0  Médecin généraliste   2013-03-27  3.400960e+12     300.0   \n",
       "...           ...                  ...          ...           ...       ...   \n",
       "50625  26636453.0  Médecin généraliste   2016-11-16  3.400940e+12     500.0   \n",
       "50627  18889430.0  Médecin généraliste   2013-02-01  3.400940e+12     500.0   \n",
       "50629   2222336.0  Médecin généraliste   2013-07-01  3.400940e+12     500.0   \n",
       "50631  11363518.0  Médecin généraliste   2013-01-24  3.400940e+12     500.0   \n",
       "50632  18889430.0  Médecin généraliste   2013-01-24  3.400940e+12     500.0   \n",
       "\n",
       "        dose_1  dose_2 product_atc_code  box  quantity  ... HbA1c_der_date  \\\n",
       "1        240.0    24.0         C03CA01   1.0      4.00  ...            NaT   \n",
       "2        240.0    24.0         C03CA01   1.0      4.00  ...            NaT   \n",
       "3        240.0    24.0         C03CA01   1.0      4.00  ...            NaT   \n",
       "4        240.0    24.0         C03CA01   1.0      4.00  ...            NaT   \n",
       "6      16800.0    56.0         C09XA02   2.0      1.00  ...            NaT   \n",
       "...        ...     ...              ...  ...       ...  ...            ...   \n",
       "50625  15000.0    30.0         C03CA01   1.0      0.75  ...     2017-10-03   \n",
       "50627  15000.0    30.0         C03CA01   1.0      0.50  ...     2017-05-15   \n",
       "50629  15000.0    30.0         C03CA01   2.0      0.25  ...            NaT   \n",
       "50631  15000.0    30.0         C03CA01   1.0      0.25  ...            NaT   \n",
       "50632  15000.0    30.0         C03CA01   1.0      0.50  ...     2017-05-15   \n",
       "\n",
       "       HbA1c_der_mesure gender_code Age_presc  year_of_birth  Poids  \\\n",
       "1                   NaN           M      96.0         1918.0    NaN   \n",
       "2                   NaN           M      96.0         1918.0    NaN   \n",
       "3                   NaN           M      97.0         1918.0    NaN   \n",
       "4                   NaN           M      97.0         1918.0    NaN   \n",
       "6                   NaN           M      63.0         1950.0    NaN   \n",
       "...                 ...         ...       ...            ...    ...   \n",
       "50625              5.60           M      79.0         1937.0   83.9   \n",
       "50627              8.01           M      85.0         1928.0    NaN   \n",
       "50629               NaN           F      78.0         1935.0    NaN   \n",
       "50631               NaN           M      80.0         1933.0    NaN   \n",
       "50632              8.01           M      85.0         1928.0    NaN   \n",
       "\n",
       "       der_date_poids  Taille der_date_taille  first_contact_date  \n",
       "1                 NaT     NaN             NaT          1998-04-02  \n",
       "2                 NaT     NaN             NaT          1998-04-02  \n",
       "3                 NaT     NaN             NaT          1998-04-02  \n",
       "4                 NaT     NaN             NaT          1998-04-02  \n",
       "6                 NaT     NaN             NaT          2011-04-04  \n",
       "...               ...     ...             ...                 ...  \n",
       "50625      2018-02-21     NaN             NaT          2012-02-14  \n",
       "50627             NaT     NaN             NaT          2007-12-02  \n",
       "50629             NaT     NaN             NaT          2006-02-23  \n",
       "50631             NaT     NaN             NaT          1998-01-27  \n",
       "50632             NaT     NaN             NaT          2007-12-02  \n",
       "\n",
       "[36525 rows x 31 columns]"
      ],
      "text/html": "<div>\n<style scoped>\n    .dataframe tbody tr th:only-of-type {\n        vertical-align: middle;\n    }\n\n    .dataframe tbody tr th {\n        vertical-align: top;\n    }\n\n    .dataframe thead th {\n        text-align: right;\n    }\n</style>\n<table border=\"1\" class=\"dataframe\">\n  <thead>\n    <tr style=\"text-align: right;\">\n      <th></th>\n      <th>person_id</th>\n      <th>specialty_label</th>\n      <th>contact_date</th>\n      <th>cip</th>\n      <th>dosage_1</th>\n      <th>dose_1</th>\n      <th>dose_2</th>\n      <th>product_atc_code</th>\n      <th>box</th>\n      <th>quantity</th>\n      <th>...</th>\n      <th>HbA1c_der_date</th>\n      <th>HbA1c_der_mesure</th>\n      <th>gender_code</th>\n      <th>Age_presc</th>\n      <th>year_of_birth</th>\n      <th>Poids</th>\n      <th>der_date_poids</th>\n      <th>Taille</th>\n      <th>der_date_taille</th>\n      <th>first_contact_date</th>\n    </tr>\n  </thead>\n  <tbody>\n    <tr>\n      <th>1</th>\n      <td>263659.0</td>\n      <td>Médecin généraliste</td>\n      <td>2014-09-24</td>\n      <td>3.400960e+12</td>\n      <td>20.0</td>\n      <td>240.0</td>\n      <td>24.0</td>\n      <td>C03CA01</td>\n      <td>1.0</td>\n      <td>4.00</td>\n      <td>...</td>\n      <td>NaT</td>\n      <td>NaN</td>\n      <td>M</td>\n      <td>96.0</td>\n      <td>1918.0</td>\n      <td>NaN</td>\n      <td>NaT</td>\n      <td>NaN</td>\n      <td>NaT</td>\n      <td>1998-04-02</td>\n    </tr>\n    <tr>\n      <th>2</th>\n      <td>263659.0</td>\n      <td>Médecin généraliste</td>\n      <td>2014-09-12</td>\n      <td>3.400960e+12</td>\n      <td>20.0</td>\n      <td>240.0</td>\n      <td>24.0</td>\n      <td>C03CA01</td>\n      <td>1.0</td>\n      <td>4.00</td>\n      <td>...</td>\n      <td>NaT</td>\n      <td>NaN</td>\n      <td>M</td>\n      <td>96.0</td>\n      <td>1918.0</td>\n      <td>NaN</td>\n      <td>NaT</td>\n      <td>NaN</td>\n      <td>NaT</td>\n      <td>1998-04-02</td>\n    </tr>\n    <tr>\n      <th>3</th>\n      <td>263659.0</td>\n      <td>Médecin généraliste</td>\n      <td>2015-03-26</td>\n      <td>3.400960e+12</td>\n      <td>20.0</td>\n      <td>240.0</td>\n      <td>24.0</td>\n      <td>C03CA01</td>\n      <td>1.0</td>\n      <td>4.00</td>\n      <td>...</td>\n      <td>NaT</td>\n      <td>NaN</td>\n      <td>M</td>\n      <td>97.0</td>\n      <td>1918.0</td>\n      <td>NaN</td>\n      <td>NaT</td>\n      <td>NaN</td>\n      <td>NaT</td>\n      <td>1998-04-02</td>\n    </tr>\n    <tr>\n      <th>4</th>\n      <td>263659.0</td>\n      <td>Médecin généraliste</td>\n      <td>2015-06-05</td>\n      <td>3.400960e+12</td>\n      <td>20.0</td>\n      <td>240.0</td>\n      <td>24.0</td>\n      <td>C03CA01</td>\n      <td>1.0</td>\n      <td>4.00</td>\n      <td>...</td>\n      <td>NaT</td>\n      <td>NaN</td>\n      <td>M</td>\n      <td>97.0</td>\n      <td>1918.0</td>\n      <td>NaN</td>\n      <td>NaT</td>\n      <td>NaN</td>\n      <td>NaT</td>\n      <td>1998-04-02</td>\n    </tr>\n    <tr>\n      <th>6</th>\n      <td>25182917.0</td>\n      <td>Médecin généraliste</td>\n      <td>2013-03-27</td>\n      <td>3.400960e+12</td>\n      <td>300.0</td>\n      <td>16800.0</td>\n      <td>56.0</td>\n      <td>C09XA02</td>\n      <td>2.0</td>\n      <td>1.00</td>\n      <td>...</td>\n      <td>NaT</td>\n      <td>NaN</td>\n      <td>M</td>\n      <td>63.0</td>\n      <td>1950.0</td>\n      <td>NaN</td>\n      <td>NaT</td>\n      <td>NaN</td>\n      <td>NaT</td>\n      <td>2011-04-04</td>\n    </tr>\n    <tr>\n      <th>...</th>\n      <td>...</td>\n      <td>...</td>\n      <td>...</td>\n      <td>...</td>\n      <td>...</td>\n      <td>...</td>\n      <td>...</td>\n      <td>...</td>\n      <td>...</td>\n      <td>...</td>\n      <td>...</td>\n      <td>...</td>\n      <td>...</td>\n      <td>...</td>\n      <td>...</td>\n      <td>...</td>\n      <td>...</td>\n      <td>...</td>\n      <td>...</td>\n      <td>...</td>\n      <td>...</td>\n    </tr>\n    <tr>\n      <th>50625</th>\n      <td>26636453.0</td>\n      <td>Médecin généraliste</td>\n      <td>2016-11-16</td>\n      <td>3.400940e+12</td>\n      <td>500.0</td>\n      <td>15000.0</td>\n      <td>30.0</td>\n      <td>C03CA01</td>\n      <td>1.0</td>\n      <td>0.75</td>\n      <td>...</td>\n      <td>2017-10-03</td>\n      <td>5.60</td>\n      <td>M</td>\n      <td>79.0</td>\n      <td>1937.0</td>\n      <td>83.9</td>\n      <td>2018-02-21</td>\n      <td>NaN</td>\n      <td>NaT</td>\n      <td>2012-02-14</td>\n    </tr>\n    <tr>\n      <th>50627</th>\n      <td>18889430.0</td>\n      <td>Médecin généraliste</td>\n      <td>2013-02-01</td>\n      <td>3.400940e+12</td>\n      <td>500.0</td>\n      <td>15000.0</td>\n      <td>30.0</td>\n      <td>C03CA01</td>\n      <td>1.0</td>\n      <td>0.50</td>\n      <td>...</td>\n      <td>2017-05-15</td>\n      <td>8.01</td>\n      <td>M</td>\n      <td>85.0</td>\n      <td>1928.0</td>\n      <td>NaN</td>\n      <td>NaT</td>\n      <td>NaN</td>\n      <td>NaT</td>\n      <td>2007-12-02</td>\n    </tr>\n    <tr>\n      <th>50629</th>\n      <td>2222336.0</td>\n      <td>Médecin généraliste</td>\n      <td>2013-07-01</td>\n      <td>3.400940e+12</td>\n      <td>500.0</td>\n      <td>15000.0</td>\n      <td>30.0</td>\n      <td>C03CA01</td>\n      <td>2.0</td>\n      <td>0.25</td>\n      <td>...</td>\n      <td>NaT</td>\n      <td>NaN</td>\n      <td>F</td>\n      <td>78.0</td>\n      <td>1935.0</td>\n      <td>NaN</td>\n      <td>NaT</td>\n      <td>NaN</td>\n      <td>NaT</td>\n      <td>2006-02-23</td>\n    </tr>\n    <tr>\n      <th>50631</th>\n      <td>11363518.0</td>\n      <td>Médecin généraliste</td>\n      <td>2013-01-24</td>\n      <td>3.400940e+12</td>\n      <td>500.0</td>\n      <td>15000.0</td>\n      <td>30.0</td>\n      <td>C03CA01</td>\n      <td>1.0</td>\n      <td>0.25</td>\n      <td>...</td>\n      <td>NaT</td>\n      <td>NaN</td>\n      <td>M</td>\n      <td>80.0</td>\n      <td>1933.0</td>\n      <td>NaN</td>\n      <td>NaT</td>\n      <td>NaN</td>\n      <td>NaT</td>\n      <td>1998-01-27</td>\n    </tr>\n    <tr>\n      <th>50632</th>\n      <td>18889430.0</td>\n      <td>Médecin généraliste</td>\n      <td>2013-01-24</td>\n      <td>3.400940e+12</td>\n      <td>500.0</td>\n      <td>15000.0</td>\n      <td>30.0</td>\n      <td>C03CA01</td>\n      <td>1.0</td>\n      <td>0.50</td>\n      <td>...</td>\n      <td>2017-05-15</td>\n      <td>8.01</td>\n      <td>M</td>\n      <td>85.0</td>\n      <td>1928.0</td>\n      <td>NaN</td>\n      <td>NaT</td>\n      <td>NaN</td>\n      <td>NaT</td>\n      <td>2007-12-02</td>\n    </tr>\n  </tbody>\n</table>\n<p>36525 rows × 31 columns</p>\n</div>"
     },
     "metadata": {},
     "execution_count": 11
    }
   ],
   "source": [
    "dropColumnNames = dfGroupedByMoleculeLabel.columns.to_list()\n",
    "dfWithATCCode = dfWithoutContactID.drop(dropColumnNames, axis='columns')\n",
    "dfWithATCCode"
   ]
  },
  {
   "source": [
    "## Suppression des colonnes ```'*der*'```\n",
    "\n",
    "Les colonnes ```'*der*'``` contiennent la dernière donnée. Cette donnée peut être récupérée grâce à la date de la visite et aux valeurs mesurées. Par exemple, il n'est pas nécessaire d'avoir une colonne ```der_date``` ou ```der_mesure```. Les données de ces deux types de colonnes peuvent être récupérées grâce à la ligne qui correspond à la dernière date de la mesure, que nous pouvons trouver grâce à la colonne ```contact_date```."
   ],
   "cell_type": "markdown",
   "metadata": {}
  },
  {
   "cell_type": "code",
   "execution_count": 12,
   "metadata": {},
   "outputs": [],
   "source": [
    "derColumnNames = []\n",
    "\n",
    "for c in dfWithATCCode.columns:\n",
    "    if ('der_date' in c) or ('der_mesure' in c):\n",
    "        derColumnNames.append(c)\n",
    "\n",
    "dfWithoutDer = dfWithATCCode.drop(derColumnNames,axis='columns')"
   ]
  },
  {
   "source": [
    "# Traîtement des données"
   ],
   "cell_type": "markdown",
   "metadata": {}
  },
  {
   "source": [
    "## Conversion des données"
   ],
   "cell_type": "markdown",
   "metadata": {}
  },
  {
   "source": [
    "### Ajout du temps entre chaque visite (ce que l'on veut prédire)"
   ],
   "cell_type": "markdown",
   "metadata": {}
  },
  {
   "cell_type": "code",
   "execution_count": 19,
   "metadata": {
    "tags": []
   },
   "outputs": [
    {
     "output_type": "stream",
     "name": "stdout",
     "text": [
      "11975\nperson_id                                           291\nspecialty_label                     Médecin généraliste\ncontact_date                        2016-10-28 00:00:00\ncip                                         3.40095e+12\ndosage_1                                            2.5\ndose_1                                               75\ndose_2                                               30\nproduct_atc_code                               C07AB07 \nbox                                                   6\nquantity                                              2\nfrequency_label                                    Jour\nduration                                             84\nTraitement_Autres_A10_dep_201701                    OUI\nTraitement_Insulines_dep_201701                     OUI\nPulse                                                72\nTension Diastolique                                 130\nTension Systolique                                   60\nGlycemie_prescription                               NaN\nHbA1c_prescription                                  NaN\ngender_code                                           M\nAge_presc                                            86\nyear_of_birth                                      1930\nPoids                                                81\nTaille                                              179\nfirst_contact_date                  1998-09-30 00:00:00\nName: 11975, dtype: object\nNone\n11803\nperson_id                                           291\nspecialty_label                     Médecin généraliste\ncontact_date                        2016-11-04 00:00:00\ncip                                         3.40095e+12\ndosage_1                                            2.5\ndose_1                                               75\ndose_2                                               30\nproduct_atc_code                               C07AB07 \nbox                                                   3\nquantity                                              1\nfrequency_label                                    Jour\nduration                                             84\nTraitement_Autres_A10_dep_201701                    OUI\nTraitement_Insulines_dep_201701                     OUI\nPulse                                                68\nTension Diastolique                                 142\nTension Systolique                                   65\nGlycemie_prescription                               NaN\nHbA1c_prescription                                  NaN\ngender_code                                           M\nAge_presc                                            86\nyear_of_birth                                      1930\nPoids                                                81\nTaille                                              179\nfirst_contact_date                  1998-09-30 00:00:00\nName: 11803, dtype: object\n2001-05-14 00:00:00\n"
     ]
    },
    {
     "output_type": "error",
     "ename": "AttributeError",
     "evalue": "'Timestamp' object has no attribute 'person_id'",
     "traceback": [
      "\u001b[0;31m---------------------------------------------------------------------------\u001b[0m",
      "\u001b[0;31mAttributeError\u001b[0m                            Traceback (most recent call last)",
      "\u001b[0;32m<ipython-input-19-860df86d57f7>\u001b[0m in \u001b[0;36m<module>\u001b[0;34m\u001b[0m\n\u001b[1;32m      9\u001b[0m         \u001b[0mk1\u001b[0m \u001b[0;34m=\u001b[0m \u001b[0mdfWithoutDer\u001b[0m\u001b[0;34m.\u001b[0m\u001b[0miloc\u001b[0m\u001b[0;34m[\u001b[0m\u001b[0;34m(\u001b[0m\u001b[0mk\u001b[0m\u001b[0;34m-\u001b[0m\u001b[0;36m1\u001b[0m\u001b[0;34m)\u001b[0m\u001b[0;34m]\u001b[0m\u001b[0;34m.\u001b[0m\u001b[0mall\u001b[0m\u001b[0;34m(\u001b[0m\u001b[0;34m)\u001b[0m \u001b[0;32mif\u001b[0m \u001b[0mdfWithoutDer\u001b[0m\u001b[0;34m.\u001b[0m\u001b[0miloc\u001b[0m\u001b[0;34m[\u001b[0m\u001b[0;34m(\u001b[0m\u001b[0mk\u001b[0m\u001b[0;34m-\u001b[0m\u001b[0;36m1\u001b[0m\u001b[0;34m)\u001b[0m\u001b[0;34m]\u001b[0m\u001b[0;34m.\u001b[0m\u001b[0mall\u001b[0m\u001b[0;34m(\u001b[0m\u001b[0;34m)\u001b[0m \u001b[0;32melse\u001b[0m \u001b[0;32mNone\u001b[0m\u001b[0;34m\u001b[0m\u001b[0;34m\u001b[0m\u001b[0m\n\u001b[1;32m     10\u001b[0m         \u001b[0mprint\u001b[0m\u001b[0;34m(\u001b[0m\u001b[0mk1\u001b[0m\u001b[0;34m)\u001b[0m\u001b[0;34m\u001b[0m\u001b[0;34m\u001b[0m\u001b[0m\n\u001b[0;32m---> 11\u001b[0;31m         \u001b[0;32mif\u001b[0m \u001b[0mk1\u001b[0m \u001b[0;32mand\u001b[0m \u001b[0mk1\u001b[0m\u001b[0;34m.\u001b[0m\u001b[0mperson_id\u001b[0m \u001b[0;32mand\u001b[0m \u001b[0mk1\u001b[0m\u001b[0;34m.\u001b[0m\u001b[0mperson_id\u001b[0m \u001b[0;34m==\u001b[0m \u001b[0mv\u001b[0m\u001b[0;34m.\u001b[0m\u001b[0mperson_id\u001b[0m\u001b[0;34m:\u001b[0m\u001b[0;34m\u001b[0m\u001b[0;34m\u001b[0m\u001b[0m\n\u001b[0m\u001b[1;32m     12\u001b[0m             \u001b[0mllll\u001b[0m\u001b[0;34m.\u001b[0m\u001b[0mappend\u001b[0m\u001b[0;34m(\u001b[0m  \u001b[0mv\u001b[0m\u001b[0;34m.\u001b[0m\u001b[0mcontact_date\u001b[0m \u001b[0;34m-\u001b[0m \u001b[0mk1\u001b[0m\u001b[0;34m.\u001b[0m\u001b[0mcontact_date\u001b[0m \u001b[0;34m)\u001b[0m\u001b[0;34m\u001b[0m\u001b[0;34m\u001b[0m\u001b[0m\n\u001b[1;32m     13\u001b[0m         \u001b[0;32melse\u001b[0m\u001b[0;34m:\u001b[0m\u001b[0;34m\u001b[0m\u001b[0;34m\u001b[0m\u001b[0m\n",
      "\u001b[0;31mAttributeError\u001b[0m: 'Timestamp' object has no attribute 'person_id'"
     ]
    }
   ],
   "source": [
    "dfWithoutDer.sort_values(['person_id','contact_date'], ascending=[True,True], inplace=True)\n",
    "\n",
    "# wait_time_list = list()\n",
    "# for k, v in dfWithoutDer[:10].iterrows():\n",
    "#     if k > 0:\n",
    "#         k1 = dfWithoutDer.iloc[k-1] if dfWithoutDer.iloc[k-1] else None \n",
    "#         if k1 and k1.person_id and k1.person_id == v.person_id:\n",
    "#             wait_time_list.append(  v.contact_date - k1.contact_date )\n",
    "#         else:\n",
    "#             wait_time_list.append( v.contact_date - v.first_contact_date )\n",
    "#     else:\n",
    "#         wait_time_list.append( v.contact_date - v.first_contact_date )\n",
    "\n",
    "# dfWithoutDer.append( {'wait_time': wait_time_list }, ignore_index=True )\n",
    "\n",
    "# print(dfWithoutDer)\n",
    "\n",
    "#wait_time = dfWithoutDer.contact_date - dfWithoutDer.first_contact_date\n",
    "\n",
    "On passe en semaine pour avoir un\n",
    "wait_time = np.floor(wait_time.dt.days / 7)\n",
    "\n",
    "dfWithTime = dfWithoutDer.drop('first_contact_date',axis='columns')\n",
    "dfWithTime['wait_time'] = wait_time"
   ]
  },
  {
   "cell_type": "code",
   "execution_count": null,
   "metadata": {},
   "outputs": [],
   "source": [
    "dfWithoutDer"
   ]
  },
  {
   "source": [
    "### Encodage des valeurs non numériques"
   ],
   "cell_type": "markdown",
   "metadata": {}
  },
  {
   "cell_type": "code",
   "execution_count": 56,
   "metadata": {},
   "outputs": [],
   "source": [
    "specialtyEncoder = LabelEncoder()\n",
    "ATCCodeEncoder = LabelEncoder()\n",
    "frequencyLabelEncoder = LabelEncoder()\n",
    "traitementAutresLabelEncoder = LabelEncoder()\n",
    "traitementInsulineLabelEncoder = LabelEncoder()\n",
    "genderEncoder = LabelEncoder()\n",
    "\n",
    "dfWithTime.specialty_label = specialtyEncoder.fit_transform(dfWithTime.specialty_label)\n",
    "dfWithTime.product_atc_code = ATCCodeEncoder.fit_transform(dfWithTime.product_atc_code)\n",
    "dfWithTime.frequency_label = frequencyLabelEncoder.fit_transform(dfWithTime.frequency_label.astype(str))\n",
    "dfWithTime.Traitement_Autres_A10_dep_201701 = traitementAutresLabelEncoder.fit_transform(dfWithTime.Traitement_Autres_A10_dep_201701.astype(str))\n",
    "dfWithTime.Traitement_Insulines_dep_201701 = traitementInsulineLabelEncoder.fit_transform(dfWithTime.Traitement_Insulines_dep_201701.astype(str))\n",
    "dfWithTime.gender_code = ATCCodeEncoder.fit_transform(dfWithTime.gender_code)\n"
   ]
  },
  {
   "source": [
    "### Conversion en ```TimeSeries```"
   ],
   "cell_type": "markdown",
   "metadata": {}
  },
  {
   "source": [
    "Nous définissons simplement le nouvel index comme la colonne donnant l'intervalle de temps entre chaque visite."
   ],
   "cell_type": "markdown",
   "metadata": {}
  },
  {
   "cell_type": "code",
   "execution_count": 58,
   "metadata": {},
   "outputs": [
    {
     "output_type": "execute_result",
     "data": {
      "text/plain": [
       "                         specialty_label           cip  dosage_1  dose_1  \\\n",
       "person_id  contact_date                                                    \n",
       "291.0      2016-10-28                  2  3.400950e+12       2.5    75.0   \n",
       "           2016-11-04                  2  3.400950e+12       2.5    75.0   \n",
       "           2016-11-21                  2  3.400950e+12       2.5    75.0   \n",
       "           2017-01-16                  2  3.400950e+12       2.5    75.0   \n",
       "           2017-11-20                  2  3.400950e+12       2.5    75.0   \n",
       "...                                  ...           ...       ...     ...   \n",
       "34823672.0 2017-04-15                  2  3.400950e+12     100.0  9000.0   \n",
       "           2017-06-26                  2  3.400950e+12     100.0  9000.0   \n",
       "           2017-08-30                  2  3.400950e+12     100.0  9000.0   \n",
       "           2017-09-11                  2  3.400950e+12     100.0  9000.0   \n",
       "           2018-08-02                  2  3.400950e+12     100.0  9000.0   \n",
       "\n",
       "                         dose_2  product_atc_code  box  quantity  \\\n",
       "person_id  contact_date                                            \n",
       "291.0      2016-10-28      30.0                10  6.0       2.0   \n",
       "           2016-11-04      30.0                10  3.0       1.0   \n",
       "           2016-11-21      30.0                10  3.0       1.0   \n",
       "           2017-01-16      30.0                10  3.0       1.0   \n",
       "           2017-11-20      30.0                10  3.0       1.0   \n",
       "...                         ...               ...  ...       ...   \n",
       "34823672.0 2017-04-15      90.0                 8  1.0       1.0   \n",
       "           2017-06-26      90.0                 8  1.0       1.0   \n",
       "           2017-08-30      90.0                 8  1.0       1.0   \n",
       "           2017-09-11      90.0                 8  1.0       1.0   \n",
       "           2018-08-02      90.0                 8  1.0       1.0   \n",
       "\n",
       "                         frequency_label  duration  ...  Tension Diastolique  \\\n",
       "person_id  contact_date                             ...                        \n",
       "291.0      2016-10-28                  0      84.0  ...                130.0   \n",
       "           2016-11-04                  0      84.0  ...                142.0   \n",
       "           2016-11-21                  0      84.0  ...                140.0   \n",
       "           2017-01-16                  0      84.0  ...                125.0   \n",
       "           2017-11-20                  0      84.0  ...                115.0   \n",
       "...                                  ...       ...  ...                  ...   \n",
       "34823672.0 2017-04-15                  0      84.0  ...                140.0   \n",
       "           2017-06-26                  0      56.0  ...                130.0   \n",
       "           2017-08-30                  0      56.0  ...                130.0   \n",
       "           2017-09-11                  0      56.0  ...                140.0   \n",
       "           2018-08-02                  0      56.0  ...                130.0   \n",
       "\n",
       "                         Tension Systolique  Glycemie_prescription  \\\n",
       "person_id  contact_date                                              \n",
       "291.0      2016-10-28                  60.0                    NaN   \n",
       "           2016-11-04                  65.0                    NaN   \n",
       "           2016-11-21                  75.0                    NaN   \n",
       "           2017-01-16                  70.0                    NaN   \n",
       "           2017-11-20                  60.0                    NaN   \n",
       "...                                     ...                    ...   \n",
       "34823672.0 2017-04-15                  60.0                    NaN   \n",
       "           2017-06-26                  70.0                    NaN   \n",
       "           2017-08-30                  70.0                    NaN   \n",
       "           2017-09-11                  80.0                    NaN   \n",
       "           2018-08-02                  70.0                    NaN   \n",
       "\n",
       "                         HbA1c_prescription  gender_code  Age_presc  \\\n",
       "person_id  contact_date                                               \n",
       "291.0      2016-10-28                   NaN            1       86.0   \n",
       "           2016-11-04                   NaN            1       86.0   \n",
       "           2016-11-21                   NaN            1       86.0   \n",
       "           2017-01-16                   NaN            1       87.0   \n",
       "           2017-11-20                   NaN            1       87.0   \n",
       "...                                     ...          ...        ...   \n",
       "34823672.0 2017-04-15                   NaN            0       73.0   \n",
       "           2017-06-26                   NaN            0       73.0   \n",
       "           2017-08-30                   NaN            0       73.0   \n",
       "           2017-09-11                   NaN            0       73.0   \n",
       "           2018-08-02                   NaN            0       74.0   \n",
       "\n",
       "                         year_of_birth  Poids  Taille  wait_time  \n",
       "person_id  contact_date                                           \n",
       "291.0      2016-10-28           1930.0   81.0   179.0      943.0  \n",
       "           2016-11-04           1930.0   81.0   179.0      944.0  \n",
       "           2016-11-21           1930.0   81.0   179.0      946.0  \n",
       "           2017-01-16           1930.0   81.0   179.0      954.0  \n",
       "           2017-11-20           1930.0   81.0   179.0      998.0  \n",
       "...                                ...    ...     ...        ...  \n",
       "34823672.0 2017-04-15           1944.0   72.2   148.0        0.0  \n",
       "           2017-06-26           1944.0   72.2   148.0       10.0  \n",
       "           2017-08-30           1944.0   72.2   148.0       19.0  \n",
       "           2017-09-11           1944.0   72.2   148.0       21.0  \n",
       "           2018-08-02           1944.0   72.2   148.0       67.0  \n",
       "\n",
       "[36525 rows x 23 columns]"
      ],
      "text/html": "<div>\n<style scoped>\n    .dataframe tbody tr th:only-of-type {\n        vertical-align: middle;\n    }\n\n    .dataframe tbody tr th {\n        vertical-align: top;\n    }\n\n    .dataframe thead th {\n        text-align: right;\n    }\n</style>\n<table border=\"1\" class=\"dataframe\">\n  <thead>\n    <tr style=\"text-align: right;\">\n      <th></th>\n      <th></th>\n      <th>specialty_label</th>\n      <th>cip</th>\n      <th>dosage_1</th>\n      <th>dose_1</th>\n      <th>dose_2</th>\n      <th>product_atc_code</th>\n      <th>box</th>\n      <th>quantity</th>\n      <th>frequency_label</th>\n      <th>duration</th>\n      <th>...</th>\n      <th>Tension Diastolique</th>\n      <th>Tension Systolique</th>\n      <th>Glycemie_prescription</th>\n      <th>HbA1c_prescription</th>\n      <th>gender_code</th>\n      <th>Age_presc</th>\n      <th>year_of_birth</th>\n      <th>Poids</th>\n      <th>Taille</th>\n      <th>wait_time</th>\n    </tr>\n    <tr>\n      <th>person_id</th>\n      <th>contact_date</th>\n      <th></th>\n      <th></th>\n      <th></th>\n      <th></th>\n      <th></th>\n      <th></th>\n      <th></th>\n      <th></th>\n      <th></th>\n      <th></th>\n      <th></th>\n      <th></th>\n      <th></th>\n      <th></th>\n      <th></th>\n      <th></th>\n      <th></th>\n      <th></th>\n      <th></th>\n      <th></th>\n      <th></th>\n    </tr>\n  </thead>\n  <tbody>\n    <tr>\n      <th rowspan=\"5\" valign=\"top\">291.0</th>\n      <th>2016-10-28</th>\n      <td>2</td>\n      <td>3.400950e+12</td>\n      <td>2.5</td>\n      <td>75.0</td>\n      <td>30.0</td>\n      <td>10</td>\n      <td>6.0</td>\n      <td>2.0</td>\n      <td>0</td>\n      <td>84.0</td>\n      <td>...</td>\n      <td>130.0</td>\n      <td>60.0</td>\n      <td>NaN</td>\n      <td>NaN</td>\n      <td>1</td>\n      <td>86.0</td>\n      <td>1930.0</td>\n      <td>81.0</td>\n      <td>179.0</td>\n      <td>943.0</td>\n    </tr>\n    <tr>\n      <th>2016-11-04</th>\n      <td>2</td>\n      <td>3.400950e+12</td>\n      <td>2.5</td>\n      <td>75.0</td>\n      <td>30.0</td>\n      <td>10</td>\n      <td>3.0</td>\n      <td>1.0</td>\n      <td>0</td>\n      <td>84.0</td>\n      <td>...</td>\n      <td>142.0</td>\n      <td>65.0</td>\n      <td>NaN</td>\n      <td>NaN</td>\n      <td>1</td>\n      <td>86.0</td>\n      <td>1930.0</td>\n      <td>81.0</td>\n      <td>179.0</td>\n      <td>944.0</td>\n    </tr>\n    <tr>\n      <th>2016-11-21</th>\n      <td>2</td>\n      <td>3.400950e+12</td>\n      <td>2.5</td>\n      <td>75.0</td>\n      <td>30.0</td>\n      <td>10</td>\n      <td>3.0</td>\n      <td>1.0</td>\n      <td>0</td>\n      <td>84.0</td>\n      <td>...</td>\n      <td>140.0</td>\n      <td>75.0</td>\n      <td>NaN</td>\n      <td>NaN</td>\n      <td>1</td>\n      <td>86.0</td>\n      <td>1930.0</td>\n      <td>81.0</td>\n      <td>179.0</td>\n      <td>946.0</td>\n    </tr>\n    <tr>\n      <th>2017-01-16</th>\n      <td>2</td>\n      <td>3.400950e+12</td>\n      <td>2.5</td>\n      <td>75.0</td>\n      <td>30.0</td>\n      <td>10</td>\n      <td>3.0</td>\n      <td>1.0</td>\n      <td>0</td>\n      <td>84.0</td>\n      <td>...</td>\n      <td>125.0</td>\n      <td>70.0</td>\n      <td>NaN</td>\n      <td>NaN</td>\n      <td>1</td>\n      <td>87.0</td>\n      <td>1930.0</td>\n      <td>81.0</td>\n      <td>179.0</td>\n      <td>954.0</td>\n    </tr>\n    <tr>\n      <th>2017-11-20</th>\n      <td>2</td>\n      <td>3.400950e+12</td>\n      <td>2.5</td>\n      <td>75.0</td>\n      <td>30.0</td>\n      <td>10</td>\n      <td>3.0</td>\n      <td>1.0</td>\n      <td>0</td>\n      <td>84.0</td>\n      <td>...</td>\n      <td>115.0</td>\n      <td>60.0</td>\n      <td>NaN</td>\n      <td>NaN</td>\n      <td>1</td>\n      <td>87.0</td>\n      <td>1930.0</td>\n      <td>81.0</td>\n      <td>179.0</td>\n      <td>998.0</td>\n    </tr>\n    <tr>\n      <th>...</th>\n      <th>...</th>\n      <td>...</td>\n      <td>...</td>\n      <td>...</td>\n      <td>...</td>\n      <td>...</td>\n      <td>...</td>\n      <td>...</td>\n      <td>...</td>\n      <td>...</td>\n      <td>...</td>\n      <td>...</td>\n      <td>...</td>\n      <td>...</td>\n      <td>...</td>\n      <td>...</td>\n      <td>...</td>\n      <td>...</td>\n      <td>...</td>\n      <td>...</td>\n      <td>...</td>\n      <td>...</td>\n    </tr>\n    <tr>\n      <th rowspan=\"5\" valign=\"top\">34823672.0</th>\n      <th>2017-04-15</th>\n      <td>2</td>\n      <td>3.400950e+12</td>\n      <td>100.0</td>\n      <td>9000.0</td>\n      <td>90.0</td>\n      <td>8</td>\n      <td>1.0</td>\n      <td>1.0</td>\n      <td>0</td>\n      <td>84.0</td>\n      <td>...</td>\n      <td>140.0</td>\n      <td>60.0</td>\n      <td>NaN</td>\n      <td>NaN</td>\n      <td>0</td>\n      <td>73.0</td>\n      <td>1944.0</td>\n      <td>72.2</td>\n      <td>148.0</td>\n      <td>0.0</td>\n    </tr>\n    <tr>\n      <th>2017-06-26</th>\n      <td>2</td>\n      <td>3.400950e+12</td>\n      <td>100.0</td>\n      <td>9000.0</td>\n      <td>90.0</td>\n      <td>8</td>\n      <td>1.0</td>\n      <td>1.0</td>\n      <td>0</td>\n      <td>56.0</td>\n      <td>...</td>\n      <td>130.0</td>\n      <td>70.0</td>\n      <td>NaN</td>\n      <td>NaN</td>\n      <td>0</td>\n      <td>73.0</td>\n      <td>1944.0</td>\n      <td>72.2</td>\n      <td>148.0</td>\n      <td>10.0</td>\n    </tr>\n    <tr>\n      <th>2017-08-30</th>\n      <td>2</td>\n      <td>3.400950e+12</td>\n      <td>100.0</td>\n      <td>9000.0</td>\n      <td>90.0</td>\n      <td>8</td>\n      <td>1.0</td>\n      <td>1.0</td>\n      <td>0</td>\n      <td>56.0</td>\n      <td>...</td>\n      <td>130.0</td>\n      <td>70.0</td>\n      <td>NaN</td>\n      <td>NaN</td>\n      <td>0</td>\n      <td>73.0</td>\n      <td>1944.0</td>\n      <td>72.2</td>\n      <td>148.0</td>\n      <td>19.0</td>\n    </tr>\n    <tr>\n      <th>2017-09-11</th>\n      <td>2</td>\n      <td>3.400950e+12</td>\n      <td>100.0</td>\n      <td>9000.0</td>\n      <td>90.0</td>\n      <td>8</td>\n      <td>1.0</td>\n      <td>1.0</td>\n      <td>0</td>\n      <td>56.0</td>\n      <td>...</td>\n      <td>140.0</td>\n      <td>80.0</td>\n      <td>NaN</td>\n      <td>NaN</td>\n      <td>0</td>\n      <td>73.0</td>\n      <td>1944.0</td>\n      <td>72.2</td>\n      <td>148.0</td>\n      <td>21.0</td>\n    </tr>\n    <tr>\n      <th>2018-08-02</th>\n      <td>2</td>\n      <td>3.400950e+12</td>\n      <td>100.0</td>\n      <td>9000.0</td>\n      <td>90.0</td>\n      <td>8</td>\n      <td>1.0</td>\n      <td>1.0</td>\n      <td>0</td>\n      <td>56.0</td>\n      <td>...</td>\n      <td>130.0</td>\n      <td>70.0</td>\n      <td>NaN</td>\n      <td>NaN</td>\n      <td>0</td>\n      <td>74.0</td>\n      <td>1944.0</td>\n      <td>72.2</td>\n      <td>148.0</td>\n      <td>67.0</td>\n    </tr>\n  </tbody>\n</table>\n<p>36525 rows × 23 columns</p>\n</div>"
     },
     "metadata": {},
     "execution_count": 58
    }
   ],
   "source": [
    "ts = dfWithTime.set_index(['person_id','contact_date'])\n",
    "ts"
   ]
  },
  {
   "source": [
    "# Prédiction"
   ],
   "cell_type": "markdown",
   "metadata": {}
  },
  {
   "source": [
    "## Création des données d'entraînement/test"
   ],
   "cell_type": "markdown",
   "metadata": {}
  },
  {
   "cell_type": "code",
   "execution_count": 105,
   "metadata": {
    "tags": []
   },
   "outputs": [],
   "source": [
    "yColumNames = ['product_atc_code','wait_time']\n",
    "\n",
    "xDf = ts.drop(yColumNames,axis='columns')\n",
    "\n",
    "# Pour l'instant on ne prédit que l'atc code et c'est déjà un sacré bordel\n",
    "yDf = ts.product_atc_code#loc[:,yColumNames]\n",
    "\n",
    "xList,yList = [],[]\n",
    "sliceNumber = 4\n",
    "\n",
    "for i,_ in ts.groupby('person_id'):\n",
    "    # Mme ZERHAOUI a dit qu'il fallait transposer, je transpose\n",
    "    xList.append(xDf.loc[i][:sliceNumber].to_numpy().astype('float32').transpose())\n",
    "    yList.append(yDf.loc[i][:sliceNumber].to_numpy().astype('float32'))\n",
    "\n",
    "xData = np.array(xList).reshape((len(xList),xList[0].shape[0],sliceNumber))\n",
    "yData = np.array(yList).reshape((sliceNumber,len(yList)))#,yList[0].shape[1]))"
   ]
  },
  {
   "cell_type": "code",
   "execution_count": 60,
   "metadata": {},
   "outputs": [
    {
     "output_type": "stream",
     "name": "stdout",
     "text": [
      "(4185, 21, 4), (4, 4185)\n"
     ]
    }
   ],
   "source": [
    "print(f\"{xData.shape}, {yData.shape}\")"
   ]
  },
  {
   "cell_type": "code",
   "execution_count": 61,
   "metadata": {},
   "outputs": [],
   "source": [
    "# On crée un jeu d'entraînement et de test :\n",
    "#  - l'entraînement se fait sur 80% du jeu de donnée total\n",
    "#  - le test se fait donc sur 20%\n",
    "\n",
    "trainUse = int(xData.shape[0] * 80 / 100)\n",
    "testUse = xData.shape[0] - trainUse\n",
    "\n",
    "xTrain, xTest, yTrain, yTest = xData[:trainUse],xData[-testUse:],yData[:,:trainUse],yData[:,-testUse:]\n",
    "\n",
    "#xTrain = xTrain.reshape(xTrain.shape[0],1,xTrain.shape[1],xTrain.shape[2])\n",
    "#xTest = xTest.reshape(xTest.shape[0],1,xTest.shape[1],xTest.shape[2])"
   ]
  },
  {
   "source": [
    "## Création du modèle"
   ],
   "cell_type": "markdown",
   "metadata": {}
  },
  {
   "cell_type": "code",
   "execution_count": 62,
   "metadata": {},
   "outputs": [
    {
     "output_type": "stream",
     "name": "stdout",
     "text": [
      "(3348, 21, 4), (4, 3348)\n"
     ]
    }
   ],
   "source": [
    "print(f\"{xTrain.shape}, {yTrain.shape}\")"
   ]
  },
  {
   "cell_type": "code",
   "execution_count": 71,
   "metadata": {},
   "outputs": [],
   "source": [
    "# Alors c'est totalement au hasard, j'ai essayé de suivre ce qu'il y avait dans la partie 'keras exemple' du lien que farida nous a donné :\n",
    "# cf : https://towardsdatascience.com/how-to-use-convolutional-neural-networks-for-time-series-classification-56b1b0a07a57\n",
    "model = models.Sequential()\n",
    "kernelNumber = 20\n",
    "model.add(layers.Conv1D(kernelNumber,21,activation='tanh',input_shape=(xTrain.shape[1],sliceNumber)))\n",
    "model.add(layers.MaxPool1D(1))\n",
    "model.add(layers.Flatten())\n",
    "model.add(layers.Dense(1,activation='sigmoid'))"
   ]
  },
  {
   "cell_type": "code",
   "execution_count": 72,
   "metadata": {},
   "outputs": [
    {
     "output_type": "stream",
     "name": "stdout",
     "text": [
      "Model: \"sequential_5\"\n_________________________________________________________________\nLayer (type)                 Output Shape              Param #   \n=================================================================\nconv1d_4 (Conv1D)            (None, 1, 20)             1700      \n_________________________________________________________________\nmax_pooling1d_3 (MaxPooling1 (None, 1, 20)             0         \n_________________________________________________________________\nflatten_3 (Flatten)          (None, 20)                0         \n_________________________________________________________________\ndense_3 (Dense)              (None, 1)                 21        \n=================================================================\nTotal params: 1,721\nTrainable params: 1,721\nNon-trainable params: 0\n_________________________________________________________________\n"
     ]
    }
   ],
   "source": [
    "model.summary()"
   ]
  },
  {
   "cell_type": "code",
   "execution_count": 103,
   "metadata": {},
   "outputs": [],
   "source": [
    "# model.compile(optimizer='adam',loss='sparse_categorical_crossentropy',metrics=['accuracy'])\n",
    "model.compile(optimizer='adam',loss='binary_crossentropy',metrics=['accuracy'])"
   ]
  },
  {
   "cell_type": "code",
   "execution_count": 104,
   "metadata": {},
   "outputs": [
    {
     "output_type": "stream",
     "name": "stdout",
     "text": [
      "--- Training: 1/4 ---\n",
      "Epoch 1/20\n",
      "105/105 [==============================] - 2s 9ms/step - loss: nan - accuracy: 0.1219 - val_loss: nan - val_accuracy: 0.1159\n",
      "Epoch 2/20\n",
      "105/105 [==============================] - 1s 5ms/step - loss: nan - accuracy: 0.1258 - val_loss: nan - val_accuracy: 0.1159\n",
      "Epoch 3/20\n",
      "105/105 [==============================] - 0s 4ms/step - loss: nan - accuracy: 0.1167 - val_loss: nan - val_accuracy: 0.1159\n",
      "Epoch 4/20\n",
      "105/105 [==============================] - 0s 4ms/step - loss: nan - accuracy: 0.1097 - val_loss: nan - val_accuracy: 0.1159\n",
      "Epoch 5/20\n",
      "105/105 [==============================] - 0s 4ms/step - loss: nan - accuracy: 0.1210 - val_loss: nan - val_accuracy: 0.1159\n",
      "Epoch 6/20\n",
      "105/105 [==============================] - 0s 4ms/step - loss: nan - accuracy: 0.1167 - val_loss: nan - val_accuracy: 0.1159\n",
      "Epoch 7/20\n",
      "105/105 [==============================] - 0s 4ms/step - loss: nan - accuracy: 0.1196 - val_loss: nan - val_accuracy: 0.1159\n",
      "Epoch 8/20\n",
      "105/105 [==============================] - 0s 4ms/step - loss: nan - accuracy: 0.1238 - val_loss: nan - val_accuracy: 0.1159\n",
      "Epoch 9/20\n",
      "105/105 [==============================] - 0s 4ms/step - loss: nan - accuracy: 0.1114 - val_loss: nan - val_accuracy: 0.1159\n",
      "Epoch 10/20\n",
      "105/105 [==============================] - 0s 4ms/step - loss: nan - accuracy: 0.1272 - val_loss: nan - val_accuracy: 0.1159\n",
      "Epoch 11/20\n",
      "105/105 [==============================] - 0s 4ms/step - loss: nan - accuracy: 0.1188 - val_loss: nan - val_accuracy: 0.1159\n",
      "Epoch 12/20\n",
      "105/105 [==============================] - 0s 4ms/step - loss: nan - accuracy: 0.1182 - val_loss: nan - val_accuracy: 0.1159\n",
      "Epoch 13/20\n",
      "105/105 [==============================] - 1s 5ms/step - loss: nan - accuracy: 0.1226 - val_loss: nan - val_accuracy: 0.1159\n",
      "Epoch 14/20\n",
      "105/105 [==============================] - 1s 9ms/step - loss: nan - accuracy: 0.1160 - val_loss: nan - val_accuracy: 0.1159\n",
      "Epoch 15/20\n",
      "105/105 [==============================] - 0s 3ms/step - loss: nan - accuracy: 0.1082 - val_loss: nan - val_accuracy: 0.1159\n",
      "Epoch 16/20\n",
      "105/105 [==============================] - 0s 3ms/step - loss: nan - accuracy: 0.1108 - val_loss: nan - val_accuracy: 0.1159\n",
      "Epoch 17/20\n",
      "105/105 [==============================] - 1s 6ms/step - loss: nan - accuracy: 0.1225 - val_loss: nan - val_accuracy: 0.1159\n",
      "Epoch 18/20\n",
      "105/105 [==============================] - 1s 6ms/step - loss: nan - accuracy: 0.1192 - val_loss: nan - val_accuracy: 0.1159\n",
      "Epoch 19/20\n",
      "105/105 [==============================] - 1s 5ms/step - loss: nan - accuracy: 0.1227 - val_loss: nan - val_accuracy: 0.1159\n",
      "Epoch 20/20\n",
      "105/105 [==============================] - 0s 4ms/step - loss: nan - accuracy: 0.1156 - val_loss: nan - val_accuracy: 0.1159\n",
      "--- Training: 2/4 ---\n",
      "Epoch 1/20\n",
      "105/105 [==============================] - 1s 6ms/step - loss: nan - accuracy: 0.1449 - val_loss: nan - val_accuracy: 0.1720\n",
      "Epoch 2/20\n",
      "105/105 [==============================] - 1s 8ms/step - loss: nan - accuracy: 0.1449 - val_loss: nan - val_accuracy: 0.1720\n",
      "Epoch 3/20\n",
      "105/105 [==============================] - 0s 4ms/step - loss: nan - accuracy: 0.1449 - val_loss: nan - val_accuracy: 0.1720\n",
      "Epoch 4/20\n",
      "105/105 [==============================] - 1s 5ms/step - loss: nan - accuracy: 0.1449 - val_loss: nan - val_accuracy: 0.1720\n",
      "Epoch 5/20\n",
      "105/105 [==============================] - 0s 4ms/step - loss: nan - accuracy: 0.1449 - val_loss: nan - val_accuracy: 0.1720\n",
      "Epoch 6/20\n",
      "105/105 [==============================] - 1s 5ms/step - loss: nan - accuracy: 0.1449 - val_loss: nan - val_accuracy: 0.1720\n",
      "Epoch 7/20\n",
      "105/105 [==============================] - 1s 6ms/step - loss: nan - accuracy: 0.1449 - val_loss: nan - val_accuracy: 0.1720\n",
      "Epoch 8/20\n",
      "105/105 [==============================] - 0s 5ms/step - loss: nan - accuracy: 0.1449 - val_loss: nan - val_accuracy: 0.1720\n",
      "Epoch 9/20\n",
      "105/105 [==============================] - 0s 5ms/step - loss: nan - accuracy: 0.1449 - val_loss: nan - val_accuracy: 0.1720\n",
      "Epoch 10/20\n",
      "105/105 [==============================] - 0s 4ms/step - loss: nan - accuracy: 0.1449 - val_loss: nan - val_accuracy: 0.1720\n",
      "Epoch 11/20\n",
      "105/105 [==============================] - 0s 4ms/step - loss: nan - accuracy: 0.1449 - val_loss: nan - val_accuracy: 0.1720\n",
      "Epoch 12/20\n",
      "105/105 [==============================] - 0s 3ms/step - loss: nan - accuracy: 0.1449 - val_loss: nan - val_accuracy: 0.1720\n",
      "Epoch 13/20\n",
      "105/105 [==============================] - 1s 5ms/step - loss: nan - accuracy: 0.1449 - val_loss: nan - val_accuracy: 0.1720\n",
      "Epoch 14/20\n",
      "105/105 [==============================] - 0s 4ms/step - loss: nan - accuracy: 0.1449 - val_loss: nan - val_accuracy: 0.1720\n",
      "Epoch 15/20\n",
      "105/105 [==============================] - 0s 3ms/step - loss: nan - accuracy: 0.1449 - val_loss: nan - val_accuracy: 0.1720\n",
      "Epoch 16/20\n",
      "105/105 [==============================] - 1s 5ms/step - loss: nan - accuracy: 0.1449 - val_loss: nan - val_accuracy: 0.1720\n",
      "Epoch 17/20\n",
      "105/105 [==============================] - 0s 4ms/step - loss: nan - accuracy: 0.1449 - val_loss: nan - val_accuracy: 0.1720\n",
      "Epoch 18/20\n",
      "105/105 [==============================] - 1s 5ms/step - loss: nan - accuracy: 0.1449 - val_loss: nan - val_accuracy: 0.1720\n",
      "Epoch 19/20\n",
      "105/105 [==============================] - 1s 5ms/step - loss: nan - accuracy: 0.1449 - val_loss: nan - val_accuracy: 0.1720\n",
      "Epoch 20/20\n",
      "105/105 [==============================] - 0s 4ms/step - loss: nan - accuracy: 0.1449 - val_loss: nan - val_accuracy: 0.1720\n",
      "--- Training: 3/4 ---\n",
      "Epoch 1/20\n",
      "105/105 [==============================] - 0s 4ms/step - loss: nan - accuracy: 0.0905 - val_loss: nan - val_accuracy: 0.1004\n",
      "Epoch 2/20\n",
      "105/105 [==============================] - 0s 4ms/step - loss: nan - accuracy: 0.0905 - val_loss: nan - val_accuracy: 0.1004\n",
      "Epoch 3/20\n",
      "105/105 [==============================] - 0s 4ms/step - loss: nan - accuracy: 0.0905 - val_loss: nan - val_accuracy: 0.1004\n",
      "Epoch 4/20\n",
      "105/105 [==============================] - 0s 4ms/step - loss: nan - accuracy: 0.0905 - val_loss: nan - val_accuracy: 0.1004\n",
      "Epoch 5/20\n",
      "105/105 [==============================] - 0s 4ms/step - loss: nan - accuracy: 0.0905 - val_loss: nan - val_accuracy: 0.1004\n",
      "Epoch 6/20\n",
      "105/105 [==============================] - 1s 5ms/step - loss: nan - accuracy: 0.0905 - val_loss: nan - val_accuracy: 0.1004\n",
      "Epoch 7/20\n",
      "105/105 [==============================] - 0s 5ms/step - loss: nan - accuracy: 0.0905 - val_loss: nan - val_accuracy: 0.1004\n",
      "Epoch 8/20\n",
      "105/105 [==============================] - 0s 4ms/step - loss: nan - accuracy: 0.0905 - val_loss: nan - val_accuracy: 0.1004\n",
      "Epoch 9/20\n",
      "105/105 [==============================] - 1s 5ms/step - loss: nan - accuracy: 0.0905 - val_loss: nan - val_accuracy: 0.1004\n",
      "Epoch 10/20\n",
      "105/105 [==============================] - 0s 4ms/step - loss: nan - accuracy: 0.0905 - val_loss: nan - val_accuracy: 0.1004\n",
      "Epoch 11/20\n",
      "105/105 [==============================] - 1s 6ms/step - loss: nan - accuracy: 0.0905 - val_loss: nan - val_accuracy: 0.1004\n",
      "Epoch 12/20\n",
      "105/105 [==============================] - 1s 5ms/step - loss: nan - accuracy: 0.0905 - val_loss: nan - val_accuracy: 0.1004\n",
      "Epoch 13/20\n",
      "105/105 [==============================] - 0s 4ms/step - loss: nan - accuracy: 0.0905 - val_loss: nan - val_accuracy: 0.1004\n",
      "Epoch 14/20\n",
      "105/105 [==============================] - 0s 4ms/step - loss: nan - accuracy: 0.0905 - val_loss: nan - val_accuracy: 0.1004\n",
      "Epoch 15/20\n",
      "105/105 [==============================] - 0s 4ms/step - loss: nan - accuracy: 0.0905 - val_loss: nan - val_accuracy: 0.1004\n",
      "Epoch 16/20\n",
      "105/105 [==============================] - 0s 4ms/step - loss: nan - accuracy: 0.0905 - val_loss: nan - val_accuracy: 0.1004\n",
      "Epoch 17/20\n",
      "105/105 [==============================] - 0s 4ms/step - loss: nan - accuracy: 0.0905 - val_loss: nan - val_accuracy: 0.1004\n",
      "Epoch 18/20\n",
      "105/105 [==============================] - 0s 3ms/step - loss: nan - accuracy: 0.0905 - val_loss: nan - val_accuracy: 0.1004\n",
      "Epoch 19/20\n",
      "105/105 [==============================] - 0s 4ms/step - loss: nan - accuracy: 0.0905 - val_loss: nan - val_accuracy: 0.1004\n",
      "Epoch 20/20\n",
      "105/105 [==============================] - 1s 7ms/step - loss: nan - accuracy: 0.0905 - val_loss: nan - val_accuracy: 0.1004\n",
      "--- Training: 4/4 ---\n",
      "Epoch 1/20\n",
      "105/105 [==============================] - 0s 5ms/step - loss: nan - accuracy: 0.1228 - val_loss: nan - val_accuracy: 0.0454\n",
      "Epoch 2/20\n",
      "105/105 [==============================] - 1s 6ms/step - loss: nan - accuracy: 0.1228 - val_loss: nan - val_accuracy: 0.0454\n",
      "Epoch 3/20\n",
      "105/105 [==============================] - 0s 5ms/step - loss: nan - accuracy: 0.1228 - val_loss: nan - val_accuracy: 0.0454\n",
      "Epoch 4/20\n",
      "105/105 [==============================] - 0s 4ms/step - loss: nan - accuracy: 0.1228 - val_loss: nan - val_accuracy: 0.0454\n",
      "Epoch 5/20\n",
      "105/105 [==============================] - 0s 4ms/step - loss: nan - accuracy: 0.1228 - val_loss: nan - val_accuracy: 0.0454\n",
      "Epoch 6/20\n",
      "105/105 [==============================] - 0s 4ms/step - loss: nan - accuracy: 0.1228 - val_loss: nan - val_accuracy: 0.0454\n",
      "Epoch 7/20\n",
      "105/105 [==============================] - 0s 4ms/step - loss: nan - accuracy: 0.1228 - val_loss: nan - val_accuracy: 0.0454\n",
      "Epoch 8/20\n",
      "105/105 [==============================] - 1s 5ms/step - loss: nan - accuracy: 0.1228 - val_loss: nan - val_accuracy: 0.0454\n",
      "Epoch 9/20\n",
      "105/105 [==============================] - 0s 4ms/step - loss: nan - accuracy: 0.1228 - val_loss: nan - val_accuracy: 0.0454\n",
      "Epoch 10/20\n",
      "105/105 [==============================] - 0s 5ms/step - loss: nan - accuracy: 0.1228 - val_loss: nan - val_accuracy: 0.0454\n",
      "Epoch 11/20\n",
      "105/105 [==============================] - 0s 4ms/step - loss: nan - accuracy: 0.1228 - val_loss: nan - val_accuracy: 0.0454\n",
      "Epoch 12/20\n",
      "105/105 [==============================] - 0s 4ms/step - loss: nan - accuracy: 0.1228 - val_loss: nan - val_accuracy: 0.0454\n",
      "Epoch 13/20\n",
      "105/105 [==============================] - 0s 4ms/step - loss: nan - accuracy: 0.1228 - val_loss: nan - val_accuracy: 0.0454\n",
      "Epoch 14/20\n",
      "105/105 [==============================] - 1s 6ms/step - loss: nan - accuracy: 0.1228 - val_loss: nan - val_accuracy: 0.0454\n",
      "Epoch 15/20\n",
      "105/105 [==============================] - 0s 4ms/step - loss: nan - accuracy: 0.1228 - val_loss: nan - val_accuracy: 0.0454\n",
      "Epoch 16/20\n",
      "105/105 [==============================] - 0s 3ms/step - loss: nan - accuracy: 0.1228 - val_loss: nan - val_accuracy: 0.0454\n",
      "Epoch 17/20\n",
      "105/105 [==============================] - 1s 5ms/step - loss: nan - accuracy: 0.1228 - val_loss: nan - val_accuracy: 0.0454\n",
      "Epoch 18/20\n",
      "105/105 [==============================] - 0s 4ms/step - loss: nan - accuracy: 0.1228 - val_loss: nan - val_accuracy: 0.0454\n",
      "Epoch 19/20\n",
      "105/105 [==============================] - 0s 3ms/step - loss: nan - accuracy: 0.1228 - val_loss: nan - val_accuracy: 0.0454\n",
      "Epoch 20/20\n",
      "105/105 [==============================] - 0s 3ms/step - loss: nan - accuracy: 0.1228 - val_loss: nan - val_accuracy: 0.0454\n"
     ]
    }
   ],
   "source": [
    "# pour utiliser sparse cross entropy apparement il faut des valeurs entre 0 et 1 pourtant sur ce lien il l'utilise pour prédire les données mniste entre 0 et 9 'https://www.machinecurve.com/index.php/2019/10/06/how-to-use-sparse-categorical-crossentropy-in-keras/'\n",
    "for i in range(yTrain.shape[0]):\n",
    "    print(f\"--- Training: {i+1}/{yTrain.shape[0]} ---\")\n",
    "    model.fit(xTrain,yTrain[i],epochs=20, validation_data=(xTest,yTest[i]))"
   ]
  },
  {
   "cell_type": "code",
   "execution_count": 74,
   "metadata": {},
   "outputs": [
    {
     "output_type": "stream",
     "name": "stdout",
     "text": [
      "(3348, 21, 4), (4, 3348)\n"
     ]
    }
   ],
   "source": [
    "model.predict(xTest[5].reshape((1,21,4)))"
   ]
  },
  {
   "cell_type": "code",
   "execution_count": null,
   "metadata": {},
   "outputs": [],
   "source": []
  }
 ]
}