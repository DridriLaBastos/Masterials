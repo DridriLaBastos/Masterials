{
 "metadata": {
  "language_info": {
   "codemirror_mode": {
    "name": "ipython",
    "version": 3
   },
   "file_extension": ".py",
   "mimetype": "text/x-python",
   "name": "python",
   "nbconvert_exporter": "python",
   "pygments_lexer": "ipython3",
   "version": "3.8.5-final"
  },
  "orig_nbformat": 2,
  "kernelspec": {
   "name": "python3",
   "display_name": "Python 3",
   "language": "python"
  }
 },
 "nbformat": 4,
 "nbformat_minor": 2,
 "cells": [
  {
   "cell_type": "code",
   "execution_count": 1,
   "metadata": {},
   "outputs": [],
   "source": [
    "import pandas as pd\n",
    "import numpy as np\n",
    "\n",
    "from sklearn.preprocessing import LabelEncoder\n",
    "\n",
    "from matplotlib import pyplot as plt\n",
    "\n",
    "from keras import layers\n",
    "from keras import models\n",
    "from keras import losses\n",
    "from keras.utils import to_categorical"
   ]
  },
  {
   "cell_type": "code",
   "execution_count": 2,
   "metadata": {},
   "outputs": [],
   "source": [
    "dateColumnNames = [\n",
    "    'contact_date',\n",
    "    'Glycemie_der_date',\n",
    "    'HbA1c_der_date',\n",
    "    'der_date_poids',\n",
    "    'der_date_taille',\n",
    "    'first_contact_date'\n",
    "]\n",
    "\n",
    "df = pd.read_csv('PatientsHTA.zip',engine='c',parse_dates=dateColumnNames)"
   ]
  },
  {
   "source": [
    "# Suppression des lignes trop peu nombreuses\n",
    "\n",
    "Nous souhaitons faire un apprentissage en utilisant la dimension temporelle comme filtre pour le CNN. Pour ça il faut donc que nous ayons plusieurs entrées. Avant de commencer à traîter les données, nous supprimons toutes les personnes qui n'ont pas rendu visite assez souvent à leur médecin. Ainsi, par le biais de ```person_id```, nous avons choisi arbitrairement que pour être utile à l'apprentissage, il faut au moins 3 visites par patients, soient toutes les lignes dont le ```person_id```est contenu plus de 3 fois dans tout le jeu de données."
   ],
   "cell_type": "markdown",
   "metadata": {}
  },
  {
   "cell_type": "code",
   "execution_count": 3,
   "metadata": {},
   "outputs": [],
   "source": [
    "VISIT_NUMBER = 4\n",
    "valueCounts = df.person_id.value_counts()\n",
    "dfEnought = df[df.person_id.isin(valueCounts[valueCounts.values >= VISIT_NUMBER].index)]"
   ]
  },
  {
   "source": [
    "# Suppression des colonnes innutiles"
   ],
   "cell_type": "markdown",
   "metadata": {}
  },
  {
   "source": [
    "## Suppression de la colonne ```age_now```"
   ],
   "cell_type": "markdown",
   "metadata": {}
  },
  {
   "source": [
    "Nous pouvons supprimer la colonne ```age_now``` car les données qu'elle contient sont identiques à celles de la colonne ```year_of_birth```."
   ],
   "cell_type": "markdown",
   "metadata": {}
  },
  {
   "source": [
    "dfWithoutAgeNow = dfEnought.drop('Age_now', axis='columns')"
   ],
   "cell_type": "code",
   "metadata": {},
   "execution_count": 4,
   "outputs": []
  },
  {
   "source": [
    "## Suppression de la colonne ```contact_id```\n",
    "\n",
    "En effet, la colonne ```contact_id``` ne représente aucun intérêt pour l'apprentissage car elle ne contient aucun information à même d'influer sur la prédiction."
   ],
   "cell_type": "markdown",
   "metadata": {}
  },
  {
   "cell_type": "code",
   "execution_count": 5,
   "metadata": {},
   "outputs": [],
   "source": [
    "dfWithoutContactID = dfWithoutAgeNow.drop('contact_id',axis='columns')"
   ]
  },
  {
   "source": [
    "## Suppression des noms de médicaments"
   ],
   "cell_type": "markdown",
   "metadata": {}
  },
  {
   "cell_type": "code",
   "execution_count": 6,
   "metadata": {},
   "outputs": [
    {
     "output_type": "execute_result",
     "data": {
      "text/plain": [
       "                  molecule_label  short_name  long_name  Classe  product_atc\n",
       "product_atc_code                                                            \n",
       "C02AC06                     4288        4288       4288    4288         4288\n",
       "C03BX03                      932         932        932     932          932\n",
       "C03CA01                      877         877        877     877          877\n",
       "C03DA01                      187         187        187     187          187\n",
       "C03DA04                       27          27         27      27           27\n",
       "C03EA04                       75          75         75      75           75\n",
       "C03EB01                       14          14         14      14           14\n",
       "C07AA05                        2           2          2       2            2\n",
       "C07AB03                     6466        6466       6466    6466         6466\n",
       "C07AB04                       39          39         39      39           39\n",
       "C07AB07                     6765        6765       6765    6765         6765\n",
       "C07AB12                      509         509        509     509          509\n",
       "C07DB01                       10          10         10      10           10\n",
       "C08CA01                      679         679        679     679          679\n",
       "C08DB01                      108         108        108     108          108\n",
       "C09AA02                       50          50         50      50           50\n",
       "C09AA03                       47          47         47      47           47\n",
       "C09AA04                     1183        1183       1183    1183         1183\n",
       "C09AA05                      232         232        232     232          232\n",
       "C09AA06                       20          20         20      20           20\n",
       "C09BA02                       11          11         11      11           11\n",
       "C09BA04                      920         920        920     920          920\n",
       "C09CA01                      277         277        277     277          277\n",
       "C09CA03                     2702        2702       2702    2702         2702\n",
       "C09CA04                      618         618        618     618          618\n",
       "C09CA06                     1291        1291       1291    1291         1291\n",
       "C09CA07                      109         109        109     109          109\n",
       "C09DA01                      542         542        542     542          542\n",
       "C09DA03                     1834        1834       1834    1834         1834\n",
       "C09DA04                      581         581        581     581          581\n",
       "C09DB04                     5212        5212       5212    5212         5212\n",
       "C09XA02                       63          63         63      63           63\n",
       "C09XA52                      206         206        206     206          206"
      ],
      "text/html": "<div>\n<style scoped>\n    .dataframe tbody tr th:only-of-type {\n        vertical-align: middle;\n    }\n\n    .dataframe tbody tr th {\n        vertical-align: top;\n    }\n\n    .dataframe thead th {\n        text-align: right;\n    }\n</style>\n<table border=\"1\" class=\"dataframe\">\n  <thead>\n    <tr style=\"text-align: right;\">\n      <th></th>\n      <th>molecule_label</th>\n      <th>short_name</th>\n      <th>long_name</th>\n      <th>Classe</th>\n      <th>product_atc</th>\n    </tr>\n    <tr>\n      <th>product_atc_code</th>\n      <th></th>\n      <th></th>\n      <th></th>\n      <th></th>\n      <th></th>\n    </tr>\n  </thead>\n  <tbody>\n    <tr>\n      <th>C02AC06</th>\n      <td>4288</td>\n      <td>4288</td>\n      <td>4288</td>\n      <td>4288</td>\n      <td>4288</td>\n    </tr>\n    <tr>\n      <th>C03BX03</th>\n      <td>932</td>\n      <td>932</td>\n      <td>932</td>\n      <td>932</td>\n      <td>932</td>\n    </tr>\n    <tr>\n      <th>C03CA01</th>\n      <td>877</td>\n      <td>877</td>\n      <td>877</td>\n      <td>877</td>\n      <td>877</td>\n    </tr>\n    <tr>\n      <th>C03DA01</th>\n      <td>187</td>\n      <td>187</td>\n      <td>187</td>\n      <td>187</td>\n      <td>187</td>\n    </tr>\n    <tr>\n      <th>C03DA04</th>\n      <td>27</td>\n      <td>27</td>\n      <td>27</td>\n      <td>27</td>\n      <td>27</td>\n    </tr>\n    <tr>\n      <th>C03EA04</th>\n      <td>75</td>\n      <td>75</td>\n      <td>75</td>\n      <td>75</td>\n      <td>75</td>\n    </tr>\n    <tr>\n      <th>C03EB01</th>\n      <td>14</td>\n      <td>14</td>\n      <td>14</td>\n      <td>14</td>\n      <td>14</td>\n    </tr>\n    <tr>\n      <th>C07AA05</th>\n      <td>2</td>\n      <td>2</td>\n      <td>2</td>\n      <td>2</td>\n      <td>2</td>\n    </tr>\n    <tr>\n      <th>C07AB03</th>\n      <td>6466</td>\n      <td>6466</td>\n      <td>6466</td>\n      <td>6466</td>\n      <td>6466</td>\n    </tr>\n    <tr>\n      <th>C07AB04</th>\n      <td>39</td>\n      <td>39</td>\n      <td>39</td>\n      <td>39</td>\n      <td>39</td>\n    </tr>\n    <tr>\n      <th>C07AB07</th>\n      <td>6765</td>\n      <td>6765</td>\n      <td>6765</td>\n      <td>6765</td>\n      <td>6765</td>\n    </tr>\n    <tr>\n      <th>C07AB12</th>\n      <td>509</td>\n      <td>509</td>\n      <td>509</td>\n      <td>509</td>\n      <td>509</td>\n    </tr>\n    <tr>\n      <th>C07DB01</th>\n      <td>10</td>\n      <td>10</td>\n      <td>10</td>\n      <td>10</td>\n      <td>10</td>\n    </tr>\n    <tr>\n      <th>C08CA01</th>\n      <td>679</td>\n      <td>679</td>\n      <td>679</td>\n      <td>679</td>\n      <td>679</td>\n    </tr>\n    <tr>\n      <th>C08DB01</th>\n      <td>108</td>\n      <td>108</td>\n      <td>108</td>\n      <td>108</td>\n      <td>108</td>\n    </tr>\n    <tr>\n      <th>C09AA02</th>\n      <td>50</td>\n      <td>50</td>\n      <td>50</td>\n      <td>50</td>\n      <td>50</td>\n    </tr>\n    <tr>\n      <th>C09AA03</th>\n      <td>47</td>\n      <td>47</td>\n      <td>47</td>\n      <td>47</td>\n      <td>47</td>\n    </tr>\n    <tr>\n      <th>C09AA04</th>\n      <td>1183</td>\n      <td>1183</td>\n      <td>1183</td>\n      <td>1183</td>\n      <td>1183</td>\n    </tr>\n    <tr>\n      <th>C09AA05</th>\n      <td>232</td>\n      <td>232</td>\n      <td>232</td>\n      <td>232</td>\n      <td>232</td>\n    </tr>\n    <tr>\n      <th>C09AA06</th>\n      <td>20</td>\n      <td>20</td>\n      <td>20</td>\n      <td>20</td>\n      <td>20</td>\n    </tr>\n    <tr>\n      <th>C09BA02</th>\n      <td>11</td>\n      <td>11</td>\n      <td>11</td>\n      <td>11</td>\n      <td>11</td>\n    </tr>\n    <tr>\n      <th>C09BA04</th>\n      <td>920</td>\n      <td>920</td>\n      <td>920</td>\n      <td>920</td>\n      <td>920</td>\n    </tr>\n    <tr>\n      <th>C09CA01</th>\n      <td>277</td>\n      <td>277</td>\n      <td>277</td>\n      <td>277</td>\n      <td>277</td>\n    </tr>\n    <tr>\n      <th>C09CA03</th>\n      <td>2702</td>\n      <td>2702</td>\n      <td>2702</td>\n      <td>2702</td>\n      <td>2702</td>\n    </tr>\n    <tr>\n      <th>C09CA04</th>\n      <td>618</td>\n      <td>618</td>\n      <td>618</td>\n      <td>618</td>\n      <td>618</td>\n    </tr>\n    <tr>\n      <th>C09CA06</th>\n      <td>1291</td>\n      <td>1291</td>\n      <td>1291</td>\n      <td>1291</td>\n      <td>1291</td>\n    </tr>\n    <tr>\n      <th>C09CA07</th>\n      <td>109</td>\n      <td>109</td>\n      <td>109</td>\n      <td>109</td>\n      <td>109</td>\n    </tr>\n    <tr>\n      <th>C09DA01</th>\n      <td>542</td>\n      <td>542</td>\n      <td>542</td>\n      <td>542</td>\n      <td>542</td>\n    </tr>\n    <tr>\n      <th>C09DA03</th>\n      <td>1834</td>\n      <td>1834</td>\n      <td>1834</td>\n      <td>1834</td>\n      <td>1834</td>\n    </tr>\n    <tr>\n      <th>C09DA04</th>\n      <td>581</td>\n      <td>581</td>\n      <td>581</td>\n      <td>581</td>\n      <td>581</td>\n    </tr>\n    <tr>\n      <th>C09DB04</th>\n      <td>5212</td>\n      <td>5212</td>\n      <td>5212</td>\n      <td>5212</td>\n      <td>5212</td>\n    </tr>\n    <tr>\n      <th>C09XA02</th>\n      <td>63</td>\n      <td>63</td>\n      <td>63</td>\n      <td>63</td>\n      <td>63</td>\n    </tr>\n    <tr>\n      <th>C09XA52</th>\n      <td>206</td>\n      <td>206</td>\n      <td>206</td>\n      <td>206</td>\n      <td>206</td>\n    </tr>\n  </tbody>\n</table>\n</div>"
     },
     "metadata": {},
     "execution_count": 6
    }
   ],
   "source": [
    "dfGroupedByMoleculeLabel = dfWithoutContactID.groupby('product_atc_code')[['molecule_label','short_name','long_name','Classe','product_atc']].count()\n",
    "dfGroupedByMoleculeLabel"
   ]
  },
  {
   "source": [
    "Nous voyons qu'il existe différentes colonnes dont le but est de désigner le médicament prescrit lors de la visite, or nous n'avons besoin que d'une seule colonne garder cette information. De ce fait, nous avons choisi de garder ```product_atc_code```."
   ],
   "cell_type": "markdown",
   "metadata": {}
  },
  {
   "cell_type": "code",
   "execution_count": 7,
   "metadata": {},
   "outputs": [
    {
     "output_type": "execute_result",
     "data": {
      "text/plain": [
       "        person_id      specialty_label contact_date           cip  dosage_1  \\\n",
       "1        263659.0  Médecin généraliste   2014-09-24  3.400960e+12      20.0   \n",
       "2        263659.0  Médecin généraliste   2014-09-12  3.400960e+12      20.0   \n",
       "3        263659.0  Médecin généraliste   2015-03-26  3.400960e+12      20.0   \n",
       "4        263659.0  Médecin généraliste   2015-06-05  3.400960e+12      20.0   \n",
       "6      25182917.0  Médecin généraliste   2013-03-27  3.400960e+12     300.0   \n",
       "...           ...                  ...          ...           ...       ...   \n",
       "50625  26636453.0  Médecin généraliste   2016-11-16  3.400940e+12     500.0   \n",
       "50627  18889430.0  Médecin généraliste   2013-02-01  3.400940e+12     500.0   \n",
       "50629   2222336.0  Médecin généraliste   2013-07-01  3.400940e+12     500.0   \n",
       "50631  11363518.0  Médecin généraliste   2013-01-24  3.400940e+12     500.0   \n",
       "50632  18889430.0  Médecin généraliste   2013-01-24  3.400940e+12     500.0   \n",
       "\n",
       "        dose_1  dose_2 product_atc_code  box  quantity  ... HbA1c_der_date  \\\n",
       "1        240.0    24.0         C03CA01   1.0      4.00  ...            NaT   \n",
       "2        240.0    24.0         C03CA01   1.0      4.00  ...            NaT   \n",
       "3        240.0    24.0         C03CA01   1.0      4.00  ...            NaT   \n",
       "4        240.0    24.0         C03CA01   1.0      4.00  ...            NaT   \n",
       "6      16800.0    56.0         C09XA02   2.0      1.00  ...            NaT   \n",
       "...        ...     ...              ...  ...       ...  ...            ...   \n",
       "50625  15000.0    30.0         C03CA01   1.0      0.75  ...     2017-10-03   \n",
       "50627  15000.0    30.0         C03CA01   1.0      0.50  ...     2017-05-15   \n",
       "50629  15000.0    30.0         C03CA01   2.0      0.25  ...            NaT   \n",
       "50631  15000.0    30.0         C03CA01   1.0      0.25  ...            NaT   \n",
       "50632  15000.0    30.0         C03CA01   1.0      0.50  ...     2017-05-15   \n",
       "\n",
       "       HbA1c_der_mesure gender_code Age_presc  year_of_birth  Poids  \\\n",
       "1                   NaN           M      96.0         1918.0    NaN   \n",
       "2                   NaN           M      96.0         1918.0    NaN   \n",
       "3                   NaN           M      97.0         1918.0    NaN   \n",
       "4                   NaN           M      97.0         1918.0    NaN   \n",
       "6                   NaN           M      63.0         1950.0    NaN   \n",
       "...                 ...         ...       ...            ...    ...   \n",
       "50625              5.60           M      79.0         1937.0   83.9   \n",
       "50627              8.01           M      85.0         1928.0    NaN   \n",
       "50629               NaN           F      78.0         1935.0    NaN   \n",
       "50631               NaN           M      80.0         1933.0    NaN   \n",
       "50632              8.01           M      85.0         1928.0    NaN   \n",
       "\n",
       "       der_date_poids  Taille der_date_taille  first_contact_date  \n",
       "1                 NaT     NaN             NaT          1998-04-02  \n",
       "2                 NaT     NaN             NaT          1998-04-02  \n",
       "3                 NaT     NaN             NaT          1998-04-02  \n",
       "4                 NaT     NaN             NaT          1998-04-02  \n",
       "6                 NaT     NaN             NaT          2011-04-04  \n",
       "...               ...     ...             ...                 ...  \n",
       "50625      2018-02-21     NaN             NaT          2012-02-14  \n",
       "50627             NaT     NaN             NaT          2007-12-02  \n",
       "50629             NaT     NaN             NaT          2006-02-23  \n",
       "50631             NaT     NaN             NaT          1998-01-27  \n",
       "50632             NaT     NaN             NaT          2007-12-02  \n",
       "\n",
       "[36876 rows x 31 columns]"
      ],
      "text/html": "<div>\n<style scoped>\n    .dataframe tbody tr th:only-of-type {\n        vertical-align: middle;\n    }\n\n    .dataframe tbody tr th {\n        vertical-align: top;\n    }\n\n    .dataframe thead th {\n        text-align: right;\n    }\n</style>\n<table border=\"1\" class=\"dataframe\">\n  <thead>\n    <tr style=\"text-align: right;\">\n      <th></th>\n      <th>person_id</th>\n      <th>specialty_label</th>\n      <th>contact_date</th>\n      <th>cip</th>\n      <th>dosage_1</th>\n      <th>dose_1</th>\n      <th>dose_2</th>\n      <th>product_atc_code</th>\n      <th>box</th>\n      <th>quantity</th>\n      <th>...</th>\n      <th>HbA1c_der_date</th>\n      <th>HbA1c_der_mesure</th>\n      <th>gender_code</th>\n      <th>Age_presc</th>\n      <th>year_of_birth</th>\n      <th>Poids</th>\n      <th>der_date_poids</th>\n      <th>Taille</th>\n      <th>der_date_taille</th>\n      <th>first_contact_date</th>\n    </tr>\n  </thead>\n  <tbody>\n    <tr>\n      <th>1</th>\n      <td>263659.0</td>\n      <td>Médecin généraliste</td>\n      <td>2014-09-24</td>\n      <td>3.400960e+12</td>\n      <td>20.0</td>\n      <td>240.0</td>\n      <td>24.0</td>\n      <td>C03CA01</td>\n      <td>1.0</td>\n      <td>4.00</td>\n      <td>...</td>\n      <td>NaT</td>\n      <td>NaN</td>\n      <td>M</td>\n      <td>96.0</td>\n      <td>1918.0</td>\n      <td>NaN</td>\n      <td>NaT</td>\n      <td>NaN</td>\n      <td>NaT</td>\n      <td>1998-04-02</td>\n    </tr>\n    <tr>\n      <th>2</th>\n      <td>263659.0</td>\n      <td>Médecin généraliste</td>\n      <td>2014-09-12</td>\n      <td>3.400960e+12</td>\n      <td>20.0</td>\n      <td>240.0</td>\n      <td>24.0</td>\n      <td>C03CA01</td>\n      <td>1.0</td>\n      <td>4.00</td>\n      <td>...</td>\n      <td>NaT</td>\n      <td>NaN</td>\n      <td>M</td>\n      <td>96.0</td>\n      <td>1918.0</td>\n      <td>NaN</td>\n      <td>NaT</td>\n      <td>NaN</td>\n      <td>NaT</td>\n      <td>1998-04-02</td>\n    </tr>\n    <tr>\n      <th>3</th>\n      <td>263659.0</td>\n      <td>Médecin généraliste</td>\n      <td>2015-03-26</td>\n      <td>3.400960e+12</td>\n      <td>20.0</td>\n      <td>240.0</td>\n      <td>24.0</td>\n      <td>C03CA01</td>\n      <td>1.0</td>\n      <td>4.00</td>\n      <td>...</td>\n      <td>NaT</td>\n      <td>NaN</td>\n      <td>M</td>\n      <td>97.0</td>\n      <td>1918.0</td>\n      <td>NaN</td>\n      <td>NaT</td>\n      <td>NaN</td>\n      <td>NaT</td>\n      <td>1998-04-02</td>\n    </tr>\n    <tr>\n      <th>4</th>\n      <td>263659.0</td>\n      <td>Médecin généraliste</td>\n      <td>2015-06-05</td>\n      <td>3.400960e+12</td>\n      <td>20.0</td>\n      <td>240.0</td>\n      <td>24.0</td>\n      <td>C03CA01</td>\n      <td>1.0</td>\n      <td>4.00</td>\n      <td>...</td>\n      <td>NaT</td>\n      <td>NaN</td>\n      <td>M</td>\n      <td>97.0</td>\n      <td>1918.0</td>\n      <td>NaN</td>\n      <td>NaT</td>\n      <td>NaN</td>\n      <td>NaT</td>\n      <td>1998-04-02</td>\n    </tr>\n    <tr>\n      <th>6</th>\n      <td>25182917.0</td>\n      <td>Médecin généraliste</td>\n      <td>2013-03-27</td>\n      <td>3.400960e+12</td>\n      <td>300.0</td>\n      <td>16800.0</td>\n      <td>56.0</td>\n      <td>C09XA02</td>\n      <td>2.0</td>\n      <td>1.00</td>\n      <td>...</td>\n      <td>NaT</td>\n      <td>NaN</td>\n      <td>M</td>\n      <td>63.0</td>\n      <td>1950.0</td>\n      <td>NaN</td>\n      <td>NaT</td>\n      <td>NaN</td>\n      <td>NaT</td>\n      <td>2011-04-04</td>\n    </tr>\n    <tr>\n      <th>...</th>\n      <td>...</td>\n      <td>...</td>\n      <td>...</td>\n      <td>...</td>\n      <td>...</td>\n      <td>...</td>\n      <td>...</td>\n      <td>...</td>\n      <td>...</td>\n      <td>...</td>\n      <td>...</td>\n      <td>...</td>\n      <td>...</td>\n      <td>...</td>\n      <td>...</td>\n      <td>...</td>\n      <td>...</td>\n      <td>...</td>\n      <td>...</td>\n      <td>...</td>\n      <td>...</td>\n    </tr>\n    <tr>\n      <th>50625</th>\n      <td>26636453.0</td>\n      <td>Médecin généraliste</td>\n      <td>2016-11-16</td>\n      <td>3.400940e+12</td>\n      <td>500.0</td>\n      <td>15000.0</td>\n      <td>30.0</td>\n      <td>C03CA01</td>\n      <td>1.0</td>\n      <td>0.75</td>\n      <td>...</td>\n      <td>2017-10-03</td>\n      <td>5.60</td>\n      <td>M</td>\n      <td>79.0</td>\n      <td>1937.0</td>\n      <td>83.9</td>\n      <td>2018-02-21</td>\n      <td>NaN</td>\n      <td>NaT</td>\n      <td>2012-02-14</td>\n    </tr>\n    <tr>\n      <th>50627</th>\n      <td>18889430.0</td>\n      <td>Médecin généraliste</td>\n      <td>2013-02-01</td>\n      <td>3.400940e+12</td>\n      <td>500.0</td>\n      <td>15000.0</td>\n      <td>30.0</td>\n      <td>C03CA01</td>\n      <td>1.0</td>\n      <td>0.50</td>\n      <td>...</td>\n      <td>2017-05-15</td>\n      <td>8.01</td>\n      <td>M</td>\n      <td>85.0</td>\n      <td>1928.0</td>\n      <td>NaN</td>\n      <td>NaT</td>\n      <td>NaN</td>\n      <td>NaT</td>\n      <td>2007-12-02</td>\n    </tr>\n    <tr>\n      <th>50629</th>\n      <td>2222336.0</td>\n      <td>Médecin généraliste</td>\n      <td>2013-07-01</td>\n      <td>3.400940e+12</td>\n      <td>500.0</td>\n      <td>15000.0</td>\n      <td>30.0</td>\n      <td>C03CA01</td>\n      <td>2.0</td>\n      <td>0.25</td>\n      <td>...</td>\n      <td>NaT</td>\n      <td>NaN</td>\n      <td>F</td>\n      <td>78.0</td>\n      <td>1935.0</td>\n      <td>NaN</td>\n      <td>NaT</td>\n      <td>NaN</td>\n      <td>NaT</td>\n      <td>2006-02-23</td>\n    </tr>\n    <tr>\n      <th>50631</th>\n      <td>11363518.0</td>\n      <td>Médecin généraliste</td>\n      <td>2013-01-24</td>\n      <td>3.400940e+12</td>\n      <td>500.0</td>\n      <td>15000.0</td>\n      <td>30.0</td>\n      <td>C03CA01</td>\n      <td>1.0</td>\n      <td>0.25</td>\n      <td>...</td>\n      <td>NaT</td>\n      <td>NaN</td>\n      <td>M</td>\n      <td>80.0</td>\n      <td>1933.0</td>\n      <td>NaN</td>\n      <td>NaT</td>\n      <td>NaN</td>\n      <td>NaT</td>\n      <td>1998-01-27</td>\n    </tr>\n    <tr>\n      <th>50632</th>\n      <td>18889430.0</td>\n      <td>Médecin généraliste</td>\n      <td>2013-01-24</td>\n      <td>3.400940e+12</td>\n      <td>500.0</td>\n      <td>15000.0</td>\n      <td>30.0</td>\n      <td>C03CA01</td>\n      <td>1.0</td>\n      <td>0.50</td>\n      <td>...</td>\n      <td>2017-05-15</td>\n      <td>8.01</td>\n      <td>M</td>\n      <td>85.0</td>\n      <td>1928.0</td>\n      <td>NaN</td>\n      <td>NaT</td>\n      <td>NaN</td>\n      <td>NaT</td>\n      <td>2007-12-02</td>\n    </tr>\n  </tbody>\n</table>\n<p>36876 rows × 31 columns</p>\n</div>"
     },
     "metadata": {},
     "execution_count": 7
    }
   ],
   "source": [
    "dropColumnNames = dfGroupedByMoleculeLabel.columns.to_list()\n",
    "dfWithATCCode = dfWithoutContactID.drop(dropColumnNames, axis='columns')\n",
    "dfWithATCCode"
   ]
  },
  {
   "source": [
    "## Suppression des colonnes ```'*der*'```\n",
    "\n",
    "Les colonnes ```'*der*'``` contiennent la dernière donnée. Cette donnée peut être récupérée grâce à la date de la visite et aux valeurs mesurées. Par exemple, il n'est pas nécessaire d'avoir une colonne ```der_date``` ou ```der_mesure```. Les données de ces deux types de colonnes peuvent être récupérées grâce à la ligne qui correspond à la dernière date de la mesure, que nous pouvons trouver grâce à la colonne ```contact_date```."
   ],
   "cell_type": "markdown",
   "metadata": {}
  },
  {
   "cell_type": "code",
   "execution_count": 8,
   "metadata": {},
   "outputs": [],
   "source": [
    "derColumnNames = []\n",
    "\n",
    "for c in dfWithATCCode.columns:\n",
    "    if ('der_date' in c) or ('der_mesure' in c):\n",
    "        derColumnNames.append(c)\n",
    "\n",
    "dfWithoutDer = dfWithATCCode.drop(derColumnNames,axis='columns')"
   ]
  },
  {
   "source": [
    "## Suppression des colonnes ```Taille``` et ```Poids```"
   ],
   "cell_type": "markdown",
   "metadata": {}
  },
  {
   "cell_type": "code",
   "execution_count": 9,
   "metadata": {},
   "outputs": [
    {
     "output_type": "stream",
     "name": "stdout",
     "text": [
      "Taille: 18150/36876 valeurs nulles (=49.22%)\nPoids: 11389/36876 valeurs nulles (=30.88%)\n"
     ]
    }
   ],
   "source": [
    "print(f\"Taille: {dfWithoutDer.Taille.isnull().sum()}/{len(dfWithoutDer.Taille)} valeurs nulles (={dfWithoutDer.Taille.isnull().sum()/len(dfWithoutDer.Taille)*100:.2f}%)\")\n",
    "\n",
    "print(f\"Poids: {dfWithoutDer.Poids.isnull().sum()}/{len(dfWithoutDer.Poids)} valeurs nulles (={dfWithoutDer.Poids.isnull().sum()/len(dfWithoutDer.Poids)*100:.2f}%)\".format())"
   ]
  },
  {
   "source": [
    "Nous voyons qu'il y a beaucoup trop de valeur nulles. Ces deux colonnes semblent donc difficilement exploitable. Nous pouvons cependant vérifier si pour les patients toutes les valeurs sont à nulles ou s'il n'existe que quelques entrées à nulle par patient mais qu'il y en a beaucoup. Dans ce cas nous pourrions enlever les lignes contenant des valeurs nulles, ou trouver un moyen d'attribuer une valeur à la place de Nan"
   ],
   "cell_type": "markdown",
   "metadata": {}
  },
  {
   "cell_type": "code",
   "execution_count": 10,
   "metadata": {},
   "outputs": [],
   "source": [
    "dfPersonIdIndex = dfWithoutDer.set_index('person_id',drop=True).sort_index()\n",
    "dfTPGroupBy = dfPersonIdIndex.groupby('person_id')"
   ]
  },
  {
   "cell_type": "code",
   "execution_count": 11,
   "metadata": {
    "tags": []
   },
   "outputs": [
    {
     "output_type": "stream",
     "name": "stdout",
     "text": [
      "Taille: 0 / 2219 utilisables\n",
      "Poids: 0 / 1498 utilisables\n"
     ]
    }
   ],
   "source": [
    "maybeUseful = 0\n",
    "valeurNulle = 0\n",
    "for i,_ in dfTPGroupBy:\n",
    "    if dfPersonIdIndex.loc[i].Taille.isnull().sum() > 0:\n",
    "        valeurNulle += 1\n",
    "        if dfPersonIdIndex.loc[i].Taille.isnull().sum() < len(dfPersonIdIndex.loc[i].Taille):\n",
    "            maybeUseful += 1\n",
    "\n",
    "print(f\"Taille: {maybeUseful} / {valeurNulle} utilisables\")\n",
    "\n",
    "maybeUseful = 0\n",
    "valeurNulle = 0\n",
    "c = 0\n",
    "for i,_ in dfTPGroupBy:\n",
    "    if dfPersonIdIndex.loc[i].Poids.isnull().sum() > 0:\n",
    "        valeurNulle += 1\n",
    "        if dfPersonIdIndex.loc[i].Poids.isnull().sum() < len(dfPersonIdIndex.loc[i].Poids):\n",
    "            maybeUseful += 1\n",
    "\n",
    "print(f\"Poids: {maybeUseful} / {valeurNulle} utilisables\")"
   ]
  },
  {
   "source": [
    "tailleNan = 0\n",
    "poidsNan = 0\n",
    "oneOfBoth = 0\n",
    "bothNan = 0\n",
    "totalEntries = 0\n",
    "for i,_ in dfTPGroupBy:\n",
    "    totalEntries += 1\n",
    "    hasTailleNan = False\n",
    "    hasPoidsNan = False\n",
    "    if dfPersonIdIndex.loc[i].Taille.isnull().sum() != 0:\n",
    "        tailleNan += 1\n",
    "        hasTailleNan = True\n",
    "    if dfPersonIdIndex.loc[i].Poids.isnull().sum() != 0:\n",
    "        poidsNan += 1\n",
    "        hasPoidsNan = True\n",
    "    if hasTailleNan or hasPoidsNan:\n",
    "        oneOfBoth += 1\n",
    "    if hasTailleNan and hasPoidsNan:\n",
    "        bothNan += 1\n",
    "print(\" --- Statistique par Utilisateur --- \")\n",
    "print(f\"{tailleNan} / {totalEntries} ({tailleNan/totalEntries*100:.2f}%) des utilisateurs ont une valeur nulle pour la taille\")\n",
    "print(f\"{poidsNan} / {totalEntries} ({poidsNan/totalEntries*100:.2f}%) des utilisateurs ont une valeur nulle pour le poids\")\n",
    "print(f\"{oneOfBoth} / {totalEntries} ({oneOfBoth/totalEntries*100:.2f}%) des utilisateurs ont une valeur nulle pour la taille ou le poids\")\n",
    "print(f\"{bothNan} / {totalEntries} ({bothNan/totalEntries*100:.2f}%) des utilisateurs ont les deux valeurs nulle pour la taille ou le poids\")\n",
    "\n"
   ],
   "cell_type": "code",
   "metadata": {
    "tags": []
   },
   "execution_count": 12,
   "outputs": [
    {
     "output_type": "stream",
     "name": "stdout",
     "text": [
      " --- Statistique par Utilisateur --- \n2219 / 4227 (52.50%) des utilisateurs ont une valeur nulle pour la taille\n1498 / 4227 (35.44%) des utilisateurs ont une valeur nulle pour le poids\n2220 / 4227 (52.52%) des utilisateurs ont une valeur nulle pour la taille ou le poids\n1497 / 4227 (35.42%) des utilisateurs ont les deux valeurs nulle pour la taille ou le poids\n"
     ]
    }
   ]
  },
  {
   "source": [
    "Nous concluons de l'analyse de ces données que soit toutes les valeurs de poids et de tailles sont entrées, soit aucunes. Cela rend ces informations innexploitables et nous supprimons donc les colonnes"
   ],
   "cell_type": "markdown",
   "metadata": {}
  },
  {
   "cell_type": "code",
   "execution_count": 13,
   "metadata": {},
   "outputs": [],
   "source": [
    "dfWithoutPT = dfWithoutDer.drop(['Taille', 'Poids'],axis='columns')"
   ]
  },
  {
   "source": [
    "## Suppressions diverses"
   ],
   "cell_type": "markdown",
   "metadata": {}
  },
  {
   "source": [
    "Enfin, certaines colonnes n'apportent pas d'informations nécessaires pour la prédiction, nous choisissons de toutes les supprimer ici"
   ],
   "cell_type": "markdown",
   "metadata": {}
  },
  {
   "cell_type": "code",
   "execution_count": 14,
   "metadata": {},
   "outputs": [
    {
     "output_type": "execute_result",
     "data": {
      "text/plain": [
       "person_id                               0\n",
       "specialty_label                         0\n",
       "contact_date                            0\n",
       "cip                                     0\n",
       "dosage_1                                0\n",
       "dose_1                                  0\n",
       "dose_2                                  0\n",
       "product_atc_code                        0\n",
       "box                                   253\n",
       "quantity                              153\n",
       "frequency_label                       147\n",
       "duration                             5100\n",
       "Traitement_Autres_A10_dep_201701    29649\n",
       "Traitement_Insulines_dep_201701     34850\n",
       "Pulse                                   0\n",
       "Tension Diastolique                     0\n",
       "Tension Systolique                      0\n",
       "Glycemie_prescription               35937\n",
       "HbA1c_prescription                  35766\n",
       "gender_code                             0\n",
       "Age_presc                               0\n",
       "year_of_birth                           0\n",
       "first_contact_date                      0\n",
       "dtype: int64"
      ]
     },
     "metadata": {},
     "execution_count": 14
    }
   ],
   "source": [
    "dfWithoutPT.isnull().sum()"
   ]
  },
  {
   "source": [
    "Les colonnes restantes avec des valeurs ```Nan``` ne nous intéresse pas, nous pouvons les supprimer"
   ],
   "cell_type": "markdown",
   "metadata": {}
  },
  {
   "cell_type": "code",
   "execution_count": 15,
   "metadata": {},
   "outputs": [],
   "source": [
    "nullAmount = dfWithoutPT.isnull().sum()\n",
    "\n",
    "columnNameToDrop = nullAmount[nullAmount.values > 0].index\n",
    "dfFinal = dfWithoutPT.drop(columnNameToDrop,axis='columns').drop(['cip','dosage_1','dose_1','dose_2'],axis='columns')"
   ]
  },
  {
   "source": [
    "# Traîtement des données"
   ],
   "cell_type": "markdown",
   "metadata": {}
  },
  {
   "source": [
    "## Conversion des données"
   ],
   "cell_type": "markdown",
   "metadata": {}
  },
  {
   "source": [
    "### Ajout du temps entre chaque visite (ce que l'on veut prédire)"
   ],
   "cell_type": "markdown",
   "metadata": {}
  },
  {
   "source": [
    "Nous créons d'abord la colonne ```wait_time``` pour qu'elle ait le type de donnée ```deltatime```. nous itèrerons plus tard sur chaque valeur de cette colonne pour lui enlever la valeur précédante pour chaque utilisateur, et ainsi avoir l'intervalle de temps entre chaque visite"
   ],
   "cell_type": "markdown",
   "metadata": {}
  },
  {
   "cell_type": "code",
   "execution_count": 16,
   "metadata": {
    "tags": []
   },
   "outputs": [],
   "source": [
    "wait_time = dfFinal.contact_date - dfFinal.first_contact_date\n",
    "\n",
    "dfWithTime = dfFinal.drop('first_contact_date',axis='columns')\n",
    "dfWithTime['wait_time'] = wait_time"
   ]
  },
  {
   "cell_type": "code",
   "execution_count": 17,
   "metadata": {},
   "outputs": [
    {
     "output_type": "execute_result",
     "data": {
      "text/plain": [
       "        person_id      specialty_label contact_date product_atc_code  Pulse  \\\n",
       "1        263659.0  Médecin généraliste   2014-09-24         C03CA01    70.0   \n",
       "2        263659.0  Médecin généraliste   2014-09-12         C03CA01    70.0   \n",
       "3        263659.0  Médecin généraliste   2015-03-26         C03CA01    60.0   \n",
       "4        263659.0  Médecin généraliste   2015-06-05         C03CA01    60.0   \n",
       "6      25182917.0  Médecin généraliste   2013-03-27         C09XA02    64.0   \n",
       "...           ...                  ...          ...              ...    ...   \n",
       "50625  26636453.0  Médecin généraliste   2016-11-16         C03CA01    60.0   \n",
       "50627  18889430.0  Médecin généraliste   2013-02-01         C03CA01    60.0   \n",
       "50629   2222336.0  Médecin généraliste   2013-07-01         C03CA01    72.0   \n",
       "50631  11363518.0  Médecin généraliste   2013-01-24         C03CA01    72.0   \n",
       "50632  18889430.0  Médecin généraliste   2013-01-24         C03CA01    72.0   \n",
       "\n",
       "       Tension Diastolique  Tension Systolique gender_code  Age_presc  \\\n",
       "1                    110.0                60.0           M       96.0   \n",
       "2                    118.0                70.0           M       96.0   \n",
       "3                    120.0                70.0           M       97.0   \n",
       "4                    120.0                70.0           M       97.0   \n",
       "6                    145.0                85.0           M       63.0   \n",
       "...                    ...                 ...         ...        ...   \n",
       "50625                120.0                60.0           M       79.0   \n",
       "50627                120.0                70.0           M       85.0   \n",
       "50629                130.0                70.0           F       78.0   \n",
       "50631                139.0                70.0           M       80.0   \n",
       "50632                120.0                70.0           M       85.0   \n",
       "\n",
       "       year_of_birth wait_time  \n",
       "1             1918.0 6019 days  \n",
       "2             1918.0 6007 days  \n",
       "3             1918.0 6202 days  \n",
       "4             1918.0 6273 days  \n",
       "6             1950.0  723 days  \n",
       "...              ...       ...  \n",
       "50625         1937.0 1737 days  \n",
       "50627         1928.0 1888 days  \n",
       "50629         1935.0 2685 days  \n",
       "50631         1933.0 5476 days  \n",
       "50632         1928.0 1880 days  \n",
       "\n",
       "[36876 rows x 11 columns]"
      ],
      "text/html": "<div>\n<style scoped>\n    .dataframe tbody tr th:only-of-type {\n        vertical-align: middle;\n    }\n\n    .dataframe tbody tr th {\n        vertical-align: top;\n    }\n\n    .dataframe thead th {\n        text-align: right;\n    }\n</style>\n<table border=\"1\" class=\"dataframe\">\n  <thead>\n    <tr style=\"text-align: right;\">\n      <th></th>\n      <th>person_id</th>\n      <th>specialty_label</th>\n      <th>contact_date</th>\n      <th>product_atc_code</th>\n      <th>Pulse</th>\n      <th>Tension Diastolique</th>\n      <th>Tension Systolique</th>\n      <th>gender_code</th>\n      <th>Age_presc</th>\n      <th>year_of_birth</th>\n      <th>wait_time</th>\n    </tr>\n  </thead>\n  <tbody>\n    <tr>\n      <th>1</th>\n      <td>263659.0</td>\n      <td>Médecin généraliste</td>\n      <td>2014-09-24</td>\n      <td>C03CA01</td>\n      <td>70.0</td>\n      <td>110.0</td>\n      <td>60.0</td>\n      <td>M</td>\n      <td>96.0</td>\n      <td>1918.0</td>\n      <td>6019 days</td>\n    </tr>\n    <tr>\n      <th>2</th>\n      <td>263659.0</td>\n      <td>Médecin généraliste</td>\n      <td>2014-09-12</td>\n      <td>C03CA01</td>\n      <td>70.0</td>\n      <td>118.0</td>\n      <td>70.0</td>\n      <td>M</td>\n      <td>96.0</td>\n      <td>1918.0</td>\n      <td>6007 days</td>\n    </tr>\n    <tr>\n      <th>3</th>\n      <td>263659.0</td>\n      <td>Médecin généraliste</td>\n      <td>2015-03-26</td>\n      <td>C03CA01</td>\n      <td>60.0</td>\n      <td>120.0</td>\n      <td>70.0</td>\n      <td>M</td>\n      <td>97.0</td>\n      <td>1918.0</td>\n      <td>6202 days</td>\n    </tr>\n    <tr>\n      <th>4</th>\n      <td>263659.0</td>\n      <td>Médecin généraliste</td>\n      <td>2015-06-05</td>\n      <td>C03CA01</td>\n      <td>60.0</td>\n      <td>120.0</td>\n      <td>70.0</td>\n      <td>M</td>\n      <td>97.0</td>\n      <td>1918.0</td>\n      <td>6273 days</td>\n    </tr>\n    <tr>\n      <th>6</th>\n      <td>25182917.0</td>\n      <td>Médecin généraliste</td>\n      <td>2013-03-27</td>\n      <td>C09XA02</td>\n      <td>64.0</td>\n      <td>145.0</td>\n      <td>85.0</td>\n      <td>M</td>\n      <td>63.0</td>\n      <td>1950.0</td>\n      <td>723 days</td>\n    </tr>\n    <tr>\n      <th>...</th>\n      <td>...</td>\n      <td>...</td>\n      <td>...</td>\n      <td>...</td>\n      <td>...</td>\n      <td>...</td>\n      <td>...</td>\n      <td>...</td>\n      <td>...</td>\n      <td>...</td>\n      <td>...</td>\n    </tr>\n    <tr>\n      <th>50625</th>\n      <td>26636453.0</td>\n      <td>Médecin généraliste</td>\n      <td>2016-11-16</td>\n      <td>C03CA01</td>\n      <td>60.0</td>\n      <td>120.0</td>\n      <td>60.0</td>\n      <td>M</td>\n      <td>79.0</td>\n      <td>1937.0</td>\n      <td>1737 days</td>\n    </tr>\n    <tr>\n      <th>50627</th>\n      <td>18889430.0</td>\n      <td>Médecin généraliste</td>\n      <td>2013-02-01</td>\n      <td>C03CA01</td>\n      <td>60.0</td>\n      <td>120.0</td>\n      <td>70.0</td>\n      <td>M</td>\n      <td>85.0</td>\n      <td>1928.0</td>\n      <td>1888 days</td>\n    </tr>\n    <tr>\n      <th>50629</th>\n      <td>2222336.0</td>\n      <td>Médecin généraliste</td>\n      <td>2013-07-01</td>\n      <td>C03CA01</td>\n      <td>72.0</td>\n      <td>130.0</td>\n      <td>70.0</td>\n      <td>F</td>\n      <td>78.0</td>\n      <td>1935.0</td>\n      <td>2685 days</td>\n    </tr>\n    <tr>\n      <th>50631</th>\n      <td>11363518.0</td>\n      <td>Médecin généraliste</td>\n      <td>2013-01-24</td>\n      <td>C03CA01</td>\n      <td>72.0</td>\n      <td>139.0</td>\n      <td>70.0</td>\n      <td>M</td>\n      <td>80.0</td>\n      <td>1933.0</td>\n      <td>5476 days</td>\n    </tr>\n    <tr>\n      <th>50632</th>\n      <td>18889430.0</td>\n      <td>Médecin généraliste</td>\n      <td>2013-01-24</td>\n      <td>C03CA01</td>\n      <td>72.0</td>\n      <td>120.0</td>\n      <td>70.0</td>\n      <td>M</td>\n      <td>85.0</td>\n      <td>1928.0</td>\n      <td>1880 days</td>\n    </tr>\n  </tbody>\n</table>\n<p>36876 rows × 11 columns</p>\n</div>"
     },
     "metadata": {},
     "execution_count": 17
    }
   ],
   "source": [
    "dfWithTime"
   ]
  },
  {
   "source": [
    "### Encodage des valeurs non numériques"
   ],
   "cell_type": "markdown",
   "metadata": {}
  },
  {
   "cell_type": "code",
   "execution_count": 18,
   "metadata": {},
   "outputs": [],
   "source": [
    "specialtyEncoder = LabelEncoder()\n",
    "ATCCodeEncoder = LabelEncoder()\n",
    "genderEncoder = LabelEncoder()\n",
    "\n",
    "dfWithTime.specialty_label = specialtyEncoder.fit_transform(dfWithTime.specialty_label)\n",
    "dfWithTime.product_atc_code = ATCCodeEncoder.fit_transform(dfWithTime.product_atc_code)\n",
    "dfWithTime.gender_code = genderEncoder.fit_transform(dfWithTime.gender_code)\n"
   ]
  },
  {
   "source": [
    "### Conversion en ```TimeSeries```"
   ],
   "cell_type": "markdown",
   "metadata": {}
  },
  {
   "source": [
    "Nous définissons simplement le nouvel index comme la colonne donnant l'intervalle de temps entre chaque visite."
   ],
   "cell_type": "markdown",
   "metadata": {}
  },
  {
   "cell_type": "code",
   "execution_count": 19,
   "metadata": {},
   "outputs": [
    {
     "output_type": "execute_result",
     "data": {
      "text/plain": [
       "                         specialty_label  product_atc_code  Pulse  \\\n",
       "person_id  contact_date                                             \n",
       "291.0      2016-10-28                  2                10   72.0   \n",
       "           2016-11-04                  2                10   68.0   \n",
       "           2016-11-21                  2                10   84.0   \n",
       "           2017-01-16                  2                10   84.0   \n",
       "           2017-11-20                  2                10   92.0   \n",
       "...                                  ...               ...    ...   \n",
       "34823672.0 2017-04-15                  2                 8   68.0   \n",
       "           2017-06-26                  2                 8   74.0   \n",
       "           2017-08-30                  2                 8   80.0   \n",
       "           2017-09-11                  2                 8   74.0   \n",
       "           2018-08-02                  2                 8   78.0   \n",
       "\n",
       "                         Tension Diastolique  Tension Systolique  gender_code  \\\n",
       "person_id  contact_date                                                         \n",
       "291.0      2016-10-28                  130.0                60.0            1   \n",
       "           2016-11-04                  142.0                65.0            1   \n",
       "           2016-11-21                  140.0                75.0            1   \n",
       "           2017-01-16                  125.0                70.0            1   \n",
       "           2017-11-20                  115.0                60.0            1   \n",
       "...                                      ...                 ...          ...   \n",
       "34823672.0 2017-04-15                  140.0                60.0            0   \n",
       "           2017-06-26                  130.0                70.0            0   \n",
       "           2017-08-30                  130.0                70.0            0   \n",
       "           2017-09-11                  140.0                80.0            0   \n",
       "           2018-08-02                  130.0                70.0            0   \n",
       "\n",
       "                         Age_presc  year_of_birth wait_time  \n",
       "person_id  contact_date                                      \n",
       "291.0      2016-10-28         86.0         1930.0 6603 days  \n",
       "           2016-11-04         86.0         1930.0 6610 days  \n",
       "           2016-11-21         86.0         1930.0 6627 days  \n",
       "           2017-01-16         87.0         1930.0 6683 days  \n",
       "           2017-11-20         87.0         1930.0 6991 days  \n",
       "...                            ...            ...       ...  \n",
       "34823672.0 2017-04-15         73.0         1944.0    0 days  \n",
       "           2017-06-26         73.0         1944.0   72 days  \n",
       "           2017-08-30         73.0         1944.0  137 days  \n",
       "           2017-09-11         73.0         1944.0  149 days  \n",
       "           2018-08-02         74.0         1944.0  474 days  \n",
       "\n",
       "[36876 rows x 9 columns]"
      ],
      "text/html": "<div>\n<style scoped>\n    .dataframe tbody tr th:only-of-type {\n        vertical-align: middle;\n    }\n\n    .dataframe tbody tr th {\n        vertical-align: top;\n    }\n\n    .dataframe thead th {\n        text-align: right;\n    }\n</style>\n<table border=\"1\" class=\"dataframe\">\n  <thead>\n    <tr style=\"text-align: right;\">\n      <th></th>\n      <th></th>\n      <th>specialty_label</th>\n      <th>product_atc_code</th>\n      <th>Pulse</th>\n      <th>Tension Diastolique</th>\n      <th>Tension Systolique</th>\n      <th>gender_code</th>\n      <th>Age_presc</th>\n      <th>year_of_birth</th>\n      <th>wait_time</th>\n    </tr>\n    <tr>\n      <th>person_id</th>\n      <th>contact_date</th>\n      <th></th>\n      <th></th>\n      <th></th>\n      <th></th>\n      <th></th>\n      <th></th>\n      <th></th>\n      <th></th>\n      <th></th>\n    </tr>\n  </thead>\n  <tbody>\n    <tr>\n      <th rowspan=\"5\" valign=\"top\">291.0</th>\n      <th>2016-10-28</th>\n      <td>2</td>\n      <td>10</td>\n      <td>72.0</td>\n      <td>130.0</td>\n      <td>60.0</td>\n      <td>1</td>\n      <td>86.0</td>\n      <td>1930.0</td>\n      <td>6603 days</td>\n    </tr>\n    <tr>\n      <th>2016-11-04</th>\n      <td>2</td>\n      <td>10</td>\n      <td>68.0</td>\n      <td>142.0</td>\n      <td>65.0</td>\n      <td>1</td>\n      <td>86.0</td>\n      <td>1930.0</td>\n      <td>6610 days</td>\n    </tr>\n    <tr>\n      <th>2016-11-21</th>\n      <td>2</td>\n      <td>10</td>\n      <td>84.0</td>\n      <td>140.0</td>\n      <td>75.0</td>\n      <td>1</td>\n      <td>86.0</td>\n      <td>1930.0</td>\n      <td>6627 days</td>\n    </tr>\n    <tr>\n      <th>2017-01-16</th>\n      <td>2</td>\n      <td>10</td>\n      <td>84.0</td>\n      <td>125.0</td>\n      <td>70.0</td>\n      <td>1</td>\n      <td>87.0</td>\n      <td>1930.0</td>\n      <td>6683 days</td>\n    </tr>\n    <tr>\n      <th>2017-11-20</th>\n      <td>2</td>\n      <td>10</td>\n      <td>92.0</td>\n      <td>115.0</td>\n      <td>60.0</td>\n      <td>1</td>\n      <td>87.0</td>\n      <td>1930.0</td>\n      <td>6991 days</td>\n    </tr>\n    <tr>\n      <th>...</th>\n      <th>...</th>\n      <td>...</td>\n      <td>...</td>\n      <td>...</td>\n      <td>...</td>\n      <td>...</td>\n      <td>...</td>\n      <td>...</td>\n      <td>...</td>\n      <td>...</td>\n    </tr>\n    <tr>\n      <th rowspan=\"5\" valign=\"top\">34823672.0</th>\n      <th>2017-04-15</th>\n      <td>2</td>\n      <td>8</td>\n      <td>68.0</td>\n      <td>140.0</td>\n      <td>60.0</td>\n      <td>0</td>\n      <td>73.0</td>\n      <td>1944.0</td>\n      <td>0 days</td>\n    </tr>\n    <tr>\n      <th>2017-06-26</th>\n      <td>2</td>\n      <td>8</td>\n      <td>74.0</td>\n      <td>130.0</td>\n      <td>70.0</td>\n      <td>0</td>\n      <td>73.0</td>\n      <td>1944.0</td>\n      <td>72 days</td>\n    </tr>\n    <tr>\n      <th>2017-08-30</th>\n      <td>2</td>\n      <td>8</td>\n      <td>80.0</td>\n      <td>130.0</td>\n      <td>70.0</td>\n      <td>0</td>\n      <td>73.0</td>\n      <td>1944.0</td>\n      <td>137 days</td>\n    </tr>\n    <tr>\n      <th>2017-09-11</th>\n      <td>2</td>\n      <td>8</td>\n      <td>74.0</td>\n      <td>140.0</td>\n      <td>80.0</td>\n      <td>0</td>\n      <td>73.0</td>\n      <td>1944.0</td>\n      <td>149 days</td>\n    </tr>\n    <tr>\n      <th>2018-08-02</th>\n      <td>2</td>\n      <td>8</td>\n      <td>78.0</td>\n      <td>130.0</td>\n      <td>70.0</td>\n      <td>0</td>\n      <td>74.0</td>\n      <td>1944.0</td>\n      <td>474 days</td>\n    </tr>\n  </tbody>\n</table>\n<p>36876 rows × 9 columns</p>\n</div>"
     },
     "metadata": {},
     "execution_count": 19
    }
   ],
   "source": [
    "ts = dfWithTime.set_index(['person_id','contact_date']).sort_index()\n",
    "ts"
   ]
  },
  {
   "source": [
    "### Attribution des bonnes valeurs de ```time_wait```"
   ],
   "cell_type": "markdown",
   "metadata": {}
  },
  {
   "cell_type": "code",
   "execution_count": 20,
   "metadata": {},
   "outputs": [],
   "source": [
    "tsWithTime = ts\n",
    "for i,_ in ts.groupby('person_id'):\n",
    "    len_ = len(ts.loc[i])\n",
    "    tsWithTime.loc[i].wait_time[1:len_] = pd.Series(ts.loc[i].wait_time.to_numpy()[1:len_] - ts.loc[i].wait_time.to_numpy()[:len_-1])\n",
    "    tsWithTime.loc[i].wait_time[0] = pd.Timedelta(0)"
   ]
  },
  {
   "cell_type": "code",
   "execution_count": 21,
   "metadata": {},
   "outputs": [
    {
     "output_type": "execute_result",
     "data": {
      "text/plain": [
       "person_id   contact_date\n",
       "291.0       2016-10-28       0 days\n",
       "            2016-11-04       7 days\n",
       "            2016-11-21      17 days\n",
       "            2017-01-16      56 days\n",
       "            2017-11-20     308 days\n",
       "                             ...   \n",
       "34823672.0  2017-04-15       0 days\n",
       "            2017-06-26      72 days\n",
       "            2017-08-30      65 days\n",
       "            2017-09-11      12 days\n",
       "            2018-08-02     325 days\n",
       "Name: wait_time, Length: 36876, dtype: timedelta64[ns]"
      ]
     },
     "metadata": {},
     "execution_count": 21
    }
   ],
   "source": [
    "tsWithTime.wait_time"
   ]
  },
  {
   "source": [
    "### Transformation de ```wait_time``` en valeur numérique"
   ],
   "cell_type": "markdown",
   "metadata": {}
  },
  {
   "cell_type": "code",
   "execution_count": 22,
   "metadata": {},
   "outputs": [],
   "source": [
    "tsWithTimeNumber = tsWithTime\n",
    "tsWithTimeNumber.wait_time = (tsWithTimeNumber.wait_time.dt.days / 7).astype(int)"
   ]
  },
  {
   "cell_type": "code",
   "execution_count": 23,
   "metadata": {},
   "outputs": [
    {
     "output_type": "execute_result",
     "data": {
      "text/plain": [
       "person_id   contact_date\n",
       "291.0       2016-10-28       0\n",
       "            2016-11-04       1\n",
       "            2016-11-21       2\n",
       "            2017-01-16       8\n",
       "            2017-11-20      44\n",
       "                            ..\n",
       "34823672.0  2017-04-15       0\n",
       "            2017-06-26      10\n",
       "            2017-08-30       9\n",
       "            2017-09-11       1\n",
       "            2018-08-02      46\n",
       "Name: wait_time, Length: 36876, dtype: int64"
      ]
     },
     "metadata": {},
     "execution_count": 23
    }
   ],
   "source": [
    "tsWithTimeNumber.wait_time"
   ]
  },
  {
   "source": [
    "# Prédiction"
   ],
   "cell_type": "markdown",
   "metadata": {}
  },
  {
   "source": [
    "## Création des données d'entraînement/test"
   ],
   "cell_type": "markdown",
   "metadata": {}
  },
  {
   "cell_type": "code",
   "execution_count": 24,
   "metadata": {
    "tags": []
   },
   "outputs": [],
   "source": [
    "# Il y a peut être moyen de s'en sortir ici et de récupérer plus de donnée en regroupant chaque ensemble de point par série de 4 séries temporelles\n",
    "yColumNames = ['product_atc_code']\n",
    "\n",
    "xList,yList = [],[]\n",
    "for i,_ in ts.groupby('person_id'):\n",
    "    # Mme ZERHAOUI a dit qu'il fallait transposer, je transpose\n",
    "    # Pour l'instant je retourne au model évident : une série temporel qui contient 4 éléments de n_features données, on verra après pour la trasposition\n",
    "    currentSeries = tsWithTimeNumber.loc[i]\n",
    "    for j in range(0,len(currentSeries)-VISIT_NUMBER+1):\n",
    "        xList.append(currentSeries[j:j+VISIT_NUMBER-1].to_numpy().astype('float32'))\n",
    "        yList.append(currentSeries[yColumNames].values[j+VISIT_NUMBER-1].astype('float32'))\n",
    "\n",
    "xData = np.array(xList).reshape((len(xList),xList[0].shape[0],xList[0].shape[1]))\n",
    "yData = np.array(yList).reshape((len(yList),len(yColumNames)))"
   ]
  },
  {
   "cell_type": "code",
   "execution_count": 25,
   "metadata": {},
   "outputs": [
    {
     "output_type": "stream",
     "name": "stdout",
     "text": [
      "(24195, 3, 9), (24195, 1)\n"
     ]
    }
   ],
   "source": [
    "print(f\"{xData.shape}, {yData.shape}\")"
   ]
  },
  {
   "cell_type": "code",
   "execution_count": 26,
   "metadata": {},
   "outputs": [
    {
     "output_type": "stream",
     "name": "stdout",
     "text": [
      "Train: 19356 --- Test: 4839\n"
     ]
    }
   ],
   "source": [
    "# On crée un jeu d'entraînement et de test :\n",
    "#  - l'entraînement se fait sur 80% du jeu de donnée total\n",
    "#  - le test se fait donc sur 20%\n",
    "\n",
    "trainUse = int(xData.shape[0] * 80 / 100)\n",
    "testUse = xData.shape[0] - trainUse\n",
    "\n",
    "xTrain, xTest, yTrain, yTest = xData[:trainUse],xData[-testUse:],yData[:trainUse],yData[-testUse:]\n",
    "\n",
    "print(f\"Train: {trainUse} --- Test: {testUse}\")"
   ]
  },
  {
   "source": [
    "## Création du modèle"
   ],
   "cell_type": "markdown",
   "metadata": {}
  },
  {
   "cell_type": "code",
   "execution_count": 27,
   "metadata": {},
   "outputs": [
    {
     "output_type": "stream",
     "name": "stdout",
     "text": [
      "(19356, 3, 9), (19356, 1)\n"
     ]
    }
   ],
   "source": [
    "print(f\"{xTrain.shape}, {yTrain.shape}\")"
   ]
  },
  {
   "cell_type": "code",
   "execution_count": 28,
   "metadata": {},
   "outputs": [],
   "source": [
    "model = models.Sequential()\n",
    "\n",
    "model.add(layers.Conv1D(filters=15,kernel_size=VISIT_NUMBER-1,activation='relu',input_shape=(VISIT_NUMBER-1,xTrain.shape[2])))\n",
    "model.add(layers.Dense(units=32,activation='relu'))\n",
    "model.add(layers.Dense(units=32,activation='relu'))\n",
    "model.add(layers.Dense(units=len(yColumNames)))"
   ]
  },
  {
   "cell_type": "code",
   "execution_count": 29,
   "metadata": {},
   "outputs": [
    {
     "output_type": "stream",
     "name": "stdout",
     "text": [
      "Model: \"sequential\"\n_________________________________________________________________\nLayer (type)                 Output Shape              Param #   \n=================================================================\nconv1d (Conv1D)              (None, 1, 15)             420       \n_________________________________________________________________\ndense (Dense)                (None, 1, 32)             512       \n_________________________________________________________________\ndense_1 (Dense)              (None, 1, 32)             1056      \n_________________________________________________________________\ndense_2 (Dense)              (None, 1, 1)              33        \n=================================================================\nTotal params: 2,021\nTrainable params: 2,021\nNon-trainable params: 0\n_________________________________________________________________\n"
     ]
    }
   ],
   "source": [
    "model.summary()"
   ]
  },
  {
   "cell_type": "code",
   "execution_count": 30,
   "metadata": {},
   "outputs": [],
   "source": [
    "model.compile(optimizer='adam',loss='mse',metrics=['mae'])"
   ]
  },
  {
   "cell_type": "code",
   "execution_count": 31,
   "metadata": {},
   "outputs": [
    {
     "output_type": "stream",
     "name": "stdout",
     "text": [
      "Epoch 1/50\n",
      "605/605 [==============================] - 2s 3ms/step - loss: 1575.8010 - mae: 11.6085 - val_loss: 10.3758 - val_mae: 2.1672\n",
      "Epoch 2/50\n",
      "605/605 [==============================] - 2s 3ms/step - loss: 7.7468 - mae: 1.7879 - val_loss: 6.0313 - val_mae: 1.3619\n",
      "Epoch 3/50\n",
      "605/605 [==============================] - 2s 3ms/step - loss: 5.8726 - mae: 1.3934 - val_loss: 5.1006 - val_mae: 1.0869\n",
      "Epoch 4/50\n",
      "605/605 [==============================] - 2s 3ms/step - loss: 5.1034 - mae: 1.2254 - val_loss: 4.5715 - val_mae: 0.9069\n",
      "Epoch 5/50\n",
      "605/605 [==============================] - 2s 3ms/step - loss: 4.7441 - mae: 1.1817 - val_loss: 4.4561 - val_mae: 1.0152\n",
      "Epoch 6/50\n",
      "605/605 [==============================] - 2s 3ms/step - loss: 4.3806 - mae: 1.1207 - val_loss: 4.3179 - val_mae: 0.9960\n",
      "Epoch 7/50\n",
      "605/605 [==============================] - 2s 3ms/step - loss: 4.3209 - mae: 1.1347 - val_loss: 3.8380 - val_mae: 0.7717\n",
      "Epoch 8/50\n",
      "605/605 [==============================] - 2s 3ms/step - loss: 3.9501 - mae: 1.0470 - val_loss: 3.7823 - val_mae: 0.8371\n",
      "Epoch 9/50\n",
      "605/605 [==============================] - 2s 3ms/step - loss: 3.8982 - mae: 1.0641 - val_loss: 3.6815 - val_mae: 0.8835\n",
      "Epoch 10/50\n",
      "605/605 [==============================] - 2s 3ms/step - loss: 3.9362 - mae: 1.1258 - val_loss: 7.0376 - val_mae: 2.0927\n",
      "Epoch 11/50\n",
      "605/605 [==============================] - 2s 3ms/step - loss: 4.7073 - mae: 1.2968 - val_loss: 4.3352 - val_mae: 1.2234\n",
      "Epoch 12/50\n",
      "605/605 [==============================] - 2s 3ms/step - loss: 3.6733 - mae: 0.9987 - val_loss: 18.7041 - val_mae: 4.0283\n",
      "Epoch 13/50\n",
      "605/605 [==============================] - 2s 3ms/step - loss: 3.9170 - mae: 1.0959 - val_loss: 3.2471 - val_mae: 0.4949\n",
      "Epoch 14/50\n",
      "605/605 [==============================] - 2s 3ms/step - loss: 3.9125 - mae: 1.1006 - val_loss: 4.4795 - val_mae: 1.3829\n",
      "Epoch 15/50\n",
      "605/605 [==============================] - 2s 3ms/step - loss: 3.7014 - mae: 1.0209 - val_loss: 3.2258 - val_mae: 0.4492\n",
      "Epoch 16/50\n",
      "605/605 [==============================] - 2s 3ms/step - loss: 4.1262 - mae: 1.1594 - val_loss: 3.2390 - val_mae: 0.4151\n",
      "Epoch 17/50\n",
      "605/605 [==============================] - 2s 3ms/step - loss: 3.9663 - mae: 1.1301 - val_loss: 5.2754 - val_mae: 1.6163\n",
      "Epoch 18/50\n",
      "605/605 [==============================] - 2s 3ms/step - loss: 3.6957 - mae: 1.0516 - val_loss: 6.1936 - val_mae: 1.9415\n",
      "Epoch 19/50\n",
      "605/605 [==============================] - 2s 3ms/step - loss: 4.1378 - mae: 1.1786 - val_loss: 3.1758 - val_mae: 0.3869\n",
      "Epoch 20/50\n",
      "605/605 [==============================] - 2s 3ms/step - loss: 3.6535 - mae: 1.0387 - val_loss: 6.4656 - val_mae: 1.9623\n",
      "Epoch 21/50\n",
      "605/605 [==============================] - 2s 3ms/step - loss: 3.4237 - mae: 0.9369 - val_loss: 3.3688 - val_mae: 0.6627\n",
      "Epoch 22/50\n",
      "605/605 [==============================] - 2s 3ms/step - loss: 3.4762 - mae: 0.9413 - val_loss: 6.8518 - val_mae: 2.1313\n",
      "Epoch 23/50\n",
      "605/605 [==============================] - 2s 3ms/step - loss: 3.4200 - mae: 0.9177 - val_loss: 3.5616 - val_mae: 0.9194\n",
      "Epoch 24/50\n",
      "605/605 [==============================] - 2s 3ms/step - loss: 3.5411 - mae: 0.9645 - val_loss: 3.8370 - val_mae: 1.0657\n",
      "Epoch 25/50\n",
      "605/605 [==============================] - 2s 3ms/step - loss: 3.4735 - mae: 0.9523 - val_loss: 3.2855 - val_mae: 0.5721\n",
      "Epoch 26/50\n",
      "605/605 [==============================] - 2s 3ms/step - loss: 3.4110 - mae: 0.9141 - val_loss: 3.1905 - val_mae: 0.3897\n",
      "Epoch 27/50\n",
      "605/605 [==============================] - 2s 4ms/step - loss: 3.5285 - mae: 0.9260 - val_loss: 3.3361 - val_mae: 0.5503\n",
      "Epoch 28/50\n",
      "605/605 [==============================] - 2s 4ms/step - loss: 3.2995 - mae: 0.8587 - val_loss: 3.8986 - val_mae: 1.0382\n",
      "Epoch 29/50\n",
      "605/605 [==============================] - 2s 3ms/step - loss: 3.2051 - mae: 0.8484 - val_loss: 3.1662 - val_mae: 0.4021\n",
      "Epoch 30/50\n",
      "605/605 [==============================] - 2s 3ms/step - loss: 3.1604 - mae: 0.8118 - val_loss: 3.2043 - val_mae: 0.4105\n",
      "Epoch 31/50\n",
      "605/605 [==============================] - 2s 3ms/step - loss: 3.2843 - mae: 0.8709 - val_loss: 3.2762 - val_mae: 0.5667\n",
      "Epoch 32/50\n",
      "605/605 [==============================] - 2s 3ms/step - loss: 3.4733 - mae: 0.9041 - val_loss: 4.1677 - val_mae: 1.1853\n",
      "Epoch 33/50\n",
      "605/605 [==============================] - 2s 3ms/step - loss: 3.2433 - mae: 0.8484 - val_loss: 3.2058 - val_mae: 0.4184\n",
      "Epoch 34/50\n",
      "605/605 [==============================] - 2s 3ms/step - loss: 3.1716 - mae: 0.8183 - val_loss: 5.9303 - val_mae: 1.8324\n",
      "Epoch 35/50\n",
      "605/605 [==============================] - 2s 3ms/step - loss: 3.0575 - mae: 0.7428 - val_loss: 3.5383 - val_mae: 0.8058\n",
      "Epoch 36/50\n",
      "605/605 [==============================] - 2s 3ms/step - loss: 3.2017 - mae: 0.8320 - val_loss: 3.4899 - val_mae: 0.7742\n",
      "Epoch 37/50\n",
      "605/605 [==============================] - 2s 3ms/step - loss: 3.0996 - mae: 0.7906 - val_loss: 3.2155 - val_mae: 0.4405\n",
      "Epoch 38/50\n",
      "605/605 [==============================] - 2s 3ms/step - loss: 3.0477 - mae: 0.7563 - val_loss: 3.1880 - val_mae: 0.4198\n",
      "Epoch 39/50\n",
      "605/605 [==============================] - 2s 3ms/step - loss: 3.0398 - mae: 0.7583 - val_loss: 3.4697 - val_mae: 0.7478\n",
      "Epoch 40/50\n",
      "605/605 [==============================] - 2s 3ms/step - loss: 3.1194 - mae: 0.8103 - val_loss: 3.3579 - val_mae: 0.6656\n",
      "Epoch 41/50\n",
      "605/605 [==============================] - 2s 3ms/step - loss: 3.4002 - mae: 0.9298 - val_loss: 3.2499 - val_mae: 0.5847\n",
      "Epoch 42/50\n",
      "605/605 [==============================] - 2s 3ms/step - loss: 3.1426 - mae: 0.8099 - val_loss: 3.1810 - val_mae: 0.3889\n",
      "Epoch 43/50\n",
      "605/605 [==============================] - 2s 3ms/step - loss: 3.0299 - mae: 0.7327 - val_loss: 3.2267 - val_mae: 0.4263\n",
      "Epoch 44/50\n",
      "605/605 [==============================] - 2s 3ms/step - loss: 3.1305 - mae: 0.7962 - val_loss: 4.3554 - val_mae: 1.2597\n",
      "Epoch 45/50\n",
      "605/605 [==============================] - 2s 4ms/step - loss: 3.1014 - mae: 0.7666 - val_loss: 3.2633 - val_mae: 0.5885\n",
      "Epoch 46/50\n",
      "605/605 [==============================] - 2s 3ms/step - loss: 3.0685 - mae: 0.7673 - val_loss: 3.7306 - val_mae: 0.9183\n",
      "Epoch 47/50\n",
      "605/605 [==============================] - 2s 3ms/step - loss: 2.9517 - mae: 0.6910 - val_loss: 5.1162 - val_mae: 1.5505\n",
      "Epoch 48/50\n",
      "605/605 [==============================] - 2s 3ms/step - loss: 3.0628 - mae: 0.7639 - val_loss: 3.3991 - val_mae: 0.7541\n",
      "Epoch 49/50\n",
      "605/605 [==============================] - 2s 3ms/step - loss: 3.0677 - mae: 0.7646 - val_loss: 3.8151 - val_mae: 0.9529\n",
      "Epoch 50/50\n",
      "605/605 [==============================] - 2s 3ms/step - loss: 2.9891 - mae: 0.7280 - val_loss: 3.2671 - val_mae: 0.5615\n"
     ]
    },
    {
     "output_type": "execute_result",
     "data": {
      "text/plain": [
       "<tensorflow.python.keras.callbacks.History at 0x7fa4a4061a60>"
      ]
     },
     "metadata": {},
     "execution_count": 31
    }
   ],
   "source": [
    "model.fit(xTrain,yTrain.reshape((yTrain.shape[0],)),epochs=50, validation_data=(xTest,yTest.reshape((yTest.shape[0],))))"
   ]
  },
  {
   "cell_type": "code",
   "execution_count": 32,
   "metadata": {},
   "outputs": [
    {
     "output_type": "stream",
     "name": "stdout",
     "text": [
      "Précision 'product_atc_code': 83.55%\n"
     ]
    }
   ],
   "source": [
    "predictions = np.round(model.predict(xTest).reshape((yTest.shape)))\n",
    "\n",
    "for i in range(len(yColumNames)):\n",
    "    print(f\"Précision '{yColumNames[i]}': {(predictions[:,i] == yTest[:,i]).sum()/len(yTest)*100:.2f}%\")"
   ]
  },
  {
   "cell_type": "code",
   "execution_count": 33,
   "metadata": {},
   "outputs": [
    {
     "output_type": "display_data",
     "data": {
      "text/plain": "<Figure size 2016x288 with 1 Axes>",
      "image/svg+xml": "<?xml version=\"1.0\" encoding=\"utf-8\" standalone=\"no\"?>\n<!DOCTYPE svg PUBLIC \"-//W3C//DTD SVG 1.1//EN\"\n  \"http://www.w3.org/Graphics/SVG/1.1/DTD/svg11.dtd\">\n<!-- Created with matplotlib (https://matplotlib.org/) -->\n<svg height=\"278.078125pt\" version=\"1.1\" viewBox=\"0 0 1807.08125 278.078125\" width=\"1807.08125pt\" xmlns=\"http://www.w3.org/2000/svg\" xmlns:xlink=\"http://www.w3.org/1999/xlink\">\n <metadata>\n  <rdf:RDF xmlns:cc=\"http://creativecommons.org/ns#\" xmlns:dc=\"http://purl.org/dc/elements/1.1/\" xmlns:rdf=\"http://www.w3.org/1999/02/22-rdf-syntax-ns#\">\n   <cc:Work>\n    <dc:type rdf:resource=\"http://purl.org/dc/dcmitype/StillImage\"/>\n    <dc:date>2020-12-25T21:57:48.102516</dc:date>\n    <dc:format>image/svg+xml</dc:format>\n    <dc:creator>\n     <cc:Agent>\n      <dc:title>Matplotlib v3.3.3, https://matplotlib.org/</dc:title>\n     </cc:Agent>\n    </dc:creator>\n   </cc:Work>\n  </rdf:RDF>\n </metadata>\n <defs>\n  <style type=\"text/css\">*{stroke-linecap:butt;stroke-linejoin:round;}</style>\n </defs>\n <g id=\"figure_1\">\n  <g id=\"patch_1\">\n   <path d=\"M 0 278.078125 \nL 1807.08125 278.078125 \nL 1807.08125 0 \nL 0 0 \nz\n\" style=\"fill:none;\"/>\n  </g>\n  <g id=\"axes_1\">\n   <g id=\"patch_2\">\n    <path d=\"M 40.88125 254.2 \nL 1603.28125 254.2 \nL 1603.28125 36.76 \nL 40.88125 36.76 \nz\n\" style=\"fill:#ffffff;\"/>\n   </g>\n   <g id=\"matplotlib.axis_1\">\n    <g id=\"xtick_1\">\n     <g id=\"line2d_1\">\n      <defs>\n       <path d=\"M 0 0 \nL 0 3.5 \n\" id=\"mf644effa14\" style=\"stroke:#000000;stroke-width:0.8;\"/>\n      </defs>\n      <g>\n       <use style=\"stroke:#000000;stroke-width:0.8;\" x=\"111.899432\" xlink:href=\"#mf644effa14\" y=\"254.2\"/>\n      </g>\n     </g>\n     <g id=\"text_1\">\n      <!-- 0 -->\n      <g transform=\"translate(108.718182 268.798437)scale(0.1 -0.1)\">\n       <defs>\n        <path d=\"M 31.78125 66.40625 \nQ 24.171875 66.40625 20.328125 58.90625 \nQ 16.5 51.421875 16.5 36.375 \nQ 16.5 21.390625 20.328125 13.890625 \nQ 24.171875 6.390625 31.78125 6.390625 \nQ 39.453125 6.390625 43.28125 13.890625 \nQ 47.125 21.390625 47.125 36.375 \nQ 47.125 51.421875 43.28125 58.90625 \nQ 39.453125 66.40625 31.78125 66.40625 \nz\nM 31.78125 74.21875 \nQ 44.046875 74.21875 50.515625 64.515625 \nQ 56.984375 54.828125 56.984375 36.375 \nQ 56.984375 17.96875 50.515625 8.265625 \nQ 44.046875 -1.421875 31.78125 -1.421875 \nQ 19.53125 -1.421875 13.0625 8.265625 \nQ 6.59375 17.96875 6.59375 36.375 \nQ 6.59375 54.828125 13.0625 64.515625 \nQ 19.53125 74.21875 31.78125 74.21875 \nz\n\" id=\"DejaVuSans-48\"/>\n       </defs>\n       <use xlink:href=\"#DejaVuSans-48\"/>\n      </g>\n     </g>\n    </g>\n    <g id=\"xtick_2\">\n     <g id=\"line2d_2\">\n      <g>\n       <use style=\"stroke:#000000;stroke-width:0.8;\" x=\"349.418435\" xlink:href=\"#mf644effa14\" y=\"254.2\"/>\n      </g>\n     </g>\n     <g id=\"text_2\">\n      <!-- 50 -->\n      <g transform=\"translate(343.055935 268.798437)scale(0.1 -0.1)\">\n       <defs>\n        <path d=\"M 10.796875 72.90625 \nL 49.515625 72.90625 \nL 49.515625 64.59375 \nL 19.828125 64.59375 \nL 19.828125 46.734375 \nQ 21.96875 47.46875 24.109375 47.828125 \nQ 26.265625 48.1875 28.421875 48.1875 \nQ 40.625 48.1875 47.75 41.5 \nQ 54.890625 34.8125 54.890625 23.390625 \nQ 54.890625 11.625 47.5625 5.09375 \nQ 40.234375 -1.421875 26.90625 -1.421875 \nQ 22.3125 -1.421875 17.546875 -0.640625 \nQ 12.796875 0.140625 7.71875 1.703125 \nL 7.71875 11.625 \nQ 12.109375 9.234375 16.796875 8.0625 \nQ 21.484375 6.890625 26.703125 6.890625 \nQ 35.15625 6.890625 40.078125 11.328125 \nQ 45.015625 15.765625 45.015625 23.390625 \nQ 45.015625 31 40.078125 35.4375 \nQ 35.15625 39.890625 26.703125 39.890625 \nQ 22.75 39.890625 18.8125 39.015625 \nQ 14.890625 38.140625 10.796875 36.28125 \nz\n\" id=\"DejaVuSans-53\"/>\n       </defs>\n       <use xlink:href=\"#DejaVuSans-53\"/>\n       <use x=\"63.623047\" xlink:href=\"#DejaVuSans-48\"/>\n      </g>\n     </g>\n    </g>\n    <g id=\"xtick_3\">\n     <g id=\"line2d_3\">\n      <g>\n       <use style=\"stroke:#000000;stroke-width:0.8;\" x=\"586.937437\" xlink:href=\"#mf644effa14\" y=\"254.2\"/>\n      </g>\n     </g>\n     <g id=\"text_3\">\n      <!-- 100 -->\n      <g transform=\"translate(577.393687 268.798437)scale(0.1 -0.1)\">\n       <defs>\n        <path d=\"M 12.40625 8.296875 \nL 28.515625 8.296875 \nL 28.515625 63.921875 \nL 10.984375 60.40625 \nL 10.984375 69.390625 \nL 28.421875 72.90625 \nL 38.28125 72.90625 \nL 38.28125 8.296875 \nL 54.390625 8.296875 \nL 54.390625 0 \nL 12.40625 0 \nz\n\" id=\"DejaVuSans-49\"/>\n       </defs>\n       <use xlink:href=\"#DejaVuSans-49\"/>\n       <use x=\"63.623047\" xlink:href=\"#DejaVuSans-48\"/>\n       <use x=\"127.246094\" xlink:href=\"#DejaVuSans-48\"/>\n      </g>\n     </g>\n    </g>\n    <g id=\"xtick_4\">\n     <g id=\"line2d_4\">\n      <g>\n       <use style=\"stroke:#000000;stroke-width:0.8;\" x=\"824.45644\" xlink:href=\"#mf644effa14\" y=\"254.2\"/>\n      </g>\n     </g>\n     <g id=\"text_4\">\n      <!-- 150 -->\n      <g transform=\"translate(814.91269 268.798437)scale(0.1 -0.1)\">\n       <use xlink:href=\"#DejaVuSans-49\"/>\n       <use x=\"63.623047\" xlink:href=\"#DejaVuSans-53\"/>\n       <use x=\"127.246094\" xlink:href=\"#DejaVuSans-48\"/>\n      </g>\n     </g>\n    </g>\n    <g id=\"xtick_5\">\n     <g id=\"line2d_5\">\n      <g>\n       <use style=\"stroke:#000000;stroke-width:0.8;\" x=\"1061.975443\" xlink:href=\"#mf644effa14\" y=\"254.2\"/>\n      </g>\n     </g>\n     <g id=\"text_5\">\n      <!-- 200 -->\n      <g transform=\"translate(1052.431693 268.798437)scale(0.1 -0.1)\">\n       <defs>\n        <path d=\"M 19.1875 8.296875 \nL 53.609375 8.296875 \nL 53.609375 0 \nL 7.328125 0 \nL 7.328125 8.296875 \nQ 12.9375 14.109375 22.625 23.890625 \nQ 32.328125 33.6875 34.8125 36.53125 \nQ 39.546875 41.84375 41.421875 45.53125 \nQ 43.3125 49.21875 43.3125 52.78125 \nQ 43.3125 58.59375 39.234375 62.25 \nQ 35.15625 65.921875 28.609375 65.921875 \nQ 23.96875 65.921875 18.8125 64.3125 \nQ 13.671875 62.703125 7.8125 59.421875 \nL 7.8125 69.390625 \nQ 13.765625 71.78125 18.9375 73 \nQ 24.125 74.21875 28.421875 74.21875 \nQ 39.75 74.21875 46.484375 68.546875 \nQ 53.21875 62.890625 53.21875 53.421875 \nQ 53.21875 48.921875 51.53125 44.890625 \nQ 49.859375 40.875 45.40625 35.40625 \nQ 44.1875 33.984375 37.640625 27.21875 \nQ 31.109375 20.453125 19.1875 8.296875 \nz\n\" id=\"DejaVuSans-50\"/>\n       </defs>\n       <use xlink:href=\"#DejaVuSans-50\"/>\n       <use x=\"63.623047\" xlink:href=\"#DejaVuSans-48\"/>\n       <use x=\"127.246094\" xlink:href=\"#DejaVuSans-48\"/>\n      </g>\n     </g>\n    </g>\n    <g id=\"xtick_6\">\n     <g id=\"line2d_6\">\n      <g>\n       <use style=\"stroke:#000000;stroke-width:0.8;\" x=\"1299.494446\" xlink:href=\"#mf644effa14\" y=\"254.2\"/>\n      </g>\n     </g>\n     <g id=\"text_6\">\n      <!-- 250 -->\n      <g transform=\"translate(1289.950696 268.798437)scale(0.1 -0.1)\">\n       <use xlink:href=\"#DejaVuSans-50\"/>\n       <use x=\"63.623047\" xlink:href=\"#DejaVuSans-53\"/>\n       <use x=\"127.246094\" xlink:href=\"#DejaVuSans-48\"/>\n      </g>\n     </g>\n    </g>\n    <g id=\"xtick_7\">\n     <g id=\"line2d_7\">\n      <g>\n       <use style=\"stroke:#000000;stroke-width:0.8;\" x=\"1537.013448\" xlink:href=\"#mf644effa14\" y=\"254.2\"/>\n      </g>\n     </g>\n     <g id=\"text_7\">\n      <!-- 300 -->\n      <g transform=\"translate(1527.469698 268.798437)scale(0.1 -0.1)\">\n       <defs>\n        <path d=\"M 40.578125 39.3125 \nQ 47.65625 37.796875 51.625 33 \nQ 55.609375 28.21875 55.609375 21.1875 \nQ 55.609375 10.40625 48.1875 4.484375 \nQ 40.765625 -1.421875 27.09375 -1.421875 \nQ 22.515625 -1.421875 17.65625 -0.515625 \nQ 12.796875 0.390625 7.625 2.203125 \nL 7.625 11.71875 \nQ 11.71875 9.328125 16.59375 8.109375 \nQ 21.484375 6.890625 26.8125 6.890625 \nQ 36.078125 6.890625 40.9375 10.546875 \nQ 45.796875 14.203125 45.796875 21.1875 \nQ 45.796875 27.640625 41.28125 31.265625 \nQ 36.765625 34.90625 28.71875 34.90625 \nL 20.21875 34.90625 \nL 20.21875 43.015625 \nL 29.109375 43.015625 \nQ 36.375 43.015625 40.234375 45.921875 \nQ 44.09375 48.828125 44.09375 54.296875 \nQ 44.09375 59.90625 40.109375 62.90625 \nQ 36.140625 65.921875 28.71875 65.921875 \nQ 24.65625 65.921875 20.015625 65.03125 \nQ 15.375 64.15625 9.8125 62.3125 \nL 9.8125 71.09375 \nQ 15.4375 72.65625 20.34375 73.4375 \nQ 25.25 74.21875 29.59375 74.21875 \nQ 40.828125 74.21875 47.359375 69.109375 \nQ 53.90625 64.015625 53.90625 55.328125 \nQ 53.90625 49.265625 50.4375 45.09375 \nQ 46.96875 40.921875 40.578125 39.3125 \nz\n\" id=\"DejaVuSans-51\"/>\n       </defs>\n       <use xlink:href=\"#DejaVuSans-51\"/>\n       <use x=\"63.623047\" xlink:href=\"#DejaVuSans-48\"/>\n       <use x=\"127.246094\" xlink:href=\"#DejaVuSans-48\"/>\n      </g>\n     </g>\n    </g>\n   </g>\n   <g id=\"matplotlib.axis_2\">\n    <g id=\"ytick_1\">\n     <g id=\"line2d_8\">\n      <defs>\n       <path d=\"M 0 0 \nL -3.5 0 \n\" id=\"md1212a726a\" style=\"stroke:#000000;stroke-width:0.8;\"/>\n      </defs>\n      <g>\n       <use style=\"stroke:#000000;stroke-width:0.8;\" x=\"40.88125\" xlink:href=\"#md1212a726a\" y=\"244.316364\"/>\n      </g>\n     </g>\n     <g id=\"text_8\">\n      <!-- 0 -->\n      <g transform=\"translate(27.51875 248.115582)scale(0.1 -0.1)\">\n       <use xlink:href=\"#DejaVuSans-48\"/>\n      </g>\n     </g>\n    </g>\n    <g id=\"ytick_2\">\n     <g id=\"line2d_9\">\n      <g>\n       <use style=\"stroke:#000000;stroke-width:0.8;\" x=\"40.88125\" xlink:href=\"#md1212a726a\" y=\"212.433666\"/>\n      </g>\n     </g>\n     <g id=\"text_9\">\n      <!-- 5 -->\n      <g transform=\"translate(27.51875 216.232884)scale(0.1 -0.1)\">\n       <use xlink:href=\"#DejaVuSans-53\"/>\n      </g>\n     </g>\n    </g>\n    <g id=\"ytick_3\">\n     <g id=\"line2d_10\">\n      <g>\n       <use style=\"stroke:#000000;stroke-width:0.8;\" x=\"40.88125\" xlink:href=\"#md1212a726a\" y=\"180.550968\"/>\n      </g>\n     </g>\n     <g id=\"text_10\">\n      <!-- 10 -->\n      <g transform=\"translate(21.15625 184.350186)scale(0.1 -0.1)\">\n       <use xlink:href=\"#DejaVuSans-49\"/>\n       <use x=\"63.623047\" xlink:href=\"#DejaVuSans-48\"/>\n      </g>\n     </g>\n    </g>\n    <g id=\"ytick_4\">\n     <g id=\"line2d_11\">\n      <g>\n       <use style=\"stroke:#000000;stroke-width:0.8;\" x=\"40.88125\" xlink:href=\"#md1212a726a\" y=\"148.66827\"/>\n      </g>\n     </g>\n     <g id=\"text_11\">\n      <!-- 15 -->\n      <g transform=\"translate(21.15625 152.467489)scale(0.1 -0.1)\">\n       <use xlink:href=\"#DejaVuSans-49\"/>\n       <use x=\"63.623047\" xlink:href=\"#DejaVuSans-53\"/>\n      </g>\n     </g>\n    </g>\n    <g id=\"ytick_5\">\n     <g id=\"line2d_12\">\n      <g>\n       <use style=\"stroke:#000000;stroke-width:0.8;\" x=\"40.88125\" xlink:href=\"#md1212a726a\" y=\"116.785572\"/>\n      </g>\n     </g>\n     <g id=\"text_12\">\n      <!-- 20 -->\n      <g transform=\"translate(21.15625 120.584791)scale(0.1 -0.1)\">\n       <use xlink:href=\"#DejaVuSans-50\"/>\n       <use x=\"63.623047\" xlink:href=\"#DejaVuSans-48\"/>\n      </g>\n     </g>\n    </g>\n    <g id=\"ytick_6\">\n     <g id=\"line2d_13\">\n      <g>\n       <use style=\"stroke:#000000;stroke-width:0.8;\" x=\"40.88125\" xlink:href=\"#md1212a726a\" y=\"84.902874\"/>\n      </g>\n     </g>\n     <g id=\"text_13\">\n      <!-- 25 -->\n      <g transform=\"translate(21.15625 88.702093)scale(0.1 -0.1)\">\n       <use xlink:href=\"#DejaVuSans-50\"/>\n       <use x=\"63.623047\" xlink:href=\"#DejaVuSans-53\"/>\n      </g>\n     </g>\n    </g>\n    <g id=\"ytick_7\">\n     <g id=\"line2d_14\">\n      <g>\n       <use style=\"stroke:#000000;stroke-width:0.8;\" x=\"40.88125\" xlink:href=\"#md1212a726a\" y=\"53.020176\"/>\n      </g>\n     </g>\n     <g id=\"text_14\">\n      <!-- 30 -->\n      <g transform=\"translate(21.15625 56.819395)scale(0.1 -0.1)\">\n       <use xlink:href=\"#DejaVuSans-51\"/>\n       <use x=\"63.623047\" xlink:href=\"#DejaVuSans-48\"/>\n      </g>\n     </g>\n    </g>\n    <g id=\"text_15\">\n     <!-- product_atc_code -->\n     <g transform=\"translate(14.798438 189.541719)rotate(-90)scale(0.1 -0.1)\">\n      <defs>\n       <path d=\"M 18.109375 8.203125 \nL 18.109375 -20.796875 \nL 9.078125 -20.796875 \nL 9.078125 54.6875 \nL 18.109375 54.6875 \nL 18.109375 46.390625 \nQ 20.953125 51.265625 25.265625 53.625 \nQ 29.59375 56 35.59375 56 \nQ 45.5625 56 51.78125 48.09375 \nQ 58.015625 40.1875 58.015625 27.296875 \nQ 58.015625 14.40625 51.78125 6.484375 \nQ 45.5625 -1.421875 35.59375 -1.421875 \nQ 29.59375 -1.421875 25.265625 0.953125 \nQ 20.953125 3.328125 18.109375 8.203125 \nz\nM 48.6875 27.296875 \nQ 48.6875 37.203125 44.609375 42.84375 \nQ 40.53125 48.484375 33.40625 48.484375 \nQ 26.265625 48.484375 22.1875 42.84375 \nQ 18.109375 37.203125 18.109375 27.296875 \nQ 18.109375 17.390625 22.1875 11.75 \nQ 26.265625 6.109375 33.40625 6.109375 \nQ 40.53125 6.109375 44.609375 11.75 \nQ 48.6875 17.390625 48.6875 27.296875 \nz\n\" id=\"DejaVuSans-112\"/>\n       <path d=\"M 41.109375 46.296875 \nQ 39.59375 47.171875 37.8125 47.578125 \nQ 36.03125 48 33.890625 48 \nQ 26.265625 48 22.1875 43.046875 \nQ 18.109375 38.09375 18.109375 28.8125 \nL 18.109375 0 \nL 9.078125 0 \nL 9.078125 54.6875 \nL 18.109375 54.6875 \nL 18.109375 46.1875 \nQ 20.953125 51.171875 25.484375 53.578125 \nQ 30.03125 56 36.53125 56 \nQ 37.453125 56 38.578125 55.875 \nQ 39.703125 55.765625 41.0625 55.515625 \nz\n\" id=\"DejaVuSans-114\"/>\n       <path d=\"M 30.609375 48.390625 \nQ 23.390625 48.390625 19.1875 42.75 \nQ 14.984375 37.109375 14.984375 27.296875 \nQ 14.984375 17.484375 19.15625 11.84375 \nQ 23.34375 6.203125 30.609375 6.203125 \nQ 37.796875 6.203125 41.984375 11.859375 \nQ 46.1875 17.53125 46.1875 27.296875 \nQ 46.1875 37.015625 41.984375 42.703125 \nQ 37.796875 48.390625 30.609375 48.390625 \nz\nM 30.609375 56 \nQ 42.328125 56 49.015625 48.375 \nQ 55.71875 40.765625 55.71875 27.296875 \nQ 55.71875 13.875 49.015625 6.21875 \nQ 42.328125 -1.421875 30.609375 -1.421875 \nQ 18.84375 -1.421875 12.171875 6.21875 \nQ 5.515625 13.875 5.515625 27.296875 \nQ 5.515625 40.765625 12.171875 48.375 \nQ 18.84375 56 30.609375 56 \nz\n\" id=\"DejaVuSans-111\"/>\n       <path d=\"M 45.40625 46.390625 \nL 45.40625 75.984375 \nL 54.390625 75.984375 \nL 54.390625 0 \nL 45.40625 0 \nL 45.40625 8.203125 \nQ 42.578125 3.328125 38.25 0.953125 \nQ 33.9375 -1.421875 27.875 -1.421875 \nQ 17.96875 -1.421875 11.734375 6.484375 \nQ 5.515625 14.40625 5.515625 27.296875 \nQ 5.515625 40.1875 11.734375 48.09375 \nQ 17.96875 56 27.875 56 \nQ 33.9375 56 38.25 53.625 \nQ 42.578125 51.265625 45.40625 46.390625 \nz\nM 14.796875 27.296875 \nQ 14.796875 17.390625 18.875 11.75 \nQ 22.953125 6.109375 30.078125 6.109375 \nQ 37.203125 6.109375 41.296875 11.75 \nQ 45.40625 17.390625 45.40625 27.296875 \nQ 45.40625 37.203125 41.296875 42.84375 \nQ 37.203125 48.484375 30.078125 48.484375 \nQ 22.953125 48.484375 18.875 42.84375 \nQ 14.796875 37.203125 14.796875 27.296875 \nz\n\" id=\"DejaVuSans-100\"/>\n       <path d=\"M 8.5 21.578125 \nL 8.5 54.6875 \nL 17.484375 54.6875 \nL 17.484375 21.921875 \nQ 17.484375 14.15625 20.5 10.265625 \nQ 23.53125 6.390625 29.59375 6.390625 \nQ 36.859375 6.390625 41.078125 11.03125 \nQ 45.3125 15.671875 45.3125 23.6875 \nL 45.3125 54.6875 \nL 54.296875 54.6875 \nL 54.296875 0 \nL 45.3125 0 \nL 45.3125 8.40625 \nQ 42.046875 3.421875 37.71875 1 \nQ 33.40625 -1.421875 27.6875 -1.421875 \nQ 18.265625 -1.421875 13.375 4.4375 \nQ 8.5 10.296875 8.5 21.578125 \nz\nM 31.109375 56 \nz\n\" id=\"DejaVuSans-117\"/>\n       <path d=\"M 48.78125 52.59375 \nL 48.78125 44.1875 \nQ 44.96875 46.296875 41.140625 47.34375 \nQ 37.3125 48.390625 33.40625 48.390625 \nQ 24.65625 48.390625 19.8125 42.84375 \nQ 14.984375 37.3125 14.984375 27.296875 \nQ 14.984375 17.28125 19.8125 11.734375 \nQ 24.65625 6.203125 33.40625 6.203125 \nQ 37.3125 6.203125 41.140625 7.25 \nQ 44.96875 8.296875 48.78125 10.40625 \nL 48.78125 2.09375 \nQ 45.015625 0.34375 40.984375 -0.53125 \nQ 36.96875 -1.421875 32.421875 -1.421875 \nQ 20.0625 -1.421875 12.78125 6.34375 \nQ 5.515625 14.109375 5.515625 27.296875 \nQ 5.515625 40.671875 12.859375 48.328125 \nQ 20.21875 56 33.015625 56 \nQ 37.15625 56 41.109375 55.140625 \nQ 45.0625 54.296875 48.78125 52.59375 \nz\n\" id=\"DejaVuSans-99\"/>\n       <path d=\"M 18.3125 70.21875 \nL 18.3125 54.6875 \nL 36.8125 54.6875 \nL 36.8125 47.703125 \nL 18.3125 47.703125 \nL 18.3125 18.015625 \nQ 18.3125 11.328125 20.140625 9.421875 \nQ 21.96875 7.515625 27.59375 7.515625 \nL 36.8125 7.515625 \nL 36.8125 0 \nL 27.59375 0 \nQ 17.1875 0 13.234375 3.875 \nQ 9.28125 7.765625 9.28125 18.015625 \nL 9.28125 47.703125 \nL 2.6875 47.703125 \nL 2.6875 54.6875 \nL 9.28125 54.6875 \nL 9.28125 70.21875 \nz\n\" id=\"DejaVuSans-116\"/>\n       <path d=\"M 50.984375 -16.609375 \nL 50.984375 -23.578125 \nL -0.984375 -23.578125 \nL -0.984375 -16.609375 \nz\n\" id=\"DejaVuSans-95\"/>\n       <path d=\"M 34.28125 27.484375 \nQ 23.390625 27.484375 19.1875 25 \nQ 14.984375 22.515625 14.984375 16.5 \nQ 14.984375 11.71875 18.140625 8.90625 \nQ 21.296875 6.109375 26.703125 6.109375 \nQ 34.1875 6.109375 38.703125 11.40625 \nQ 43.21875 16.703125 43.21875 25.484375 \nL 43.21875 27.484375 \nz\nM 52.203125 31.203125 \nL 52.203125 0 \nL 43.21875 0 \nL 43.21875 8.296875 \nQ 40.140625 3.328125 35.546875 0.953125 \nQ 30.953125 -1.421875 24.3125 -1.421875 \nQ 15.921875 -1.421875 10.953125 3.296875 \nQ 6 8.015625 6 15.921875 \nQ 6 25.140625 12.171875 29.828125 \nQ 18.359375 34.515625 30.609375 34.515625 \nL 43.21875 34.515625 \nL 43.21875 35.40625 \nQ 43.21875 41.609375 39.140625 45 \nQ 35.0625 48.390625 27.6875 48.390625 \nQ 23 48.390625 18.546875 47.265625 \nQ 14.109375 46.140625 10.015625 43.890625 \nL 10.015625 52.203125 \nQ 14.9375 54.109375 19.578125 55.046875 \nQ 24.21875 56 28.609375 56 \nQ 40.484375 56 46.34375 49.84375 \nQ 52.203125 43.703125 52.203125 31.203125 \nz\n\" id=\"DejaVuSans-97\"/>\n       <path d=\"M 56.203125 29.59375 \nL 56.203125 25.203125 \nL 14.890625 25.203125 \nQ 15.484375 15.921875 20.484375 11.0625 \nQ 25.484375 6.203125 34.421875 6.203125 \nQ 39.59375 6.203125 44.453125 7.46875 \nQ 49.3125 8.734375 54.109375 11.28125 \nL 54.109375 2.78125 \nQ 49.265625 0.734375 44.1875 -0.34375 \nQ 39.109375 -1.421875 33.890625 -1.421875 \nQ 20.796875 -1.421875 13.15625 6.1875 \nQ 5.515625 13.8125 5.515625 26.8125 \nQ 5.515625 40.234375 12.765625 48.109375 \nQ 20.015625 56 32.328125 56 \nQ 43.359375 56 49.78125 48.890625 \nQ 56.203125 41.796875 56.203125 29.59375 \nz\nM 47.21875 32.234375 \nQ 47.125 39.59375 43.09375 43.984375 \nQ 39.0625 48.390625 32.421875 48.390625 \nQ 24.90625 48.390625 20.390625 44.140625 \nQ 15.875 39.890625 15.1875 32.171875 \nz\n\" id=\"DejaVuSans-101\"/>\n      </defs>\n      <use xlink:href=\"#DejaVuSans-112\"/>\n      <use x=\"63.476562\" xlink:href=\"#DejaVuSans-114\"/>\n      <use x=\"102.339844\" xlink:href=\"#DejaVuSans-111\"/>\n      <use x=\"163.521484\" xlink:href=\"#DejaVuSans-100\"/>\n      <use x=\"226.998047\" xlink:href=\"#DejaVuSans-117\"/>\n      <use x=\"290.376953\" xlink:href=\"#DejaVuSans-99\"/>\n      <use x=\"345.357422\" xlink:href=\"#DejaVuSans-116\"/>\n      <use x=\"384.566406\" xlink:href=\"#DejaVuSans-95\"/>\n      <use x=\"434.566406\" xlink:href=\"#DejaVuSans-97\"/>\n      <use x=\"495.845703\" xlink:href=\"#DejaVuSans-116\"/>\n      <use x=\"535.054688\" xlink:href=\"#DejaVuSans-99\"/>\n      <use x=\"590.035156\" xlink:href=\"#DejaVuSans-95\"/>\n      <use x=\"640.035156\" xlink:href=\"#DejaVuSans-99\"/>\n      <use x=\"695.015625\" xlink:href=\"#DejaVuSans-111\"/>\n      <use x=\"756.197266\" xlink:href=\"#DejaVuSans-100\"/>\n      <use x=\"819.673828\" xlink:href=\"#DejaVuSans-101\"/>\n     </g>\n    </g>\n   </g>\n   <g id=\"line2d_15\">\n    <path clip-path=\"url(#p42c929ab8e)\" d=\"M 111.899432 180.550968 \nL 121.400192 180.550968 \nL 126.150572 53.020176 \nL 159.403232 53.020176 \nL 164.153612 231.563284 \nL 173.654373 231.563284 \nL 178.404753 180.550968 \nL 187.905513 180.550968 \nL 192.655893 244.316364 \nL 292.413874 244.316364 \nL 297.164254 53.020176 \nL 311.415394 53.020176 \nL 316.165774 193.304047 \nL 344.668054 193.304047 \nL 349.418435 110.409032 \nL 354.168815 193.304047 \nL 387.421475 193.304047 \nL 392.171855 180.550968 \nL 415.923755 180.550968 \nL 420.674135 193.304047 \nL 425.424515 53.020176 \nL 430.174895 180.550968 \nL 434.925276 53.020176 \nL 439.675656 244.316364 \nL 496.680216 244.316364 \nL 501.430596 97.655953 \nL 515.681736 97.655953 \nL 520.432117 91.279413 \nL 539.433637 91.279413 \nL 544.184017 193.304047 \nL 572.686297 193.304047 \nL 577.436677 180.550968 \nL 582.187057 46.643636 \nL 586.937437 180.550968 \nL 591.687817 46.643636 \nL 596.438197 180.550968 \nL 601.188577 46.643636 \nL 605.938958 180.550968 \nL 610.689338 46.643636 \nL 615.439718 180.550968 \nL 620.190098 46.643636 \nL 624.940478 180.550968 \nL 629.690858 46.643636 \nL 634.441238 180.550968 \nL 639.191618 46.643636 \nL 643.941998 180.550968 \nL 648.692378 46.643636 \nL 653.442758 180.550968 \nL 658.193138 46.643636 \nL 662.943518 180.550968 \nL 900.462521 180.550968 \nL 905.212901 244.316364 \nL 938.465561 244.316364 \nL 943.215941 97.655953 \nL 947.966321 104.032493 \nL 957.467082 104.032493 \nL 962.217462 244.316364 \nL 976.468602 244.316364 \nL 981.218982 193.304047 \nL 985.969362 244.316364 \nL 990.719742 193.304047 \nL 995.470122 244.316364 \nL 1000.220502 193.304047 \nL 1004.970882 244.316364 \nL 1009.721262 193.304047 \nL 1014.471642 180.550968 \nL 1080.976963 180.550968 \nL 1085.727343 65.773255 \nL 1095.228103 65.773255 \nL 1099.978483 244.316364 \nL 1123.730383 244.316364 \nL 1128.480764 193.304047 \nL 1137.981524 193.304047 \nL 1142.731904 244.316364 \nL 1175.984564 244.316364 \nL 1180.734944 180.550968 \nL 1190.235704 180.550968 \nL 1194.986084 212.433666 \nL 1199.736464 180.550968 \nL 1213.987605 180.550968 \nL 1218.737985 244.316364 \nL 1242.489885 244.316364 \nL 1247.240265 180.550968 \nL 1266.241785 180.550968 \nL 1270.992165 193.304047 \nL 1327.996726 193.304047 \nL 1332.747106 161.421349 \nL 1351.748626 161.421349 \nL 1356.499006 180.550968 \nL 1361.249386 180.550968 \nL 1365.999766 193.304047 \nL 1465.757747 193.304047 \nL 1470.508127 97.655953 \nL 1484.759268 97.655953 \nL 1489.509648 180.550968 \nL 1522.762308 180.550968 \nL 1527.512688 193.304047 \nL 1532.263068 135.915191 \nL 1532.263068 135.915191 \n\" style=\"fill:none;stroke:#1f77b4;stroke-linecap:square;stroke-width:1.5;\"/>\n   </g>\n   <g id=\"line2d_16\">\n    <path clip-path=\"url(#p42c929ab8e)\" d=\"M 111.899432 180.550968 \nL 121.400192 180.550968 \nL 126.150572 53.020176 \nL 130.900952 53.020176 \nL 135.651332 46.643636 \nL 140.401712 53.020176 \nL 159.403232 53.020176 \nL 164.153612 231.563284 \nL 173.654373 231.563284 \nL 178.404753 180.550968 \nL 187.905513 180.550968 \nL 192.655893 244.316364 \nL 197.406273 237.939824 \nL 202.156653 244.316364 \nL 211.657413 244.316364 \nL 216.407793 237.939824 \nL 221.158173 244.316364 \nL 240.159693 244.316364 \nL 244.910073 237.939824 \nL 249.660453 244.316364 \nL 254.410833 244.316364 \nL 259.161214 237.939824 \nL 263.911594 244.316364 \nL 268.661974 244.316364 \nL 273.412354 237.939824 \nL 278.162734 244.316364 \nL 292.413874 244.316364 \nL 297.164254 53.020176 \nL 301.914634 46.643636 \nL 311.415394 46.643636 \nL 316.165774 193.304047 \nL 344.668054 193.304047 \nL 349.418435 110.409032 \nL 354.168815 193.304047 \nL 392.171855 193.304047 \nL 396.922235 180.550968 \nL 415.923755 180.550968 \nL 420.674135 193.304047 \nL 425.424515 186.927507 \nL 430.174895 199.680587 \nL 434.925276 78.526334 \nL 439.675656 244.316364 \nL 444.426036 237.939824 \nL 449.176416 244.316364 \nL 468.177936 244.316364 \nL 472.928316 237.939824 \nL 477.678696 244.316364 \nL 496.680216 244.316364 \nL 501.430596 97.655953 \nL 510.931356 97.655953 \nL 515.681736 91.279413 \nL 534.683257 91.279413 \nL 539.433637 84.902874 \nL 544.184017 193.304047 \nL 572.686297 193.304047 \nL 577.436677 155.044809 \nL 582.187057 72.149795 \nL 586.937437 155.044809 \nL 591.687817 72.149795 \nL 596.438197 155.044809 \nL 601.188577 65.773255 \nL 605.938958 155.044809 \nL 610.689338 72.149795 \nL 615.439718 155.044809 \nL 620.190098 65.773255 \nL 624.940478 155.044809 \nL 629.690858 65.773255 \nL 634.441238 155.044809 \nL 639.191618 65.773255 \nL 643.941998 155.044809 \nL 648.692378 72.149795 \nL 653.442758 155.044809 \nL 658.193138 65.773255 \nL 662.943518 155.044809 \nL 667.693898 180.550968 \nL 900.462521 180.550968 \nL 905.212901 244.316364 \nL 909.963281 237.939824 \nL 914.713661 244.316364 \nL 924.214421 244.316364 \nL 928.964801 237.939824 \nL 933.715181 244.316364 \nL 938.465561 244.316364 \nL 943.215941 97.655953 \nL 947.966321 104.032493 \nL 957.467082 104.032493 \nL 962.217462 244.316364 \nL 966.967842 244.316364 \nL 971.718222 237.939824 \nL 976.468602 193.304047 \nL 981.218982 199.680587 \nL 985.969362 231.563284 \nL 990.719742 199.680587 \nL 995.470122 231.563284 \nL 1000.220502 199.680587 \nL 1004.970882 231.563284 \nL 1009.721262 199.680587 \nL 1014.471642 180.550968 \nL 1080.976963 180.550968 \nL 1085.727343 59.396716 \nL 1090.477723 59.396716 \nL 1095.228103 65.773255 \nL 1099.978483 244.316364 \nL 1104.728863 237.939824 \nL 1109.479243 244.316364 \nL 1123.730383 244.316364 \nL 1128.480764 193.304047 \nL 1137.981524 193.304047 \nL 1142.731904 244.316364 \nL 1147.482284 237.939824 \nL 1161.733424 237.939824 \nL 1166.483804 244.316364 \nL 1171.234184 237.939824 \nL 1175.984564 237.939824 \nL 1180.734944 180.550968 \nL 1185.485324 186.927507 \nL 1190.235704 206.057126 \nL 1194.986084 180.550968 \nL 1199.736464 180.550968 \nL 1204.486844 206.057126 \nL 1209.237224 180.550968 \nL 1213.987605 180.550968 \nL 1218.737985 244.316364 \nL 1242.489885 244.316364 \nL 1247.240265 180.550968 \nL 1266.241785 180.550968 \nL 1270.992165 193.304047 \nL 1327.996726 193.304047 \nL 1332.747106 161.421349 \nL 1351.748626 161.421349 \nL 1356.499006 180.550968 \nL 1365.999766 193.304047 \nL 1465.757747 193.304047 \nL 1470.508127 97.655953 \nL 1484.759268 97.655953 \nL 1489.509648 180.550968 \nL 1522.762308 180.550968 \nL 1527.512688 193.304047 \nL 1532.263068 135.915191 \nL 1532.263068 135.915191 \n\" style=\"fill:none;stroke:#ff0000;stroke-linecap:square;stroke-width:1.5;\"/>\n   </g>\n   <g id=\"patch_3\">\n    <path d=\"M 40.88125 254.2 \nL 40.88125 36.76 \n\" style=\"fill:none;stroke:#000000;stroke-linecap:square;stroke-linejoin:miter;stroke-width:0.8;\"/>\n   </g>\n   <g id=\"patch_4\">\n    <path d=\"M 1603.28125 254.2 \nL 1603.28125 36.76 \n\" style=\"fill:none;stroke:#000000;stroke-linecap:square;stroke-linejoin:miter;stroke-width:0.8;\"/>\n   </g>\n   <g id=\"patch_5\">\n    <path d=\"M 40.88125 254.2 \nL 1603.28125 254.2 \n\" style=\"fill:none;stroke:#000000;stroke-linecap:square;stroke-linejoin:miter;stroke-width:0.8;\"/>\n   </g>\n   <g id=\"patch_6\">\n    <path d=\"M 40.88125 36.76 \nL 1603.28125 36.76 \n\" style=\"fill:none;stroke:#000000;stroke-linecap:square;stroke-linejoin:miter;stroke-width:0.8;\"/>\n   </g>\n  </g>\n  <g id=\"legend_1\">\n   <g id=\"patch_7\">\n    <path d=\"M 1720.646875 37.35625 \nL 1800.08125 37.35625 \nQ 1802.08125 37.35625 1802.08125 35.35625 \nL 1802.08125 7 \nQ 1802.08125 5 1800.08125 5 \nL 1720.646875 5 \nQ 1718.646875 5 1718.646875 7 \nL 1718.646875 35.35625 \nQ 1718.646875 37.35625 1720.646875 37.35625 \nz\n\" style=\"fill:#ffffff;opacity:0.8;stroke:#cccccc;stroke-linejoin:miter;\"/>\n   </g>\n   <g id=\"line2d_17\">\n    <path d=\"M 1722.646875 13.098437 \nL 1742.646875 13.098437 \n\" style=\"fill:none;stroke:#1f77b4;stroke-linecap:square;stroke-width:1.5;\"/>\n   </g>\n   <g id=\"line2d_18\"/>\n   <g id=\"text_16\">\n    <!-- expected -->\n    <g transform=\"translate(1750.646875 16.598437)scale(0.1 -0.1)\">\n     <defs>\n      <path d=\"M 54.890625 54.6875 \nL 35.109375 28.078125 \nL 55.90625 0 \nL 45.3125 0 \nL 29.390625 21.484375 \nL 13.484375 0 \nL 2.875 0 \nL 24.125 28.609375 \nL 4.6875 54.6875 \nL 15.28125 54.6875 \nL 29.78125 35.203125 \nL 44.28125 54.6875 \nz\n\" id=\"DejaVuSans-120\"/>\n     </defs>\n     <use xlink:href=\"#DejaVuSans-101\"/>\n     <use x=\"59.773438\" xlink:href=\"#DejaVuSans-120\"/>\n     <use x=\"118.953125\" xlink:href=\"#DejaVuSans-112\"/>\n     <use x=\"182.429688\" xlink:href=\"#DejaVuSans-101\"/>\n     <use x=\"243.953125\" xlink:href=\"#DejaVuSans-99\"/>\n     <use x=\"298.933594\" xlink:href=\"#DejaVuSans-116\"/>\n     <use x=\"338.142578\" xlink:href=\"#DejaVuSans-101\"/>\n     <use x=\"399.666016\" xlink:href=\"#DejaVuSans-100\"/>\n    </g>\n   </g>\n   <g id=\"line2d_19\">\n    <path d=\"M 1722.646875 27.776562 \nL 1742.646875 27.776562 \n\" style=\"fill:none;stroke:#ff0000;stroke-linecap:square;stroke-width:1.5;\"/>\n   </g>\n   <g id=\"line2d_20\"/>\n   <g id=\"text_17\">\n    <!-- predicted -->\n    <g transform=\"translate(1750.646875 31.276562)scale(0.1 -0.1)\">\n     <defs>\n      <path d=\"M 9.421875 54.6875 \nL 18.40625 54.6875 \nL 18.40625 0 \nL 9.421875 0 \nz\nM 9.421875 75.984375 \nL 18.40625 75.984375 \nL 18.40625 64.59375 \nL 9.421875 64.59375 \nz\n\" id=\"DejaVuSans-105\"/>\n     </defs>\n     <use xlink:href=\"#DejaVuSans-112\"/>\n     <use x=\"63.476562\" xlink:href=\"#DejaVuSans-114\"/>\n     <use x=\"102.339844\" xlink:href=\"#DejaVuSans-101\"/>\n     <use x=\"163.863281\" xlink:href=\"#DejaVuSans-100\"/>\n     <use x=\"227.339844\" xlink:href=\"#DejaVuSans-105\"/>\n     <use x=\"255.123047\" xlink:href=\"#DejaVuSans-99\"/>\n     <use x=\"310.103516\" xlink:href=\"#DejaVuSans-116\"/>\n     <use x=\"349.3125\" xlink:href=\"#DejaVuSans-101\"/>\n     <use x=\"410.835938\" xlink:href=\"#DejaVuSans-100\"/>\n    </g>\n   </g>\n  </g>\n </g>\n <defs>\n  <clipPath id=\"p42c929ab8e\">\n   <rect height=\"217.44\" width=\"1562.4\" x=\"40.88125\" y=\"36.76\"/>\n  </clipPath>\n </defs>\n</svg>\n",
      "image/png": "[encoded data removed]"
     },
     "metadata": {
      "needs_background": "light"
     }
    }
   ],
   "source": [
    "SLICE_START = 2000\n",
    "SLICE_SIZE = 300\n",
    "SLICE_END = SLICE_START + SLICE_SIZE\n",
    "fig, axs = plt.subplots(1,len(yColumNames),figsize=(7*4*len(yColumNames),4),sharex=True)\n",
    "\n",
    "ax1 = axs if len(yColumNames) == 1 else axs[0]\n",
    "ax1.plot(yTest[SLICE_START:SLICE_END,0],label='expected')\n",
    "ax1.plot(predictions[SLICE_START:SLICE_END,0].astype(int),color='r',label='predicted')\n",
    "ax1.set(ylabel=yColumNames[0])\n",
    "\n",
    "for i in range(1,len(yColumNames)):\n",
    "    ax = axs[i-1]\n",
    "    ax.set(ylabel=yColumNames[i])\n",
    "    ax.plot(yTest[SLICE_START:SLICE_END,i])\n",
    "    ax.plot(predictions[SLICE_START:SLICE_END,i],color='r')\n",
    "\n",
    "fig.legend()\n",
    "fig.show()"
   ]
  },
  {
   "cell_type": "code",
   "execution_count": null,
   "metadata": {},
   "outputs": [],
   "source": []
  }
 ]
}